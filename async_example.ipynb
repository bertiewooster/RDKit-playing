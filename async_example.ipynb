{
 "cells": [
  {
   "cell_type": "code",
   "execution_count": 2,
   "metadata": {},
   "outputs": [
    {
     "ename": "ModuleNotFoundError",
     "evalue": "No module named 'aiohttp'",
     "output_type": "error",
     "traceback": [
      "\u001b[0;31m---------------------------------------------------------------------------\u001b[0m",
      "\u001b[0;31mModuleNotFoundError\u001b[0m                       Traceback (most recent call last)",
      "\u001b[1;32m/Users/jemonat/Projects/RDKit-playing/async_example.ipynb Cell 1\u001b[0m in \u001b[0;36m<cell line: 3>\u001b[0;34m()\u001b[0m\n\u001b[1;32m      <a href='vscode-notebook-cell:/Users/jemonat/Projects/RDKit-playing/async_example.ipynb#W0sZmlsZQ%3D%3D?line=0'>1</a>\u001b[0m \u001b[39mimport\u001b[39;00m \u001b[39masyncio\u001b[39;00m\n\u001b[0;32m----> <a href='vscode-notebook-cell:/Users/jemonat/Projects/RDKit-playing/async_example.ipynb#W0sZmlsZQ%3D%3D?line=2'>3</a>\u001b[0m \u001b[39mimport\u001b[39;00m \u001b[39maiohttp\u001b[39;00m\n\u001b[1;32m      <a href='vscode-notebook-cell:/Users/jemonat/Projects/RDKit-playing/async_example.ipynb#W0sZmlsZQ%3D%3D?line=4'>5</a>\u001b[0m \u001b[39mfrom\u001b[39;00m \u001b[39mcodetiming\u001b[39;00m \u001b[39mimport\u001b[39;00m Timer\n\u001b[1;32m      <a href='vscode-notebook-cell:/Users/jemonat/Projects/RDKit-playing/async_example.ipynb#W0sZmlsZQ%3D%3D?line=7'>8</a>\u001b[0m \u001b[39masync\u001b[39;00m \u001b[39mdef\u001b[39;00m \u001b[39mtask\u001b[39m(name, work_queue):\n",
      "\u001b[0;31mModuleNotFoundError\u001b[0m: No module named 'aiohttp'"
     ]
    }
   ],
   "source": [
    "# Source: https://realpython.com/python-async-features/#asynchronous-non-blocking-http-calls\n",
    "import asyncio\n",
    "\n",
    "import aiohttp\n",
    "\n",
    "from codetiming import Timer\n",
    "\n",
    "\n",
    "async def task(name, work_queue):\n",
    "\n",
    "    timer = Timer(text=f\"Task {name} elapsed time: {{:.1f}}\")\n",
    "\n",
    "    async with aiohttp.ClientSession() as session:\n",
    "\n",
    "        while not work_queue.empty():\n",
    "\n",
    "            url = await work_queue.get()\n",
    "\n",
    "            print(f\"Task {name} getting URL: {url}\")\n",
    "\n",
    "            timer.start()\n",
    "\n",
    "            async with session.get(url) as response:\n",
    "\n",
    "                await response.text()\n",
    "\n",
    "            timer.stop()\n",
    "\n",
    "\n",
    "async def main():\n",
    "\n",
    "    \"\"\"\n",
    "\n",
    "    This is the main entry point for the program\n",
    "\n",
    "    \"\"\"\n",
    "\n",
    "    # Create the queue of work\n",
    "\n",
    "    work_queue = asyncio.Queue()\n",
    "\n",
    "\n",
    "    # Put some work in the queue\n",
    "\n",
    "    for url in [\n",
    "\n",
    "        \"http://google.com\",\n",
    "\n",
    "        \"http://yahoo.com\",\n",
    "\n",
    "        \"http://linkedin.com\",\n",
    "\n",
    "        \"http://apple.com\",\n",
    "\n",
    "        \"http://microsoft.com\",\n",
    "\n",
    "        \"http://facebook.com\",\n",
    "\n",
    "        \"http://twitter.com\",\n",
    "\n",
    "    ]:\n",
    "\n",
    "        await work_queue.put(url)\n",
    "\n",
    "\n",
    "    # Run the tasks\n",
    "\n",
    "    with Timer(text=\"\\nTotal elapsed time: {:.1f}\"):\n",
    "\n",
    "        await asyncio.gather(\n",
    "\n",
    "            asyncio.create_task(task(\"One\", work_queue)),\n",
    "\n",
    "            asyncio.create_task(task(\"Two\", work_queue)),\n",
    "\n",
    "        )\n",
    "\n",
    "\n",
    "if __name__ == \"__main__\":\n",
    "\n",
    "    asyncio.run(main())\n",
    "\n",
    "asyncio.run(main())"
   ]
  }
 ],
 "metadata": {
  "kernelspec": {
   "display_name": "Python 3",
   "language": "python",
   "name": "python3"
  },
  "language_info": {
   "codemirror_mode": {
    "name": "ipython",
    "version": 3
   },
   "file_extension": ".py",
   "mimetype": "text/x-python",
   "name": "python",
   "nbconvert_exporter": "python",
   "pygments_lexer": "ipython3",
   "version": "3.10.4 (main, Mar 31 2022, 03:38:35) [Clang 12.0.0 ]"
  },
  "orig_nbformat": 4,
  "vscode": {
   "interpreter": {
    "hash": "f8b9e48fa26c0cee807577a4309d1f208b4f08c0094fff1e9a87a3043a77ce60"
   }
  }
 },
 "nbformat": 4,
 "nbformat_minor": 2
}
