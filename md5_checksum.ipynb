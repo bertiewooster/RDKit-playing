{
 "cells": [
  {
   "cell_type": "code",
   "execution_count": 2,
   "metadata": {},
   "outputs": [
    {
     "name": "stdout",
     "output_type": "stream",
     "text": [
      "MD5 checksum: b802d6ed8b4eb5f3eaf0782cba3499aa\n"
     ]
    }
   ],
   "source": [
    "import hashlib\n",
    "\n",
    "def get_md5_checksum(file_path):\n",
    "    md5_hash = hashlib.md5()\n",
    "    with open(file_path, \"rb\") as f:\n",
    "        for byte_block in iter(lambda: f.read(4096), b\"\"):\n",
    "            md5_hash.update(byte_block)\n",
    "    return md5_hash.hexdigest()\n",
    "\n",
    "file_path = \"/Users/jemonat/Downloads/INCHI-1-SRC from GitHub.zip\"\n",
    "checksum = get_md5_checksum(file_path)\n",
    "print(f\"MD5 checksum: {checksum}\")"
   ]
  }
 ],
 "metadata": {
  "kernelspec": {
   "display_name": "venv",
   "language": "python",
   "name": "python3"
  },
  "language_info": {
   "codemirror_mode": {
    "name": "ipython",
    "version": 3
   },
   "file_extension": ".py",
   "mimetype": "text/x-python",
   "name": "python",
   "nbconvert_exporter": "python",
   "pygments_lexer": "ipython3",
   "version": "3.11.7"
  }
 },
 "nbformat": 4,
 "nbformat_minor": 2
}
