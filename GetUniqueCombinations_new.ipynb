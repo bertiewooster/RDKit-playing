{
 "cells": [
  {
   "cell_type": "code",
   "execution_count": 1,
   "metadata": {},
   "outputs": [],
   "source": [
    "import itertools"
   ]
  },
  {
   "cell_type": "code",
   "execution_count": 2,
   "metadata": {},
   "outputs": [],
   "source": [
    "def GetUniqueCombinations(choices, classes, which=0):\n",
    "  \"\"\"  Does the old combinatorial explosion of the possible combinations\n",
    "    of the elements of _choices_.\n",
    "\n",
    "    \"\"\"\n",
    "  #   print(choices, classes)\n",
    "  assert len(choices) == len(classes)\n",
    "  if which >= len(choices):\n",
    "    return []\n",
    "  if which == len(choices) - 1:\n",
    "    return [[(classes[which], x)] for x in choices[which]]\n",
    "\n",
    "  res = []\n",
    "  tmp = GetUniqueCombinations(choices, classes, which=which + 1)\n",
    "  for thing in choices[which]:\n",
    "    for other in tmp:\n",
    "      if not any(x[1] == thing for x in other):\n",
    "        newL = [(classes[which], thing)] + other\n",
    "        newL.sort()\n",
    "        if newL not in res:\n",
    "          res.append(newL)\n",
    "  return res"
   ]
  },
  {
   "cell_type": "code",
   "execution_count": 3,
   "metadata": {},
   "outputs": [],
   "source": [
    "def GetUniqueCombinations_new(choices, classes):\n",
    "  \"\"\"  Does the new combinatorial explosion of the possible combinations\n",
    "    of the elements of _choices_.\n",
    "\n",
    "    \"\"\"\n",
    "  #   print(choices, classes)\n",
    "  assert len(choices) == len(classes)\n",
    "  combos = set()\n",
    "  for choice in itertools.product(*choices):\n",
    "    # If a choice occurs in more than one of the fields, we ignore this case\n",
    "    if len(set(choice)) != len(choice):\n",
    "      continue\n",
    "    combos.add(tuple(sorted((cls, ch) for cls, ch in zip(classes, choice))))\n",
    "  return [list(combo) for combo in sorted(combos)]\n"
   ]
  },
  {
   "cell_type": "code",
   "execution_count": 4,
   "metadata": {},
   "outputs": [],
   "source": [
    "def compareCombinations(old, new):\n",
    "    if sorted(old) != sorted(new):\n",
    "      print(old)\n",
    "    assert sorted(old) == sorted(new), 'Combinations are different'\n",
    "    print(\"Combinations are the same when sorted\")\n",
    "    if old != new:\n",
    "      for item_num in range(len(old)):\n",
    "        print(f\"old[{item_num}] = {old[item_num]}\")\n",
    "        print(f\"new[{item_num}] = {new[item_num]}\")\n",
    "        if old[item_num] == new[item_num]:\n",
    "          print(\"^--same\")\n",
    "        else:\n",
    "          for compare_item in range(len(old)):\n",
    "            if old[item_num] == new[compare_item]:\n",
    "              print(f\"^--different but old[{item_num}] is the same as new[{compare_item}]\")\n",
    "              break\n",
    "          else:\n",
    "            print(\"^--different; no match found\")\n",
    "      print(f\"{old=}\")\n",
    "      print(f\"{new=}\")\n",
    "    assert old == new, 'Combinations are not in the same order'\n"
   ]
  },
  {
   "cell_type": "code",
   "execution_count": 21,
   "metadata": {},
   "outputs": [
    {
     "data": {
      "text/plain": [
       "(17, 17)"
      ]
     },
     "execution_count": 21,
     "metadata": {},
     "output_type": "execute_result"
    }
   ],
   "source": [
    "# Enough so the new function takes an appreciable but short time\n",
    "choices = [[(11,), (12,)], [(21,), (22,)], [(31,), (32,)], [(41,), (42,)], [(51,), (52,)], [(61,), (62,)], [(71,), (72,)], [(81,), (82,)], [(91,), (92,)], [(101,), (102,)], [(111,), (112,)], [(121,), (122,)], [(131,), (132,)], [(141,), (142,)], [(151,), (152,)], [(161,), (162,)], [(171,), (172,)]]\n",
    "# Make the length of classes the same as the length of choices\n",
    "classes = [1, 2, 3, 4, 5, 6, 7, 8, 9, 10, 11, 12, 13, 14, 15, 16, 17]\n",
    "len(choices), len(classes)"
   ]
  },
  {
   "cell_type": "code",
   "execution_count": 22,
   "metadata": {},
   "outputs": [],
   "source": [
    "new = GetUniqueCombinations_new(choices, classes)"
   ]
  },
  {
   "cell_type": "code",
   "execution_count": 23,
   "metadata": {},
   "outputs": [],
   "source": [
    "old = GetUniqueCombinations(choices, classes)"
   ]
  },
  {
   "cell_type": "code",
   "execution_count": 24,
   "metadata": {},
   "outputs": [
    {
     "data": {
      "text/plain": [
       "True"
      ]
     },
     "execution_count": 24,
     "metadata": {},
     "output_type": "execute_result"
    }
   ],
   "source": [
    "old == new"
   ]
  },
  {
   "cell_type": "code",
   "execution_count": 10,
   "metadata": {},
   "outputs": [
    {
     "data": {
      "text/plain": [
       "True"
      ]
     },
     "execution_count": 10,
     "metadata": {},
     "output_type": "execute_result"
    }
   ],
   "source": [
    "choices = [[(11,), (12,)], [(21,), (22,)], [(31,), (32,)]]\n",
    "classes = [1, 1, 2]\n",
    "old = GetUniqueCombinations(choices, classes)\n",
    "new = GetUniqueCombinations_new(choices, classes)\n",
    "old == new"
   ]
  },
  {
   "cell_type": "code",
   "execution_count": 11,
   "metadata": {},
   "outputs": [
    {
     "data": {
      "text/plain": [
       "True"
      ]
     },
     "execution_count": 11,
     "metadata": {},
     "output_type": "execute_result"
    }
   ],
   "source": [
    "choices = [[(11,), (12,)], [(11,), (12,)], [(31,), (32,)]]\n",
    "classes = [1, 1, 2]\n",
    "old = GetUniqueCombinations(choices, classes)\n",
    "new = GetUniqueCombinations_new(choices, classes)\n",
    "old == new"
   ]
  },
  {
   "cell_type": "code",
   "execution_count": 12,
   "metadata": {},
   "outputs": [
    {
     "data": {
      "text/plain": [
       "True"
      ]
     },
     "execution_count": 12,
     "metadata": {},
     "output_type": "execute_result"
    }
   ],
   "source": [
    "choices = [[(11,), (12,)], [(11,), (12,), (13,)], [(31,), (32,)]]\n",
    "classes = [1, 1, 2]\n",
    "old = GetUniqueCombinations(choices, classes)\n",
    "new = GetUniqueCombinations_new(choices, classes)\n",
    "old == new"
   ]
  },
  {
   "cell_type": "code",
   "execution_count": 13,
   "metadata": {},
   "outputs": [
    {
     "name": "stdout",
     "output_type": "stream",
     "text": [
      "old == new=False\n",
      "Combinations are the same when sorted\n",
      "old[0] = [(1, (11,)), (1, (12,)), (2, (31,))]\n",
      "new[0] = [(1, (11,)), (1, (12,)), (2, (31,))]\n",
      "^--same\n",
      "old[1] = [(1, (11,)), (1, (12,)), (2, (32,))]\n",
      "new[1] = [(1, (11,)), (1, (12,)), (2, (32,))]\n",
      "^--same\n",
      "old[2] = [(1, (11,)), (1, (13,)), (2, (31,))]\n",
      "new[2] = [(1, (11,)), (1, (13,)), (2, (31,))]\n",
      "^--same\n",
      "old[3] = [(1, (11,)), (1, (13,)), (2, (32,))]\n",
      "new[3] = [(1, (11,)), (1, (13,)), (2, (32,))]\n",
      "^--same\n",
      "old[4] = [(1, (12,)), (1, (13,)), (2, (31,))]\n",
      "new[4] = [(1, (11,)), (1, (14,)), (2, (31,))]\n",
      "^--different but old[4] is the same as new[6]\n",
      "old[5] = [(1, (12,)), (1, (13,)), (2, (32,))]\n",
      "new[5] = [(1, (11,)), (1, (14,)), (2, (32,))]\n",
      "^--different but old[5] is the same as new[7]\n",
      "old[6] = [(1, (11,)), (1, (14,)), (2, (31,))]\n",
      "new[6] = [(1, (12,)), (1, (13,)), (2, (31,))]\n",
      "^--different but old[6] is the same as new[4]\n",
      "old[7] = [(1, (11,)), (1, (14,)), (2, (32,))]\n",
      "new[7] = [(1, (12,)), (1, (13,)), (2, (32,))]\n",
      "^--different but old[7] is the same as new[5]\n",
      "old[8] = [(1, (12,)), (1, (14,)), (2, (31,))]\n",
      "new[8] = [(1, (12,)), (1, (14,)), (2, (31,))]\n",
      "^--same\n",
      "old[9] = [(1, (12,)), (1, (14,)), (2, (32,))]\n",
      "new[9] = [(1, (12,)), (1, (14,)), (2, (32,))]\n",
      "^--same\n",
      "old[10] = [(1, (13,)), (1, (14,)), (2, (31,))]\n",
      "new[10] = [(1, (13,)), (1, (14,)), (2, (31,))]\n",
      "^--same\n",
      "old[11] = [(1, (13,)), (1, (14,)), (2, (32,))]\n",
      "new[11] = [(1, (13,)), (1, (14,)), (2, (32,))]\n",
      "^--same\n",
      "old=[[(1, (11,)), (1, (12,)), (2, (31,))], [(1, (11,)), (1, (12,)), (2, (32,))], [(1, (11,)), (1, (13,)), (2, (31,))], [(1, (11,)), (1, (13,)), (2, (32,))], [(1, (12,)), (1, (13,)), (2, (31,))], [(1, (12,)), (1, (13,)), (2, (32,))], [(1, (11,)), (1, (14,)), (2, (31,))], [(1, (11,)), (1, (14,)), (2, (32,))], [(1, (12,)), (1, (14,)), (2, (31,))], [(1, (12,)), (1, (14,)), (2, (32,))], [(1, (13,)), (1, (14,)), (2, (31,))], [(1, (13,)), (1, (14,)), (2, (32,))]]\n",
      "new=[[(1, (11,)), (1, (12,)), (2, (31,))], [(1, (11,)), (1, (12,)), (2, (32,))], [(1, (11,)), (1, (13,)), (2, (31,))], [(1, (11,)), (1, (13,)), (2, (32,))], [(1, (11,)), (1, (14,)), (2, (31,))], [(1, (11,)), (1, (14,)), (2, (32,))], [(1, (12,)), (1, (13,)), (2, (31,))], [(1, (12,)), (1, (13,)), (2, (32,))], [(1, (12,)), (1, (14,)), (2, (31,))], [(1, (12,)), (1, (14,)), (2, (32,))], [(1, (13,)), (1, (14,)), (2, (31,))], [(1, (13,)), (1, (14,)), (2, (32,))]]\n",
      "Combinations are not in the same order\n"
     ]
    }
   ],
   "source": [
    "choices = [[(11,), (12,), (14,)], [(11,), (12,), (13,)], [(31,), (32,)]]\n",
    "classes = [1, 1, 2]\n",
    "old = GetUniqueCombinations(choices, classes)\n",
    "new = GetUniqueCombinations_new(choices, classes)\n",
    "print(f\"{old == new=}\")\n",
    "try:\n",
    "    compareCombinations(old, new)\n",
    "except AssertionError as e:\n",
    "    print(e)"
   ]
  },
  {
   "cell_type": "code",
   "execution_count": 14,
   "metadata": {},
   "outputs": [
    {
     "name": "stdout",
     "output_type": "stream",
     "text": [
      "old == new=False\n",
      "Combinations are the same when sorted\n",
      "old[0] = [(1, (11, 111)), (1, (12,)), (2, (31,))]\n",
      "new[0] = [(1, (11, 111)), (1, (12,)), (2, (31,))]\n",
      "^--same\n",
      "old[1] = [(1, (11, 111)), (1, (12,)), (2, (32,))]\n",
      "new[1] = [(1, (11, 111)), (1, (12,)), (2, (32,))]\n",
      "^--same\n",
      "old[2] = [(1, (11, 111)), (1, (13,)), (2, (31,))]\n",
      "new[2] = [(1, (11, 111)), (1, (13,)), (2, (31,))]\n",
      "^--same\n",
      "old[3] = [(1, (11, 111)), (1, (13,)), (2, (32,))]\n",
      "new[3] = [(1, (11, 111)), (1, (13,)), (2, (32,))]\n",
      "^--same\n",
      "old[4] = [(1, (12,)), (1, (13,)), (2, (31,))]\n",
      "new[4] = [(1, (11, 111)), (1, (14,)), (2, (31,))]\n",
      "^--different but old[4] is the same as new[6]\n",
      "old[5] = [(1, (12,)), (1, (13,)), (2, (32,))]\n",
      "new[5] = [(1, (11, 111)), (1, (14,)), (2, (32,))]\n",
      "^--different but old[5] is the same as new[7]\n",
      "old[6] = [(1, (11, 111)), (1, (14,)), (2, (31,))]\n",
      "new[6] = [(1, (12,)), (1, (13,)), (2, (31,))]\n",
      "^--different but old[6] is the same as new[4]\n",
      "old[7] = [(1, (11, 111)), (1, (14,)), (2, (32,))]\n",
      "new[7] = [(1, (12,)), (1, (13,)), (2, (32,))]\n",
      "^--different but old[7] is the same as new[5]\n",
      "old[8] = [(1, (12,)), (1, (14,)), (2, (31,))]\n",
      "new[8] = [(1, (12,)), (1, (14,)), (2, (31,))]\n",
      "^--same\n",
      "old[9] = [(1, (12,)), (1, (14,)), (2, (32,))]\n",
      "new[9] = [(1, (12,)), (1, (14,)), (2, (32,))]\n",
      "^--same\n",
      "old[10] = [(1, (13,)), (1, (14,)), (2, (31,))]\n",
      "new[10] = [(1, (13,)), (1, (14,)), (2, (31,))]\n",
      "^--same\n",
      "old[11] = [(1, (13,)), (1, (14,)), (2, (32,))]\n",
      "new[11] = [(1, (13,)), (1, (14,)), (2, (32,))]\n",
      "^--same\n",
      "old=[[(1, (11, 111)), (1, (12,)), (2, (31,))], [(1, (11, 111)), (1, (12,)), (2, (32,))], [(1, (11, 111)), (1, (13,)), (2, (31,))], [(1, (11, 111)), (1, (13,)), (2, (32,))], [(1, (12,)), (1, (13,)), (2, (31,))], [(1, (12,)), (1, (13,)), (2, (32,))], [(1, (11, 111)), (1, (14,)), (2, (31,))], [(1, (11, 111)), (1, (14,)), (2, (32,))], [(1, (12,)), (1, (14,)), (2, (31,))], [(1, (12,)), (1, (14,)), (2, (32,))], [(1, (13,)), (1, (14,)), (2, (31,))], [(1, (13,)), (1, (14,)), (2, (32,))]]\n",
      "new=[[(1, (11, 111)), (1, (12,)), (2, (31,))], [(1, (11, 111)), (1, (12,)), (2, (32,))], [(1, (11, 111)), (1, (13,)), (2, (31,))], [(1, (11, 111)), (1, (13,)), (2, (32,))], [(1, (11, 111)), (1, (14,)), (2, (31,))], [(1, (11, 111)), (1, (14,)), (2, (32,))], [(1, (12,)), (1, (13,)), (2, (31,))], [(1, (12,)), (1, (13,)), (2, (32,))], [(1, (12,)), (1, (14,)), (2, (31,))], [(1, (12,)), (1, (14,)), (2, (32,))], [(1, (13,)), (1, (14,)), (2, (31,))], [(1, (13,)), (1, (14,)), (2, (32,))]]\n",
      "Combinations are not in the same order\n"
     ]
    }
   ],
   "source": [
    "choices = [[(11, 111,), (12,), (14,)], [(11, 111,), (12,), (13,)], [(31,), (32,)]]\n",
    "classes = [1, 1, 2]\n",
    "old = GetUniqueCombinations(choices, classes)\n",
    "new = GetUniqueCombinations_new(choices, classes)\n",
    "print(f\"{old == new=}\")\n",
    "try:\n",
    "    compareCombinations(old, new)\n",
    "except AssertionError as e:\n",
    "    print(e)"
   ]
  },
  {
   "cell_type": "code",
   "execution_count": 15,
   "metadata": {},
   "outputs": [
    {
     "name": "stdout",
     "output_type": "stream",
     "text": [
      "old == new=False\n",
      "Combinations are the same when sorted\n",
      "old[0] = [(1, (11,)), (1, (13,)), (1, (14,))]\n",
      "new[0] = [(1, (11,)), (1, (12,)), (1, (13,))]\n",
      "^--different but old[0] is the same as new[2]\n",
      "old[1] = [(1, (11,)), (1, (12,)), (1, (14,))]\n",
      "new[1] = [(1, (11,)), (1, (12,)), (1, (14,))]\n",
      "^--same\n",
      "old[2] = [(1, (11,)), (1, (12,)), (1, (13,))]\n",
      "new[2] = [(1, (11,)), (1, (13,)), (1, (14,))]\n",
      "^--different but old[2] is the same as new[0]\n",
      "old[3] = [(1, (12,)), (1, (13,)), (1, (14,))]\n",
      "new[3] = [(1, (12,)), (1, (13,)), (1, (14,))]\n",
      "^--same\n",
      "old=[[(1, (11,)), (1, (13,)), (1, (14,))], [(1, (11,)), (1, (12,)), (1, (14,))], [(1, (11,)), (1, (12,)), (1, (13,))], [(1, (12,)), (1, (13,)), (1, (14,))]]\n",
      "new=[[(1, (11,)), (1, (12,)), (1, (13,))], [(1, (11,)), (1, (12,)), (1, (14,))], [(1, (11,)), (1, (13,)), (1, (14,))], [(1, (12,)), (1, (13,)), (1, (14,))]]\n",
      "Combinations are not in the same order\n"
     ]
    }
   ],
   "source": [
    "choices = [[(11,), (12,), ], [(11,), (13,), ], [(11,), (14,), ]]\n",
    "classes = [1, 1, 1]\n",
    "old = GetUniqueCombinations(choices, classes)\n",
    "new = GetUniqueCombinations_new(choices, classes)\n",
    "print(f\"{old == new=}\")\n",
    "try:\n",
    "    compareCombinations(old, new)\n",
    "except AssertionError as e:\n",
    "    print(e)"
   ]
  },
  {
   "cell_type": "code",
   "execution_count": 16,
   "metadata": {},
   "outputs": [
    {
     "data": {
      "text/plain": [
       "True"
      ]
     },
     "execution_count": 16,
     "metadata": {},
     "output_type": "execute_result"
    }
   ],
   "source": [
    "choices = [[(0,), (4,)], [(0,)]]\n",
    "classes = [0, 1]\n",
    "old = GetUniqueCombinations(choices, classes)\n",
    "new = GetUniqueCombinations_new(choices, classes)\n",
    "old == new"
   ]
  },
  {
   "cell_type": "code",
   "execution_count": 17,
   "metadata": {},
   "outputs": [
    {
     "data": {
      "text/plain": [
       "True"
      ]
     },
     "execution_count": 17,
     "metadata": {},
     "output_type": "execute_result"
    }
   ],
   "source": [
    "choices = [[], [], []]\n",
    "classes = [0, 1, 1]\n",
    "old = GetUniqueCombinations(choices, classes)\n",
    "new = GetUniqueCombinations_new(choices, classes)\n",
    "old == new"
   ]
  },
  {
   "cell_type": "code",
   "execution_count": 18,
   "metadata": {},
   "outputs": [
    {
     "data": {
      "text/plain": [
       "True"
      ]
     },
     "execution_count": 18,
     "metadata": {},
     "output_type": "execute_result"
    }
   ],
   "source": [
    "choices = [[(0,), (4,)], [(0,), (4,)], [(0,), (4,)]]\n",
    "classes = [0, 0, 0]\n",
    "old = GetUniqueCombinations(choices, classes)\n",
    "new = GetUniqueCombinations_new(choices, classes)\n",
    "old == new"
   ]
  },
  {
   "cell_type": "code",
   "execution_count": 19,
   "metadata": {},
   "outputs": [
    {
     "data": {
      "text/plain": [
       "True"
      ]
     },
     "execution_count": 19,
     "metadata": {},
     "output_type": "execute_result"
    }
   ],
   "source": [
    "choices = [[(0,), (4,)], [(0,), (4,)], []]\n",
    "classes = [0, 0, 1]\n",
    "old = GetUniqueCombinations(choices, classes)\n",
    "new = GetUniqueCombinations_new(choices, classes)\n",
    "old == new"
   ]
  },
  {
   "cell_type": "code",
   "execution_count": 20,
   "metadata": {},
   "outputs": [
    {
     "data": {
      "text/plain": [
       "True"
      ]
     },
     "execution_count": 20,
     "metadata": {},
     "output_type": "execute_result"
    }
   ],
   "source": [
    "choices = [[(4,), (6,), (7,), (10,)], [(2,), (3,), (5,), (13,), (14,)],\n",
    "            [(2,), (3,), (5,), (13,), (14,)]]\n",
    "classes = [0, 1, 1]\n",
    "old = GetUniqueCombinations(choices, classes)\n",
    "new = GetUniqueCombinations_new(choices, classes)\n",
    "old == new"
   ]
  }
 ],
 "metadata": {
  "kernelspec": {
   "display_name": "venv",
   "language": "python",
   "name": "python3"
  },
  "language_info": {
   "codemirror_mode": {
    "name": "ipython",
    "version": 3
   },
   "file_extension": ".py",
   "mimetype": "text/x-python",
   "name": "python",
   "nbconvert_exporter": "python",
   "pygments_lexer": "ipython3",
   "version": "3.11.7"
  }
 },
 "nbformat": 4,
 "nbformat_minor": 2
}
