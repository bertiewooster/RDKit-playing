{
 "cells": [
  {
   "cell_type": "code",
   "execution_count": 22,
   "metadata": {},
   "outputs": [],
   "source": [
    "from indigo import Indigo\n",
    "from indigo.renderer import IndigoRenderer\n",
    "\n",
    "# Initialize Indigo and IndigoRenderer\n",
    "indigo = Indigo()\n",
    "indigoRenderer = IndigoRenderer(indigo)"
   ]
  },
  {
   "cell_type": "code",
   "execution_count": null,
   "metadata": {},
   "outputs": [
    {
     "name": "stdout",
     "output_type": "stream",
     "text": [
      "molecule (C)\n",
      "molecule (C=CCC)\n",
      "molecule (CCC(CCCCC)CC)\n",
      "molecule (CCC(CC(CCC)CC)CC)\n",
      "molecule (CCC(CCCCC)CC(CC(C)C)C)\n",
      "molecule (C1CCCCCCC1)\n",
      "molecule (C1CCCC(CC)CC(C)C1)\n",
      "molecule (C1C=CC=CC=CC=CC=CC=1)\n"
     ]
    }
   ],
   "source": [
    "names = [\"methane\", \"butene\",\n",
    "         \"3-ethyl-octane\", \"3,5-diethyl-octane\",\n",
    "         \"3-(2,4-dimethyl-pentyl)-octane\", \"cyclooctane\",\n",
    "         \"3-methyl-5-ethyl-cyclooctane\", \"cyclododeca-1,3,5,7,9,11-hexaene\"]\n",
    "\n",
    "array = indigo.createArray()\n",
    "for n in names:\n",
    "    mol = indigo.nameToStructure(n)\n",
    "    mol.layout()\n",
    "    mol.setProperty(\"grid-comment\", n)\n",
    "    array.arrayAdd(mol)\n",
    "    print(mol)\n",
    "\n",
    "indigo.setOption(\"render-grid-title-property\", \"grid-comment\")\n",
    "indigo.setOption(\"render-grid-margins\", \"20, 10\")\n",
    "indigo.setOption(\"render-grid-title-offset\", \"5\")"
   ]
  },
  {
   "cell_type": "code",
   "execution_count": 26,
   "metadata": {},
   "outputs": [],
   "source": [
    "indigoRenderer.renderGridToFile(array, None, 2, 'result.png')"
   ]
  },
  {
   "cell_type": "code",
   "execution_count": 28,
   "metadata": {},
   "outputs": [
    {
     "ename": "IndigoException",
     "evalue": "render context: mode not set",
     "output_type": "error",
     "traceback": [
      "\u001b[0;31m---------------------------------------------------------------------------\u001b[0m",
      "\u001b[0;31mIndigoException\u001b[0m                           Traceback (most recent call last)",
      "Cell \u001b[0;32mIn[28], line 1\u001b[0m\n\u001b[0;32m----> 1\u001b[0m \u001b[43mindigoRenderer\u001b[49m\u001b[38;5;241;43m.\u001b[39;49m\u001b[43mrenderToBuffer\u001b[49m\u001b[43m(\u001b[49m\u001b[43mmol\u001b[49m\u001b[43m)\u001b[49m\n",
      "File \u001b[0;32m~/Projects/RDKit-playing/venv/lib/python3.11/site-packages/indigo/renderer/renderer.py:53\u001b[0m, in \u001b[0;36mIndigoRenderer.renderToBuffer\u001b[0;34m(self, obj)\u001b[0m\n\u001b[1;32m     44\u001b[0m \u001b[38;5;250m\u001b[39m\u001b[38;5;124;03m\"\"\"Renders object to buffer\u001b[39;00m\n\u001b[1;32m     45\u001b[0m \n\u001b[1;32m     46\u001b[0m \u001b[38;5;124;03mArgs:\u001b[39;00m\n\u001b[0;32m   (...)\u001b[0m\n\u001b[1;32m     50\u001b[0m \u001b[38;5;124;03m    buffer with byte array\u001b[39;00m\n\u001b[1;32m     51\u001b[0m \u001b[38;5;124;03m\"\"\"\u001b[39;00m\n\u001b[1;32m     52\u001b[0m wb \u001b[38;5;241m=\u001b[39m \u001b[38;5;28mself\u001b[39m\u001b[38;5;241m.\u001b[39m_session\u001b[38;5;241m.\u001b[39mwriteBuffer()\n\u001b[0;32m---> 53\u001b[0m \u001b[43mIndigoLib\u001b[49m\u001b[38;5;241;43m.\u001b[39;49m\u001b[43mcheckResult\u001b[49m\u001b[43m(\u001b[49m\u001b[38;5;28;43mself\u001b[39;49m\u001b[38;5;241;43m.\u001b[39;49m\u001b[43m_lib\u001b[49m\u001b[43m(\u001b[49m\u001b[43m)\u001b[49m\u001b[38;5;241;43m.\u001b[39;49m\u001b[43mindigoRender\u001b[49m\u001b[43m(\u001b[49m\u001b[43mobj\u001b[49m\u001b[38;5;241;43m.\u001b[39;49m\u001b[43mid\u001b[49m\u001b[43m,\u001b[49m\u001b[43m \u001b[49m\u001b[43mwb\u001b[49m\u001b[38;5;241;43m.\u001b[39;49m\u001b[43mid\u001b[49m\u001b[43m)\u001b[49m\u001b[43m)\u001b[49m\n\u001b[1;32m     54\u001b[0m \u001b[38;5;28;01mreturn\u001b[39;00m wb\u001b[38;5;241m.\u001b[39mtoBuffer()\n",
      "File \u001b[0;32m~/Projects/RDKit-playing/venv/lib/python3.11/site-packages/indigo/indigo/indigo_lib.py:1071\u001b[0m, in \u001b[0;36mIndigoLib.checkResult\u001b[0;34m(result, exception_class)\u001b[0m\n\u001b[1;32m   1069\u001b[0m \u001b[38;5;28;01mif\u001b[39;00m result \u001b[38;5;241m<\u001b[39m \u001b[38;5;241m0\u001b[39m:\n\u001b[1;32m   1070\u001b[0m     \u001b[38;5;28;01massert\u001b[39;00m IndigoLib\u001b[38;5;241m.\u001b[39mlib\n\u001b[0;32m-> 1071\u001b[0m     \u001b[38;5;28;01mraise\u001b[39;00m exception_class(IndigoLib\u001b[38;5;241m.\u001b[39mlib\u001b[38;5;241m.\u001b[39mindigoGetLastError())\n\u001b[1;32m   1072\u001b[0m \u001b[38;5;28;01mreturn\u001b[39;00m result\n",
      "\u001b[0;31mIndigoException\u001b[0m: render context: mode not set"
     ]
    }
   ],
   "source": [
    "indigoRenderer.renderToBuffer(mol)"
   ]
  },
  {
   "cell_type": "code",
   "execution_count": null,
   "metadata": {},
   "outputs": [],
   "source": []
  }
 ],
 "metadata": {
  "kernelspec": {
   "display_name": "venv",
   "language": "python",
   "name": "python3"
  },
  "language_info": {
   "codemirror_mode": {
    "name": "ipython",
    "version": 3
   },
   "file_extension": ".py",
   "mimetype": "text/x-python",
   "name": "python",
   "nbconvert_exporter": "python",
   "pygments_lexer": "ipython3",
   "version": "3.11.7"
  }
 },
 "nbformat": 4,
 "nbformat_minor": 2
}
