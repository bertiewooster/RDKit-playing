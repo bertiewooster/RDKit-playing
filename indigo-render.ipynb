{
 "cells": [
  {
   "cell_type": "code",
   "execution_count": 13,
   "metadata": {},
   "outputs": [],
   "source": [
    "from indigo import Indigo\n",
    "from indigo.renderer import IndigoRenderer\n",
    "from IPython.display import Image, display\n",
    "import io\n",
    "\n",
    "# Initialize Indigo and IndigoRenderer\n",
    "indigo = Indigo()\n",
    "indigoRenderer = IndigoRenderer(indigo)"
   ]
  },
  {
   "cell_type": "code",
   "execution_count": 18,
   "metadata": {},
   "outputs": [
    {
     "name": "stdout",
     "output_type": "stream",
     "text": [
      "CCC(CCCCC)CC(CC(C)C)C\n"
     ]
    }
   ],
   "source": [
    "mol = indigo.nameToStructure(\"3-(2,4-dimethyl-pentyl)-octane\")\n",
    "sml = mol.smiles()\n",
    "print(sml)"
   ]
  },
  {
   "cell_type": "code",
   "execution_count": 24,
   "metadata": {},
   "outputs": [
    {
     "ename": "IndigoException",
     "evalue": "render context: mode not set",
     "output_type": "error",
     "traceback": [
      "\u001b[0;31m---------------------------------------------------------------------------\u001b[0m",
      "\u001b[0;31mIndigoException\u001b[0m                           Traceback (most recent call last)",
      "Cell \u001b[0;32mIn[24], line 26\u001b[0m\n\u001b[1;32m     22\u001b[0m indigo\u001b[38;5;241m.\u001b[39msetOption(\u001b[38;5;124m\"\u001b[39m\u001b[38;5;124mrender-grid-title-offset\u001b[39m\u001b[38;5;124m\"\u001b[39m, \u001b[38;5;124m\"\u001b[39m\u001b[38;5;124m5\u001b[39m\u001b[38;5;124m\"\u001b[39m)\n\u001b[1;32m     24\u001b[0m \u001b[38;5;66;03m# Render the grid to a byte array\u001b[39;00m\n\u001b[1;32m     25\u001b[0m \u001b[38;5;66;03m# with io.BytesIO() as output:\u001b[39;00m\n\u001b[0;32m---> 26\u001b[0m img_data \u001b[38;5;241m=\u001b[39m \u001b[43mindigoRenderer\u001b[49m\u001b[38;5;241;43m.\u001b[39;49m\u001b[43mrenderGridToBuffer\u001b[49m\u001b[43m(\u001b[49m\u001b[43marray\u001b[49m\u001b[43m,\u001b[49m\u001b[43m \u001b[49m\u001b[43m[\u001b[49m\u001b[43m]\u001b[49m\u001b[43m,\u001b[49m\u001b[43m \u001b[49m\u001b[38;5;241;43m2\u001b[39;49m\u001b[43m)\u001b[49m\n\u001b[1;32m     27\u001b[0m     \u001b[38;5;66;03m# output.seek(0)\u001b[39;00m\n\u001b[1;32m     28\u001b[0m     \u001b[38;5;66;03m# img = output.read()\u001b[39;00m\n\u001b[1;32m     29\u001b[0m \n\u001b[1;32m     30\u001b[0m \u001b[38;5;66;03m# Display the image in the notebook\u001b[39;00m\n\u001b[1;32m     31\u001b[0m display(Image(data\u001b[38;5;241m=\u001b[39mimg_data))\n",
      "File \u001b[0;32m~/Projects/RDKit-playing/venv/lib/python3.11/site-packages/indigo/renderer/renderer.py:139\u001b[0m, in \u001b[0;36mIndigoRenderer.renderGridToBuffer\u001b[0;34m(self, objects, refatoms, ncolumns)\u001b[0m\n\u001b[1;32m    137\u001b[0m         arr[i] \u001b[38;5;241m=\u001b[39m refatoms[i]\n\u001b[1;32m    138\u001b[0m wb \u001b[38;5;241m=\u001b[39m \u001b[38;5;28mself\u001b[39m\u001b[38;5;241m.\u001b[39m_session\u001b[38;5;241m.\u001b[39mwriteBuffer()\n\u001b[0;32m--> 139\u001b[0m \u001b[43mIndigoLib\u001b[49m\u001b[38;5;241;43m.\u001b[39;49m\u001b[43mcheckResult\u001b[49m\u001b[43m(\u001b[49m\n\u001b[1;32m    140\u001b[0m \u001b[43m    \u001b[49m\u001b[38;5;28;43mself\u001b[39;49m\u001b[38;5;241;43m.\u001b[39;49m\u001b[43m_lib\u001b[49m\u001b[43m(\u001b[49m\u001b[43m)\u001b[49m\u001b[38;5;241;43m.\u001b[39;49m\u001b[43mindigoRenderGrid\u001b[49m\u001b[43m(\u001b[49m\u001b[43mobjects\u001b[49m\u001b[38;5;241;43m.\u001b[39;49m\u001b[43mid\u001b[49m\u001b[43m,\u001b[49m\u001b[43m \u001b[49m\u001b[43marr\u001b[49m\u001b[43m,\u001b[49m\u001b[43m \u001b[49m\u001b[43mncolumns\u001b[49m\u001b[43m,\u001b[49m\u001b[43m \u001b[49m\u001b[43mwb\u001b[49m\u001b[38;5;241;43m.\u001b[39;49m\u001b[43mid\u001b[49m\u001b[43m)\u001b[49m\n\u001b[1;32m    141\u001b[0m \u001b[43m\u001b[49m\u001b[43m)\u001b[49m\n\u001b[1;32m    142\u001b[0m \u001b[38;5;28;01mreturn\u001b[39;00m wb\u001b[38;5;241m.\u001b[39mtoBuffer()\n",
      "File \u001b[0;32m~/Projects/RDKit-playing/venv/lib/python3.11/site-packages/indigo/indigo/indigo_lib.py:1071\u001b[0m, in \u001b[0;36mIndigoLib.checkResult\u001b[0;34m(result, exception_class)\u001b[0m\n\u001b[1;32m   1069\u001b[0m \u001b[38;5;28;01mif\u001b[39;00m result \u001b[38;5;241m<\u001b[39m \u001b[38;5;241m0\u001b[39m:\n\u001b[1;32m   1070\u001b[0m     \u001b[38;5;28;01massert\u001b[39;00m IndigoLib\u001b[38;5;241m.\u001b[39mlib\n\u001b[0;32m-> 1071\u001b[0m     \u001b[38;5;28;01mraise\u001b[39;00m exception_class(IndigoLib\u001b[38;5;241m.\u001b[39mlib\u001b[38;5;241m.\u001b[39mindigoGetLastError())\n\u001b[1;32m   1072\u001b[0m \u001b[38;5;28;01mreturn\u001b[39;00m result\n",
      "\u001b[0;31mIndigoException\u001b[0m: render context: mode not set"
     ]
    }
   ],
   "source": [
    "\n",
    "# List of molecule names\n",
    "names = [\n",
    "    \"methane\", \"butene\", \"3-ethyl-octane\", \"3,5-diethyl-octane\",\n",
    "    \"3-(2,4-dimethyl-pentyl)-octane\", \"cyclooctane\",\n",
    "    \"3-methyl-5-ethyl-cyclooctane\", \"cyclododeca-1,3,5,7,9,11-hexaene\"\n",
    "]\n",
    "\n",
    "# Create an Indigo array\n",
    "array = indigo.createArray()\n",
    "for n in names:\n",
    "    mol = indigo.nameToStructure(n)\n",
    "    mol.layout()\n",
    "    mol.setProperty(\"grid-comment\", n)\n",
    "    array.arrayAdd(mol)\n",
    "\n",
    "# Set rendering options\n",
    "indigo.setOption(\"render-grid-title-property\", \"grid-comment\")\n",
    "indigo.setOption(\"render-grid-margins\", \"20, 10\")\n",
    "indigo.setOption(\"render-grid-title-offset\", \"5\")\n",
    "indigo.setOption(\"render-grid-title-property\", \"grid-comment\")\n",
    "indigo.setOption(\"render-grid-margins\", \"20, 10\")\n",
    "indigo.setOption(\"render-grid-title-offset\", \"5\")\n",
    "\n",
    "# Render the grid to a byte array\n",
    "# with io.BytesIO() as output:\n",
    "img_data = indigoRenderer.renderGridToBuffer(array, [], 2)\n",
    "    # output.seek(0)\n",
    "    # img = output.read()\n",
    "\n",
    "# Display the image in the notebook\n",
    "display(Image(data=img_data))"
   ]
  },
  {
   "cell_type": "code",
   "execution_count": 25,
   "metadata": {},
   "outputs": [
    {
     "data": {
      "text/plain": [
       "<indigo.indigo.indigo_object.IndigoObject at 0x10ae5c5d0>"
      ]
     },
     "execution_count": 25,
     "metadata": {},
     "output_type": "execute_result"
    }
   ],
   "source": [
    "mol"
   ]
  },
  {
   "cell_type": "code",
   "execution_count": 27,
   "metadata": {},
   "outputs": [
    {
     "ename": "IndigoException",
     "evalue": "render context: mode not set",
     "output_type": "error",
     "traceback": [
      "\u001b[0;31m---------------------------------------------------------------------------\u001b[0m",
      "\u001b[0;31mIndigoException\u001b[0m                           Traceback (most recent call last)",
      "Cell \u001b[0;32mIn[27], line 1\u001b[0m\n\u001b[0;32m----> 1\u001b[0m \u001b[43mindigoRenderer\u001b[49m\u001b[38;5;241;43m.\u001b[39;49m\u001b[43mrenderToString\u001b[49m\u001b[43m(\u001b[49m\u001b[43mmol\u001b[49m\u001b[43m)\u001b[49m\n",
      "File \u001b[0;32m~/Projects/RDKit-playing/venv/lib/python3.11/site-packages/indigo/renderer/renderer.py:65\u001b[0m, in \u001b[0;36mIndigoRenderer.renderToString\u001b[0;34m(self, obj)\u001b[0m\n\u001b[1;32m     56\u001b[0m \u001b[38;5;28;01mdef\u001b[39;00m \u001b[38;5;21mrenderToString\u001b[39m(\u001b[38;5;28mself\u001b[39m, obj: IndigoObject) \u001b[38;5;241m-\u001b[39m\u001b[38;5;241m>\u001b[39m \u001b[38;5;28mstr\u001b[39m:\n\u001b[1;32m     57\u001b[0m \u001b[38;5;250m    \u001b[39m\u001b[38;5;124;03m\"\"\"Renders object to string\u001b[39;00m\n\u001b[1;32m     58\u001b[0m \n\u001b[1;32m     59\u001b[0m \u001b[38;5;124;03m    Args:\u001b[39;00m\n\u001b[0;32m   (...)\u001b[0m\n\u001b[1;32m     63\u001b[0m \u001b[38;5;124;03m        str: string with rendered data\u001b[39;00m\n\u001b[1;32m     64\u001b[0m \u001b[38;5;124;03m    \"\"\"\u001b[39;00m\n\u001b[0;32m---> 65\u001b[0m     \u001b[38;5;28;01mreturn\u001b[39;00m \u001b[38;5;28;43mself\u001b[39;49m\u001b[38;5;241;43m.\u001b[39;49m\u001b[43mrenderToBuffer\u001b[49m\u001b[43m(\u001b[49m\u001b[43mobj\u001b[49m\u001b[43m)\u001b[49m\u001b[38;5;241m.\u001b[39mdecode()\n",
      "File \u001b[0;32m~/Projects/RDKit-playing/venv/lib/python3.11/site-packages/indigo/renderer/renderer.py:53\u001b[0m, in \u001b[0;36mIndigoRenderer.renderToBuffer\u001b[0;34m(self, obj)\u001b[0m\n\u001b[1;32m     44\u001b[0m \u001b[38;5;250m\u001b[39m\u001b[38;5;124;03m\"\"\"Renders object to buffer\u001b[39;00m\n\u001b[1;32m     45\u001b[0m \n\u001b[1;32m     46\u001b[0m \u001b[38;5;124;03mArgs:\u001b[39;00m\n\u001b[0;32m   (...)\u001b[0m\n\u001b[1;32m     50\u001b[0m \u001b[38;5;124;03m    buffer with byte array\u001b[39;00m\n\u001b[1;32m     51\u001b[0m \u001b[38;5;124;03m\"\"\"\u001b[39;00m\n\u001b[1;32m     52\u001b[0m wb \u001b[38;5;241m=\u001b[39m \u001b[38;5;28mself\u001b[39m\u001b[38;5;241m.\u001b[39m_session\u001b[38;5;241m.\u001b[39mwriteBuffer()\n\u001b[0;32m---> 53\u001b[0m \u001b[43mIndigoLib\u001b[49m\u001b[38;5;241;43m.\u001b[39;49m\u001b[43mcheckResult\u001b[49m\u001b[43m(\u001b[49m\u001b[38;5;28;43mself\u001b[39;49m\u001b[38;5;241;43m.\u001b[39;49m\u001b[43m_lib\u001b[49m\u001b[43m(\u001b[49m\u001b[43m)\u001b[49m\u001b[38;5;241;43m.\u001b[39;49m\u001b[43mindigoRender\u001b[49m\u001b[43m(\u001b[49m\u001b[43mobj\u001b[49m\u001b[38;5;241;43m.\u001b[39;49m\u001b[43mid\u001b[49m\u001b[43m,\u001b[49m\u001b[43m \u001b[49m\u001b[43mwb\u001b[49m\u001b[38;5;241;43m.\u001b[39;49m\u001b[43mid\u001b[49m\u001b[43m)\u001b[49m\u001b[43m)\u001b[49m\n\u001b[1;32m     54\u001b[0m \u001b[38;5;28;01mreturn\u001b[39;00m wb\u001b[38;5;241m.\u001b[39mtoBuffer()\n",
      "File \u001b[0;32m~/Projects/RDKit-playing/venv/lib/python3.11/site-packages/indigo/indigo/indigo_lib.py:1071\u001b[0m, in \u001b[0;36mIndigoLib.checkResult\u001b[0;34m(result, exception_class)\u001b[0m\n\u001b[1;32m   1069\u001b[0m \u001b[38;5;28;01mif\u001b[39;00m result \u001b[38;5;241m<\u001b[39m \u001b[38;5;241m0\u001b[39m:\n\u001b[1;32m   1070\u001b[0m     \u001b[38;5;28;01massert\u001b[39;00m IndigoLib\u001b[38;5;241m.\u001b[39mlib\n\u001b[0;32m-> 1071\u001b[0m     \u001b[38;5;28;01mraise\u001b[39;00m exception_class(IndigoLib\u001b[38;5;241m.\u001b[39mlib\u001b[38;5;241m.\u001b[39mindigoGetLastError())\n\u001b[1;32m   1072\u001b[0m \u001b[38;5;28;01mreturn\u001b[39;00m result\n",
      "\u001b[0;31mIndigoException\u001b[0m: render context: mode not set"
     ]
    }
   ],
   "source": [
    "indigoRenderer.renderToString(mol)"
   ]
  },
  {
   "cell_type": "code",
   "execution_count": null,
   "metadata": {},
   "outputs": [],
   "source": []
  }
 ],
 "metadata": {
  "kernelspec": {
   "display_name": "venv",
   "language": "python",
   "name": "python3"
  },
  "language_info": {
   "codemirror_mode": {
    "name": "ipython",
    "version": 3
   },
   "file_extension": ".py",
   "mimetype": "text/x-python",
   "name": "python",
   "nbconvert_exporter": "python",
   "pygments_lexer": "ipython3",
   "version": "3.11.7"
  }
 },
 "nbformat": 4,
 "nbformat_minor": 2
}
