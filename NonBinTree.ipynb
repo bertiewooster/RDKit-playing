{
 "cells": [
  {
   "cell_type": "code",
   "execution_count": 31,
   "metadata": {},
   "outputs": [],
   "source": [
    "def concat_grids_horizontally(grid1:list[list[str]], grid2:list[list[str]]) -> list[list[str]]:\n",
    "    \"\"\"Concatenate two nested lists horizontally, for example\n",
    "    inputs [['a'],['b'],['c']] and [['d'], ['e'], ['f']] \n",
    "    produce [['a', 'd'], ['b', 'e'], ['c', 'f']]\n",
    "\n",
    "    :returns: The confined grid, a two-deep nested list of strings\n",
    "    :param grid1: The first grid, a two-deep nested list of strings\n",
    "    :param grid2: The second grid, a two-deep nested list of strings\n",
    "    \"\"\"\n",
    "    if grid1 == [[]]:\n",
    "        combined = grid2\n",
    "    elif grid2 == [[]]:\n",
    "        combined = grid1\n",
    "    else:\n",
    "        combined = []\n",
    "        for row_counter in range(len(grid1)):\n",
    "            combined += [grid1[row_counter] + grid2[row_counter]]\n",
    "    return combined\n",
    "\n",
    "class NonBinTree:\n",
    "    \"\"\"\n",
    "    Nonbinary tree class\n",
    "    Note that this class is not designed to sort nodes as they are added to the tree;\n",
    "    the assumption is that they should be ordered in the order added\n",
    "    Adapted from https://stackoverflow.com/questions/60579330/non-binary-tree-data-structure-in-python#60579464\n",
    "    \"\"\"\n",
    "\n",
    "    def __init__(self, val:str):\n",
    "        \"\"\"Create a NonBinTree instance\"\"\"\n",
    "        self.val = val\n",
    "        self.nodes = []\n",
    "\n",
    "    def add_node(self, val:str):\n",
    "        \"\"\"Add a node to the tree and return the new node\"\"\"\n",
    "        self.nodes.append(NonBinTree(val))\n",
    "        return self.nodes[-1]\n",
    "\n",
    "    def __repr__(self) -> str:\n",
    "        \"\"\"Print out the tree as a nested list\"\"\"\n",
    "        return f\"NonBinTree({self.val}): {self.nodes}\"\n",
    "\n",
    "    def get_ncols(self) -> int:\n",
    "        \"\"\"Get the number of columns in the tree\"\"\"\n",
    "        self.ncols = 0\n",
    "        if len(self.nodes) > 0:\n",
    "            # If there are nodes under this one, call get_ncols on them recursively\n",
    "            for node in self.nodes:\n",
    "                self.ncols += node.get_ncols()\n",
    "        else:\n",
    "            # If there are no nodes under this one, add 1 for this node\n",
    "            self.ncols += 1\n",
    "        return self.ncols\n",
    "\n",
    "    def get_max_depth(self) -> int:\n",
    "        \"\"\"Get the maximum depth of the tree\"\"\"\n",
    "        max_depth = 0\n",
    "        if len(self.nodes) > 0:\n",
    "            for node in self.nodes:\n",
    "                this_depth = node.get_max_depth()\n",
    "                max_depth = max(this_depth + 1, max_depth)\n",
    "        else:\n",
    "            max_depth = max(1, max_depth)\n",
    "        self.max_depth = max_depth\n",
    "        return self.max_depth\n",
    "\n",
    "    def get_grid(self) -> list[list[str]]:\n",
    "        \"\"\"\n",
    "        Get a two-dimensional grid where\n",
    "        each row is a level in the fragment hierarchy, and\n",
    "        the columns serve to arrange the fragments horizontally\n",
    "        \"\"\"\n",
    "        # Call methods to calculate self.ncols and self.max_depth\n",
    "        self.get_ncols()\n",
    "        self.get_max_depth()\n",
    "\n",
    "        # Create top row: Node value, then the rest of columns are blank (empty strings)\n",
    "        grid = [[self.val] + [\"\"] * (self.ncols - 1)]\n",
    "\n",
    "        n_nodes = len(self.nodes)\n",
    "\n",
    "        if n_nodes > 0:\n",
    "            nodes_grid = [[]]\n",
    "\n",
    "            # Iterate through the chile nodes\n",
    "            for node_counter, node in enumerate(self.nodes):\n",
    "                # Recursively call this function to get the grid for children\n",
    "                node_grid = node.get_grid()\n",
    "\n",
    "                # Add spacer rows if needed\n",
    "                node_grid_rows = len(node_grid)\n",
    "                rows_padding = self.max_depth - node_grid_rows - 1\n",
    "                for padding in range(rows_padding):\n",
    "                    node_grid += [[\"\"] * len(node_grid[0])]\n",
    "\n",
    "                nodes_grid = concat_grids_horizontally(nodes_grid, node_grid)\n",
    "\n",
    "            grid += nodes_grid\n",
    "\n",
    "        return grid"
   ]
  },
  {
   "cell_type": "code",
   "execution_count": 32,
   "metadata": {},
   "outputs": [],
   "source": [
    "root = NonBinTree(\"parent\")\n",
    "f1 = root.add_node(\"f1\")\n",
    "f2 = root.add_node(\"f2\")\n",
    "f21 = f2.add_node(\"f21\")\n",
    "f22 = f2.add_node(\"f22\")\n",
    "f23 = f2.add_node(\"f23\")\n",
    "f24 = f2.add_node(\"f24\")\n",
    "f3 = root.add_node(\"f3\")\n",
    "f4 = root.add_node(\"f4\")\n",
    "f41 = f4.add_node(\"f41\")\n",
    "f42 = f4.add_node(\"f42\")\n",
    "f5 = root.add_node(\"f5\")\n",
    "f6 = root.add_node(\"f6\")\n",
    "f61 = f6.add_node(\"f61\")\n",
    "f62 = f6.add_node(\"f62\")"
   ]
  },
  {
   "cell_type": "code",
   "execution_count": 33,
   "metadata": {},
   "outputs": [
    {
     "name": "stdout",
     "output_type": "stream",
     "text": [
      "NonBinTree(parent): [NonBinTree(f1): [], NonBinTree(f2): [NonBinTree(f21): [], NonBinTree(f22): [], NonBinTree(f23): [], NonBinTree(f24): []], NonBinTree(f3): [], NonBinTree(f4): [NonBinTree(f41): [], NonBinTree(f42): []], NonBinTree(f5): [], NonBinTree(f6): [NonBinTree(f61): [], NonBinTree(f62): []]]\n"
     ]
    }
   ],
   "source": [
    "print(root)"
   ]
  },
  {
   "cell_type": "code",
   "execution_count": 34,
   "metadata": {},
   "outputs": [
    {
     "data": {
      "text/plain": [
       "[['parent', '', '', '', '', '', '', '', '', '', ''],\n",
       " ['f1', 'f2', '', '', '', 'f3', 'f4', '', 'f5', 'f6', ''],\n",
       " ['', 'f21', 'f22', 'f23', 'f24', '', 'f41', 'f42', '', 'f61', 'f62']]"
      ]
     },
     "execution_count": 34,
     "metadata": {},
     "output_type": "execute_result"
    }
   ],
   "source": [
    "tree_grid = root.get_grid()\n",
    "tree_grid"
   ]
  },
  {
   "cell_type": "code",
   "execution_count": 35,
   "metadata": {},
   "outputs": [
    {
     "data": {
      "text/plain": [
       "11"
      ]
     },
     "execution_count": 35,
     "metadata": {},
     "output_type": "execute_result"
    }
   ],
   "source": [
    "len(tree_grid[0])"
   ]
  },
  {
   "cell_type": "code",
   "execution_count": 41,
   "metadata": {},
   "outputs": [],
   "source": [
    "grid = [['parent', '', ''],\n",
    " ['child1', 'child22', '',],\n",
    " ['', 'grandchild1', 'grandchild2']]"
   ]
  },
  {
   "cell_type": "code",
   "execution_count": 45,
   "metadata": {},
   "outputs": [
    {
     "name": "stdout",
     "output_type": "stream",
     "text": [
      "parent                                                      \n",
      "child1              child22                                 \n",
      "                    grandchild1         grandchild2         \n"
     ]
    }
   ],
   "source": [
    "for col1, col2, col3 in grid:\n",
    "    print (f\"{col1:<20}{col2:<20}{col3:<20}\")"
   ]
  },
  {
   "cell_type": "code",
   "execution_count": 42,
   "metadata": {},
   "outputs": [
    {
     "name": "stdout",
     "output_type": "stream",
     "text": [
      "{row[0]:^20}{row[1]:^20}{row[2]:^20}\n",
      "{row[0]:^20}{row[1]:^20}{row[2]:^20}\n",
      "{row[0]:^20}{row[1]:^20}{row[2]:^20}\n"
     ]
    }
   ],
   "source": [
    "f_string = ''\n",
    "for col_index, col in enumerate(grid[0]):\n",
    "    f_string += \"{row[\" + str(col_index) + \"]:<20}\"\n",
    "\n",
    "for row in grid:\n",
    "    print (f_string)"
   ]
  }
 ],
 "metadata": {
  "kernelspec": {
   "display_name": "Python 3.10.4",
   "language": "python",
   "name": "python3"
  },
  "language_info": {
   "codemirror_mode": {
    "name": "ipython",
    "version": 3
   },
   "file_extension": ".py",
   "mimetype": "text/x-python",
   "name": "python",
   "nbconvert_exporter": "python",
   "pygments_lexer": "ipython3",
   "version": "3.10.4"
  },
  "orig_nbformat": 4,
  "vscode": {
   "interpreter": {
    "hash": "f8b9e48fa26c0cee807577a4309d1f208b4f08c0094fff1e9a87a3043a77ce60"
   }
  }
 },
 "nbformat": 4,
 "nbformat_minor": 2
}
