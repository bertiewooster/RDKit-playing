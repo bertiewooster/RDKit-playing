{
 "cells": [
  {
   "cell_type": "code",
   "execution_count": 2,
   "metadata": {},
   "outputs": [
    {
     "data": {
      "image/svg+xml": [
       "<svg xmlns=\"http://www.w3.org/2000/svg\" xmlns:rdkit=\"http://www.rdkit.org/xml\" xmlns:xlink=\"http://www.w3.org/1999/xlink\" version=\"1.1\" baseProfile=\"full\" xml:space=\"preserve\" width=\"300px\" height=\"300px\" viewBox=\"0 0 300 300\">\n",
       "<!-- END OF HEADER -->\n",
       "<rect style=\"opacity:1.0;fill:#FFFFFF;stroke:none\" width=\"300.0\" height=\"300.0\" x=\"0.0\" y=\"0.0\"> </rect>\n",
       "<path class=\"bond-0 atom-0 atom-1\" d=\"M 15.0,61.0 L 32.4,86.4\" style=\"fill:none;fill-rule:evenodd;stroke:#000000;stroke-width:2.0px;stroke-linecap:butt;stroke-linejoin:miter;stroke-opacity:1\"/>\n",
       "<path class=\"bond-1 atom-1 atom-2\" d=\"M 32.4,86.4 L 45.3,85.4\" style=\"fill:none;fill-rule:evenodd;stroke:#000000;stroke-width:2.0px;stroke-linecap:butt;stroke-linejoin:miter;stroke-opacity:1\"/>\n",
       "<path class=\"bond-1 atom-1 atom-2\" d=\"M 45.3,85.4 L 58.2,84.4\" style=\"fill:none;fill-rule:evenodd;stroke:#FF0000;stroke-width:2.0px;stroke-linecap:butt;stroke-linejoin:miter;stroke-opacity:1\"/>\n",
       "<path class=\"bond-2 atom-2 atom-3\" d=\"M 67.0,89.6 L 73.8,99.5\" style=\"fill:none;fill-rule:evenodd;stroke:#FF0000;stroke-width:2.0px;stroke-linecap:butt;stroke-linejoin:miter;stroke-opacity:1\"/>\n",
       "<path class=\"bond-2 atom-2 atom-3\" d=\"M 73.8,99.5 L 80.6,109.5\" style=\"fill:none;fill-rule:evenodd;stroke:#000000;stroke-width:2.0px;stroke-linecap:butt;stroke-linejoin:miter;stroke-opacity:1\"/>\n",
       "<path class=\"bond-3 atom-3 atom-4\" d=\"M 79.2,107.5 L 75.2,113.7\" style=\"fill:none;fill-rule:evenodd;stroke:#000000;stroke-width:2.0px;stroke-linecap:butt;stroke-linejoin:miter;stroke-opacity:1\"/>\n",
       "<path class=\"bond-3 atom-3 atom-4\" d=\"M 75.2,113.7 L 71.2,119.9\" style=\"fill:none;fill-rule:evenodd;stroke:#FF0000;stroke-width:2.0px;stroke-linecap:butt;stroke-linejoin:miter;stroke-opacity:1\"/>\n",
       "<path class=\"bond-3 atom-3 atom-4\" d=\"M 83.4,109.3 L 79.0,116.1\" style=\"fill:none;fill-rule:evenodd;stroke:#000000;stroke-width:2.0px;stroke-linecap:butt;stroke-linejoin:miter;stroke-opacity:1\"/>\n",
       "<path class=\"bond-3 atom-3 atom-4\" d=\"M 79.0,116.1 L 75.0,122.3\" style=\"fill:none;fill-rule:evenodd;stroke:#FF0000;stroke-width:2.0px;stroke-linecap:butt;stroke-linejoin:miter;stroke-opacity:1\"/>\n",
       "<path class=\"bond-4 atom-3 atom-5\" d=\"M 80.6,109.5 L 111.3,107.1\" style=\"fill:none;fill-rule:evenodd;stroke:#000000;stroke-width:2.0px;stroke-linecap:butt;stroke-linejoin:miter;stroke-opacity:1\"/>\n",
       "<path class=\"bond-5 atom-5 atom-6\" d=\"M 111.3,107.1 L 118.2,117.2\" style=\"fill:none;fill-rule:evenodd;stroke:#000000;stroke-width:2.0px;stroke-linecap:butt;stroke-linejoin:miter;stroke-opacity:1\"/>\n",
       "<path class=\"bond-5 atom-5 atom-6\" d=\"M 118.2,117.2 L 125.1,127.2\" style=\"fill:none;fill-rule:evenodd;stroke:#CCCC00;stroke-width:2.0px;stroke-linecap:butt;stroke-linejoin:miter;stroke-opacity:1\"/>\n",
       "<path class=\"bond-5 atom-5 atom-6\" d=\"M 109.1,111.8 L 115.2,120.8\" style=\"fill:none;fill-rule:evenodd;stroke:#000000;stroke-width:2.0px;stroke-linecap:butt;stroke-linejoin:miter;stroke-opacity:1\"/>\n",
       "<path class=\"bond-5 atom-5 atom-6\" d=\"M 115.2,120.8 L 121.4,129.7\" style=\"fill:none;fill-rule:evenodd;stroke:#CCCC00;stroke-width:2.0px;stroke-linecap:butt;stroke-linejoin:miter;stroke-opacity:1\"/>\n",
       "<path class=\"bond-6 atom-6 atom-7\" d=\"M 132.5,132.2 L 146.0,131.2\" style=\"fill:none;fill-rule:evenodd;stroke:#CCCC00;stroke-width:2.0px;stroke-linecap:butt;stroke-linejoin:miter;stroke-opacity:1\"/>\n",
       "<path class=\"bond-6 atom-6 atom-7\" d=\"M 146.0,131.2 L 159.5,130.2\" style=\"fill:none;fill-rule:evenodd;stroke:#000000;stroke-width:2.0px;stroke-linecap:butt;stroke-linejoin:miter;stroke-opacity:1\"/>\n",
       "<path class=\"bond-7 atom-7 atom-8\" d=\"M 159.5,130.2 L 176.9,155.6\" style=\"fill:none;fill-rule:evenodd;stroke:#000000;stroke-width:2.0px;stroke-linecap:butt;stroke-linejoin:miter;stroke-opacity:1\"/>\n",
       "<path class=\"bond-7 atom-7 atom-8\" d=\"M 164.7,129.8 L 179.1,150.9\" style=\"fill:none;fill-rule:evenodd;stroke:#000000;stroke-width:2.0px;stroke-linecap:butt;stroke-linejoin:miter;stroke-opacity:1\"/>\n",
       "<path class=\"bond-8 atom-8 atom-9\" d=\"M 176.9,155.6 L 207.6,153.2\" style=\"fill:none;fill-rule:evenodd;stroke:#000000;stroke-width:2.0px;stroke-linecap:butt;stroke-linejoin:miter;stroke-opacity:1\"/>\n",
       "<path class=\"bond-9 atom-9 atom-10\" d=\"M 207.6,153.2 L 220.9,125.4\" style=\"fill:none;fill-rule:evenodd;stroke:#000000;stroke-width:2.0px;stroke-linecap:butt;stroke-linejoin:miter;stroke-opacity:1\"/>\n",
       "<path class=\"bond-9 atom-9 atom-10\" d=\"M 204.7,148.9 L 215.8,125.8\" style=\"fill:none;fill-rule:evenodd;stroke:#000000;stroke-width:2.0px;stroke-linecap:butt;stroke-linejoin:miter;stroke-opacity:1\"/>\n",
       "<path class=\"bond-10 atom-10 atom-11\" d=\"M 220.9,125.4 L 251.7,123.0\" style=\"fill:none;fill-rule:evenodd;stroke:#000000;stroke-width:2.0px;stroke-linecap:butt;stroke-linejoin:miter;stroke-opacity:1\"/>\n",
       "<path class=\"bond-11 atom-11 atom-12\" d=\"M 251.7,123.0 L 265.2,122.0\" style=\"fill:none;fill-rule:evenodd;stroke:#000000;stroke-width:2.0px;stroke-linecap:butt;stroke-linejoin:miter;stroke-opacity:1\"/>\n",
       "<path class=\"bond-11 atom-11 atom-12\" d=\"M 265.2,122.0 L 278.8,121.0\" style=\"fill:none;fill-rule:evenodd;stroke:#33CCCC;stroke-width:2.0px;stroke-linecap:butt;stroke-linejoin:miter;stroke-opacity:1\"/>\n",
       "<path class=\"bond-12 atom-11 atom-13\" d=\"M 251.7,123.0 L 252.7,135.7\" style=\"fill:none;fill-rule:evenodd;stroke:#000000;stroke-width:2.0px;stroke-linecap:butt;stroke-linejoin:miter;stroke-opacity:1\"/>\n",
       "<path class=\"bond-12 atom-11 atom-13\" d=\"M 252.7,135.7 L 253.6,148.4\" style=\"fill:none;fill-rule:evenodd;stroke:#33CCCC;stroke-width:2.0px;stroke-linecap:butt;stroke-linejoin:miter;stroke-opacity:1\"/>\n",
       "<path class=\"bond-13 atom-11 atom-14\" d=\"M 251.7,123.0 L 250.7,110.4\" style=\"fill:none;fill-rule:evenodd;stroke:#000000;stroke-width:2.0px;stroke-linecap:butt;stroke-linejoin:miter;stroke-opacity:1\"/>\n",
       "<path class=\"bond-13 atom-11 atom-14\" d=\"M 250.7,110.4 L 249.7,97.7\" style=\"fill:none;fill-rule:evenodd;stroke:#33CCCC;stroke-width:2.0px;stroke-linecap:butt;stroke-linejoin:miter;stroke-opacity:1\"/>\n",
       "<path class=\"bond-14 atom-10 atom-15\" d=\"M 220.9,125.4 L 203.5,100.0\" style=\"fill:none;fill-rule:evenodd;stroke:#000000;stroke-width:2.0px;stroke-linecap:butt;stroke-linejoin:miter;stroke-opacity:1\"/>\n",
       "<path class=\"bond-15 atom-15 atom-16\" d=\"M 203.5,100.0 L 172.8,102.4\" style=\"fill:none;fill-rule:evenodd;stroke:#000000;stroke-width:2.0px;stroke-linecap:butt;stroke-linejoin:miter;stroke-opacity:1\"/>\n",
       "<path class=\"bond-15 atom-15 atom-16\" d=\"M 201.3,104.7 L 175.7,106.7\" style=\"fill:none;fill-rule:evenodd;stroke:#000000;stroke-width:2.0px;stroke-linecap:butt;stroke-linejoin:miter;stroke-opacity:1\"/>\n",
       "<path class=\"bond-16 atom-6 atom-17\" d=\"M 124.3,141.7 L 119.9,151.0\" style=\"fill:none;fill-rule:evenodd;stroke:#CCCC00;stroke-width:2.0px;stroke-linecap:butt;stroke-linejoin:miter;stroke-opacity:1\"/>\n",
       "<path class=\"bond-16 atom-6 atom-17\" d=\"M 119.9,151.0 L 115.4,160.3\" style=\"fill:none;fill-rule:evenodd;stroke:#000000;stroke-width:2.0px;stroke-linecap:butt;stroke-linejoin:miter;stroke-opacity:1\"/>\n",
       "<path class=\"bond-16 atom-6 atom-17\" d=\"M 120.3,139.8 L 116.4,147.9\" style=\"fill:none;fill-rule:evenodd;stroke:#CCCC00;stroke-width:2.0px;stroke-linecap:butt;stroke-linejoin:miter;stroke-opacity:1\"/>\n",
       "<path class=\"bond-16 atom-6 atom-17\" d=\"M 116.4,147.9 L 112.5,156.1\" style=\"fill:none;fill-rule:evenodd;stroke:#000000;stroke-width:2.0px;stroke-linecap:butt;stroke-linejoin:miter;stroke-opacity:1\"/>\n",
       "<path class=\"bond-17 atom-17 atom-18\" d=\"M 115.4,160.3 L 132.8,185.8\" style=\"fill:none;fill-rule:evenodd;stroke:#000000;stroke-width:2.0px;stroke-linecap:butt;stroke-linejoin:miter;stroke-opacity:1\"/>\n",
       "<path class=\"bond-18 atom-18 atom-19\" d=\"M 132.8,185.8 L 119.5,213.6\" style=\"fill:none;fill-rule:evenodd;stroke:#000000;stroke-width:2.0px;stroke-linecap:butt;stroke-linejoin:miter;stroke-opacity:1\"/>\n",
       "<path class=\"bond-18 atom-18 atom-19\" d=\"M 127.7,186.2 L 116.6,209.3\" style=\"fill:none;fill-rule:evenodd;stroke:#000000;stroke-width:2.0px;stroke-linecap:butt;stroke-linejoin:miter;stroke-opacity:1\"/>\n",
       "<path class=\"bond-19 atom-19 atom-20\" d=\"M 119.5,213.6 L 137.0,239.0\" style=\"fill:none;fill-rule:evenodd;stroke:#000000;stroke-width:2.0px;stroke-linecap:butt;stroke-linejoin:miter;stroke-opacity:1\"/>\n",
       "<path class=\"bond-20 atom-19 atom-21\" d=\"M 119.5,213.6 L 88.8,215.9\" style=\"fill:none;fill-rule:evenodd;stroke:#000000;stroke-width:2.0px;stroke-linecap:butt;stroke-linejoin:miter;stroke-opacity:1\"/>\n",
       "<path class=\"bond-21 atom-21 atom-22\" d=\"M 88.8,215.9 L 71.4,190.5\" style=\"fill:none;fill-rule:evenodd;stroke:#000000;stroke-width:2.0px;stroke-linecap:butt;stroke-linejoin:miter;stroke-opacity:1\"/>\n",
       "<path class=\"bond-22 atom-22 atom-23\" d=\"M 71.4,190.5 L 84.7,162.7\" style=\"fill:none;fill-rule:evenodd;stroke:#000000;stroke-width:2.0px;stroke-linecap:butt;stroke-linejoin:miter;stroke-opacity:1\"/>\n",
       "<path class=\"bond-23 atom-23 atom-24\" d=\"M 87.5,162.5 L 82.7,157.0\" style=\"fill:none;fill-rule:evenodd;stroke:#000000;stroke-width:2.0px;stroke-linecap:butt;stroke-linejoin:miter;stroke-opacity:1\"/>\n",
       "<path class=\"bond-23 atom-23 atom-24\" d=\"M 82.7,157.0 L 77.9,151.6\" style=\"fill:none;fill-rule:evenodd;stroke:#FF0000;stroke-width:2.0px;stroke-linecap:butt;stroke-linejoin:miter;stroke-opacity:1\"/>\n",
       "<path class=\"bond-23 atom-23 atom-24\" d=\"M 83.6,164.9 L 79.3,160.0\" style=\"fill:none;fill-rule:evenodd;stroke:#000000;stroke-width:2.0px;stroke-linecap:butt;stroke-linejoin:miter;stroke-opacity:1\"/>\n",
       "<path class=\"bond-23 atom-23 atom-24\" d=\"M 79.3,160.0 L 74.5,154.6\" style=\"fill:none;fill-rule:evenodd;stroke:#FF0000;stroke-width:2.0px;stroke-linecap:butt;stroke-linejoin:miter;stroke-opacity:1\"/>\n",
       "<path class=\"bond-24 atom-16 atom-7\" d=\"M 172.8,102.4 L 159.5,130.2\" style=\"fill:none;fill-rule:evenodd;stroke:#000000;stroke-width:2.0px;stroke-linecap:butt;stroke-linejoin:miter;stroke-opacity:1\"/>\n",
       "<path class=\"bond-25 atom-23 atom-17\" d=\"M 84.7,162.7 L 115.4,160.3\" style=\"fill:none;fill-rule:evenodd;stroke:#000000;stroke-width:2.0px;stroke-linecap:butt;stroke-linejoin:miter;stroke-opacity:1\"/>\n",
       "<path d=\"M 31.6,85.2 L 32.4,86.4 L 33.1,86.4\" style=\"fill:none;stroke:#000000;stroke-width:2.0px;stroke-linecap:butt;stroke-linejoin:miter;stroke-opacity:1;\"/>\n",
       "<path d=\"M 80.2,109.0 L 80.6,109.5 L 82.1,109.4\" style=\"fill:none;stroke:#000000;stroke-width:2.0px;stroke-linecap:butt;stroke-linejoin:miter;stroke-opacity:1;\"/>\n",
       "<path d=\"M 109.8,107.2 L 111.3,107.1 L 111.7,107.6\" style=\"fill:none;stroke:#000000;stroke-width:2.0px;stroke-linecap:butt;stroke-linejoin:miter;stroke-opacity:1;\"/>\n",
       "<path d=\"M 176.0,154.3 L 176.9,155.6 L 178.4,155.5\" style=\"fill:none;stroke:#000000;stroke-width:2.0px;stroke-linecap:butt;stroke-linejoin:miter;stroke-opacity:1;\"/>\n",
       "<path d=\"M 206.1,153.3 L 207.6,153.2 L 208.3,151.8\" style=\"fill:none;stroke:#000000;stroke-width:2.0px;stroke-linecap:butt;stroke-linejoin:miter;stroke-opacity:1;\"/>\n",
       "<path d=\"M 204.4,101.3 L 203.5,100.0 L 202.0,100.1\" style=\"fill:none;stroke:#000000;stroke-width:2.0px;stroke-linecap:butt;stroke-linejoin:miter;stroke-opacity:1;\"/>\n",
       "<path d=\"M 174.3,102.2 L 172.8,102.4 L 172.1,103.8\" style=\"fill:none;stroke:#000000;stroke-width:2.0px;stroke-linecap:butt;stroke-linejoin:miter;stroke-opacity:1;\"/>\n",
       "<path d=\"M 132.0,184.5 L 132.8,185.8 L 132.2,187.2\" style=\"fill:none;stroke:#000000;stroke-width:2.0px;stroke-linecap:butt;stroke-linejoin:miter;stroke-opacity:1;\"/>\n",
       "<path d=\"M 90.3,215.8 L 88.8,215.9 L 87.9,214.7\" style=\"fill:none;stroke:#000000;stroke-width:2.0px;stroke-linecap:butt;stroke-linejoin:miter;stroke-opacity:1;\"/>\n",
       "<path d=\"M 72.2,191.8 L 71.4,190.5 L 72.0,189.1\" style=\"fill:none;stroke:#000000;stroke-width:2.0px;stroke-linecap:butt;stroke-linejoin:miter;stroke-opacity:1;\"/>\n",
       "<path d=\"M 84.0,164.1 L 84.7,162.7 L 86.2,162.6\" style=\"fill:none;stroke:#000000;stroke-width:2.0px;stroke-linecap:butt;stroke-linejoin:miter;stroke-opacity:1;\"/>\n",
       "<path class=\"atom-2\" d=\"M 59.1 84.1 Q 59.1 82.0, 60.2 80.8 Q 61.2 79.6, 63.2 79.6 Q 65.1 79.6, 66.1 80.8 Q 67.2 82.0, 67.2 84.1 Q 67.2 86.2, 66.1 87.4 Q 65.1 88.6, 63.2 88.6 Q 61.2 88.6, 60.2 87.4 Q 59.1 86.2, 59.1 84.1 M 63.2 87.6 Q 64.5 87.6, 65.2 86.7 Q 65.9 85.8, 65.9 84.1 Q 65.9 82.4, 65.2 81.5 Q 64.5 80.6, 63.2 80.6 Q 61.8 80.6, 61.1 81.5 Q 60.4 82.4, 60.4 84.1 Q 60.4 85.8, 61.1 86.7 Q 61.8 87.6, 63.2 87.6 \" fill=\"#FF0000\"/>\n",
       "<path class=\"atom-4\" d=\"M 65.7 126.5 Q 65.7 124.5, 66.7 123.3 Q 67.7 122.1, 69.7 122.1 Q 71.6 122.1, 72.7 123.3 Q 73.7 124.5, 73.7 126.5 Q 73.7 128.7, 72.6 129.9 Q 71.6 131.1, 69.7 131.1 Q 67.8 131.1, 66.7 129.9 Q 65.7 128.7, 65.7 126.5 M 69.7 130.1 Q 71.0 130.1, 71.7 129.2 Q 72.5 128.3, 72.5 126.5 Q 72.5 124.8, 71.7 124.0 Q 71.0 123.1, 69.7 123.1 Q 68.4 123.1, 67.6 124.0 Q 66.9 124.8, 66.9 126.5 Q 66.9 128.3, 67.6 129.2 Q 68.4 130.1, 69.7 130.1 \" fill=\"#FF0000\"/>\n",
       "<path class=\"atom-6\" d=\"M 126.3 135.5 Q 126.4 135.6, 126.8 135.7 Q 127.2 135.9, 127.6 136.0 Q 128.1 136.1, 128.5 136.1 Q 129.4 136.1, 129.8 135.7 Q 130.3 135.3, 130.3 134.6 Q 130.3 134.1, 130.1 133.8 Q 129.8 133.6, 129.5 133.4 Q 129.1 133.2, 128.5 133.0 Q 127.7 132.8, 127.2 132.6 Q 126.8 132.4, 126.4 131.9 Q 126.1 131.4, 126.1 130.6 Q 126.1 129.5, 126.9 128.9 Q 127.6 128.2, 129.1 128.2 Q 130.1 128.2, 131.2 128.7 L 131.0 129.6 Q 129.9 129.2, 129.1 129.2 Q 128.3 129.2, 127.8 129.5 Q 127.3 129.9, 127.4 130.5 Q 127.4 131.0, 127.6 131.2 Q 127.8 131.5, 128.2 131.7 Q 128.5 131.8, 129.1 132.0 Q 129.9 132.3, 130.4 132.5 Q 130.9 132.8, 131.2 133.3 Q 131.5 133.8, 131.5 134.6 Q 131.5 135.8, 130.7 136.5 Q 129.9 137.1, 128.6 137.1 Q 127.8 137.1, 127.2 137.0 Q 126.6 136.8, 125.9 136.5 L 126.3 135.5 \" fill=\"#CCCC00\"/>\n",
       "<path class=\"atom-6\" d=\"M 125.3 138.0 L 126.5 138.0 L 126.5 141.7 L 131.0 141.7 L 131.0 138.0 L 132.1 138.0 L 132.1 146.7 L 131.0 146.7 L 131.0 142.7 L 126.5 142.7 L 126.5 146.7 L 125.3 146.7 L 125.3 138.0 \" fill=\"#CCCC00\"/>\n",
       "<path class=\"atom-12\" d=\"M 279.8 116.3 L 285.0 116.3 L 285.0 117.3 L 281.0 117.3 L 281.0 120.0 L 284.6 120.0 L 284.6 121.0 L 281.0 121.0 L 281.0 125.0 L 279.8 125.0 L 279.8 116.3 \" fill=\"#33CCCC\"/>\n",
       "<path class=\"atom-13\" d=\"M 251.4 149.4 L 256.6 149.4 L 256.6 150.4 L 252.6 150.4 L 252.6 153.1 L 256.2 153.1 L 256.2 154.1 L 252.6 154.1 L 252.6 158.1 L 251.4 158.1 L 251.4 149.4 \" fill=\"#33CCCC\"/>\n",
       "<path class=\"atom-14\" d=\"M 246.7 87.9 L 251.9 87.9 L 251.9 88.9 L 247.9 88.9 L 247.9 91.6 L 251.4 91.6 L 251.4 92.6 L 247.9 92.6 L 247.9 96.7 L 246.7 96.7 L 246.7 87.9 \" fill=\"#33CCCC\"/>\n",
       "<path class=\"atom-24\" d=\"M 67.3 147.6 Q 67.3 145.5, 68.3 144.3 Q 69.4 143.1, 71.3 143.1 Q 73.2 143.1, 74.3 144.3 Q 75.3 145.5, 75.3 147.6 Q 75.3 149.7, 74.3 150.9 Q 73.2 152.1, 71.3 152.1 Q 69.4 152.1, 68.3 150.9 Q 67.3 149.7, 67.3 147.6 M 71.3 151.1 Q 72.6 151.1, 73.4 150.2 Q 74.1 149.3, 74.1 147.6 Q 74.1 145.9, 73.4 145.0 Q 72.6 144.1, 71.3 144.1 Q 70.0 144.1, 69.2 145.0 Q 68.5 145.8, 68.5 147.6 Q 68.5 149.3, 69.2 150.2 Q 70.0 151.1, 71.3 151.1 \" fill=\"#FF0000\"/>\n",
       "</svg>"
      ],
      "text/plain": [
       "<IPython.core.display.SVG object>"
      ]
     },
     "execution_count": 2,
     "metadata": {},
     "output_type": "execute_result"
    }
   ],
   "source": [
    "from rdkit import Chem\n",
    "from rdkit.Chem.Draw import IPythonConsole\n",
    "from rdkit.Chem import rdDepictor\n",
    "from rdkit.Chem.Draw import rdMolDraw2D\n",
    "from IPython.display import SVG\n",
    "\n",
    "# smiles = 'C1=CC(=C(C=C1C2=C(C(=O)C3=C(C=C(C=C3O2)O)O)O)O)O'\n",
    "# smiles = \"C1=CC=CC=C1\"\n",
    "smiles = \"CCOC(=O)/C=S(/c1ccc(C(F)(F)F)cc1)=C1/C=C(\\C)CCC1=O\"\n",
    "m = Chem.MolFromSmiles(smiles)\n",
    "canon = Chem.MolToSmiles(m)\n",
    "\n",
    "def moltosvg(mol, molSize = (300,300), kekulize = True):\n",
    "    mc = Chem.Mol(mol.ToBinary())\n",
    "    if kekulize:\n",
    "        try:\n",
    "            Chem.Kekulize(mc)\n",
    "        except:\n",
    "            mc = Chem.Mol(mol.ToBinary())\n",
    "    if not mc.GetNumConformers():\n",
    "        rdDepictor.Compute2DCoords(mc)\n",
    "    drawer = rdMolDraw2D.MolDraw2DSVG(molSize[0],molSize[1])\n",
    "    drawer.DrawMolecule(mc)\n",
    "    drawer.FinishDrawing()\n",
    "    svg = drawer.GetDrawingText()\n",
    "    return svg.replace('svg:','')\n",
    "\n",
    "SVG(moltosvg(m))"
   ]
  },
  {
   "cell_type": "code",
   "execution_count": 8,
   "metadata": {},
   "outputs": [
    {
     "name": "stdout",
     "output_type": "stream",
     "text": [
      "['C1=CC=CC=C1', 'C1=CC=CC=C1']\n"
     ]
    },
    {
     "data": {
      "image/png": "[encoded data removed]",
      "text/plain": [
       "<IPython.core.display.Image object>"
      ]
     },
     "execution_count": 8,
     "metadata": {},
     "output_type": "execute_result"
    }
   ],
   "source": [
    "smls = [\"C1=CC=CC=C1\", \"C1C=CC=CC=1\"]\n",
    "\n",
    "mols = [Chem.MolFromSmiles(sml, sanitize=False) for sml in smls]\n",
    "smls_can = [Chem.MolToSmiles(mol) for mol in mols]\n",
    "print(smls_can)\n",
    "Chem.Draw.MolsToGridImage(mols)"
   ]
  },
  {
   "cell_type": "code",
   "execution_count": null,
   "metadata": {},
   "outputs": [],
   "source": []
  }
 ],
 "metadata": {
  "kernelspec": {
   "display_name": "my-rdkit-env",
   "language": "python",
   "name": "python3"
  },
  "language_info": {
   "codemirror_mode": {
    "name": "ipython",
    "version": 3
   },
   "file_extension": ".py",
   "mimetype": "text/x-python",
   "name": "python",
   "nbconvert_exporter": "python",
   "pygments_lexer": "ipython3",
   "version": "3.11.6"
  },
  "orig_nbformat": 4
 },
 "nbformat": 4,
 "nbformat_minor": 2
}
