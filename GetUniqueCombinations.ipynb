{
 "cells": [
  {
   "cell_type": "code",
   "execution_count": 1,
   "metadata": {},
   "outputs": [
    {
     "data": {
      "text/plain": [
       "<rdkit.DataStructs.cDataStructs.SparseBitVect at 0x11d3e0c20>"
      ]
     },
     "execution_count": 1,
     "metadata": {},
     "output_type": "execute_result"
    }
   ],
   "source": [
    "from rdkit import Chem\n",
    "from rdkit.Chem.Pharm2D import Generate, Gobbi_Pharm2D\n",
    "\n",
    "smi = \"CC=CC=C(S1C=C)C(O)C=C1NCCCCCCCCCCCCCCCCCCCCCCCCCCCC=CCCCCCCCCCCCCCCCCCCCCCCCCC=CCCCCCCCCCCCCCCC=CC=CCCC=CC=CCC=CCC=CCCCCCC=CCCC[P+1][P+1][P+1][P+1][P+1][P+1][P+1][P+1][P+1][P+1][P+1][P+1][P+1][P+1]\"\n",
    "mol = Chem.MolFromSmiles(smi)\n",
    "\n",
    "Generate.Gen2DFingerprint(mol, Gobbi_Pharm2D.factory)"
   ]
  },
  {
   "cell_type": "code",
   "execution_count": null,
   "metadata": {},
   "outputs": [],
   "source": []
  }
 ],
 "metadata": {
  "kernelspec": {
   "display_name": "venv",
   "language": "python",
   "name": "python3"
  },
  "language_info": {
   "codemirror_mode": {
    "name": "ipython",
    "version": 3
   },
   "file_extension": ".py",
   "mimetype": "text/x-python",
   "name": "python",
   "nbconvert_exporter": "python",
   "pygments_lexer": "ipython3",
   "version": "3.11.7"
  }
 },
 "nbformat": 4,
 "nbformat_minor": 2
}
