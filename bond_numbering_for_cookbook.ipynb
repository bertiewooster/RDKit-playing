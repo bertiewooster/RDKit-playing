{
 "cells": [
  {
   "cell_type": "code",
   "execution_count": 1,
   "metadata": {},
   "outputs": [],
   "source": [
    "from rdkit import Chem\n",
    "from rdkit.Chem import Draw\n",
    "from rdkit.Geometry import Point2D\n",
    "from IPython.display import display, SVG\n",
    "\n",
    "def label_bonds(mol, size=(300, 150), offset_x = 0, offset_y = 0):\n",
    "    # Generate 2D coordinates for visualization\n",
    "    Chem.rdDepictor.Compute2DCoords(mol)\n",
    "\n",
    "    # Define image size and initialize an SVG drawer\n",
    "    drawer = Draw.MolDraw2DSVG(*size)\n",
    "\n",
    "    # Draw the molecule first\n",
    "    drawer.DrawMolecule(mol)\n",
    "\n",
    "    # Add bond numbers\n",
    "    for bond in mol.GetBonds():\n",
    "        idx = bond.GetIdx()\n",
    "\n",
    "        # Get the positions of the atoms of the bond\n",
    "        begin_atom_pos = mol.GetConformer().GetAtomPosition(bond.GetBeginAtomIdx())\n",
    "        end_atom_pos = mol.GetConformer().GetAtomPosition(bond.GetEndAtomIdx())\n",
    "\n",
    "        # Calculate midpoint of bond as midpoint between the two atoms\n",
    "        mid_x = (begin_atom_pos.x + end_atom_pos.x) / 2\n",
    "        mid_y = (begin_atom_pos.y + end_atom_pos.y) / 2\n",
    "\n",
    "        # Optionally, offset the\n",
    "        #   x coordinate to move the label to the right (positive offset) or left (negative offset) of the bond\n",
    "        #   y coordinate to move the label above (positive offset) or below (negative offset) the bond\n",
    "        mid_point = Point2D(mid_x + offset_x, mid_y + offset_y)\n",
    "\n",
    "        # Add bond index at the offset midpoint\n",
    "        drawer.DrawString(str(idx), mid_point)\n",
    "\n",
    "    drawer.FinishDrawing()\n",
    "\n",
    "    svg = drawer.GetDrawingText()\n",
    "\n",
    "    return svg\n"
   ]
  },
  {
   "cell_type": "code",
   "execution_count": 9,
   "metadata": {},
   "outputs": [
    {
     "data": {
      "image/svg+xml": [
       "<svg xmlns=\"http://www.w3.org/2000/svg\" xmlns:rdkit=\"http://www.rdkit.org/xml\" xmlns:xlink=\"http://www.w3.org/1999/xlink\" version=\"1.1\" baseProfile=\"full\" xml:space=\"preserve\" width=\"400px\" height=\"300px\" viewBox=\"0 0 400 300\">\n",
       "<!-- END OF HEADER -->\n",
       "<rect style=\"opacity:1.0;fill:#FFFFFF;stroke:none\" width=\"400.0\" height=\"300.0\" x=\"0.0\" y=\"0.0\"> </rect>\n",
       "<path class=\"bond-0 atom-0 atom-1\" d=\"M 200.0,253.9 L 80.0,253.9\" style=\"fill:none;fill-rule:evenodd;stroke:#000000;stroke-width:2.0px;stroke-linecap:butt;stroke-linejoin:miter;stroke-opacity:1\"/>\n",
       "<path class=\"bond-0 atom-0 atom-1\" d=\"M 189.6,235.9 L 90.4,235.9\" style=\"fill:none;fill-rule:evenodd;stroke:#000000;stroke-width:2.0px;stroke-linecap:butt;stroke-linejoin:miter;stroke-opacity:1\"/>\n",
       "<path class=\"bond-1 atom-1 atom-2\" d=\"M 80.0,253.9 L 20.0,150.0\" style=\"fill:none;fill-rule:evenodd;stroke:#000000;stroke-width:2.0px;stroke-linecap:butt;stroke-linejoin:miter;stroke-opacity:1\"/>\n",
       "<path class=\"bond-2 atom-2 atom-3\" d=\"M 20.0,150.0 L 80.0,46.1\" style=\"fill:none;fill-rule:evenodd;stroke:#000000;stroke-width:2.0px;stroke-linecap:butt;stroke-linejoin:miter;stroke-opacity:1\"/>\n",
       "<path class=\"bond-2 atom-2 atom-3\" d=\"M 40.8,150.0 L 90.4,64.1\" style=\"fill:none;fill-rule:evenodd;stroke:#000000;stroke-width:2.0px;stroke-linecap:butt;stroke-linejoin:miter;stroke-opacity:1\"/>\n",
       "<path class=\"bond-3 atom-3 atom-4\" d=\"M 80.0,46.1 L 200.0,46.1\" style=\"fill:none;fill-rule:evenodd;stroke:#000000;stroke-width:2.0px;stroke-linecap:butt;stroke-linejoin:miter;stroke-opacity:1\"/>\n",
       "<path class=\"bond-4 atom-4 atom-5\" d=\"M 200.0,46.1 L 260.0,150.0\" style=\"fill:none;fill-rule:evenodd;stroke:#000000;stroke-width:2.0px;stroke-linecap:butt;stroke-linejoin:miter;stroke-opacity:1\"/>\n",
       "<path class=\"bond-4 atom-4 atom-5\" d=\"M 189.6,64.1 L 239.2,150.0\" style=\"fill:none;fill-rule:evenodd;stroke:#000000;stroke-width:2.0px;stroke-linecap:butt;stroke-linejoin:miter;stroke-opacity:1\"/>\n",
       "<path class=\"bond-5 atom-5 atom-6\" d=\"M 260.0,150.0 L 380.0,150.0\" style=\"fill:none;fill-rule:evenodd;stroke:#000000;stroke-width:2.0px;stroke-linecap:butt;stroke-linejoin:miter;stroke-opacity:1\"/>\n",
       "<path class=\"bond-6 atom-5 atom-0\" d=\"M 260.0,150.0 L 200.0,253.9\" style=\"fill:none;fill-rule:evenodd;stroke:#000000;stroke-width:2.0px;stroke-linecap:butt;stroke-linejoin:miter;stroke-opacity:1\"/>\n",
       "<path d=\"M 194.0,253.9 L 200.0,253.9 L 203.0,248.7\" style=\"fill:none;stroke:#000000;stroke-width:2.0px;stroke-linecap:butt;stroke-linejoin:miter;stroke-opacity:1;\"/>\n",
       "<path d=\"M 86.0,253.9 L 80.0,253.9 L 77.0,248.7\" style=\"fill:none;stroke:#000000;stroke-width:2.0px;stroke-linecap:butt;stroke-linejoin:miter;stroke-opacity:1;\"/>\n",
       "<path d=\"M 23.0,155.2 L 20.0,150.0 L 23.0,144.8\" style=\"fill:none;stroke:#000000;stroke-width:2.0px;stroke-linecap:butt;stroke-linejoin:miter;stroke-opacity:1;\"/>\n",
       "<path d=\"M 77.0,51.3 L 80.0,46.1 L 86.0,46.1\" style=\"fill:none;stroke:#000000;stroke-width:2.0px;stroke-linecap:butt;stroke-linejoin:miter;stroke-opacity:1;\"/>\n",
       "<path d=\"M 194.0,46.1 L 200.0,46.1 L 203.0,51.3\" style=\"fill:none;stroke:#000000;stroke-width:2.0px;stroke-linecap:butt;stroke-linejoin:miter;stroke-opacity:1;\"/>\n",
       "<path d=\"M 140.0 284.6 Q 134.8 284.6, 132.2 280.7 Q 129.6 276.9, 129.6 270.0 Q 129.6 263.2, 132.2 259.4 Q 134.8 255.6, 140.0 255.6 Q 145.2 255.6, 147.8 259.4 Q 150.4 263.2, 150.4 270.0 Q 150.4 276.9, 147.8 280.7 Q 145.2 284.6, 140.0 284.6 M 140.0 281.4 Q 143.1 281.4, 144.7 278.5 Q 146.4 275.6, 146.4 270.0 Q 146.4 264.5, 144.7 261.6 Q 143.1 258.8, 140.0 258.8 Q 137.0 258.8, 135.3 261.6 Q 133.6 264.5, 133.6 270.0 Q 133.6 275.6, 135.3 278.5 Q 137.0 281.4, 140.0 281.4 \" fill=\"#000000\"/>\n",
       "<path d=\"M 43.0 229.0 L 49.2 229.0 L 49.2 207.8 L 42.4 210.0 L 41.5 207.6 L 50.1 203.7 L 53.0 204.2 L 53.0 229.0 L 58.5 229.0 L 58.5 232.2 L 43.0 232.2 L 43.0 229.0 \" fill=\"#000000\"/>\n",
       "<path d=\"M 40.5 105.4 Q 41.6 102.7, 44.1 101.2 Q 46.5 99.7, 50.0 99.7 Q 54.3 99.7, 56.7 102.0 Q 59.1 104.4, 59.1 108.5 Q 59.1 112.7, 55.9 116.6 Q 52.9 120.5, 46.5 125.2 L 59.5 125.2 L 59.5 128.4 L 40.5 128.4 L 40.5 125.7 Q 45.7 121.9, 48.9 119.1 Q 52.0 116.3, 53.5 113.8 Q 55.1 111.3, 55.1 108.7 Q 55.1 106.0, 53.7 104.4 Q 52.3 102.9, 50.0 102.9 Q 47.7 102.9, 46.2 103.8 Q 44.7 104.8, 43.6 106.8 L 40.5 105.4 \" fill=\"#000000\"/>\n",
       "<path d=\"M 144.1 61.5 Q 146.8 62.3, 148.2 64.1 Q 149.5 65.8, 149.5 68.6 Q 149.5 71.0, 148.3 72.9 Q 147.1 74.8, 144.9 75.8 Q 142.7 76.8, 139.8 76.8 Q 136.8 76.8, 134.5 75.8 Q 132.3 74.7, 130.5 72.5 L 132.8 70.2 Q 134.5 72.1, 136.0 72.9 Q 137.5 73.6, 139.8 73.6 Q 142.4 73.6, 144.0 72.2 Q 145.5 70.8, 145.5 68.6 Q 145.5 65.7, 143.9 64.4 Q 142.3 63.1, 138.8 63.1 L 136.8 63.1 L 136.8 60.2 L 138.6 60.2 Q 141.6 60.2, 143.3 58.9 Q 144.9 57.5, 144.9 55.0 Q 144.9 53.2, 143.6 52.1 Q 142.2 51.0, 139.9 51.0 Q 137.5 51.0, 136.0 51.8 Q 134.6 52.6, 133.5 54.8 L 130.7 53.3 Q 131.7 50.9, 134.1 49.4 Q 136.5 47.8, 139.9 47.8 Q 144.0 47.8, 146.5 49.7 Q 148.9 51.7, 148.9 55.0 Q 148.9 57.3, 147.7 58.9 Q 146.4 60.6, 144.1 61.5 \" fill=\"#000000\"/>\n",
       "<path d=\"M 237.5 118.5 L 240.9 118.5 L 240.9 121.7 L 237.5 121.7 L 237.5 128.2 L 233.7 128.2 L 233.7 121.7 L 219.1 121.7 L 219.1 119.2 L 231.5 99.9 L 237.5 99.9 L 237.5 118.5 M 223.7 118.5 L 233.7 118.5 L 233.7 102.4 L 223.7 118.5 \" fill=\"#000000\"/>\n",
       "<path d=\"M 320.7 162.4 Q 323.2 162.4, 325.2 163.5 Q 327.3 164.6, 328.4 166.6 Q 329.6 168.5, 329.6 171.2 Q 329.6 174.1, 328.1 176.2 Q 326.7 178.3, 324.4 179.4 Q 322.1 180.5, 319.5 180.5 Q 316.9 180.5, 314.5 179.5 Q 312.1 178.6, 310.4 176.7 L 312.8 174.2 Q 314.1 175.7, 315.9 176.5 Q 317.7 177.2, 319.6 177.2 Q 322.1 177.2, 323.8 175.7 Q 325.6 174.1, 325.6 171.3 Q 325.6 168.3, 323.8 166.9 Q 322.1 165.4, 319.3 165.4 Q 316.9 165.4, 314.1 166.5 L 311.9 165.5 L 313.3 151.8 L 327.8 151.8 L 327.4 155.0 L 316.5 155.0 L 315.7 163.4 Q 318.2 162.4, 320.7 162.4 \" fill=\"#000000\"/>\n",
       "<path d=\"M 231.3 214.6 Q 233.7 214.6, 235.7 215.7 Q 237.7 216.8, 238.7 218.7 Q 239.8 220.7, 239.8 223.2 Q 239.8 225.9, 238.6 228.1 Q 237.4 230.2, 235.2 231.4 Q 233.1 232.6, 230.3 232.6 Q 225.3 232.6, 222.7 229.2 Q 220.2 225.8, 220.2 219.0 Q 220.2 211.4, 223.3 207.6 Q 226.5 203.6, 232.5 203.6 Q 234.3 203.6, 235.7 204.0 Q 237.3 204.4, 238.7 205.3 L 237.1 208.0 Q 235.1 206.8, 232.5 206.8 Q 228.5 206.8, 226.5 209.4 Q 224.5 212.0, 224.2 217.3 Q 225.7 216.0, 227.5 215.3 Q 229.3 214.6, 231.3 214.6 M 230.3 229.3 Q 231.9 229.3, 233.1 228.5 Q 234.4 227.7, 235.1 226.3 Q 235.8 224.9, 235.8 223.2 Q 235.8 220.7, 234.4 219.2 Q 233.0 217.8, 230.5 217.8 Q 228.8 217.8, 227.1 218.5 Q 225.4 219.2, 224.2 220.4 Q 224.4 225.1, 225.9 227.2 Q 227.3 229.3, 230.3 229.3 \" fill=\"#000000\"/>\n",
       "</svg>"
      ],
      "text/plain": [
       "<IPython.core.display.SVG object>"
      ]
     },
     "metadata": {},
     "output_type": "display_data"
    }
   ],
   "source": [
    "# Create a molecule from SMILES\n",
    "mol = Chem.MolFromSmiles('c1ccccc1C')\n",
    "svg = label_bonds(mol, size=(400,300), offset_y=-0.2)\n",
    "display(SVG(svg))"
   ]
  },
  {
   "cell_type": "code",
   "execution_count": null,
   "metadata": {},
   "outputs": [],
   "source": []
  }
 ],
 "metadata": {
  "kernelspec": {
   "display_name": "venv",
   "language": "python",
   "name": "python3"
  },
  "language_info": {
   "codemirror_mode": {
    "name": "ipython",
    "version": 3
   },
   "file_extension": ".py",
   "mimetype": "text/x-python",
   "name": "python",
   "nbconvert_exporter": "python",
   "pygments_lexer": "ipython3",
   "version": "3.11.7"
  }
 },
 "nbformat": 4,
 "nbformat_minor": 2
}
