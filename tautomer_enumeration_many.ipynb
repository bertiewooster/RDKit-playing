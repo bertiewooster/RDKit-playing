{
 "cells": [
  {
   "cell_type": "code",
   "execution_count": null,
   "id": "23a1af56",
   "metadata": {},
   "outputs": [],
   "source": [
    "from rdkit import Chem\n",
    "from rdkit.Chem.MolStandardize import rdMolStandardize"
   ]
  },
  {
   "cell_type": "code",
   "execution_count": null,
   "id": "da3795f6",
   "metadata": {},
   "outputs": [
    {
     "name": "stdout",
     "output_type": "stream",
     "text": [
      "369 tautomers found\n"
     ]
    },
    {
     "name": "stderr",
     "output_type": "stream",
     "text": [
      "[17:24:09] Tautomer enumeration stopped at 369 tautomers: max transforms reached\n"
     ]
    }
   ],
   "source": [
    "sml = \"[2H]Oc1ccc(-c2oc3c([2H])c(O[2H])c(OC)c(O[2H])c3c(=O)c2O[2H])cc1O[2H]\"\n",
    "mol = Chem.MolFromSmiles(sml)\n",
    "tauts = rdMolStandardize.TautomerEnumerator().Enumerate(mol)\n",
    "n_tauts = len(tauts)\n",
    "print(f\"{n_tauts} tautomers found\")"
   ]
  }
 ],
 "metadata": {
  "kernelspec": {
   "display_name": "venv",
   "language": "python",
   "name": "python3"
  },
  "language_info": {
   "codemirror_mode": {
    "name": "ipython",
    "version": 3
   },
   "file_extension": ".py",
   "mimetype": "text/x-python",
   "name": "python",
   "nbconvert_exporter": "python",
   "pygments_lexer": "ipython3",
   "version": "3.11.7"
  }
 },
 "nbformat": 4,
 "nbformat_minor": 5
}
