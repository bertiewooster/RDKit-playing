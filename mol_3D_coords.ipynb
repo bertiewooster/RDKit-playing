{
 "cells": [
  {
   "cell_type": "code",
   "execution_count": 2,
   "metadata": {},
   "outputs": [
    {
     "name": "stdout",
     "output_type": "stream",
     "text": [
      "\n",
      "     RDKit          3D\n",
      "\n",
      "  1  0  0  0  0  0  0  0  0  0999 V2000\n",
      "   -5.4510   -3.6742   -0.0096 C   0  0  0  0  0  0  0  0  0  0  0  0\n",
      "M  END\n",
      "\n"
     ]
    },
    {
     "data": {
      "image/png": "[encoded data removed]",
      "text/plain": [
       "<rdkit.Chem.rdchem.RWMol at 0x10951e750>"
      ]
     },
     "execution_count": 2,
     "metadata": {},
     "output_type": "execute_result"
    }
   ],
   "source": [
    "from rdkit import Chem\n",
    "from rdkit.Chem import AllChem\n",
    "from rdkit.Geometry import Point3D\n",
    "\n",
    "def create_molecule_from_tabular_data(atom_data):\n",
    "    \"\"\"\n",
    "    Create an RDKit molecule with 3D coordinates from tabular data.\n",
    "\n",
    "    atom_data: list of dictionaries, where each dictionary contains\n",
    "               atom information and 3D coordinates.\n",
    "    Example format of atom_data:\n",
    "        [{'CenterNumber': 1, 'AtomicNumber': 6, 'X': -5.451002, 'Y': -3.674190, 'Z': -0.009636}, ...]\n",
    "    \"\"\"\n",
    "    \n",
    "    # Create an empty editable molecule\n",
    "    mol = Chem.RWMol()\n",
    "    \n",
    "    # Create a conformer to store 3D coordinates\n",
    "    conf = Chem.Conformer(len(atom_data))\n",
    "    \n",
    "    for atom_info in atom_data:\n",
    "        # Add atom by atomic number\n",
    "        atom = Chem.Atom(atom_info['AtomicNumber'])\n",
    "        idx = mol.AddAtom(atom)  # Add the atom to the molecule and get the index\n",
    "        \n",
    "        # Set the 3D coordinates\n",
    "        pos = Point3D(atom_info['X'], atom_info['Y'], atom_info['Z'])\n",
    "        conf.SetAtomPosition(idx, pos)\n",
    "    \n",
    "    # Add the conformer to the molecule\n",
    "    mol.AddConformer(conf)\n",
    "    \n",
    "    # Optionally, sanitize the molecule to finalize (not necessary for atomic coordinates)\n",
    "    Chem.SanitizeMol(mol)\n",
    "    \n",
    "    return mol\n",
    "\n",
    "# Example tabular data\n",
    "atom_data = [\n",
    "    {'CenterNumber': 1, 'AtomicNumber': 6, 'X': -5.451002, 'Y': -3.674190, 'Z': -0.009636},\n",
    "    # Add more atoms as needed\n",
    "]\n",
    "\n",
    "# Create molecule from the atom data\n",
    "mol = create_molecule_from_tabular_data(atom_data)\n",
    "\n",
    "# Optionally, visualize or further manipulate the molecule\n",
    "print(Chem.MolToMolBlock(mol))  # Prints the MOL block (3D coordinates)\n",
    "mol"
   ]
  },
  {
   "cell_type": "code",
   "execution_count": null,
   "metadata": {},
   "outputs": [],
   "source": []
  }
 ],
 "metadata": {
  "kernelspec": {
   "display_name": "venv",
   "language": "python",
   "name": "python3"
  },
  "language_info": {
   "codemirror_mode": {
    "name": "ipython",
    "version": 3
   },
   "file_extension": ".py",
   "mimetype": "text/x-python",
   "name": "python",
   "nbconvert_exporter": "python",
   "pygments_lexer": "ipython3",
   "version": "3.11.7"
  }
 },
 "nbformat": 4,
 "nbformat_minor": 2
}
