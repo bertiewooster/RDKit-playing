{
 "cells": [
  {
   "cell_type": "markdown",
   "metadata": {},
   "source": [
    "## [Drawing Molecules (Jupyter)](https://www.rdkit.org/docs/Cookbook.html#drawing-molecules-jupyter)"
   ]
  },
  {
   "cell_type": "markdown",
   "metadata": {},
   "source": [
    "### [Include an Atom Index](https://www.rdkit.org/docs/Cookbook.html#include-an-atom-index)"
   ]
  },
  {
   "cell_type": "code",
   "execution_count": null,
   "metadata": {},
   "outputs": [
    {
     "ename": "",
     "evalue": "",
     "output_type": "error",
     "traceback": [
      "\u001b[1;31mFailed to start the Kernel. \n",
      "\u001b[1;31mJupyter server crashed. Unable to connect. \n",
      "\u001b[1;31mError code from Jupyter: 1\n",
      "\u001b[1;31mTraceback (most recent call last):\n",
      "\u001b[1;31m  File \"/Users/jemonat/opt/anaconda3/envs/my-rdkit-env/bin/jupyter-notebook\", line 7, in <module>\n",
      "\u001b[1;31m\n",
      "\u001b[1;31m    from notebook.notebookapp import main\n",
      "\u001b[1;31m  File \"/Users/jemonat/opt/anaconda3/envs/my-rdkit-env/lib/python3.10/site-packages/notebook/notebookapp.py\", line 59, in <module>\n",
      "\u001b[1;31m\n",
      "\u001b[1;31m    from tornado import httpserver\n",
      "\u001b[1;31m  File \"/Users/jemonat/opt/anaconda3/envs/my-rdkit-env/lib/python3.10/site-packages/tornado/httpserver.py\", line 29, in <module>\n",
      "\u001b[1;31m\n",
      "\u001b[1;31m    import ssl\n",
      "\u001b[1;31m  File \"/Users/jemonat/opt/anaconda3/envs/my-rdkit-env/lib/python3.10/ssl.py\", line 98, in <module>\n",
      "\u001b[1;31m\n",
      "\u001b[1;31m    import _ssl             # if we can't import it, let the error propagate\n",
      "\u001b[1;31mImportError: dlopen(/Users/jemonat/opt/anaconda3/envs/my-rdkit-env/lib/python3.10/lib-dynload/_ssl.cpython-310-darwin.so, 0x0002): Library not loaded: @rpath/libssl.1.1.dylib\n",
      "\u001b[1;31m  Referenced from: <9EDE67EB-4BB4-3203-9312-EEF3934CF29C> /Users/jemonat/opt/anaconda3/envs/my-rdkit-env/lib/python3.10/lib-dynload/_ssl.cpython-310-darwin.so\n",
      "\u001b[1;31m  Reason: tried: '/Users/jemonat/opt/anaconda3/envs/my-rdkit-env/lib/libssl.1.1.dylib' (mach-o file, but is an incompatible architecture (have 'arm64', need 'x86_64')), '/System/Volumes/Preboot/Cryptexes/OS/Users/jemonat/opt/anaconda3/envs/my-rdkit-env/lib/libssl.1.1.dylib' (no such file), '/Users/jemonat/opt/anaconda3/envs/my-rdkit-env/lib/libssl.1.1.dylib' (mach-o file, but is an incompatible architecture (have 'arm64', need 'x86_64')), '/System/Volumes/Preboot/Cryptexes/OS/Users/jemonat/opt/anaconda3/envs/my-rdkit-env/lib/libssl.1.1.dylib' (no such file), '/Users/jemonat/opt/anaconda3/envs/my-rdkit-env/lib/python3.10/lib-dynload/../../libssl.1.1.dylib' (mach-o file, but is an incompatible architecture (have 'arm64', need 'x86_64')), '/Users/jemonat/opt/anaconda3/envs/my-rdkit-env/lib/libssl.1.1.dylib' (mach-o file, but is an incompatible architecture (have 'arm64', need 'x86_64')), '/System/Volumes/Preboot/Cryptexes/OS/Users/jemonat/opt/anaconda3/envs/my-rdkit-env/lib/libssl.1.1.dylib' (no such file), '/Users/jemonat/opt/anaconda3/envs/my-rdkit-env/lib/libssl.1.1.dylib' (mach-o file, but is an incompatible architecture (have 'arm64', need 'x86_64')), '/System/Volumes/Preboot/Cryptexes/OS/Users/jemonat/opt/anaconda3/envs/my-rdkit-env/lib/libssl.1.1.dylib' (no such file), '/Users/jemonat/opt/anaconda3/envs/my-rdkit-env/lib/python3.10/lib-dynload/../../libssl.1.1.dylib' (mach-o file, but is an incompatible architecture (have 'arm64', need 'x86_64')), '/Users/jemonat/opt/anaconda3/envs/my-rdkit-env/lib/libssl.1.1.dylib' (mach-o file, but is an incompatible architecture (have 'arm64', need 'x86_64')), '/System/Volumes/Preboot/Cryptexes/OS/Users/jemonat/opt/anaconda3/envs/my-rdkit-env/lib/libssl.1.1.dylib' (no such file), '/Users/jemonat/opt/anaconda3/envs/my-rdkit-env/bin/../lib/libssl.1.1.dylib' (mach-o file, but is an incompatible architecture (have 'arm64', need 'x86_64')), '/Users/jemonat/opt/anaconda3/envs/my-rdkit-env/lib/libssl.1.1.dylib' (mach-o file, but is an incompatible architecture (have 'arm64', need 'x86_64')), '/System/Volumes/Preboot/Cryptexes/OS/Users/jemonat/opt/anaconda3/envs/my-rdkit-env/lib/libssl.1.1.dylib' (no such file), '/Users/jemonat/opt/anaconda3/envs/my-rdkit-env/bin/../lib/libssl.1.1.dylib' (mach-o file, but is an incompatible architecture (have 'arm64', need 'x86_64')), '/System/Volumes/Preboot/Cryptexes/OS@rpath/libssl.1.1.dylib' (no such file), '/Users/jemonat/opt/anaconda3/envs/my-rdkit-env/lib/libssl.1.1.dylib' (mach-o file, but is an incompatible architecture (have 'arm64', need 'x86_64')), '/System/Volumes/Preboot/Cryptexes/OS/Users/jemonat/opt/anaconda3/envs/my-rdkit-env/lib/libssl.1.1.dylib' (no such file), '/Users/jemonat/opt/anaconda3/envs/my-rdkit-env/lib/libssl.1.1.dylib' (mach-o file, but is an incompatible architecture (have 'arm64', need 'x86_64')), '/System/Volumes/Preboot/Cryptexes/OS/Users/jemonat/opt/anaconda3/envs/my-rdkit-env/lib/libssl.1.1.dylib' (no such file), '/Users/jemonat/opt/anaconda3/envs/my-rdkit-env/lib/python3.10/lib-dynload/../../libssl.1.1.dylib' (mach-o file, but is an incompatible architecture (have 'arm64', need 'x86_64')), '/Users/jemonat/opt/anaconda3/envs/my-rdkit-env/lib/libssl.1.1.dylib' (mach-o file, but is an incompatible architecture (have 'arm64', need 'x86_64')), '/System/Volumes/Preboot/Cryptexes/OS/Users/jemonat/opt/anaconda3/envs/my-rdkit-env/lib/libssl.1.1.dylib' (no such file), '/Users/jemonat/opt/anaconda3/envs/my-rdkit-env/lib/libssl.1.1.dylib' (mach-o file, but is an incompatible architecture (have 'arm64', need 'x86_64')), '/System/Volumes/Preboot/Cryptexes/OS/Users/jemonat/opt/anaconda3/envs/my-rdkit-env/lib/libssl.1.1.dylib' (no such file), '/Users/jemonat/opt/anaconda3/envs/my-rdkit-env/lib/python3.10/lib-dynload/../../libssl.1.1.dylib' (mach-o file, but is an incompatible architecture (have 'arm64', need 'x86_64')), '/Users/jemonat/opt/anaconda3/envs/my-rdkit-env/lib/libssl.1.1.dylib' (mach-o file, but is an incompatible architecture (have 'arm64', need 'x86_64')), '/System/Volumes/Preboot/Cryptexes/OS/Users/jemonat/opt/anaconda3/envs/my-rdkit-env/lib/libssl.1.1.dylib' (no such file), '/Users/jemonat/opt/anaconda3/envs/my-rdkit-env/bin/../lib/libssl.1.1.dylib' (mach-o file, but is an incompatible architecture (have 'arm64', need 'x86_64')), '/Users/jemonat/opt/anaconda3/envs/my-rdkit-env/lib/libssl.1.1.dylib' (mach-o file, but is an incompatible architecture (have 'arm64', need 'x86_64')), '/System/Volumes/Preboot/Cryptexes/OS/Users/jemonat/opt/anaconda3/envs/my-rdkit-env/lib/libssl.1.1.dylib' (no such file), '/Users/jemonat/opt/anaconda3/envs/my-rdkit-env/bin/../lib/libssl.1.1.dylib' (mach-o file, but is an incompatible architecture (have 'arm64', need 'x86_64')), '/usr/local/lib/libssl.1.1.dylib' (no such file), '/usr/lib/libssl.1.1.dylib' (no such file, not in dyld cache). \n",
      "\u001b[1;31mView Jupyter <a href='command:jupyter.viewOutput'>log</a> for further details."
     ]
    }
   ],
   "source": [
    "from rdkit import Chem\n",
    "from rdkit.Chem.Draw import IPythonConsole\n",
    "from rdkit.Chem import Draw\n",
    "IPythonConsole.ipython_useSVG=True  #< set this to False if you want PNGs instead of SVGs"
   ]
  },
  {
   "cell_type": "code",
   "execution_count": null,
   "metadata": {},
   "outputs": [
    {
     "ename": "",
     "evalue": "",
     "output_type": "error",
     "traceback": [
      "\u001b[1;31mFailed to start the Kernel. \n",
      "\u001b[1;31mJupyter server crashed. Unable to connect. \n",
      "\u001b[1;31mError code from Jupyter: 1\n",
      "\u001b[1;31mTraceback (most recent call last):\n",
      "\u001b[1;31m  File \"/Users/jemonat/opt/anaconda3/envs/my-rdkit-env/bin/jupyter-notebook\", line 7, in <module>\n",
      "\u001b[1;31m\n",
      "\u001b[1;31m    from notebook.notebookapp import main\n",
      "\u001b[1;31m  File \"/Users/jemonat/opt/anaconda3/envs/my-rdkit-env/lib/python3.10/site-packages/notebook/notebookapp.py\", line 59, in <module>\n",
      "\u001b[1;31m\n",
      "\u001b[1;31m    from tornado import httpserver\n",
      "\u001b[1;31m  File \"/Users/jemonat/opt/anaconda3/envs/my-rdkit-env/lib/python3.10/site-packages/tornado/httpserver.py\", line 29, in <module>\n",
      "\u001b[1;31m\n",
      "\u001b[1;31m    import ssl\n",
      "\u001b[1;31m  File \"/Users/jemonat/opt/anaconda3/envs/my-rdkit-env/lib/python3.10/ssl.py\", line 98, in <module>\n",
      "\u001b[1;31m\n",
      "\u001b[1;31m    import _ssl             # if we can't import it, let the error propagate\n",
      "\u001b[1;31mImportError: dlopen(/Users/jemonat/opt/anaconda3/envs/my-rdkit-env/lib/python3.10/lib-dynload/_ssl.cpython-310-darwin.so, 0x0002): Library not loaded: @rpath/libssl.1.1.dylib\n",
      "\u001b[1;31m  Referenced from: <9EDE67EB-4BB4-3203-9312-EEF3934CF29C> /Users/jemonat/opt/anaconda3/envs/my-rdkit-env/lib/python3.10/lib-dynload/_ssl.cpython-310-darwin.so\n",
      "\u001b[1;31m  Reason: tried: '/Users/jemonat/opt/anaconda3/envs/my-rdkit-env/lib/libssl.1.1.dylib' (mach-o file, but is an incompatible architecture (have 'arm64', need 'x86_64')), '/System/Volumes/Preboot/Cryptexes/OS/Users/jemonat/opt/anaconda3/envs/my-rdkit-env/lib/libssl.1.1.dylib' (no such file), '/Users/jemonat/opt/anaconda3/envs/my-rdkit-env/lib/libssl.1.1.dylib' (mach-o file, but is an incompatible architecture (have 'arm64', need 'x86_64')), '/System/Volumes/Preboot/Cryptexes/OS/Users/jemonat/opt/anaconda3/envs/my-rdkit-env/lib/libssl.1.1.dylib' (no such file), '/Users/jemonat/opt/anaconda3/envs/my-rdkit-env/lib/python3.10/lib-dynload/../../libssl.1.1.dylib' (mach-o file, but is an incompatible architecture (have 'arm64', need 'x86_64')), '/Users/jemonat/opt/anaconda3/envs/my-rdkit-env/lib/libssl.1.1.dylib' (mach-o file, but is an incompatible architecture (have 'arm64', need 'x86_64')), '/System/Volumes/Preboot/Cryptexes/OS/Users/jemonat/opt/anaconda3/envs/my-rdkit-env/lib/libssl.1.1.dylib' (no such file), '/Users/jemonat/opt/anaconda3/envs/my-rdkit-env/lib/libssl.1.1.dylib' (mach-o file, but is an incompatible architecture (have 'arm64', need 'x86_64')), '/System/Volumes/Preboot/Cryptexes/OS/Users/jemonat/opt/anaconda3/envs/my-rdkit-env/lib/libssl.1.1.dylib' (no such file), '/Users/jemonat/opt/anaconda3/envs/my-rdkit-env/lib/python3.10/lib-dynload/../../libssl.1.1.dylib' (mach-o file, but is an incompatible architecture (have 'arm64', need 'x86_64')), '/Users/jemonat/opt/anaconda3/envs/my-rdkit-env/lib/libssl.1.1.dylib' (mach-o file, but is an incompatible architecture (have 'arm64', need 'x86_64')), '/System/Volumes/Preboot/Cryptexes/OS/Users/jemonat/opt/anaconda3/envs/my-rdkit-env/lib/libssl.1.1.dylib' (no such file), '/Users/jemonat/opt/anaconda3/envs/my-rdkit-env/bin/../lib/libssl.1.1.dylib' (mach-o file, but is an incompatible architecture (have 'arm64', need 'x86_64')), '/Users/jemonat/opt/anaconda3/envs/my-rdkit-env/lib/libssl.1.1.dylib' (mach-o file, but is an incompatible architecture (have 'arm64', need 'x86_64')), '/System/Volumes/Preboot/Cryptexes/OS/Users/jemonat/opt/anaconda3/envs/my-rdkit-env/lib/libssl.1.1.dylib' (no such file), '/Users/jemonat/opt/anaconda3/envs/my-rdkit-env/bin/../lib/libssl.1.1.dylib' (mach-o file, but is an incompatible architecture (have 'arm64', need 'x86_64')), '/System/Volumes/Preboot/Cryptexes/OS@rpath/libssl.1.1.dylib' (no such file), '/Users/jemonat/opt/anaconda3/envs/my-rdkit-env/lib/libssl.1.1.dylib' (mach-o file, but is an incompatible architecture (have 'arm64', need 'x86_64')), '/System/Volumes/Preboot/Cryptexes/OS/Users/jemonat/opt/anaconda3/envs/my-rdkit-env/lib/libssl.1.1.dylib' (no such file), '/Users/jemonat/opt/anaconda3/envs/my-rdkit-env/lib/libssl.1.1.dylib' (mach-o file, but is an incompatible architecture (have 'arm64', need 'x86_64')), '/System/Volumes/Preboot/Cryptexes/OS/Users/jemonat/opt/anaconda3/envs/my-rdkit-env/lib/libssl.1.1.dylib' (no such file), '/Users/jemonat/opt/anaconda3/envs/my-rdkit-env/lib/python3.10/lib-dynload/../../libssl.1.1.dylib' (mach-o file, but is an incompatible architecture (have 'arm64', need 'x86_64')), '/Users/jemonat/opt/anaconda3/envs/my-rdkit-env/lib/libssl.1.1.dylib' (mach-o file, but is an incompatible architecture (have 'arm64', need 'x86_64')), '/System/Volumes/Preboot/Cryptexes/OS/Users/jemonat/opt/anaconda3/envs/my-rdkit-env/lib/libssl.1.1.dylib' (no such file), '/Users/jemonat/opt/anaconda3/envs/my-rdkit-env/lib/libssl.1.1.dylib' (mach-o file, but is an incompatible architecture (have 'arm64', need 'x86_64')), '/System/Volumes/Preboot/Cryptexes/OS/Users/jemonat/opt/anaconda3/envs/my-rdkit-env/lib/libssl.1.1.dylib' (no such file), '/Users/jemonat/opt/anaconda3/envs/my-rdkit-env/lib/python3.10/lib-dynload/../../libssl.1.1.dylib' (mach-o file, but is an incompatible architecture (have 'arm64', need 'x86_64')), '/Users/jemonat/opt/anaconda3/envs/my-rdkit-env/lib/libssl.1.1.dylib' (mach-o file, but is an incompatible architecture (have 'arm64', need 'x86_64')), '/System/Volumes/Preboot/Cryptexes/OS/Users/jemonat/opt/anaconda3/envs/my-rdkit-env/lib/libssl.1.1.dylib' (no such file), '/Users/jemonat/opt/anaconda3/envs/my-rdkit-env/bin/../lib/libssl.1.1.dylib' (mach-o file, but is an incompatible architecture (have 'arm64', need 'x86_64')), '/Users/jemonat/opt/anaconda3/envs/my-rdkit-env/lib/libssl.1.1.dylib' (mach-o file, but is an incompatible architecture (have 'arm64', need 'x86_64')), '/System/Volumes/Preboot/Cryptexes/OS/Users/jemonat/opt/anaconda3/envs/my-rdkit-env/lib/libssl.1.1.dylib' (no such file), '/Users/jemonat/opt/anaconda3/envs/my-rdkit-env/bin/../lib/libssl.1.1.dylib' (mach-o file, but is an incompatible architecture (have 'arm64', need 'x86_64')), '/usr/local/lib/libssl.1.1.dylib' (no such file), '/usr/lib/libssl.1.1.dylib' (no such file, not in dyld cache). \n",
      "\u001b[1;31mView Jupyter <a href='command:jupyter.viewOutput'>log</a> for further details."
     ]
    }
   ],
   "source": [
    "def mol_with_atom_index(mol):\n",
    "    for atom in mol.GetAtoms():\n",
    "        atom.SetAtomMapNum(atom.GetIdx())\n",
    "    return mol"
   ]
  },
  {
   "cell_type": "code",
   "execution_count": null,
   "metadata": {},
   "outputs": [
    {
     "ename": "",
     "evalue": "",
     "output_type": "error",
     "traceback": [
      "\u001b[1;31mFailed to start the Kernel. \n",
      "\u001b[1;31mJupyter server crashed. Unable to connect. \n",
      "\u001b[1;31mError code from Jupyter: 1\n",
      "\u001b[1;31mTraceback (most recent call last):\n",
      "\u001b[1;31m  File \"/Users/jemonat/opt/anaconda3/envs/my-rdkit-env/bin/jupyter-notebook\", line 7, in <module>\n",
      "\u001b[1;31m\n",
      "\u001b[1;31m    from notebook.notebookapp import main\n",
      "\u001b[1;31m  File \"/Users/jemonat/opt/anaconda3/envs/my-rdkit-env/lib/python3.10/site-packages/notebook/notebookapp.py\", line 59, in <module>\n",
      "\u001b[1;31m\n",
      "\u001b[1;31m    from tornado import httpserver\n",
      "\u001b[1;31m  File \"/Users/jemonat/opt/anaconda3/envs/my-rdkit-env/lib/python3.10/site-packages/tornado/httpserver.py\", line 29, in <module>\n",
      "\u001b[1;31m\n",
      "\u001b[1;31m    import ssl\n",
      "\u001b[1;31m  File \"/Users/jemonat/opt/anaconda3/envs/my-rdkit-env/lib/python3.10/ssl.py\", line 98, in <module>\n",
      "\u001b[1;31m\n",
      "\u001b[1;31m    import _ssl             # if we can't import it, let the error propagate\n",
      "\u001b[1;31mImportError: dlopen(/Users/jemonat/opt/anaconda3/envs/my-rdkit-env/lib/python3.10/lib-dynload/_ssl.cpython-310-darwin.so, 0x0002): Library not loaded: @rpath/libssl.1.1.dylib\n",
      "\u001b[1;31m  Referenced from: <9EDE67EB-4BB4-3203-9312-EEF3934CF29C> /Users/jemonat/opt/anaconda3/envs/my-rdkit-env/lib/python3.10/lib-dynload/_ssl.cpython-310-darwin.so\n",
      "\u001b[1;31m  Reason: tried: '/Users/jemonat/opt/anaconda3/envs/my-rdkit-env/lib/libssl.1.1.dylib' (mach-o file, but is an incompatible architecture (have 'arm64', need 'x86_64')), '/System/Volumes/Preboot/Cryptexes/OS/Users/jemonat/opt/anaconda3/envs/my-rdkit-env/lib/libssl.1.1.dylib' (no such file), '/Users/jemonat/opt/anaconda3/envs/my-rdkit-env/lib/libssl.1.1.dylib' (mach-o file, but is an incompatible architecture (have 'arm64', need 'x86_64')), '/System/Volumes/Preboot/Cryptexes/OS/Users/jemonat/opt/anaconda3/envs/my-rdkit-env/lib/libssl.1.1.dylib' (no such file), '/Users/jemonat/opt/anaconda3/envs/my-rdkit-env/lib/python3.10/lib-dynload/../../libssl.1.1.dylib' (mach-o file, but is an incompatible architecture (have 'arm64', need 'x86_64')), '/Users/jemonat/opt/anaconda3/envs/my-rdkit-env/lib/libssl.1.1.dylib' (mach-o file, but is an incompatible architecture (have 'arm64', need 'x86_64')), '/System/Volumes/Preboot/Cryptexes/OS/Users/jemonat/opt/anaconda3/envs/my-rdkit-env/lib/libssl.1.1.dylib' (no such file), '/Users/jemonat/opt/anaconda3/envs/my-rdkit-env/lib/libssl.1.1.dylib' (mach-o file, but is an incompatible architecture (have 'arm64', need 'x86_64')), '/System/Volumes/Preboot/Cryptexes/OS/Users/jemonat/opt/anaconda3/envs/my-rdkit-env/lib/libssl.1.1.dylib' (no such file), '/Users/jemonat/opt/anaconda3/envs/my-rdkit-env/lib/python3.10/lib-dynload/../../libssl.1.1.dylib' (mach-o file, but is an incompatible architecture (have 'arm64', need 'x86_64')), '/Users/jemonat/opt/anaconda3/envs/my-rdkit-env/lib/libssl.1.1.dylib' (mach-o file, but is an incompatible architecture (have 'arm64', need 'x86_64')), '/System/Volumes/Preboot/Cryptexes/OS/Users/jemonat/opt/anaconda3/envs/my-rdkit-env/lib/libssl.1.1.dylib' (no such file), '/Users/jemonat/opt/anaconda3/envs/my-rdkit-env/bin/../lib/libssl.1.1.dylib' (mach-o file, but is an incompatible architecture (have 'arm64', need 'x86_64')), '/Users/jemonat/opt/anaconda3/envs/my-rdkit-env/lib/libssl.1.1.dylib' (mach-o file, but is an incompatible architecture (have 'arm64', need 'x86_64')), '/System/Volumes/Preboot/Cryptexes/OS/Users/jemonat/opt/anaconda3/envs/my-rdkit-env/lib/libssl.1.1.dylib' (no such file), '/Users/jemonat/opt/anaconda3/envs/my-rdkit-env/bin/../lib/libssl.1.1.dylib' (mach-o file, but is an incompatible architecture (have 'arm64', need 'x86_64')), '/System/Volumes/Preboot/Cryptexes/OS@rpath/libssl.1.1.dylib' (no such file), '/Users/jemonat/opt/anaconda3/envs/my-rdkit-env/lib/libssl.1.1.dylib' (mach-o file, but is an incompatible architecture (have 'arm64', need 'x86_64')), '/System/Volumes/Preboot/Cryptexes/OS/Users/jemonat/opt/anaconda3/envs/my-rdkit-env/lib/libssl.1.1.dylib' (no such file), '/Users/jemonat/opt/anaconda3/envs/my-rdkit-env/lib/libssl.1.1.dylib' (mach-o file, but is an incompatible architecture (have 'arm64', need 'x86_64')), '/System/Volumes/Preboot/Cryptexes/OS/Users/jemonat/opt/anaconda3/envs/my-rdkit-env/lib/libssl.1.1.dylib' (no such file), '/Users/jemonat/opt/anaconda3/envs/my-rdkit-env/lib/python3.10/lib-dynload/../../libssl.1.1.dylib' (mach-o file, but is an incompatible architecture (have 'arm64', need 'x86_64')), '/Users/jemonat/opt/anaconda3/envs/my-rdkit-env/lib/libssl.1.1.dylib' (mach-o file, but is an incompatible architecture (have 'arm64', need 'x86_64')), '/System/Volumes/Preboot/Cryptexes/OS/Users/jemonat/opt/anaconda3/envs/my-rdkit-env/lib/libssl.1.1.dylib' (no such file), '/Users/jemonat/opt/anaconda3/envs/my-rdkit-env/lib/libssl.1.1.dylib' (mach-o file, but is an incompatible architecture (have 'arm64', need 'x86_64')), '/System/Volumes/Preboot/Cryptexes/OS/Users/jemonat/opt/anaconda3/envs/my-rdkit-env/lib/libssl.1.1.dylib' (no such file), '/Users/jemonat/opt/anaconda3/envs/my-rdkit-env/lib/python3.10/lib-dynload/../../libssl.1.1.dylib' (mach-o file, but is an incompatible architecture (have 'arm64', need 'x86_64')), '/Users/jemonat/opt/anaconda3/envs/my-rdkit-env/lib/libssl.1.1.dylib' (mach-o file, but is an incompatible architecture (have 'arm64', need 'x86_64')), '/System/Volumes/Preboot/Cryptexes/OS/Users/jemonat/opt/anaconda3/envs/my-rdkit-env/lib/libssl.1.1.dylib' (no such file), '/Users/jemonat/opt/anaconda3/envs/my-rdkit-env/bin/../lib/libssl.1.1.dylib' (mach-o file, but is an incompatible architecture (have 'arm64', need 'x86_64')), '/Users/jemonat/opt/anaconda3/envs/my-rdkit-env/lib/libssl.1.1.dylib' (mach-o file, but is an incompatible architecture (have 'arm64', need 'x86_64')), '/System/Volumes/Preboot/Cryptexes/OS/Users/jemonat/opt/anaconda3/envs/my-rdkit-env/lib/libssl.1.1.dylib' (no such file), '/Users/jemonat/opt/anaconda3/envs/my-rdkit-env/bin/../lib/libssl.1.1.dylib' (mach-o file, but is an incompatible architecture (have 'arm64', need 'x86_64')), '/usr/local/lib/libssl.1.1.dylib' (no such file), '/usr/lib/libssl.1.1.dylib' (no such file, not in dyld cache). \n",
      "\u001b[1;31mView Jupyter <a href='command:jupyter.viewOutput'>log</a> for further details."
     ]
    }
   ],
   "source": [
    "# Test in a kinase inhibitor\n",
    "mol = Chem.MolFromSmiles(\"C1CC2=C3C(=CC=C2)C(=CN3C1)[C@H]4[C@@H](C(=O)NC4=O)C5=CNC6=CC=CC=C65\")\n",
    "# Default\n",
    "mol"
   ]
  },
  {
   "cell_type": "code",
   "execution_count": null,
   "metadata": {},
   "outputs": [
    {
     "ename": "",
     "evalue": "",
     "output_type": "error",
     "traceback": [
      "\u001b[1;31mFailed to start the Kernel. \n",
      "\u001b[1;31mJupyter server crashed. Unable to connect. \n",
      "\u001b[1;31mError code from Jupyter: 1\n",
      "\u001b[1;31mTraceback (most recent call last):\n",
      "\u001b[1;31m  File \"/Users/jemonat/opt/anaconda3/envs/my-rdkit-env/bin/jupyter-notebook\", line 7, in <module>\n",
      "\u001b[1;31m\n",
      "\u001b[1;31m    from notebook.notebookapp import main\n",
      "\u001b[1;31m  File \"/Users/jemonat/opt/anaconda3/envs/my-rdkit-env/lib/python3.10/site-packages/notebook/notebookapp.py\", line 59, in <module>\n",
      "\u001b[1;31m\n",
      "\u001b[1;31m    from tornado import httpserver\n",
      "\u001b[1;31m  File \"/Users/jemonat/opt/anaconda3/envs/my-rdkit-env/lib/python3.10/site-packages/tornado/httpserver.py\", line 29, in <module>\n",
      "\u001b[1;31m\n",
      "\u001b[1;31m    import ssl\n",
      "\u001b[1;31m  File \"/Users/jemonat/opt/anaconda3/envs/my-rdkit-env/lib/python3.10/ssl.py\", line 98, in <module>\n",
      "\u001b[1;31m\n",
      "\u001b[1;31m    import _ssl             # if we can't import it, let the error propagate\n",
      "\u001b[1;31mImportError: dlopen(/Users/jemonat/opt/anaconda3/envs/my-rdkit-env/lib/python3.10/lib-dynload/_ssl.cpython-310-darwin.so, 0x0002): Library not loaded: @rpath/libssl.1.1.dylib\n",
      "\u001b[1;31m  Referenced from: <9EDE67EB-4BB4-3203-9312-EEF3934CF29C> /Users/jemonat/opt/anaconda3/envs/my-rdkit-env/lib/python3.10/lib-dynload/_ssl.cpython-310-darwin.so\n",
      "\u001b[1;31m  Reason: tried: '/Users/jemonat/opt/anaconda3/envs/my-rdkit-env/lib/libssl.1.1.dylib' (mach-o file, but is an incompatible architecture (have 'arm64', need 'x86_64')), '/System/Volumes/Preboot/Cryptexes/OS/Users/jemonat/opt/anaconda3/envs/my-rdkit-env/lib/libssl.1.1.dylib' (no such file), '/Users/jemonat/opt/anaconda3/envs/my-rdkit-env/lib/libssl.1.1.dylib' (mach-o file, but is an incompatible architecture (have 'arm64', need 'x86_64')), '/System/Volumes/Preboot/Cryptexes/OS/Users/jemonat/opt/anaconda3/envs/my-rdkit-env/lib/libssl.1.1.dylib' (no such file), '/Users/jemonat/opt/anaconda3/envs/my-rdkit-env/lib/python3.10/lib-dynload/../../libssl.1.1.dylib' (mach-o file, but is an incompatible architecture (have 'arm64', need 'x86_64')), '/Users/jemonat/opt/anaconda3/envs/my-rdkit-env/lib/libssl.1.1.dylib' (mach-o file, but is an incompatible architecture (have 'arm64', need 'x86_64')), '/System/Volumes/Preboot/Cryptexes/OS/Users/jemonat/opt/anaconda3/envs/my-rdkit-env/lib/libssl.1.1.dylib' (no such file), '/Users/jemonat/opt/anaconda3/envs/my-rdkit-env/lib/libssl.1.1.dylib' (mach-o file, but is an incompatible architecture (have 'arm64', need 'x86_64')), '/System/Volumes/Preboot/Cryptexes/OS/Users/jemonat/opt/anaconda3/envs/my-rdkit-env/lib/libssl.1.1.dylib' (no such file), '/Users/jemonat/opt/anaconda3/envs/my-rdkit-env/lib/python3.10/lib-dynload/../../libssl.1.1.dylib' (mach-o file, but is an incompatible architecture (have 'arm64', need 'x86_64')), '/Users/jemonat/opt/anaconda3/envs/my-rdkit-env/lib/libssl.1.1.dylib' (mach-o file, but is an incompatible architecture (have 'arm64', need 'x86_64')), '/System/Volumes/Preboot/Cryptexes/OS/Users/jemonat/opt/anaconda3/envs/my-rdkit-env/lib/libssl.1.1.dylib' (no such file), '/Users/jemonat/opt/anaconda3/envs/my-rdkit-env/bin/../lib/libssl.1.1.dylib' (mach-o file, but is an incompatible architecture (have 'arm64', need 'x86_64')), '/Users/jemonat/opt/anaconda3/envs/my-rdkit-env/lib/libssl.1.1.dylib' (mach-o file, but is an incompatible architecture (have 'arm64', need 'x86_64')), '/System/Volumes/Preboot/Cryptexes/OS/Users/jemonat/opt/anaconda3/envs/my-rdkit-env/lib/libssl.1.1.dylib' (no such file), '/Users/jemonat/opt/anaconda3/envs/my-rdkit-env/bin/../lib/libssl.1.1.dylib' (mach-o file, but is an incompatible architecture (have 'arm64', need 'x86_64')), '/System/Volumes/Preboot/Cryptexes/OS@rpath/libssl.1.1.dylib' (no such file), '/Users/jemonat/opt/anaconda3/envs/my-rdkit-env/lib/libssl.1.1.dylib' (mach-o file, but is an incompatible architecture (have 'arm64', need 'x86_64')), '/System/Volumes/Preboot/Cryptexes/OS/Users/jemonat/opt/anaconda3/envs/my-rdkit-env/lib/libssl.1.1.dylib' (no such file), '/Users/jemonat/opt/anaconda3/envs/my-rdkit-env/lib/libssl.1.1.dylib' (mach-o file, but is an incompatible architecture (have 'arm64', need 'x86_64')), '/System/Volumes/Preboot/Cryptexes/OS/Users/jemonat/opt/anaconda3/envs/my-rdkit-env/lib/libssl.1.1.dylib' (no such file), '/Users/jemonat/opt/anaconda3/envs/my-rdkit-env/lib/python3.10/lib-dynload/../../libssl.1.1.dylib' (mach-o file, but is an incompatible architecture (have 'arm64', need 'x86_64')), '/Users/jemonat/opt/anaconda3/envs/my-rdkit-env/lib/libssl.1.1.dylib' (mach-o file, but is an incompatible architecture (have 'arm64', need 'x86_64')), '/System/Volumes/Preboot/Cryptexes/OS/Users/jemonat/opt/anaconda3/envs/my-rdkit-env/lib/libssl.1.1.dylib' (no such file), '/Users/jemonat/opt/anaconda3/envs/my-rdkit-env/lib/libssl.1.1.dylib' (mach-o file, but is an incompatible architecture (have 'arm64', need 'x86_64')), '/System/Volumes/Preboot/Cryptexes/OS/Users/jemonat/opt/anaconda3/envs/my-rdkit-env/lib/libssl.1.1.dylib' (no such file), '/Users/jemonat/opt/anaconda3/envs/my-rdkit-env/lib/python3.10/lib-dynload/../../libssl.1.1.dylib' (mach-o file, but is an incompatible architecture (have 'arm64', need 'x86_64')), '/Users/jemonat/opt/anaconda3/envs/my-rdkit-env/lib/libssl.1.1.dylib' (mach-o file, but is an incompatible architecture (have 'arm64', need 'x86_64')), '/System/Volumes/Preboot/Cryptexes/OS/Users/jemonat/opt/anaconda3/envs/my-rdkit-env/lib/libssl.1.1.dylib' (no such file), '/Users/jemonat/opt/anaconda3/envs/my-rdkit-env/bin/../lib/libssl.1.1.dylib' (mach-o file, but is an incompatible architecture (have 'arm64', need 'x86_64')), '/Users/jemonat/opt/anaconda3/envs/my-rdkit-env/lib/libssl.1.1.dylib' (mach-o file, but is an incompatible architecture (have 'arm64', need 'x86_64')), '/System/Volumes/Preboot/Cryptexes/OS/Users/jemonat/opt/anaconda3/envs/my-rdkit-env/lib/libssl.1.1.dylib' (no such file), '/Users/jemonat/opt/anaconda3/envs/my-rdkit-env/bin/../lib/libssl.1.1.dylib' (mach-o file, but is an incompatible architecture (have 'arm64', need 'x86_64')), '/usr/local/lib/libssl.1.1.dylib' (no such file), '/usr/lib/libssl.1.1.dylib' (no such file, not in dyld cache). \n",
      "\u001b[1;31mView Jupyter <a href='command:jupyter.viewOutput'>log</a> for further details."
     ]
    }
   ],
   "source": [
    "# With atom index\n",
    "mol_with_atom_index(mol)"
   ]
  },
  {
   "cell_type": "code",
   "execution_count": null,
   "metadata": {},
   "outputs": [
    {
     "ename": "",
     "evalue": "",
     "output_type": "error",
     "traceback": [
      "\u001b[1;31mFailed to start the Kernel. \n",
      "\u001b[1;31mJupyter server crashed. Unable to connect. \n",
      "\u001b[1;31mError code from Jupyter: 1\n",
      "\u001b[1;31mTraceback (most recent call last):\n",
      "\u001b[1;31m  File \"/Users/jemonat/opt/anaconda3/envs/my-rdkit-env/bin/jupyter-notebook\", line 7, in <module>\n",
      "\u001b[1;31m\n",
      "\u001b[1;31m    from notebook.notebookapp import main\n",
      "\u001b[1;31m  File \"/Users/jemonat/opt/anaconda3/envs/my-rdkit-env/lib/python3.10/site-packages/notebook/notebookapp.py\", line 59, in <module>\n",
      "\u001b[1;31m\n",
      "\u001b[1;31m    from tornado import httpserver\n",
      "\u001b[1;31m  File \"/Users/jemonat/opt/anaconda3/envs/my-rdkit-env/lib/python3.10/site-packages/tornado/httpserver.py\", line 29, in <module>\n",
      "\u001b[1;31m\n",
      "\u001b[1;31m    import ssl\n",
      "\u001b[1;31m  File \"/Users/jemonat/opt/anaconda3/envs/my-rdkit-env/lib/python3.10/ssl.py\", line 98, in <module>\n",
      "\u001b[1;31m\n",
      "\u001b[1;31m    import _ssl             # if we can't import it, let the error propagate\n",
      "\u001b[1;31mImportError: dlopen(/Users/jemonat/opt/anaconda3/envs/my-rdkit-env/lib/python3.10/lib-dynload/_ssl.cpython-310-darwin.so, 0x0002): Library not loaded: @rpath/libssl.1.1.dylib\n",
      "\u001b[1;31m  Referenced from: <9EDE67EB-4BB4-3203-9312-EEF3934CF29C> /Users/jemonat/opt/anaconda3/envs/my-rdkit-env/lib/python3.10/lib-dynload/_ssl.cpython-310-darwin.so\n",
      "\u001b[1;31m  Reason: tried: '/Users/jemonat/opt/anaconda3/envs/my-rdkit-env/lib/libssl.1.1.dylib' (mach-o file, but is an incompatible architecture (have 'arm64', need 'x86_64')), '/System/Volumes/Preboot/Cryptexes/OS/Users/jemonat/opt/anaconda3/envs/my-rdkit-env/lib/libssl.1.1.dylib' (no such file), '/Users/jemonat/opt/anaconda3/envs/my-rdkit-env/lib/libssl.1.1.dylib' (mach-o file, but is an incompatible architecture (have 'arm64', need 'x86_64')), '/System/Volumes/Preboot/Cryptexes/OS/Users/jemonat/opt/anaconda3/envs/my-rdkit-env/lib/libssl.1.1.dylib' (no such file), '/Users/jemonat/opt/anaconda3/envs/my-rdkit-env/lib/python3.10/lib-dynload/../../libssl.1.1.dylib' (mach-o file, but is an incompatible architecture (have 'arm64', need 'x86_64')), '/Users/jemonat/opt/anaconda3/envs/my-rdkit-env/lib/libssl.1.1.dylib' (mach-o file, but is an incompatible architecture (have 'arm64', need 'x86_64')), '/System/Volumes/Preboot/Cryptexes/OS/Users/jemonat/opt/anaconda3/envs/my-rdkit-env/lib/libssl.1.1.dylib' (no such file), '/Users/jemonat/opt/anaconda3/envs/my-rdkit-env/lib/libssl.1.1.dylib' (mach-o file, but is an incompatible architecture (have 'arm64', need 'x86_64')), '/System/Volumes/Preboot/Cryptexes/OS/Users/jemonat/opt/anaconda3/envs/my-rdkit-env/lib/libssl.1.1.dylib' (no such file), '/Users/jemonat/opt/anaconda3/envs/my-rdkit-env/lib/python3.10/lib-dynload/../../libssl.1.1.dylib' (mach-o file, but is an incompatible architecture (have 'arm64', need 'x86_64')), '/Users/jemonat/opt/anaconda3/envs/my-rdkit-env/lib/libssl.1.1.dylib' (mach-o file, but is an incompatible architecture (have 'arm64', need 'x86_64')), '/System/Volumes/Preboot/Cryptexes/OS/Users/jemonat/opt/anaconda3/envs/my-rdkit-env/lib/libssl.1.1.dylib' (no such file), '/Users/jemonat/opt/anaconda3/envs/my-rdkit-env/bin/../lib/libssl.1.1.dylib' (mach-o file, but is an incompatible architecture (have 'arm64', need 'x86_64')), '/Users/jemonat/opt/anaconda3/envs/my-rdkit-env/lib/libssl.1.1.dylib' (mach-o file, but is an incompatible architecture (have 'arm64', need 'x86_64')), '/System/Volumes/Preboot/Cryptexes/OS/Users/jemonat/opt/anaconda3/envs/my-rdkit-env/lib/libssl.1.1.dylib' (no such file), '/Users/jemonat/opt/anaconda3/envs/my-rdkit-env/bin/../lib/libssl.1.1.dylib' (mach-o file, but is an incompatible architecture (have 'arm64', need 'x86_64')), '/System/Volumes/Preboot/Cryptexes/OS@rpath/libssl.1.1.dylib' (no such file), '/Users/jemonat/opt/anaconda3/envs/my-rdkit-env/lib/libssl.1.1.dylib' (mach-o file, but is an incompatible architecture (have 'arm64', need 'x86_64')), '/System/Volumes/Preboot/Cryptexes/OS/Users/jemonat/opt/anaconda3/envs/my-rdkit-env/lib/libssl.1.1.dylib' (no such file), '/Users/jemonat/opt/anaconda3/envs/my-rdkit-env/lib/libssl.1.1.dylib' (mach-o file, but is an incompatible architecture (have 'arm64', need 'x86_64')), '/System/Volumes/Preboot/Cryptexes/OS/Users/jemonat/opt/anaconda3/envs/my-rdkit-env/lib/libssl.1.1.dylib' (no such file), '/Users/jemonat/opt/anaconda3/envs/my-rdkit-env/lib/python3.10/lib-dynload/../../libssl.1.1.dylib' (mach-o file, but is an incompatible architecture (have 'arm64', need 'x86_64')), '/Users/jemonat/opt/anaconda3/envs/my-rdkit-env/lib/libssl.1.1.dylib' (mach-o file, but is an incompatible architecture (have 'arm64', need 'x86_64')), '/System/Volumes/Preboot/Cryptexes/OS/Users/jemonat/opt/anaconda3/envs/my-rdkit-env/lib/libssl.1.1.dylib' (no such file), '/Users/jemonat/opt/anaconda3/envs/my-rdkit-env/lib/libssl.1.1.dylib' (mach-o file, but is an incompatible architecture (have 'arm64', need 'x86_64')), '/System/Volumes/Preboot/Cryptexes/OS/Users/jemonat/opt/anaconda3/envs/my-rdkit-env/lib/libssl.1.1.dylib' (no such file), '/Users/jemonat/opt/anaconda3/envs/my-rdkit-env/lib/python3.10/lib-dynload/../../libssl.1.1.dylib' (mach-o file, but is an incompatible architecture (have 'arm64', need 'x86_64')), '/Users/jemonat/opt/anaconda3/envs/my-rdkit-env/lib/libssl.1.1.dylib' (mach-o file, but is an incompatible architecture (have 'arm64', need 'x86_64')), '/System/Volumes/Preboot/Cryptexes/OS/Users/jemonat/opt/anaconda3/envs/my-rdkit-env/lib/libssl.1.1.dylib' (no such file), '/Users/jemonat/opt/anaconda3/envs/my-rdkit-env/bin/../lib/libssl.1.1.dylib' (mach-o file, but is an incompatible architecture (have 'arm64', need 'x86_64')), '/Users/jemonat/opt/anaconda3/envs/my-rdkit-env/lib/libssl.1.1.dylib' (mach-o file, but is an incompatible architecture (have 'arm64', need 'x86_64')), '/System/Volumes/Preboot/Cryptexes/OS/Users/jemonat/opt/anaconda3/envs/my-rdkit-env/lib/libssl.1.1.dylib' (no such file), '/Users/jemonat/opt/anaconda3/envs/my-rdkit-env/bin/../lib/libssl.1.1.dylib' (mach-o file, but is an incompatible architecture (have 'arm64', need 'x86_64')), '/usr/local/lib/libssl.1.1.dylib' (no such file), '/usr/lib/libssl.1.1.dylib' (no such file, not in dyld cache). \n",
      "\u001b[1;31mView Jupyter <a href='command:jupyter.viewOutput'>log</a> for further details."
     ]
    }
   ],
   "source": [
    "# from rdkit import Chem\n",
    "from rdkit.Chem.Draw import IPythonConsole\n",
    "from rdkit.Chem import Draw\n",
    "IPythonConsole.drawOptions.addAtomIndices = True\n",
    "IPythonConsole.molSize = 300,300"
   ]
  },
  {
   "cell_type": "code",
   "execution_count": null,
   "metadata": {},
   "outputs": [
    {
     "ename": "",
     "evalue": "",
     "output_type": "error",
     "traceback": [
      "\u001b[1;31mFailed to start the Kernel. \n",
      "\u001b[1;31mJupyter server crashed. Unable to connect. \n",
      "\u001b[1;31mError code from Jupyter: 1\n",
      "\u001b[1;31mTraceback (most recent call last):\n",
      "\u001b[1;31m  File \"/Users/jemonat/opt/anaconda3/envs/my-rdkit-env/bin/jupyter-notebook\", line 7, in <module>\n",
      "\u001b[1;31m\n",
      "\u001b[1;31m    from notebook.notebookapp import main\n",
      "\u001b[1;31m  File \"/Users/jemonat/opt/anaconda3/envs/my-rdkit-env/lib/python3.10/site-packages/notebook/notebookapp.py\", line 59, in <module>\n",
      "\u001b[1;31m\n",
      "\u001b[1;31m    from tornado import httpserver\n",
      "\u001b[1;31m  File \"/Users/jemonat/opt/anaconda3/envs/my-rdkit-env/lib/python3.10/site-packages/tornado/httpserver.py\", line 29, in <module>\n",
      "\u001b[1;31m\n",
      "\u001b[1;31m    import ssl\n",
      "\u001b[1;31m  File \"/Users/jemonat/opt/anaconda3/envs/my-rdkit-env/lib/python3.10/ssl.py\", line 98, in <module>\n",
      "\u001b[1;31m\n",
      "\u001b[1;31m    import _ssl             # if we can't import it, let the error propagate\n",
      "\u001b[1;31mImportError: dlopen(/Users/jemonat/opt/anaconda3/envs/my-rdkit-env/lib/python3.10/lib-dynload/_ssl.cpython-310-darwin.so, 0x0002): Library not loaded: @rpath/libssl.1.1.dylib\n",
      "\u001b[1;31m  Referenced from: <9EDE67EB-4BB4-3203-9312-EEF3934CF29C> /Users/jemonat/opt/anaconda3/envs/my-rdkit-env/lib/python3.10/lib-dynload/_ssl.cpython-310-darwin.so\n",
      "\u001b[1;31m  Reason: tried: '/Users/jemonat/opt/anaconda3/envs/my-rdkit-env/lib/libssl.1.1.dylib' (mach-o file, but is an incompatible architecture (have 'arm64', need 'x86_64')), '/System/Volumes/Preboot/Cryptexes/OS/Users/jemonat/opt/anaconda3/envs/my-rdkit-env/lib/libssl.1.1.dylib' (no such file), '/Users/jemonat/opt/anaconda3/envs/my-rdkit-env/lib/libssl.1.1.dylib' (mach-o file, but is an incompatible architecture (have 'arm64', need 'x86_64')), '/System/Volumes/Preboot/Cryptexes/OS/Users/jemonat/opt/anaconda3/envs/my-rdkit-env/lib/libssl.1.1.dylib' (no such file), '/Users/jemonat/opt/anaconda3/envs/my-rdkit-env/lib/python3.10/lib-dynload/../../libssl.1.1.dylib' (mach-o file, but is an incompatible architecture (have 'arm64', need 'x86_64')), '/Users/jemonat/opt/anaconda3/envs/my-rdkit-env/lib/libssl.1.1.dylib' (mach-o file, but is an incompatible architecture (have 'arm64', need 'x86_64')), '/System/Volumes/Preboot/Cryptexes/OS/Users/jemonat/opt/anaconda3/envs/my-rdkit-env/lib/libssl.1.1.dylib' (no such file), '/Users/jemonat/opt/anaconda3/envs/my-rdkit-env/lib/libssl.1.1.dylib' (mach-o file, but is an incompatible architecture (have 'arm64', need 'x86_64')), '/System/Volumes/Preboot/Cryptexes/OS/Users/jemonat/opt/anaconda3/envs/my-rdkit-env/lib/libssl.1.1.dylib' (no such file), '/Users/jemonat/opt/anaconda3/envs/my-rdkit-env/lib/python3.10/lib-dynload/../../libssl.1.1.dylib' (mach-o file, but is an incompatible architecture (have 'arm64', need 'x86_64')), '/Users/jemonat/opt/anaconda3/envs/my-rdkit-env/lib/libssl.1.1.dylib' (mach-o file, but is an incompatible architecture (have 'arm64', need 'x86_64')), '/System/Volumes/Preboot/Cryptexes/OS/Users/jemonat/opt/anaconda3/envs/my-rdkit-env/lib/libssl.1.1.dylib' (no such file), '/Users/jemonat/opt/anaconda3/envs/my-rdkit-env/bin/../lib/libssl.1.1.dylib' (mach-o file, but is an incompatible architecture (have 'arm64', need 'x86_64')), '/Users/jemonat/opt/anaconda3/envs/my-rdkit-env/lib/libssl.1.1.dylib' (mach-o file, but is an incompatible architecture (have 'arm64', need 'x86_64')), '/System/Volumes/Preboot/Cryptexes/OS/Users/jemonat/opt/anaconda3/envs/my-rdkit-env/lib/libssl.1.1.dylib' (no such file), '/Users/jemonat/opt/anaconda3/envs/my-rdkit-env/bin/../lib/libssl.1.1.dylib' (mach-o file, but is an incompatible architecture (have 'arm64', need 'x86_64')), '/System/Volumes/Preboot/Cryptexes/OS@rpath/libssl.1.1.dylib' (no such file), '/Users/jemonat/opt/anaconda3/envs/my-rdkit-env/lib/libssl.1.1.dylib' (mach-o file, but is an incompatible architecture (have 'arm64', need 'x86_64')), '/System/Volumes/Preboot/Cryptexes/OS/Users/jemonat/opt/anaconda3/envs/my-rdkit-env/lib/libssl.1.1.dylib' (no such file), '/Users/jemonat/opt/anaconda3/envs/my-rdkit-env/lib/libssl.1.1.dylib' (mach-o file, but is an incompatible architecture (have 'arm64', need 'x86_64')), '/System/Volumes/Preboot/Cryptexes/OS/Users/jemonat/opt/anaconda3/envs/my-rdkit-env/lib/libssl.1.1.dylib' (no such file), '/Users/jemonat/opt/anaconda3/envs/my-rdkit-env/lib/python3.10/lib-dynload/../../libssl.1.1.dylib' (mach-o file, but is an incompatible architecture (have 'arm64', need 'x86_64')), '/Users/jemonat/opt/anaconda3/envs/my-rdkit-env/lib/libssl.1.1.dylib' (mach-o file, but is an incompatible architecture (have 'arm64', need 'x86_64')), '/System/Volumes/Preboot/Cryptexes/OS/Users/jemonat/opt/anaconda3/envs/my-rdkit-env/lib/libssl.1.1.dylib' (no such file), '/Users/jemonat/opt/anaconda3/envs/my-rdkit-env/lib/libssl.1.1.dylib' (mach-o file, but is an incompatible architecture (have 'arm64', need 'x86_64')), '/System/Volumes/Preboot/Cryptexes/OS/Users/jemonat/opt/anaconda3/envs/my-rdkit-env/lib/libssl.1.1.dylib' (no such file), '/Users/jemonat/opt/anaconda3/envs/my-rdkit-env/lib/python3.10/lib-dynload/../../libssl.1.1.dylib' (mach-o file, but is an incompatible architecture (have 'arm64', need 'x86_64')), '/Users/jemonat/opt/anaconda3/envs/my-rdkit-env/lib/libssl.1.1.dylib' (mach-o file, but is an incompatible architecture (have 'arm64', need 'x86_64')), '/System/Volumes/Preboot/Cryptexes/OS/Users/jemonat/opt/anaconda3/envs/my-rdkit-env/lib/libssl.1.1.dylib' (no such file), '/Users/jemonat/opt/anaconda3/envs/my-rdkit-env/bin/../lib/libssl.1.1.dylib' (mach-o file, but is an incompatible architecture (have 'arm64', need 'x86_64')), '/Users/jemonat/opt/anaconda3/envs/my-rdkit-env/lib/libssl.1.1.dylib' (mach-o file, but is an incompatible architecture (have 'arm64', need 'x86_64')), '/System/Volumes/Preboot/Cryptexes/OS/Users/jemonat/opt/anaconda3/envs/my-rdkit-env/lib/libssl.1.1.dylib' (no such file), '/Users/jemonat/opt/anaconda3/envs/my-rdkit-env/bin/../lib/libssl.1.1.dylib' (mach-o file, but is an incompatible architecture (have 'arm64', need 'x86_64')), '/usr/local/lib/libssl.1.1.dylib' (no such file), '/usr/lib/libssl.1.1.dylib' (no such file, not in dyld cache). \n",
      "\u001b[1;31mView Jupyter <a href='command:jupyter.viewOutput'>log</a> for further details."
     ]
    }
   ],
   "source": [
    "mol = Chem.MolFromSmiles(\"C1CC2=C3C(=CC=C2)C(=CN3C1)[C@H]4[C@@H](C(=O)NC4=O)C5=CNC6=CC=CC=C65\")\n",
    "mol"
   ]
  },
  {
   "cell_type": "code",
   "execution_count": null,
   "metadata": {},
   "outputs": [
    {
     "ename": "",
     "evalue": "",
     "output_type": "error",
     "traceback": [
      "\u001b[1;31mFailed to start the Kernel. \n",
      "\u001b[1;31mJupyter server crashed. Unable to connect. \n",
      "\u001b[1;31mError code from Jupyter: 1\n",
      "\u001b[1;31mTraceback (most recent call last):\n",
      "\u001b[1;31m  File \"/Users/jemonat/opt/anaconda3/envs/my-rdkit-env/bin/jupyter-notebook\", line 7, in <module>\n",
      "\u001b[1;31m\n",
      "\u001b[1;31m    from notebook.notebookapp import main\n",
      "\u001b[1;31m  File \"/Users/jemonat/opt/anaconda3/envs/my-rdkit-env/lib/python3.10/site-packages/notebook/notebookapp.py\", line 59, in <module>\n",
      "\u001b[1;31m\n",
      "\u001b[1;31m    from tornado import httpserver\n",
      "\u001b[1;31m  File \"/Users/jemonat/opt/anaconda3/envs/my-rdkit-env/lib/python3.10/site-packages/tornado/httpserver.py\", line 29, in <module>\n",
      "\u001b[1;31m\n",
      "\u001b[1;31m    import ssl\n",
      "\u001b[1;31m  File \"/Users/jemonat/opt/anaconda3/envs/my-rdkit-env/lib/python3.10/ssl.py\", line 98, in <module>\n",
      "\u001b[1;31m\n",
      "\u001b[1;31m    import _ssl             # if we can't import it, let the error propagate\n",
      "\u001b[1;31mImportError: dlopen(/Users/jemonat/opt/anaconda3/envs/my-rdkit-env/lib/python3.10/lib-dynload/_ssl.cpython-310-darwin.so, 0x0002): Library not loaded: @rpath/libssl.1.1.dylib\n",
      "\u001b[1;31m  Referenced from: <9EDE67EB-4BB4-3203-9312-EEF3934CF29C> /Users/jemonat/opt/anaconda3/envs/my-rdkit-env/lib/python3.10/lib-dynload/_ssl.cpython-310-darwin.so\n",
      "\u001b[1;31m  Reason: tried: '/Users/jemonat/opt/anaconda3/envs/my-rdkit-env/lib/libssl.1.1.dylib' (mach-o file, but is an incompatible architecture (have 'arm64', need 'x86_64')), '/System/Volumes/Preboot/Cryptexes/OS/Users/jemonat/opt/anaconda3/envs/my-rdkit-env/lib/libssl.1.1.dylib' (no such file), '/Users/jemonat/opt/anaconda3/envs/my-rdkit-env/lib/libssl.1.1.dylib' (mach-o file, but is an incompatible architecture (have 'arm64', need 'x86_64')), '/System/Volumes/Preboot/Cryptexes/OS/Users/jemonat/opt/anaconda3/envs/my-rdkit-env/lib/libssl.1.1.dylib' (no such file), '/Users/jemonat/opt/anaconda3/envs/my-rdkit-env/lib/python3.10/lib-dynload/../../libssl.1.1.dylib' (mach-o file, but is an incompatible architecture (have 'arm64', need 'x86_64')), '/Users/jemonat/opt/anaconda3/envs/my-rdkit-env/lib/libssl.1.1.dylib' (mach-o file, but is an incompatible architecture (have 'arm64', need 'x86_64')), '/System/Volumes/Preboot/Cryptexes/OS/Users/jemonat/opt/anaconda3/envs/my-rdkit-env/lib/libssl.1.1.dylib' (no such file), '/Users/jemonat/opt/anaconda3/envs/my-rdkit-env/lib/libssl.1.1.dylib' (mach-o file, but is an incompatible architecture (have 'arm64', need 'x86_64')), '/System/Volumes/Preboot/Cryptexes/OS/Users/jemonat/opt/anaconda3/envs/my-rdkit-env/lib/libssl.1.1.dylib' (no such file), '/Users/jemonat/opt/anaconda3/envs/my-rdkit-env/lib/python3.10/lib-dynload/../../libssl.1.1.dylib' (mach-o file, but is an incompatible architecture (have 'arm64', need 'x86_64')), '/Users/jemonat/opt/anaconda3/envs/my-rdkit-env/lib/libssl.1.1.dylib' (mach-o file, but is an incompatible architecture (have 'arm64', need 'x86_64')), '/System/Volumes/Preboot/Cryptexes/OS/Users/jemonat/opt/anaconda3/envs/my-rdkit-env/lib/libssl.1.1.dylib' (no such file), '/Users/jemonat/opt/anaconda3/envs/my-rdkit-env/bin/../lib/libssl.1.1.dylib' (mach-o file, but is an incompatible architecture (have 'arm64', need 'x86_64')), '/Users/jemonat/opt/anaconda3/envs/my-rdkit-env/lib/libssl.1.1.dylib' (mach-o file, but is an incompatible architecture (have 'arm64', need 'x86_64')), '/System/Volumes/Preboot/Cryptexes/OS/Users/jemonat/opt/anaconda3/envs/my-rdkit-env/lib/libssl.1.1.dylib' (no such file), '/Users/jemonat/opt/anaconda3/envs/my-rdkit-env/bin/../lib/libssl.1.1.dylib' (mach-o file, but is an incompatible architecture (have 'arm64', need 'x86_64')), '/System/Volumes/Preboot/Cryptexes/OS@rpath/libssl.1.1.dylib' (no such file), '/Users/jemonat/opt/anaconda3/envs/my-rdkit-env/lib/libssl.1.1.dylib' (mach-o file, but is an incompatible architecture (have 'arm64', need 'x86_64')), '/System/Volumes/Preboot/Cryptexes/OS/Users/jemonat/opt/anaconda3/envs/my-rdkit-env/lib/libssl.1.1.dylib' (no such file), '/Users/jemonat/opt/anaconda3/envs/my-rdkit-env/lib/libssl.1.1.dylib' (mach-o file, but is an incompatible architecture (have 'arm64', need 'x86_64')), '/System/Volumes/Preboot/Cryptexes/OS/Users/jemonat/opt/anaconda3/envs/my-rdkit-env/lib/libssl.1.1.dylib' (no such file), '/Users/jemonat/opt/anaconda3/envs/my-rdkit-env/lib/python3.10/lib-dynload/../../libssl.1.1.dylib' (mach-o file, but is an incompatible architecture (have 'arm64', need 'x86_64')), '/Users/jemonat/opt/anaconda3/envs/my-rdkit-env/lib/libssl.1.1.dylib' (mach-o file, but is an incompatible architecture (have 'arm64', need 'x86_64')), '/System/Volumes/Preboot/Cryptexes/OS/Users/jemonat/opt/anaconda3/envs/my-rdkit-env/lib/libssl.1.1.dylib' (no such file), '/Users/jemonat/opt/anaconda3/envs/my-rdkit-env/lib/libssl.1.1.dylib' (mach-o file, but is an incompatible architecture (have 'arm64', need 'x86_64')), '/System/Volumes/Preboot/Cryptexes/OS/Users/jemonat/opt/anaconda3/envs/my-rdkit-env/lib/libssl.1.1.dylib' (no such file), '/Users/jemonat/opt/anaconda3/envs/my-rdkit-env/lib/python3.10/lib-dynload/../../libssl.1.1.dylib' (mach-o file, but is an incompatible architecture (have 'arm64', need 'x86_64')), '/Users/jemonat/opt/anaconda3/envs/my-rdkit-env/lib/libssl.1.1.dylib' (mach-o file, but is an incompatible architecture (have 'arm64', need 'x86_64')), '/System/Volumes/Preboot/Cryptexes/OS/Users/jemonat/opt/anaconda3/envs/my-rdkit-env/lib/libssl.1.1.dylib' (no such file), '/Users/jemonat/opt/anaconda3/envs/my-rdkit-env/bin/../lib/libssl.1.1.dylib' (mach-o file, but is an incompatible architecture (have 'arm64', need 'x86_64')), '/Users/jemonat/opt/anaconda3/envs/my-rdkit-env/lib/libssl.1.1.dylib' (mach-o file, but is an incompatible architecture (have 'arm64', need 'x86_64')), '/System/Volumes/Preboot/Cryptexes/OS/Users/jemonat/opt/anaconda3/envs/my-rdkit-env/lib/libssl.1.1.dylib' (no such file), '/Users/jemonat/opt/anaconda3/envs/my-rdkit-env/bin/../lib/libssl.1.1.dylib' (mach-o file, but is an incompatible architecture (have 'arm64', need 'x86_64')), '/usr/local/lib/libssl.1.1.dylib' (no such file), '/usr/lib/libssl.1.1.dylib' (no such file, not in dyld cache). \n",
      "\u001b[1;31mView Jupyter <a href='command:jupyter.viewOutput'>log</a> for further details."
     ]
    }
   ],
   "source": [
    "IPythonConsole.drawOptions.addAtomIndices = False"
   ]
  },
  {
   "cell_type": "markdown",
   "metadata": {},
   "source": [
    "### [Include a Calculation](https://www.rdkit.org/docs/Cookbook.html#include-a-calculation)"
   ]
  },
  {
   "cell_type": "code",
   "execution_count": null,
   "metadata": {},
   "outputs": [
    {
     "ename": "",
     "evalue": "",
     "output_type": "error",
     "traceback": [
      "\u001b[1;31mFailed to start the Kernel. \n",
      "\u001b[1;31mJupyter server crashed. Unable to connect. \n",
      "\u001b[1;31mError code from Jupyter: 1\n",
      "\u001b[1;31mTraceback (most recent call last):\n",
      "\u001b[1;31m  File \"/Users/jemonat/opt/anaconda3/envs/my-rdkit-env/bin/jupyter-notebook\", line 7, in <module>\n",
      "\u001b[1;31m\n",
      "\u001b[1;31m    from notebook.notebookapp import main\n",
      "\u001b[1;31m  File \"/Users/jemonat/opt/anaconda3/envs/my-rdkit-env/lib/python3.10/site-packages/notebook/notebookapp.py\", line 59, in <module>\n",
      "\u001b[1;31m\n",
      "\u001b[1;31m    from tornado import httpserver\n",
      "\u001b[1;31m  File \"/Users/jemonat/opt/anaconda3/envs/my-rdkit-env/lib/python3.10/site-packages/tornado/httpserver.py\", line 29, in <module>\n",
      "\u001b[1;31m\n",
      "\u001b[1;31m    import ssl\n",
      "\u001b[1;31m  File \"/Users/jemonat/opt/anaconda3/envs/my-rdkit-env/lib/python3.10/ssl.py\", line 98, in <module>\n",
      "\u001b[1;31m\n",
      "\u001b[1;31m    import _ssl             # if we can't import it, let the error propagate\n",
      "\u001b[1;31mImportError: dlopen(/Users/jemonat/opt/anaconda3/envs/my-rdkit-env/lib/python3.10/lib-dynload/_ssl.cpython-310-darwin.so, 0x0002): Library not loaded: @rpath/libssl.1.1.dylib\n",
      "\u001b[1;31m  Referenced from: <9EDE67EB-4BB4-3203-9312-EEF3934CF29C> /Users/jemonat/opt/anaconda3/envs/my-rdkit-env/lib/python3.10/lib-dynload/_ssl.cpython-310-darwin.so\n",
      "\u001b[1;31m  Reason: tried: '/Users/jemonat/opt/anaconda3/envs/my-rdkit-env/lib/libssl.1.1.dylib' (mach-o file, but is an incompatible architecture (have 'arm64', need 'x86_64')), '/System/Volumes/Preboot/Cryptexes/OS/Users/jemonat/opt/anaconda3/envs/my-rdkit-env/lib/libssl.1.1.dylib' (no such file), '/Users/jemonat/opt/anaconda3/envs/my-rdkit-env/lib/libssl.1.1.dylib' (mach-o file, but is an incompatible architecture (have 'arm64', need 'x86_64')), '/System/Volumes/Preboot/Cryptexes/OS/Users/jemonat/opt/anaconda3/envs/my-rdkit-env/lib/libssl.1.1.dylib' (no such file), '/Users/jemonat/opt/anaconda3/envs/my-rdkit-env/lib/python3.10/lib-dynload/../../libssl.1.1.dylib' (mach-o file, but is an incompatible architecture (have 'arm64', need 'x86_64')), '/Users/jemonat/opt/anaconda3/envs/my-rdkit-env/lib/libssl.1.1.dylib' (mach-o file, but is an incompatible architecture (have 'arm64', need 'x86_64')), '/System/Volumes/Preboot/Cryptexes/OS/Users/jemonat/opt/anaconda3/envs/my-rdkit-env/lib/libssl.1.1.dylib' (no such file), '/Users/jemonat/opt/anaconda3/envs/my-rdkit-env/lib/libssl.1.1.dylib' (mach-o file, but is an incompatible architecture (have 'arm64', need 'x86_64')), '/System/Volumes/Preboot/Cryptexes/OS/Users/jemonat/opt/anaconda3/envs/my-rdkit-env/lib/libssl.1.1.dylib' (no such file), '/Users/jemonat/opt/anaconda3/envs/my-rdkit-env/lib/python3.10/lib-dynload/../../libssl.1.1.dylib' (mach-o file, but is an incompatible architecture (have 'arm64', need 'x86_64')), '/Users/jemonat/opt/anaconda3/envs/my-rdkit-env/lib/libssl.1.1.dylib' (mach-o file, but is an incompatible architecture (have 'arm64', need 'x86_64')), '/System/Volumes/Preboot/Cryptexes/OS/Users/jemonat/opt/anaconda3/envs/my-rdkit-env/lib/libssl.1.1.dylib' (no such file), '/Users/jemonat/opt/anaconda3/envs/my-rdkit-env/bin/../lib/libssl.1.1.dylib' (mach-o file, but is an incompatible architecture (have 'arm64', need 'x86_64')), '/Users/jemonat/opt/anaconda3/envs/my-rdkit-env/lib/libssl.1.1.dylib' (mach-o file, but is an incompatible architecture (have 'arm64', need 'x86_64')), '/System/Volumes/Preboot/Cryptexes/OS/Users/jemonat/opt/anaconda3/envs/my-rdkit-env/lib/libssl.1.1.dylib' (no such file), '/Users/jemonat/opt/anaconda3/envs/my-rdkit-env/bin/../lib/libssl.1.1.dylib' (mach-o file, but is an incompatible architecture (have 'arm64', need 'x86_64')), '/System/Volumes/Preboot/Cryptexes/OS@rpath/libssl.1.1.dylib' (no such file), '/Users/jemonat/opt/anaconda3/envs/my-rdkit-env/lib/libssl.1.1.dylib' (mach-o file, but is an incompatible architecture (have 'arm64', need 'x86_64')), '/System/Volumes/Preboot/Cryptexes/OS/Users/jemonat/opt/anaconda3/envs/my-rdkit-env/lib/libssl.1.1.dylib' (no such file), '/Users/jemonat/opt/anaconda3/envs/my-rdkit-env/lib/libssl.1.1.dylib' (mach-o file, but is an incompatible architecture (have 'arm64', need 'x86_64')), '/System/Volumes/Preboot/Cryptexes/OS/Users/jemonat/opt/anaconda3/envs/my-rdkit-env/lib/libssl.1.1.dylib' (no such file), '/Users/jemonat/opt/anaconda3/envs/my-rdkit-env/lib/python3.10/lib-dynload/../../libssl.1.1.dylib' (mach-o file, but is an incompatible architecture (have 'arm64', need 'x86_64')), '/Users/jemonat/opt/anaconda3/envs/my-rdkit-env/lib/libssl.1.1.dylib' (mach-o file, but is an incompatible architecture (have 'arm64', need 'x86_64')), '/System/Volumes/Preboot/Cryptexes/OS/Users/jemonat/opt/anaconda3/envs/my-rdkit-env/lib/libssl.1.1.dylib' (no such file), '/Users/jemonat/opt/anaconda3/envs/my-rdkit-env/lib/libssl.1.1.dylib' (mach-o file, but is an incompatible architecture (have 'arm64', need 'x86_64')), '/System/Volumes/Preboot/Cryptexes/OS/Users/jemonat/opt/anaconda3/envs/my-rdkit-env/lib/libssl.1.1.dylib' (no such file), '/Users/jemonat/opt/anaconda3/envs/my-rdkit-env/lib/python3.10/lib-dynload/../../libssl.1.1.dylib' (mach-o file, but is an incompatible architecture (have 'arm64', need 'x86_64')), '/Users/jemonat/opt/anaconda3/envs/my-rdkit-env/lib/libssl.1.1.dylib' (mach-o file, but is an incompatible architecture (have 'arm64', need 'x86_64')), '/System/Volumes/Preboot/Cryptexes/OS/Users/jemonat/opt/anaconda3/envs/my-rdkit-env/lib/libssl.1.1.dylib' (no such file), '/Users/jemonat/opt/anaconda3/envs/my-rdkit-env/bin/../lib/libssl.1.1.dylib' (mach-o file, but is an incompatible architecture (have 'arm64', need 'x86_64')), '/Users/jemonat/opt/anaconda3/envs/my-rdkit-env/lib/libssl.1.1.dylib' (mach-o file, but is an incompatible architecture (have 'arm64', need 'x86_64')), '/System/Volumes/Preboot/Cryptexes/OS/Users/jemonat/opt/anaconda3/envs/my-rdkit-env/lib/libssl.1.1.dylib' (no such file), '/Users/jemonat/opt/anaconda3/envs/my-rdkit-env/bin/../lib/libssl.1.1.dylib' (mach-o file, but is an incompatible architecture (have 'arm64', need 'x86_64')), '/usr/local/lib/libssl.1.1.dylib' (no such file), '/usr/lib/libssl.1.1.dylib' (no such file, not in dyld cache). \n",
      "\u001b[1;31mView Jupyter <a href='command:jupyter.viewOutput'>log</a> for further details."
     ]
    }
   ],
   "source": [
    "# from rdkit import Chem\n",
    "from rdkit.Chem import AllChem\n",
    "from rdkit.Chem.Draw import IPythonConsole\n",
    "IPythonConsole.molSize = 250,250"
   ]
  },
  {
   "cell_type": "code",
   "execution_count": null,
   "metadata": {},
   "outputs": [
    {
     "ename": "",
     "evalue": "",
     "output_type": "error",
     "traceback": [
      "\u001b[1;31mFailed to start the Kernel. \n",
      "\u001b[1;31mJupyter server crashed. Unable to connect. \n",
      "\u001b[1;31mError code from Jupyter: 1\n",
      "\u001b[1;31mTraceback (most recent call last):\n",
      "\u001b[1;31m  File \"/Users/jemonat/opt/anaconda3/envs/my-rdkit-env/bin/jupyter-notebook\", line 7, in <module>\n",
      "\u001b[1;31m\n",
      "\u001b[1;31m    from notebook.notebookapp import main\n",
      "\u001b[1;31m  File \"/Users/jemonat/opt/anaconda3/envs/my-rdkit-env/lib/python3.10/site-packages/notebook/notebookapp.py\", line 59, in <module>\n",
      "\u001b[1;31m\n",
      "\u001b[1;31m    from tornado import httpserver\n",
      "\u001b[1;31m  File \"/Users/jemonat/opt/anaconda3/envs/my-rdkit-env/lib/python3.10/site-packages/tornado/httpserver.py\", line 29, in <module>\n",
      "\u001b[1;31m\n",
      "\u001b[1;31m    import ssl\n",
      "\u001b[1;31m  File \"/Users/jemonat/opt/anaconda3/envs/my-rdkit-env/lib/python3.10/ssl.py\", line 98, in <module>\n",
      "\u001b[1;31m\n",
      "\u001b[1;31m    import _ssl             # if we can't import it, let the error propagate\n",
      "\u001b[1;31mImportError: dlopen(/Users/jemonat/opt/anaconda3/envs/my-rdkit-env/lib/python3.10/lib-dynload/_ssl.cpython-310-darwin.so, 0x0002): Library not loaded: @rpath/libssl.1.1.dylib\n",
      "\u001b[1;31m  Referenced from: <9EDE67EB-4BB4-3203-9312-EEF3934CF29C> /Users/jemonat/opt/anaconda3/envs/my-rdkit-env/lib/python3.10/lib-dynload/_ssl.cpython-310-darwin.so\n",
      "\u001b[1;31m  Reason: tried: '/Users/jemonat/opt/anaconda3/envs/my-rdkit-env/lib/libssl.1.1.dylib' (mach-o file, but is an incompatible architecture (have 'arm64', need 'x86_64')), '/System/Volumes/Preboot/Cryptexes/OS/Users/jemonat/opt/anaconda3/envs/my-rdkit-env/lib/libssl.1.1.dylib' (no such file), '/Users/jemonat/opt/anaconda3/envs/my-rdkit-env/lib/libssl.1.1.dylib' (mach-o file, but is an incompatible architecture (have 'arm64', need 'x86_64')), '/System/Volumes/Preboot/Cryptexes/OS/Users/jemonat/opt/anaconda3/envs/my-rdkit-env/lib/libssl.1.1.dylib' (no such file), '/Users/jemonat/opt/anaconda3/envs/my-rdkit-env/lib/python3.10/lib-dynload/../../libssl.1.1.dylib' (mach-o file, but is an incompatible architecture (have 'arm64', need 'x86_64')), '/Users/jemonat/opt/anaconda3/envs/my-rdkit-env/lib/libssl.1.1.dylib' (mach-o file, but is an incompatible architecture (have 'arm64', need 'x86_64')), '/System/Volumes/Preboot/Cryptexes/OS/Users/jemonat/opt/anaconda3/envs/my-rdkit-env/lib/libssl.1.1.dylib' (no such file), '/Users/jemonat/opt/anaconda3/envs/my-rdkit-env/lib/libssl.1.1.dylib' (mach-o file, but is an incompatible architecture (have 'arm64', need 'x86_64')), '/System/Volumes/Preboot/Cryptexes/OS/Users/jemonat/opt/anaconda3/envs/my-rdkit-env/lib/libssl.1.1.dylib' (no such file), '/Users/jemonat/opt/anaconda3/envs/my-rdkit-env/lib/python3.10/lib-dynload/../../libssl.1.1.dylib' (mach-o file, but is an incompatible architecture (have 'arm64', need 'x86_64')), '/Users/jemonat/opt/anaconda3/envs/my-rdkit-env/lib/libssl.1.1.dylib' (mach-o file, but is an incompatible architecture (have 'arm64', need 'x86_64')), '/System/Volumes/Preboot/Cryptexes/OS/Users/jemonat/opt/anaconda3/envs/my-rdkit-env/lib/libssl.1.1.dylib' (no such file), '/Users/jemonat/opt/anaconda3/envs/my-rdkit-env/bin/../lib/libssl.1.1.dylib' (mach-o file, but is an incompatible architecture (have 'arm64', need 'x86_64')), '/Users/jemonat/opt/anaconda3/envs/my-rdkit-env/lib/libssl.1.1.dylib' (mach-o file, but is an incompatible architecture (have 'arm64', need 'x86_64')), '/System/Volumes/Preboot/Cryptexes/OS/Users/jemonat/opt/anaconda3/envs/my-rdkit-env/lib/libssl.1.1.dylib' (no such file), '/Users/jemonat/opt/anaconda3/envs/my-rdkit-env/bin/../lib/libssl.1.1.dylib' (mach-o file, but is an incompatible architecture (have 'arm64', need 'x86_64')), '/System/Volumes/Preboot/Cryptexes/OS@rpath/libssl.1.1.dylib' (no such file), '/Users/jemonat/opt/anaconda3/envs/my-rdkit-env/lib/libssl.1.1.dylib' (mach-o file, but is an incompatible architecture (have 'arm64', need 'x86_64')), '/System/Volumes/Preboot/Cryptexes/OS/Users/jemonat/opt/anaconda3/envs/my-rdkit-env/lib/libssl.1.1.dylib' (no such file), '/Users/jemonat/opt/anaconda3/envs/my-rdkit-env/lib/libssl.1.1.dylib' (mach-o file, but is an incompatible architecture (have 'arm64', need 'x86_64')), '/System/Volumes/Preboot/Cryptexes/OS/Users/jemonat/opt/anaconda3/envs/my-rdkit-env/lib/libssl.1.1.dylib' (no such file), '/Users/jemonat/opt/anaconda3/envs/my-rdkit-env/lib/python3.10/lib-dynload/../../libssl.1.1.dylib' (mach-o file, but is an incompatible architecture (have 'arm64', need 'x86_64')), '/Users/jemonat/opt/anaconda3/envs/my-rdkit-env/lib/libssl.1.1.dylib' (mach-o file, but is an incompatible architecture (have 'arm64', need 'x86_64')), '/System/Volumes/Preboot/Cryptexes/OS/Users/jemonat/opt/anaconda3/envs/my-rdkit-env/lib/libssl.1.1.dylib' (no such file), '/Users/jemonat/opt/anaconda3/envs/my-rdkit-env/lib/libssl.1.1.dylib' (mach-o file, but is an incompatible architecture (have 'arm64', need 'x86_64')), '/System/Volumes/Preboot/Cryptexes/OS/Users/jemonat/opt/anaconda3/envs/my-rdkit-env/lib/libssl.1.1.dylib' (no such file), '/Users/jemonat/opt/anaconda3/envs/my-rdkit-env/lib/python3.10/lib-dynload/../../libssl.1.1.dylib' (mach-o file, but is an incompatible architecture (have 'arm64', need 'x86_64')), '/Users/jemonat/opt/anaconda3/envs/my-rdkit-env/lib/libssl.1.1.dylib' (mach-o file, but is an incompatible architecture (have 'arm64', need 'x86_64')), '/System/Volumes/Preboot/Cryptexes/OS/Users/jemonat/opt/anaconda3/envs/my-rdkit-env/lib/libssl.1.1.dylib' (no such file), '/Users/jemonat/opt/anaconda3/envs/my-rdkit-env/bin/../lib/libssl.1.1.dylib' (mach-o file, but is an incompatible architecture (have 'arm64', need 'x86_64')), '/Users/jemonat/opt/anaconda3/envs/my-rdkit-env/lib/libssl.1.1.dylib' (mach-o file, but is an incompatible architecture (have 'arm64', need 'x86_64')), '/System/Volumes/Preboot/Cryptexes/OS/Users/jemonat/opt/anaconda3/envs/my-rdkit-env/lib/libssl.1.1.dylib' (no such file), '/Users/jemonat/opt/anaconda3/envs/my-rdkit-env/bin/../lib/libssl.1.1.dylib' (mach-o file, but is an incompatible architecture (have 'arm64', need 'x86_64')), '/usr/local/lib/libssl.1.1.dylib' (no such file), '/usr/lib/libssl.1.1.dylib' (no such file, not in dyld cache). \n",
      "\u001b[1;31mView Jupyter <a href='command:jupyter.viewOutput'>log</a> for further details."
     ]
    }
   ],
   "source": [
    "m = Chem.MolFromSmiles('c1ncncc1C(=O)[O-]')\n",
    "AllChem.ComputeGasteigerCharges(m)\n",
    "m"
   ]
  },
  {
   "cell_type": "code",
   "execution_count": null,
   "metadata": {},
   "outputs": [
    {
     "ename": "",
     "evalue": "",
     "output_type": "error",
     "traceback": [
      "\u001b[1;31mFailed to start the Kernel. \n",
      "\u001b[1;31mJupyter server crashed. Unable to connect. \n",
      "\u001b[1;31mError code from Jupyter: 1\n",
      "\u001b[1;31mTraceback (most recent call last):\n",
      "\u001b[1;31m  File \"/Users/jemonat/opt/anaconda3/envs/my-rdkit-env/bin/jupyter-notebook\", line 7, in <module>\n",
      "\u001b[1;31m\n",
      "\u001b[1;31m    from notebook.notebookapp import main\n",
      "\u001b[1;31m  File \"/Users/jemonat/opt/anaconda3/envs/my-rdkit-env/lib/python3.10/site-packages/notebook/notebookapp.py\", line 59, in <module>\n",
      "\u001b[1;31m\n",
      "\u001b[1;31m    from tornado import httpserver\n",
      "\u001b[1;31m  File \"/Users/jemonat/opt/anaconda3/envs/my-rdkit-env/lib/python3.10/site-packages/tornado/httpserver.py\", line 29, in <module>\n",
      "\u001b[1;31m\n",
      "\u001b[1;31m    import ssl\n",
      "\u001b[1;31m  File \"/Users/jemonat/opt/anaconda3/envs/my-rdkit-env/lib/python3.10/ssl.py\", line 98, in <module>\n",
      "\u001b[1;31m\n",
      "\u001b[1;31m    import _ssl             # if we can't import it, let the error propagate\n",
      "\u001b[1;31mImportError: dlopen(/Users/jemonat/opt/anaconda3/envs/my-rdkit-env/lib/python3.10/lib-dynload/_ssl.cpython-310-darwin.so, 0x0002): Library not loaded: @rpath/libssl.1.1.dylib\n",
      "\u001b[1;31m  Referenced from: <9EDE67EB-4BB4-3203-9312-EEF3934CF29C> /Users/jemonat/opt/anaconda3/envs/my-rdkit-env/lib/python3.10/lib-dynload/_ssl.cpython-310-darwin.so\n",
      "\u001b[1;31m  Reason: tried: '/Users/jemonat/opt/anaconda3/envs/my-rdkit-env/lib/libssl.1.1.dylib' (mach-o file, but is an incompatible architecture (have 'arm64', need 'x86_64')), '/System/Volumes/Preboot/Cryptexes/OS/Users/jemonat/opt/anaconda3/envs/my-rdkit-env/lib/libssl.1.1.dylib' (no such file), '/Users/jemonat/opt/anaconda3/envs/my-rdkit-env/lib/libssl.1.1.dylib' (mach-o file, but is an incompatible architecture (have 'arm64', need 'x86_64')), '/System/Volumes/Preboot/Cryptexes/OS/Users/jemonat/opt/anaconda3/envs/my-rdkit-env/lib/libssl.1.1.dylib' (no such file), '/Users/jemonat/opt/anaconda3/envs/my-rdkit-env/lib/python3.10/lib-dynload/../../libssl.1.1.dylib' (mach-o file, but is an incompatible architecture (have 'arm64', need 'x86_64')), '/Users/jemonat/opt/anaconda3/envs/my-rdkit-env/lib/libssl.1.1.dylib' (mach-o file, but is an incompatible architecture (have 'arm64', need 'x86_64')), '/System/Volumes/Preboot/Cryptexes/OS/Users/jemonat/opt/anaconda3/envs/my-rdkit-env/lib/libssl.1.1.dylib' (no such file), '/Users/jemonat/opt/anaconda3/envs/my-rdkit-env/lib/libssl.1.1.dylib' (mach-o file, but is an incompatible architecture (have 'arm64', need 'x86_64')), '/System/Volumes/Preboot/Cryptexes/OS/Users/jemonat/opt/anaconda3/envs/my-rdkit-env/lib/libssl.1.1.dylib' (no such file), '/Users/jemonat/opt/anaconda3/envs/my-rdkit-env/lib/python3.10/lib-dynload/../../libssl.1.1.dylib' (mach-o file, but is an incompatible architecture (have 'arm64', need 'x86_64')), '/Users/jemonat/opt/anaconda3/envs/my-rdkit-env/lib/libssl.1.1.dylib' (mach-o file, but is an incompatible architecture (have 'arm64', need 'x86_64')), '/System/Volumes/Preboot/Cryptexes/OS/Users/jemonat/opt/anaconda3/envs/my-rdkit-env/lib/libssl.1.1.dylib' (no such file), '/Users/jemonat/opt/anaconda3/envs/my-rdkit-env/bin/../lib/libssl.1.1.dylib' (mach-o file, but is an incompatible architecture (have 'arm64', need 'x86_64')), '/Users/jemonat/opt/anaconda3/envs/my-rdkit-env/lib/libssl.1.1.dylib' (mach-o file, but is an incompatible architecture (have 'arm64', need 'x86_64')), '/System/Volumes/Preboot/Cryptexes/OS/Users/jemonat/opt/anaconda3/envs/my-rdkit-env/lib/libssl.1.1.dylib' (no such file), '/Users/jemonat/opt/anaconda3/envs/my-rdkit-env/bin/../lib/libssl.1.1.dylib' (mach-o file, but is an incompatible architecture (have 'arm64', need 'x86_64')), '/System/Volumes/Preboot/Cryptexes/OS@rpath/libssl.1.1.dylib' (no such file), '/Users/jemonat/opt/anaconda3/envs/my-rdkit-env/lib/libssl.1.1.dylib' (mach-o file, but is an incompatible architecture (have 'arm64', need 'x86_64')), '/System/Volumes/Preboot/Cryptexes/OS/Users/jemonat/opt/anaconda3/envs/my-rdkit-env/lib/libssl.1.1.dylib' (no such file), '/Users/jemonat/opt/anaconda3/envs/my-rdkit-env/lib/libssl.1.1.dylib' (mach-o file, but is an incompatible architecture (have 'arm64', need 'x86_64')), '/System/Volumes/Preboot/Cryptexes/OS/Users/jemonat/opt/anaconda3/envs/my-rdkit-env/lib/libssl.1.1.dylib' (no such file), '/Users/jemonat/opt/anaconda3/envs/my-rdkit-env/lib/python3.10/lib-dynload/../../libssl.1.1.dylib' (mach-o file, but is an incompatible architecture (have 'arm64', need 'x86_64')), '/Users/jemonat/opt/anaconda3/envs/my-rdkit-env/lib/libssl.1.1.dylib' (mach-o file, but is an incompatible architecture (have 'arm64', need 'x86_64')), '/System/Volumes/Preboot/Cryptexes/OS/Users/jemonat/opt/anaconda3/envs/my-rdkit-env/lib/libssl.1.1.dylib' (no such file), '/Users/jemonat/opt/anaconda3/envs/my-rdkit-env/lib/libssl.1.1.dylib' (mach-o file, but is an incompatible architecture (have 'arm64', need 'x86_64')), '/System/Volumes/Preboot/Cryptexes/OS/Users/jemonat/opt/anaconda3/envs/my-rdkit-env/lib/libssl.1.1.dylib' (no such file), '/Users/jemonat/opt/anaconda3/envs/my-rdkit-env/lib/python3.10/lib-dynload/../../libssl.1.1.dylib' (mach-o file, but is an incompatible architecture (have 'arm64', need 'x86_64')), '/Users/jemonat/opt/anaconda3/envs/my-rdkit-env/lib/libssl.1.1.dylib' (mach-o file, but is an incompatible architecture (have 'arm64', need 'x86_64')), '/System/Volumes/Preboot/Cryptexes/OS/Users/jemonat/opt/anaconda3/envs/my-rdkit-env/lib/libssl.1.1.dylib' (no such file), '/Users/jemonat/opt/anaconda3/envs/my-rdkit-env/bin/../lib/libssl.1.1.dylib' (mach-o file, but is an incompatible architecture (have 'arm64', need 'x86_64')), '/Users/jemonat/opt/anaconda3/envs/my-rdkit-env/lib/libssl.1.1.dylib' (mach-o file, but is an incompatible architecture (have 'arm64', need 'x86_64')), '/System/Volumes/Preboot/Cryptexes/OS/Users/jemonat/opt/anaconda3/envs/my-rdkit-env/lib/libssl.1.1.dylib' (no such file), '/Users/jemonat/opt/anaconda3/envs/my-rdkit-env/bin/../lib/libssl.1.1.dylib' (mach-o file, but is an incompatible architecture (have 'arm64', need 'x86_64')), '/usr/local/lib/libssl.1.1.dylib' (no such file), '/usr/lib/libssl.1.1.dylib' (no such file, not in dyld cache). \n",
      "\u001b[1;31mView Jupyter <a href='command:jupyter.viewOutput'>log</a> for further details."
     ]
    }
   ],
   "source": [
    "m2 = Chem.Mol(m)\n",
    "for at in m2.GetAtoms():\n",
    "    lbl = '%.2f'%(at.GetDoubleProp(\"_GasteigerCharge\"))\n",
    "    at.SetProp('atomNote', lbl)\n",
    "m2"
   ]
  },
  {
   "cell_type": "markdown",
   "metadata": {},
   "source": [
    "### [Include Stereo Annotations](https://www.rdkit.org/docs/Cookbook.html#include-stereo-annotations)"
   ]
  },
  {
   "cell_type": "code",
   "execution_count": null,
   "metadata": {},
   "outputs": [
    {
     "ename": "",
     "evalue": "",
     "output_type": "error",
     "traceback": [
      "\u001b[1;31mFailed to start the Kernel. \n",
      "\u001b[1;31mJupyter server crashed. Unable to connect. \n",
      "\u001b[1;31mError code from Jupyter: 1\n",
      "\u001b[1;31mTraceback (most recent call last):\n",
      "\u001b[1;31m  File \"/Users/jemonat/opt/anaconda3/envs/my-rdkit-env/bin/jupyter-notebook\", line 7, in <module>\n",
      "\u001b[1;31m\n",
      "\u001b[1;31m    from notebook.notebookapp import main\n",
      "\u001b[1;31m  File \"/Users/jemonat/opt/anaconda3/envs/my-rdkit-env/lib/python3.10/site-packages/notebook/notebookapp.py\", line 59, in <module>\n",
      "\u001b[1;31m\n",
      "\u001b[1;31m    from tornado import httpserver\n",
      "\u001b[1;31m  File \"/Users/jemonat/opt/anaconda3/envs/my-rdkit-env/lib/python3.10/site-packages/tornado/httpserver.py\", line 29, in <module>\n",
      "\u001b[1;31m\n",
      "\u001b[1;31m    import ssl\n",
      "\u001b[1;31m  File \"/Users/jemonat/opt/anaconda3/envs/my-rdkit-env/lib/python3.10/ssl.py\", line 98, in <module>\n",
      "\u001b[1;31m\n",
      "\u001b[1;31m    import _ssl             # if we can't import it, let the error propagate\n",
      "\u001b[1;31mImportError: dlopen(/Users/jemonat/opt/anaconda3/envs/my-rdkit-env/lib/python3.10/lib-dynload/_ssl.cpython-310-darwin.so, 0x0002): Library not loaded: @rpath/libssl.1.1.dylib\n",
      "\u001b[1;31m  Referenced from: <9EDE67EB-4BB4-3203-9312-EEF3934CF29C> /Users/jemonat/opt/anaconda3/envs/my-rdkit-env/lib/python3.10/lib-dynload/_ssl.cpython-310-darwin.so\n",
      "\u001b[1;31m  Reason: tried: '/Users/jemonat/opt/anaconda3/envs/my-rdkit-env/lib/libssl.1.1.dylib' (mach-o file, but is an incompatible architecture (have 'arm64', need 'x86_64')), '/System/Volumes/Preboot/Cryptexes/OS/Users/jemonat/opt/anaconda3/envs/my-rdkit-env/lib/libssl.1.1.dylib' (no such file), '/Users/jemonat/opt/anaconda3/envs/my-rdkit-env/lib/libssl.1.1.dylib' (mach-o file, but is an incompatible architecture (have 'arm64', need 'x86_64')), '/System/Volumes/Preboot/Cryptexes/OS/Users/jemonat/opt/anaconda3/envs/my-rdkit-env/lib/libssl.1.1.dylib' (no such file), '/Users/jemonat/opt/anaconda3/envs/my-rdkit-env/lib/python3.10/lib-dynload/../../libssl.1.1.dylib' (mach-o file, but is an incompatible architecture (have 'arm64', need 'x86_64')), '/Users/jemonat/opt/anaconda3/envs/my-rdkit-env/lib/libssl.1.1.dylib' (mach-o file, but is an incompatible architecture (have 'arm64', need 'x86_64')), '/System/Volumes/Preboot/Cryptexes/OS/Users/jemonat/opt/anaconda3/envs/my-rdkit-env/lib/libssl.1.1.dylib' (no such file), '/Users/jemonat/opt/anaconda3/envs/my-rdkit-env/lib/libssl.1.1.dylib' (mach-o file, but is an incompatible architecture (have 'arm64', need 'x86_64')), '/System/Volumes/Preboot/Cryptexes/OS/Users/jemonat/opt/anaconda3/envs/my-rdkit-env/lib/libssl.1.1.dylib' (no such file), '/Users/jemonat/opt/anaconda3/envs/my-rdkit-env/lib/python3.10/lib-dynload/../../libssl.1.1.dylib' (mach-o file, but is an incompatible architecture (have 'arm64', need 'x86_64')), '/Users/jemonat/opt/anaconda3/envs/my-rdkit-env/lib/libssl.1.1.dylib' (mach-o file, but is an incompatible architecture (have 'arm64', need 'x86_64')), '/System/Volumes/Preboot/Cryptexes/OS/Users/jemonat/opt/anaconda3/envs/my-rdkit-env/lib/libssl.1.1.dylib' (no such file), '/Users/jemonat/opt/anaconda3/envs/my-rdkit-env/bin/../lib/libssl.1.1.dylib' (mach-o file, but is an incompatible architecture (have 'arm64', need 'x86_64')), '/Users/jemonat/opt/anaconda3/envs/my-rdkit-env/lib/libssl.1.1.dylib' (mach-o file, but is an incompatible architecture (have 'arm64', need 'x86_64')), '/System/Volumes/Preboot/Cryptexes/OS/Users/jemonat/opt/anaconda3/envs/my-rdkit-env/lib/libssl.1.1.dylib' (no such file), '/Users/jemonat/opt/anaconda3/envs/my-rdkit-env/bin/../lib/libssl.1.1.dylib' (mach-o file, but is an incompatible architecture (have 'arm64', need 'x86_64')), '/System/Volumes/Preboot/Cryptexes/OS@rpath/libssl.1.1.dylib' (no such file), '/Users/jemonat/opt/anaconda3/envs/my-rdkit-env/lib/libssl.1.1.dylib' (mach-o file, but is an incompatible architecture (have 'arm64', need 'x86_64')), '/System/Volumes/Preboot/Cryptexes/OS/Users/jemonat/opt/anaconda3/envs/my-rdkit-env/lib/libssl.1.1.dylib' (no such file), '/Users/jemonat/opt/anaconda3/envs/my-rdkit-env/lib/libssl.1.1.dylib' (mach-o file, but is an incompatible architecture (have 'arm64', need 'x86_64')), '/System/Volumes/Preboot/Cryptexes/OS/Users/jemonat/opt/anaconda3/envs/my-rdkit-env/lib/libssl.1.1.dylib' (no such file), '/Users/jemonat/opt/anaconda3/envs/my-rdkit-env/lib/python3.10/lib-dynload/../../libssl.1.1.dylib' (mach-o file, but is an incompatible architecture (have 'arm64', need 'x86_64')), '/Users/jemonat/opt/anaconda3/envs/my-rdkit-env/lib/libssl.1.1.dylib' (mach-o file, but is an incompatible architecture (have 'arm64', need 'x86_64')), '/System/Volumes/Preboot/Cryptexes/OS/Users/jemonat/opt/anaconda3/envs/my-rdkit-env/lib/libssl.1.1.dylib' (no such file), '/Users/jemonat/opt/anaconda3/envs/my-rdkit-env/lib/libssl.1.1.dylib' (mach-o file, but is an incompatible architecture (have 'arm64', need 'x86_64')), '/System/Volumes/Preboot/Cryptexes/OS/Users/jemonat/opt/anaconda3/envs/my-rdkit-env/lib/libssl.1.1.dylib' (no such file), '/Users/jemonat/opt/anaconda3/envs/my-rdkit-env/lib/python3.10/lib-dynload/../../libssl.1.1.dylib' (mach-o file, but is an incompatible architecture (have 'arm64', need 'x86_64')), '/Users/jemonat/opt/anaconda3/envs/my-rdkit-env/lib/libssl.1.1.dylib' (mach-o file, but is an incompatible architecture (have 'arm64', need 'x86_64')), '/System/Volumes/Preboot/Cryptexes/OS/Users/jemonat/opt/anaconda3/envs/my-rdkit-env/lib/libssl.1.1.dylib' (no such file), '/Users/jemonat/opt/anaconda3/envs/my-rdkit-env/bin/../lib/libssl.1.1.dylib' (mach-o file, but is an incompatible architecture (have 'arm64', need 'x86_64')), '/Users/jemonat/opt/anaconda3/envs/my-rdkit-env/lib/libssl.1.1.dylib' (mach-o file, but is an incompatible architecture (have 'arm64', need 'x86_64')), '/System/Volumes/Preboot/Cryptexes/OS/Users/jemonat/opt/anaconda3/envs/my-rdkit-env/lib/libssl.1.1.dylib' (no such file), '/Users/jemonat/opt/anaconda3/envs/my-rdkit-env/bin/../lib/libssl.1.1.dylib' (mach-o file, but is an incompatible architecture (have 'arm64', need 'x86_64')), '/usr/local/lib/libssl.1.1.dylib' (no such file), '/usr/lib/libssl.1.1.dylib' (no such file, not in dyld cache). \n",
      "\u001b[1;31mView Jupyter <a href='command:jupyter.viewOutput'>log</a> for further details."
     ]
    }
   ],
   "source": [
    "from rdkit import Chem\n",
    "from rdkit.Chem import Draw\n",
    "from rdkit.Chem.Draw import IPythonConsole\n",
    "IPythonConsole.drawOptions.addAtomIndices = False\n",
    "IPythonConsole.drawOptions.addStereoAnnotation = True"
   ]
  },
  {
   "cell_type": "code",
   "execution_count": null,
   "metadata": {},
   "outputs": [
    {
     "ename": "",
     "evalue": "",
     "output_type": "error",
     "traceback": [
      "\u001b[1;31mFailed to start the Kernel. \n",
      "\u001b[1;31mJupyter server crashed. Unable to connect. \n",
      "\u001b[1;31mError code from Jupyter: 1\n",
      "\u001b[1;31mTraceback (most recent call last):\n",
      "\u001b[1;31m  File \"/Users/jemonat/opt/anaconda3/envs/my-rdkit-env/bin/jupyter-notebook\", line 7, in <module>\n",
      "\u001b[1;31m\n",
      "\u001b[1;31m    from notebook.notebookapp import main\n",
      "\u001b[1;31m  File \"/Users/jemonat/opt/anaconda3/envs/my-rdkit-env/lib/python3.10/site-packages/notebook/notebookapp.py\", line 59, in <module>\n",
      "\u001b[1;31m\n",
      "\u001b[1;31m    from tornado import httpserver\n",
      "\u001b[1;31m  File \"/Users/jemonat/opt/anaconda3/envs/my-rdkit-env/lib/python3.10/site-packages/tornado/httpserver.py\", line 29, in <module>\n",
      "\u001b[1;31m\n",
      "\u001b[1;31m    import ssl\n",
      "\u001b[1;31m  File \"/Users/jemonat/opt/anaconda3/envs/my-rdkit-env/lib/python3.10/ssl.py\", line 98, in <module>\n",
      "\u001b[1;31m\n",
      "\u001b[1;31m    import _ssl             # if we can't import it, let the error propagate\n",
      "\u001b[1;31mImportError: dlopen(/Users/jemonat/opt/anaconda3/envs/my-rdkit-env/lib/python3.10/lib-dynload/_ssl.cpython-310-darwin.so, 0x0002): Library not loaded: @rpath/libssl.1.1.dylib\n",
      "\u001b[1;31m  Referenced from: <9EDE67EB-4BB4-3203-9312-EEF3934CF29C> /Users/jemonat/opt/anaconda3/envs/my-rdkit-env/lib/python3.10/lib-dynload/_ssl.cpython-310-darwin.so\n",
      "\u001b[1;31m  Reason: tried: '/Users/jemonat/opt/anaconda3/envs/my-rdkit-env/lib/libssl.1.1.dylib' (mach-o file, but is an incompatible architecture (have 'arm64', need 'x86_64')), '/System/Volumes/Preboot/Cryptexes/OS/Users/jemonat/opt/anaconda3/envs/my-rdkit-env/lib/libssl.1.1.dylib' (no such file), '/Users/jemonat/opt/anaconda3/envs/my-rdkit-env/lib/libssl.1.1.dylib' (mach-o file, but is an incompatible architecture (have 'arm64', need 'x86_64')), '/System/Volumes/Preboot/Cryptexes/OS/Users/jemonat/opt/anaconda3/envs/my-rdkit-env/lib/libssl.1.1.dylib' (no such file), '/Users/jemonat/opt/anaconda3/envs/my-rdkit-env/lib/python3.10/lib-dynload/../../libssl.1.1.dylib' (mach-o file, but is an incompatible architecture (have 'arm64', need 'x86_64')), '/Users/jemonat/opt/anaconda3/envs/my-rdkit-env/lib/libssl.1.1.dylib' (mach-o file, but is an incompatible architecture (have 'arm64', need 'x86_64')), '/System/Volumes/Preboot/Cryptexes/OS/Users/jemonat/opt/anaconda3/envs/my-rdkit-env/lib/libssl.1.1.dylib' (no such file), '/Users/jemonat/opt/anaconda3/envs/my-rdkit-env/lib/libssl.1.1.dylib' (mach-o file, but is an incompatible architecture (have 'arm64', need 'x86_64')), '/System/Volumes/Preboot/Cryptexes/OS/Users/jemonat/opt/anaconda3/envs/my-rdkit-env/lib/libssl.1.1.dylib' (no such file), '/Users/jemonat/opt/anaconda3/envs/my-rdkit-env/lib/python3.10/lib-dynload/../../libssl.1.1.dylib' (mach-o file, but is an incompatible architecture (have 'arm64', need 'x86_64')), '/Users/jemonat/opt/anaconda3/envs/my-rdkit-env/lib/libssl.1.1.dylib' (mach-o file, but is an incompatible architecture (have 'arm64', need 'x86_64')), '/System/Volumes/Preboot/Cryptexes/OS/Users/jemonat/opt/anaconda3/envs/my-rdkit-env/lib/libssl.1.1.dylib' (no such file), '/Users/jemonat/opt/anaconda3/envs/my-rdkit-env/bin/../lib/libssl.1.1.dylib' (mach-o file, but is an incompatible architecture (have 'arm64', need 'x86_64')), '/Users/jemonat/opt/anaconda3/envs/my-rdkit-env/lib/libssl.1.1.dylib' (mach-o file, but is an incompatible architecture (have 'arm64', need 'x86_64')), '/System/Volumes/Preboot/Cryptexes/OS/Users/jemonat/opt/anaconda3/envs/my-rdkit-env/lib/libssl.1.1.dylib' (no such file), '/Users/jemonat/opt/anaconda3/envs/my-rdkit-env/bin/../lib/libssl.1.1.dylib' (mach-o file, but is an incompatible architecture (have 'arm64', need 'x86_64')), '/System/Volumes/Preboot/Cryptexes/OS@rpath/libssl.1.1.dylib' (no such file), '/Users/jemonat/opt/anaconda3/envs/my-rdkit-env/lib/libssl.1.1.dylib' (mach-o file, but is an incompatible architecture (have 'arm64', need 'x86_64')), '/System/Volumes/Preboot/Cryptexes/OS/Users/jemonat/opt/anaconda3/envs/my-rdkit-env/lib/libssl.1.1.dylib' (no such file), '/Users/jemonat/opt/anaconda3/envs/my-rdkit-env/lib/libssl.1.1.dylib' (mach-o file, but is an incompatible architecture (have 'arm64', need 'x86_64')), '/System/Volumes/Preboot/Cryptexes/OS/Users/jemonat/opt/anaconda3/envs/my-rdkit-env/lib/libssl.1.1.dylib' (no such file), '/Users/jemonat/opt/anaconda3/envs/my-rdkit-env/lib/python3.10/lib-dynload/../../libssl.1.1.dylib' (mach-o file, but is an incompatible architecture (have 'arm64', need 'x86_64')), '/Users/jemonat/opt/anaconda3/envs/my-rdkit-env/lib/libssl.1.1.dylib' (mach-o file, but is an incompatible architecture (have 'arm64', need 'x86_64')), '/System/Volumes/Preboot/Cryptexes/OS/Users/jemonat/opt/anaconda3/envs/my-rdkit-env/lib/libssl.1.1.dylib' (no such file), '/Users/jemonat/opt/anaconda3/envs/my-rdkit-env/lib/libssl.1.1.dylib' (mach-o file, but is an incompatible architecture (have 'arm64', need 'x86_64')), '/System/Volumes/Preboot/Cryptexes/OS/Users/jemonat/opt/anaconda3/envs/my-rdkit-env/lib/libssl.1.1.dylib' (no such file), '/Users/jemonat/opt/anaconda3/envs/my-rdkit-env/lib/python3.10/lib-dynload/../../libssl.1.1.dylib' (mach-o file, but is an incompatible architecture (have 'arm64', need 'x86_64')), '/Users/jemonat/opt/anaconda3/envs/my-rdkit-env/lib/libssl.1.1.dylib' (mach-o file, but is an incompatible architecture (have 'arm64', need 'x86_64')), '/System/Volumes/Preboot/Cryptexes/OS/Users/jemonat/opt/anaconda3/envs/my-rdkit-env/lib/libssl.1.1.dylib' (no such file), '/Users/jemonat/opt/anaconda3/envs/my-rdkit-env/bin/../lib/libssl.1.1.dylib' (mach-o file, but is an incompatible architecture (have 'arm64', need 'x86_64')), '/Users/jemonat/opt/anaconda3/envs/my-rdkit-env/lib/libssl.1.1.dylib' (mach-o file, but is an incompatible architecture (have 'arm64', need 'x86_64')), '/System/Volumes/Preboot/Cryptexes/OS/Users/jemonat/opt/anaconda3/envs/my-rdkit-env/lib/libssl.1.1.dylib' (no such file), '/Users/jemonat/opt/anaconda3/envs/my-rdkit-env/bin/../lib/libssl.1.1.dylib' (mach-o file, but is an incompatible architecture (have 'arm64', need 'x86_64')), '/usr/local/lib/libssl.1.1.dylib' (no such file), '/usr/lib/libssl.1.1.dylib' (no such file, not in dyld cache). \n",
      "\u001b[1;31mView Jupyter <a href='command:jupyter.viewOutput'>log</a> for further details."
     ]
    }
   ],
   "source": [
    "# Default Representation uses legacy FindMolChiralCenters() code\n",
    "m1 = Chem.MolFromSmiles('C1CC1[C@H](F)C1CCC1')\n",
    "m2 = Chem.MolFromSmiles('F[C@H]1CC[C@H](O)CC1')\n",
    "Draw.MolsToGridImage((m1,m2), subImgSize=(250,250))"
   ]
  },
  {
   "cell_type": "code",
   "execution_count": null,
   "metadata": {},
   "outputs": [
    {
     "ename": "",
     "evalue": "",
     "output_type": "error",
     "traceback": [
      "\u001b[1;31mFailed to start the Kernel. \n",
      "\u001b[1;31mJupyter server crashed. Unable to connect. \n",
      "\u001b[1;31mError code from Jupyter: 1\n",
      "\u001b[1;31mTraceback (most recent call last):\n",
      "\u001b[1;31m  File \"/Users/jemonat/opt/anaconda3/envs/my-rdkit-env/bin/jupyter-notebook\", line 7, in <module>\n",
      "\u001b[1;31m\n",
      "\u001b[1;31m    from notebook.notebookapp import main\n",
      "\u001b[1;31m  File \"/Users/jemonat/opt/anaconda3/envs/my-rdkit-env/lib/python3.10/site-packages/notebook/notebookapp.py\", line 59, in <module>\n",
      "\u001b[1;31m\n",
      "\u001b[1;31m    from tornado import httpserver\n",
      "\u001b[1;31m  File \"/Users/jemonat/opt/anaconda3/envs/my-rdkit-env/lib/python3.10/site-packages/tornado/httpserver.py\", line 29, in <module>\n",
      "\u001b[1;31m\n",
      "\u001b[1;31m    import ssl\n",
      "\u001b[1;31m  File \"/Users/jemonat/opt/anaconda3/envs/my-rdkit-env/lib/python3.10/ssl.py\", line 98, in <module>\n",
      "\u001b[1;31m\n",
      "\u001b[1;31m    import _ssl             # if we can't import it, let the error propagate\n",
      "\u001b[1;31mImportError: dlopen(/Users/jemonat/opt/anaconda3/envs/my-rdkit-env/lib/python3.10/lib-dynload/_ssl.cpython-310-darwin.so, 0x0002): Library not loaded: @rpath/libssl.1.1.dylib\n",
      "\u001b[1;31m  Referenced from: <9EDE67EB-4BB4-3203-9312-EEF3934CF29C> /Users/jemonat/opt/anaconda3/envs/my-rdkit-env/lib/python3.10/lib-dynload/_ssl.cpython-310-darwin.so\n",
      "\u001b[1;31m  Reason: tried: '/Users/jemonat/opt/anaconda3/envs/my-rdkit-env/lib/libssl.1.1.dylib' (mach-o file, but is an incompatible architecture (have 'arm64', need 'x86_64')), '/System/Volumes/Preboot/Cryptexes/OS/Users/jemonat/opt/anaconda3/envs/my-rdkit-env/lib/libssl.1.1.dylib' (no such file), '/Users/jemonat/opt/anaconda3/envs/my-rdkit-env/lib/libssl.1.1.dylib' (mach-o file, but is an incompatible architecture (have 'arm64', need 'x86_64')), '/System/Volumes/Preboot/Cryptexes/OS/Users/jemonat/opt/anaconda3/envs/my-rdkit-env/lib/libssl.1.1.dylib' (no such file), '/Users/jemonat/opt/anaconda3/envs/my-rdkit-env/lib/python3.10/lib-dynload/../../libssl.1.1.dylib' (mach-o file, but is an incompatible architecture (have 'arm64', need 'x86_64')), '/Users/jemonat/opt/anaconda3/envs/my-rdkit-env/lib/libssl.1.1.dylib' (mach-o file, but is an incompatible architecture (have 'arm64', need 'x86_64')), '/System/Volumes/Preboot/Cryptexes/OS/Users/jemonat/opt/anaconda3/envs/my-rdkit-env/lib/libssl.1.1.dylib' (no such file), '/Users/jemonat/opt/anaconda3/envs/my-rdkit-env/lib/libssl.1.1.dylib' (mach-o file, but is an incompatible architecture (have 'arm64', need 'x86_64')), '/System/Volumes/Preboot/Cryptexes/OS/Users/jemonat/opt/anaconda3/envs/my-rdkit-env/lib/libssl.1.1.dylib' (no such file), '/Users/jemonat/opt/anaconda3/envs/my-rdkit-env/lib/python3.10/lib-dynload/../../libssl.1.1.dylib' (mach-o file, but is an incompatible architecture (have 'arm64', need 'x86_64')), '/Users/jemonat/opt/anaconda3/envs/my-rdkit-env/lib/libssl.1.1.dylib' (mach-o file, but is an incompatible architecture (have 'arm64', need 'x86_64')), '/System/Volumes/Preboot/Cryptexes/OS/Users/jemonat/opt/anaconda3/envs/my-rdkit-env/lib/libssl.1.1.dylib' (no such file), '/Users/jemonat/opt/anaconda3/envs/my-rdkit-env/bin/../lib/libssl.1.1.dylib' (mach-o file, but is an incompatible architecture (have 'arm64', need 'x86_64')), '/Users/jemonat/opt/anaconda3/envs/my-rdkit-env/lib/libssl.1.1.dylib' (mach-o file, but is an incompatible architecture (have 'arm64', need 'x86_64')), '/System/Volumes/Preboot/Cryptexes/OS/Users/jemonat/opt/anaconda3/envs/my-rdkit-env/lib/libssl.1.1.dylib' (no such file), '/Users/jemonat/opt/anaconda3/envs/my-rdkit-env/bin/../lib/libssl.1.1.dylib' (mach-o file, but is an incompatible architecture (have 'arm64', need 'x86_64')), '/System/Volumes/Preboot/Cryptexes/OS@rpath/libssl.1.1.dylib' (no such file), '/Users/jemonat/opt/anaconda3/envs/my-rdkit-env/lib/libssl.1.1.dylib' (mach-o file, but is an incompatible architecture (have 'arm64', need 'x86_64')), '/System/Volumes/Preboot/Cryptexes/OS/Users/jemonat/opt/anaconda3/envs/my-rdkit-env/lib/libssl.1.1.dylib' (no such file), '/Users/jemonat/opt/anaconda3/envs/my-rdkit-env/lib/libssl.1.1.dylib' (mach-o file, but is an incompatible architecture (have 'arm64', need 'x86_64')), '/System/Volumes/Preboot/Cryptexes/OS/Users/jemonat/opt/anaconda3/envs/my-rdkit-env/lib/libssl.1.1.dylib' (no such file), '/Users/jemonat/opt/anaconda3/envs/my-rdkit-env/lib/python3.10/lib-dynload/../../libssl.1.1.dylib' (mach-o file, but is an incompatible architecture (have 'arm64', need 'x86_64')), '/Users/jemonat/opt/anaconda3/envs/my-rdkit-env/lib/libssl.1.1.dylib' (mach-o file, but is an incompatible architecture (have 'arm64', need 'x86_64')), '/System/Volumes/Preboot/Cryptexes/OS/Users/jemonat/opt/anaconda3/envs/my-rdkit-env/lib/libssl.1.1.dylib' (no such file), '/Users/jemonat/opt/anaconda3/envs/my-rdkit-env/lib/libssl.1.1.dylib' (mach-o file, but is an incompatible architecture (have 'arm64', need 'x86_64')), '/System/Volumes/Preboot/Cryptexes/OS/Users/jemonat/opt/anaconda3/envs/my-rdkit-env/lib/libssl.1.1.dylib' (no such file), '/Users/jemonat/opt/anaconda3/envs/my-rdkit-env/lib/python3.10/lib-dynload/../../libssl.1.1.dylib' (mach-o file, but is an incompatible architecture (have 'arm64', need 'x86_64')), '/Users/jemonat/opt/anaconda3/envs/my-rdkit-env/lib/libssl.1.1.dylib' (mach-o file, but is an incompatible architecture (have 'arm64', need 'x86_64')), '/System/Volumes/Preboot/Cryptexes/OS/Users/jemonat/opt/anaconda3/envs/my-rdkit-env/lib/libssl.1.1.dylib' (no such file), '/Users/jemonat/opt/anaconda3/envs/my-rdkit-env/bin/../lib/libssl.1.1.dylib' (mach-o file, but is an incompatible architecture (have 'arm64', need 'x86_64')), '/Users/jemonat/opt/anaconda3/envs/my-rdkit-env/lib/libssl.1.1.dylib' (mach-o file, but is an incompatible architecture (have 'arm64', need 'x86_64')), '/System/Volumes/Preboot/Cryptexes/OS/Users/jemonat/opt/anaconda3/envs/my-rdkit-env/lib/libssl.1.1.dylib' (no such file), '/Users/jemonat/opt/anaconda3/envs/my-rdkit-env/bin/../lib/libssl.1.1.dylib' (mach-o file, but is an incompatible architecture (have 'arm64', need 'x86_64')), '/usr/local/lib/libssl.1.1.dylib' (no such file), '/usr/lib/libssl.1.1.dylib' (no such file, not in dyld cache). \n",
      "\u001b[1;31mView Jupyter <a href='command:jupyter.viewOutput'>log</a> for further details."
     ]
    }
   ],
   "source": [
    "# new stereochemistry code with more accurate CIP labels, 2020.09 release\n",
    "from rdkit.Chem import rdCIPLabeler\n",
    "rdCIPLabeler.AssignCIPLabels(m1)\n",
    "rdCIPLabeler.AssignCIPLabels(m2)\n",
    "Draw.MolsToGridImage((m1,m2), subImgSize=(250,250))"
   ]
  },
  {
   "cell_type": "markdown",
   "metadata": {},
   "source": [
    "### [Black and White Molecules](https://www.rdkit.org/docs/Cookbook.html#black-and-white-molecules)"
   ]
  },
  {
   "cell_type": "code",
   "execution_count": null,
   "metadata": {},
   "outputs": [
    {
     "ename": "",
     "evalue": "",
     "output_type": "error",
     "traceback": [
      "\u001b[1;31mFailed to start the Kernel. \n",
      "\u001b[1;31mJupyter server crashed. Unable to connect. \n",
      "\u001b[1;31mError code from Jupyter: 1\n",
      "\u001b[1;31mTraceback (most recent call last):\n",
      "\u001b[1;31m  File \"/Users/jemonat/opt/anaconda3/envs/my-rdkit-env/bin/jupyter-notebook\", line 7, in <module>\n",
      "\u001b[1;31m\n",
      "\u001b[1;31m    from notebook.notebookapp import main\n",
      "\u001b[1;31m  File \"/Users/jemonat/opt/anaconda3/envs/my-rdkit-env/lib/python3.10/site-packages/notebook/notebookapp.py\", line 59, in <module>\n",
      "\u001b[1;31m\n",
      "\u001b[1;31m    from tornado import httpserver\n",
      "\u001b[1;31m  File \"/Users/jemonat/opt/anaconda3/envs/my-rdkit-env/lib/python3.10/site-packages/tornado/httpserver.py\", line 29, in <module>\n",
      "\u001b[1;31m\n",
      "\u001b[1;31m    import ssl\n",
      "\u001b[1;31m  File \"/Users/jemonat/opt/anaconda3/envs/my-rdkit-env/lib/python3.10/ssl.py\", line 98, in <module>\n",
      "\u001b[1;31m\n",
      "\u001b[1;31m    import _ssl             # if we can't import it, let the error propagate\n",
      "\u001b[1;31mImportError: dlopen(/Users/jemonat/opt/anaconda3/envs/my-rdkit-env/lib/python3.10/lib-dynload/_ssl.cpython-310-darwin.so, 0x0002): Library not loaded: @rpath/libssl.1.1.dylib\n",
      "\u001b[1;31m  Referenced from: <9EDE67EB-4BB4-3203-9312-EEF3934CF29C> /Users/jemonat/opt/anaconda3/envs/my-rdkit-env/lib/python3.10/lib-dynload/_ssl.cpython-310-darwin.so\n",
      "\u001b[1;31m  Reason: tried: '/Users/jemonat/opt/anaconda3/envs/my-rdkit-env/lib/libssl.1.1.dylib' (mach-o file, but is an incompatible architecture (have 'arm64', need 'x86_64')), '/System/Volumes/Preboot/Cryptexes/OS/Users/jemonat/opt/anaconda3/envs/my-rdkit-env/lib/libssl.1.1.dylib' (no such file), '/Users/jemonat/opt/anaconda3/envs/my-rdkit-env/lib/libssl.1.1.dylib' (mach-o file, but is an incompatible architecture (have 'arm64', need 'x86_64')), '/System/Volumes/Preboot/Cryptexes/OS/Users/jemonat/opt/anaconda3/envs/my-rdkit-env/lib/libssl.1.1.dylib' (no such file), '/Users/jemonat/opt/anaconda3/envs/my-rdkit-env/lib/python3.10/lib-dynload/../../libssl.1.1.dylib' (mach-o file, but is an incompatible architecture (have 'arm64', need 'x86_64')), '/Users/jemonat/opt/anaconda3/envs/my-rdkit-env/lib/libssl.1.1.dylib' (mach-o file, but is an incompatible architecture (have 'arm64', need 'x86_64')), '/System/Volumes/Preboot/Cryptexes/OS/Users/jemonat/opt/anaconda3/envs/my-rdkit-env/lib/libssl.1.1.dylib' (no such file), '/Users/jemonat/opt/anaconda3/envs/my-rdkit-env/lib/libssl.1.1.dylib' (mach-o file, but is an incompatible architecture (have 'arm64', need 'x86_64')), '/System/Volumes/Preboot/Cryptexes/OS/Users/jemonat/opt/anaconda3/envs/my-rdkit-env/lib/libssl.1.1.dylib' (no such file), '/Users/jemonat/opt/anaconda3/envs/my-rdkit-env/lib/python3.10/lib-dynload/../../libssl.1.1.dylib' (mach-o file, but is an incompatible architecture (have 'arm64', need 'x86_64')), '/Users/jemonat/opt/anaconda3/envs/my-rdkit-env/lib/libssl.1.1.dylib' (mach-o file, but is an incompatible architecture (have 'arm64', need 'x86_64')), '/System/Volumes/Preboot/Cryptexes/OS/Users/jemonat/opt/anaconda3/envs/my-rdkit-env/lib/libssl.1.1.dylib' (no such file), '/Users/jemonat/opt/anaconda3/envs/my-rdkit-env/bin/../lib/libssl.1.1.dylib' (mach-o file, but is an incompatible architecture (have 'arm64', need 'x86_64')), '/Users/jemonat/opt/anaconda3/envs/my-rdkit-env/lib/libssl.1.1.dylib' (mach-o file, but is an incompatible architecture (have 'arm64', need 'x86_64')), '/System/Volumes/Preboot/Cryptexes/OS/Users/jemonat/opt/anaconda3/envs/my-rdkit-env/lib/libssl.1.1.dylib' (no such file), '/Users/jemonat/opt/anaconda3/envs/my-rdkit-env/bin/../lib/libssl.1.1.dylib' (mach-o file, but is an incompatible architecture (have 'arm64', need 'x86_64')), '/System/Volumes/Preboot/Cryptexes/OS@rpath/libssl.1.1.dylib' (no such file), '/Users/jemonat/opt/anaconda3/envs/my-rdkit-env/lib/libssl.1.1.dylib' (mach-o file, but is an incompatible architecture (have 'arm64', need 'x86_64')), '/System/Volumes/Preboot/Cryptexes/OS/Users/jemonat/opt/anaconda3/envs/my-rdkit-env/lib/libssl.1.1.dylib' (no such file), '/Users/jemonat/opt/anaconda3/envs/my-rdkit-env/lib/libssl.1.1.dylib' (mach-o file, but is an incompatible architecture (have 'arm64', need 'x86_64')), '/System/Volumes/Preboot/Cryptexes/OS/Users/jemonat/opt/anaconda3/envs/my-rdkit-env/lib/libssl.1.1.dylib' (no such file), '/Users/jemonat/opt/anaconda3/envs/my-rdkit-env/lib/python3.10/lib-dynload/../../libssl.1.1.dylib' (mach-o file, but is an incompatible architecture (have 'arm64', need 'x86_64')), '/Users/jemonat/opt/anaconda3/envs/my-rdkit-env/lib/libssl.1.1.dylib' (mach-o file, but is an incompatible architecture (have 'arm64', need 'x86_64')), '/System/Volumes/Preboot/Cryptexes/OS/Users/jemonat/opt/anaconda3/envs/my-rdkit-env/lib/libssl.1.1.dylib' (no such file), '/Users/jemonat/opt/anaconda3/envs/my-rdkit-env/lib/libssl.1.1.dylib' (mach-o file, but is an incompatible architecture (have 'arm64', need 'x86_64')), '/System/Volumes/Preboot/Cryptexes/OS/Users/jemonat/opt/anaconda3/envs/my-rdkit-env/lib/libssl.1.1.dylib' (no such file), '/Users/jemonat/opt/anaconda3/envs/my-rdkit-env/lib/python3.10/lib-dynload/../../libssl.1.1.dylib' (mach-o file, but is an incompatible architecture (have 'arm64', need 'x86_64')), '/Users/jemonat/opt/anaconda3/envs/my-rdkit-env/lib/libssl.1.1.dylib' (mach-o file, but is an incompatible architecture (have 'arm64', need 'x86_64')), '/System/Volumes/Preboot/Cryptexes/OS/Users/jemonat/opt/anaconda3/envs/my-rdkit-env/lib/libssl.1.1.dylib' (no such file), '/Users/jemonat/opt/anaconda3/envs/my-rdkit-env/bin/../lib/libssl.1.1.dylib' (mach-o file, but is an incompatible architecture (have 'arm64', need 'x86_64')), '/Users/jemonat/opt/anaconda3/envs/my-rdkit-env/lib/libssl.1.1.dylib' (mach-o file, but is an incompatible architecture (have 'arm64', need 'x86_64')), '/System/Volumes/Preboot/Cryptexes/OS/Users/jemonat/opt/anaconda3/envs/my-rdkit-env/lib/libssl.1.1.dylib' (no such file), '/Users/jemonat/opt/anaconda3/envs/my-rdkit-env/bin/../lib/libssl.1.1.dylib' (mach-o file, but is an incompatible architecture (have 'arm64', need 'x86_64')), '/usr/local/lib/libssl.1.1.dylib' (no such file), '/usr/lib/libssl.1.1.dylib' (no such file, not in dyld cache). \n",
      "\u001b[1;31mView Jupyter <a href='command:jupyter.viewOutput'>log</a> for further details."
     ]
    }
   ],
   "source": [
    "from rdkit import Chem\n",
    "from rdkit.Chem.Draw import IPythonConsole\n",
    "from rdkit.Chem import Draw"
   ]
  },
  {
   "cell_type": "code",
   "execution_count": null,
   "metadata": {},
   "outputs": [
    {
     "ename": "",
     "evalue": "",
     "output_type": "error",
     "traceback": [
      "\u001b[1;31mFailed to start the Kernel. \n",
      "\u001b[1;31mJupyter server crashed. Unable to connect. \n",
      "\u001b[1;31mError code from Jupyter: 1\n",
      "\u001b[1;31mTraceback (most recent call last):\n",
      "\u001b[1;31m  File \"/Users/jemonat/opt/anaconda3/envs/my-rdkit-env/bin/jupyter-notebook\", line 7, in <module>\n",
      "\u001b[1;31m\n",
      "\u001b[1;31m    from notebook.notebookapp import main\n",
      "\u001b[1;31m  File \"/Users/jemonat/opt/anaconda3/envs/my-rdkit-env/lib/python3.10/site-packages/notebook/notebookapp.py\", line 59, in <module>\n",
      "\u001b[1;31m\n",
      "\u001b[1;31m    from tornado import httpserver\n",
      "\u001b[1;31m  File \"/Users/jemonat/opt/anaconda3/envs/my-rdkit-env/lib/python3.10/site-packages/tornado/httpserver.py\", line 29, in <module>\n",
      "\u001b[1;31m\n",
      "\u001b[1;31m    import ssl\n",
      "\u001b[1;31m  File \"/Users/jemonat/opt/anaconda3/envs/my-rdkit-env/lib/python3.10/ssl.py\", line 98, in <module>\n",
      "\u001b[1;31m\n",
      "\u001b[1;31m    import _ssl             # if we can't import it, let the error propagate\n",
      "\u001b[1;31mImportError: dlopen(/Users/jemonat/opt/anaconda3/envs/my-rdkit-env/lib/python3.10/lib-dynload/_ssl.cpython-310-darwin.so, 0x0002): Library not loaded: @rpath/libssl.1.1.dylib\n",
      "\u001b[1;31m  Referenced from: <9EDE67EB-4BB4-3203-9312-EEF3934CF29C> /Users/jemonat/opt/anaconda3/envs/my-rdkit-env/lib/python3.10/lib-dynload/_ssl.cpython-310-darwin.so\n",
      "\u001b[1;31m  Reason: tried: '/Users/jemonat/opt/anaconda3/envs/my-rdkit-env/lib/libssl.1.1.dylib' (mach-o file, but is an incompatible architecture (have 'arm64', need 'x86_64')), '/System/Volumes/Preboot/Cryptexes/OS/Users/jemonat/opt/anaconda3/envs/my-rdkit-env/lib/libssl.1.1.dylib' (no such file), '/Users/jemonat/opt/anaconda3/envs/my-rdkit-env/lib/libssl.1.1.dylib' (mach-o file, but is an incompatible architecture (have 'arm64', need 'x86_64')), '/System/Volumes/Preboot/Cryptexes/OS/Users/jemonat/opt/anaconda3/envs/my-rdkit-env/lib/libssl.1.1.dylib' (no such file), '/Users/jemonat/opt/anaconda3/envs/my-rdkit-env/lib/python3.10/lib-dynload/../../libssl.1.1.dylib' (mach-o file, but is an incompatible architecture (have 'arm64', need 'x86_64')), '/Users/jemonat/opt/anaconda3/envs/my-rdkit-env/lib/libssl.1.1.dylib' (mach-o file, but is an incompatible architecture (have 'arm64', need 'x86_64')), '/System/Volumes/Preboot/Cryptexes/OS/Users/jemonat/opt/anaconda3/envs/my-rdkit-env/lib/libssl.1.1.dylib' (no such file), '/Users/jemonat/opt/anaconda3/envs/my-rdkit-env/lib/libssl.1.1.dylib' (mach-o file, but is an incompatible architecture (have 'arm64', need 'x86_64')), '/System/Volumes/Preboot/Cryptexes/OS/Users/jemonat/opt/anaconda3/envs/my-rdkit-env/lib/libssl.1.1.dylib' (no such file), '/Users/jemonat/opt/anaconda3/envs/my-rdkit-env/lib/python3.10/lib-dynload/../../libssl.1.1.dylib' (mach-o file, but is an incompatible architecture (have 'arm64', need 'x86_64')), '/Users/jemonat/opt/anaconda3/envs/my-rdkit-env/lib/libssl.1.1.dylib' (mach-o file, but is an incompatible architecture (have 'arm64', need 'x86_64')), '/System/Volumes/Preboot/Cryptexes/OS/Users/jemonat/opt/anaconda3/envs/my-rdkit-env/lib/libssl.1.1.dylib' (no such file), '/Users/jemonat/opt/anaconda3/envs/my-rdkit-env/bin/../lib/libssl.1.1.dylib' (mach-o file, but is an incompatible architecture (have 'arm64', need 'x86_64')), '/Users/jemonat/opt/anaconda3/envs/my-rdkit-env/lib/libssl.1.1.dylib' (mach-o file, but is an incompatible architecture (have 'arm64', need 'x86_64')), '/System/Volumes/Preboot/Cryptexes/OS/Users/jemonat/opt/anaconda3/envs/my-rdkit-env/lib/libssl.1.1.dylib' (no such file), '/Users/jemonat/opt/anaconda3/envs/my-rdkit-env/bin/../lib/libssl.1.1.dylib' (mach-o file, but is an incompatible architecture (have 'arm64', need 'x86_64')), '/System/Volumes/Preboot/Cryptexes/OS@rpath/libssl.1.1.dylib' (no such file), '/Users/jemonat/opt/anaconda3/envs/my-rdkit-env/lib/libssl.1.1.dylib' (mach-o file, but is an incompatible architecture (have 'arm64', need 'x86_64')), '/System/Volumes/Preboot/Cryptexes/OS/Users/jemonat/opt/anaconda3/envs/my-rdkit-env/lib/libssl.1.1.dylib' (no such file), '/Users/jemonat/opt/anaconda3/envs/my-rdkit-env/lib/libssl.1.1.dylib' (mach-o file, but is an incompatible architecture (have 'arm64', need 'x86_64')), '/System/Volumes/Preboot/Cryptexes/OS/Users/jemonat/opt/anaconda3/envs/my-rdkit-env/lib/libssl.1.1.dylib' (no such file), '/Users/jemonat/opt/anaconda3/envs/my-rdkit-env/lib/python3.10/lib-dynload/../../libssl.1.1.dylib' (mach-o file, but is an incompatible architecture (have 'arm64', need 'x86_64')), '/Users/jemonat/opt/anaconda3/envs/my-rdkit-env/lib/libssl.1.1.dylib' (mach-o file, but is an incompatible architecture (have 'arm64', need 'x86_64')), '/System/Volumes/Preboot/Cryptexes/OS/Users/jemonat/opt/anaconda3/envs/my-rdkit-env/lib/libssl.1.1.dylib' (no such file), '/Users/jemonat/opt/anaconda3/envs/my-rdkit-env/lib/libssl.1.1.dylib' (mach-o file, but is an incompatible architecture (have 'arm64', need 'x86_64')), '/System/Volumes/Preboot/Cryptexes/OS/Users/jemonat/opt/anaconda3/envs/my-rdkit-env/lib/libssl.1.1.dylib' (no such file), '/Users/jemonat/opt/anaconda3/envs/my-rdkit-env/lib/python3.10/lib-dynload/../../libssl.1.1.dylib' (mach-o file, but is an incompatible architecture (have 'arm64', need 'x86_64')), '/Users/jemonat/opt/anaconda3/envs/my-rdkit-env/lib/libssl.1.1.dylib' (mach-o file, but is an incompatible architecture (have 'arm64', need 'x86_64')), '/System/Volumes/Preboot/Cryptexes/OS/Users/jemonat/opt/anaconda3/envs/my-rdkit-env/lib/libssl.1.1.dylib' (no such file), '/Users/jemonat/opt/anaconda3/envs/my-rdkit-env/bin/../lib/libssl.1.1.dylib' (mach-o file, but is an incompatible architecture (have 'arm64', need 'x86_64')), '/Users/jemonat/opt/anaconda3/envs/my-rdkit-env/lib/libssl.1.1.dylib' (mach-o file, but is an incompatible architecture (have 'arm64', need 'x86_64')), '/System/Volumes/Preboot/Cryptexes/OS/Users/jemonat/opt/anaconda3/envs/my-rdkit-env/lib/libssl.1.1.dylib' (no such file), '/Users/jemonat/opt/anaconda3/envs/my-rdkit-env/bin/../lib/libssl.1.1.dylib' (mach-o file, but is an incompatible architecture (have 'arm64', need 'x86_64')), '/usr/local/lib/libssl.1.1.dylib' (no such file), '/usr/lib/libssl.1.1.dylib' (no such file, not in dyld cache). \n",
      "\u001b[1;31mView Jupyter <a href='command:jupyter.viewOutput'>log</a> for further details."
     ]
    }
   ],
   "source": [
    "ms = [Chem.MolFromSmiles(x) for x in ('Cc1onc(-c2ccccc2)c1C(=O)N[C@@H]1C(=O)N2[C@@H](C(=O)O)C(C)(C)S[C@H]12','CC1(C)SC2C(NC(=O)Cc3ccccc3)C(=O)N2C1C(=O)O.[Na]')]\n",
    "Draw.MolsToGridImage(ms)"
   ]
  },
  {
   "cell_type": "code",
   "execution_count": null,
   "metadata": {},
   "outputs": [
    {
     "ename": "",
     "evalue": "",
     "output_type": "error",
     "traceback": [
      "\u001b[1;31mFailed to start the Kernel. \n",
      "\u001b[1;31mJupyter server crashed. Unable to connect. \n",
      "\u001b[1;31mError code from Jupyter: 1\n",
      "\u001b[1;31mTraceback (most recent call last):\n",
      "\u001b[1;31m  File \"/Users/jemonat/opt/anaconda3/envs/my-rdkit-env/bin/jupyter-notebook\", line 7, in <module>\n",
      "\u001b[1;31m\n",
      "\u001b[1;31m    from notebook.notebookapp import main\n",
      "\u001b[1;31m  File \"/Users/jemonat/opt/anaconda3/envs/my-rdkit-env/lib/python3.10/site-packages/notebook/notebookapp.py\", line 59, in <module>\n",
      "\u001b[1;31m\n",
      "\u001b[1;31m    from tornado import httpserver\n",
      "\u001b[1;31m  File \"/Users/jemonat/opt/anaconda3/envs/my-rdkit-env/lib/python3.10/site-packages/tornado/httpserver.py\", line 29, in <module>\n",
      "\u001b[1;31m\n",
      "\u001b[1;31m    import ssl\n",
      "\u001b[1;31m  File \"/Users/jemonat/opt/anaconda3/envs/my-rdkit-env/lib/python3.10/ssl.py\", line 98, in <module>\n",
      "\u001b[1;31m\n",
      "\u001b[1;31m    import _ssl             # if we can't import it, let the error propagate\n",
      "\u001b[1;31mImportError: dlopen(/Users/jemonat/opt/anaconda3/envs/my-rdkit-env/lib/python3.10/lib-dynload/_ssl.cpython-310-darwin.so, 0x0002): Library not loaded: @rpath/libssl.1.1.dylib\n",
      "\u001b[1;31m  Referenced from: <9EDE67EB-4BB4-3203-9312-EEF3934CF29C> /Users/jemonat/opt/anaconda3/envs/my-rdkit-env/lib/python3.10/lib-dynload/_ssl.cpython-310-darwin.so\n",
      "\u001b[1;31m  Reason: tried: '/Users/jemonat/opt/anaconda3/envs/my-rdkit-env/lib/libssl.1.1.dylib' (mach-o file, but is an incompatible architecture (have 'arm64', need 'x86_64')), '/System/Volumes/Preboot/Cryptexes/OS/Users/jemonat/opt/anaconda3/envs/my-rdkit-env/lib/libssl.1.1.dylib' (no such file), '/Users/jemonat/opt/anaconda3/envs/my-rdkit-env/lib/libssl.1.1.dylib' (mach-o file, but is an incompatible architecture (have 'arm64', need 'x86_64')), '/System/Volumes/Preboot/Cryptexes/OS/Users/jemonat/opt/anaconda3/envs/my-rdkit-env/lib/libssl.1.1.dylib' (no such file), '/Users/jemonat/opt/anaconda3/envs/my-rdkit-env/lib/python3.10/lib-dynload/../../libssl.1.1.dylib' (mach-o file, but is an incompatible architecture (have 'arm64', need 'x86_64')), '/Users/jemonat/opt/anaconda3/envs/my-rdkit-env/lib/libssl.1.1.dylib' (mach-o file, but is an incompatible architecture (have 'arm64', need 'x86_64')), '/System/Volumes/Preboot/Cryptexes/OS/Users/jemonat/opt/anaconda3/envs/my-rdkit-env/lib/libssl.1.1.dylib' (no such file), '/Users/jemonat/opt/anaconda3/envs/my-rdkit-env/lib/libssl.1.1.dylib' (mach-o file, but is an incompatible architecture (have 'arm64', need 'x86_64')), '/System/Volumes/Preboot/Cryptexes/OS/Users/jemonat/opt/anaconda3/envs/my-rdkit-env/lib/libssl.1.1.dylib' (no such file), '/Users/jemonat/opt/anaconda3/envs/my-rdkit-env/lib/python3.10/lib-dynload/../../libssl.1.1.dylib' (mach-o file, but is an incompatible architecture (have 'arm64', need 'x86_64')), '/Users/jemonat/opt/anaconda3/envs/my-rdkit-env/lib/libssl.1.1.dylib' (mach-o file, but is an incompatible architecture (have 'arm64', need 'x86_64')), '/System/Volumes/Preboot/Cryptexes/OS/Users/jemonat/opt/anaconda3/envs/my-rdkit-env/lib/libssl.1.1.dylib' (no such file), '/Users/jemonat/opt/anaconda3/envs/my-rdkit-env/bin/../lib/libssl.1.1.dylib' (mach-o file, but is an incompatible architecture (have 'arm64', need 'x86_64')), '/Users/jemonat/opt/anaconda3/envs/my-rdkit-env/lib/libssl.1.1.dylib' (mach-o file, but is an incompatible architecture (have 'arm64', need 'x86_64')), '/System/Volumes/Preboot/Cryptexes/OS/Users/jemonat/opt/anaconda3/envs/my-rdkit-env/lib/libssl.1.1.dylib' (no such file), '/Users/jemonat/opt/anaconda3/envs/my-rdkit-env/bin/../lib/libssl.1.1.dylib' (mach-o file, but is an incompatible architecture (have 'arm64', need 'x86_64')), '/System/Volumes/Preboot/Cryptexes/OS@rpath/libssl.1.1.dylib' (no such file), '/Users/jemonat/opt/anaconda3/envs/my-rdkit-env/lib/libssl.1.1.dylib' (mach-o file, but is an incompatible architecture (have 'arm64', need 'x86_64')), '/System/Volumes/Preboot/Cryptexes/OS/Users/jemonat/opt/anaconda3/envs/my-rdkit-env/lib/libssl.1.1.dylib' (no such file), '/Users/jemonat/opt/anaconda3/envs/my-rdkit-env/lib/libssl.1.1.dylib' (mach-o file, but is an incompatible architecture (have 'arm64', need 'x86_64')), '/System/Volumes/Preboot/Cryptexes/OS/Users/jemonat/opt/anaconda3/envs/my-rdkit-env/lib/libssl.1.1.dylib' (no such file), '/Users/jemonat/opt/anaconda3/envs/my-rdkit-env/lib/python3.10/lib-dynload/../../libssl.1.1.dylib' (mach-o file, but is an incompatible architecture (have 'arm64', need 'x86_64')), '/Users/jemonat/opt/anaconda3/envs/my-rdkit-env/lib/libssl.1.1.dylib' (mach-o file, but is an incompatible architecture (have 'arm64', need 'x86_64')), '/System/Volumes/Preboot/Cryptexes/OS/Users/jemonat/opt/anaconda3/envs/my-rdkit-env/lib/libssl.1.1.dylib' (no such file), '/Users/jemonat/opt/anaconda3/envs/my-rdkit-env/lib/libssl.1.1.dylib' (mach-o file, but is an incompatible architecture (have 'arm64', need 'x86_64')), '/System/Volumes/Preboot/Cryptexes/OS/Users/jemonat/opt/anaconda3/envs/my-rdkit-env/lib/libssl.1.1.dylib' (no such file), '/Users/jemonat/opt/anaconda3/envs/my-rdkit-env/lib/python3.10/lib-dynload/../../libssl.1.1.dylib' (mach-o file, but is an incompatible architecture (have 'arm64', need 'x86_64')), '/Users/jemonat/opt/anaconda3/envs/my-rdkit-env/lib/libssl.1.1.dylib' (mach-o file, but is an incompatible architecture (have 'arm64', need 'x86_64')), '/System/Volumes/Preboot/Cryptexes/OS/Users/jemonat/opt/anaconda3/envs/my-rdkit-env/lib/libssl.1.1.dylib' (no such file), '/Users/jemonat/opt/anaconda3/envs/my-rdkit-env/bin/../lib/libssl.1.1.dylib' (mach-o file, but is an incompatible architecture (have 'arm64', need 'x86_64')), '/Users/jemonat/opt/anaconda3/envs/my-rdkit-env/lib/libssl.1.1.dylib' (mach-o file, but is an incompatible architecture (have 'arm64', need 'x86_64')), '/System/Volumes/Preboot/Cryptexes/OS/Users/jemonat/opt/anaconda3/envs/my-rdkit-env/lib/libssl.1.1.dylib' (no such file), '/Users/jemonat/opt/anaconda3/envs/my-rdkit-env/bin/../lib/libssl.1.1.dylib' (mach-o file, but is an incompatible architecture (have 'arm64', need 'x86_64')), '/usr/local/lib/libssl.1.1.dylib' (no such file), '/usr/lib/libssl.1.1.dylib' (no such file, not in dyld cache). \n",
      "\u001b[1;31mView Jupyter <a href='command:jupyter.viewOutput'>log</a> for further details."
     ]
    }
   ],
   "source": [
    "IPythonConsole.drawOptions.useBWAtomPalette()\n",
    "Draw.MolsToGridImage(ms)"
   ]
  },
  {
   "cell_type": "markdown",
   "metadata": {},
   "source": [
    "### [Highlight a Substructure in a Molecule](https://www.rdkit.org/docs/Cookbook.html#highlight-a-substructure-in-a-molecule)"
   ]
  },
  {
   "cell_type": "code",
   "execution_count": null,
   "metadata": {},
   "outputs": [
    {
     "ename": "",
     "evalue": "",
     "output_type": "error",
     "traceback": [
      "\u001b[1;31mFailed to start the Kernel. \n",
      "\u001b[1;31mJupyter server crashed. Unable to connect. \n",
      "\u001b[1;31mError code from Jupyter: 1\n",
      "\u001b[1;31mTraceback (most recent call last):\n",
      "\u001b[1;31m  File \"/Users/jemonat/opt/anaconda3/envs/my-rdkit-env/bin/jupyter-notebook\", line 7, in <module>\n",
      "\u001b[1;31m\n",
      "\u001b[1;31m    from notebook.notebookapp import main\n",
      "\u001b[1;31m  File \"/Users/jemonat/opt/anaconda3/envs/my-rdkit-env/lib/python3.10/site-packages/notebook/notebookapp.py\", line 59, in <module>\n",
      "\u001b[1;31m\n",
      "\u001b[1;31m    from tornado import httpserver\n",
      "\u001b[1;31m  File \"/Users/jemonat/opt/anaconda3/envs/my-rdkit-env/lib/python3.10/site-packages/tornado/httpserver.py\", line 29, in <module>\n",
      "\u001b[1;31m\n",
      "\u001b[1;31m    import ssl\n",
      "\u001b[1;31m  File \"/Users/jemonat/opt/anaconda3/envs/my-rdkit-env/lib/python3.10/ssl.py\", line 98, in <module>\n",
      "\u001b[1;31m\n",
      "\u001b[1;31m    import _ssl             # if we can't import it, let the error propagate\n",
      "\u001b[1;31mImportError: dlopen(/Users/jemonat/opt/anaconda3/envs/my-rdkit-env/lib/python3.10/lib-dynload/_ssl.cpython-310-darwin.so, 0x0002): Library not loaded: @rpath/libssl.1.1.dylib\n",
      "\u001b[1;31m  Referenced from: <9EDE67EB-4BB4-3203-9312-EEF3934CF29C> /Users/jemonat/opt/anaconda3/envs/my-rdkit-env/lib/python3.10/lib-dynload/_ssl.cpython-310-darwin.so\n",
      "\u001b[1;31m  Reason: tried: '/Users/jemonat/opt/anaconda3/envs/my-rdkit-env/lib/libssl.1.1.dylib' (mach-o file, but is an incompatible architecture (have 'arm64', need 'x86_64')), '/System/Volumes/Preboot/Cryptexes/OS/Users/jemonat/opt/anaconda3/envs/my-rdkit-env/lib/libssl.1.1.dylib' (no such file), '/Users/jemonat/opt/anaconda3/envs/my-rdkit-env/lib/libssl.1.1.dylib' (mach-o file, but is an incompatible architecture (have 'arm64', need 'x86_64')), '/System/Volumes/Preboot/Cryptexes/OS/Users/jemonat/opt/anaconda3/envs/my-rdkit-env/lib/libssl.1.1.dylib' (no such file), '/Users/jemonat/opt/anaconda3/envs/my-rdkit-env/lib/python3.10/lib-dynload/../../libssl.1.1.dylib' (mach-o file, but is an incompatible architecture (have 'arm64', need 'x86_64')), '/Users/jemonat/opt/anaconda3/envs/my-rdkit-env/lib/libssl.1.1.dylib' (mach-o file, but is an incompatible architecture (have 'arm64', need 'x86_64')), '/System/Volumes/Preboot/Cryptexes/OS/Users/jemonat/opt/anaconda3/envs/my-rdkit-env/lib/libssl.1.1.dylib' (no such file), '/Users/jemonat/opt/anaconda3/envs/my-rdkit-env/lib/libssl.1.1.dylib' (mach-o file, but is an incompatible architecture (have 'arm64', need 'x86_64')), '/System/Volumes/Preboot/Cryptexes/OS/Users/jemonat/opt/anaconda3/envs/my-rdkit-env/lib/libssl.1.1.dylib' (no such file), '/Users/jemonat/opt/anaconda3/envs/my-rdkit-env/lib/python3.10/lib-dynload/../../libssl.1.1.dylib' (mach-o file, but is an incompatible architecture (have 'arm64', need 'x86_64')), '/Users/jemonat/opt/anaconda3/envs/my-rdkit-env/lib/libssl.1.1.dylib' (mach-o file, but is an incompatible architecture (have 'arm64', need 'x86_64')), '/System/Volumes/Preboot/Cryptexes/OS/Users/jemonat/opt/anaconda3/envs/my-rdkit-env/lib/libssl.1.1.dylib' (no such file), '/Users/jemonat/opt/anaconda3/envs/my-rdkit-env/bin/../lib/libssl.1.1.dylib' (mach-o file, but is an incompatible architecture (have 'arm64', need 'x86_64')), '/Users/jemonat/opt/anaconda3/envs/my-rdkit-env/lib/libssl.1.1.dylib' (mach-o file, but is an incompatible architecture (have 'arm64', need 'x86_64')), '/System/Volumes/Preboot/Cryptexes/OS/Users/jemonat/opt/anaconda3/envs/my-rdkit-env/lib/libssl.1.1.dylib' (no such file), '/Users/jemonat/opt/anaconda3/envs/my-rdkit-env/bin/../lib/libssl.1.1.dylib' (mach-o file, but is an incompatible architecture (have 'arm64', need 'x86_64')), '/System/Volumes/Preboot/Cryptexes/OS@rpath/libssl.1.1.dylib' (no such file), '/Users/jemonat/opt/anaconda3/envs/my-rdkit-env/lib/libssl.1.1.dylib' (mach-o file, but is an incompatible architecture (have 'arm64', need 'x86_64')), '/System/Volumes/Preboot/Cryptexes/OS/Users/jemonat/opt/anaconda3/envs/my-rdkit-env/lib/libssl.1.1.dylib' (no such file), '/Users/jemonat/opt/anaconda3/envs/my-rdkit-env/lib/libssl.1.1.dylib' (mach-o file, but is an incompatible architecture (have 'arm64', need 'x86_64')), '/System/Volumes/Preboot/Cryptexes/OS/Users/jemonat/opt/anaconda3/envs/my-rdkit-env/lib/libssl.1.1.dylib' (no such file), '/Users/jemonat/opt/anaconda3/envs/my-rdkit-env/lib/python3.10/lib-dynload/../../libssl.1.1.dylib' (mach-o file, but is an incompatible architecture (have 'arm64', need 'x86_64')), '/Users/jemonat/opt/anaconda3/envs/my-rdkit-env/lib/libssl.1.1.dylib' (mach-o file, but is an incompatible architecture (have 'arm64', need 'x86_64')), '/System/Volumes/Preboot/Cryptexes/OS/Users/jemonat/opt/anaconda3/envs/my-rdkit-env/lib/libssl.1.1.dylib' (no such file), '/Users/jemonat/opt/anaconda3/envs/my-rdkit-env/lib/libssl.1.1.dylib' (mach-o file, but is an incompatible architecture (have 'arm64', need 'x86_64')), '/System/Volumes/Preboot/Cryptexes/OS/Users/jemonat/opt/anaconda3/envs/my-rdkit-env/lib/libssl.1.1.dylib' (no such file), '/Users/jemonat/opt/anaconda3/envs/my-rdkit-env/lib/python3.10/lib-dynload/../../libssl.1.1.dylib' (mach-o file, but is an incompatible architecture (have 'arm64', need 'x86_64')), '/Users/jemonat/opt/anaconda3/envs/my-rdkit-env/lib/libssl.1.1.dylib' (mach-o file, but is an incompatible architecture (have 'arm64', need 'x86_64')), '/System/Volumes/Preboot/Cryptexes/OS/Users/jemonat/opt/anaconda3/envs/my-rdkit-env/lib/libssl.1.1.dylib' (no such file), '/Users/jemonat/opt/anaconda3/envs/my-rdkit-env/bin/../lib/libssl.1.1.dylib' (mach-o file, but is an incompatible architecture (have 'arm64', need 'x86_64')), '/Users/jemonat/opt/anaconda3/envs/my-rdkit-env/lib/libssl.1.1.dylib' (mach-o file, but is an incompatible architecture (have 'arm64', need 'x86_64')), '/System/Volumes/Preboot/Cryptexes/OS/Users/jemonat/opt/anaconda3/envs/my-rdkit-env/lib/libssl.1.1.dylib' (no such file), '/Users/jemonat/opt/anaconda3/envs/my-rdkit-env/bin/../lib/libssl.1.1.dylib' (mach-o file, but is an incompatible architecture (have 'arm64', need 'x86_64')), '/usr/local/lib/libssl.1.1.dylib' (no such file), '/usr/lib/libssl.1.1.dylib' (no such file, not in dyld cache). \n",
      "\u001b[1;31mView Jupyter <a href='command:jupyter.viewOutput'>log</a> for further details."
     ]
    }
   ],
   "source": [
    "from rdkit import Chem\n",
    "from rdkit.Chem.Draw import IPythonConsole"
   ]
  },
  {
   "cell_type": "code",
   "execution_count": null,
   "metadata": {},
   "outputs": [
    {
     "ename": "",
     "evalue": "",
     "output_type": "error",
     "traceback": [
      "\u001b[1;31mFailed to start the Kernel. \n",
      "\u001b[1;31mJupyter server crashed. Unable to connect. \n",
      "\u001b[1;31mError code from Jupyter: 1\n",
      "\u001b[1;31mTraceback (most recent call last):\n",
      "\u001b[1;31m  File \"/Users/jemonat/opt/anaconda3/envs/my-rdkit-env/bin/jupyter-notebook\", line 7, in <module>\n",
      "\u001b[1;31m\n",
      "\u001b[1;31m    from notebook.notebookapp import main\n",
      "\u001b[1;31m  File \"/Users/jemonat/opt/anaconda3/envs/my-rdkit-env/lib/python3.10/site-packages/notebook/notebookapp.py\", line 59, in <module>\n",
      "\u001b[1;31m\n",
      "\u001b[1;31m    from tornado import httpserver\n",
      "\u001b[1;31m  File \"/Users/jemonat/opt/anaconda3/envs/my-rdkit-env/lib/python3.10/site-packages/tornado/httpserver.py\", line 29, in <module>\n",
      "\u001b[1;31m\n",
      "\u001b[1;31m    import ssl\n",
      "\u001b[1;31m  File \"/Users/jemonat/opt/anaconda3/envs/my-rdkit-env/lib/python3.10/ssl.py\", line 98, in <module>\n",
      "\u001b[1;31m\n",
      "\u001b[1;31m    import _ssl             # if we can't import it, let the error propagate\n",
      "\u001b[1;31mImportError: dlopen(/Users/jemonat/opt/anaconda3/envs/my-rdkit-env/lib/python3.10/lib-dynload/_ssl.cpython-310-darwin.so, 0x0002): Library not loaded: @rpath/libssl.1.1.dylib\n",
      "\u001b[1;31m  Referenced from: <9EDE67EB-4BB4-3203-9312-EEF3934CF29C> /Users/jemonat/opt/anaconda3/envs/my-rdkit-env/lib/python3.10/lib-dynload/_ssl.cpython-310-darwin.so\n",
      "\u001b[1;31m  Reason: tried: '/Users/jemonat/opt/anaconda3/envs/my-rdkit-env/lib/libssl.1.1.dylib' (mach-o file, but is an incompatible architecture (have 'arm64', need 'x86_64')), '/System/Volumes/Preboot/Cryptexes/OS/Users/jemonat/opt/anaconda3/envs/my-rdkit-env/lib/libssl.1.1.dylib' (no such file), '/Users/jemonat/opt/anaconda3/envs/my-rdkit-env/lib/libssl.1.1.dylib' (mach-o file, but is an incompatible architecture (have 'arm64', need 'x86_64')), '/System/Volumes/Preboot/Cryptexes/OS/Users/jemonat/opt/anaconda3/envs/my-rdkit-env/lib/libssl.1.1.dylib' (no such file), '/Users/jemonat/opt/anaconda3/envs/my-rdkit-env/lib/python3.10/lib-dynload/../../libssl.1.1.dylib' (mach-o file, but is an incompatible architecture (have 'arm64', need 'x86_64')), '/Users/jemonat/opt/anaconda3/envs/my-rdkit-env/lib/libssl.1.1.dylib' (mach-o file, but is an incompatible architecture (have 'arm64', need 'x86_64')), '/System/Volumes/Preboot/Cryptexes/OS/Users/jemonat/opt/anaconda3/envs/my-rdkit-env/lib/libssl.1.1.dylib' (no such file), '/Users/jemonat/opt/anaconda3/envs/my-rdkit-env/lib/libssl.1.1.dylib' (mach-o file, but is an incompatible architecture (have 'arm64', need 'x86_64')), '/System/Volumes/Preboot/Cryptexes/OS/Users/jemonat/opt/anaconda3/envs/my-rdkit-env/lib/libssl.1.1.dylib' (no such file), '/Users/jemonat/opt/anaconda3/envs/my-rdkit-env/lib/python3.10/lib-dynload/../../libssl.1.1.dylib' (mach-o file, but is an incompatible architecture (have 'arm64', need 'x86_64')), '/Users/jemonat/opt/anaconda3/envs/my-rdkit-env/lib/libssl.1.1.dylib' (mach-o file, but is an incompatible architecture (have 'arm64', need 'x86_64')), '/System/Volumes/Preboot/Cryptexes/OS/Users/jemonat/opt/anaconda3/envs/my-rdkit-env/lib/libssl.1.1.dylib' (no such file), '/Users/jemonat/opt/anaconda3/envs/my-rdkit-env/bin/../lib/libssl.1.1.dylib' (mach-o file, but is an incompatible architecture (have 'arm64', need 'x86_64')), '/Users/jemonat/opt/anaconda3/envs/my-rdkit-env/lib/libssl.1.1.dylib' (mach-o file, but is an incompatible architecture (have 'arm64', need 'x86_64')), '/System/Volumes/Preboot/Cryptexes/OS/Users/jemonat/opt/anaconda3/envs/my-rdkit-env/lib/libssl.1.1.dylib' (no such file), '/Users/jemonat/opt/anaconda3/envs/my-rdkit-env/bin/../lib/libssl.1.1.dylib' (mach-o file, but is an incompatible architecture (have 'arm64', need 'x86_64')), '/System/Volumes/Preboot/Cryptexes/OS@rpath/libssl.1.1.dylib' (no such file), '/Users/jemonat/opt/anaconda3/envs/my-rdkit-env/lib/libssl.1.1.dylib' (mach-o file, but is an incompatible architecture (have 'arm64', need 'x86_64')), '/System/Volumes/Preboot/Cryptexes/OS/Users/jemonat/opt/anaconda3/envs/my-rdkit-env/lib/libssl.1.1.dylib' (no such file), '/Users/jemonat/opt/anaconda3/envs/my-rdkit-env/lib/libssl.1.1.dylib' (mach-o file, but is an incompatible architecture (have 'arm64', need 'x86_64')), '/System/Volumes/Preboot/Cryptexes/OS/Users/jemonat/opt/anaconda3/envs/my-rdkit-env/lib/libssl.1.1.dylib' (no such file), '/Users/jemonat/opt/anaconda3/envs/my-rdkit-env/lib/python3.10/lib-dynload/../../libssl.1.1.dylib' (mach-o file, but is an incompatible architecture (have 'arm64', need 'x86_64')), '/Users/jemonat/opt/anaconda3/envs/my-rdkit-env/lib/libssl.1.1.dylib' (mach-o file, but is an incompatible architecture (have 'arm64', need 'x86_64')), '/System/Volumes/Preboot/Cryptexes/OS/Users/jemonat/opt/anaconda3/envs/my-rdkit-env/lib/libssl.1.1.dylib' (no such file), '/Users/jemonat/opt/anaconda3/envs/my-rdkit-env/lib/libssl.1.1.dylib' (mach-o file, but is an incompatible architecture (have 'arm64', need 'x86_64')), '/System/Volumes/Preboot/Cryptexes/OS/Users/jemonat/opt/anaconda3/envs/my-rdkit-env/lib/libssl.1.1.dylib' (no such file), '/Users/jemonat/opt/anaconda3/envs/my-rdkit-env/lib/python3.10/lib-dynload/../../libssl.1.1.dylib' (mach-o file, but is an incompatible architecture (have 'arm64', need 'x86_64')), '/Users/jemonat/opt/anaconda3/envs/my-rdkit-env/lib/libssl.1.1.dylib' (mach-o file, but is an incompatible architecture (have 'arm64', need 'x86_64')), '/System/Volumes/Preboot/Cryptexes/OS/Users/jemonat/opt/anaconda3/envs/my-rdkit-env/lib/libssl.1.1.dylib' (no such file), '/Users/jemonat/opt/anaconda3/envs/my-rdkit-env/bin/../lib/libssl.1.1.dylib' (mach-o file, but is an incompatible architecture (have 'arm64', need 'x86_64')), '/Users/jemonat/opt/anaconda3/envs/my-rdkit-env/lib/libssl.1.1.dylib' (mach-o file, but is an incompatible architecture (have 'arm64', need 'x86_64')), '/System/Volumes/Preboot/Cryptexes/OS/Users/jemonat/opt/anaconda3/envs/my-rdkit-env/lib/libssl.1.1.dylib' (no such file), '/Users/jemonat/opt/anaconda3/envs/my-rdkit-env/bin/../lib/libssl.1.1.dylib' (mach-o file, but is an incompatible architecture (have 'arm64', need 'x86_64')), '/usr/local/lib/libssl.1.1.dylib' (no such file), '/usr/lib/libssl.1.1.dylib' (no such file, not in dyld cache). \n",
      "\u001b[1;31mView Jupyter <a href='command:jupyter.viewOutput'>log</a> for further details."
     ]
    }
   ],
   "source": [
    "m = Chem.MolFromSmiles('c1cc(C(=O)O)c(OC(=O)C)cc1')\n",
    "substructure = Chem.MolFromSmarts('C(=O)O')\n",
    "print(m.GetSubstructMatches(substructure))"
   ]
  },
  {
   "cell_type": "code",
   "execution_count": null,
   "metadata": {},
   "outputs": [
    {
     "ename": "",
     "evalue": "",
     "output_type": "error",
     "traceback": [
      "\u001b[1;31mFailed to start the Kernel. \n",
      "\u001b[1;31mJupyter server crashed. Unable to connect. \n",
      "\u001b[1;31mError code from Jupyter: 1\n",
      "\u001b[1;31mTraceback (most recent call last):\n",
      "\u001b[1;31m  File \"/Users/jemonat/opt/anaconda3/envs/my-rdkit-env/bin/jupyter-notebook\", line 7, in <module>\n",
      "\u001b[1;31m\n",
      "\u001b[1;31m    from notebook.notebookapp import main\n",
      "\u001b[1;31m  File \"/Users/jemonat/opt/anaconda3/envs/my-rdkit-env/lib/python3.10/site-packages/notebook/notebookapp.py\", line 59, in <module>\n",
      "\u001b[1;31m\n",
      "\u001b[1;31m    from tornado import httpserver\n",
      "\u001b[1;31m  File \"/Users/jemonat/opt/anaconda3/envs/my-rdkit-env/lib/python3.10/site-packages/tornado/httpserver.py\", line 29, in <module>\n",
      "\u001b[1;31m\n",
      "\u001b[1;31m    import ssl\n",
      "\u001b[1;31m  File \"/Users/jemonat/opt/anaconda3/envs/my-rdkit-env/lib/python3.10/ssl.py\", line 98, in <module>\n",
      "\u001b[1;31m\n",
      "\u001b[1;31m    import _ssl             # if we can't import it, let the error propagate\n",
      "\u001b[1;31mImportError: dlopen(/Users/jemonat/opt/anaconda3/envs/my-rdkit-env/lib/python3.10/lib-dynload/_ssl.cpython-310-darwin.so, 0x0002): Library not loaded: @rpath/libssl.1.1.dylib\n",
      "\u001b[1;31m  Referenced from: <9EDE67EB-4BB4-3203-9312-EEF3934CF29C> /Users/jemonat/opt/anaconda3/envs/my-rdkit-env/lib/python3.10/lib-dynload/_ssl.cpython-310-darwin.so\n",
      "\u001b[1;31m  Reason: tried: '/Users/jemonat/opt/anaconda3/envs/my-rdkit-env/lib/libssl.1.1.dylib' (mach-o file, but is an incompatible architecture (have 'arm64', need 'x86_64')), '/System/Volumes/Preboot/Cryptexes/OS/Users/jemonat/opt/anaconda3/envs/my-rdkit-env/lib/libssl.1.1.dylib' (no such file), '/Users/jemonat/opt/anaconda3/envs/my-rdkit-env/lib/libssl.1.1.dylib' (mach-o file, but is an incompatible architecture (have 'arm64', need 'x86_64')), '/System/Volumes/Preboot/Cryptexes/OS/Users/jemonat/opt/anaconda3/envs/my-rdkit-env/lib/libssl.1.1.dylib' (no such file), '/Users/jemonat/opt/anaconda3/envs/my-rdkit-env/lib/python3.10/lib-dynload/../../libssl.1.1.dylib' (mach-o file, but is an incompatible architecture (have 'arm64', need 'x86_64')), '/Users/jemonat/opt/anaconda3/envs/my-rdkit-env/lib/libssl.1.1.dylib' (mach-o file, but is an incompatible architecture (have 'arm64', need 'x86_64')), '/System/Volumes/Preboot/Cryptexes/OS/Users/jemonat/opt/anaconda3/envs/my-rdkit-env/lib/libssl.1.1.dylib' (no such file), '/Users/jemonat/opt/anaconda3/envs/my-rdkit-env/lib/libssl.1.1.dylib' (mach-o file, but is an incompatible architecture (have 'arm64', need 'x86_64')), '/System/Volumes/Preboot/Cryptexes/OS/Users/jemonat/opt/anaconda3/envs/my-rdkit-env/lib/libssl.1.1.dylib' (no such file), '/Users/jemonat/opt/anaconda3/envs/my-rdkit-env/lib/python3.10/lib-dynload/../../libssl.1.1.dylib' (mach-o file, but is an incompatible architecture (have 'arm64', need 'x86_64')), '/Users/jemonat/opt/anaconda3/envs/my-rdkit-env/lib/libssl.1.1.dylib' (mach-o file, but is an incompatible architecture (have 'arm64', need 'x86_64')), '/System/Volumes/Preboot/Cryptexes/OS/Users/jemonat/opt/anaconda3/envs/my-rdkit-env/lib/libssl.1.1.dylib' (no such file), '/Users/jemonat/opt/anaconda3/envs/my-rdkit-env/bin/../lib/libssl.1.1.dylib' (mach-o file, but is an incompatible architecture (have 'arm64', need 'x86_64')), '/Users/jemonat/opt/anaconda3/envs/my-rdkit-env/lib/libssl.1.1.dylib' (mach-o file, but is an incompatible architecture (have 'arm64', need 'x86_64')), '/System/Volumes/Preboot/Cryptexes/OS/Users/jemonat/opt/anaconda3/envs/my-rdkit-env/lib/libssl.1.1.dylib' (no such file), '/Users/jemonat/opt/anaconda3/envs/my-rdkit-env/bin/../lib/libssl.1.1.dylib' (mach-o file, but is an incompatible architecture (have 'arm64', need 'x86_64')), '/System/Volumes/Preboot/Cryptexes/OS@rpath/libssl.1.1.dylib' (no such file), '/Users/jemonat/opt/anaconda3/envs/my-rdkit-env/lib/libssl.1.1.dylib' (mach-o file, but is an incompatible architecture (have 'arm64', need 'x86_64')), '/System/Volumes/Preboot/Cryptexes/OS/Users/jemonat/opt/anaconda3/envs/my-rdkit-env/lib/libssl.1.1.dylib' (no such file), '/Users/jemonat/opt/anaconda3/envs/my-rdkit-env/lib/libssl.1.1.dylib' (mach-o file, but is an incompatible architecture (have 'arm64', need 'x86_64')), '/System/Volumes/Preboot/Cryptexes/OS/Users/jemonat/opt/anaconda3/envs/my-rdkit-env/lib/libssl.1.1.dylib' (no such file), '/Users/jemonat/opt/anaconda3/envs/my-rdkit-env/lib/python3.10/lib-dynload/../../libssl.1.1.dylib' (mach-o file, but is an incompatible architecture (have 'arm64', need 'x86_64')), '/Users/jemonat/opt/anaconda3/envs/my-rdkit-env/lib/libssl.1.1.dylib' (mach-o file, but is an incompatible architecture (have 'arm64', need 'x86_64')), '/System/Volumes/Preboot/Cryptexes/OS/Users/jemonat/opt/anaconda3/envs/my-rdkit-env/lib/libssl.1.1.dylib' (no such file), '/Users/jemonat/opt/anaconda3/envs/my-rdkit-env/lib/libssl.1.1.dylib' (mach-o file, but is an incompatible architecture (have 'arm64', need 'x86_64')), '/System/Volumes/Preboot/Cryptexes/OS/Users/jemonat/opt/anaconda3/envs/my-rdkit-env/lib/libssl.1.1.dylib' (no such file), '/Users/jemonat/opt/anaconda3/envs/my-rdkit-env/lib/python3.10/lib-dynload/../../libssl.1.1.dylib' (mach-o file, but is an incompatible architecture (have 'arm64', need 'x86_64')), '/Users/jemonat/opt/anaconda3/envs/my-rdkit-env/lib/libssl.1.1.dylib' (mach-o file, but is an incompatible architecture (have 'arm64', need 'x86_64')), '/System/Volumes/Preboot/Cryptexes/OS/Users/jemonat/opt/anaconda3/envs/my-rdkit-env/lib/libssl.1.1.dylib' (no such file), '/Users/jemonat/opt/anaconda3/envs/my-rdkit-env/bin/../lib/libssl.1.1.dylib' (mach-o file, but is an incompatible architecture (have 'arm64', need 'x86_64')), '/Users/jemonat/opt/anaconda3/envs/my-rdkit-env/lib/libssl.1.1.dylib' (mach-o file, but is an incompatible architecture (have 'arm64', need 'x86_64')), '/System/Volumes/Preboot/Cryptexes/OS/Users/jemonat/opt/anaconda3/envs/my-rdkit-env/lib/libssl.1.1.dylib' (no such file), '/Users/jemonat/opt/anaconda3/envs/my-rdkit-env/bin/../lib/libssl.1.1.dylib' (mach-o file, but is an incompatible architecture (have 'arm64', need 'x86_64')), '/usr/local/lib/libssl.1.1.dylib' (no such file), '/usr/lib/libssl.1.1.dylib' (no such file, not in dyld cache). \n",
      "\u001b[1;31mView Jupyter <a href='command:jupyter.viewOutput'>log</a> for further details."
     ]
    }
   ],
   "source": [
    "m"
   ]
  },
  {
   "cell_type": "code",
   "execution_count": null,
   "metadata": {},
   "outputs": [
    {
     "ename": "",
     "evalue": "",
     "output_type": "error",
     "traceback": [
      "\u001b[1;31mFailed to start the Kernel. \n",
      "\u001b[1;31mJupyter server crashed. Unable to connect. \n",
      "\u001b[1;31mError code from Jupyter: 1\n",
      "\u001b[1;31mTraceback (most recent call last):\n",
      "\u001b[1;31m  File \"/Users/jemonat/opt/anaconda3/envs/my-rdkit-env/bin/jupyter-notebook\", line 7, in <module>\n",
      "\u001b[1;31m\n",
      "\u001b[1;31m    from notebook.notebookapp import main\n",
      "\u001b[1;31m  File \"/Users/jemonat/opt/anaconda3/envs/my-rdkit-env/lib/python3.10/site-packages/notebook/notebookapp.py\", line 59, in <module>\n",
      "\u001b[1;31m\n",
      "\u001b[1;31m    from tornado import httpserver\n",
      "\u001b[1;31m  File \"/Users/jemonat/opt/anaconda3/envs/my-rdkit-env/lib/python3.10/site-packages/tornado/httpserver.py\", line 29, in <module>\n",
      "\u001b[1;31m\n",
      "\u001b[1;31m    import ssl\n",
      "\u001b[1;31m  File \"/Users/jemonat/opt/anaconda3/envs/my-rdkit-env/lib/python3.10/ssl.py\", line 98, in <module>\n",
      "\u001b[1;31m\n",
      "\u001b[1;31m    import _ssl             # if we can't import it, let the error propagate\n",
      "\u001b[1;31mImportError: dlopen(/Users/jemonat/opt/anaconda3/envs/my-rdkit-env/lib/python3.10/lib-dynload/_ssl.cpython-310-darwin.so, 0x0002): Library not loaded: @rpath/libssl.1.1.dylib\n",
      "\u001b[1;31m  Referenced from: <9EDE67EB-4BB4-3203-9312-EEF3934CF29C> /Users/jemonat/opt/anaconda3/envs/my-rdkit-env/lib/python3.10/lib-dynload/_ssl.cpython-310-darwin.so\n",
      "\u001b[1;31m  Reason: tried: '/Users/jemonat/opt/anaconda3/envs/my-rdkit-env/lib/libssl.1.1.dylib' (mach-o file, but is an incompatible architecture (have 'arm64', need 'x86_64')), '/System/Volumes/Preboot/Cryptexes/OS/Users/jemonat/opt/anaconda3/envs/my-rdkit-env/lib/libssl.1.1.dylib' (no such file), '/Users/jemonat/opt/anaconda3/envs/my-rdkit-env/lib/libssl.1.1.dylib' (mach-o file, but is an incompatible architecture (have 'arm64', need 'x86_64')), '/System/Volumes/Preboot/Cryptexes/OS/Users/jemonat/opt/anaconda3/envs/my-rdkit-env/lib/libssl.1.1.dylib' (no such file), '/Users/jemonat/opt/anaconda3/envs/my-rdkit-env/lib/python3.10/lib-dynload/../../libssl.1.1.dylib' (mach-o file, but is an incompatible architecture (have 'arm64', need 'x86_64')), '/Users/jemonat/opt/anaconda3/envs/my-rdkit-env/lib/libssl.1.1.dylib' (mach-o file, but is an incompatible architecture (have 'arm64', need 'x86_64')), '/System/Volumes/Preboot/Cryptexes/OS/Users/jemonat/opt/anaconda3/envs/my-rdkit-env/lib/libssl.1.1.dylib' (no such file), '/Users/jemonat/opt/anaconda3/envs/my-rdkit-env/lib/libssl.1.1.dylib' (mach-o file, but is an incompatible architecture (have 'arm64', need 'x86_64')), '/System/Volumes/Preboot/Cryptexes/OS/Users/jemonat/opt/anaconda3/envs/my-rdkit-env/lib/libssl.1.1.dylib' (no such file), '/Users/jemonat/opt/anaconda3/envs/my-rdkit-env/lib/python3.10/lib-dynload/../../libssl.1.1.dylib' (mach-o file, but is an incompatible architecture (have 'arm64', need 'x86_64')), '/Users/jemonat/opt/anaconda3/envs/my-rdkit-env/lib/libssl.1.1.dylib' (mach-o file, but is an incompatible architecture (have 'arm64', need 'x86_64')), '/System/Volumes/Preboot/Cryptexes/OS/Users/jemonat/opt/anaconda3/envs/my-rdkit-env/lib/libssl.1.1.dylib' (no such file), '/Users/jemonat/opt/anaconda3/envs/my-rdkit-env/bin/../lib/libssl.1.1.dylib' (mach-o file, but is an incompatible architecture (have 'arm64', need 'x86_64')), '/Users/jemonat/opt/anaconda3/envs/my-rdkit-env/lib/libssl.1.1.dylib' (mach-o file, but is an incompatible architecture (have 'arm64', need 'x86_64')), '/System/Volumes/Preboot/Cryptexes/OS/Users/jemonat/opt/anaconda3/envs/my-rdkit-env/lib/libssl.1.1.dylib' (no such file), '/Users/jemonat/opt/anaconda3/envs/my-rdkit-env/bin/../lib/libssl.1.1.dylib' (mach-o file, but is an incompatible architecture (have 'arm64', need 'x86_64')), '/System/Volumes/Preboot/Cryptexes/OS@rpath/libssl.1.1.dylib' (no such file), '/Users/jemonat/opt/anaconda3/envs/my-rdkit-env/lib/libssl.1.1.dylib' (mach-o file, but is an incompatible architecture (have 'arm64', need 'x86_64')), '/System/Volumes/Preboot/Cryptexes/OS/Users/jemonat/opt/anaconda3/envs/my-rdkit-env/lib/libssl.1.1.dylib' (no such file), '/Users/jemonat/opt/anaconda3/envs/my-rdkit-env/lib/libssl.1.1.dylib' (mach-o file, but is an incompatible architecture (have 'arm64', need 'x86_64')), '/System/Volumes/Preboot/Cryptexes/OS/Users/jemonat/opt/anaconda3/envs/my-rdkit-env/lib/libssl.1.1.dylib' (no such file), '/Users/jemonat/opt/anaconda3/envs/my-rdkit-env/lib/python3.10/lib-dynload/../../libssl.1.1.dylib' (mach-o file, but is an incompatible architecture (have 'arm64', need 'x86_64')), '/Users/jemonat/opt/anaconda3/envs/my-rdkit-env/lib/libssl.1.1.dylib' (mach-o file, but is an incompatible architecture (have 'arm64', need 'x86_64')), '/System/Volumes/Preboot/Cryptexes/OS/Users/jemonat/opt/anaconda3/envs/my-rdkit-env/lib/libssl.1.1.dylib' (no such file), '/Users/jemonat/opt/anaconda3/envs/my-rdkit-env/lib/libssl.1.1.dylib' (mach-o file, but is an incompatible architecture (have 'arm64', need 'x86_64')), '/System/Volumes/Preboot/Cryptexes/OS/Users/jemonat/opt/anaconda3/envs/my-rdkit-env/lib/libssl.1.1.dylib' (no such file), '/Users/jemonat/opt/anaconda3/envs/my-rdkit-env/lib/python3.10/lib-dynload/../../libssl.1.1.dylib' (mach-o file, but is an incompatible architecture (have 'arm64', need 'x86_64')), '/Users/jemonat/opt/anaconda3/envs/my-rdkit-env/lib/libssl.1.1.dylib' (mach-o file, but is an incompatible architecture (have 'arm64', need 'x86_64')), '/System/Volumes/Preboot/Cryptexes/OS/Users/jemonat/opt/anaconda3/envs/my-rdkit-env/lib/libssl.1.1.dylib' (no such file), '/Users/jemonat/opt/anaconda3/envs/my-rdkit-env/bin/../lib/libssl.1.1.dylib' (mach-o file, but is an incompatible architecture (have 'arm64', need 'x86_64')), '/Users/jemonat/opt/anaconda3/envs/my-rdkit-env/lib/libssl.1.1.dylib' (mach-o file, but is an incompatible architecture (have 'arm64', need 'x86_64')), '/System/Volumes/Preboot/Cryptexes/OS/Users/jemonat/opt/anaconda3/envs/my-rdkit-env/lib/libssl.1.1.dylib' (no such file), '/Users/jemonat/opt/anaconda3/envs/my-rdkit-env/bin/../lib/libssl.1.1.dylib' (mach-o file, but is an incompatible architecture (have 'arm64', need 'x86_64')), '/usr/local/lib/libssl.1.1.dylib' (no such file), '/usr/lib/libssl.1.1.dylib' (no such file, not in dyld cache). \n",
      "\u001b[1;31mView Jupyter <a href='command:jupyter.viewOutput'>log</a> for further details."
     ]
    }
   ],
   "source": [
    "substructure2 = Chem.MolFromSmarts('cc')\n",
    "m.GetSubstructMatches(substructure2)\n",
    "m"
   ]
  },
  {
   "cell_type": "markdown",
   "metadata": {},
   "source": [
    "Note that doing another .GetSubstructMatches() on a molecule removes the first one (highlighting matches)"
   ]
  },
  {
   "cell_type": "markdown",
   "metadata": {},
   "source": [
    "### [Highlight Molecule Differences](https://www.rdkit.org/docs/Cookbook.html#highlight-molecule-differences)"
   ]
  },
  {
   "cell_type": "code",
   "execution_count": null,
   "metadata": {},
   "outputs": [
    {
     "ename": "",
     "evalue": "",
     "output_type": "error",
     "traceback": [
      "\u001b[1;31mFailed to start the Kernel. \n",
      "\u001b[1;31mJupyter server crashed. Unable to connect. \n",
      "\u001b[1;31mError code from Jupyter: 1\n",
      "\u001b[1;31mTraceback (most recent call last):\n",
      "\u001b[1;31m  File \"/Users/jemonat/opt/anaconda3/envs/my-rdkit-env/bin/jupyter-notebook\", line 7, in <module>\n",
      "\u001b[1;31m\n",
      "\u001b[1;31m    from notebook.notebookapp import main\n",
      "\u001b[1;31m  File \"/Users/jemonat/opt/anaconda3/envs/my-rdkit-env/lib/python3.10/site-packages/notebook/notebookapp.py\", line 59, in <module>\n",
      "\u001b[1;31m\n",
      "\u001b[1;31m    from tornado import httpserver\n",
      "\u001b[1;31m  File \"/Users/jemonat/opt/anaconda3/envs/my-rdkit-env/lib/python3.10/site-packages/tornado/httpserver.py\", line 29, in <module>\n",
      "\u001b[1;31m\n",
      "\u001b[1;31m    import ssl\n",
      "\u001b[1;31m  File \"/Users/jemonat/opt/anaconda3/envs/my-rdkit-env/lib/python3.10/ssl.py\", line 98, in <module>\n",
      "\u001b[1;31m\n",
      "\u001b[1;31m    import _ssl             # if we can't import it, let the error propagate\n",
      "\u001b[1;31mImportError: dlopen(/Users/jemonat/opt/anaconda3/envs/my-rdkit-env/lib/python3.10/lib-dynload/_ssl.cpython-310-darwin.so, 0x0002): Library not loaded: @rpath/libssl.1.1.dylib\n",
      "\u001b[1;31m  Referenced from: <9EDE67EB-4BB4-3203-9312-EEF3934CF29C> /Users/jemonat/opt/anaconda3/envs/my-rdkit-env/lib/python3.10/lib-dynload/_ssl.cpython-310-darwin.so\n",
      "\u001b[1;31m  Reason: tried: '/Users/jemonat/opt/anaconda3/envs/my-rdkit-env/lib/libssl.1.1.dylib' (mach-o file, but is an incompatible architecture (have 'arm64', need 'x86_64')), '/System/Volumes/Preboot/Cryptexes/OS/Users/jemonat/opt/anaconda3/envs/my-rdkit-env/lib/libssl.1.1.dylib' (no such file), '/Users/jemonat/opt/anaconda3/envs/my-rdkit-env/lib/libssl.1.1.dylib' (mach-o file, but is an incompatible architecture (have 'arm64', need 'x86_64')), '/System/Volumes/Preboot/Cryptexes/OS/Users/jemonat/opt/anaconda3/envs/my-rdkit-env/lib/libssl.1.1.dylib' (no such file), '/Users/jemonat/opt/anaconda3/envs/my-rdkit-env/lib/python3.10/lib-dynload/../../libssl.1.1.dylib' (mach-o file, but is an incompatible architecture (have 'arm64', need 'x86_64')), '/Users/jemonat/opt/anaconda3/envs/my-rdkit-env/lib/libssl.1.1.dylib' (mach-o file, but is an incompatible architecture (have 'arm64', need 'x86_64')), '/System/Volumes/Preboot/Cryptexes/OS/Users/jemonat/opt/anaconda3/envs/my-rdkit-env/lib/libssl.1.1.dylib' (no such file), '/Users/jemonat/opt/anaconda3/envs/my-rdkit-env/lib/libssl.1.1.dylib' (mach-o file, but is an incompatible architecture (have 'arm64', need 'x86_64')), '/System/Volumes/Preboot/Cryptexes/OS/Users/jemonat/opt/anaconda3/envs/my-rdkit-env/lib/libssl.1.1.dylib' (no such file), '/Users/jemonat/opt/anaconda3/envs/my-rdkit-env/lib/python3.10/lib-dynload/../../libssl.1.1.dylib' (mach-o file, but is an incompatible architecture (have 'arm64', need 'x86_64')), '/Users/jemonat/opt/anaconda3/envs/my-rdkit-env/lib/libssl.1.1.dylib' (mach-o file, but is an incompatible architecture (have 'arm64', need 'x86_64')), '/System/Volumes/Preboot/Cryptexes/OS/Users/jemonat/opt/anaconda3/envs/my-rdkit-env/lib/libssl.1.1.dylib' (no such file), '/Users/jemonat/opt/anaconda3/envs/my-rdkit-env/bin/../lib/libssl.1.1.dylib' (mach-o file, but is an incompatible architecture (have 'arm64', need 'x86_64')), '/Users/jemonat/opt/anaconda3/envs/my-rdkit-env/lib/libssl.1.1.dylib' (mach-o file, but is an incompatible architecture (have 'arm64', need 'x86_64')), '/System/Volumes/Preboot/Cryptexes/OS/Users/jemonat/opt/anaconda3/envs/my-rdkit-env/lib/libssl.1.1.dylib' (no such file), '/Users/jemonat/opt/anaconda3/envs/my-rdkit-env/bin/../lib/libssl.1.1.dylib' (mach-o file, but is an incompatible architecture (have 'arm64', need 'x86_64')), '/System/Volumes/Preboot/Cryptexes/OS@rpath/libssl.1.1.dylib' (no such file), '/Users/jemonat/opt/anaconda3/envs/my-rdkit-env/lib/libssl.1.1.dylib' (mach-o file, but is an incompatible architecture (have 'arm64', need 'x86_64')), '/System/Volumes/Preboot/Cryptexes/OS/Users/jemonat/opt/anaconda3/envs/my-rdkit-env/lib/libssl.1.1.dylib' (no such file), '/Users/jemonat/opt/anaconda3/envs/my-rdkit-env/lib/libssl.1.1.dylib' (mach-o file, but is an incompatible architecture (have 'arm64', need 'x86_64')), '/System/Volumes/Preboot/Cryptexes/OS/Users/jemonat/opt/anaconda3/envs/my-rdkit-env/lib/libssl.1.1.dylib' (no such file), '/Users/jemonat/opt/anaconda3/envs/my-rdkit-env/lib/python3.10/lib-dynload/../../libssl.1.1.dylib' (mach-o file, but is an incompatible architecture (have 'arm64', need 'x86_64')), '/Users/jemonat/opt/anaconda3/envs/my-rdkit-env/lib/libssl.1.1.dylib' (mach-o file, but is an incompatible architecture (have 'arm64', need 'x86_64')), '/System/Volumes/Preboot/Cryptexes/OS/Users/jemonat/opt/anaconda3/envs/my-rdkit-env/lib/libssl.1.1.dylib' (no such file), '/Users/jemonat/opt/anaconda3/envs/my-rdkit-env/lib/libssl.1.1.dylib' (mach-o file, but is an incompatible architecture (have 'arm64', need 'x86_64')), '/System/Volumes/Preboot/Cryptexes/OS/Users/jemonat/opt/anaconda3/envs/my-rdkit-env/lib/libssl.1.1.dylib' (no such file), '/Users/jemonat/opt/anaconda3/envs/my-rdkit-env/lib/python3.10/lib-dynload/../../libssl.1.1.dylib' (mach-o file, but is an incompatible architecture (have 'arm64', need 'x86_64')), '/Users/jemonat/opt/anaconda3/envs/my-rdkit-env/lib/libssl.1.1.dylib' (mach-o file, but is an incompatible architecture (have 'arm64', need 'x86_64')), '/System/Volumes/Preboot/Cryptexes/OS/Users/jemonat/opt/anaconda3/envs/my-rdkit-env/lib/libssl.1.1.dylib' (no such file), '/Users/jemonat/opt/anaconda3/envs/my-rdkit-env/bin/../lib/libssl.1.1.dylib' (mach-o file, but is an incompatible architecture (have 'arm64', need 'x86_64')), '/Users/jemonat/opt/anaconda3/envs/my-rdkit-env/lib/libssl.1.1.dylib' (mach-o file, but is an incompatible architecture (have 'arm64', need 'x86_64')), '/System/Volumes/Preboot/Cryptexes/OS/Users/jemonat/opt/anaconda3/envs/my-rdkit-env/lib/libssl.1.1.dylib' (no such file), '/Users/jemonat/opt/anaconda3/envs/my-rdkit-env/bin/../lib/libssl.1.1.dylib' (mach-o file, but is an incompatible architecture (have 'arm64', need 'x86_64')), '/usr/local/lib/libssl.1.1.dylib' (no such file), '/usr/lib/libssl.1.1.dylib' (no such file, not in dyld cache). \n",
      "\u001b[1;31mView Jupyter <a href='command:jupyter.viewOutput'>log</a> for further details."
     ]
    }
   ],
   "source": [
    "from rdkit import Chem\n",
    "from rdkit.Chem import Draw\n",
    "from rdkit.Chem.Draw import IPythonConsole\n",
    "from rdkit.Chem import rdFMCS\n",
    "from rdkit.Chem.Draw import rdDepictor\n",
    "rdDepictor.SetPreferCoordGen(True)\n",
    "IPythonConsole.drawOptions.minFontSize=10"
   ]
  },
  {
   "cell_type": "code",
   "execution_count": null,
   "metadata": {},
   "outputs": [
    {
     "ename": "",
     "evalue": "",
     "output_type": "error",
     "traceback": [
      "\u001b[1;31mFailed to start the Kernel. \n",
      "\u001b[1;31mJupyter server crashed. Unable to connect. \n",
      "\u001b[1;31mError code from Jupyter: 1\n",
      "\u001b[1;31mTraceback (most recent call last):\n",
      "\u001b[1;31m  File \"/Users/jemonat/opt/anaconda3/envs/my-rdkit-env/bin/jupyter-notebook\", line 7, in <module>\n",
      "\u001b[1;31m\n",
      "\u001b[1;31m    from notebook.notebookapp import main\n",
      "\u001b[1;31m  File \"/Users/jemonat/opt/anaconda3/envs/my-rdkit-env/lib/python3.10/site-packages/notebook/notebookapp.py\", line 59, in <module>\n",
      "\u001b[1;31m\n",
      "\u001b[1;31m    from tornado import httpserver\n",
      "\u001b[1;31m  File \"/Users/jemonat/opt/anaconda3/envs/my-rdkit-env/lib/python3.10/site-packages/tornado/httpserver.py\", line 29, in <module>\n",
      "\u001b[1;31m\n",
      "\u001b[1;31m    import ssl\n",
      "\u001b[1;31m  File \"/Users/jemonat/opt/anaconda3/envs/my-rdkit-env/lib/python3.10/ssl.py\", line 98, in <module>\n",
      "\u001b[1;31m\n",
      "\u001b[1;31m    import _ssl             # if we can't import it, let the error propagate\n",
      "\u001b[1;31mImportError: dlopen(/Users/jemonat/opt/anaconda3/envs/my-rdkit-env/lib/python3.10/lib-dynload/_ssl.cpython-310-darwin.so, 0x0002): Library not loaded: @rpath/libssl.1.1.dylib\n",
      "\u001b[1;31m  Referenced from: <9EDE67EB-4BB4-3203-9312-EEF3934CF29C> /Users/jemonat/opt/anaconda3/envs/my-rdkit-env/lib/python3.10/lib-dynload/_ssl.cpython-310-darwin.so\n",
      "\u001b[1;31m  Reason: tried: '/Users/jemonat/opt/anaconda3/envs/my-rdkit-env/lib/libssl.1.1.dylib' (mach-o file, but is an incompatible architecture (have 'arm64', need 'x86_64')), '/System/Volumes/Preboot/Cryptexes/OS/Users/jemonat/opt/anaconda3/envs/my-rdkit-env/lib/libssl.1.1.dylib' (no such file), '/Users/jemonat/opt/anaconda3/envs/my-rdkit-env/lib/libssl.1.1.dylib' (mach-o file, but is an incompatible architecture (have 'arm64', need 'x86_64')), '/System/Volumes/Preboot/Cryptexes/OS/Users/jemonat/opt/anaconda3/envs/my-rdkit-env/lib/libssl.1.1.dylib' (no such file), '/Users/jemonat/opt/anaconda3/envs/my-rdkit-env/lib/python3.10/lib-dynload/../../libssl.1.1.dylib' (mach-o file, but is an incompatible architecture (have 'arm64', need 'x86_64')), '/Users/jemonat/opt/anaconda3/envs/my-rdkit-env/lib/libssl.1.1.dylib' (mach-o file, but is an incompatible architecture (have 'arm64', need 'x86_64')), '/System/Volumes/Preboot/Cryptexes/OS/Users/jemonat/opt/anaconda3/envs/my-rdkit-env/lib/libssl.1.1.dylib' (no such file), '/Users/jemonat/opt/anaconda3/envs/my-rdkit-env/lib/libssl.1.1.dylib' (mach-o file, but is an incompatible architecture (have 'arm64', need 'x86_64')), '/System/Volumes/Preboot/Cryptexes/OS/Users/jemonat/opt/anaconda3/envs/my-rdkit-env/lib/libssl.1.1.dylib' (no such file), '/Users/jemonat/opt/anaconda3/envs/my-rdkit-env/lib/python3.10/lib-dynload/../../libssl.1.1.dylib' (mach-o file, but is an incompatible architecture (have 'arm64', need 'x86_64')), '/Users/jemonat/opt/anaconda3/envs/my-rdkit-env/lib/libssl.1.1.dylib' (mach-o file, but is an incompatible architecture (have 'arm64', need 'x86_64')), '/System/Volumes/Preboot/Cryptexes/OS/Users/jemonat/opt/anaconda3/envs/my-rdkit-env/lib/libssl.1.1.dylib' (no such file), '/Users/jemonat/opt/anaconda3/envs/my-rdkit-env/bin/../lib/libssl.1.1.dylib' (mach-o file, but is an incompatible architecture (have 'arm64', need 'x86_64')), '/Users/jemonat/opt/anaconda3/envs/my-rdkit-env/lib/libssl.1.1.dylib' (mach-o file, but is an incompatible architecture (have 'arm64', need 'x86_64')), '/System/Volumes/Preboot/Cryptexes/OS/Users/jemonat/opt/anaconda3/envs/my-rdkit-env/lib/libssl.1.1.dylib' (no such file), '/Users/jemonat/opt/anaconda3/envs/my-rdkit-env/bin/../lib/libssl.1.1.dylib' (mach-o file, but is an incompatible architecture (have 'arm64', need 'x86_64')), '/System/Volumes/Preboot/Cryptexes/OS@rpath/libssl.1.1.dylib' (no such file), '/Users/jemonat/opt/anaconda3/envs/my-rdkit-env/lib/libssl.1.1.dylib' (mach-o file, but is an incompatible architecture (have 'arm64', need 'x86_64')), '/System/Volumes/Preboot/Cryptexes/OS/Users/jemonat/opt/anaconda3/envs/my-rdkit-env/lib/libssl.1.1.dylib' (no such file), '/Users/jemonat/opt/anaconda3/envs/my-rdkit-env/lib/libssl.1.1.dylib' (mach-o file, but is an incompatible architecture (have 'arm64', need 'x86_64')), '/System/Volumes/Preboot/Cryptexes/OS/Users/jemonat/opt/anaconda3/envs/my-rdkit-env/lib/libssl.1.1.dylib' (no such file), '/Users/jemonat/opt/anaconda3/envs/my-rdkit-env/lib/python3.10/lib-dynload/../../libssl.1.1.dylib' (mach-o file, but is an incompatible architecture (have 'arm64', need 'x86_64')), '/Users/jemonat/opt/anaconda3/envs/my-rdkit-env/lib/libssl.1.1.dylib' (mach-o file, but is an incompatible architecture (have 'arm64', need 'x86_64')), '/System/Volumes/Preboot/Cryptexes/OS/Users/jemonat/opt/anaconda3/envs/my-rdkit-env/lib/libssl.1.1.dylib' (no such file), '/Users/jemonat/opt/anaconda3/envs/my-rdkit-env/lib/libssl.1.1.dylib' (mach-o file, but is an incompatible architecture (have 'arm64', need 'x86_64')), '/System/Volumes/Preboot/Cryptexes/OS/Users/jemonat/opt/anaconda3/envs/my-rdkit-env/lib/libssl.1.1.dylib' (no such file), '/Users/jemonat/opt/anaconda3/envs/my-rdkit-env/lib/python3.10/lib-dynload/../../libssl.1.1.dylib' (mach-o file, but is an incompatible architecture (have 'arm64', need 'x86_64')), '/Users/jemonat/opt/anaconda3/envs/my-rdkit-env/lib/libssl.1.1.dylib' (mach-o file, but is an incompatible architecture (have 'arm64', need 'x86_64')), '/System/Volumes/Preboot/Cryptexes/OS/Users/jemonat/opt/anaconda3/envs/my-rdkit-env/lib/libssl.1.1.dylib' (no such file), '/Users/jemonat/opt/anaconda3/envs/my-rdkit-env/bin/../lib/libssl.1.1.dylib' (mach-o file, but is an incompatible architecture (have 'arm64', need 'x86_64')), '/Users/jemonat/opt/anaconda3/envs/my-rdkit-env/lib/libssl.1.1.dylib' (mach-o file, but is an incompatible architecture (have 'arm64', need 'x86_64')), '/System/Volumes/Preboot/Cryptexes/OS/Users/jemonat/opt/anaconda3/envs/my-rdkit-env/lib/libssl.1.1.dylib' (no such file), '/Users/jemonat/opt/anaconda3/envs/my-rdkit-env/bin/../lib/libssl.1.1.dylib' (mach-o file, but is an incompatible architecture (have 'arm64', need 'x86_64')), '/usr/local/lib/libssl.1.1.dylib' (no such file), '/usr/lib/libssl.1.1.dylib' (no such file, not in dyld cache). \n",
      "\u001b[1;31mView Jupyter <a href='command:jupyter.viewOutput'>log</a> for further details."
     ]
    }
   ],
   "source": [
    "mol1 = Chem.MolFromSmiles('FC1=CC=C2C(=C1)C=NN2')\n",
    "mol2 = Chem.MolFromSmiles('CCC1=C2NN=CC2=CC(Cl)=C1')"
   ]
  },
  {
   "cell_type": "code",
   "execution_count": null,
   "metadata": {},
   "outputs": [
    {
     "ename": "",
     "evalue": "",
     "output_type": "error",
     "traceback": [
      "\u001b[1;31mFailed to start the Kernel. \n",
      "\u001b[1;31mJupyter server crashed. Unable to connect. \n",
      "\u001b[1;31mError code from Jupyter: 1\n",
      "\u001b[1;31mTraceback (most recent call last):\n",
      "\u001b[1;31m  File \"/Users/jemonat/opt/anaconda3/envs/my-rdkit-env/bin/jupyter-notebook\", line 7, in <module>\n",
      "\u001b[1;31m\n",
      "\u001b[1;31m    from notebook.notebookapp import main\n",
      "\u001b[1;31m  File \"/Users/jemonat/opt/anaconda3/envs/my-rdkit-env/lib/python3.10/site-packages/notebook/notebookapp.py\", line 59, in <module>\n",
      "\u001b[1;31m\n",
      "\u001b[1;31m    from tornado import httpserver\n",
      "\u001b[1;31m  File \"/Users/jemonat/opt/anaconda3/envs/my-rdkit-env/lib/python3.10/site-packages/tornado/httpserver.py\", line 29, in <module>\n",
      "\u001b[1;31m\n",
      "\u001b[1;31m    import ssl\n",
      "\u001b[1;31m  File \"/Users/jemonat/opt/anaconda3/envs/my-rdkit-env/lib/python3.10/ssl.py\", line 98, in <module>\n",
      "\u001b[1;31m\n",
      "\u001b[1;31m    import _ssl             # if we can't import it, let the error propagate\n",
      "\u001b[1;31mImportError: dlopen(/Users/jemonat/opt/anaconda3/envs/my-rdkit-env/lib/python3.10/lib-dynload/_ssl.cpython-310-darwin.so, 0x0002): Library not loaded: @rpath/libssl.1.1.dylib\n",
      "\u001b[1;31m  Referenced from: <9EDE67EB-4BB4-3203-9312-EEF3934CF29C> /Users/jemonat/opt/anaconda3/envs/my-rdkit-env/lib/python3.10/lib-dynload/_ssl.cpython-310-darwin.so\n",
      "\u001b[1;31m  Reason: tried: '/Users/jemonat/opt/anaconda3/envs/my-rdkit-env/lib/libssl.1.1.dylib' (mach-o file, but is an incompatible architecture (have 'arm64', need 'x86_64')), '/System/Volumes/Preboot/Cryptexes/OS/Users/jemonat/opt/anaconda3/envs/my-rdkit-env/lib/libssl.1.1.dylib' (no such file), '/Users/jemonat/opt/anaconda3/envs/my-rdkit-env/lib/libssl.1.1.dylib' (mach-o file, but is an incompatible architecture (have 'arm64', need 'x86_64')), '/System/Volumes/Preboot/Cryptexes/OS/Users/jemonat/opt/anaconda3/envs/my-rdkit-env/lib/libssl.1.1.dylib' (no such file), '/Users/jemonat/opt/anaconda3/envs/my-rdkit-env/lib/python3.10/lib-dynload/../../libssl.1.1.dylib' (mach-o file, but is an incompatible architecture (have 'arm64', need 'x86_64')), '/Users/jemonat/opt/anaconda3/envs/my-rdkit-env/lib/libssl.1.1.dylib' (mach-o file, but is an incompatible architecture (have 'arm64', need 'x86_64')), '/System/Volumes/Preboot/Cryptexes/OS/Users/jemonat/opt/anaconda3/envs/my-rdkit-env/lib/libssl.1.1.dylib' (no such file), '/Users/jemonat/opt/anaconda3/envs/my-rdkit-env/lib/libssl.1.1.dylib' (mach-o file, but is an incompatible architecture (have 'arm64', need 'x86_64')), '/System/Volumes/Preboot/Cryptexes/OS/Users/jemonat/opt/anaconda3/envs/my-rdkit-env/lib/libssl.1.1.dylib' (no such file), '/Users/jemonat/opt/anaconda3/envs/my-rdkit-env/lib/python3.10/lib-dynload/../../libssl.1.1.dylib' (mach-o file, but is an incompatible architecture (have 'arm64', need 'x86_64')), '/Users/jemonat/opt/anaconda3/envs/my-rdkit-env/lib/libssl.1.1.dylib' (mach-o file, but is an incompatible architecture (have 'arm64', need 'x86_64')), '/System/Volumes/Preboot/Cryptexes/OS/Users/jemonat/opt/anaconda3/envs/my-rdkit-env/lib/libssl.1.1.dylib' (no such file), '/Users/jemonat/opt/anaconda3/envs/my-rdkit-env/bin/../lib/libssl.1.1.dylib' (mach-o file, but is an incompatible architecture (have 'arm64', need 'x86_64')), '/Users/jemonat/opt/anaconda3/envs/my-rdkit-env/lib/libssl.1.1.dylib' (mach-o file, but is an incompatible architecture (have 'arm64', need 'x86_64')), '/System/Volumes/Preboot/Cryptexes/OS/Users/jemonat/opt/anaconda3/envs/my-rdkit-env/lib/libssl.1.1.dylib' (no such file), '/Users/jemonat/opt/anaconda3/envs/my-rdkit-env/bin/../lib/libssl.1.1.dylib' (mach-o file, but is an incompatible architecture (have 'arm64', need 'x86_64')), '/System/Volumes/Preboot/Cryptexes/OS@rpath/libssl.1.1.dylib' (no such file), '/Users/jemonat/opt/anaconda3/envs/my-rdkit-env/lib/libssl.1.1.dylib' (mach-o file, but is an incompatible architecture (have 'arm64', need 'x86_64')), '/System/Volumes/Preboot/Cryptexes/OS/Users/jemonat/opt/anaconda3/envs/my-rdkit-env/lib/libssl.1.1.dylib' (no such file), '/Users/jemonat/opt/anaconda3/envs/my-rdkit-env/lib/libssl.1.1.dylib' (mach-o file, but is an incompatible architecture (have 'arm64', need 'x86_64')), '/System/Volumes/Preboot/Cryptexes/OS/Users/jemonat/opt/anaconda3/envs/my-rdkit-env/lib/libssl.1.1.dylib' (no such file), '/Users/jemonat/opt/anaconda3/envs/my-rdkit-env/lib/python3.10/lib-dynload/../../libssl.1.1.dylib' (mach-o file, but is an incompatible architecture (have 'arm64', need 'x86_64')), '/Users/jemonat/opt/anaconda3/envs/my-rdkit-env/lib/libssl.1.1.dylib' (mach-o file, but is an incompatible architecture (have 'arm64', need 'x86_64')), '/System/Volumes/Preboot/Cryptexes/OS/Users/jemonat/opt/anaconda3/envs/my-rdkit-env/lib/libssl.1.1.dylib' (no such file), '/Users/jemonat/opt/anaconda3/envs/my-rdkit-env/lib/libssl.1.1.dylib' (mach-o file, but is an incompatible architecture (have 'arm64', need 'x86_64')), '/System/Volumes/Preboot/Cryptexes/OS/Users/jemonat/opt/anaconda3/envs/my-rdkit-env/lib/libssl.1.1.dylib' (no such file), '/Users/jemonat/opt/anaconda3/envs/my-rdkit-env/lib/python3.10/lib-dynload/../../libssl.1.1.dylib' (mach-o file, but is an incompatible architecture (have 'arm64', need 'x86_64')), '/Users/jemonat/opt/anaconda3/envs/my-rdkit-env/lib/libssl.1.1.dylib' (mach-o file, but is an incompatible architecture (have 'arm64', need 'x86_64')), '/System/Volumes/Preboot/Cryptexes/OS/Users/jemonat/opt/anaconda3/envs/my-rdkit-env/lib/libssl.1.1.dylib' (no such file), '/Users/jemonat/opt/anaconda3/envs/my-rdkit-env/bin/../lib/libssl.1.1.dylib' (mach-o file, but is an incompatible architecture (have 'arm64', need 'x86_64')), '/Users/jemonat/opt/anaconda3/envs/my-rdkit-env/lib/libssl.1.1.dylib' (mach-o file, but is an incompatible architecture (have 'arm64', need 'x86_64')), '/System/Volumes/Preboot/Cryptexes/OS/Users/jemonat/opt/anaconda3/envs/my-rdkit-env/lib/libssl.1.1.dylib' (no such file), '/Users/jemonat/opt/anaconda3/envs/my-rdkit-env/bin/../lib/libssl.1.1.dylib' (mach-o file, but is an incompatible architecture (have 'arm64', need 'x86_64')), '/usr/local/lib/libssl.1.1.dylib' (no such file), '/usr/lib/libssl.1.1.dylib' (no such file, not in dyld cache). \n",
      "\u001b[1;31mView Jupyter <a href='command:jupyter.viewOutput'>log</a> for further details."
     ]
    }
   ],
   "source": [
    "Draw.MolsToGridImage([mol1, mol2])"
   ]
  },
  {
   "cell_type": "code",
   "execution_count": null,
   "metadata": {},
   "outputs": [
    {
     "ename": "",
     "evalue": "",
     "output_type": "error",
     "traceback": [
      "\u001b[1;31mFailed to start the Kernel. \n",
      "\u001b[1;31mJupyter server crashed. Unable to connect. \n",
      "\u001b[1;31mError code from Jupyter: 1\n",
      "\u001b[1;31mTraceback (most recent call last):\n",
      "\u001b[1;31m  File \"/Users/jemonat/opt/anaconda3/envs/my-rdkit-env/bin/jupyter-notebook\", line 7, in <module>\n",
      "\u001b[1;31m\n",
      "\u001b[1;31m    from notebook.notebookapp import main\n",
      "\u001b[1;31m  File \"/Users/jemonat/opt/anaconda3/envs/my-rdkit-env/lib/python3.10/site-packages/notebook/notebookapp.py\", line 59, in <module>\n",
      "\u001b[1;31m\n",
      "\u001b[1;31m    from tornado import httpserver\n",
      "\u001b[1;31m  File \"/Users/jemonat/opt/anaconda3/envs/my-rdkit-env/lib/python3.10/site-packages/tornado/httpserver.py\", line 29, in <module>\n",
      "\u001b[1;31m\n",
      "\u001b[1;31m    import ssl\n",
      "\u001b[1;31m  File \"/Users/jemonat/opt/anaconda3/envs/my-rdkit-env/lib/python3.10/ssl.py\", line 98, in <module>\n",
      "\u001b[1;31m\n",
      "\u001b[1;31m    import _ssl             # if we can't import it, let the error propagate\n",
      "\u001b[1;31mImportError: dlopen(/Users/jemonat/opt/anaconda3/envs/my-rdkit-env/lib/python3.10/lib-dynload/_ssl.cpython-310-darwin.so, 0x0002): Library not loaded: @rpath/libssl.1.1.dylib\n",
      "\u001b[1;31m  Referenced from: <9EDE67EB-4BB4-3203-9312-EEF3934CF29C> /Users/jemonat/opt/anaconda3/envs/my-rdkit-env/lib/python3.10/lib-dynload/_ssl.cpython-310-darwin.so\n",
      "\u001b[1;31m  Reason: tried: '/Users/jemonat/opt/anaconda3/envs/my-rdkit-env/lib/libssl.1.1.dylib' (mach-o file, but is an incompatible architecture (have 'arm64', need 'x86_64')), '/System/Volumes/Preboot/Cryptexes/OS/Users/jemonat/opt/anaconda3/envs/my-rdkit-env/lib/libssl.1.1.dylib' (no such file), '/Users/jemonat/opt/anaconda3/envs/my-rdkit-env/lib/libssl.1.1.dylib' (mach-o file, but is an incompatible architecture (have 'arm64', need 'x86_64')), '/System/Volumes/Preboot/Cryptexes/OS/Users/jemonat/opt/anaconda3/envs/my-rdkit-env/lib/libssl.1.1.dylib' (no such file), '/Users/jemonat/opt/anaconda3/envs/my-rdkit-env/lib/python3.10/lib-dynload/../../libssl.1.1.dylib' (mach-o file, but is an incompatible architecture (have 'arm64', need 'x86_64')), '/Users/jemonat/opt/anaconda3/envs/my-rdkit-env/lib/libssl.1.1.dylib' (mach-o file, but is an incompatible architecture (have 'arm64', need 'x86_64')), '/System/Volumes/Preboot/Cryptexes/OS/Users/jemonat/opt/anaconda3/envs/my-rdkit-env/lib/libssl.1.1.dylib' (no such file), '/Users/jemonat/opt/anaconda3/envs/my-rdkit-env/lib/libssl.1.1.dylib' (mach-o file, but is an incompatible architecture (have 'arm64', need 'x86_64')), '/System/Volumes/Preboot/Cryptexes/OS/Users/jemonat/opt/anaconda3/envs/my-rdkit-env/lib/libssl.1.1.dylib' (no such file), '/Users/jemonat/opt/anaconda3/envs/my-rdkit-env/lib/python3.10/lib-dynload/../../libssl.1.1.dylib' (mach-o file, but is an incompatible architecture (have 'arm64', need 'x86_64')), '/Users/jemonat/opt/anaconda3/envs/my-rdkit-env/lib/libssl.1.1.dylib' (mach-o file, but is an incompatible architecture (have 'arm64', need 'x86_64')), '/System/Volumes/Preboot/Cryptexes/OS/Users/jemonat/opt/anaconda3/envs/my-rdkit-env/lib/libssl.1.1.dylib' (no such file), '/Users/jemonat/opt/anaconda3/envs/my-rdkit-env/bin/../lib/libssl.1.1.dylib' (mach-o file, but is an incompatible architecture (have 'arm64', need 'x86_64')), '/Users/jemonat/opt/anaconda3/envs/my-rdkit-env/lib/libssl.1.1.dylib' (mach-o file, but is an incompatible architecture (have 'arm64', need 'x86_64')), '/System/Volumes/Preboot/Cryptexes/OS/Users/jemonat/opt/anaconda3/envs/my-rdkit-env/lib/libssl.1.1.dylib' (no such file), '/Users/jemonat/opt/anaconda3/envs/my-rdkit-env/bin/../lib/libssl.1.1.dylib' (mach-o file, but is an incompatible architecture (have 'arm64', need 'x86_64')), '/System/Volumes/Preboot/Cryptexes/OS@rpath/libssl.1.1.dylib' (no such file), '/Users/jemonat/opt/anaconda3/envs/my-rdkit-env/lib/libssl.1.1.dylib' (mach-o file, but is an incompatible architecture (have 'arm64', need 'x86_64')), '/System/Volumes/Preboot/Cryptexes/OS/Users/jemonat/opt/anaconda3/envs/my-rdkit-env/lib/libssl.1.1.dylib' (no such file), '/Users/jemonat/opt/anaconda3/envs/my-rdkit-env/lib/libssl.1.1.dylib' (mach-o file, but is an incompatible architecture (have 'arm64', need 'x86_64')), '/System/Volumes/Preboot/Cryptexes/OS/Users/jemonat/opt/anaconda3/envs/my-rdkit-env/lib/libssl.1.1.dylib' (no such file), '/Users/jemonat/opt/anaconda3/envs/my-rdkit-env/lib/python3.10/lib-dynload/../../libssl.1.1.dylib' (mach-o file, but is an incompatible architecture (have 'arm64', need 'x86_64')), '/Users/jemonat/opt/anaconda3/envs/my-rdkit-env/lib/libssl.1.1.dylib' (mach-o file, but is an incompatible architecture (have 'arm64', need 'x86_64')), '/System/Volumes/Preboot/Cryptexes/OS/Users/jemonat/opt/anaconda3/envs/my-rdkit-env/lib/libssl.1.1.dylib' (no such file), '/Users/jemonat/opt/anaconda3/envs/my-rdkit-env/lib/libssl.1.1.dylib' (mach-o file, but is an incompatible architecture (have 'arm64', need 'x86_64')), '/System/Volumes/Preboot/Cryptexes/OS/Users/jemonat/opt/anaconda3/envs/my-rdkit-env/lib/libssl.1.1.dylib' (no such file), '/Users/jemonat/opt/anaconda3/envs/my-rdkit-env/lib/python3.10/lib-dynload/../../libssl.1.1.dylib' (mach-o file, but is an incompatible architecture (have 'arm64', need 'x86_64')), '/Users/jemonat/opt/anaconda3/envs/my-rdkit-env/lib/libssl.1.1.dylib' (mach-o file, but is an incompatible architecture (have 'arm64', need 'x86_64')), '/System/Volumes/Preboot/Cryptexes/OS/Users/jemonat/opt/anaconda3/envs/my-rdkit-env/lib/libssl.1.1.dylib' (no such file), '/Users/jemonat/opt/anaconda3/envs/my-rdkit-env/bin/../lib/libssl.1.1.dylib' (mach-o file, but is an incompatible architecture (have 'arm64', need 'x86_64')), '/Users/jemonat/opt/anaconda3/envs/my-rdkit-env/lib/libssl.1.1.dylib' (mach-o file, but is an incompatible architecture (have 'arm64', need 'x86_64')), '/System/Volumes/Preboot/Cryptexes/OS/Users/jemonat/opt/anaconda3/envs/my-rdkit-env/lib/libssl.1.1.dylib' (no such file), '/Users/jemonat/opt/anaconda3/envs/my-rdkit-env/bin/../lib/libssl.1.1.dylib' (mach-o file, but is an incompatible architecture (have 'arm64', need 'x86_64')), '/usr/local/lib/libssl.1.1.dylib' (no such file), '/usr/lib/libssl.1.1.dylib' (no such file, not in dyld cache). \n",
      "\u001b[1;31mView Jupyter <a href='command:jupyter.viewOutput'>log</a> for further details."
     ]
    }
   ],
   "source": [
    "def view_difference(mol1, mol2):\n",
    "    mcs = rdFMCS.FindMCS([mol1, mol2])\n",
    "    mcs_mol = Chem.MolFromSmarts(mcs.smartsString)\n",
    "    match1 = mol1.GetSubstructMatch(mcs_mol)\n",
    "    target_atm1 = []\n",
    "    for atom in mol1.GetAtoms():\n",
    "        if atom.GetIdx() not in match1:\n",
    "            target_atm1.append(atom.GetIdx())\n",
    "    match2 = mol2.GetSubstructMatch(mcs_mol)\n",
    "    target_atm2 = []\n",
    "    for atom in mol2.GetAtoms():\n",
    "        if atom.GetIdx() not in match2:\n",
    "            target_atm2.append(atom.GetIdx())\n",
    "    print(f\"{target_atm2=}\")\n",
    "    return Draw.MolsToGridImage([mol1, mol2], highlightAtomLists=[target_atm1, target_atm2])"
   ]
  },
  {
   "cell_type": "code",
   "execution_count": null,
   "metadata": {},
   "outputs": [
    {
     "ename": "",
     "evalue": "",
     "output_type": "error",
     "traceback": [
      "\u001b[1;31mFailed to start the Kernel. \n",
      "\u001b[1;31mJupyter server crashed. Unable to connect. \n",
      "\u001b[1;31mError code from Jupyter: 1\n",
      "\u001b[1;31mTraceback (most recent call last):\n",
      "\u001b[1;31m  File \"/Users/jemonat/opt/anaconda3/envs/my-rdkit-env/bin/jupyter-notebook\", line 7, in <module>\n",
      "\u001b[1;31m\n",
      "\u001b[1;31m    from notebook.notebookapp import main\n",
      "\u001b[1;31m  File \"/Users/jemonat/opt/anaconda3/envs/my-rdkit-env/lib/python3.10/site-packages/notebook/notebookapp.py\", line 59, in <module>\n",
      "\u001b[1;31m\n",
      "\u001b[1;31m    from tornado import httpserver\n",
      "\u001b[1;31m  File \"/Users/jemonat/opt/anaconda3/envs/my-rdkit-env/lib/python3.10/site-packages/tornado/httpserver.py\", line 29, in <module>\n",
      "\u001b[1;31m\n",
      "\u001b[1;31m    import ssl\n",
      "\u001b[1;31m  File \"/Users/jemonat/opt/anaconda3/envs/my-rdkit-env/lib/python3.10/ssl.py\", line 98, in <module>\n",
      "\u001b[1;31m\n",
      "\u001b[1;31m    import _ssl             # if we can't import it, let the error propagate\n",
      "\u001b[1;31mImportError: dlopen(/Users/jemonat/opt/anaconda3/envs/my-rdkit-env/lib/python3.10/lib-dynload/_ssl.cpython-310-darwin.so, 0x0002): Library not loaded: @rpath/libssl.1.1.dylib\n",
      "\u001b[1;31m  Referenced from: <9EDE67EB-4BB4-3203-9312-EEF3934CF29C> /Users/jemonat/opt/anaconda3/envs/my-rdkit-env/lib/python3.10/lib-dynload/_ssl.cpython-310-darwin.so\n",
      "\u001b[1;31m  Reason: tried: '/Users/jemonat/opt/anaconda3/envs/my-rdkit-env/lib/libssl.1.1.dylib' (mach-o file, but is an incompatible architecture (have 'arm64', need 'x86_64')), '/System/Volumes/Preboot/Cryptexes/OS/Users/jemonat/opt/anaconda3/envs/my-rdkit-env/lib/libssl.1.1.dylib' (no such file), '/Users/jemonat/opt/anaconda3/envs/my-rdkit-env/lib/libssl.1.1.dylib' (mach-o file, but is an incompatible architecture (have 'arm64', need 'x86_64')), '/System/Volumes/Preboot/Cryptexes/OS/Users/jemonat/opt/anaconda3/envs/my-rdkit-env/lib/libssl.1.1.dylib' (no such file), '/Users/jemonat/opt/anaconda3/envs/my-rdkit-env/lib/python3.10/lib-dynload/../../libssl.1.1.dylib' (mach-o file, but is an incompatible architecture (have 'arm64', need 'x86_64')), '/Users/jemonat/opt/anaconda3/envs/my-rdkit-env/lib/libssl.1.1.dylib' (mach-o file, but is an incompatible architecture (have 'arm64', need 'x86_64')), '/System/Volumes/Preboot/Cryptexes/OS/Users/jemonat/opt/anaconda3/envs/my-rdkit-env/lib/libssl.1.1.dylib' (no such file), '/Users/jemonat/opt/anaconda3/envs/my-rdkit-env/lib/libssl.1.1.dylib' (mach-o file, but is an incompatible architecture (have 'arm64', need 'x86_64')), '/System/Volumes/Preboot/Cryptexes/OS/Users/jemonat/opt/anaconda3/envs/my-rdkit-env/lib/libssl.1.1.dylib' (no such file), '/Users/jemonat/opt/anaconda3/envs/my-rdkit-env/lib/python3.10/lib-dynload/../../libssl.1.1.dylib' (mach-o file, but is an incompatible architecture (have 'arm64', need 'x86_64')), '/Users/jemonat/opt/anaconda3/envs/my-rdkit-env/lib/libssl.1.1.dylib' (mach-o file, but is an incompatible architecture (have 'arm64', need 'x86_64')), '/System/Volumes/Preboot/Cryptexes/OS/Users/jemonat/opt/anaconda3/envs/my-rdkit-env/lib/libssl.1.1.dylib' (no such file), '/Users/jemonat/opt/anaconda3/envs/my-rdkit-env/bin/../lib/libssl.1.1.dylib' (mach-o file, but is an incompatible architecture (have 'arm64', need 'x86_64')), '/Users/jemonat/opt/anaconda3/envs/my-rdkit-env/lib/libssl.1.1.dylib' (mach-o file, but is an incompatible architecture (have 'arm64', need 'x86_64')), '/System/Volumes/Preboot/Cryptexes/OS/Users/jemonat/opt/anaconda3/envs/my-rdkit-env/lib/libssl.1.1.dylib' (no such file), '/Users/jemonat/opt/anaconda3/envs/my-rdkit-env/bin/../lib/libssl.1.1.dylib' (mach-o file, but is an incompatible architecture (have 'arm64', need 'x86_64')), '/System/Volumes/Preboot/Cryptexes/OS@rpath/libssl.1.1.dylib' (no such file), '/Users/jemonat/opt/anaconda3/envs/my-rdkit-env/lib/libssl.1.1.dylib' (mach-o file, but is an incompatible architecture (have 'arm64', need 'x86_64')), '/System/Volumes/Preboot/Cryptexes/OS/Users/jemonat/opt/anaconda3/envs/my-rdkit-env/lib/libssl.1.1.dylib' (no such file), '/Users/jemonat/opt/anaconda3/envs/my-rdkit-env/lib/libssl.1.1.dylib' (mach-o file, but is an incompatible architecture (have 'arm64', need 'x86_64')), '/System/Volumes/Preboot/Cryptexes/OS/Users/jemonat/opt/anaconda3/envs/my-rdkit-env/lib/libssl.1.1.dylib' (no such file), '/Users/jemonat/opt/anaconda3/envs/my-rdkit-env/lib/python3.10/lib-dynload/../../libssl.1.1.dylib' (mach-o file, but is an incompatible architecture (have 'arm64', need 'x86_64')), '/Users/jemonat/opt/anaconda3/envs/my-rdkit-env/lib/libssl.1.1.dylib' (mach-o file, but is an incompatible architecture (have 'arm64', need 'x86_64')), '/System/Volumes/Preboot/Cryptexes/OS/Users/jemonat/opt/anaconda3/envs/my-rdkit-env/lib/libssl.1.1.dylib' (no such file), '/Users/jemonat/opt/anaconda3/envs/my-rdkit-env/lib/libssl.1.1.dylib' (mach-o file, but is an incompatible architecture (have 'arm64', need 'x86_64')), '/System/Volumes/Preboot/Cryptexes/OS/Users/jemonat/opt/anaconda3/envs/my-rdkit-env/lib/libssl.1.1.dylib' (no such file), '/Users/jemonat/opt/anaconda3/envs/my-rdkit-env/lib/python3.10/lib-dynload/../../libssl.1.1.dylib' (mach-o file, but is an incompatible architecture (have 'arm64', need 'x86_64')), '/Users/jemonat/opt/anaconda3/envs/my-rdkit-env/lib/libssl.1.1.dylib' (mach-o file, but is an incompatible architecture (have 'arm64', need 'x86_64')), '/System/Volumes/Preboot/Cryptexes/OS/Users/jemonat/opt/anaconda3/envs/my-rdkit-env/lib/libssl.1.1.dylib' (no such file), '/Users/jemonat/opt/anaconda3/envs/my-rdkit-env/bin/../lib/libssl.1.1.dylib' (mach-o file, but is an incompatible architecture (have 'arm64', need 'x86_64')), '/Users/jemonat/opt/anaconda3/envs/my-rdkit-env/lib/libssl.1.1.dylib' (mach-o file, but is an incompatible architecture (have 'arm64', need 'x86_64')), '/System/Volumes/Preboot/Cryptexes/OS/Users/jemonat/opt/anaconda3/envs/my-rdkit-env/lib/libssl.1.1.dylib' (no such file), '/Users/jemonat/opt/anaconda3/envs/my-rdkit-env/bin/../lib/libssl.1.1.dylib' (mach-o file, but is an incompatible architecture (have 'arm64', need 'x86_64')), '/usr/local/lib/libssl.1.1.dylib' (no such file), '/usr/lib/libssl.1.1.dylib' (no such file, not in dyld cache). \n",
      "\u001b[1;31mView Jupyter <a href='command:jupyter.viewOutput'>log</a> for further details."
     ]
    }
   ],
   "source": [
    "view_difference(mol1, mol2)"
   ]
  },
  {
   "attachments": {},
   "cell_type": "markdown",
   "metadata": {},
   "source": [
    "### [Without Implicit Hydrogens](http://rdkit.org/docs/Cookbook.html#without-implicit-hydrogens)"
   ]
  },
  {
   "cell_type": "code",
   "execution_count": null,
   "metadata": {},
   "outputs": [
    {
     "ename": "",
     "evalue": "",
     "output_type": "error",
     "traceback": [
      "\u001b[1;31mFailed to start the Kernel. \n",
      "\u001b[1;31mJupyter server crashed. Unable to connect. \n",
      "\u001b[1;31mError code from Jupyter: 1\n",
      "\u001b[1;31mTraceback (most recent call last):\n",
      "\u001b[1;31m  File \"/Users/jemonat/opt/anaconda3/envs/my-rdkit-env/bin/jupyter-notebook\", line 7, in <module>\n",
      "\u001b[1;31m\n",
      "\u001b[1;31m    from notebook.notebookapp import main\n",
      "\u001b[1;31m  File \"/Users/jemonat/opt/anaconda3/envs/my-rdkit-env/lib/python3.10/site-packages/notebook/notebookapp.py\", line 59, in <module>\n",
      "\u001b[1;31m\n",
      "\u001b[1;31m    from tornado import httpserver\n",
      "\u001b[1;31m  File \"/Users/jemonat/opt/anaconda3/envs/my-rdkit-env/lib/python3.10/site-packages/tornado/httpserver.py\", line 29, in <module>\n",
      "\u001b[1;31m\n",
      "\u001b[1;31m    import ssl\n",
      "\u001b[1;31m  File \"/Users/jemonat/opt/anaconda3/envs/my-rdkit-env/lib/python3.10/ssl.py\", line 98, in <module>\n",
      "\u001b[1;31m\n",
      "\u001b[1;31m    import _ssl             # if we can't import it, let the error propagate\n",
      "\u001b[1;31mImportError: dlopen(/Users/jemonat/opt/anaconda3/envs/my-rdkit-env/lib/python3.10/lib-dynload/_ssl.cpython-310-darwin.so, 0x0002): Library not loaded: @rpath/libssl.1.1.dylib\n",
      "\u001b[1;31m  Referenced from: <9EDE67EB-4BB4-3203-9312-EEF3934CF29C> /Users/jemonat/opt/anaconda3/envs/my-rdkit-env/lib/python3.10/lib-dynload/_ssl.cpython-310-darwin.so\n",
      "\u001b[1;31m  Reason: tried: '/Users/jemonat/opt/anaconda3/envs/my-rdkit-env/lib/libssl.1.1.dylib' (mach-o file, but is an incompatible architecture (have 'arm64', need 'x86_64')), '/System/Volumes/Preboot/Cryptexes/OS/Users/jemonat/opt/anaconda3/envs/my-rdkit-env/lib/libssl.1.1.dylib' (no such file), '/Users/jemonat/opt/anaconda3/envs/my-rdkit-env/lib/libssl.1.1.dylib' (mach-o file, but is an incompatible architecture (have 'arm64', need 'x86_64')), '/System/Volumes/Preboot/Cryptexes/OS/Users/jemonat/opt/anaconda3/envs/my-rdkit-env/lib/libssl.1.1.dylib' (no such file), '/Users/jemonat/opt/anaconda3/envs/my-rdkit-env/lib/python3.10/lib-dynload/../../libssl.1.1.dylib' (mach-o file, but is an incompatible architecture (have 'arm64', need 'x86_64')), '/Users/jemonat/opt/anaconda3/envs/my-rdkit-env/lib/libssl.1.1.dylib' (mach-o file, but is an incompatible architecture (have 'arm64', need 'x86_64')), '/System/Volumes/Preboot/Cryptexes/OS/Users/jemonat/opt/anaconda3/envs/my-rdkit-env/lib/libssl.1.1.dylib' (no such file), '/Users/jemonat/opt/anaconda3/envs/my-rdkit-env/lib/libssl.1.1.dylib' (mach-o file, but is an incompatible architecture (have 'arm64', need 'x86_64')), '/System/Volumes/Preboot/Cryptexes/OS/Users/jemonat/opt/anaconda3/envs/my-rdkit-env/lib/libssl.1.1.dylib' (no such file), '/Users/jemonat/opt/anaconda3/envs/my-rdkit-env/lib/python3.10/lib-dynload/../../libssl.1.1.dylib' (mach-o file, but is an incompatible architecture (have 'arm64', need 'x86_64')), '/Users/jemonat/opt/anaconda3/envs/my-rdkit-env/lib/libssl.1.1.dylib' (mach-o file, but is an incompatible architecture (have 'arm64', need 'x86_64')), '/System/Volumes/Preboot/Cryptexes/OS/Users/jemonat/opt/anaconda3/envs/my-rdkit-env/lib/libssl.1.1.dylib' (no such file), '/Users/jemonat/opt/anaconda3/envs/my-rdkit-env/bin/../lib/libssl.1.1.dylib' (mach-o file, but is an incompatible architecture (have 'arm64', need 'x86_64')), '/Users/jemonat/opt/anaconda3/envs/my-rdkit-env/lib/libssl.1.1.dylib' (mach-o file, but is an incompatible architecture (have 'arm64', need 'x86_64')), '/System/Volumes/Preboot/Cryptexes/OS/Users/jemonat/opt/anaconda3/envs/my-rdkit-env/lib/libssl.1.1.dylib' (no such file), '/Users/jemonat/opt/anaconda3/envs/my-rdkit-env/bin/../lib/libssl.1.1.dylib' (mach-o file, but is an incompatible architecture (have 'arm64', need 'x86_64')), '/System/Volumes/Preboot/Cryptexes/OS@rpath/libssl.1.1.dylib' (no such file), '/Users/jemonat/opt/anaconda3/envs/my-rdkit-env/lib/libssl.1.1.dylib' (mach-o file, but is an incompatible architecture (have 'arm64', need 'x86_64')), '/System/Volumes/Preboot/Cryptexes/OS/Users/jemonat/opt/anaconda3/envs/my-rdkit-env/lib/libssl.1.1.dylib' (no such file), '/Users/jemonat/opt/anaconda3/envs/my-rdkit-env/lib/libssl.1.1.dylib' (mach-o file, but is an incompatible architecture (have 'arm64', need 'x86_64')), '/System/Volumes/Preboot/Cryptexes/OS/Users/jemonat/opt/anaconda3/envs/my-rdkit-env/lib/libssl.1.1.dylib' (no such file), '/Users/jemonat/opt/anaconda3/envs/my-rdkit-env/lib/python3.10/lib-dynload/../../libssl.1.1.dylib' (mach-o file, but is an incompatible architecture (have 'arm64', need 'x86_64')), '/Users/jemonat/opt/anaconda3/envs/my-rdkit-env/lib/libssl.1.1.dylib' (mach-o file, but is an incompatible architecture (have 'arm64', need 'x86_64')), '/System/Volumes/Preboot/Cryptexes/OS/Users/jemonat/opt/anaconda3/envs/my-rdkit-env/lib/libssl.1.1.dylib' (no such file), '/Users/jemonat/opt/anaconda3/envs/my-rdkit-env/lib/libssl.1.1.dylib' (mach-o file, but is an incompatible architecture (have 'arm64', need 'x86_64')), '/System/Volumes/Preboot/Cryptexes/OS/Users/jemonat/opt/anaconda3/envs/my-rdkit-env/lib/libssl.1.1.dylib' (no such file), '/Users/jemonat/opt/anaconda3/envs/my-rdkit-env/lib/python3.10/lib-dynload/../../libssl.1.1.dylib' (mach-o file, but is an incompatible architecture (have 'arm64', need 'x86_64')), '/Users/jemonat/opt/anaconda3/envs/my-rdkit-env/lib/libssl.1.1.dylib' (mach-o file, but is an incompatible architecture (have 'arm64', need 'x86_64')), '/System/Volumes/Preboot/Cryptexes/OS/Users/jemonat/opt/anaconda3/envs/my-rdkit-env/lib/libssl.1.1.dylib' (no such file), '/Users/jemonat/opt/anaconda3/envs/my-rdkit-env/bin/../lib/libssl.1.1.dylib' (mach-o file, but is an incompatible architecture (have 'arm64', need 'x86_64')), '/Users/jemonat/opt/anaconda3/envs/my-rdkit-env/lib/libssl.1.1.dylib' (mach-o file, but is an incompatible architecture (have 'arm64', need 'x86_64')), '/System/Volumes/Preboot/Cryptexes/OS/Users/jemonat/opt/anaconda3/envs/my-rdkit-env/lib/libssl.1.1.dylib' (no such file), '/Users/jemonat/opt/anaconda3/envs/my-rdkit-env/bin/../lib/libssl.1.1.dylib' (mach-o file, but is an incompatible architecture (have 'arm64', need 'x86_64')), '/usr/local/lib/libssl.1.1.dylib' (no such file), '/usr/lib/libssl.1.1.dylib' (no such file, not in dyld cache). \n",
      "\u001b[1;31mView Jupyter <a href='command:jupyter.viewOutput'>log</a> for further details."
     ]
    }
   ],
   "source": [
    "from rdkit import Chem\n",
    "from rdkit.Chem.Draw import IPythonConsole\n",
    "m = Chem.MolFromSmiles('[Pt](Cl)(Cl)(N)N')\n",
    "m"
   ]
  },
  {
   "cell_type": "code",
   "execution_count": null,
   "metadata": {},
   "outputs": [
    {
     "ename": "",
     "evalue": "",
     "output_type": "error",
     "traceback": [
      "\u001b[1;31mFailed to start the Kernel. \n",
      "\u001b[1;31mJupyter server crashed. Unable to connect. \n",
      "\u001b[1;31mError code from Jupyter: 1\n",
      "\u001b[1;31mTraceback (most recent call last):\n",
      "\u001b[1;31m  File \"/Users/jemonat/opt/anaconda3/envs/my-rdkit-env/bin/jupyter-notebook\", line 7, in <module>\n",
      "\u001b[1;31m\n",
      "\u001b[1;31m    from notebook.notebookapp import main\n",
      "\u001b[1;31m  File \"/Users/jemonat/opt/anaconda3/envs/my-rdkit-env/lib/python3.10/site-packages/notebook/notebookapp.py\", line 59, in <module>\n",
      "\u001b[1;31m\n",
      "\u001b[1;31m    from tornado import httpserver\n",
      "\u001b[1;31m  File \"/Users/jemonat/opt/anaconda3/envs/my-rdkit-env/lib/python3.10/site-packages/tornado/httpserver.py\", line 29, in <module>\n",
      "\u001b[1;31m\n",
      "\u001b[1;31m    import ssl\n",
      "\u001b[1;31m  File \"/Users/jemonat/opt/anaconda3/envs/my-rdkit-env/lib/python3.10/ssl.py\", line 98, in <module>\n",
      "\u001b[1;31m\n",
      "\u001b[1;31m    import _ssl             # if we can't import it, let the error propagate\n",
      "\u001b[1;31mImportError: dlopen(/Users/jemonat/opt/anaconda3/envs/my-rdkit-env/lib/python3.10/lib-dynload/_ssl.cpython-310-darwin.so, 0x0002): Library not loaded: @rpath/libssl.1.1.dylib\n",
      "\u001b[1;31m  Referenced from: <9EDE67EB-4BB4-3203-9312-EEF3934CF29C> /Users/jemonat/opt/anaconda3/envs/my-rdkit-env/lib/python3.10/lib-dynload/_ssl.cpython-310-darwin.so\n",
      "\u001b[1;31m  Reason: tried: '/Users/jemonat/opt/anaconda3/envs/my-rdkit-env/lib/libssl.1.1.dylib' (mach-o file, but is an incompatible architecture (have 'arm64', need 'x86_64')), '/System/Volumes/Preboot/Cryptexes/OS/Users/jemonat/opt/anaconda3/envs/my-rdkit-env/lib/libssl.1.1.dylib' (no such file), '/Users/jemonat/opt/anaconda3/envs/my-rdkit-env/lib/libssl.1.1.dylib' (mach-o file, but is an incompatible architecture (have 'arm64', need 'x86_64')), '/System/Volumes/Preboot/Cryptexes/OS/Users/jemonat/opt/anaconda3/envs/my-rdkit-env/lib/libssl.1.1.dylib' (no such file), '/Users/jemonat/opt/anaconda3/envs/my-rdkit-env/lib/python3.10/lib-dynload/../../libssl.1.1.dylib' (mach-o file, but is an incompatible architecture (have 'arm64', need 'x86_64')), '/Users/jemonat/opt/anaconda3/envs/my-rdkit-env/lib/libssl.1.1.dylib' (mach-o file, but is an incompatible architecture (have 'arm64', need 'x86_64')), '/System/Volumes/Preboot/Cryptexes/OS/Users/jemonat/opt/anaconda3/envs/my-rdkit-env/lib/libssl.1.1.dylib' (no such file), '/Users/jemonat/opt/anaconda3/envs/my-rdkit-env/lib/libssl.1.1.dylib' (mach-o file, but is an incompatible architecture (have 'arm64', need 'x86_64')), '/System/Volumes/Preboot/Cryptexes/OS/Users/jemonat/opt/anaconda3/envs/my-rdkit-env/lib/libssl.1.1.dylib' (no such file), '/Users/jemonat/opt/anaconda3/envs/my-rdkit-env/lib/python3.10/lib-dynload/../../libssl.1.1.dylib' (mach-o file, but is an incompatible architecture (have 'arm64', need 'x86_64')), '/Users/jemonat/opt/anaconda3/envs/my-rdkit-env/lib/libssl.1.1.dylib' (mach-o file, but is an incompatible architecture (have 'arm64', need 'x86_64')), '/System/Volumes/Preboot/Cryptexes/OS/Users/jemonat/opt/anaconda3/envs/my-rdkit-env/lib/libssl.1.1.dylib' (no such file), '/Users/jemonat/opt/anaconda3/envs/my-rdkit-env/bin/../lib/libssl.1.1.dylib' (mach-o file, but is an incompatible architecture (have 'arm64', need 'x86_64')), '/Users/jemonat/opt/anaconda3/envs/my-rdkit-env/lib/libssl.1.1.dylib' (mach-o file, but is an incompatible architecture (have 'arm64', need 'x86_64')), '/System/Volumes/Preboot/Cryptexes/OS/Users/jemonat/opt/anaconda3/envs/my-rdkit-env/lib/libssl.1.1.dylib' (no such file), '/Users/jemonat/opt/anaconda3/envs/my-rdkit-env/bin/../lib/libssl.1.1.dylib' (mach-o file, but is an incompatible architecture (have 'arm64', need 'x86_64')), '/System/Volumes/Preboot/Cryptexes/OS@rpath/libssl.1.1.dylib' (no such file), '/Users/jemonat/opt/anaconda3/envs/my-rdkit-env/lib/libssl.1.1.dylib' (mach-o file, but is an incompatible architecture (have 'arm64', need 'x86_64')), '/System/Volumes/Preboot/Cryptexes/OS/Users/jemonat/opt/anaconda3/envs/my-rdkit-env/lib/libssl.1.1.dylib' (no such file), '/Users/jemonat/opt/anaconda3/envs/my-rdkit-env/lib/libssl.1.1.dylib' (mach-o file, but is an incompatible architecture (have 'arm64', need 'x86_64')), '/System/Volumes/Preboot/Cryptexes/OS/Users/jemonat/opt/anaconda3/envs/my-rdkit-env/lib/libssl.1.1.dylib' (no such file), '/Users/jemonat/opt/anaconda3/envs/my-rdkit-env/lib/python3.10/lib-dynload/../../libssl.1.1.dylib' (mach-o file, but is an incompatible architecture (have 'arm64', need 'x86_64')), '/Users/jemonat/opt/anaconda3/envs/my-rdkit-env/lib/libssl.1.1.dylib' (mach-o file, but is an incompatible architecture (have 'arm64', need 'x86_64')), '/System/Volumes/Preboot/Cryptexes/OS/Users/jemonat/opt/anaconda3/envs/my-rdkit-env/lib/libssl.1.1.dylib' (no such file), '/Users/jemonat/opt/anaconda3/envs/my-rdkit-env/lib/libssl.1.1.dylib' (mach-o file, but is an incompatible architecture (have 'arm64', need 'x86_64')), '/System/Volumes/Preboot/Cryptexes/OS/Users/jemonat/opt/anaconda3/envs/my-rdkit-env/lib/libssl.1.1.dylib' (no such file), '/Users/jemonat/opt/anaconda3/envs/my-rdkit-env/lib/python3.10/lib-dynload/../../libssl.1.1.dylib' (mach-o file, but is an incompatible architecture (have 'arm64', need 'x86_64')), '/Users/jemonat/opt/anaconda3/envs/my-rdkit-env/lib/libssl.1.1.dylib' (mach-o file, but is an incompatible architecture (have 'arm64', need 'x86_64')), '/System/Volumes/Preboot/Cryptexes/OS/Users/jemonat/opt/anaconda3/envs/my-rdkit-env/lib/libssl.1.1.dylib' (no such file), '/Users/jemonat/opt/anaconda3/envs/my-rdkit-env/bin/../lib/libssl.1.1.dylib' (mach-o file, but is an incompatible architecture (have 'arm64', need 'x86_64')), '/Users/jemonat/opt/anaconda3/envs/my-rdkit-env/lib/libssl.1.1.dylib' (mach-o file, but is an incompatible architecture (have 'arm64', need 'x86_64')), '/System/Volumes/Preboot/Cryptexes/OS/Users/jemonat/opt/anaconda3/envs/my-rdkit-env/lib/libssl.1.1.dylib' (no such file), '/Users/jemonat/opt/anaconda3/envs/my-rdkit-env/bin/../lib/libssl.1.1.dylib' (mach-o file, but is an incompatible architecture (have 'arm64', need 'x86_64')), '/usr/local/lib/libssl.1.1.dylib' (no such file), '/usr/lib/libssl.1.1.dylib' (no such file, not in dyld cache). \n",
      "\u001b[1;31mView Jupyter <a href='command:jupyter.viewOutput'>log</a> for further details."
     ]
    }
   ],
   "source": [
    "for atom in m.GetAtoms():\n",
    "    atom.SetProp(\"atomLabel\", atom.GetSymbol())\n",
    "m"
   ]
  },
  {
   "attachments": {},
   "cell_type": "markdown",
   "metadata": {},
   "source": [
    "### [With Abbreviations](http://rdkit.org/docs/Cookbook.html#with-abbreviations)"
   ]
  },
  {
   "cell_type": "code",
   "execution_count": null,
   "metadata": {},
   "outputs": [
    {
     "ename": "",
     "evalue": "",
     "output_type": "error",
     "traceback": [
      "\u001b[1;31mFailed to start the Kernel. \n",
      "\u001b[1;31mJupyter server crashed. Unable to connect. \n",
      "\u001b[1;31mError code from Jupyter: 1\n",
      "\u001b[1;31mTraceback (most recent call last):\n",
      "\u001b[1;31m  File \"/Users/jemonat/opt/anaconda3/envs/my-rdkit-env/bin/jupyter-notebook\", line 7, in <module>\n",
      "\u001b[1;31m\n",
      "\u001b[1;31m    from notebook.notebookapp import main\n",
      "\u001b[1;31m  File \"/Users/jemonat/opt/anaconda3/envs/my-rdkit-env/lib/python3.10/site-packages/notebook/notebookapp.py\", line 59, in <module>\n",
      "\u001b[1;31m\n",
      "\u001b[1;31m    from tornado import httpserver\n",
      "\u001b[1;31m  File \"/Users/jemonat/opt/anaconda3/envs/my-rdkit-env/lib/python3.10/site-packages/tornado/httpserver.py\", line 29, in <module>\n",
      "\u001b[1;31m\n",
      "\u001b[1;31m    import ssl\n",
      "\u001b[1;31m  File \"/Users/jemonat/opt/anaconda3/envs/my-rdkit-env/lib/python3.10/ssl.py\", line 98, in <module>\n",
      "\u001b[1;31m\n",
      "\u001b[1;31m    import _ssl             # if we can't import it, let the error propagate\n",
      "\u001b[1;31mImportError: dlopen(/Users/jemonat/opt/anaconda3/envs/my-rdkit-env/lib/python3.10/lib-dynload/_ssl.cpython-310-darwin.so, 0x0002): Library not loaded: @rpath/libssl.1.1.dylib\n",
      "\u001b[1;31m  Referenced from: <9EDE67EB-4BB4-3203-9312-EEF3934CF29C> /Users/jemonat/opt/anaconda3/envs/my-rdkit-env/lib/python3.10/lib-dynload/_ssl.cpython-310-darwin.so\n",
      "\u001b[1;31m  Reason: tried: '/Users/jemonat/opt/anaconda3/envs/my-rdkit-env/lib/libssl.1.1.dylib' (mach-o file, but is an incompatible architecture (have 'arm64', need 'x86_64')), '/System/Volumes/Preboot/Cryptexes/OS/Users/jemonat/opt/anaconda3/envs/my-rdkit-env/lib/libssl.1.1.dylib' (no such file), '/Users/jemonat/opt/anaconda3/envs/my-rdkit-env/lib/libssl.1.1.dylib' (mach-o file, but is an incompatible architecture (have 'arm64', need 'x86_64')), '/System/Volumes/Preboot/Cryptexes/OS/Users/jemonat/opt/anaconda3/envs/my-rdkit-env/lib/libssl.1.1.dylib' (no such file), '/Users/jemonat/opt/anaconda3/envs/my-rdkit-env/lib/python3.10/lib-dynload/../../libssl.1.1.dylib' (mach-o file, but is an incompatible architecture (have 'arm64', need 'x86_64')), '/Users/jemonat/opt/anaconda3/envs/my-rdkit-env/lib/libssl.1.1.dylib' (mach-o file, but is an incompatible architecture (have 'arm64', need 'x86_64')), '/System/Volumes/Preboot/Cryptexes/OS/Users/jemonat/opt/anaconda3/envs/my-rdkit-env/lib/libssl.1.1.dylib' (no such file), '/Users/jemonat/opt/anaconda3/envs/my-rdkit-env/lib/libssl.1.1.dylib' (mach-o file, but is an incompatible architecture (have 'arm64', need 'x86_64')), '/System/Volumes/Preboot/Cryptexes/OS/Users/jemonat/opt/anaconda3/envs/my-rdkit-env/lib/libssl.1.1.dylib' (no such file), '/Users/jemonat/opt/anaconda3/envs/my-rdkit-env/lib/python3.10/lib-dynload/../../libssl.1.1.dylib' (mach-o file, but is an incompatible architecture (have 'arm64', need 'x86_64')), '/Users/jemonat/opt/anaconda3/envs/my-rdkit-env/lib/libssl.1.1.dylib' (mach-o file, but is an incompatible architecture (have 'arm64', need 'x86_64')), '/System/Volumes/Preboot/Cryptexes/OS/Users/jemonat/opt/anaconda3/envs/my-rdkit-env/lib/libssl.1.1.dylib' (no such file), '/Users/jemonat/opt/anaconda3/envs/my-rdkit-env/bin/../lib/libssl.1.1.dylib' (mach-o file, but is an incompatible architecture (have 'arm64', need 'x86_64')), '/Users/jemonat/opt/anaconda3/envs/my-rdkit-env/lib/libssl.1.1.dylib' (mach-o file, but is an incompatible architecture (have 'arm64', need 'x86_64')), '/System/Volumes/Preboot/Cryptexes/OS/Users/jemonat/opt/anaconda3/envs/my-rdkit-env/lib/libssl.1.1.dylib' (no such file), '/Users/jemonat/opt/anaconda3/envs/my-rdkit-env/bin/../lib/libssl.1.1.dylib' (mach-o file, but is an incompatible architecture (have 'arm64', need 'x86_64')), '/System/Volumes/Preboot/Cryptexes/OS@rpath/libssl.1.1.dylib' (no such file), '/Users/jemonat/opt/anaconda3/envs/my-rdkit-env/lib/libssl.1.1.dylib' (mach-o file, but is an incompatible architecture (have 'arm64', need 'x86_64')), '/System/Volumes/Preboot/Cryptexes/OS/Users/jemonat/opt/anaconda3/envs/my-rdkit-env/lib/libssl.1.1.dylib' (no such file), '/Users/jemonat/opt/anaconda3/envs/my-rdkit-env/lib/libssl.1.1.dylib' (mach-o file, but is an incompatible architecture (have 'arm64', need 'x86_64')), '/System/Volumes/Preboot/Cryptexes/OS/Users/jemonat/opt/anaconda3/envs/my-rdkit-env/lib/libssl.1.1.dylib' (no such file), '/Users/jemonat/opt/anaconda3/envs/my-rdkit-env/lib/python3.10/lib-dynload/../../libssl.1.1.dylib' (mach-o file, but is an incompatible architecture (have 'arm64', need 'x86_64')), '/Users/jemonat/opt/anaconda3/envs/my-rdkit-env/lib/libssl.1.1.dylib' (mach-o file, but is an incompatible architecture (have 'arm64', need 'x86_64')), '/System/Volumes/Preboot/Cryptexes/OS/Users/jemonat/opt/anaconda3/envs/my-rdkit-env/lib/libssl.1.1.dylib' (no such file), '/Users/jemonat/opt/anaconda3/envs/my-rdkit-env/lib/libssl.1.1.dylib' (mach-o file, but is an incompatible architecture (have 'arm64', need 'x86_64')), '/System/Volumes/Preboot/Cryptexes/OS/Users/jemonat/opt/anaconda3/envs/my-rdkit-env/lib/libssl.1.1.dylib' (no such file), '/Users/jemonat/opt/anaconda3/envs/my-rdkit-env/lib/python3.10/lib-dynload/../../libssl.1.1.dylib' (mach-o file, but is an incompatible architecture (have 'arm64', need 'x86_64')), '/Users/jemonat/opt/anaconda3/envs/my-rdkit-env/lib/libssl.1.1.dylib' (mach-o file, but is an incompatible architecture (have 'arm64', need 'x86_64')), '/System/Volumes/Preboot/Cryptexes/OS/Users/jemonat/opt/anaconda3/envs/my-rdkit-env/lib/libssl.1.1.dylib' (no such file), '/Users/jemonat/opt/anaconda3/envs/my-rdkit-env/bin/../lib/libssl.1.1.dylib' (mach-o file, but is an incompatible architecture (have 'arm64', need 'x86_64')), '/Users/jemonat/opt/anaconda3/envs/my-rdkit-env/lib/libssl.1.1.dylib' (mach-o file, but is an incompatible architecture (have 'arm64', need 'x86_64')), '/System/Volumes/Preboot/Cryptexes/OS/Users/jemonat/opt/anaconda3/envs/my-rdkit-env/lib/libssl.1.1.dylib' (no such file), '/Users/jemonat/opt/anaconda3/envs/my-rdkit-env/bin/../lib/libssl.1.1.dylib' (mach-o file, but is an incompatible architecture (have 'arm64', need 'x86_64')), '/usr/local/lib/libssl.1.1.dylib' (no such file), '/usr/lib/libssl.1.1.dylib' (no such file, not in dyld cache). \n",
      "\u001b[1;31mView Jupyter <a href='command:jupyter.viewOutput'>log</a> for further details."
     ]
    }
   ],
   "source": [
    "from rdkit import Chem\n",
    "from rdkit.Chem.Draw import IPythonConsole\n",
    "from rdkit.Chem import Draw\n",
    "from rdkit.Chem import rdAbbreviations"
   ]
  },
  {
   "cell_type": "code",
   "execution_count": null,
   "metadata": {},
   "outputs": [
    {
     "ename": "",
     "evalue": "",
     "output_type": "error",
     "traceback": [
      "\u001b[1;31mFailed to start the Kernel. \n",
      "\u001b[1;31mJupyter server crashed. Unable to connect. \n",
      "\u001b[1;31mError code from Jupyter: 1\n",
      "\u001b[1;31mTraceback (most recent call last):\n",
      "\u001b[1;31m  File \"/Users/jemonat/opt/anaconda3/envs/my-rdkit-env/bin/jupyter-notebook\", line 7, in <module>\n",
      "\u001b[1;31m\n",
      "\u001b[1;31m    from notebook.notebookapp import main\n",
      "\u001b[1;31m  File \"/Users/jemonat/opt/anaconda3/envs/my-rdkit-env/lib/python3.10/site-packages/notebook/notebookapp.py\", line 59, in <module>\n",
      "\u001b[1;31m\n",
      "\u001b[1;31m    from tornado import httpserver\n",
      "\u001b[1;31m  File \"/Users/jemonat/opt/anaconda3/envs/my-rdkit-env/lib/python3.10/site-packages/tornado/httpserver.py\", line 29, in <module>\n",
      "\u001b[1;31m\n",
      "\u001b[1;31m    import ssl\n",
      "\u001b[1;31m  File \"/Users/jemonat/opt/anaconda3/envs/my-rdkit-env/lib/python3.10/ssl.py\", line 98, in <module>\n",
      "\u001b[1;31m\n",
      "\u001b[1;31m    import _ssl             # if we can't import it, let the error propagate\n",
      "\u001b[1;31mImportError: dlopen(/Users/jemonat/opt/anaconda3/envs/my-rdkit-env/lib/python3.10/lib-dynload/_ssl.cpython-310-darwin.so, 0x0002): Library not loaded: @rpath/libssl.1.1.dylib\n",
      "\u001b[1;31m  Referenced from: <9EDE67EB-4BB4-3203-9312-EEF3934CF29C> /Users/jemonat/opt/anaconda3/envs/my-rdkit-env/lib/python3.10/lib-dynload/_ssl.cpython-310-darwin.so\n",
      "\u001b[1;31m  Reason: tried: '/Users/jemonat/opt/anaconda3/envs/my-rdkit-env/lib/libssl.1.1.dylib' (mach-o file, but is an incompatible architecture (have 'arm64', need 'x86_64')), '/System/Volumes/Preboot/Cryptexes/OS/Users/jemonat/opt/anaconda3/envs/my-rdkit-env/lib/libssl.1.1.dylib' (no such file), '/Users/jemonat/opt/anaconda3/envs/my-rdkit-env/lib/libssl.1.1.dylib' (mach-o file, but is an incompatible architecture (have 'arm64', need 'x86_64')), '/System/Volumes/Preboot/Cryptexes/OS/Users/jemonat/opt/anaconda3/envs/my-rdkit-env/lib/libssl.1.1.dylib' (no such file), '/Users/jemonat/opt/anaconda3/envs/my-rdkit-env/lib/python3.10/lib-dynload/../../libssl.1.1.dylib' (mach-o file, but is an incompatible architecture (have 'arm64', need 'x86_64')), '/Users/jemonat/opt/anaconda3/envs/my-rdkit-env/lib/libssl.1.1.dylib' (mach-o file, but is an incompatible architecture (have 'arm64', need 'x86_64')), '/System/Volumes/Preboot/Cryptexes/OS/Users/jemonat/opt/anaconda3/envs/my-rdkit-env/lib/libssl.1.1.dylib' (no such file), '/Users/jemonat/opt/anaconda3/envs/my-rdkit-env/lib/libssl.1.1.dylib' (mach-o file, but is an incompatible architecture (have 'arm64', need 'x86_64')), '/System/Volumes/Preboot/Cryptexes/OS/Users/jemonat/opt/anaconda3/envs/my-rdkit-env/lib/libssl.1.1.dylib' (no such file), '/Users/jemonat/opt/anaconda3/envs/my-rdkit-env/lib/python3.10/lib-dynload/../../libssl.1.1.dylib' (mach-o file, but is an incompatible architecture (have 'arm64', need 'x86_64')), '/Users/jemonat/opt/anaconda3/envs/my-rdkit-env/lib/libssl.1.1.dylib' (mach-o file, but is an incompatible architecture (have 'arm64', need 'x86_64')), '/System/Volumes/Preboot/Cryptexes/OS/Users/jemonat/opt/anaconda3/envs/my-rdkit-env/lib/libssl.1.1.dylib' (no such file), '/Users/jemonat/opt/anaconda3/envs/my-rdkit-env/bin/../lib/libssl.1.1.dylib' (mach-o file, but is an incompatible architecture (have 'arm64', need 'x86_64')), '/Users/jemonat/opt/anaconda3/envs/my-rdkit-env/lib/libssl.1.1.dylib' (mach-o file, but is an incompatible architecture (have 'arm64', need 'x86_64')), '/System/Volumes/Preboot/Cryptexes/OS/Users/jemonat/opt/anaconda3/envs/my-rdkit-env/lib/libssl.1.1.dylib' (no such file), '/Users/jemonat/opt/anaconda3/envs/my-rdkit-env/bin/../lib/libssl.1.1.dylib' (mach-o file, but is an incompatible architecture (have 'arm64', need 'x86_64')), '/System/Volumes/Preboot/Cryptexes/OS@rpath/libssl.1.1.dylib' (no such file), '/Users/jemonat/opt/anaconda3/envs/my-rdkit-env/lib/libssl.1.1.dylib' (mach-o file, but is an incompatible architecture (have 'arm64', need 'x86_64')), '/System/Volumes/Preboot/Cryptexes/OS/Users/jemonat/opt/anaconda3/envs/my-rdkit-env/lib/libssl.1.1.dylib' (no such file), '/Users/jemonat/opt/anaconda3/envs/my-rdkit-env/lib/libssl.1.1.dylib' (mach-o file, but is an incompatible architecture (have 'arm64', need 'x86_64')), '/System/Volumes/Preboot/Cryptexes/OS/Users/jemonat/opt/anaconda3/envs/my-rdkit-env/lib/libssl.1.1.dylib' (no such file), '/Users/jemonat/opt/anaconda3/envs/my-rdkit-env/lib/python3.10/lib-dynload/../../libssl.1.1.dylib' (mach-o file, but is an incompatible architecture (have 'arm64', need 'x86_64')), '/Users/jemonat/opt/anaconda3/envs/my-rdkit-env/lib/libssl.1.1.dylib' (mach-o file, but is an incompatible architecture (have 'arm64', need 'x86_64')), '/System/Volumes/Preboot/Cryptexes/OS/Users/jemonat/opt/anaconda3/envs/my-rdkit-env/lib/libssl.1.1.dylib' (no such file), '/Users/jemonat/opt/anaconda3/envs/my-rdkit-env/lib/libssl.1.1.dylib' (mach-o file, but is an incompatible architecture (have 'arm64', need 'x86_64')), '/System/Volumes/Preboot/Cryptexes/OS/Users/jemonat/opt/anaconda3/envs/my-rdkit-env/lib/libssl.1.1.dylib' (no such file), '/Users/jemonat/opt/anaconda3/envs/my-rdkit-env/lib/python3.10/lib-dynload/../../libssl.1.1.dylib' (mach-o file, but is an incompatible architecture (have 'arm64', need 'x86_64')), '/Users/jemonat/opt/anaconda3/envs/my-rdkit-env/lib/libssl.1.1.dylib' (mach-o file, but is an incompatible architecture (have 'arm64', need 'x86_64')), '/System/Volumes/Preboot/Cryptexes/OS/Users/jemonat/opt/anaconda3/envs/my-rdkit-env/lib/libssl.1.1.dylib' (no such file), '/Users/jemonat/opt/anaconda3/envs/my-rdkit-env/bin/../lib/libssl.1.1.dylib' (mach-o file, but is an incompatible architecture (have 'arm64', need 'x86_64')), '/Users/jemonat/opt/anaconda3/envs/my-rdkit-env/lib/libssl.1.1.dylib' (mach-o file, but is an incompatible architecture (have 'arm64', need 'x86_64')), '/System/Volumes/Preboot/Cryptexes/OS/Users/jemonat/opt/anaconda3/envs/my-rdkit-env/lib/libssl.1.1.dylib' (no such file), '/Users/jemonat/opt/anaconda3/envs/my-rdkit-env/bin/../lib/libssl.1.1.dylib' (mach-o file, but is an incompatible architecture (have 'arm64', need 'x86_64')), '/usr/local/lib/libssl.1.1.dylib' (no such file), '/usr/lib/libssl.1.1.dylib' (no such file, not in dyld cache). \n",
      "\u001b[1;31mView Jupyter <a href='command:jupyter.viewOutput'>log</a> for further details."
     ]
    }
   ],
   "source": [
    "m = Chem.MolFromSmiles('COc1ccc(C(=O)[O-])cc1')\n",
    "m"
   ]
  },
  {
   "cell_type": "code",
   "execution_count": null,
   "metadata": {},
   "outputs": [
    {
     "ename": "",
     "evalue": "",
     "output_type": "error",
     "traceback": [
      "\u001b[1;31mFailed to start the Kernel. \n",
      "\u001b[1;31mJupyter server crashed. Unable to connect. \n",
      "\u001b[1;31mError code from Jupyter: 1\n",
      "\u001b[1;31mTraceback (most recent call last):\n",
      "\u001b[1;31m  File \"/Users/jemonat/opt/anaconda3/envs/my-rdkit-env/bin/jupyter-notebook\", line 7, in <module>\n",
      "\u001b[1;31m\n",
      "\u001b[1;31m    from notebook.notebookapp import main\n",
      "\u001b[1;31m  File \"/Users/jemonat/opt/anaconda3/envs/my-rdkit-env/lib/python3.10/site-packages/notebook/notebookapp.py\", line 59, in <module>\n",
      "\u001b[1;31m\n",
      "\u001b[1;31m    from tornado import httpserver\n",
      "\u001b[1;31m  File \"/Users/jemonat/opt/anaconda3/envs/my-rdkit-env/lib/python3.10/site-packages/tornado/httpserver.py\", line 29, in <module>\n",
      "\u001b[1;31m\n",
      "\u001b[1;31m    import ssl\n",
      "\u001b[1;31m  File \"/Users/jemonat/opt/anaconda3/envs/my-rdkit-env/lib/python3.10/ssl.py\", line 98, in <module>\n",
      "\u001b[1;31m\n",
      "\u001b[1;31m    import _ssl             # if we can't import it, let the error propagate\n",
      "\u001b[1;31mImportError: dlopen(/Users/jemonat/opt/anaconda3/envs/my-rdkit-env/lib/python3.10/lib-dynload/_ssl.cpython-310-darwin.so, 0x0002): Library not loaded: @rpath/libssl.1.1.dylib\n",
      "\u001b[1;31m  Referenced from: <9EDE67EB-4BB4-3203-9312-EEF3934CF29C> /Users/jemonat/opt/anaconda3/envs/my-rdkit-env/lib/python3.10/lib-dynload/_ssl.cpython-310-darwin.so\n",
      "\u001b[1;31m  Reason: tried: '/Users/jemonat/opt/anaconda3/envs/my-rdkit-env/lib/libssl.1.1.dylib' (mach-o file, but is an incompatible architecture (have 'arm64', need 'x86_64')), '/System/Volumes/Preboot/Cryptexes/OS/Users/jemonat/opt/anaconda3/envs/my-rdkit-env/lib/libssl.1.1.dylib' (no such file), '/Users/jemonat/opt/anaconda3/envs/my-rdkit-env/lib/libssl.1.1.dylib' (mach-o file, but is an incompatible architecture (have 'arm64', need 'x86_64')), '/System/Volumes/Preboot/Cryptexes/OS/Users/jemonat/opt/anaconda3/envs/my-rdkit-env/lib/libssl.1.1.dylib' (no such file), '/Users/jemonat/opt/anaconda3/envs/my-rdkit-env/lib/python3.10/lib-dynload/../../libssl.1.1.dylib' (mach-o file, but is an incompatible architecture (have 'arm64', need 'x86_64')), '/Users/jemonat/opt/anaconda3/envs/my-rdkit-env/lib/libssl.1.1.dylib' (mach-o file, but is an incompatible architecture (have 'arm64', need 'x86_64')), '/System/Volumes/Preboot/Cryptexes/OS/Users/jemonat/opt/anaconda3/envs/my-rdkit-env/lib/libssl.1.1.dylib' (no such file), '/Users/jemonat/opt/anaconda3/envs/my-rdkit-env/lib/libssl.1.1.dylib' (mach-o file, but is an incompatible architecture (have 'arm64', need 'x86_64')), '/System/Volumes/Preboot/Cryptexes/OS/Users/jemonat/opt/anaconda3/envs/my-rdkit-env/lib/libssl.1.1.dylib' (no such file), '/Users/jemonat/opt/anaconda3/envs/my-rdkit-env/lib/python3.10/lib-dynload/../../libssl.1.1.dylib' (mach-o file, but is an incompatible architecture (have 'arm64', need 'x86_64')), '/Users/jemonat/opt/anaconda3/envs/my-rdkit-env/lib/libssl.1.1.dylib' (mach-o file, but is an incompatible architecture (have 'arm64', need 'x86_64')), '/System/Volumes/Preboot/Cryptexes/OS/Users/jemonat/opt/anaconda3/envs/my-rdkit-env/lib/libssl.1.1.dylib' (no such file), '/Users/jemonat/opt/anaconda3/envs/my-rdkit-env/bin/../lib/libssl.1.1.dylib' (mach-o file, but is an incompatible architecture (have 'arm64', need 'x86_64')), '/Users/jemonat/opt/anaconda3/envs/my-rdkit-env/lib/libssl.1.1.dylib' (mach-o file, but is an incompatible architecture (have 'arm64', need 'x86_64')), '/System/Volumes/Preboot/Cryptexes/OS/Users/jemonat/opt/anaconda3/envs/my-rdkit-env/lib/libssl.1.1.dylib' (no such file), '/Users/jemonat/opt/anaconda3/envs/my-rdkit-env/bin/../lib/libssl.1.1.dylib' (mach-o file, but is an incompatible architecture (have 'arm64', need 'x86_64')), '/System/Volumes/Preboot/Cryptexes/OS@rpath/libssl.1.1.dylib' (no such file), '/Users/jemonat/opt/anaconda3/envs/my-rdkit-env/lib/libssl.1.1.dylib' (mach-o file, but is an incompatible architecture (have 'arm64', need 'x86_64')), '/System/Volumes/Preboot/Cryptexes/OS/Users/jemonat/opt/anaconda3/envs/my-rdkit-env/lib/libssl.1.1.dylib' (no such file), '/Users/jemonat/opt/anaconda3/envs/my-rdkit-env/lib/libssl.1.1.dylib' (mach-o file, but is an incompatible architecture (have 'arm64', need 'x86_64')), '/System/Volumes/Preboot/Cryptexes/OS/Users/jemonat/opt/anaconda3/envs/my-rdkit-env/lib/libssl.1.1.dylib' (no such file), '/Users/jemonat/opt/anaconda3/envs/my-rdkit-env/lib/python3.10/lib-dynload/../../libssl.1.1.dylib' (mach-o file, but is an incompatible architecture (have 'arm64', need 'x86_64')), '/Users/jemonat/opt/anaconda3/envs/my-rdkit-env/lib/libssl.1.1.dylib' (mach-o file, but is an incompatible architecture (have 'arm64', need 'x86_64')), '/System/Volumes/Preboot/Cryptexes/OS/Users/jemonat/opt/anaconda3/envs/my-rdkit-env/lib/libssl.1.1.dylib' (no such file), '/Users/jemonat/opt/anaconda3/envs/my-rdkit-env/lib/libssl.1.1.dylib' (mach-o file, but is an incompatible architecture (have 'arm64', need 'x86_64')), '/System/Volumes/Preboot/Cryptexes/OS/Users/jemonat/opt/anaconda3/envs/my-rdkit-env/lib/libssl.1.1.dylib' (no such file), '/Users/jemonat/opt/anaconda3/envs/my-rdkit-env/lib/python3.10/lib-dynload/../../libssl.1.1.dylib' (mach-o file, but is an incompatible architecture (have 'arm64', need 'x86_64')), '/Users/jemonat/opt/anaconda3/envs/my-rdkit-env/lib/libssl.1.1.dylib' (mach-o file, but is an incompatible architecture (have 'arm64', need 'x86_64')), '/System/Volumes/Preboot/Cryptexes/OS/Users/jemonat/opt/anaconda3/envs/my-rdkit-env/lib/libssl.1.1.dylib' (no such file), '/Users/jemonat/opt/anaconda3/envs/my-rdkit-env/bin/../lib/libssl.1.1.dylib' (mach-o file, but is an incompatible architecture (have 'arm64', need 'x86_64')), '/Users/jemonat/opt/anaconda3/envs/my-rdkit-env/lib/libssl.1.1.dylib' (mach-o file, but is an incompatible architecture (have 'arm64', need 'x86_64')), '/System/Volumes/Preboot/Cryptexes/OS/Users/jemonat/opt/anaconda3/envs/my-rdkit-env/lib/libssl.1.1.dylib' (no such file), '/Users/jemonat/opt/anaconda3/envs/my-rdkit-env/bin/../lib/libssl.1.1.dylib' (mach-o file, but is an incompatible architecture (have 'arm64', need 'x86_64')), '/usr/local/lib/libssl.1.1.dylib' (no such file), '/usr/lib/libssl.1.1.dylib' (no such file, not in dyld cache). \n",
      "\u001b[1;31mView Jupyter <a href='command:jupyter.viewOutput'>log</a> for further details."
     ]
    }
   ],
   "source": [
    "abbrevs = rdAbbreviations.GetDefaultAbbreviations()\n",
    "nm = rdAbbreviations.CondenseMolAbbreviations(m, abbrevs)\n",
    "nm"
   ]
  },
  {
   "cell_type": "code",
   "execution_count": null,
   "metadata": {},
   "outputs": [
    {
     "ename": "",
     "evalue": "",
     "output_type": "error",
     "traceback": [
      "\u001b[1;31mFailed to start the Kernel. \n",
      "\u001b[1;31mJupyter server crashed. Unable to connect. \n",
      "\u001b[1;31mError code from Jupyter: 1\n",
      "\u001b[1;31mTraceback (most recent call last):\n",
      "\u001b[1;31m  File \"/Users/jemonat/opt/anaconda3/envs/my-rdkit-env/bin/jupyter-notebook\", line 7, in <module>\n",
      "\u001b[1;31m\n",
      "\u001b[1;31m    from notebook.notebookapp import main\n",
      "\u001b[1;31m  File \"/Users/jemonat/opt/anaconda3/envs/my-rdkit-env/lib/python3.10/site-packages/notebook/notebookapp.py\", line 59, in <module>\n",
      "\u001b[1;31m\n",
      "\u001b[1;31m    from tornado import httpserver\n",
      "\u001b[1;31m  File \"/Users/jemonat/opt/anaconda3/envs/my-rdkit-env/lib/python3.10/site-packages/tornado/httpserver.py\", line 29, in <module>\n",
      "\u001b[1;31m\n",
      "\u001b[1;31m    import ssl\n",
      "\u001b[1;31m  File \"/Users/jemonat/opt/anaconda3/envs/my-rdkit-env/lib/python3.10/ssl.py\", line 98, in <module>\n",
      "\u001b[1;31m\n",
      "\u001b[1;31m    import _ssl             # if we can't import it, let the error propagate\n",
      "\u001b[1;31mImportError: dlopen(/Users/jemonat/opt/anaconda3/envs/my-rdkit-env/lib/python3.10/lib-dynload/_ssl.cpython-310-darwin.so, 0x0002): Library not loaded: @rpath/libssl.1.1.dylib\n",
      "\u001b[1;31m  Referenced from: <9EDE67EB-4BB4-3203-9312-EEF3934CF29C> /Users/jemonat/opt/anaconda3/envs/my-rdkit-env/lib/python3.10/lib-dynload/_ssl.cpython-310-darwin.so\n",
      "\u001b[1;31m  Reason: tried: '/Users/jemonat/opt/anaconda3/envs/my-rdkit-env/lib/libssl.1.1.dylib' (mach-o file, but is an incompatible architecture (have 'arm64', need 'x86_64')), '/System/Volumes/Preboot/Cryptexes/OS/Users/jemonat/opt/anaconda3/envs/my-rdkit-env/lib/libssl.1.1.dylib' (no such file), '/Users/jemonat/opt/anaconda3/envs/my-rdkit-env/lib/libssl.1.1.dylib' (mach-o file, but is an incompatible architecture (have 'arm64', need 'x86_64')), '/System/Volumes/Preboot/Cryptexes/OS/Users/jemonat/opt/anaconda3/envs/my-rdkit-env/lib/libssl.1.1.dylib' (no such file), '/Users/jemonat/opt/anaconda3/envs/my-rdkit-env/lib/python3.10/lib-dynload/../../libssl.1.1.dylib' (mach-o file, but is an incompatible architecture (have 'arm64', need 'x86_64')), '/Users/jemonat/opt/anaconda3/envs/my-rdkit-env/lib/libssl.1.1.dylib' (mach-o file, but is an incompatible architecture (have 'arm64', need 'x86_64')), '/System/Volumes/Preboot/Cryptexes/OS/Users/jemonat/opt/anaconda3/envs/my-rdkit-env/lib/libssl.1.1.dylib' (no such file), '/Users/jemonat/opt/anaconda3/envs/my-rdkit-env/lib/libssl.1.1.dylib' (mach-o file, but is an incompatible architecture (have 'arm64', need 'x86_64')), '/System/Volumes/Preboot/Cryptexes/OS/Users/jemonat/opt/anaconda3/envs/my-rdkit-env/lib/libssl.1.1.dylib' (no such file), '/Users/jemonat/opt/anaconda3/envs/my-rdkit-env/lib/python3.10/lib-dynload/../../libssl.1.1.dylib' (mach-o file, but is an incompatible architecture (have 'arm64', need 'x86_64')), '/Users/jemonat/opt/anaconda3/envs/my-rdkit-env/lib/libssl.1.1.dylib' (mach-o file, but is an incompatible architecture (have 'arm64', need 'x86_64')), '/System/Volumes/Preboot/Cryptexes/OS/Users/jemonat/opt/anaconda3/envs/my-rdkit-env/lib/libssl.1.1.dylib' (no such file), '/Users/jemonat/opt/anaconda3/envs/my-rdkit-env/bin/../lib/libssl.1.1.dylib' (mach-o file, but is an incompatible architecture (have 'arm64', need 'x86_64')), '/Users/jemonat/opt/anaconda3/envs/my-rdkit-env/lib/libssl.1.1.dylib' (mach-o file, but is an incompatible architecture (have 'arm64', need 'x86_64')), '/System/Volumes/Preboot/Cryptexes/OS/Users/jemonat/opt/anaconda3/envs/my-rdkit-env/lib/libssl.1.1.dylib' (no such file), '/Users/jemonat/opt/anaconda3/envs/my-rdkit-env/bin/../lib/libssl.1.1.dylib' (mach-o file, but is an incompatible architecture (have 'arm64', need 'x86_64')), '/System/Volumes/Preboot/Cryptexes/OS@rpath/libssl.1.1.dylib' (no such file), '/Users/jemonat/opt/anaconda3/envs/my-rdkit-env/lib/libssl.1.1.dylib' (mach-o file, but is an incompatible architecture (have 'arm64', need 'x86_64')), '/System/Volumes/Preboot/Cryptexes/OS/Users/jemonat/opt/anaconda3/envs/my-rdkit-env/lib/libssl.1.1.dylib' (no such file), '/Users/jemonat/opt/anaconda3/envs/my-rdkit-env/lib/libssl.1.1.dylib' (mach-o file, but is an incompatible architecture (have 'arm64', need 'x86_64')), '/System/Volumes/Preboot/Cryptexes/OS/Users/jemonat/opt/anaconda3/envs/my-rdkit-env/lib/libssl.1.1.dylib' (no such file), '/Users/jemonat/opt/anaconda3/envs/my-rdkit-env/lib/python3.10/lib-dynload/../../libssl.1.1.dylib' (mach-o file, but is an incompatible architecture (have 'arm64', need 'x86_64')), '/Users/jemonat/opt/anaconda3/envs/my-rdkit-env/lib/libssl.1.1.dylib' (mach-o file, but is an incompatible architecture (have 'arm64', need 'x86_64')), '/System/Volumes/Preboot/Cryptexes/OS/Users/jemonat/opt/anaconda3/envs/my-rdkit-env/lib/libssl.1.1.dylib' (no such file), '/Users/jemonat/opt/anaconda3/envs/my-rdkit-env/lib/libssl.1.1.dylib' (mach-o file, but is an incompatible architecture (have 'arm64', need 'x86_64')), '/System/Volumes/Preboot/Cryptexes/OS/Users/jemonat/opt/anaconda3/envs/my-rdkit-env/lib/libssl.1.1.dylib' (no such file), '/Users/jemonat/opt/anaconda3/envs/my-rdkit-env/lib/python3.10/lib-dynload/../../libssl.1.1.dylib' (mach-o file, but is an incompatible architecture (have 'arm64', need 'x86_64')), '/Users/jemonat/opt/anaconda3/envs/my-rdkit-env/lib/libssl.1.1.dylib' (mach-o file, but is an incompatible architecture (have 'arm64', need 'x86_64')), '/System/Volumes/Preboot/Cryptexes/OS/Users/jemonat/opt/anaconda3/envs/my-rdkit-env/lib/libssl.1.1.dylib' (no such file), '/Users/jemonat/opt/anaconda3/envs/my-rdkit-env/bin/../lib/libssl.1.1.dylib' (mach-o file, but is an incompatible architecture (have 'arm64', need 'x86_64')), '/Users/jemonat/opt/anaconda3/envs/my-rdkit-env/lib/libssl.1.1.dylib' (mach-o file, but is an incompatible architecture (have 'arm64', need 'x86_64')), '/System/Volumes/Preboot/Cryptexes/OS/Users/jemonat/opt/anaconda3/envs/my-rdkit-env/lib/libssl.1.1.dylib' (no such file), '/Users/jemonat/opt/anaconda3/envs/my-rdkit-env/bin/../lib/libssl.1.1.dylib' (mach-o file, but is an incompatible architecture (have 'arm64', need 'x86_64')), '/usr/local/lib/libssl.1.1.dylib' (no such file), '/usr/lib/libssl.1.1.dylib' (no such file, not in dyld cache). \n",
      "\u001b[1;31mView Jupyter <a href='command:jupyter.viewOutput'>log</a> for further details."
     ]
    }
   ],
   "source": [
    "# Abbreviations that cover more than 40% of the molecule won't be applied by default\n",
    "m = Chem.MolFromSmiles('c1c[nH]cc1C(F)(F)(F)')\n",
    "nm1 = rdAbbreviations.CondenseMolAbbreviations(m, abbrevs)\n",
    "nm2 = rdAbbreviations.CondenseMolAbbreviations(m, abbrevs, maxCoverage=0.8)\n",
    "Draw.MolsToGridImage((m, nm1, nm2), legends=('no abbrevs', 'default abbrevs', 'maxCoverage=0.8'))"
   ]
  },
  {
   "attachments": {},
   "cell_type": "markdown",
   "metadata": {},
   "source": [
    "List of built-in abbreviations:"
   ]
  },
  {
   "cell_type": "code",
   "execution_count": null,
   "metadata": {},
   "outputs": [
    {
     "ename": "",
     "evalue": "",
     "output_type": "error",
     "traceback": [
      "\u001b[1;31mFailed to start the Kernel. \n",
      "\u001b[1;31mJupyter server crashed. Unable to connect. \n",
      "\u001b[1;31mError code from Jupyter: 1\n",
      "\u001b[1;31mTraceback (most recent call last):\n",
      "\u001b[1;31m  File \"/Users/jemonat/opt/anaconda3/envs/my-rdkit-env/bin/jupyter-notebook\", line 7, in <module>\n",
      "\u001b[1;31m\n",
      "\u001b[1;31m    from notebook.notebookapp import main\n",
      "\u001b[1;31m  File \"/Users/jemonat/opt/anaconda3/envs/my-rdkit-env/lib/python3.10/site-packages/notebook/notebookapp.py\", line 59, in <module>\n",
      "\u001b[1;31m\n",
      "\u001b[1;31m    from tornado import httpserver\n",
      "\u001b[1;31m  File \"/Users/jemonat/opt/anaconda3/envs/my-rdkit-env/lib/python3.10/site-packages/tornado/httpserver.py\", line 29, in <module>\n",
      "\u001b[1;31m\n",
      "\u001b[1;31m    import ssl\n",
      "\u001b[1;31m  File \"/Users/jemonat/opt/anaconda3/envs/my-rdkit-env/lib/python3.10/ssl.py\", line 98, in <module>\n",
      "\u001b[1;31m\n",
      "\u001b[1;31m    import _ssl             # if we can't import it, let the error propagate\n",
      "\u001b[1;31mImportError: dlopen(/Users/jemonat/opt/anaconda3/envs/my-rdkit-env/lib/python3.10/lib-dynload/_ssl.cpython-310-darwin.so, 0x0002): Library not loaded: @rpath/libssl.1.1.dylib\n",
      "\u001b[1;31m  Referenced from: <9EDE67EB-4BB4-3203-9312-EEF3934CF29C> /Users/jemonat/opt/anaconda3/envs/my-rdkit-env/lib/python3.10/lib-dynload/_ssl.cpython-310-darwin.so\n",
      "\u001b[1;31m  Reason: tried: '/Users/jemonat/opt/anaconda3/envs/my-rdkit-env/lib/libssl.1.1.dylib' (mach-o file, but is an incompatible architecture (have 'arm64', need 'x86_64')), '/System/Volumes/Preboot/Cryptexes/OS/Users/jemonat/opt/anaconda3/envs/my-rdkit-env/lib/libssl.1.1.dylib' (no such file), '/Users/jemonat/opt/anaconda3/envs/my-rdkit-env/lib/libssl.1.1.dylib' (mach-o file, but is an incompatible architecture (have 'arm64', need 'x86_64')), '/System/Volumes/Preboot/Cryptexes/OS/Users/jemonat/opt/anaconda3/envs/my-rdkit-env/lib/libssl.1.1.dylib' (no such file), '/Users/jemonat/opt/anaconda3/envs/my-rdkit-env/lib/python3.10/lib-dynload/../../libssl.1.1.dylib' (mach-o file, but is an incompatible architecture (have 'arm64', need 'x86_64')), '/Users/jemonat/opt/anaconda3/envs/my-rdkit-env/lib/libssl.1.1.dylib' (mach-o file, but is an incompatible architecture (have 'arm64', need 'x86_64')), '/System/Volumes/Preboot/Cryptexes/OS/Users/jemonat/opt/anaconda3/envs/my-rdkit-env/lib/libssl.1.1.dylib' (no such file), '/Users/jemonat/opt/anaconda3/envs/my-rdkit-env/lib/libssl.1.1.dylib' (mach-o file, but is an incompatible architecture (have 'arm64', need 'x86_64')), '/System/Volumes/Preboot/Cryptexes/OS/Users/jemonat/opt/anaconda3/envs/my-rdkit-env/lib/libssl.1.1.dylib' (no such file), '/Users/jemonat/opt/anaconda3/envs/my-rdkit-env/lib/python3.10/lib-dynload/../../libssl.1.1.dylib' (mach-o file, but is an incompatible architecture (have 'arm64', need 'x86_64')), '/Users/jemonat/opt/anaconda3/envs/my-rdkit-env/lib/libssl.1.1.dylib' (mach-o file, but is an incompatible architecture (have 'arm64', need 'x86_64')), '/System/Volumes/Preboot/Cryptexes/OS/Users/jemonat/opt/anaconda3/envs/my-rdkit-env/lib/libssl.1.1.dylib' (no such file), '/Users/jemonat/opt/anaconda3/envs/my-rdkit-env/bin/../lib/libssl.1.1.dylib' (mach-o file, but is an incompatible architecture (have 'arm64', need 'x86_64')), '/Users/jemonat/opt/anaconda3/envs/my-rdkit-env/lib/libssl.1.1.dylib' (mach-o file, but is an incompatible architecture (have 'arm64', need 'x86_64')), '/System/Volumes/Preboot/Cryptexes/OS/Users/jemonat/opt/anaconda3/envs/my-rdkit-env/lib/libssl.1.1.dylib' (no such file), '/Users/jemonat/opt/anaconda3/envs/my-rdkit-env/bin/../lib/libssl.1.1.dylib' (mach-o file, but is an incompatible architecture (have 'arm64', need 'x86_64')), '/System/Volumes/Preboot/Cryptexes/OS@rpath/libssl.1.1.dylib' (no such file), '/Users/jemonat/opt/anaconda3/envs/my-rdkit-env/lib/libssl.1.1.dylib' (mach-o file, but is an incompatible architecture (have 'arm64', need 'x86_64')), '/System/Volumes/Preboot/Cryptexes/OS/Users/jemonat/opt/anaconda3/envs/my-rdkit-env/lib/libssl.1.1.dylib' (no such file), '/Users/jemonat/opt/anaconda3/envs/my-rdkit-env/lib/libssl.1.1.dylib' (mach-o file, but is an incompatible architecture (have 'arm64', need 'x86_64')), '/System/Volumes/Preboot/Cryptexes/OS/Users/jemonat/opt/anaconda3/envs/my-rdkit-env/lib/libssl.1.1.dylib' (no such file), '/Users/jemonat/opt/anaconda3/envs/my-rdkit-env/lib/python3.10/lib-dynload/../../libssl.1.1.dylib' (mach-o file, but is an incompatible architecture (have 'arm64', need 'x86_64')), '/Users/jemonat/opt/anaconda3/envs/my-rdkit-env/lib/libssl.1.1.dylib' (mach-o file, but is an incompatible architecture (have 'arm64', need 'x86_64')), '/System/Volumes/Preboot/Cryptexes/OS/Users/jemonat/opt/anaconda3/envs/my-rdkit-env/lib/libssl.1.1.dylib' (no such file), '/Users/jemonat/opt/anaconda3/envs/my-rdkit-env/lib/libssl.1.1.dylib' (mach-o file, but is an incompatible architecture (have 'arm64', need 'x86_64')), '/System/Volumes/Preboot/Cryptexes/OS/Users/jemonat/opt/anaconda3/envs/my-rdkit-env/lib/libssl.1.1.dylib' (no such file), '/Users/jemonat/opt/anaconda3/envs/my-rdkit-env/lib/python3.10/lib-dynload/../../libssl.1.1.dylib' (mach-o file, but is an incompatible architecture (have 'arm64', need 'x86_64')), '/Users/jemonat/opt/anaconda3/envs/my-rdkit-env/lib/libssl.1.1.dylib' (mach-o file, but is an incompatible architecture (have 'arm64', need 'x86_64')), '/System/Volumes/Preboot/Cryptexes/OS/Users/jemonat/opt/anaconda3/envs/my-rdkit-env/lib/libssl.1.1.dylib' (no such file), '/Users/jemonat/opt/anaconda3/envs/my-rdkit-env/bin/../lib/libssl.1.1.dylib' (mach-o file, but is an incompatible architecture (have 'arm64', need 'x86_64')), '/Users/jemonat/opt/anaconda3/envs/my-rdkit-env/lib/libssl.1.1.dylib' (mach-o file, but is an incompatible architecture (have 'arm64', need 'x86_64')), '/System/Volumes/Preboot/Cryptexes/OS/Users/jemonat/opt/anaconda3/envs/my-rdkit-env/lib/libssl.1.1.dylib' (no such file), '/Users/jemonat/opt/anaconda3/envs/my-rdkit-env/bin/../lib/libssl.1.1.dylib' (mach-o file, but is an incompatible architecture (have 'arm64', need 'x86_64')), '/usr/local/lib/libssl.1.1.dylib' (no such file), '/usr/lib/libssl.1.1.dylib' (no such file, not in dyld cache). \n",
      "\u001b[1;31mView Jupyter <a href='command:jupyter.viewOutput'>log</a> for further details."
     ]
    }
   ],
   "source": [
    "abbrevs = rdAbbreviations.GetDefaultAbbreviations()\n",
    "labels = [\"Abbrev\", \"SMILES\"]\n",
    "line = '--------'\n",
    "\n",
    "print(f\"{labels[0]:<10} {labels[1]}\")\n",
    "print(f\"{line:<10} {line}\")\n",
    "for a in abbrevs:\n",
    "    print(f\"{a.label:<10} {Chem.MolToSmiles(a.mol)}\")"
   ]
  },
  {
   "cell_type": "code",
   "execution_count": null,
   "metadata": {},
   "outputs": [
    {
     "ename": "",
     "evalue": "",
     "output_type": "error",
     "traceback": [
      "\u001b[1;31mFailed to start the Kernel. \n",
      "\u001b[1;31mJupyter server crashed. Unable to connect. \n",
      "\u001b[1;31mError code from Jupyter: 1\n",
      "\u001b[1;31mTraceback (most recent call last):\n",
      "\u001b[1;31m  File \"/Users/jemonat/opt/anaconda3/envs/my-rdkit-env/bin/jupyter-notebook\", line 7, in <module>\n",
      "\u001b[1;31m\n",
      "\u001b[1;31m    from notebook.notebookapp import main\n",
      "\u001b[1;31m  File \"/Users/jemonat/opt/anaconda3/envs/my-rdkit-env/lib/python3.10/site-packages/notebook/notebookapp.py\", line 59, in <module>\n",
      "\u001b[1;31m\n",
      "\u001b[1;31m    from tornado import httpserver\n",
      "\u001b[1;31m  File \"/Users/jemonat/opt/anaconda3/envs/my-rdkit-env/lib/python3.10/site-packages/tornado/httpserver.py\", line 29, in <module>\n",
      "\u001b[1;31m\n",
      "\u001b[1;31m    import ssl\n",
      "\u001b[1;31m  File \"/Users/jemonat/opt/anaconda3/envs/my-rdkit-env/lib/python3.10/ssl.py\", line 98, in <module>\n",
      "\u001b[1;31m\n",
      "\u001b[1;31m    import _ssl             # if we can't import it, let the error propagate\n",
      "\u001b[1;31mImportError: dlopen(/Users/jemonat/opt/anaconda3/envs/my-rdkit-env/lib/python3.10/lib-dynload/_ssl.cpython-310-darwin.so, 0x0002): Library not loaded: @rpath/libssl.1.1.dylib\n",
      "\u001b[1;31m  Referenced from: <9EDE67EB-4BB4-3203-9312-EEF3934CF29C> /Users/jemonat/opt/anaconda3/envs/my-rdkit-env/lib/python3.10/lib-dynload/_ssl.cpython-310-darwin.so\n",
      "\u001b[1;31m  Reason: tried: '/Users/jemonat/opt/anaconda3/envs/my-rdkit-env/lib/libssl.1.1.dylib' (mach-o file, but is an incompatible architecture (have 'arm64', need 'x86_64')), '/System/Volumes/Preboot/Cryptexes/OS/Users/jemonat/opt/anaconda3/envs/my-rdkit-env/lib/libssl.1.1.dylib' (no such file), '/Users/jemonat/opt/anaconda3/envs/my-rdkit-env/lib/libssl.1.1.dylib' (mach-o file, but is an incompatible architecture (have 'arm64', need 'x86_64')), '/System/Volumes/Preboot/Cryptexes/OS/Users/jemonat/opt/anaconda3/envs/my-rdkit-env/lib/libssl.1.1.dylib' (no such file), '/Users/jemonat/opt/anaconda3/envs/my-rdkit-env/lib/python3.10/lib-dynload/../../libssl.1.1.dylib' (mach-o file, but is an incompatible architecture (have 'arm64', need 'x86_64')), '/Users/jemonat/opt/anaconda3/envs/my-rdkit-env/lib/libssl.1.1.dylib' (mach-o file, but is an incompatible architecture (have 'arm64', need 'x86_64')), '/System/Volumes/Preboot/Cryptexes/OS/Users/jemonat/opt/anaconda3/envs/my-rdkit-env/lib/libssl.1.1.dylib' (no such file), '/Users/jemonat/opt/anaconda3/envs/my-rdkit-env/lib/libssl.1.1.dylib' (mach-o file, but is an incompatible architecture (have 'arm64', need 'x86_64')), '/System/Volumes/Preboot/Cryptexes/OS/Users/jemonat/opt/anaconda3/envs/my-rdkit-env/lib/libssl.1.1.dylib' (no such file), '/Users/jemonat/opt/anaconda3/envs/my-rdkit-env/lib/python3.10/lib-dynload/../../libssl.1.1.dylib' (mach-o file, but is an incompatible architecture (have 'arm64', need 'x86_64')), '/Users/jemonat/opt/anaconda3/envs/my-rdkit-env/lib/libssl.1.1.dylib' (mach-o file, but is an incompatible architecture (have 'arm64', need 'x86_64')), '/System/Volumes/Preboot/Cryptexes/OS/Users/jemonat/opt/anaconda3/envs/my-rdkit-env/lib/libssl.1.1.dylib' (no such file), '/Users/jemonat/opt/anaconda3/envs/my-rdkit-env/bin/../lib/libssl.1.1.dylib' (mach-o file, but is an incompatible architecture (have 'arm64', need 'x86_64')), '/Users/jemonat/opt/anaconda3/envs/my-rdkit-env/lib/libssl.1.1.dylib' (mach-o file, but is an incompatible architecture (have 'arm64', need 'x86_64')), '/System/Volumes/Preboot/Cryptexes/OS/Users/jemonat/opt/anaconda3/envs/my-rdkit-env/lib/libssl.1.1.dylib' (no such file), '/Users/jemonat/opt/anaconda3/envs/my-rdkit-env/bin/../lib/libssl.1.1.dylib' (mach-o file, but is an incompatible architecture (have 'arm64', need 'x86_64')), '/System/Volumes/Preboot/Cryptexes/OS@rpath/libssl.1.1.dylib' (no such file), '/Users/jemonat/opt/anaconda3/envs/my-rdkit-env/lib/libssl.1.1.dylib' (mach-o file, but is an incompatible architecture (have 'arm64', need 'x86_64')), '/System/Volumes/Preboot/Cryptexes/OS/Users/jemonat/opt/anaconda3/envs/my-rdkit-env/lib/libssl.1.1.dylib' (no such file), '/Users/jemonat/opt/anaconda3/envs/my-rdkit-env/lib/libssl.1.1.dylib' (mach-o file, but is an incompatible architecture (have 'arm64', need 'x86_64')), '/System/Volumes/Preboot/Cryptexes/OS/Users/jemonat/opt/anaconda3/envs/my-rdkit-env/lib/libssl.1.1.dylib' (no such file), '/Users/jemonat/opt/anaconda3/envs/my-rdkit-env/lib/python3.10/lib-dynload/../../libssl.1.1.dylib' (mach-o file, but is an incompatible architecture (have 'arm64', need 'x86_64')), '/Users/jemonat/opt/anaconda3/envs/my-rdkit-env/lib/libssl.1.1.dylib' (mach-o file, but is an incompatible architecture (have 'arm64', need 'x86_64')), '/System/Volumes/Preboot/Cryptexes/OS/Users/jemonat/opt/anaconda3/envs/my-rdkit-env/lib/libssl.1.1.dylib' (no such file), '/Users/jemonat/opt/anaconda3/envs/my-rdkit-env/lib/libssl.1.1.dylib' (mach-o file, but is an incompatible architecture (have 'arm64', need 'x86_64')), '/System/Volumes/Preboot/Cryptexes/OS/Users/jemonat/opt/anaconda3/envs/my-rdkit-env/lib/libssl.1.1.dylib' (no such file), '/Users/jemonat/opt/anaconda3/envs/my-rdkit-env/lib/python3.10/lib-dynload/../../libssl.1.1.dylib' (mach-o file, but is an incompatible architecture (have 'arm64', need 'x86_64')), '/Users/jemonat/opt/anaconda3/envs/my-rdkit-env/lib/libssl.1.1.dylib' (mach-o file, but is an incompatible architecture (have 'arm64', need 'x86_64')), '/System/Volumes/Preboot/Cryptexes/OS/Users/jemonat/opt/anaconda3/envs/my-rdkit-env/lib/libssl.1.1.dylib' (no such file), '/Users/jemonat/opt/anaconda3/envs/my-rdkit-env/bin/../lib/libssl.1.1.dylib' (mach-o file, but is an incompatible architecture (have 'arm64', need 'x86_64')), '/Users/jemonat/opt/anaconda3/envs/my-rdkit-env/lib/libssl.1.1.dylib' (mach-o file, but is an incompatible architecture (have 'arm64', need 'x86_64')), '/System/Volumes/Preboot/Cryptexes/OS/Users/jemonat/opt/anaconda3/envs/my-rdkit-env/lib/libssl.1.1.dylib' (no such file), '/Users/jemonat/opt/anaconda3/envs/my-rdkit-env/bin/../lib/libssl.1.1.dylib' (mach-o file, but is an incompatible architecture (have 'arm64', need 'x86_64')), '/usr/local/lib/libssl.1.1.dylib' (no such file), '/usr/lib/libssl.1.1.dylib' (no such file, not in dyld cache). \n",
      "\u001b[1;31mView Jupyter <a href='command:jupyter.viewOutput'>log</a> for further details."
     ]
    }
   ],
   "source": [
    "abbrevs_mols = [a.mol for a in abbrevs]\n",
    "abbrevs_labels = [a.label for a in abbrevs]\n",
    "abbrevs_smiles = [Chem.MolToSmiles(mol) for mol in abbrevs_mols]\n",
    "legends = [label + \": \" + smile for label, smile in zip(abbrevs_labels, abbrevs_smiles)]\n",
    "Draw.MolsToGridImage(abbrevs_mols, legends=legends)"
   ]
  },
  {
   "attachments": {},
   "cell_type": "markdown",
   "metadata": {},
   "source": [
    "### [Using CoordGen Library](https://www.rdkit.org/docs/Cookbook.html#using-coordgen-library) to draw macrocycles well"
   ]
  },
  {
   "cell_type": "code",
   "execution_count": null,
   "metadata": {},
   "outputs": [
    {
     "ename": "",
     "evalue": "",
     "output_type": "error",
     "traceback": [
      "\u001b[1;31mFailed to start the Kernel. \n",
      "\u001b[1;31mJupyter server crashed. Unable to connect. \n",
      "\u001b[1;31mError code from Jupyter: 1\n",
      "\u001b[1;31mTraceback (most recent call last):\n",
      "\u001b[1;31m  File \"/Users/jemonat/opt/anaconda3/envs/my-rdkit-env/bin/jupyter-notebook\", line 7, in <module>\n",
      "\u001b[1;31m\n",
      "\u001b[1;31m    from notebook.notebookapp import main\n",
      "\u001b[1;31m  File \"/Users/jemonat/opt/anaconda3/envs/my-rdkit-env/lib/python3.10/site-packages/notebook/notebookapp.py\", line 59, in <module>\n",
      "\u001b[1;31m\n",
      "\u001b[1;31m    from tornado import httpserver\n",
      "\u001b[1;31m  File \"/Users/jemonat/opt/anaconda3/envs/my-rdkit-env/lib/python3.10/site-packages/tornado/httpserver.py\", line 29, in <module>\n",
      "\u001b[1;31m\n",
      "\u001b[1;31m    import ssl\n",
      "\u001b[1;31m  File \"/Users/jemonat/opt/anaconda3/envs/my-rdkit-env/lib/python3.10/ssl.py\", line 98, in <module>\n",
      "\u001b[1;31m\n",
      "\u001b[1;31m    import _ssl             # if we can't import it, let the error propagate\n",
      "\u001b[1;31mImportError: dlopen(/Users/jemonat/opt/anaconda3/envs/my-rdkit-env/lib/python3.10/lib-dynload/_ssl.cpython-310-darwin.so, 0x0002): Library not loaded: @rpath/libssl.1.1.dylib\n",
      "\u001b[1;31m  Referenced from: <9EDE67EB-4BB4-3203-9312-EEF3934CF29C> /Users/jemonat/opt/anaconda3/envs/my-rdkit-env/lib/python3.10/lib-dynload/_ssl.cpython-310-darwin.so\n",
      "\u001b[1;31m  Reason: tried: '/Users/jemonat/opt/anaconda3/envs/my-rdkit-env/lib/libssl.1.1.dylib' (mach-o file, but is an incompatible architecture (have 'arm64', need 'x86_64')), '/System/Volumes/Preboot/Cryptexes/OS/Users/jemonat/opt/anaconda3/envs/my-rdkit-env/lib/libssl.1.1.dylib' (no such file), '/Users/jemonat/opt/anaconda3/envs/my-rdkit-env/lib/libssl.1.1.dylib' (mach-o file, but is an incompatible architecture (have 'arm64', need 'x86_64')), '/System/Volumes/Preboot/Cryptexes/OS/Users/jemonat/opt/anaconda3/envs/my-rdkit-env/lib/libssl.1.1.dylib' (no such file), '/Users/jemonat/opt/anaconda3/envs/my-rdkit-env/lib/python3.10/lib-dynload/../../libssl.1.1.dylib' (mach-o file, but is an incompatible architecture (have 'arm64', need 'x86_64')), '/Users/jemonat/opt/anaconda3/envs/my-rdkit-env/lib/libssl.1.1.dylib' (mach-o file, but is an incompatible architecture (have 'arm64', need 'x86_64')), '/System/Volumes/Preboot/Cryptexes/OS/Users/jemonat/opt/anaconda3/envs/my-rdkit-env/lib/libssl.1.1.dylib' (no such file), '/Users/jemonat/opt/anaconda3/envs/my-rdkit-env/lib/libssl.1.1.dylib' (mach-o file, but is an incompatible architecture (have 'arm64', need 'x86_64')), '/System/Volumes/Preboot/Cryptexes/OS/Users/jemonat/opt/anaconda3/envs/my-rdkit-env/lib/libssl.1.1.dylib' (no such file), '/Users/jemonat/opt/anaconda3/envs/my-rdkit-env/lib/python3.10/lib-dynload/../../libssl.1.1.dylib' (mach-o file, but is an incompatible architecture (have 'arm64', need 'x86_64')), '/Users/jemonat/opt/anaconda3/envs/my-rdkit-env/lib/libssl.1.1.dylib' (mach-o file, but is an incompatible architecture (have 'arm64', need 'x86_64')), '/System/Volumes/Preboot/Cryptexes/OS/Users/jemonat/opt/anaconda3/envs/my-rdkit-env/lib/libssl.1.1.dylib' (no such file), '/Users/jemonat/opt/anaconda3/envs/my-rdkit-env/bin/../lib/libssl.1.1.dylib' (mach-o file, but is an incompatible architecture (have 'arm64', need 'x86_64')), '/Users/jemonat/opt/anaconda3/envs/my-rdkit-env/lib/libssl.1.1.dylib' (mach-o file, but is an incompatible architecture (have 'arm64', need 'x86_64')), '/System/Volumes/Preboot/Cryptexes/OS/Users/jemonat/opt/anaconda3/envs/my-rdkit-env/lib/libssl.1.1.dylib' (no such file), '/Users/jemonat/opt/anaconda3/envs/my-rdkit-env/bin/../lib/libssl.1.1.dylib' (mach-o file, but is an incompatible architecture (have 'arm64', need 'x86_64')), '/System/Volumes/Preboot/Cryptexes/OS@rpath/libssl.1.1.dylib' (no such file), '/Users/jemonat/opt/anaconda3/envs/my-rdkit-env/lib/libssl.1.1.dylib' (mach-o file, but is an incompatible architecture (have 'arm64', need 'x86_64')), '/System/Volumes/Preboot/Cryptexes/OS/Users/jemonat/opt/anaconda3/envs/my-rdkit-env/lib/libssl.1.1.dylib' (no such file), '/Users/jemonat/opt/anaconda3/envs/my-rdkit-env/lib/libssl.1.1.dylib' (mach-o file, but is an incompatible architecture (have 'arm64', need 'x86_64')), '/System/Volumes/Preboot/Cryptexes/OS/Users/jemonat/opt/anaconda3/envs/my-rdkit-env/lib/libssl.1.1.dylib' (no such file), '/Users/jemonat/opt/anaconda3/envs/my-rdkit-env/lib/python3.10/lib-dynload/../../libssl.1.1.dylib' (mach-o file, but is an incompatible architecture (have 'arm64', need 'x86_64')), '/Users/jemonat/opt/anaconda3/envs/my-rdkit-env/lib/libssl.1.1.dylib' (mach-o file, but is an incompatible architecture (have 'arm64', need 'x86_64')), '/System/Volumes/Preboot/Cryptexes/OS/Users/jemonat/opt/anaconda3/envs/my-rdkit-env/lib/libssl.1.1.dylib' (no such file), '/Users/jemonat/opt/anaconda3/envs/my-rdkit-env/lib/libssl.1.1.dylib' (mach-o file, but is an incompatible architecture (have 'arm64', need 'x86_64')), '/System/Volumes/Preboot/Cryptexes/OS/Users/jemonat/opt/anaconda3/envs/my-rdkit-env/lib/libssl.1.1.dylib' (no such file), '/Users/jemonat/opt/anaconda3/envs/my-rdkit-env/lib/python3.10/lib-dynload/../../libssl.1.1.dylib' (mach-o file, but is an incompatible architecture (have 'arm64', need 'x86_64')), '/Users/jemonat/opt/anaconda3/envs/my-rdkit-env/lib/libssl.1.1.dylib' (mach-o file, but is an incompatible architecture (have 'arm64', need 'x86_64')), '/System/Volumes/Preboot/Cryptexes/OS/Users/jemonat/opt/anaconda3/envs/my-rdkit-env/lib/libssl.1.1.dylib' (no such file), '/Users/jemonat/opt/anaconda3/envs/my-rdkit-env/bin/../lib/libssl.1.1.dylib' (mach-o file, but is an incompatible architecture (have 'arm64', need 'x86_64')), '/Users/jemonat/opt/anaconda3/envs/my-rdkit-env/lib/libssl.1.1.dylib' (mach-o file, but is an incompatible architecture (have 'arm64', need 'x86_64')), '/System/Volumes/Preboot/Cryptexes/OS/Users/jemonat/opt/anaconda3/envs/my-rdkit-env/lib/libssl.1.1.dylib' (no such file), '/Users/jemonat/opt/anaconda3/envs/my-rdkit-env/bin/../lib/libssl.1.1.dylib' (mach-o file, but is an incompatible architecture (have 'arm64', need 'x86_64')), '/usr/local/lib/libssl.1.1.dylib' (no such file), '/usr/lib/libssl.1.1.dylib' (no such file, not in dyld cache). \n",
      "\u001b[1;31mView Jupyter <a href='command:jupyter.viewOutput'>log</a> for further details."
     ]
    }
   ],
   "source": [
    "from rdkit import Chem\n",
    "from rdkit.Chem.Draw import IPythonConsole\n",
    "IPythonConsole.molSize = 350, 300\n",
    "from rdkit.Chem import Draw"
   ]
  },
  {
   "cell_type": "code",
   "execution_count": null,
   "metadata": {},
   "outputs": [
    {
     "ename": "",
     "evalue": "",
     "output_type": "error",
     "traceback": [
      "\u001b[1;31mFailed to start the Kernel. \n",
      "\u001b[1;31mJupyter server crashed. Unable to connect. \n",
      "\u001b[1;31mError code from Jupyter: 1\n",
      "\u001b[1;31mTraceback (most recent call last):\n",
      "\u001b[1;31m  File \"/Users/jemonat/opt/anaconda3/envs/my-rdkit-env/bin/jupyter-notebook\", line 7, in <module>\n",
      "\u001b[1;31m\n",
      "\u001b[1;31m    from notebook.notebookapp import main\n",
      "\u001b[1;31m  File \"/Users/jemonat/opt/anaconda3/envs/my-rdkit-env/lib/python3.10/site-packages/notebook/notebookapp.py\", line 59, in <module>\n",
      "\u001b[1;31m\n",
      "\u001b[1;31m    from tornado import httpserver\n",
      "\u001b[1;31m  File \"/Users/jemonat/opt/anaconda3/envs/my-rdkit-env/lib/python3.10/site-packages/tornado/httpserver.py\", line 29, in <module>\n",
      "\u001b[1;31m\n",
      "\u001b[1;31m    import ssl\n",
      "\u001b[1;31m  File \"/Users/jemonat/opt/anaconda3/envs/my-rdkit-env/lib/python3.10/ssl.py\", line 98, in <module>\n",
      "\u001b[1;31m\n",
      "\u001b[1;31m    import _ssl             # if we can't import it, let the error propagate\n",
      "\u001b[1;31mImportError: dlopen(/Users/jemonat/opt/anaconda3/envs/my-rdkit-env/lib/python3.10/lib-dynload/_ssl.cpython-310-darwin.so, 0x0002): Library not loaded: @rpath/libssl.1.1.dylib\n",
      "\u001b[1;31m  Referenced from: <9EDE67EB-4BB4-3203-9312-EEF3934CF29C> /Users/jemonat/opt/anaconda3/envs/my-rdkit-env/lib/python3.10/lib-dynload/_ssl.cpython-310-darwin.so\n",
      "\u001b[1;31m  Reason: tried: '/Users/jemonat/opt/anaconda3/envs/my-rdkit-env/lib/libssl.1.1.dylib' (mach-o file, but is an incompatible architecture (have 'arm64', need 'x86_64')), '/System/Volumes/Preboot/Cryptexes/OS/Users/jemonat/opt/anaconda3/envs/my-rdkit-env/lib/libssl.1.1.dylib' (no such file), '/Users/jemonat/opt/anaconda3/envs/my-rdkit-env/lib/libssl.1.1.dylib' (mach-o file, but is an incompatible architecture (have 'arm64', need 'x86_64')), '/System/Volumes/Preboot/Cryptexes/OS/Users/jemonat/opt/anaconda3/envs/my-rdkit-env/lib/libssl.1.1.dylib' (no such file), '/Users/jemonat/opt/anaconda3/envs/my-rdkit-env/lib/python3.10/lib-dynload/../../libssl.1.1.dylib' (mach-o file, but is an incompatible architecture (have 'arm64', need 'x86_64')), '/Users/jemonat/opt/anaconda3/envs/my-rdkit-env/lib/libssl.1.1.dylib' (mach-o file, but is an incompatible architecture (have 'arm64', need 'x86_64')), '/System/Volumes/Preboot/Cryptexes/OS/Users/jemonat/opt/anaconda3/envs/my-rdkit-env/lib/libssl.1.1.dylib' (no such file), '/Users/jemonat/opt/anaconda3/envs/my-rdkit-env/lib/libssl.1.1.dylib' (mach-o file, but is an incompatible architecture (have 'arm64', need 'x86_64')), '/System/Volumes/Preboot/Cryptexes/OS/Users/jemonat/opt/anaconda3/envs/my-rdkit-env/lib/libssl.1.1.dylib' (no such file), '/Users/jemonat/opt/anaconda3/envs/my-rdkit-env/lib/python3.10/lib-dynload/../../libssl.1.1.dylib' (mach-o file, but is an incompatible architecture (have 'arm64', need 'x86_64')), '/Users/jemonat/opt/anaconda3/envs/my-rdkit-env/lib/libssl.1.1.dylib' (mach-o file, but is an incompatible architecture (have 'arm64', need 'x86_64')), '/System/Volumes/Preboot/Cryptexes/OS/Users/jemonat/opt/anaconda3/envs/my-rdkit-env/lib/libssl.1.1.dylib' (no such file), '/Users/jemonat/opt/anaconda3/envs/my-rdkit-env/bin/../lib/libssl.1.1.dylib' (mach-o file, but is an incompatible architecture (have 'arm64', need 'x86_64')), '/Users/jemonat/opt/anaconda3/envs/my-rdkit-env/lib/libssl.1.1.dylib' (mach-o file, but is an incompatible architecture (have 'arm64', need 'x86_64')), '/System/Volumes/Preboot/Cryptexes/OS/Users/jemonat/opt/anaconda3/envs/my-rdkit-env/lib/libssl.1.1.dylib' (no such file), '/Users/jemonat/opt/anaconda3/envs/my-rdkit-env/bin/../lib/libssl.1.1.dylib' (mach-o file, but is an incompatible architecture (have 'arm64', need 'x86_64')), '/System/Volumes/Preboot/Cryptexes/OS@rpath/libssl.1.1.dylib' (no such file), '/Users/jemonat/opt/anaconda3/envs/my-rdkit-env/lib/libssl.1.1.dylib' (mach-o file, but is an incompatible architecture (have 'arm64', need 'x86_64')), '/System/Volumes/Preboot/Cryptexes/OS/Users/jemonat/opt/anaconda3/envs/my-rdkit-env/lib/libssl.1.1.dylib' (no such file), '/Users/jemonat/opt/anaconda3/envs/my-rdkit-env/lib/libssl.1.1.dylib' (mach-o file, but is an incompatible architecture (have 'arm64', need 'x86_64')), '/System/Volumes/Preboot/Cryptexes/OS/Users/jemonat/opt/anaconda3/envs/my-rdkit-env/lib/libssl.1.1.dylib' (no such file), '/Users/jemonat/opt/anaconda3/envs/my-rdkit-env/lib/python3.10/lib-dynload/../../libssl.1.1.dylib' (mach-o file, but is an incompatible architecture (have 'arm64', need 'x86_64')), '/Users/jemonat/opt/anaconda3/envs/my-rdkit-env/lib/libssl.1.1.dylib' (mach-o file, but is an incompatible architecture (have 'arm64', need 'x86_64')), '/System/Volumes/Preboot/Cryptexes/OS/Users/jemonat/opt/anaconda3/envs/my-rdkit-env/lib/libssl.1.1.dylib' (no such file), '/Users/jemonat/opt/anaconda3/envs/my-rdkit-env/lib/libssl.1.1.dylib' (mach-o file, but is an incompatible architecture (have 'arm64', need 'x86_64')), '/System/Volumes/Preboot/Cryptexes/OS/Users/jemonat/opt/anaconda3/envs/my-rdkit-env/lib/libssl.1.1.dylib' (no such file), '/Users/jemonat/opt/anaconda3/envs/my-rdkit-env/lib/python3.10/lib-dynload/../../libssl.1.1.dylib' (mach-o file, but is an incompatible architecture (have 'arm64', need 'x86_64')), '/Users/jemonat/opt/anaconda3/envs/my-rdkit-env/lib/libssl.1.1.dylib' (mach-o file, but is an incompatible architecture (have 'arm64', need 'x86_64')), '/System/Volumes/Preboot/Cryptexes/OS/Users/jemonat/opt/anaconda3/envs/my-rdkit-env/lib/libssl.1.1.dylib' (no such file), '/Users/jemonat/opt/anaconda3/envs/my-rdkit-env/bin/../lib/libssl.1.1.dylib' (mach-o file, but is an incompatible architecture (have 'arm64', need 'x86_64')), '/Users/jemonat/opt/anaconda3/envs/my-rdkit-env/lib/libssl.1.1.dylib' (mach-o file, but is an incompatible architecture (have 'arm64', need 'x86_64')), '/System/Volumes/Preboot/Cryptexes/OS/Users/jemonat/opt/anaconda3/envs/my-rdkit-env/lib/libssl.1.1.dylib' (no such file), '/Users/jemonat/opt/anaconda3/envs/my-rdkit-env/bin/../lib/libssl.1.1.dylib' (mach-o file, but is an incompatible architecture (have 'arm64', need 'x86_64')), '/usr/local/lib/libssl.1.1.dylib' (no such file), '/usr/lib/libssl.1.1.dylib' (no such file, not in dyld cache). \n",
      "\u001b[1;31mView Jupyter <a href='command:jupyter.viewOutput'>log</a> for further details."
     ]
    }
   ],
   "source": [
    "# default drawing\n",
    "macro = Chem.MolFromSmiles(\"C/C=C/CC(C)C(O)C1C(=O)NC(CC)C(=O)N(C)CC(=O)N(C)C(CC(C)C)C(=O)NC(C(C)C)C(=O)N(C)C(CC(C)C)C(=O)NC(C)C(=O)NC(C)C(=O)N(C)C(CC(C)C)C(=O)N(C)C(CC(C)C)C(=O)N(C)C(C(C)C)C(=O)N1C\")\n",
    "macro"
   ]
  },
  {
   "cell_type": "code",
   "execution_count": null,
   "metadata": {},
   "outputs": [
    {
     "ename": "",
     "evalue": "",
     "output_type": "error",
     "traceback": [
      "\u001b[1;31mFailed to start the Kernel. \n",
      "\u001b[1;31mJupyter server crashed. Unable to connect. \n",
      "\u001b[1;31mError code from Jupyter: 1\n",
      "\u001b[1;31mTraceback (most recent call last):\n",
      "\u001b[1;31m  File \"/Users/jemonat/opt/anaconda3/envs/my-rdkit-env/bin/jupyter-notebook\", line 7, in <module>\n",
      "\u001b[1;31m\n",
      "\u001b[1;31m    from notebook.notebookapp import main\n",
      "\u001b[1;31m  File \"/Users/jemonat/opt/anaconda3/envs/my-rdkit-env/lib/python3.10/site-packages/notebook/notebookapp.py\", line 59, in <module>\n",
      "\u001b[1;31m\n",
      "\u001b[1;31m    from tornado import httpserver\n",
      "\u001b[1;31m  File \"/Users/jemonat/opt/anaconda3/envs/my-rdkit-env/lib/python3.10/site-packages/tornado/httpserver.py\", line 29, in <module>\n",
      "\u001b[1;31m\n",
      "\u001b[1;31m    import ssl\n",
      "\u001b[1;31m  File \"/Users/jemonat/opt/anaconda3/envs/my-rdkit-env/lib/python3.10/ssl.py\", line 98, in <module>\n",
      "\u001b[1;31m\n",
      "\u001b[1;31m    import _ssl             # if we can't import it, let the error propagate\n",
      "\u001b[1;31mImportError: dlopen(/Users/jemonat/opt/anaconda3/envs/my-rdkit-env/lib/python3.10/lib-dynload/_ssl.cpython-310-darwin.so, 0x0002): Library not loaded: @rpath/libssl.1.1.dylib\n",
      "\u001b[1;31m  Referenced from: <9EDE67EB-4BB4-3203-9312-EEF3934CF29C> /Users/jemonat/opt/anaconda3/envs/my-rdkit-env/lib/python3.10/lib-dynload/_ssl.cpython-310-darwin.so\n",
      "\u001b[1;31m  Reason: tried: '/Users/jemonat/opt/anaconda3/envs/my-rdkit-env/lib/libssl.1.1.dylib' (mach-o file, but is an incompatible architecture (have 'arm64', need 'x86_64')), '/System/Volumes/Preboot/Cryptexes/OS/Users/jemonat/opt/anaconda3/envs/my-rdkit-env/lib/libssl.1.1.dylib' (no such file), '/Users/jemonat/opt/anaconda3/envs/my-rdkit-env/lib/libssl.1.1.dylib' (mach-o file, but is an incompatible architecture (have 'arm64', need 'x86_64')), '/System/Volumes/Preboot/Cryptexes/OS/Users/jemonat/opt/anaconda3/envs/my-rdkit-env/lib/libssl.1.1.dylib' (no such file), '/Users/jemonat/opt/anaconda3/envs/my-rdkit-env/lib/python3.10/lib-dynload/../../libssl.1.1.dylib' (mach-o file, but is an incompatible architecture (have 'arm64', need 'x86_64')), '/Users/jemonat/opt/anaconda3/envs/my-rdkit-env/lib/libssl.1.1.dylib' (mach-o file, but is an incompatible architecture (have 'arm64', need 'x86_64')), '/System/Volumes/Preboot/Cryptexes/OS/Users/jemonat/opt/anaconda3/envs/my-rdkit-env/lib/libssl.1.1.dylib' (no such file), '/Users/jemonat/opt/anaconda3/envs/my-rdkit-env/lib/libssl.1.1.dylib' (mach-o file, but is an incompatible architecture (have 'arm64', need 'x86_64')), '/System/Volumes/Preboot/Cryptexes/OS/Users/jemonat/opt/anaconda3/envs/my-rdkit-env/lib/libssl.1.1.dylib' (no such file), '/Users/jemonat/opt/anaconda3/envs/my-rdkit-env/lib/python3.10/lib-dynload/../../libssl.1.1.dylib' (mach-o file, but is an incompatible architecture (have 'arm64', need 'x86_64')), '/Users/jemonat/opt/anaconda3/envs/my-rdkit-env/lib/libssl.1.1.dylib' (mach-o file, but is an incompatible architecture (have 'arm64', need 'x86_64')), '/System/Volumes/Preboot/Cryptexes/OS/Users/jemonat/opt/anaconda3/envs/my-rdkit-env/lib/libssl.1.1.dylib' (no such file), '/Users/jemonat/opt/anaconda3/envs/my-rdkit-env/bin/../lib/libssl.1.1.dylib' (mach-o file, but is an incompatible architecture (have 'arm64', need 'x86_64')), '/Users/jemonat/opt/anaconda3/envs/my-rdkit-env/lib/libssl.1.1.dylib' (mach-o file, but is an incompatible architecture (have 'arm64', need 'x86_64')), '/System/Volumes/Preboot/Cryptexes/OS/Users/jemonat/opt/anaconda3/envs/my-rdkit-env/lib/libssl.1.1.dylib' (no such file), '/Users/jemonat/opt/anaconda3/envs/my-rdkit-env/bin/../lib/libssl.1.1.dylib' (mach-o file, but is an incompatible architecture (have 'arm64', need 'x86_64')), '/System/Volumes/Preboot/Cryptexes/OS@rpath/libssl.1.1.dylib' (no such file), '/Users/jemonat/opt/anaconda3/envs/my-rdkit-env/lib/libssl.1.1.dylib' (mach-o file, but is an incompatible architecture (have 'arm64', need 'x86_64')), '/System/Volumes/Preboot/Cryptexes/OS/Users/jemonat/opt/anaconda3/envs/my-rdkit-env/lib/libssl.1.1.dylib' (no such file), '/Users/jemonat/opt/anaconda3/envs/my-rdkit-env/lib/libssl.1.1.dylib' (mach-o file, but is an incompatible architecture (have 'arm64', need 'x86_64')), '/System/Volumes/Preboot/Cryptexes/OS/Users/jemonat/opt/anaconda3/envs/my-rdkit-env/lib/libssl.1.1.dylib' (no such file), '/Users/jemonat/opt/anaconda3/envs/my-rdkit-env/lib/python3.10/lib-dynload/../../libssl.1.1.dylib' (mach-o file, but is an incompatible architecture (have 'arm64', need 'x86_64')), '/Users/jemonat/opt/anaconda3/envs/my-rdkit-env/lib/libssl.1.1.dylib' (mach-o file, but is an incompatible architecture (have 'arm64', need 'x86_64')), '/System/Volumes/Preboot/Cryptexes/OS/Users/jemonat/opt/anaconda3/envs/my-rdkit-env/lib/libssl.1.1.dylib' (no such file), '/Users/jemonat/opt/anaconda3/envs/my-rdkit-env/lib/libssl.1.1.dylib' (mach-o file, but is an incompatible architecture (have 'arm64', need 'x86_64')), '/System/Volumes/Preboot/Cryptexes/OS/Users/jemonat/opt/anaconda3/envs/my-rdkit-env/lib/libssl.1.1.dylib' (no such file), '/Users/jemonat/opt/anaconda3/envs/my-rdkit-env/lib/python3.10/lib-dynload/../../libssl.1.1.dylib' (mach-o file, but is an incompatible architecture (have 'arm64', need 'x86_64')), '/Users/jemonat/opt/anaconda3/envs/my-rdkit-env/lib/libssl.1.1.dylib' (mach-o file, but is an incompatible architecture (have 'arm64', need 'x86_64')), '/System/Volumes/Preboot/Cryptexes/OS/Users/jemonat/opt/anaconda3/envs/my-rdkit-env/lib/libssl.1.1.dylib' (no such file), '/Users/jemonat/opt/anaconda3/envs/my-rdkit-env/bin/../lib/libssl.1.1.dylib' (mach-o file, but is an incompatible architecture (have 'arm64', need 'x86_64')), '/Users/jemonat/opt/anaconda3/envs/my-rdkit-env/lib/libssl.1.1.dylib' (mach-o file, but is an incompatible architecture (have 'arm64', need 'x86_64')), '/System/Volumes/Preboot/Cryptexes/OS/Users/jemonat/opt/anaconda3/envs/my-rdkit-env/lib/libssl.1.1.dylib' (no such file), '/Users/jemonat/opt/anaconda3/envs/my-rdkit-env/bin/../lib/libssl.1.1.dylib' (mach-o file, but is an incompatible architecture (have 'arm64', need 'x86_64')), '/usr/local/lib/libssl.1.1.dylib' (no such file), '/usr/lib/libssl.1.1.dylib' (no such file, not in dyld cache). \n",
      "\u001b[1;31mView Jupyter <a href='command:jupyter.viewOutput'>log</a> for further details."
     ]
    }
   ],
   "source": [
    "# with CoordGen\n",
    "from rdkit.Chem import rdCoordGen\n",
    "rdCoordGen.AddCoords(macro)\n",
    "# for atom in macro.GetAtoms():\n",
    "#     atom.SetProp(\"molAtomMapNumber\", str(atom.GetIdx()))\n",
    "macro"
   ]
  },
  {
   "attachments": {},
   "cell_type": "markdown",
   "metadata": {},
   "source": [
    "### [On a Plot](https://www.rdkit.org/docs/Cookbook.html#on-a-plot) (showing a molecule on a plot)"
   ]
  },
  {
   "cell_type": "code",
   "execution_count": null,
   "metadata": {},
   "outputs": [
    {
     "ename": "",
     "evalue": "",
     "output_type": "error",
     "traceback": [
      "\u001b[1;31mFailed to start the Kernel. \n",
      "\u001b[1;31mJupyter server crashed. Unable to connect. \n",
      "\u001b[1;31mError code from Jupyter: 1\n",
      "\u001b[1;31mTraceback (most recent call last):\n",
      "\u001b[1;31m  File \"/Users/jemonat/opt/anaconda3/envs/my-rdkit-env/bin/jupyter-notebook\", line 7, in <module>\n",
      "\u001b[1;31m\n",
      "\u001b[1;31m    from notebook.notebookapp import main\n",
      "\u001b[1;31m  File \"/Users/jemonat/opt/anaconda3/envs/my-rdkit-env/lib/python3.10/site-packages/notebook/notebookapp.py\", line 59, in <module>\n",
      "\u001b[1;31m\n",
      "\u001b[1;31m    from tornado import httpserver\n",
      "\u001b[1;31m  File \"/Users/jemonat/opt/anaconda3/envs/my-rdkit-env/lib/python3.10/site-packages/tornado/httpserver.py\", line 29, in <module>\n",
      "\u001b[1;31m\n",
      "\u001b[1;31m    import ssl\n",
      "\u001b[1;31m  File \"/Users/jemonat/opt/anaconda3/envs/my-rdkit-env/lib/python3.10/ssl.py\", line 98, in <module>\n",
      "\u001b[1;31m\n",
      "\u001b[1;31m    import _ssl             # if we can't import it, let the error propagate\n",
      "\u001b[1;31mImportError: dlopen(/Users/jemonat/opt/anaconda3/envs/my-rdkit-env/lib/python3.10/lib-dynload/_ssl.cpython-310-darwin.so, 0x0002): Library not loaded: @rpath/libssl.1.1.dylib\n",
      "\u001b[1;31m  Referenced from: <9EDE67EB-4BB4-3203-9312-EEF3934CF29C> /Users/jemonat/opt/anaconda3/envs/my-rdkit-env/lib/python3.10/lib-dynload/_ssl.cpython-310-darwin.so\n",
      "\u001b[1;31m  Reason: tried: '/Users/jemonat/opt/anaconda3/envs/my-rdkit-env/lib/libssl.1.1.dylib' (mach-o file, but is an incompatible architecture (have 'arm64', need 'x86_64')), '/System/Volumes/Preboot/Cryptexes/OS/Users/jemonat/opt/anaconda3/envs/my-rdkit-env/lib/libssl.1.1.dylib' (no such file), '/Users/jemonat/opt/anaconda3/envs/my-rdkit-env/lib/libssl.1.1.dylib' (mach-o file, but is an incompatible architecture (have 'arm64', need 'x86_64')), '/System/Volumes/Preboot/Cryptexes/OS/Users/jemonat/opt/anaconda3/envs/my-rdkit-env/lib/libssl.1.1.dylib' (no such file), '/Users/jemonat/opt/anaconda3/envs/my-rdkit-env/lib/python3.10/lib-dynload/../../libssl.1.1.dylib' (mach-o file, but is an incompatible architecture (have 'arm64', need 'x86_64')), '/Users/jemonat/opt/anaconda3/envs/my-rdkit-env/lib/libssl.1.1.dylib' (mach-o file, but is an incompatible architecture (have 'arm64', need 'x86_64')), '/System/Volumes/Preboot/Cryptexes/OS/Users/jemonat/opt/anaconda3/envs/my-rdkit-env/lib/libssl.1.1.dylib' (no such file), '/Users/jemonat/opt/anaconda3/envs/my-rdkit-env/lib/libssl.1.1.dylib' (mach-o file, but is an incompatible architecture (have 'arm64', need 'x86_64')), '/System/Volumes/Preboot/Cryptexes/OS/Users/jemonat/opt/anaconda3/envs/my-rdkit-env/lib/libssl.1.1.dylib' (no such file), '/Users/jemonat/opt/anaconda3/envs/my-rdkit-env/lib/python3.10/lib-dynload/../../libssl.1.1.dylib' (mach-o file, but is an incompatible architecture (have 'arm64', need 'x86_64')), '/Users/jemonat/opt/anaconda3/envs/my-rdkit-env/lib/libssl.1.1.dylib' (mach-o file, but is an incompatible architecture (have 'arm64', need 'x86_64')), '/System/Volumes/Preboot/Cryptexes/OS/Users/jemonat/opt/anaconda3/envs/my-rdkit-env/lib/libssl.1.1.dylib' (no such file), '/Users/jemonat/opt/anaconda3/envs/my-rdkit-env/bin/../lib/libssl.1.1.dylib' (mach-o file, but is an incompatible architecture (have 'arm64', need 'x86_64')), '/Users/jemonat/opt/anaconda3/envs/my-rdkit-env/lib/libssl.1.1.dylib' (mach-o file, but is an incompatible architecture (have 'arm64', need 'x86_64')), '/System/Volumes/Preboot/Cryptexes/OS/Users/jemonat/opt/anaconda3/envs/my-rdkit-env/lib/libssl.1.1.dylib' (no such file), '/Users/jemonat/opt/anaconda3/envs/my-rdkit-env/bin/../lib/libssl.1.1.dylib' (mach-o file, but is an incompatible architecture (have 'arm64', need 'x86_64')), '/System/Volumes/Preboot/Cryptexes/OS@rpath/libssl.1.1.dylib' (no such file), '/Users/jemonat/opt/anaconda3/envs/my-rdkit-env/lib/libssl.1.1.dylib' (mach-o file, but is an incompatible architecture (have 'arm64', need 'x86_64')), '/System/Volumes/Preboot/Cryptexes/OS/Users/jemonat/opt/anaconda3/envs/my-rdkit-env/lib/libssl.1.1.dylib' (no such file), '/Users/jemonat/opt/anaconda3/envs/my-rdkit-env/lib/libssl.1.1.dylib' (mach-o file, but is an incompatible architecture (have 'arm64', need 'x86_64')), '/System/Volumes/Preboot/Cryptexes/OS/Users/jemonat/opt/anaconda3/envs/my-rdkit-env/lib/libssl.1.1.dylib' (no such file), '/Users/jemonat/opt/anaconda3/envs/my-rdkit-env/lib/python3.10/lib-dynload/../../libssl.1.1.dylib' (mach-o file, but is an incompatible architecture (have 'arm64', need 'x86_64')), '/Users/jemonat/opt/anaconda3/envs/my-rdkit-env/lib/libssl.1.1.dylib' (mach-o file, but is an incompatible architecture (have 'arm64', need 'x86_64')), '/System/Volumes/Preboot/Cryptexes/OS/Users/jemonat/opt/anaconda3/envs/my-rdkit-env/lib/libssl.1.1.dylib' (no such file), '/Users/jemonat/opt/anaconda3/envs/my-rdkit-env/lib/libssl.1.1.dylib' (mach-o file, but is an incompatible architecture (have 'arm64', need 'x86_64')), '/System/Volumes/Preboot/Cryptexes/OS/Users/jemonat/opt/anaconda3/envs/my-rdkit-env/lib/libssl.1.1.dylib' (no such file), '/Users/jemonat/opt/anaconda3/envs/my-rdkit-env/lib/python3.10/lib-dynload/../../libssl.1.1.dylib' (mach-o file, but is an incompatible architecture (have 'arm64', need 'x86_64')), '/Users/jemonat/opt/anaconda3/envs/my-rdkit-env/lib/libssl.1.1.dylib' (mach-o file, but is an incompatible architecture (have 'arm64', need 'x86_64')), '/System/Volumes/Preboot/Cryptexes/OS/Users/jemonat/opt/anaconda3/envs/my-rdkit-env/lib/libssl.1.1.dylib' (no such file), '/Users/jemonat/opt/anaconda3/envs/my-rdkit-env/bin/../lib/libssl.1.1.dylib' (mach-o file, but is an incompatible architecture (have 'arm64', need 'x86_64')), '/Users/jemonat/opt/anaconda3/envs/my-rdkit-env/lib/libssl.1.1.dylib' (mach-o file, but is an incompatible architecture (have 'arm64', need 'x86_64')), '/System/Volumes/Preboot/Cryptexes/OS/Users/jemonat/opt/anaconda3/envs/my-rdkit-env/lib/libssl.1.1.dylib' (no such file), '/Users/jemonat/opt/anaconda3/envs/my-rdkit-env/bin/../lib/libssl.1.1.dylib' (mach-o file, but is an incompatible architecture (have 'arm64', need 'x86_64')), '/usr/local/lib/libssl.1.1.dylib' (no such file), '/usr/lib/libssl.1.1.dylib' (no such file, not in dyld cache). \n",
      "\u001b[1;31mView Jupyter <a href='command:jupyter.viewOutput'>log</a> for further details."
     ]
    }
   ],
   "source": [
    "import matplotlib.pyplot as plt\n",
    "import numpy as np"
   ]
  },
  {
   "cell_type": "code",
   "execution_count": null,
   "metadata": {},
   "outputs": [
    {
     "ename": "",
     "evalue": "",
     "output_type": "error",
     "traceback": [
      "\u001b[1;31mFailed to start the Kernel. \n",
      "\u001b[1;31mJupyter server crashed. Unable to connect. \n",
      "\u001b[1;31mError code from Jupyter: 1\n",
      "\u001b[1;31mTraceback (most recent call last):\n",
      "\u001b[1;31m  File \"/Users/jemonat/opt/anaconda3/envs/my-rdkit-env/bin/jupyter-notebook\", line 7, in <module>\n",
      "\u001b[1;31m\n",
      "\u001b[1;31m    from notebook.notebookapp import main\n",
      "\u001b[1;31m  File \"/Users/jemonat/opt/anaconda3/envs/my-rdkit-env/lib/python3.10/site-packages/notebook/notebookapp.py\", line 59, in <module>\n",
      "\u001b[1;31m\n",
      "\u001b[1;31m    from tornado import httpserver\n",
      "\u001b[1;31m  File \"/Users/jemonat/opt/anaconda3/envs/my-rdkit-env/lib/python3.10/site-packages/tornado/httpserver.py\", line 29, in <module>\n",
      "\u001b[1;31m\n",
      "\u001b[1;31m    import ssl\n",
      "\u001b[1;31m  File \"/Users/jemonat/opt/anaconda3/envs/my-rdkit-env/lib/python3.10/ssl.py\", line 98, in <module>\n",
      "\u001b[1;31m\n",
      "\u001b[1;31m    import _ssl             # if we can't import it, let the error propagate\n",
      "\u001b[1;31mImportError: dlopen(/Users/jemonat/opt/anaconda3/envs/my-rdkit-env/lib/python3.10/lib-dynload/_ssl.cpython-310-darwin.so, 0x0002): Library not loaded: @rpath/libssl.1.1.dylib\n",
      "\u001b[1;31m  Referenced from: <9EDE67EB-4BB4-3203-9312-EEF3934CF29C> /Users/jemonat/opt/anaconda3/envs/my-rdkit-env/lib/python3.10/lib-dynload/_ssl.cpython-310-darwin.so\n",
      "\u001b[1;31m  Reason: tried: '/Users/jemonat/opt/anaconda3/envs/my-rdkit-env/lib/libssl.1.1.dylib' (mach-o file, but is an incompatible architecture (have 'arm64', need 'x86_64')), '/System/Volumes/Preboot/Cryptexes/OS/Users/jemonat/opt/anaconda3/envs/my-rdkit-env/lib/libssl.1.1.dylib' (no such file), '/Users/jemonat/opt/anaconda3/envs/my-rdkit-env/lib/libssl.1.1.dylib' (mach-o file, but is an incompatible architecture (have 'arm64', need 'x86_64')), '/System/Volumes/Preboot/Cryptexes/OS/Users/jemonat/opt/anaconda3/envs/my-rdkit-env/lib/libssl.1.1.dylib' (no such file), '/Users/jemonat/opt/anaconda3/envs/my-rdkit-env/lib/python3.10/lib-dynload/../../libssl.1.1.dylib' (mach-o file, but is an incompatible architecture (have 'arm64', need 'x86_64')), '/Users/jemonat/opt/anaconda3/envs/my-rdkit-env/lib/libssl.1.1.dylib' (mach-o file, but is an incompatible architecture (have 'arm64', need 'x86_64')), '/System/Volumes/Preboot/Cryptexes/OS/Users/jemonat/opt/anaconda3/envs/my-rdkit-env/lib/libssl.1.1.dylib' (no such file), '/Users/jemonat/opt/anaconda3/envs/my-rdkit-env/lib/libssl.1.1.dylib' (mach-o file, but is an incompatible architecture (have 'arm64', need 'x86_64')), '/System/Volumes/Preboot/Cryptexes/OS/Users/jemonat/opt/anaconda3/envs/my-rdkit-env/lib/libssl.1.1.dylib' (no such file), '/Users/jemonat/opt/anaconda3/envs/my-rdkit-env/lib/python3.10/lib-dynload/../../libssl.1.1.dylib' (mach-o file, but is an incompatible architecture (have 'arm64', need 'x86_64')), '/Users/jemonat/opt/anaconda3/envs/my-rdkit-env/lib/libssl.1.1.dylib' (mach-o file, but is an incompatible architecture (have 'arm64', need 'x86_64')), '/System/Volumes/Preboot/Cryptexes/OS/Users/jemonat/opt/anaconda3/envs/my-rdkit-env/lib/libssl.1.1.dylib' (no such file), '/Users/jemonat/opt/anaconda3/envs/my-rdkit-env/bin/../lib/libssl.1.1.dylib' (mach-o file, but is an incompatible architecture (have 'arm64', need 'x86_64')), '/Users/jemonat/opt/anaconda3/envs/my-rdkit-env/lib/libssl.1.1.dylib' (mach-o file, but is an incompatible architecture (have 'arm64', need 'x86_64')), '/System/Volumes/Preboot/Cryptexes/OS/Users/jemonat/opt/anaconda3/envs/my-rdkit-env/lib/libssl.1.1.dylib' (no such file), '/Users/jemonat/opt/anaconda3/envs/my-rdkit-env/bin/../lib/libssl.1.1.dylib' (mach-o file, but is an incompatible architecture (have 'arm64', need 'x86_64')), '/System/Volumes/Preboot/Cryptexes/OS@rpath/libssl.1.1.dylib' (no such file), '/Users/jemonat/opt/anaconda3/envs/my-rdkit-env/lib/libssl.1.1.dylib' (mach-o file, but is an incompatible architecture (have 'arm64', need 'x86_64')), '/System/Volumes/Preboot/Cryptexes/OS/Users/jemonat/opt/anaconda3/envs/my-rdkit-env/lib/libssl.1.1.dylib' (no such file), '/Users/jemonat/opt/anaconda3/envs/my-rdkit-env/lib/libssl.1.1.dylib' (mach-o file, but is an incompatible architecture (have 'arm64', need 'x86_64')), '/System/Volumes/Preboot/Cryptexes/OS/Users/jemonat/opt/anaconda3/envs/my-rdkit-env/lib/libssl.1.1.dylib' (no such file), '/Users/jemonat/opt/anaconda3/envs/my-rdkit-env/lib/python3.10/lib-dynload/../../libssl.1.1.dylib' (mach-o file, but is an incompatible architecture (have 'arm64', need 'x86_64')), '/Users/jemonat/opt/anaconda3/envs/my-rdkit-env/lib/libssl.1.1.dylib' (mach-o file, but is an incompatible architecture (have 'arm64', need 'x86_64')), '/System/Volumes/Preboot/Cryptexes/OS/Users/jemonat/opt/anaconda3/envs/my-rdkit-env/lib/libssl.1.1.dylib' (no such file), '/Users/jemonat/opt/anaconda3/envs/my-rdkit-env/lib/libssl.1.1.dylib' (mach-o file, but is an incompatible architecture (have 'arm64', need 'x86_64')), '/System/Volumes/Preboot/Cryptexes/OS/Users/jemonat/opt/anaconda3/envs/my-rdkit-env/lib/libssl.1.1.dylib' (no such file), '/Users/jemonat/opt/anaconda3/envs/my-rdkit-env/lib/python3.10/lib-dynload/../../libssl.1.1.dylib' (mach-o file, but is an incompatible architecture (have 'arm64', need 'x86_64')), '/Users/jemonat/opt/anaconda3/envs/my-rdkit-env/lib/libssl.1.1.dylib' (mach-o file, but is an incompatible architecture (have 'arm64', need 'x86_64')), '/System/Volumes/Preboot/Cryptexes/OS/Users/jemonat/opt/anaconda3/envs/my-rdkit-env/lib/libssl.1.1.dylib' (no such file), '/Users/jemonat/opt/anaconda3/envs/my-rdkit-env/bin/../lib/libssl.1.1.dylib' (mach-o file, but is an incompatible architecture (have 'arm64', need 'x86_64')), '/Users/jemonat/opt/anaconda3/envs/my-rdkit-env/lib/libssl.1.1.dylib' (mach-o file, but is an incompatible architecture (have 'arm64', need 'x86_64')), '/System/Volumes/Preboot/Cryptexes/OS/Users/jemonat/opt/anaconda3/envs/my-rdkit-env/lib/libssl.1.1.dylib' (no such file), '/Users/jemonat/opt/anaconda3/envs/my-rdkit-env/bin/../lib/libssl.1.1.dylib' (mach-o file, but is an incompatible architecture (have 'arm64', need 'x86_64')), '/usr/local/lib/libssl.1.1.dylib' (no such file), '/usr/lib/libssl.1.1.dylib' (no such file, not in dyld cache). \n",
      "\u001b[1;31mView Jupyter <a href='command:jupyter.viewOutput'>log</a> for further details."
     ]
    }
   ],
   "source": [
    "x = np.arange(0,180,1)\n",
    "y = np.sin(x)"
   ]
  },
  {
   "cell_type": "code",
   "execution_count": null,
   "metadata": {},
   "outputs": [
    {
     "ename": "",
     "evalue": "",
     "output_type": "error",
     "traceback": [
      "\u001b[1;31mFailed to start the Kernel. \n",
      "\u001b[1;31mJupyter server crashed. Unable to connect. \n",
      "\u001b[1;31mError code from Jupyter: 1\n",
      "\u001b[1;31mTraceback (most recent call last):\n",
      "\u001b[1;31m  File \"/Users/jemonat/opt/anaconda3/envs/my-rdkit-env/bin/jupyter-notebook\", line 7, in <module>\n",
      "\u001b[1;31m\n",
      "\u001b[1;31m    from notebook.notebookapp import main\n",
      "\u001b[1;31m  File \"/Users/jemonat/opt/anaconda3/envs/my-rdkit-env/lib/python3.10/site-packages/notebook/notebookapp.py\", line 59, in <module>\n",
      "\u001b[1;31m\n",
      "\u001b[1;31m    from tornado import httpserver\n",
      "\u001b[1;31m  File \"/Users/jemonat/opt/anaconda3/envs/my-rdkit-env/lib/python3.10/site-packages/tornado/httpserver.py\", line 29, in <module>\n",
      "\u001b[1;31m\n",
      "\u001b[1;31m    import ssl\n",
      "\u001b[1;31m  File \"/Users/jemonat/opt/anaconda3/envs/my-rdkit-env/lib/python3.10/ssl.py\", line 98, in <module>\n",
      "\u001b[1;31m\n",
      "\u001b[1;31m    import _ssl             # if we can't import it, let the error propagate\n",
      "\u001b[1;31mImportError: dlopen(/Users/jemonat/opt/anaconda3/envs/my-rdkit-env/lib/python3.10/lib-dynload/_ssl.cpython-310-darwin.so, 0x0002): Library not loaded: @rpath/libssl.1.1.dylib\n",
      "\u001b[1;31m  Referenced from: <9EDE67EB-4BB4-3203-9312-EEF3934CF29C> /Users/jemonat/opt/anaconda3/envs/my-rdkit-env/lib/python3.10/lib-dynload/_ssl.cpython-310-darwin.so\n",
      "\u001b[1;31m  Reason: tried: '/Users/jemonat/opt/anaconda3/envs/my-rdkit-env/lib/libssl.1.1.dylib' (mach-o file, but is an incompatible architecture (have 'arm64', need 'x86_64')), '/System/Volumes/Preboot/Cryptexes/OS/Users/jemonat/opt/anaconda3/envs/my-rdkit-env/lib/libssl.1.1.dylib' (no such file), '/Users/jemonat/opt/anaconda3/envs/my-rdkit-env/lib/libssl.1.1.dylib' (mach-o file, but is an incompatible architecture (have 'arm64', need 'x86_64')), '/System/Volumes/Preboot/Cryptexes/OS/Users/jemonat/opt/anaconda3/envs/my-rdkit-env/lib/libssl.1.1.dylib' (no such file), '/Users/jemonat/opt/anaconda3/envs/my-rdkit-env/lib/python3.10/lib-dynload/../../libssl.1.1.dylib' (mach-o file, but is an incompatible architecture (have 'arm64', need 'x86_64')), '/Users/jemonat/opt/anaconda3/envs/my-rdkit-env/lib/libssl.1.1.dylib' (mach-o file, but is an incompatible architecture (have 'arm64', need 'x86_64')), '/System/Volumes/Preboot/Cryptexes/OS/Users/jemonat/opt/anaconda3/envs/my-rdkit-env/lib/libssl.1.1.dylib' (no such file), '/Users/jemonat/opt/anaconda3/envs/my-rdkit-env/lib/libssl.1.1.dylib' (mach-o file, but is an incompatible architecture (have 'arm64', need 'x86_64')), '/System/Volumes/Preboot/Cryptexes/OS/Users/jemonat/opt/anaconda3/envs/my-rdkit-env/lib/libssl.1.1.dylib' (no such file), '/Users/jemonat/opt/anaconda3/envs/my-rdkit-env/lib/python3.10/lib-dynload/../../libssl.1.1.dylib' (mach-o file, but is an incompatible architecture (have 'arm64', need 'x86_64')), '/Users/jemonat/opt/anaconda3/envs/my-rdkit-env/lib/libssl.1.1.dylib' (mach-o file, but is an incompatible architecture (have 'arm64', need 'x86_64')), '/System/Volumes/Preboot/Cryptexes/OS/Users/jemonat/opt/anaconda3/envs/my-rdkit-env/lib/libssl.1.1.dylib' (no such file), '/Users/jemonat/opt/anaconda3/envs/my-rdkit-env/bin/../lib/libssl.1.1.dylib' (mach-o file, but is an incompatible architecture (have 'arm64', need 'x86_64')), '/Users/jemonat/opt/anaconda3/envs/my-rdkit-env/lib/libssl.1.1.dylib' (mach-o file, but is an incompatible architecture (have 'arm64', need 'x86_64')), '/System/Volumes/Preboot/Cryptexes/OS/Users/jemonat/opt/anaconda3/envs/my-rdkit-env/lib/libssl.1.1.dylib' (no such file), '/Users/jemonat/opt/anaconda3/envs/my-rdkit-env/bin/../lib/libssl.1.1.dylib' (mach-o file, but is an incompatible architecture (have 'arm64', need 'x86_64')), '/System/Volumes/Preboot/Cryptexes/OS@rpath/libssl.1.1.dylib' (no such file), '/Users/jemonat/opt/anaconda3/envs/my-rdkit-env/lib/libssl.1.1.dylib' (mach-o file, but is an incompatible architecture (have 'arm64', need 'x86_64')), '/System/Volumes/Preboot/Cryptexes/OS/Users/jemonat/opt/anaconda3/envs/my-rdkit-env/lib/libssl.1.1.dylib' (no such file), '/Users/jemonat/opt/anaconda3/envs/my-rdkit-env/lib/libssl.1.1.dylib' (mach-o file, but is an incompatible architecture (have 'arm64', need 'x86_64')), '/System/Volumes/Preboot/Cryptexes/OS/Users/jemonat/opt/anaconda3/envs/my-rdkit-env/lib/libssl.1.1.dylib' (no such file), '/Users/jemonat/opt/anaconda3/envs/my-rdkit-env/lib/python3.10/lib-dynload/../../libssl.1.1.dylib' (mach-o file, but is an incompatible architecture (have 'arm64', need 'x86_64')), '/Users/jemonat/opt/anaconda3/envs/my-rdkit-env/lib/libssl.1.1.dylib' (mach-o file, but is an incompatible architecture (have 'arm64', need 'x86_64')), '/System/Volumes/Preboot/Cryptexes/OS/Users/jemonat/opt/anaconda3/envs/my-rdkit-env/lib/libssl.1.1.dylib' (no such file), '/Users/jemonat/opt/anaconda3/envs/my-rdkit-env/lib/libssl.1.1.dylib' (mach-o file, but is an incompatible architecture (have 'arm64', need 'x86_64')), '/System/Volumes/Preboot/Cryptexes/OS/Users/jemonat/opt/anaconda3/envs/my-rdkit-env/lib/libssl.1.1.dylib' (no such file), '/Users/jemonat/opt/anaconda3/envs/my-rdkit-env/lib/python3.10/lib-dynload/../../libssl.1.1.dylib' (mach-o file, but is an incompatible architecture (have 'arm64', need 'x86_64')), '/Users/jemonat/opt/anaconda3/envs/my-rdkit-env/lib/libssl.1.1.dylib' (mach-o file, but is an incompatible architecture (have 'arm64', need 'x86_64')), '/System/Volumes/Preboot/Cryptexes/OS/Users/jemonat/opt/anaconda3/envs/my-rdkit-env/lib/libssl.1.1.dylib' (no such file), '/Users/jemonat/opt/anaconda3/envs/my-rdkit-env/bin/../lib/libssl.1.1.dylib' (mach-o file, but is an incompatible architecture (have 'arm64', need 'x86_64')), '/Users/jemonat/opt/anaconda3/envs/my-rdkit-env/lib/libssl.1.1.dylib' (mach-o file, but is an incompatible architecture (have 'arm64', need 'x86_64')), '/System/Volumes/Preboot/Cryptexes/OS/Users/jemonat/opt/anaconda3/envs/my-rdkit-env/lib/libssl.1.1.dylib' (no such file), '/Users/jemonat/opt/anaconda3/envs/my-rdkit-env/bin/../lib/libssl.1.1.dylib' (mach-o file, but is an incompatible architecture (have 'arm64', need 'x86_64')), '/usr/local/lib/libssl.1.1.dylib' (no such file), '/usr/lib/libssl.1.1.dylib' (no such file, not in dyld cache). \n",
      "\u001b[1;31mView Jupyter <a href='command:jupyter.viewOutput'>log</a> for further details."
     ]
    }
   ],
   "source": [
    "mol = Chem.MolFromSmiles('C1CNCCC1C(=O)C')\n",
    "im = Chem.Draw.MolToImage(mol)"
   ]
  },
  {
   "cell_type": "code",
   "execution_count": null,
   "metadata": {},
   "outputs": [
    {
     "ename": "",
     "evalue": "",
     "output_type": "error",
     "traceback": [
      "\u001b[1;31mFailed to start the Kernel. \n",
      "\u001b[1;31mJupyter server crashed. Unable to connect. \n",
      "\u001b[1;31mError code from Jupyter: 1\n",
      "\u001b[1;31mTraceback (most recent call last):\n",
      "\u001b[1;31m  File \"/Users/jemonat/opt/anaconda3/envs/my-rdkit-env/bin/jupyter-notebook\", line 7, in <module>\n",
      "\u001b[1;31m\n",
      "\u001b[1;31m    from notebook.notebookapp import main\n",
      "\u001b[1;31m  File \"/Users/jemonat/opt/anaconda3/envs/my-rdkit-env/lib/python3.10/site-packages/notebook/notebookapp.py\", line 59, in <module>\n",
      "\u001b[1;31m\n",
      "\u001b[1;31m    from tornado import httpserver\n",
      "\u001b[1;31m  File \"/Users/jemonat/opt/anaconda3/envs/my-rdkit-env/lib/python3.10/site-packages/tornado/httpserver.py\", line 29, in <module>\n",
      "\u001b[1;31m\n",
      "\u001b[1;31m    import ssl\n",
      "\u001b[1;31m  File \"/Users/jemonat/opt/anaconda3/envs/my-rdkit-env/lib/python3.10/ssl.py\", line 98, in <module>\n",
      "\u001b[1;31m\n",
      "\u001b[1;31m    import _ssl             # if we can't import it, let the error propagate\n",
      "\u001b[1;31mImportError: dlopen(/Users/jemonat/opt/anaconda3/envs/my-rdkit-env/lib/python3.10/lib-dynload/_ssl.cpython-310-darwin.so, 0x0002): Library not loaded: @rpath/libssl.1.1.dylib\n",
      "\u001b[1;31m  Referenced from: <9EDE67EB-4BB4-3203-9312-EEF3934CF29C> /Users/jemonat/opt/anaconda3/envs/my-rdkit-env/lib/python3.10/lib-dynload/_ssl.cpython-310-darwin.so\n",
      "\u001b[1;31m  Reason: tried: '/Users/jemonat/opt/anaconda3/envs/my-rdkit-env/lib/libssl.1.1.dylib' (mach-o file, but is an incompatible architecture (have 'arm64', need 'x86_64')), '/System/Volumes/Preboot/Cryptexes/OS/Users/jemonat/opt/anaconda3/envs/my-rdkit-env/lib/libssl.1.1.dylib' (no such file), '/Users/jemonat/opt/anaconda3/envs/my-rdkit-env/lib/libssl.1.1.dylib' (mach-o file, but is an incompatible architecture (have 'arm64', need 'x86_64')), '/System/Volumes/Preboot/Cryptexes/OS/Users/jemonat/opt/anaconda3/envs/my-rdkit-env/lib/libssl.1.1.dylib' (no such file), '/Users/jemonat/opt/anaconda3/envs/my-rdkit-env/lib/python3.10/lib-dynload/../../libssl.1.1.dylib' (mach-o file, but is an incompatible architecture (have 'arm64', need 'x86_64')), '/Users/jemonat/opt/anaconda3/envs/my-rdkit-env/lib/libssl.1.1.dylib' (mach-o file, but is an incompatible architecture (have 'arm64', need 'x86_64')), '/System/Volumes/Preboot/Cryptexes/OS/Users/jemonat/opt/anaconda3/envs/my-rdkit-env/lib/libssl.1.1.dylib' (no such file), '/Users/jemonat/opt/anaconda3/envs/my-rdkit-env/lib/libssl.1.1.dylib' (mach-o file, but is an incompatible architecture (have 'arm64', need 'x86_64')), '/System/Volumes/Preboot/Cryptexes/OS/Users/jemonat/opt/anaconda3/envs/my-rdkit-env/lib/libssl.1.1.dylib' (no such file), '/Users/jemonat/opt/anaconda3/envs/my-rdkit-env/lib/python3.10/lib-dynload/../../libssl.1.1.dylib' (mach-o file, but is an incompatible architecture (have 'arm64', need 'x86_64')), '/Users/jemonat/opt/anaconda3/envs/my-rdkit-env/lib/libssl.1.1.dylib' (mach-o file, but is an incompatible architecture (have 'arm64', need 'x86_64')), '/System/Volumes/Preboot/Cryptexes/OS/Users/jemonat/opt/anaconda3/envs/my-rdkit-env/lib/libssl.1.1.dylib' (no such file), '/Users/jemonat/opt/anaconda3/envs/my-rdkit-env/bin/../lib/libssl.1.1.dylib' (mach-o file, but is an incompatible architecture (have 'arm64', need 'x86_64')), '/Users/jemonat/opt/anaconda3/envs/my-rdkit-env/lib/libssl.1.1.dylib' (mach-o file, but is an incompatible architecture (have 'arm64', need 'x86_64')), '/System/Volumes/Preboot/Cryptexes/OS/Users/jemonat/opt/anaconda3/envs/my-rdkit-env/lib/libssl.1.1.dylib' (no such file), '/Users/jemonat/opt/anaconda3/envs/my-rdkit-env/bin/../lib/libssl.1.1.dylib' (mach-o file, but is an incompatible architecture (have 'arm64', need 'x86_64')), '/System/Volumes/Preboot/Cryptexes/OS@rpath/libssl.1.1.dylib' (no such file), '/Users/jemonat/opt/anaconda3/envs/my-rdkit-env/lib/libssl.1.1.dylib' (mach-o file, but is an incompatible architecture (have 'arm64', need 'x86_64')), '/System/Volumes/Preboot/Cryptexes/OS/Users/jemonat/opt/anaconda3/envs/my-rdkit-env/lib/libssl.1.1.dylib' (no such file), '/Users/jemonat/opt/anaconda3/envs/my-rdkit-env/lib/libssl.1.1.dylib' (mach-o file, but is an incompatible architecture (have 'arm64', need 'x86_64')), '/System/Volumes/Preboot/Cryptexes/OS/Users/jemonat/opt/anaconda3/envs/my-rdkit-env/lib/libssl.1.1.dylib' (no such file), '/Users/jemonat/opt/anaconda3/envs/my-rdkit-env/lib/python3.10/lib-dynload/../../libssl.1.1.dylib' (mach-o file, but is an incompatible architecture (have 'arm64', need 'x86_64')), '/Users/jemonat/opt/anaconda3/envs/my-rdkit-env/lib/libssl.1.1.dylib' (mach-o file, but is an incompatible architecture (have 'arm64', need 'x86_64')), '/System/Volumes/Preboot/Cryptexes/OS/Users/jemonat/opt/anaconda3/envs/my-rdkit-env/lib/libssl.1.1.dylib' (no such file), '/Users/jemonat/opt/anaconda3/envs/my-rdkit-env/lib/libssl.1.1.dylib' (mach-o file, but is an incompatible architecture (have 'arm64', need 'x86_64')), '/System/Volumes/Preboot/Cryptexes/OS/Users/jemonat/opt/anaconda3/envs/my-rdkit-env/lib/libssl.1.1.dylib' (no such file), '/Users/jemonat/opt/anaconda3/envs/my-rdkit-env/lib/python3.10/lib-dynload/../../libssl.1.1.dylib' (mach-o file, but is an incompatible architecture (have 'arm64', need 'x86_64')), '/Users/jemonat/opt/anaconda3/envs/my-rdkit-env/lib/libssl.1.1.dylib' (mach-o file, but is an incompatible architecture (have 'arm64', need 'x86_64')), '/System/Volumes/Preboot/Cryptexes/OS/Users/jemonat/opt/anaconda3/envs/my-rdkit-env/lib/libssl.1.1.dylib' (no such file), '/Users/jemonat/opt/anaconda3/envs/my-rdkit-env/bin/../lib/libssl.1.1.dylib' (mach-o file, but is an incompatible architecture (have 'arm64', need 'x86_64')), '/Users/jemonat/opt/anaconda3/envs/my-rdkit-env/lib/libssl.1.1.dylib' (mach-o file, but is an incompatible architecture (have 'arm64', need 'x86_64')), '/System/Volumes/Preboot/Cryptexes/OS/Users/jemonat/opt/anaconda3/envs/my-rdkit-env/lib/libssl.1.1.dylib' (no such file), '/Users/jemonat/opt/anaconda3/envs/my-rdkit-env/bin/../lib/libssl.1.1.dylib' (mach-o file, but is an incompatible architecture (have 'arm64', need 'x86_64')), '/usr/local/lib/libssl.1.1.dylib' (no such file), '/usr/lib/libssl.1.1.dylib' (no such file, not in dyld cache). \n",
      "\u001b[1;31mView Jupyter <a href='command:jupyter.viewOutput'>log</a> for further details."
     ]
    }
   ],
   "source": [
    "fig = plt.figure(figsize=(10,5))\n",
    "plt.plot(x, y)\n",
    "plt.ylim(-1, 5)\n",
    "ax = plt.axes([0.6, 0.47, 0.38, 0.38], frameon=True)\n",
    "ax.imshow(im)\n",
    "ax.axis('off')\n",
    "plt.show()"
   ]
  },
  {
   "attachments": {},
   "cell_type": "markdown",
   "metadata": {},
   "source": [
    "## [Bonds and Bonding](https://www.rdkit.org/docs/Cookbook.html#bonds-and-bonding)"
   ]
  },
  {
   "attachments": {},
   "cell_type": "markdown",
   "metadata": {},
   "source": [
    "### Hybridization Type and Count"
   ]
  },
  {
   "cell_type": "code",
   "execution_count": null,
   "metadata": {},
   "outputs": [
    {
     "ename": "",
     "evalue": "",
     "output_type": "error",
     "traceback": [
      "\u001b[1;31mFailed to start the Kernel. \n",
      "\u001b[1;31mJupyter server crashed. Unable to connect. \n",
      "\u001b[1;31mError code from Jupyter: 1\n",
      "\u001b[1;31mTraceback (most recent call last):\n",
      "\u001b[1;31m  File \"/Users/jemonat/opt/anaconda3/envs/my-rdkit-env/bin/jupyter-notebook\", line 7, in <module>\n",
      "\u001b[1;31m\n",
      "\u001b[1;31m    from notebook.notebookapp import main\n",
      "\u001b[1;31m  File \"/Users/jemonat/opt/anaconda3/envs/my-rdkit-env/lib/python3.10/site-packages/notebook/notebookapp.py\", line 59, in <module>\n",
      "\u001b[1;31m\n",
      "\u001b[1;31m    from tornado import httpserver\n",
      "\u001b[1;31m  File \"/Users/jemonat/opt/anaconda3/envs/my-rdkit-env/lib/python3.10/site-packages/tornado/httpserver.py\", line 29, in <module>\n",
      "\u001b[1;31m\n",
      "\u001b[1;31m    import ssl\n",
      "\u001b[1;31m  File \"/Users/jemonat/opt/anaconda3/envs/my-rdkit-env/lib/python3.10/ssl.py\", line 98, in <module>\n",
      "\u001b[1;31m\n",
      "\u001b[1;31m    import _ssl             # if we can't import it, let the error propagate\n",
      "\u001b[1;31mImportError: dlopen(/Users/jemonat/opt/anaconda3/envs/my-rdkit-env/lib/python3.10/lib-dynload/_ssl.cpython-310-darwin.so, 0x0002): Library not loaded: @rpath/libssl.1.1.dylib\n",
      "\u001b[1;31m  Referenced from: <9EDE67EB-4BB4-3203-9312-EEF3934CF29C> /Users/jemonat/opt/anaconda3/envs/my-rdkit-env/lib/python3.10/lib-dynload/_ssl.cpython-310-darwin.so\n",
      "\u001b[1;31m  Reason: tried: '/Users/jemonat/opt/anaconda3/envs/my-rdkit-env/lib/libssl.1.1.dylib' (mach-o file, but is an incompatible architecture (have 'arm64', need 'x86_64')), '/System/Volumes/Preboot/Cryptexes/OS/Users/jemonat/opt/anaconda3/envs/my-rdkit-env/lib/libssl.1.1.dylib' (no such file), '/Users/jemonat/opt/anaconda3/envs/my-rdkit-env/lib/libssl.1.1.dylib' (mach-o file, but is an incompatible architecture (have 'arm64', need 'x86_64')), '/System/Volumes/Preboot/Cryptexes/OS/Users/jemonat/opt/anaconda3/envs/my-rdkit-env/lib/libssl.1.1.dylib' (no such file), '/Users/jemonat/opt/anaconda3/envs/my-rdkit-env/lib/python3.10/lib-dynload/../../libssl.1.1.dylib' (mach-o file, but is an incompatible architecture (have 'arm64', need 'x86_64')), '/Users/jemonat/opt/anaconda3/envs/my-rdkit-env/lib/libssl.1.1.dylib' (mach-o file, but is an incompatible architecture (have 'arm64', need 'x86_64')), '/System/Volumes/Preboot/Cryptexes/OS/Users/jemonat/opt/anaconda3/envs/my-rdkit-env/lib/libssl.1.1.dylib' (no such file), '/Users/jemonat/opt/anaconda3/envs/my-rdkit-env/lib/libssl.1.1.dylib' (mach-o file, but is an incompatible architecture (have 'arm64', need 'x86_64')), '/System/Volumes/Preboot/Cryptexes/OS/Users/jemonat/opt/anaconda3/envs/my-rdkit-env/lib/libssl.1.1.dylib' (no such file), '/Users/jemonat/opt/anaconda3/envs/my-rdkit-env/lib/python3.10/lib-dynload/../../libssl.1.1.dylib' (mach-o file, but is an incompatible architecture (have 'arm64', need 'x86_64')), '/Users/jemonat/opt/anaconda3/envs/my-rdkit-env/lib/libssl.1.1.dylib' (mach-o file, but is an incompatible architecture (have 'arm64', need 'x86_64')), '/System/Volumes/Preboot/Cryptexes/OS/Users/jemonat/opt/anaconda3/envs/my-rdkit-env/lib/libssl.1.1.dylib' (no such file), '/Users/jemonat/opt/anaconda3/envs/my-rdkit-env/bin/../lib/libssl.1.1.dylib' (mach-o file, but is an incompatible architecture (have 'arm64', need 'x86_64')), '/Users/jemonat/opt/anaconda3/envs/my-rdkit-env/lib/libssl.1.1.dylib' (mach-o file, but is an incompatible architecture (have 'arm64', need 'x86_64')), '/System/Volumes/Preboot/Cryptexes/OS/Users/jemonat/opt/anaconda3/envs/my-rdkit-env/lib/libssl.1.1.dylib' (no such file), '/Users/jemonat/opt/anaconda3/envs/my-rdkit-env/bin/../lib/libssl.1.1.dylib' (mach-o file, but is an incompatible architecture (have 'arm64', need 'x86_64')), '/System/Volumes/Preboot/Cryptexes/OS@rpath/libssl.1.1.dylib' (no such file), '/Users/jemonat/opt/anaconda3/envs/my-rdkit-env/lib/libssl.1.1.dylib' (mach-o file, but is an incompatible architecture (have 'arm64', need 'x86_64')), '/System/Volumes/Preboot/Cryptexes/OS/Users/jemonat/opt/anaconda3/envs/my-rdkit-env/lib/libssl.1.1.dylib' (no such file), '/Users/jemonat/opt/anaconda3/envs/my-rdkit-env/lib/libssl.1.1.dylib' (mach-o file, but is an incompatible architecture (have 'arm64', need 'x86_64')), '/System/Volumes/Preboot/Cryptexes/OS/Users/jemonat/opt/anaconda3/envs/my-rdkit-env/lib/libssl.1.1.dylib' (no such file), '/Users/jemonat/opt/anaconda3/envs/my-rdkit-env/lib/python3.10/lib-dynload/../../libssl.1.1.dylib' (mach-o file, but is an incompatible architecture (have 'arm64', need 'x86_64')), '/Users/jemonat/opt/anaconda3/envs/my-rdkit-env/lib/libssl.1.1.dylib' (mach-o file, but is an incompatible architecture (have 'arm64', need 'x86_64')), '/System/Volumes/Preboot/Cryptexes/OS/Users/jemonat/opt/anaconda3/envs/my-rdkit-env/lib/libssl.1.1.dylib' (no such file), '/Users/jemonat/opt/anaconda3/envs/my-rdkit-env/lib/libssl.1.1.dylib' (mach-o file, but is an incompatible architecture (have 'arm64', need 'x86_64')), '/System/Volumes/Preboot/Cryptexes/OS/Users/jemonat/opt/anaconda3/envs/my-rdkit-env/lib/libssl.1.1.dylib' (no such file), '/Users/jemonat/opt/anaconda3/envs/my-rdkit-env/lib/python3.10/lib-dynload/../../libssl.1.1.dylib' (mach-o file, but is an incompatible architecture (have 'arm64', need 'x86_64')), '/Users/jemonat/opt/anaconda3/envs/my-rdkit-env/lib/libssl.1.1.dylib' (mach-o file, but is an incompatible architecture (have 'arm64', need 'x86_64')), '/System/Volumes/Preboot/Cryptexes/OS/Users/jemonat/opt/anaconda3/envs/my-rdkit-env/lib/libssl.1.1.dylib' (no such file), '/Users/jemonat/opt/anaconda3/envs/my-rdkit-env/bin/../lib/libssl.1.1.dylib' (mach-o file, but is an incompatible architecture (have 'arm64', need 'x86_64')), '/Users/jemonat/opt/anaconda3/envs/my-rdkit-env/lib/libssl.1.1.dylib' (mach-o file, but is an incompatible architecture (have 'arm64', need 'x86_64')), '/System/Volumes/Preboot/Cryptexes/OS/Users/jemonat/opt/anaconda3/envs/my-rdkit-env/lib/libssl.1.1.dylib' (no such file), '/Users/jemonat/opt/anaconda3/envs/my-rdkit-env/bin/../lib/libssl.1.1.dylib' (mach-o file, but is an incompatible architecture (have 'arm64', need 'x86_64')), '/usr/local/lib/libssl.1.1.dylib' (no such file), '/usr/lib/libssl.1.1.dylib' (no such file, not in dyld cache). \n",
      "\u001b[1;31mView Jupyter <a href='command:jupyter.viewOutput'>log</a> for further details."
     ]
    }
   ],
   "source": [
    "from rdkit import Chem\n",
    "m = Chem.MolFromSmiles(\"CN1C=NC2=C1C(=O)N(C(=O)N2C)C\")\n",
    "for atom in m.GetAtoms():\n",
    "    print(atom.GetIdx(), atom.GetHybridization())"
   ]
  },
  {
   "cell_type": "code",
   "execution_count": null,
   "metadata": {},
   "outputs": [
    {
     "ename": "",
     "evalue": "",
     "output_type": "error",
     "traceback": [
      "\u001b[1;31mFailed to start the Kernel. \n",
      "\u001b[1;31mJupyter server crashed. Unable to connect. \n",
      "\u001b[1;31mError code from Jupyter: 1\n",
      "\u001b[1;31mTraceback (most recent call last):\n",
      "\u001b[1;31m  File \"/Users/jemonat/opt/anaconda3/envs/my-rdkit-env/bin/jupyter-notebook\", line 7, in <module>\n",
      "\u001b[1;31m\n",
      "\u001b[1;31m    from notebook.notebookapp import main\n",
      "\u001b[1;31m  File \"/Users/jemonat/opt/anaconda3/envs/my-rdkit-env/lib/python3.10/site-packages/notebook/notebookapp.py\", line 59, in <module>\n",
      "\u001b[1;31m\n",
      "\u001b[1;31m    from tornado import httpserver\n",
      "\u001b[1;31m  File \"/Users/jemonat/opt/anaconda3/envs/my-rdkit-env/lib/python3.10/site-packages/tornado/httpserver.py\", line 29, in <module>\n",
      "\u001b[1;31m\n",
      "\u001b[1;31m    import ssl\n",
      "\u001b[1;31m  File \"/Users/jemonat/opt/anaconda3/envs/my-rdkit-env/lib/python3.10/ssl.py\", line 98, in <module>\n",
      "\u001b[1;31m\n",
      "\u001b[1;31m    import _ssl             # if we can't import it, let the error propagate\n",
      "\u001b[1;31mImportError: dlopen(/Users/jemonat/opt/anaconda3/envs/my-rdkit-env/lib/python3.10/lib-dynload/_ssl.cpython-310-darwin.so, 0x0002): Library not loaded: @rpath/libssl.1.1.dylib\n",
      "\u001b[1;31m  Referenced from: <9EDE67EB-4BB4-3203-9312-EEF3934CF29C> /Users/jemonat/opt/anaconda3/envs/my-rdkit-env/lib/python3.10/lib-dynload/_ssl.cpython-310-darwin.so\n",
      "\u001b[1;31m  Reason: tried: '/Users/jemonat/opt/anaconda3/envs/my-rdkit-env/lib/libssl.1.1.dylib' (mach-o file, but is an incompatible architecture (have 'arm64', need 'x86_64')), '/System/Volumes/Preboot/Cryptexes/OS/Users/jemonat/opt/anaconda3/envs/my-rdkit-env/lib/libssl.1.1.dylib' (no such file), '/Users/jemonat/opt/anaconda3/envs/my-rdkit-env/lib/libssl.1.1.dylib' (mach-o file, but is an incompatible architecture (have 'arm64', need 'x86_64')), '/System/Volumes/Preboot/Cryptexes/OS/Users/jemonat/opt/anaconda3/envs/my-rdkit-env/lib/libssl.1.1.dylib' (no such file), '/Users/jemonat/opt/anaconda3/envs/my-rdkit-env/lib/python3.10/lib-dynload/../../libssl.1.1.dylib' (mach-o file, but is an incompatible architecture (have 'arm64', need 'x86_64')), '/Users/jemonat/opt/anaconda3/envs/my-rdkit-env/lib/libssl.1.1.dylib' (mach-o file, but is an incompatible architecture (have 'arm64', need 'x86_64')), '/System/Volumes/Preboot/Cryptexes/OS/Users/jemonat/opt/anaconda3/envs/my-rdkit-env/lib/libssl.1.1.dylib' (no such file), '/Users/jemonat/opt/anaconda3/envs/my-rdkit-env/lib/libssl.1.1.dylib' (mach-o file, but is an incompatible architecture (have 'arm64', need 'x86_64')), '/System/Volumes/Preboot/Cryptexes/OS/Users/jemonat/opt/anaconda3/envs/my-rdkit-env/lib/libssl.1.1.dylib' (no such file), '/Users/jemonat/opt/anaconda3/envs/my-rdkit-env/lib/python3.10/lib-dynload/../../libssl.1.1.dylib' (mach-o file, but is an incompatible architecture (have 'arm64', need 'x86_64')), '/Users/jemonat/opt/anaconda3/envs/my-rdkit-env/lib/libssl.1.1.dylib' (mach-o file, but is an incompatible architecture (have 'arm64', need 'x86_64')), '/System/Volumes/Preboot/Cryptexes/OS/Users/jemonat/opt/anaconda3/envs/my-rdkit-env/lib/libssl.1.1.dylib' (no such file), '/Users/jemonat/opt/anaconda3/envs/my-rdkit-env/bin/../lib/libssl.1.1.dylib' (mach-o file, but is an incompatible architecture (have 'arm64', need 'x86_64')), '/Users/jemonat/opt/anaconda3/envs/my-rdkit-env/lib/libssl.1.1.dylib' (mach-o file, but is an incompatible architecture (have 'arm64', need 'x86_64')), '/System/Volumes/Preboot/Cryptexes/OS/Users/jemonat/opt/anaconda3/envs/my-rdkit-env/lib/libssl.1.1.dylib' (no such file), '/Users/jemonat/opt/anaconda3/envs/my-rdkit-env/bin/../lib/libssl.1.1.dylib' (mach-o file, but is an incompatible architecture (have 'arm64', need 'x86_64')), '/System/Volumes/Preboot/Cryptexes/OS@rpath/libssl.1.1.dylib' (no such file), '/Users/jemonat/opt/anaconda3/envs/my-rdkit-env/lib/libssl.1.1.dylib' (mach-o file, but is an incompatible architecture (have 'arm64', need 'x86_64')), '/System/Volumes/Preboot/Cryptexes/OS/Users/jemonat/opt/anaconda3/envs/my-rdkit-env/lib/libssl.1.1.dylib' (no such file), '/Users/jemonat/opt/anaconda3/envs/my-rdkit-env/lib/libssl.1.1.dylib' (mach-o file, but is an incompatible architecture (have 'arm64', need 'x86_64')), '/System/Volumes/Preboot/Cryptexes/OS/Users/jemonat/opt/anaconda3/envs/my-rdkit-env/lib/libssl.1.1.dylib' (no such file), '/Users/jemonat/opt/anaconda3/envs/my-rdkit-env/lib/python3.10/lib-dynload/../../libssl.1.1.dylib' (mach-o file, but is an incompatible architecture (have 'arm64', need 'x86_64')), '/Users/jemonat/opt/anaconda3/envs/my-rdkit-env/lib/libssl.1.1.dylib' (mach-o file, but is an incompatible architecture (have 'arm64', need 'x86_64')), '/System/Volumes/Preboot/Cryptexes/OS/Users/jemonat/opt/anaconda3/envs/my-rdkit-env/lib/libssl.1.1.dylib' (no such file), '/Users/jemonat/opt/anaconda3/envs/my-rdkit-env/lib/libssl.1.1.dylib' (mach-o file, but is an incompatible architecture (have 'arm64', need 'x86_64')), '/System/Volumes/Preboot/Cryptexes/OS/Users/jemonat/opt/anaconda3/envs/my-rdkit-env/lib/libssl.1.1.dylib' (no such file), '/Users/jemonat/opt/anaconda3/envs/my-rdkit-env/lib/python3.10/lib-dynload/../../libssl.1.1.dylib' (mach-o file, but is an incompatible architecture (have 'arm64', need 'x86_64')), '/Users/jemonat/opt/anaconda3/envs/my-rdkit-env/lib/libssl.1.1.dylib' (mach-o file, but is an incompatible architecture (have 'arm64', need 'x86_64')), '/System/Volumes/Preboot/Cryptexes/OS/Users/jemonat/opt/anaconda3/envs/my-rdkit-env/lib/libssl.1.1.dylib' (no such file), '/Users/jemonat/opt/anaconda3/envs/my-rdkit-env/bin/../lib/libssl.1.1.dylib' (mach-o file, but is an incompatible architecture (have 'arm64', need 'x86_64')), '/Users/jemonat/opt/anaconda3/envs/my-rdkit-env/lib/libssl.1.1.dylib' (mach-o file, but is an incompatible architecture (have 'arm64', need 'x86_64')), '/System/Volumes/Preboot/Cryptexes/OS/Users/jemonat/opt/anaconda3/envs/my-rdkit-env/lib/libssl.1.1.dylib' (no such file), '/Users/jemonat/opt/anaconda3/envs/my-rdkit-env/bin/../lib/libssl.1.1.dylib' (mach-o file, but is an incompatible architecture (have 'arm64', need 'x86_64')), '/usr/local/lib/libssl.1.1.dylib' (no such file), '/usr/lib/libssl.1.1.dylib' (no such file, not in dyld cache). \n",
      "\u001b[1;31mView Jupyter <a href='command:jupyter.viewOutput'>log</a> for further details."
     ]
    }
   ],
   "source": [
    "# Count hybridization type\n",
    "print(sum((atom.GetHybridization() == Chem.HybridizationType.SP3) for atom in m.GetAtoms()))"
   ]
  },
  {
   "cell_type": "code",
   "execution_count": null,
   "metadata": {},
   "outputs": [
    {
     "ename": "",
     "evalue": "",
     "output_type": "error",
     "traceback": [
      "\u001b[1;31mFailed to start the Kernel. \n",
      "\u001b[1;31mJupyter server crashed. Unable to connect. \n",
      "\u001b[1;31mError code from Jupyter: 1\n",
      "\u001b[1;31mTraceback (most recent call last):\n",
      "\u001b[1;31m  File \"/Users/jemonat/opt/anaconda3/envs/my-rdkit-env/bin/jupyter-notebook\", line 7, in <module>\n",
      "\u001b[1;31m\n",
      "\u001b[1;31m    from notebook.notebookapp import main\n",
      "\u001b[1;31m  File \"/Users/jemonat/opt/anaconda3/envs/my-rdkit-env/lib/python3.10/site-packages/notebook/notebookapp.py\", line 59, in <module>\n",
      "\u001b[1;31m\n",
      "\u001b[1;31m    from tornado import httpserver\n",
      "\u001b[1;31m  File \"/Users/jemonat/opt/anaconda3/envs/my-rdkit-env/lib/python3.10/site-packages/tornado/httpserver.py\", line 29, in <module>\n",
      "\u001b[1;31m\n",
      "\u001b[1;31m    import ssl\n",
      "\u001b[1;31m  File \"/Users/jemonat/opt/anaconda3/envs/my-rdkit-env/lib/python3.10/ssl.py\", line 98, in <module>\n",
      "\u001b[1;31m\n",
      "\u001b[1;31m    import _ssl             # if we can't import it, let the error propagate\n",
      "\u001b[1;31mImportError: dlopen(/Users/jemonat/opt/anaconda3/envs/my-rdkit-env/lib/python3.10/lib-dynload/_ssl.cpython-310-darwin.so, 0x0002): Library not loaded: @rpath/libssl.1.1.dylib\n",
      "\u001b[1;31m  Referenced from: <9EDE67EB-4BB4-3203-9312-EEF3934CF29C> /Users/jemonat/opt/anaconda3/envs/my-rdkit-env/lib/python3.10/lib-dynload/_ssl.cpython-310-darwin.so\n",
      "\u001b[1;31m  Reason: tried: '/Users/jemonat/opt/anaconda3/envs/my-rdkit-env/lib/libssl.1.1.dylib' (mach-o file, but is an incompatible architecture (have 'arm64', need 'x86_64')), '/System/Volumes/Preboot/Cryptexes/OS/Users/jemonat/opt/anaconda3/envs/my-rdkit-env/lib/libssl.1.1.dylib' (no such file), '/Users/jemonat/opt/anaconda3/envs/my-rdkit-env/lib/libssl.1.1.dylib' (mach-o file, but is an incompatible architecture (have 'arm64', need 'x86_64')), '/System/Volumes/Preboot/Cryptexes/OS/Users/jemonat/opt/anaconda3/envs/my-rdkit-env/lib/libssl.1.1.dylib' (no such file), '/Users/jemonat/opt/anaconda3/envs/my-rdkit-env/lib/python3.10/lib-dynload/../../libssl.1.1.dylib' (mach-o file, but is an incompatible architecture (have 'arm64', need 'x86_64')), '/Users/jemonat/opt/anaconda3/envs/my-rdkit-env/lib/libssl.1.1.dylib' (mach-o file, but is an incompatible architecture (have 'arm64', need 'x86_64')), '/System/Volumes/Preboot/Cryptexes/OS/Users/jemonat/opt/anaconda3/envs/my-rdkit-env/lib/libssl.1.1.dylib' (no such file), '/Users/jemonat/opt/anaconda3/envs/my-rdkit-env/lib/libssl.1.1.dylib' (mach-o file, but is an incompatible architecture (have 'arm64', need 'x86_64')), '/System/Volumes/Preboot/Cryptexes/OS/Users/jemonat/opt/anaconda3/envs/my-rdkit-env/lib/libssl.1.1.dylib' (no such file), '/Users/jemonat/opt/anaconda3/envs/my-rdkit-env/lib/python3.10/lib-dynload/../../libssl.1.1.dylib' (mach-o file, but is an incompatible architecture (have 'arm64', need 'x86_64')), '/Users/jemonat/opt/anaconda3/envs/my-rdkit-env/lib/libssl.1.1.dylib' (mach-o file, but is an incompatible architecture (have 'arm64', need 'x86_64')), '/System/Volumes/Preboot/Cryptexes/OS/Users/jemonat/opt/anaconda3/envs/my-rdkit-env/lib/libssl.1.1.dylib' (no such file), '/Users/jemonat/opt/anaconda3/envs/my-rdkit-env/bin/../lib/libssl.1.1.dylib' (mach-o file, but is an incompatible architecture (have 'arm64', need 'x86_64')), '/Users/jemonat/opt/anaconda3/envs/my-rdkit-env/lib/libssl.1.1.dylib' (mach-o file, but is an incompatible architecture (have 'arm64', need 'x86_64')), '/System/Volumes/Preboot/Cryptexes/OS/Users/jemonat/opt/anaconda3/envs/my-rdkit-env/lib/libssl.1.1.dylib' (no such file), '/Users/jemonat/opt/anaconda3/envs/my-rdkit-env/bin/../lib/libssl.1.1.dylib' (mach-o file, but is an incompatible architecture (have 'arm64', need 'x86_64')), '/System/Volumes/Preboot/Cryptexes/OS@rpath/libssl.1.1.dylib' (no such file), '/Users/jemonat/opt/anaconda3/envs/my-rdkit-env/lib/libssl.1.1.dylib' (mach-o file, but is an incompatible architecture (have 'arm64', need 'x86_64')), '/System/Volumes/Preboot/Cryptexes/OS/Users/jemonat/opt/anaconda3/envs/my-rdkit-env/lib/libssl.1.1.dylib' (no such file), '/Users/jemonat/opt/anaconda3/envs/my-rdkit-env/lib/libssl.1.1.dylib' (mach-o file, but is an incompatible architecture (have 'arm64', need 'x86_64')), '/System/Volumes/Preboot/Cryptexes/OS/Users/jemonat/opt/anaconda3/envs/my-rdkit-env/lib/libssl.1.1.dylib' (no such file), '/Users/jemonat/opt/anaconda3/envs/my-rdkit-env/lib/python3.10/lib-dynload/../../libssl.1.1.dylib' (mach-o file, but is an incompatible architecture (have 'arm64', need 'x86_64')), '/Users/jemonat/opt/anaconda3/envs/my-rdkit-env/lib/libssl.1.1.dylib' (mach-o file, but is an incompatible architecture (have 'arm64', need 'x86_64')), '/System/Volumes/Preboot/Cryptexes/OS/Users/jemonat/opt/anaconda3/envs/my-rdkit-env/lib/libssl.1.1.dylib' (no such file), '/Users/jemonat/opt/anaconda3/envs/my-rdkit-env/lib/libssl.1.1.dylib' (mach-o file, but is an incompatible architecture (have 'arm64', need 'x86_64')), '/System/Volumes/Preboot/Cryptexes/OS/Users/jemonat/opt/anaconda3/envs/my-rdkit-env/lib/libssl.1.1.dylib' (no such file), '/Users/jemonat/opt/anaconda3/envs/my-rdkit-env/lib/python3.10/lib-dynload/../../libssl.1.1.dylib' (mach-o file, but is an incompatible architecture (have 'arm64', need 'x86_64')), '/Users/jemonat/opt/anaconda3/envs/my-rdkit-env/lib/libssl.1.1.dylib' (mach-o file, but is an incompatible architecture (have 'arm64', need 'x86_64')), '/System/Volumes/Preboot/Cryptexes/OS/Users/jemonat/opt/anaconda3/envs/my-rdkit-env/lib/libssl.1.1.dylib' (no such file), '/Users/jemonat/opt/anaconda3/envs/my-rdkit-env/bin/../lib/libssl.1.1.dylib' (mach-o file, but is an incompatible architecture (have 'arm64', need 'x86_64')), '/Users/jemonat/opt/anaconda3/envs/my-rdkit-env/lib/libssl.1.1.dylib' (mach-o file, but is an incompatible architecture (have 'arm64', need 'x86_64')), '/System/Volumes/Preboot/Cryptexes/OS/Users/jemonat/opt/anaconda3/envs/my-rdkit-env/lib/libssl.1.1.dylib' (no such file), '/Users/jemonat/opt/anaconda3/envs/my-rdkit-env/bin/../lib/libssl.1.1.dylib' (mach-o file, but is an incompatible architecture (have 'arm64', need 'x86_64')), '/usr/local/lib/libssl.1.1.dylib' (no such file), '/usr/lib/libssl.1.1.dylib' (no such file, not in dyld cache). \n",
      "\u001b[1;31mView Jupyter <a href='command:jupyter.viewOutput'>log</a> for further details."
     ]
    }
   ],
   "source": [
    "Chem.rdchem.HybridizationType"
   ]
  },
  {
   "cell_type": "code",
   "execution_count": null,
   "metadata": {},
   "outputs": [
    {
     "ename": "",
     "evalue": "",
     "output_type": "error",
     "traceback": [
      "\u001b[1;31mFailed to start the Kernel. \n",
      "\u001b[1;31mJupyter server crashed. Unable to connect. \n",
      "\u001b[1;31mError code from Jupyter: 1\n",
      "\u001b[1;31mTraceback (most recent call last):\n",
      "\u001b[1;31m  File \"/Users/jemonat/opt/anaconda3/envs/my-rdkit-env/bin/jupyter-notebook\", line 7, in <module>\n",
      "\u001b[1;31m\n",
      "\u001b[1;31m    from notebook.notebookapp import main\n",
      "\u001b[1;31m  File \"/Users/jemonat/opt/anaconda3/envs/my-rdkit-env/lib/python3.10/site-packages/notebook/notebookapp.py\", line 59, in <module>\n",
      "\u001b[1;31m\n",
      "\u001b[1;31m    from tornado import httpserver\n",
      "\u001b[1;31m  File \"/Users/jemonat/opt/anaconda3/envs/my-rdkit-env/lib/python3.10/site-packages/tornado/httpserver.py\", line 29, in <module>\n",
      "\u001b[1;31m\n",
      "\u001b[1;31m    import ssl\n",
      "\u001b[1;31m  File \"/Users/jemonat/opt/anaconda3/envs/my-rdkit-env/lib/python3.10/ssl.py\", line 98, in <module>\n",
      "\u001b[1;31m\n",
      "\u001b[1;31m    import _ssl             # if we can't import it, let the error propagate\n",
      "\u001b[1;31mImportError: dlopen(/Users/jemonat/opt/anaconda3/envs/my-rdkit-env/lib/python3.10/lib-dynload/_ssl.cpython-310-darwin.so, 0x0002): Library not loaded: @rpath/libssl.1.1.dylib\n",
      "\u001b[1;31m  Referenced from: <9EDE67EB-4BB4-3203-9312-EEF3934CF29C> /Users/jemonat/opt/anaconda3/envs/my-rdkit-env/lib/python3.10/lib-dynload/_ssl.cpython-310-darwin.so\n",
      "\u001b[1;31m  Reason: tried: '/Users/jemonat/opt/anaconda3/envs/my-rdkit-env/lib/libssl.1.1.dylib' (mach-o file, but is an incompatible architecture (have 'arm64', need 'x86_64')), '/System/Volumes/Preboot/Cryptexes/OS/Users/jemonat/opt/anaconda3/envs/my-rdkit-env/lib/libssl.1.1.dylib' (no such file), '/Users/jemonat/opt/anaconda3/envs/my-rdkit-env/lib/libssl.1.1.dylib' (mach-o file, but is an incompatible architecture (have 'arm64', need 'x86_64')), '/System/Volumes/Preboot/Cryptexes/OS/Users/jemonat/opt/anaconda3/envs/my-rdkit-env/lib/libssl.1.1.dylib' (no such file), '/Users/jemonat/opt/anaconda3/envs/my-rdkit-env/lib/python3.10/lib-dynload/../../libssl.1.1.dylib' (mach-o file, but is an incompatible architecture (have 'arm64', need 'x86_64')), '/Users/jemonat/opt/anaconda3/envs/my-rdkit-env/lib/libssl.1.1.dylib' (mach-o file, but is an incompatible architecture (have 'arm64', need 'x86_64')), '/System/Volumes/Preboot/Cryptexes/OS/Users/jemonat/opt/anaconda3/envs/my-rdkit-env/lib/libssl.1.1.dylib' (no such file), '/Users/jemonat/opt/anaconda3/envs/my-rdkit-env/lib/libssl.1.1.dylib' (mach-o file, but is an incompatible architecture (have 'arm64', need 'x86_64')), '/System/Volumes/Preboot/Cryptexes/OS/Users/jemonat/opt/anaconda3/envs/my-rdkit-env/lib/libssl.1.1.dylib' (no such file), '/Users/jemonat/opt/anaconda3/envs/my-rdkit-env/lib/python3.10/lib-dynload/../../libssl.1.1.dylib' (mach-o file, but is an incompatible architecture (have 'arm64', need 'x86_64')), '/Users/jemonat/opt/anaconda3/envs/my-rdkit-env/lib/libssl.1.1.dylib' (mach-o file, but is an incompatible architecture (have 'arm64', need 'x86_64')), '/System/Volumes/Preboot/Cryptexes/OS/Users/jemonat/opt/anaconda3/envs/my-rdkit-env/lib/libssl.1.1.dylib' (no such file), '/Users/jemonat/opt/anaconda3/envs/my-rdkit-env/bin/../lib/libssl.1.1.dylib' (mach-o file, but is an incompatible architecture (have 'arm64', need 'x86_64')), '/Users/jemonat/opt/anaconda3/envs/my-rdkit-env/lib/libssl.1.1.dylib' (mach-o file, but is an incompatible architecture (have 'arm64', need 'x86_64')), '/System/Volumes/Preboot/Cryptexes/OS/Users/jemonat/opt/anaconda3/envs/my-rdkit-env/lib/libssl.1.1.dylib' (no such file), '/Users/jemonat/opt/anaconda3/envs/my-rdkit-env/bin/../lib/libssl.1.1.dylib' (mach-o file, but is an incompatible architecture (have 'arm64', need 'x86_64')), '/System/Volumes/Preboot/Cryptexes/OS@rpath/libssl.1.1.dylib' (no such file), '/Users/jemonat/opt/anaconda3/envs/my-rdkit-env/lib/libssl.1.1.dylib' (mach-o file, but is an incompatible architecture (have 'arm64', need 'x86_64')), '/System/Volumes/Preboot/Cryptexes/OS/Users/jemonat/opt/anaconda3/envs/my-rdkit-env/lib/libssl.1.1.dylib' (no such file), '/Users/jemonat/opt/anaconda3/envs/my-rdkit-env/lib/libssl.1.1.dylib' (mach-o file, but is an incompatible architecture (have 'arm64', need 'x86_64')), '/System/Volumes/Preboot/Cryptexes/OS/Users/jemonat/opt/anaconda3/envs/my-rdkit-env/lib/libssl.1.1.dylib' (no such file), '/Users/jemonat/opt/anaconda3/envs/my-rdkit-env/lib/python3.10/lib-dynload/../../libssl.1.1.dylib' (mach-o file, but is an incompatible architecture (have 'arm64', need 'x86_64')), '/Users/jemonat/opt/anaconda3/envs/my-rdkit-env/lib/libssl.1.1.dylib' (mach-o file, but is an incompatible architecture (have 'arm64', need 'x86_64')), '/System/Volumes/Preboot/Cryptexes/OS/Users/jemonat/opt/anaconda3/envs/my-rdkit-env/lib/libssl.1.1.dylib' (no such file), '/Users/jemonat/opt/anaconda3/envs/my-rdkit-env/lib/libssl.1.1.dylib' (mach-o file, but is an incompatible architecture (have 'arm64', need 'x86_64')), '/System/Volumes/Preboot/Cryptexes/OS/Users/jemonat/opt/anaconda3/envs/my-rdkit-env/lib/libssl.1.1.dylib' (no such file), '/Users/jemonat/opt/anaconda3/envs/my-rdkit-env/lib/python3.10/lib-dynload/../../libssl.1.1.dylib' (mach-o file, but is an incompatible architecture (have 'arm64', need 'x86_64')), '/Users/jemonat/opt/anaconda3/envs/my-rdkit-env/lib/libssl.1.1.dylib' (mach-o file, but is an incompatible architecture (have 'arm64', need 'x86_64')), '/System/Volumes/Preboot/Cryptexes/OS/Users/jemonat/opt/anaconda3/envs/my-rdkit-env/lib/libssl.1.1.dylib' (no such file), '/Users/jemonat/opt/anaconda3/envs/my-rdkit-env/bin/../lib/libssl.1.1.dylib' (mach-o file, but is an incompatible architecture (have 'arm64', need 'x86_64')), '/Users/jemonat/opt/anaconda3/envs/my-rdkit-env/lib/libssl.1.1.dylib' (mach-o file, but is an incompatible architecture (have 'arm64', need 'x86_64')), '/System/Volumes/Preboot/Cryptexes/OS/Users/jemonat/opt/anaconda3/envs/my-rdkit-env/lib/libssl.1.1.dylib' (no such file), '/Users/jemonat/opt/anaconda3/envs/my-rdkit-env/bin/../lib/libssl.1.1.dylib' (mach-o file, but is an incompatible architecture (have 'arm64', need 'x86_64')), '/usr/local/lib/libssl.1.1.dylib' (no such file), '/usr/lib/libssl.1.1.dylib' (no such file, not in dyld cache). \n",
      "\u001b[1;31mView Jupyter <a href='command:jupyter.viewOutput'>log</a> for further details."
     ]
    }
   ],
   "source": [
    "Chem.rdchem.HybridizationType.values"
   ]
  },
  {
   "cell_type": "code",
   "execution_count": null,
   "metadata": {},
   "outputs": [
    {
     "ename": "",
     "evalue": "",
     "output_type": "error",
     "traceback": [
      "\u001b[1;31mFailed to start the Kernel. \n",
      "\u001b[1;31mJupyter server crashed. Unable to connect. \n",
      "\u001b[1;31mError code from Jupyter: 1\n",
      "\u001b[1;31mTraceback (most recent call last):\n",
      "\u001b[1;31m  File \"/Users/jemonat/opt/anaconda3/envs/my-rdkit-env/bin/jupyter-notebook\", line 7, in <module>\n",
      "\u001b[1;31m\n",
      "\u001b[1;31m    from notebook.notebookapp import main\n",
      "\u001b[1;31m  File \"/Users/jemonat/opt/anaconda3/envs/my-rdkit-env/lib/python3.10/site-packages/notebook/notebookapp.py\", line 59, in <module>\n",
      "\u001b[1;31m\n",
      "\u001b[1;31m    from tornado import httpserver\n",
      "\u001b[1;31m  File \"/Users/jemonat/opt/anaconda3/envs/my-rdkit-env/lib/python3.10/site-packages/tornado/httpserver.py\", line 29, in <module>\n",
      "\u001b[1;31m\n",
      "\u001b[1;31m    import ssl\n",
      "\u001b[1;31m  File \"/Users/jemonat/opt/anaconda3/envs/my-rdkit-env/lib/python3.10/ssl.py\", line 98, in <module>\n",
      "\u001b[1;31m\n",
      "\u001b[1;31m    import _ssl             # if we can't import it, let the error propagate\n",
      "\u001b[1;31mImportError: dlopen(/Users/jemonat/opt/anaconda3/envs/my-rdkit-env/lib/python3.10/lib-dynload/_ssl.cpython-310-darwin.so, 0x0002): Library not loaded: @rpath/libssl.1.1.dylib\n",
      "\u001b[1;31m  Referenced from: <9EDE67EB-4BB4-3203-9312-EEF3934CF29C> /Users/jemonat/opt/anaconda3/envs/my-rdkit-env/lib/python3.10/lib-dynload/_ssl.cpython-310-darwin.so\n",
      "\u001b[1;31m  Reason: tried: '/Users/jemonat/opt/anaconda3/envs/my-rdkit-env/lib/libssl.1.1.dylib' (mach-o file, but is an incompatible architecture (have 'arm64', need 'x86_64')), '/System/Volumes/Preboot/Cryptexes/OS/Users/jemonat/opt/anaconda3/envs/my-rdkit-env/lib/libssl.1.1.dylib' (no such file), '/Users/jemonat/opt/anaconda3/envs/my-rdkit-env/lib/libssl.1.1.dylib' (mach-o file, but is an incompatible architecture (have 'arm64', need 'x86_64')), '/System/Volumes/Preboot/Cryptexes/OS/Users/jemonat/opt/anaconda3/envs/my-rdkit-env/lib/libssl.1.1.dylib' (no such file), '/Users/jemonat/opt/anaconda3/envs/my-rdkit-env/lib/python3.10/lib-dynload/../../libssl.1.1.dylib' (mach-o file, but is an incompatible architecture (have 'arm64', need 'x86_64')), '/Users/jemonat/opt/anaconda3/envs/my-rdkit-env/lib/libssl.1.1.dylib' (mach-o file, but is an incompatible architecture (have 'arm64', need 'x86_64')), '/System/Volumes/Preboot/Cryptexes/OS/Users/jemonat/opt/anaconda3/envs/my-rdkit-env/lib/libssl.1.1.dylib' (no such file), '/Users/jemonat/opt/anaconda3/envs/my-rdkit-env/lib/libssl.1.1.dylib' (mach-o file, but is an incompatible architecture (have 'arm64', need 'x86_64')), '/System/Volumes/Preboot/Cryptexes/OS/Users/jemonat/opt/anaconda3/envs/my-rdkit-env/lib/libssl.1.1.dylib' (no such file), '/Users/jemonat/opt/anaconda3/envs/my-rdkit-env/lib/python3.10/lib-dynload/../../libssl.1.1.dylib' (mach-o file, but is an incompatible architecture (have 'arm64', need 'x86_64')), '/Users/jemonat/opt/anaconda3/envs/my-rdkit-env/lib/libssl.1.1.dylib' (mach-o file, but is an incompatible architecture (have 'arm64', need 'x86_64')), '/System/Volumes/Preboot/Cryptexes/OS/Users/jemonat/opt/anaconda3/envs/my-rdkit-env/lib/libssl.1.1.dylib' (no such file), '/Users/jemonat/opt/anaconda3/envs/my-rdkit-env/bin/../lib/libssl.1.1.dylib' (mach-o file, but is an incompatible architecture (have 'arm64', need 'x86_64')), '/Users/jemonat/opt/anaconda3/envs/my-rdkit-env/lib/libssl.1.1.dylib' (mach-o file, but is an incompatible architecture (have 'arm64', need 'x86_64')), '/System/Volumes/Preboot/Cryptexes/OS/Users/jemonat/opt/anaconda3/envs/my-rdkit-env/lib/libssl.1.1.dylib' (no such file), '/Users/jemonat/opt/anaconda3/envs/my-rdkit-env/bin/../lib/libssl.1.1.dylib' (mach-o file, but is an incompatible architecture (have 'arm64', need 'x86_64')), '/System/Volumes/Preboot/Cryptexes/OS@rpath/libssl.1.1.dylib' (no such file), '/Users/jemonat/opt/anaconda3/envs/my-rdkit-env/lib/libssl.1.1.dylib' (mach-o file, but is an incompatible architecture (have 'arm64', need 'x86_64')), '/System/Volumes/Preboot/Cryptexes/OS/Users/jemonat/opt/anaconda3/envs/my-rdkit-env/lib/libssl.1.1.dylib' (no such file), '/Users/jemonat/opt/anaconda3/envs/my-rdkit-env/lib/libssl.1.1.dylib' (mach-o file, but is an incompatible architecture (have 'arm64', need 'x86_64')), '/System/Volumes/Preboot/Cryptexes/OS/Users/jemonat/opt/anaconda3/envs/my-rdkit-env/lib/libssl.1.1.dylib' (no such file), '/Users/jemonat/opt/anaconda3/envs/my-rdkit-env/lib/python3.10/lib-dynload/../../libssl.1.1.dylib' (mach-o file, but is an incompatible architecture (have 'arm64', need 'x86_64')), '/Users/jemonat/opt/anaconda3/envs/my-rdkit-env/lib/libssl.1.1.dylib' (mach-o file, but is an incompatible architecture (have 'arm64', need 'x86_64')), '/System/Volumes/Preboot/Cryptexes/OS/Users/jemonat/opt/anaconda3/envs/my-rdkit-env/lib/libssl.1.1.dylib' (no such file), '/Users/jemonat/opt/anaconda3/envs/my-rdkit-env/lib/libssl.1.1.dylib' (mach-o file, but is an incompatible architecture (have 'arm64', need 'x86_64')), '/System/Volumes/Preboot/Cryptexes/OS/Users/jemonat/opt/anaconda3/envs/my-rdkit-env/lib/libssl.1.1.dylib' (no such file), '/Users/jemonat/opt/anaconda3/envs/my-rdkit-env/lib/python3.10/lib-dynload/../../libssl.1.1.dylib' (mach-o file, but is an incompatible architecture (have 'arm64', need 'x86_64')), '/Users/jemonat/opt/anaconda3/envs/my-rdkit-env/lib/libssl.1.1.dylib' (mach-o file, but is an incompatible architecture (have 'arm64', need 'x86_64')), '/System/Volumes/Preboot/Cryptexes/OS/Users/jemonat/opt/anaconda3/envs/my-rdkit-env/lib/libssl.1.1.dylib' (no such file), '/Users/jemonat/opt/anaconda3/envs/my-rdkit-env/bin/../lib/libssl.1.1.dylib' (mach-o file, but is an incompatible architecture (have 'arm64', need 'x86_64')), '/Users/jemonat/opt/anaconda3/envs/my-rdkit-env/lib/libssl.1.1.dylib' (mach-o file, but is an incompatible architecture (have 'arm64', need 'x86_64')), '/System/Volumes/Preboot/Cryptexes/OS/Users/jemonat/opt/anaconda3/envs/my-rdkit-env/lib/libssl.1.1.dylib' (no such file), '/Users/jemonat/opt/anaconda3/envs/my-rdkit-env/bin/../lib/libssl.1.1.dylib' (mach-o file, but is an incompatible architecture (have 'arm64', need 'x86_64')), '/usr/local/lib/libssl.1.1.dylib' (no such file), '/usr/lib/libssl.1.1.dylib' (no such file, not in dyld cache). \n",
      "\u001b[1;31mView Jupyter <a href='command:jupyter.viewOutput'>log</a> for further details."
     ]
    }
   ],
   "source": [
    "Chem.rdchem.HybridizationType.names"
   ]
  },
  {
   "cell_type": "code",
   "execution_count": null,
   "metadata": {},
   "outputs": [
    {
     "ename": "",
     "evalue": "",
     "output_type": "error",
     "traceback": [
      "\u001b[1;31mFailed to start the Kernel. \n",
      "\u001b[1;31mJupyter server crashed. Unable to connect. \n",
      "\u001b[1;31mError code from Jupyter: 1\n",
      "\u001b[1;31mTraceback (most recent call last):\n",
      "\u001b[1;31m  File \"/Users/jemonat/opt/anaconda3/envs/my-rdkit-env/bin/jupyter-notebook\", line 7, in <module>\n",
      "\u001b[1;31m\n",
      "\u001b[1;31m    from notebook.notebookapp import main\n",
      "\u001b[1;31m  File \"/Users/jemonat/opt/anaconda3/envs/my-rdkit-env/lib/python3.10/site-packages/notebook/notebookapp.py\", line 59, in <module>\n",
      "\u001b[1;31m\n",
      "\u001b[1;31m    from tornado import httpserver\n",
      "\u001b[1;31m  File \"/Users/jemonat/opt/anaconda3/envs/my-rdkit-env/lib/python3.10/site-packages/tornado/httpserver.py\", line 29, in <module>\n",
      "\u001b[1;31m\n",
      "\u001b[1;31m    import ssl\n",
      "\u001b[1;31m  File \"/Users/jemonat/opt/anaconda3/envs/my-rdkit-env/lib/python3.10/ssl.py\", line 98, in <module>\n",
      "\u001b[1;31m\n",
      "\u001b[1;31m    import _ssl             # if we can't import it, let the error propagate\n",
      "\u001b[1;31mImportError: dlopen(/Users/jemonat/opt/anaconda3/envs/my-rdkit-env/lib/python3.10/lib-dynload/_ssl.cpython-310-darwin.so, 0x0002): Library not loaded: @rpath/libssl.1.1.dylib\n",
      "\u001b[1;31m  Referenced from: <9EDE67EB-4BB4-3203-9312-EEF3934CF29C> /Users/jemonat/opt/anaconda3/envs/my-rdkit-env/lib/python3.10/lib-dynload/_ssl.cpython-310-darwin.so\n",
      "\u001b[1;31m  Reason: tried: '/Users/jemonat/opt/anaconda3/envs/my-rdkit-env/lib/libssl.1.1.dylib' (mach-o file, but is an incompatible architecture (have 'arm64', need 'x86_64')), '/System/Volumes/Preboot/Cryptexes/OS/Users/jemonat/opt/anaconda3/envs/my-rdkit-env/lib/libssl.1.1.dylib' (no such file), '/Users/jemonat/opt/anaconda3/envs/my-rdkit-env/lib/libssl.1.1.dylib' (mach-o file, but is an incompatible architecture (have 'arm64', need 'x86_64')), '/System/Volumes/Preboot/Cryptexes/OS/Users/jemonat/opt/anaconda3/envs/my-rdkit-env/lib/libssl.1.1.dylib' (no such file), '/Users/jemonat/opt/anaconda3/envs/my-rdkit-env/lib/python3.10/lib-dynload/../../libssl.1.1.dylib' (mach-o file, but is an incompatible architecture (have 'arm64', need 'x86_64')), '/Users/jemonat/opt/anaconda3/envs/my-rdkit-env/lib/libssl.1.1.dylib' (mach-o file, but is an incompatible architecture (have 'arm64', need 'x86_64')), '/System/Volumes/Preboot/Cryptexes/OS/Users/jemonat/opt/anaconda3/envs/my-rdkit-env/lib/libssl.1.1.dylib' (no such file), '/Users/jemonat/opt/anaconda3/envs/my-rdkit-env/lib/libssl.1.1.dylib' (mach-o file, but is an incompatible architecture (have 'arm64', need 'x86_64')), '/System/Volumes/Preboot/Cryptexes/OS/Users/jemonat/opt/anaconda3/envs/my-rdkit-env/lib/libssl.1.1.dylib' (no such file), '/Users/jemonat/opt/anaconda3/envs/my-rdkit-env/lib/python3.10/lib-dynload/../../libssl.1.1.dylib' (mach-o file, but is an incompatible architecture (have 'arm64', need 'x86_64')), '/Users/jemonat/opt/anaconda3/envs/my-rdkit-env/lib/libssl.1.1.dylib' (mach-o file, but is an incompatible architecture (have 'arm64', need 'x86_64')), '/System/Volumes/Preboot/Cryptexes/OS/Users/jemonat/opt/anaconda3/envs/my-rdkit-env/lib/libssl.1.1.dylib' (no such file), '/Users/jemonat/opt/anaconda3/envs/my-rdkit-env/bin/../lib/libssl.1.1.dylib' (mach-o file, but is an incompatible architecture (have 'arm64', need 'x86_64')), '/Users/jemonat/opt/anaconda3/envs/my-rdkit-env/lib/libssl.1.1.dylib' (mach-o file, but is an incompatible architecture (have 'arm64', need 'x86_64')), '/System/Volumes/Preboot/Cryptexes/OS/Users/jemonat/opt/anaconda3/envs/my-rdkit-env/lib/libssl.1.1.dylib' (no such file), '/Users/jemonat/opt/anaconda3/envs/my-rdkit-env/bin/../lib/libssl.1.1.dylib' (mach-o file, but is an incompatible architecture (have 'arm64', need 'x86_64')), '/System/Volumes/Preboot/Cryptexes/OS@rpath/libssl.1.1.dylib' (no such file), '/Users/jemonat/opt/anaconda3/envs/my-rdkit-env/lib/libssl.1.1.dylib' (mach-o file, but is an incompatible architecture (have 'arm64', need 'x86_64')), '/System/Volumes/Preboot/Cryptexes/OS/Users/jemonat/opt/anaconda3/envs/my-rdkit-env/lib/libssl.1.1.dylib' (no such file), '/Users/jemonat/opt/anaconda3/envs/my-rdkit-env/lib/libssl.1.1.dylib' (mach-o file, but is an incompatible architecture (have 'arm64', need 'x86_64')), '/System/Volumes/Preboot/Cryptexes/OS/Users/jemonat/opt/anaconda3/envs/my-rdkit-env/lib/libssl.1.1.dylib' (no such file), '/Users/jemonat/opt/anaconda3/envs/my-rdkit-env/lib/python3.10/lib-dynload/../../libssl.1.1.dylib' (mach-o file, but is an incompatible architecture (have 'arm64', need 'x86_64')), '/Users/jemonat/opt/anaconda3/envs/my-rdkit-env/lib/libssl.1.1.dylib' (mach-o file, but is an incompatible architecture (have 'arm64', need 'x86_64')), '/System/Volumes/Preboot/Cryptexes/OS/Users/jemonat/opt/anaconda3/envs/my-rdkit-env/lib/libssl.1.1.dylib' (no such file), '/Users/jemonat/opt/anaconda3/envs/my-rdkit-env/lib/libssl.1.1.dylib' (mach-o file, but is an incompatible architecture (have 'arm64', need 'x86_64')), '/System/Volumes/Preboot/Cryptexes/OS/Users/jemonat/opt/anaconda3/envs/my-rdkit-env/lib/libssl.1.1.dylib' (no such file), '/Users/jemonat/opt/anaconda3/envs/my-rdkit-env/lib/python3.10/lib-dynload/../../libssl.1.1.dylib' (mach-o file, but is an incompatible architecture (have 'arm64', need 'x86_64')), '/Users/jemonat/opt/anaconda3/envs/my-rdkit-env/lib/libssl.1.1.dylib' (mach-o file, but is an incompatible architecture (have 'arm64', need 'x86_64')), '/System/Volumes/Preboot/Cryptexes/OS/Users/jemonat/opt/anaconda3/envs/my-rdkit-env/lib/libssl.1.1.dylib' (no such file), '/Users/jemonat/opt/anaconda3/envs/my-rdkit-env/bin/../lib/libssl.1.1.dylib' (mach-o file, but is an incompatible architecture (have 'arm64', need 'x86_64')), '/Users/jemonat/opt/anaconda3/envs/my-rdkit-env/lib/libssl.1.1.dylib' (mach-o file, but is an incompatible architecture (have 'arm64', need 'x86_64')), '/System/Volumes/Preboot/Cryptexes/OS/Users/jemonat/opt/anaconda3/envs/my-rdkit-env/lib/libssl.1.1.dylib' (no such file), '/Users/jemonat/opt/anaconda3/envs/my-rdkit-env/bin/../lib/libssl.1.1.dylib' (mach-o file, but is an incompatible architecture (have 'arm64', need 'x86_64')), '/usr/local/lib/libssl.1.1.dylib' (no such file), '/usr/lib/libssl.1.1.dylib' (no such file, not in dyld cache). \n",
      "\u001b[1;31mView Jupyter <a href='command:jupyter.viewOutput'>log</a> for further details."
     ]
    }
   ],
   "source": [
    "# Print the count for each hybridization type\n",
    "for hybrid_type in Chem.rdchem.HybridizationType.names:\n",
    "    # Get the object for each hybridization type, e.g. rdkit.Chem.rdchem.HybridizationType.S\n",
    "    member = Chem.rdchem.HybridizationType.names[hybrid_type]\n",
    "    print(f\"{member}: {sum((atom.GetHybridization() == member) for atom in m.GetAtoms())}\")\n",
    "\n",
    "# Could print out only hybridization types with non-zero counts\n",
    "# Could create a dictionary of hybridization_type: count pairs for programmatic interrogation"
   ]
  },
  {
   "attachments": {},
   "cell_type": "markdown",
   "metadata": {},
   "source": [
    "## [Rings, Aromaticity, and Kekulization](https://www.rdkit.org/docs/Cookbook.html#rings-aromaticity-and-kekulization)"
   ]
  },
  {
   "attachments": {},
   "cell_type": "markdown",
   "metadata": {},
   "source": [
    "### [Count Ring Systems](https://www.rdkit.org/docs/Cookbook.html#count-ring-systems)"
   ]
  },
  {
   "cell_type": "code",
   "execution_count": null,
   "metadata": {},
   "outputs": [
    {
     "ename": "",
     "evalue": "",
     "output_type": "error",
     "traceback": [
      "\u001b[1;31mFailed to start the Kernel. \n",
      "\u001b[1;31mJupyter server crashed. Unable to connect. \n",
      "\u001b[1;31mError code from Jupyter: 1\n",
      "\u001b[1;31mTraceback (most recent call last):\n",
      "\u001b[1;31m  File \"/Users/jemonat/opt/anaconda3/envs/my-rdkit-env/bin/jupyter-notebook\", line 7, in <module>\n",
      "\u001b[1;31m\n",
      "\u001b[1;31m    from notebook.notebookapp import main\n",
      "\u001b[1;31m  File \"/Users/jemonat/opt/anaconda3/envs/my-rdkit-env/lib/python3.10/site-packages/notebook/notebookapp.py\", line 59, in <module>\n",
      "\u001b[1;31m\n",
      "\u001b[1;31m    from tornado import httpserver\n",
      "\u001b[1;31m  File \"/Users/jemonat/opt/anaconda3/envs/my-rdkit-env/lib/python3.10/site-packages/tornado/httpserver.py\", line 29, in <module>\n",
      "\u001b[1;31m\n",
      "\u001b[1;31m    import ssl\n",
      "\u001b[1;31m  File \"/Users/jemonat/opt/anaconda3/envs/my-rdkit-env/lib/python3.10/ssl.py\", line 98, in <module>\n",
      "\u001b[1;31m\n",
      "\u001b[1;31m    import _ssl             # if we can't import it, let the error propagate\n",
      "\u001b[1;31mImportError: dlopen(/Users/jemonat/opt/anaconda3/envs/my-rdkit-env/lib/python3.10/lib-dynload/_ssl.cpython-310-darwin.so, 0x0002): Library not loaded: @rpath/libssl.1.1.dylib\n",
      "\u001b[1;31m  Referenced from: <9EDE67EB-4BB4-3203-9312-EEF3934CF29C> /Users/jemonat/opt/anaconda3/envs/my-rdkit-env/lib/python3.10/lib-dynload/_ssl.cpython-310-darwin.so\n",
      "\u001b[1;31m  Reason: tried: '/Users/jemonat/opt/anaconda3/envs/my-rdkit-env/lib/libssl.1.1.dylib' (mach-o file, but is an incompatible architecture (have 'arm64', need 'x86_64')), '/System/Volumes/Preboot/Cryptexes/OS/Users/jemonat/opt/anaconda3/envs/my-rdkit-env/lib/libssl.1.1.dylib' (no such file), '/Users/jemonat/opt/anaconda3/envs/my-rdkit-env/lib/libssl.1.1.dylib' (mach-o file, but is an incompatible architecture (have 'arm64', need 'x86_64')), '/System/Volumes/Preboot/Cryptexes/OS/Users/jemonat/opt/anaconda3/envs/my-rdkit-env/lib/libssl.1.1.dylib' (no such file), '/Users/jemonat/opt/anaconda3/envs/my-rdkit-env/lib/python3.10/lib-dynload/../../libssl.1.1.dylib' (mach-o file, but is an incompatible architecture (have 'arm64', need 'x86_64')), '/Users/jemonat/opt/anaconda3/envs/my-rdkit-env/lib/libssl.1.1.dylib' (mach-o file, but is an incompatible architecture (have 'arm64', need 'x86_64')), '/System/Volumes/Preboot/Cryptexes/OS/Users/jemonat/opt/anaconda3/envs/my-rdkit-env/lib/libssl.1.1.dylib' (no such file), '/Users/jemonat/opt/anaconda3/envs/my-rdkit-env/lib/libssl.1.1.dylib' (mach-o file, but is an incompatible architecture (have 'arm64', need 'x86_64')), '/System/Volumes/Preboot/Cryptexes/OS/Users/jemonat/opt/anaconda3/envs/my-rdkit-env/lib/libssl.1.1.dylib' (no such file), '/Users/jemonat/opt/anaconda3/envs/my-rdkit-env/lib/python3.10/lib-dynload/../../libssl.1.1.dylib' (mach-o file, but is an incompatible architecture (have 'arm64', need 'x86_64')), '/Users/jemonat/opt/anaconda3/envs/my-rdkit-env/lib/libssl.1.1.dylib' (mach-o file, but is an incompatible architecture (have 'arm64', need 'x86_64')), '/System/Volumes/Preboot/Cryptexes/OS/Users/jemonat/opt/anaconda3/envs/my-rdkit-env/lib/libssl.1.1.dylib' (no such file), '/Users/jemonat/opt/anaconda3/envs/my-rdkit-env/bin/../lib/libssl.1.1.dylib' (mach-o file, but is an incompatible architecture (have 'arm64', need 'x86_64')), '/Users/jemonat/opt/anaconda3/envs/my-rdkit-env/lib/libssl.1.1.dylib' (mach-o file, but is an incompatible architecture (have 'arm64', need 'x86_64')), '/System/Volumes/Preboot/Cryptexes/OS/Users/jemonat/opt/anaconda3/envs/my-rdkit-env/lib/libssl.1.1.dylib' (no such file), '/Users/jemonat/opt/anaconda3/envs/my-rdkit-env/bin/../lib/libssl.1.1.dylib' (mach-o file, but is an incompatible architecture (have 'arm64', need 'x86_64')), '/System/Volumes/Preboot/Cryptexes/OS@rpath/libssl.1.1.dylib' (no such file), '/Users/jemonat/opt/anaconda3/envs/my-rdkit-env/lib/libssl.1.1.dylib' (mach-o file, but is an incompatible architecture (have 'arm64', need 'x86_64')), '/System/Volumes/Preboot/Cryptexes/OS/Users/jemonat/opt/anaconda3/envs/my-rdkit-env/lib/libssl.1.1.dylib' (no such file), '/Users/jemonat/opt/anaconda3/envs/my-rdkit-env/lib/libssl.1.1.dylib' (mach-o file, but is an incompatible architecture (have 'arm64', need 'x86_64')), '/System/Volumes/Preboot/Cryptexes/OS/Users/jemonat/opt/anaconda3/envs/my-rdkit-env/lib/libssl.1.1.dylib' (no such file), '/Users/jemonat/opt/anaconda3/envs/my-rdkit-env/lib/python3.10/lib-dynload/../../libssl.1.1.dylib' (mach-o file, but is an incompatible architecture (have 'arm64', need 'x86_64')), '/Users/jemonat/opt/anaconda3/envs/my-rdkit-env/lib/libssl.1.1.dylib' (mach-o file, but is an incompatible architecture (have 'arm64', need 'x86_64')), '/System/Volumes/Preboot/Cryptexes/OS/Users/jemonat/opt/anaconda3/envs/my-rdkit-env/lib/libssl.1.1.dylib' (no such file), '/Users/jemonat/opt/anaconda3/envs/my-rdkit-env/lib/libssl.1.1.dylib' (mach-o file, but is an incompatible architecture (have 'arm64', need 'x86_64')), '/System/Volumes/Preboot/Cryptexes/OS/Users/jemonat/opt/anaconda3/envs/my-rdkit-env/lib/libssl.1.1.dylib' (no such file), '/Users/jemonat/opt/anaconda3/envs/my-rdkit-env/lib/python3.10/lib-dynload/../../libssl.1.1.dylib' (mach-o file, but is an incompatible architecture (have 'arm64', need 'x86_64')), '/Users/jemonat/opt/anaconda3/envs/my-rdkit-env/lib/libssl.1.1.dylib' (mach-o file, but is an incompatible architecture (have 'arm64', need 'x86_64')), '/System/Volumes/Preboot/Cryptexes/OS/Users/jemonat/opt/anaconda3/envs/my-rdkit-env/lib/libssl.1.1.dylib' (no such file), '/Users/jemonat/opt/anaconda3/envs/my-rdkit-env/bin/../lib/libssl.1.1.dylib' (mach-o file, but is an incompatible architecture (have 'arm64', need 'x86_64')), '/Users/jemonat/opt/anaconda3/envs/my-rdkit-env/lib/libssl.1.1.dylib' (mach-o file, but is an incompatible architecture (have 'arm64', need 'x86_64')), '/System/Volumes/Preboot/Cryptexes/OS/Users/jemonat/opt/anaconda3/envs/my-rdkit-env/lib/libssl.1.1.dylib' (no such file), '/Users/jemonat/opt/anaconda3/envs/my-rdkit-env/bin/../lib/libssl.1.1.dylib' (mach-o file, but is an incompatible architecture (have 'arm64', need 'x86_64')), '/usr/local/lib/libssl.1.1.dylib' (no such file), '/usr/lib/libssl.1.1.dylib' (no such file, not in dyld cache). \n",
      "\u001b[1;31mView Jupyter <a href='command:jupyter.viewOutput'>log</a> for further details."
     ]
    }
   ],
   "source": [
    "def GetRingSystems(mol, includeSpiro = False):\n",
    "    ri = mol.GetRingInfo()\n",
    "    systems = []\n",
    "    for ring in ri.AtomRings():\n",
    "        ringAts = set(ring)\n",
    "        nSystems = []\n",
    "        for system in systems:\n",
    "            nInCommon = len(ringAts.intersection(system))\n",
    "            if nInCommon and (includeSpiro or nInCommon>1):\n",
    "                ringAts = ringAts.union(system)\n",
    "            else:\n",
    "                nSystems.append(system)\n",
    "        nSystems.append(ringAts)\n",
    "        systems = nSystems\n",
    "    return systems"
   ]
  },
  {
   "cell_type": "code",
   "execution_count": null,
   "metadata": {},
   "outputs": [
    {
     "ename": "",
     "evalue": "",
     "output_type": "error",
     "traceback": [
      "\u001b[1;31mFailed to start the Kernel. \n",
      "\u001b[1;31mJupyter server crashed. Unable to connect. \n",
      "\u001b[1;31mError code from Jupyter: 1\n",
      "\u001b[1;31mTraceback (most recent call last):\n",
      "\u001b[1;31m  File \"/Users/jemonat/opt/anaconda3/envs/my-rdkit-env/bin/jupyter-notebook\", line 7, in <module>\n",
      "\u001b[1;31m\n",
      "\u001b[1;31m    from notebook.notebookapp import main\n",
      "\u001b[1;31m  File \"/Users/jemonat/opt/anaconda3/envs/my-rdkit-env/lib/python3.10/site-packages/notebook/notebookapp.py\", line 59, in <module>\n",
      "\u001b[1;31m\n",
      "\u001b[1;31m    from tornado import httpserver\n",
      "\u001b[1;31m  File \"/Users/jemonat/opt/anaconda3/envs/my-rdkit-env/lib/python3.10/site-packages/tornado/httpserver.py\", line 29, in <module>\n",
      "\u001b[1;31m\n",
      "\u001b[1;31m    import ssl\n",
      "\u001b[1;31m  File \"/Users/jemonat/opt/anaconda3/envs/my-rdkit-env/lib/python3.10/ssl.py\", line 98, in <module>\n",
      "\u001b[1;31m\n",
      "\u001b[1;31m    import _ssl             # if we can't import it, let the error propagate\n",
      "\u001b[1;31mImportError: dlopen(/Users/jemonat/opt/anaconda3/envs/my-rdkit-env/lib/python3.10/lib-dynload/_ssl.cpython-310-darwin.so, 0x0002): Library not loaded: @rpath/libssl.1.1.dylib\n",
      "\u001b[1;31m  Referenced from: <9EDE67EB-4BB4-3203-9312-EEF3934CF29C> /Users/jemonat/opt/anaconda3/envs/my-rdkit-env/lib/python3.10/lib-dynload/_ssl.cpython-310-darwin.so\n",
      "\u001b[1;31m  Reason: tried: '/Users/jemonat/opt/anaconda3/envs/my-rdkit-env/lib/libssl.1.1.dylib' (mach-o file, but is an incompatible architecture (have 'arm64', need 'x86_64')), '/System/Volumes/Preboot/Cryptexes/OS/Users/jemonat/opt/anaconda3/envs/my-rdkit-env/lib/libssl.1.1.dylib' (no such file), '/Users/jemonat/opt/anaconda3/envs/my-rdkit-env/lib/libssl.1.1.dylib' (mach-o file, but is an incompatible architecture (have 'arm64', need 'x86_64')), '/System/Volumes/Preboot/Cryptexes/OS/Users/jemonat/opt/anaconda3/envs/my-rdkit-env/lib/libssl.1.1.dylib' (no such file), '/Users/jemonat/opt/anaconda3/envs/my-rdkit-env/lib/python3.10/lib-dynload/../../libssl.1.1.dylib' (mach-o file, but is an incompatible architecture (have 'arm64', need 'x86_64')), '/Users/jemonat/opt/anaconda3/envs/my-rdkit-env/lib/libssl.1.1.dylib' (mach-o file, but is an incompatible architecture (have 'arm64', need 'x86_64')), '/System/Volumes/Preboot/Cryptexes/OS/Users/jemonat/opt/anaconda3/envs/my-rdkit-env/lib/libssl.1.1.dylib' (no such file), '/Users/jemonat/opt/anaconda3/envs/my-rdkit-env/lib/libssl.1.1.dylib' (mach-o file, but is an incompatible architecture (have 'arm64', need 'x86_64')), '/System/Volumes/Preboot/Cryptexes/OS/Users/jemonat/opt/anaconda3/envs/my-rdkit-env/lib/libssl.1.1.dylib' (no such file), '/Users/jemonat/opt/anaconda3/envs/my-rdkit-env/lib/python3.10/lib-dynload/../../libssl.1.1.dylib' (mach-o file, but is an incompatible architecture (have 'arm64', need 'x86_64')), '/Users/jemonat/opt/anaconda3/envs/my-rdkit-env/lib/libssl.1.1.dylib' (mach-o file, but is an incompatible architecture (have 'arm64', need 'x86_64')), '/System/Volumes/Preboot/Cryptexes/OS/Users/jemonat/opt/anaconda3/envs/my-rdkit-env/lib/libssl.1.1.dylib' (no such file), '/Users/jemonat/opt/anaconda3/envs/my-rdkit-env/bin/../lib/libssl.1.1.dylib' (mach-o file, but is an incompatible architecture (have 'arm64', need 'x86_64')), '/Users/jemonat/opt/anaconda3/envs/my-rdkit-env/lib/libssl.1.1.dylib' (mach-o file, but is an incompatible architecture (have 'arm64', need 'x86_64')), '/System/Volumes/Preboot/Cryptexes/OS/Users/jemonat/opt/anaconda3/envs/my-rdkit-env/lib/libssl.1.1.dylib' (no such file), '/Users/jemonat/opt/anaconda3/envs/my-rdkit-env/bin/../lib/libssl.1.1.dylib' (mach-o file, but is an incompatible architecture (have 'arm64', need 'x86_64')), '/System/Volumes/Preboot/Cryptexes/OS@rpath/libssl.1.1.dylib' (no such file), '/Users/jemonat/opt/anaconda3/envs/my-rdkit-env/lib/libssl.1.1.dylib' (mach-o file, but is an incompatible architecture (have 'arm64', need 'x86_64')), '/System/Volumes/Preboot/Cryptexes/OS/Users/jemonat/opt/anaconda3/envs/my-rdkit-env/lib/libssl.1.1.dylib' (no such file), '/Users/jemonat/opt/anaconda3/envs/my-rdkit-env/lib/libssl.1.1.dylib' (mach-o file, but is an incompatible architecture (have 'arm64', need 'x86_64')), '/System/Volumes/Preboot/Cryptexes/OS/Users/jemonat/opt/anaconda3/envs/my-rdkit-env/lib/libssl.1.1.dylib' (no such file), '/Users/jemonat/opt/anaconda3/envs/my-rdkit-env/lib/python3.10/lib-dynload/../../libssl.1.1.dylib' (mach-o file, but is an incompatible architecture (have 'arm64', need 'x86_64')), '/Users/jemonat/opt/anaconda3/envs/my-rdkit-env/lib/libssl.1.1.dylib' (mach-o file, but is an incompatible architecture (have 'arm64', need 'x86_64')), '/System/Volumes/Preboot/Cryptexes/OS/Users/jemonat/opt/anaconda3/envs/my-rdkit-env/lib/libssl.1.1.dylib' (no such file), '/Users/jemonat/opt/anaconda3/envs/my-rdkit-env/lib/libssl.1.1.dylib' (mach-o file, but is an incompatible architecture (have 'arm64', need 'x86_64')), '/System/Volumes/Preboot/Cryptexes/OS/Users/jemonat/opt/anaconda3/envs/my-rdkit-env/lib/libssl.1.1.dylib' (no such file), '/Users/jemonat/opt/anaconda3/envs/my-rdkit-env/lib/python3.10/lib-dynload/../../libssl.1.1.dylib' (mach-o file, but is an incompatible architecture (have 'arm64', need 'x86_64')), '/Users/jemonat/opt/anaconda3/envs/my-rdkit-env/lib/libssl.1.1.dylib' (mach-o file, but is an incompatible architecture (have 'arm64', need 'x86_64')), '/System/Volumes/Preboot/Cryptexes/OS/Users/jemonat/opt/anaconda3/envs/my-rdkit-env/lib/libssl.1.1.dylib' (no such file), '/Users/jemonat/opt/anaconda3/envs/my-rdkit-env/bin/../lib/libssl.1.1.dylib' (mach-o file, but is an incompatible architecture (have 'arm64', need 'x86_64')), '/Users/jemonat/opt/anaconda3/envs/my-rdkit-env/lib/libssl.1.1.dylib' (mach-o file, but is an incompatible architecture (have 'arm64', need 'x86_64')), '/System/Volumes/Preboot/Cryptexes/OS/Users/jemonat/opt/anaconda3/envs/my-rdkit-env/lib/libssl.1.1.dylib' (no such file), '/Users/jemonat/opt/anaconda3/envs/my-rdkit-env/bin/../lib/libssl.1.1.dylib' (mach-o file, but is an incompatible architecture (have 'arm64', need 'x86_64')), '/usr/local/lib/libssl.1.1.dylib' (no such file), '/usr/lib/libssl.1.1.dylib' (no such file, not in dyld cache). \n",
      "\u001b[1;31mView Jupyter <a href='command:jupyter.viewOutput'>log</a> for further details."
     ]
    }
   ],
   "source": [
    "mol = Chem.MolFromSmiles('CN1C(=O)CN=C(C2=C1C=CC(=C2)Cl)C3=CC=CC=C3')\n",
    "print(GetRingSystems(mol))"
   ]
  },
  {
   "attachments": {},
   "cell_type": "markdown",
   "metadata": {},
   "source": [
    "## [Stereochemistry](https://www.rdkit.org/docs/Cookbook.html#stereochemistry)"
   ]
  },
  {
   "attachments": {},
   "cell_type": "markdown",
   "metadata": {},
   "source": [
    "### [Identifying Stereochemistry](https://www.rdkit.org/docs/Cookbook.html#identifying-stereochemistry)"
   ]
  },
  {
   "cell_type": "code",
   "execution_count": null,
   "metadata": {},
   "outputs": [
    {
     "ename": "",
     "evalue": "",
     "output_type": "error",
     "traceback": [
      "\u001b[1;31mFailed to start the Kernel. \n",
      "\u001b[1;31mJupyter server crashed. Unable to connect. \n",
      "\u001b[1;31mError code from Jupyter: 1\n",
      "\u001b[1;31mTraceback (most recent call last):\n",
      "\u001b[1;31m  File \"/Users/jemonat/opt/anaconda3/envs/my-rdkit-env/bin/jupyter-notebook\", line 7, in <module>\n",
      "\u001b[1;31m\n",
      "\u001b[1;31m    from notebook.notebookapp import main\n",
      "\u001b[1;31m  File \"/Users/jemonat/opt/anaconda3/envs/my-rdkit-env/lib/python3.10/site-packages/notebook/notebookapp.py\", line 59, in <module>\n",
      "\u001b[1;31m\n",
      "\u001b[1;31m    from tornado import httpserver\n",
      "\u001b[1;31m  File \"/Users/jemonat/opt/anaconda3/envs/my-rdkit-env/lib/python3.10/site-packages/tornado/httpserver.py\", line 29, in <module>\n",
      "\u001b[1;31m\n",
      "\u001b[1;31m    import ssl\n",
      "\u001b[1;31m  File \"/Users/jemonat/opt/anaconda3/envs/my-rdkit-env/lib/python3.10/ssl.py\", line 98, in <module>\n",
      "\u001b[1;31m\n",
      "\u001b[1;31m    import _ssl             # if we can't import it, let the error propagate\n",
      "\u001b[1;31mImportError: dlopen(/Users/jemonat/opt/anaconda3/envs/my-rdkit-env/lib/python3.10/lib-dynload/_ssl.cpython-310-darwin.so, 0x0002): Library not loaded: @rpath/libssl.1.1.dylib\n",
      "\u001b[1;31m  Referenced from: <9EDE67EB-4BB4-3203-9312-EEF3934CF29C> /Users/jemonat/opt/anaconda3/envs/my-rdkit-env/lib/python3.10/lib-dynload/_ssl.cpython-310-darwin.so\n",
      "\u001b[1;31m  Reason: tried: '/Users/jemonat/opt/anaconda3/envs/my-rdkit-env/lib/libssl.1.1.dylib' (mach-o file, but is an incompatible architecture (have 'arm64', need 'x86_64')), '/System/Volumes/Preboot/Cryptexes/OS/Users/jemonat/opt/anaconda3/envs/my-rdkit-env/lib/libssl.1.1.dylib' (no such file), '/Users/jemonat/opt/anaconda3/envs/my-rdkit-env/lib/libssl.1.1.dylib' (mach-o file, but is an incompatible architecture (have 'arm64', need 'x86_64')), '/System/Volumes/Preboot/Cryptexes/OS/Users/jemonat/opt/anaconda3/envs/my-rdkit-env/lib/libssl.1.1.dylib' (no such file), '/Users/jemonat/opt/anaconda3/envs/my-rdkit-env/lib/python3.10/lib-dynload/../../libssl.1.1.dylib' (mach-o file, but is an incompatible architecture (have 'arm64', need 'x86_64')), '/Users/jemonat/opt/anaconda3/envs/my-rdkit-env/lib/libssl.1.1.dylib' (mach-o file, but is an incompatible architecture (have 'arm64', need 'x86_64')), '/System/Volumes/Preboot/Cryptexes/OS/Users/jemonat/opt/anaconda3/envs/my-rdkit-env/lib/libssl.1.1.dylib' (no such file), '/Users/jemonat/opt/anaconda3/envs/my-rdkit-env/lib/libssl.1.1.dylib' (mach-o file, but is an incompatible architecture (have 'arm64', need 'x86_64')), '/System/Volumes/Preboot/Cryptexes/OS/Users/jemonat/opt/anaconda3/envs/my-rdkit-env/lib/libssl.1.1.dylib' (no such file), '/Users/jemonat/opt/anaconda3/envs/my-rdkit-env/lib/python3.10/lib-dynload/../../libssl.1.1.dylib' (mach-o file, but is an incompatible architecture (have 'arm64', need 'x86_64')), '/Users/jemonat/opt/anaconda3/envs/my-rdkit-env/lib/libssl.1.1.dylib' (mach-o file, but is an incompatible architecture (have 'arm64', need 'x86_64')), '/System/Volumes/Preboot/Cryptexes/OS/Users/jemonat/opt/anaconda3/envs/my-rdkit-env/lib/libssl.1.1.dylib' (no such file), '/Users/jemonat/opt/anaconda3/envs/my-rdkit-env/bin/../lib/libssl.1.1.dylib' (mach-o file, but is an incompatible architecture (have 'arm64', need 'x86_64')), '/Users/jemonat/opt/anaconda3/envs/my-rdkit-env/lib/libssl.1.1.dylib' (mach-o file, but is an incompatible architecture (have 'arm64', need 'x86_64')), '/System/Volumes/Preboot/Cryptexes/OS/Users/jemonat/opt/anaconda3/envs/my-rdkit-env/lib/libssl.1.1.dylib' (no such file), '/Users/jemonat/opt/anaconda3/envs/my-rdkit-env/bin/../lib/libssl.1.1.dylib' (mach-o file, but is an incompatible architecture (have 'arm64', need 'x86_64')), '/System/Volumes/Preboot/Cryptexes/OS@rpath/libssl.1.1.dylib' (no such file), '/Users/jemonat/opt/anaconda3/envs/my-rdkit-env/lib/libssl.1.1.dylib' (mach-o file, but is an incompatible architecture (have 'arm64', need 'x86_64')), '/System/Volumes/Preboot/Cryptexes/OS/Users/jemonat/opt/anaconda3/envs/my-rdkit-env/lib/libssl.1.1.dylib' (no such file), '/Users/jemonat/opt/anaconda3/envs/my-rdkit-env/lib/libssl.1.1.dylib' (mach-o file, but is an incompatible architecture (have 'arm64', need 'x86_64')), '/System/Volumes/Preboot/Cryptexes/OS/Users/jemonat/opt/anaconda3/envs/my-rdkit-env/lib/libssl.1.1.dylib' (no such file), '/Users/jemonat/opt/anaconda3/envs/my-rdkit-env/lib/python3.10/lib-dynload/../../libssl.1.1.dylib' (mach-o file, but is an incompatible architecture (have 'arm64', need 'x86_64')), '/Users/jemonat/opt/anaconda3/envs/my-rdkit-env/lib/libssl.1.1.dylib' (mach-o file, but is an incompatible architecture (have 'arm64', need 'x86_64')), '/System/Volumes/Preboot/Cryptexes/OS/Users/jemonat/opt/anaconda3/envs/my-rdkit-env/lib/libssl.1.1.dylib' (no such file), '/Users/jemonat/opt/anaconda3/envs/my-rdkit-env/lib/libssl.1.1.dylib' (mach-o file, but is an incompatible architecture (have 'arm64', need 'x86_64')), '/System/Volumes/Preboot/Cryptexes/OS/Users/jemonat/opt/anaconda3/envs/my-rdkit-env/lib/libssl.1.1.dylib' (no such file), '/Users/jemonat/opt/anaconda3/envs/my-rdkit-env/lib/python3.10/lib-dynload/../../libssl.1.1.dylib' (mach-o file, but is an incompatible architecture (have 'arm64', need 'x86_64')), '/Users/jemonat/opt/anaconda3/envs/my-rdkit-env/lib/libssl.1.1.dylib' (mach-o file, but is an incompatible architecture (have 'arm64', need 'x86_64')), '/System/Volumes/Preboot/Cryptexes/OS/Users/jemonat/opt/anaconda3/envs/my-rdkit-env/lib/libssl.1.1.dylib' (no such file), '/Users/jemonat/opt/anaconda3/envs/my-rdkit-env/bin/../lib/libssl.1.1.dylib' (mach-o file, but is an incompatible architecture (have 'arm64', need 'x86_64')), '/Users/jemonat/opt/anaconda3/envs/my-rdkit-env/lib/libssl.1.1.dylib' (mach-o file, but is an incompatible architecture (have 'arm64', need 'x86_64')), '/System/Volumes/Preboot/Cryptexes/OS/Users/jemonat/opt/anaconda3/envs/my-rdkit-env/lib/libssl.1.1.dylib' (no such file), '/Users/jemonat/opt/anaconda3/envs/my-rdkit-env/bin/../lib/libssl.1.1.dylib' (mach-o file, but is an incompatible architecture (have 'arm64', need 'x86_64')), '/usr/local/lib/libssl.1.1.dylib' (no such file), '/usr/lib/libssl.1.1.dylib' (no such file, not in dyld cache). \n",
      "\u001b[1;31mView Jupyter <a href='command:jupyter.viewOutput'>log</a> for further details."
     ]
    }
   ],
   "source": [
    "IPythonConsole.drawOptions.addAtomIndices = True\n",
    "IPythonConsole.drawOptions.addStereoAnnotation = True"
   ]
  },
  {
   "cell_type": "code",
   "execution_count": null,
   "metadata": {},
   "outputs": [
    {
     "ename": "",
     "evalue": "",
     "output_type": "error",
     "traceback": [
      "\u001b[1;31mFailed to start the Kernel. \n",
      "\u001b[1;31mJupyter server crashed. Unable to connect. \n",
      "\u001b[1;31mError code from Jupyter: 1\n",
      "\u001b[1;31mTraceback (most recent call last):\n",
      "\u001b[1;31m  File \"/Users/jemonat/opt/anaconda3/envs/my-rdkit-env/bin/jupyter-notebook\", line 7, in <module>\n",
      "\u001b[1;31m\n",
      "\u001b[1;31m    from notebook.notebookapp import main\n",
      "\u001b[1;31m  File \"/Users/jemonat/opt/anaconda3/envs/my-rdkit-env/lib/python3.10/site-packages/notebook/notebookapp.py\", line 59, in <module>\n",
      "\u001b[1;31m\n",
      "\u001b[1;31m    from tornado import httpserver\n",
      "\u001b[1;31m  File \"/Users/jemonat/opt/anaconda3/envs/my-rdkit-env/lib/python3.10/site-packages/tornado/httpserver.py\", line 29, in <module>\n",
      "\u001b[1;31m\n",
      "\u001b[1;31m    import ssl\n",
      "\u001b[1;31m  File \"/Users/jemonat/opt/anaconda3/envs/my-rdkit-env/lib/python3.10/ssl.py\", line 98, in <module>\n",
      "\u001b[1;31m\n",
      "\u001b[1;31m    import _ssl             # if we can't import it, let the error propagate\n",
      "\u001b[1;31mImportError: dlopen(/Users/jemonat/opt/anaconda3/envs/my-rdkit-env/lib/python3.10/lib-dynload/_ssl.cpython-310-darwin.so, 0x0002): Library not loaded: @rpath/libssl.1.1.dylib\n",
      "\u001b[1;31m  Referenced from: <9EDE67EB-4BB4-3203-9312-EEF3934CF29C> /Users/jemonat/opt/anaconda3/envs/my-rdkit-env/lib/python3.10/lib-dynload/_ssl.cpython-310-darwin.so\n",
      "\u001b[1;31m  Reason: tried: '/Users/jemonat/opt/anaconda3/envs/my-rdkit-env/lib/libssl.1.1.dylib' (mach-o file, but is an incompatible architecture (have 'arm64', need 'x86_64')), '/System/Volumes/Preboot/Cryptexes/OS/Users/jemonat/opt/anaconda3/envs/my-rdkit-env/lib/libssl.1.1.dylib' (no such file), '/Users/jemonat/opt/anaconda3/envs/my-rdkit-env/lib/libssl.1.1.dylib' (mach-o file, but is an incompatible architecture (have 'arm64', need 'x86_64')), '/System/Volumes/Preboot/Cryptexes/OS/Users/jemonat/opt/anaconda3/envs/my-rdkit-env/lib/libssl.1.1.dylib' (no such file), '/Users/jemonat/opt/anaconda3/envs/my-rdkit-env/lib/python3.10/lib-dynload/../../libssl.1.1.dylib' (mach-o file, but is an incompatible architecture (have 'arm64', need 'x86_64')), '/Users/jemonat/opt/anaconda3/envs/my-rdkit-env/lib/libssl.1.1.dylib' (mach-o file, but is an incompatible architecture (have 'arm64', need 'x86_64')), '/System/Volumes/Preboot/Cryptexes/OS/Users/jemonat/opt/anaconda3/envs/my-rdkit-env/lib/libssl.1.1.dylib' (no such file), '/Users/jemonat/opt/anaconda3/envs/my-rdkit-env/lib/libssl.1.1.dylib' (mach-o file, but is an incompatible architecture (have 'arm64', need 'x86_64')), '/System/Volumes/Preboot/Cryptexes/OS/Users/jemonat/opt/anaconda3/envs/my-rdkit-env/lib/libssl.1.1.dylib' (no such file), '/Users/jemonat/opt/anaconda3/envs/my-rdkit-env/lib/python3.10/lib-dynload/../../libssl.1.1.dylib' (mach-o file, but is an incompatible architecture (have 'arm64', need 'x86_64')), '/Users/jemonat/opt/anaconda3/envs/my-rdkit-env/lib/libssl.1.1.dylib' (mach-o file, but is an incompatible architecture (have 'arm64', need 'x86_64')), '/System/Volumes/Preboot/Cryptexes/OS/Users/jemonat/opt/anaconda3/envs/my-rdkit-env/lib/libssl.1.1.dylib' (no such file), '/Users/jemonat/opt/anaconda3/envs/my-rdkit-env/bin/../lib/libssl.1.1.dylib' (mach-o file, but is an incompatible architecture (have 'arm64', need 'x86_64')), '/Users/jemonat/opt/anaconda3/envs/my-rdkit-env/lib/libssl.1.1.dylib' (mach-o file, but is an incompatible architecture (have 'arm64', need 'x86_64')), '/System/Volumes/Preboot/Cryptexes/OS/Users/jemonat/opt/anaconda3/envs/my-rdkit-env/lib/libssl.1.1.dylib' (no such file), '/Users/jemonat/opt/anaconda3/envs/my-rdkit-env/bin/../lib/libssl.1.1.dylib' (mach-o file, but is an incompatible architecture (have 'arm64', need 'x86_64')), '/System/Volumes/Preboot/Cryptexes/OS@rpath/libssl.1.1.dylib' (no such file), '/Users/jemonat/opt/anaconda3/envs/my-rdkit-env/lib/libssl.1.1.dylib' (mach-o file, but is an incompatible architecture (have 'arm64', need 'x86_64')), '/System/Volumes/Preboot/Cryptexes/OS/Users/jemonat/opt/anaconda3/envs/my-rdkit-env/lib/libssl.1.1.dylib' (no such file), '/Users/jemonat/opt/anaconda3/envs/my-rdkit-env/lib/libssl.1.1.dylib' (mach-o file, but is an incompatible architecture (have 'arm64', need 'x86_64')), '/System/Volumes/Preboot/Cryptexes/OS/Users/jemonat/opt/anaconda3/envs/my-rdkit-env/lib/libssl.1.1.dylib' (no such file), '/Users/jemonat/opt/anaconda3/envs/my-rdkit-env/lib/python3.10/lib-dynload/../../libssl.1.1.dylib' (mach-o file, but is an incompatible architecture (have 'arm64', need 'x86_64')), '/Users/jemonat/opt/anaconda3/envs/my-rdkit-env/lib/libssl.1.1.dylib' (mach-o file, but is an incompatible architecture (have 'arm64', need 'x86_64')), '/System/Volumes/Preboot/Cryptexes/OS/Users/jemonat/opt/anaconda3/envs/my-rdkit-env/lib/libssl.1.1.dylib' (no such file), '/Users/jemonat/opt/anaconda3/envs/my-rdkit-env/lib/libssl.1.1.dylib' (mach-o file, but is an incompatible architecture (have 'arm64', need 'x86_64')), '/System/Volumes/Preboot/Cryptexes/OS/Users/jemonat/opt/anaconda3/envs/my-rdkit-env/lib/libssl.1.1.dylib' (no such file), '/Users/jemonat/opt/anaconda3/envs/my-rdkit-env/lib/python3.10/lib-dynload/../../libssl.1.1.dylib' (mach-o file, but is an incompatible architecture (have 'arm64', need 'x86_64')), '/Users/jemonat/opt/anaconda3/envs/my-rdkit-env/lib/libssl.1.1.dylib' (mach-o file, but is an incompatible architecture (have 'arm64', need 'x86_64')), '/System/Volumes/Preboot/Cryptexes/OS/Users/jemonat/opt/anaconda3/envs/my-rdkit-env/lib/libssl.1.1.dylib' (no such file), '/Users/jemonat/opt/anaconda3/envs/my-rdkit-env/bin/../lib/libssl.1.1.dylib' (mach-o file, but is an incompatible architecture (have 'arm64', need 'x86_64')), '/Users/jemonat/opt/anaconda3/envs/my-rdkit-env/lib/libssl.1.1.dylib' (mach-o file, but is an incompatible architecture (have 'arm64', need 'x86_64')), '/System/Volumes/Preboot/Cryptexes/OS/Users/jemonat/opt/anaconda3/envs/my-rdkit-env/lib/libssl.1.1.dylib' (no such file), '/Users/jemonat/opt/anaconda3/envs/my-rdkit-env/bin/../lib/libssl.1.1.dylib' (mach-o file, but is an incompatible architecture (have 'arm64', need 'x86_64')), '/usr/local/lib/libssl.1.1.dylib' (no such file), '/usr/lib/libssl.1.1.dylib' (no such file, not in dyld cache). \n",
      "\u001b[1;31mView Jupyter <a href='command:jupyter.viewOutput'>log</a> for further details."
     ]
    }
   ],
   "source": [
    "m = Chem.MolFromSmiles(\"C[C@H]1CCC[C@@H](C)[C@@H]1Cl\")\n",
    "m"
   ]
  },
  {
   "cell_type": "code",
   "execution_count": null,
   "metadata": {},
   "outputs": [
    {
     "ename": "",
     "evalue": "",
     "output_type": "error",
     "traceback": [
      "\u001b[1;31mFailed to start the Kernel. \n",
      "\u001b[1;31mJupyter server crashed. Unable to connect. \n",
      "\u001b[1;31mError code from Jupyter: 1\n",
      "\u001b[1;31mTraceback (most recent call last):\n",
      "\u001b[1;31m  File \"/Users/jemonat/opt/anaconda3/envs/my-rdkit-env/bin/jupyter-notebook\", line 7, in <module>\n",
      "\u001b[1;31m\n",
      "\u001b[1;31m    from notebook.notebookapp import main\n",
      "\u001b[1;31m  File \"/Users/jemonat/opt/anaconda3/envs/my-rdkit-env/lib/python3.10/site-packages/notebook/notebookapp.py\", line 59, in <module>\n",
      "\u001b[1;31m\n",
      "\u001b[1;31m    from tornado import httpserver\n",
      "\u001b[1;31m  File \"/Users/jemonat/opt/anaconda3/envs/my-rdkit-env/lib/python3.10/site-packages/tornado/httpserver.py\", line 29, in <module>\n",
      "\u001b[1;31m\n",
      "\u001b[1;31m    import ssl\n",
      "\u001b[1;31m  File \"/Users/jemonat/opt/anaconda3/envs/my-rdkit-env/lib/python3.10/ssl.py\", line 98, in <module>\n",
      "\u001b[1;31m\n",
      "\u001b[1;31m    import _ssl             # if we can't import it, let the error propagate\n",
      "\u001b[1;31mImportError: dlopen(/Users/jemonat/opt/anaconda3/envs/my-rdkit-env/lib/python3.10/lib-dynload/_ssl.cpython-310-darwin.so, 0x0002): Library not loaded: @rpath/libssl.1.1.dylib\n",
      "\u001b[1;31m  Referenced from: <9EDE67EB-4BB4-3203-9312-EEF3934CF29C> /Users/jemonat/opt/anaconda3/envs/my-rdkit-env/lib/python3.10/lib-dynload/_ssl.cpython-310-darwin.so\n",
      "\u001b[1;31m  Reason: tried: '/Users/jemonat/opt/anaconda3/envs/my-rdkit-env/lib/libssl.1.1.dylib' (mach-o file, but is an incompatible architecture (have 'arm64', need 'x86_64')), '/System/Volumes/Preboot/Cryptexes/OS/Users/jemonat/opt/anaconda3/envs/my-rdkit-env/lib/libssl.1.1.dylib' (no such file), '/Users/jemonat/opt/anaconda3/envs/my-rdkit-env/lib/libssl.1.1.dylib' (mach-o file, but is an incompatible architecture (have 'arm64', need 'x86_64')), '/System/Volumes/Preboot/Cryptexes/OS/Users/jemonat/opt/anaconda3/envs/my-rdkit-env/lib/libssl.1.1.dylib' (no such file), '/Users/jemonat/opt/anaconda3/envs/my-rdkit-env/lib/python3.10/lib-dynload/../../libssl.1.1.dylib' (mach-o file, but is an incompatible architecture (have 'arm64', need 'x86_64')), '/Users/jemonat/opt/anaconda3/envs/my-rdkit-env/lib/libssl.1.1.dylib' (mach-o file, but is an incompatible architecture (have 'arm64', need 'x86_64')), '/System/Volumes/Preboot/Cryptexes/OS/Users/jemonat/opt/anaconda3/envs/my-rdkit-env/lib/libssl.1.1.dylib' (no such file), '/Users/jemonat/opt/anaconda3/envs/my-rdkit-env/lib/libssl.1.1.dylib' (mach-o file, but is an incompatible architecture (have 'arm64', need 'x86_64')), '/System/Volumes/Preboot/Cryptexes/OS/Users/jemonat/opt/anaconda3/envs/my-rdkit-env/lib/libssl.1.1.dylib' (no such file), '/Users/jemonat/opt/anaconda3/envs/my-rdkit-env/lib/python3.10/lib-dynload/../../libssl.1.1.dylib' (mach-o file, but is an incompatible architecture (have 'arm64', need 'x86_64')), '/Users/jemonat/opt/anaconda3/envs/my-rdkit-env/lib/libssl.1.1.dylib' (mach-o file, but is an incompatible architecture (have 'arm64', need 'x86_64')), '/System/Volumes/Preboot/Cryptexes/OS/Users/jemonat/opt/anaconda3/envs/my-rdkit-env/lib/libssl.1.1.dylib' (no such file), '/Users/jemonat/opt/anaconda3/envs/my-rdkit-env/bin/../lib/libssl.1.1.dylib' (mach-o file, but is an incompatible architecture (have 'arm64', need 'x86_64')), '/Users/jemonat/opt/anaconda3/envs/my-rdkit-env/lib/libssl.1.1.dylib' (mach-o file, but is an incompatible architecture (have 'arm64', need 'x86_64')), '/System/Volumes/Preboot/Cryptexes/OS/Users/jemonat/opt/anaconda3/envs/my-rdkit-env/lib/libssl.1.1.dylib' (no such file), '/Users/jemonat/opt/anaconda3/envs/my-rdkit-env/bin/../lib/libssl.1.1.dylib' (mach-o file, but is an incompatible architecture (have 'arm64', need 'x86_64')), '/System/Volumes/Preboot/Cryptexes/OS@rpath/libssl.1.1.dylib' (no such file), '/Users/jemonat/opt/anaconda3/envs/my-rdkit-env/lib/libssl.1.1.dylib' (mach-o file, but is an incompatible architecture (have 'arm64', need 'x86_64')), '/System/Volumes/Preboot/Cryptexes/OS/Users/jemonat/opt/anaconda3/envs/my-rdkit-env/lib/libssl.1.1.dylib' (no such file), '/Users/jemonat/opt/anaconda3/envs/my-rdkit-env/lib/libssl.1.1.dylib' (mach-o file, but is an incompatible architecture (have 'arm64', need 'x86_64')), '/System/Volumes/Preboot/Cryptexes/OS/Users/jemonat/opt/anaconda3/envs/my-rdkit-env/lib/libssl.1.1.dylib' (no such file), '/Users/jemonat/opt/anaconda3/envs/my-rdkit-env/lib/python3.10/lib-dynload/../../libssl.1.1.dylib' (mach-o file, but is an incompatible architecture (have 'arm64', need 'x86_64')), '/Users/jemonat/opt/anaconda3/envs/my-rdkit-env/lib/libssl.1.1.dylib' (mach-o file, but is an incompatible architecture (have 'arm64', need 'x86_64')), '/System/Volumes/Preboot/Cryptexes/OS/Users/jemonat/opt/anaconda3/envs/my-rdkit-env/lib/libssl.1.1.dylib' (no such file), '/Users/jemonat/opt/anaconda3/envs/my-rdkit-env/lib/libssl.1.1.dylib' (mach-o file, but is an incompatible architecture (have 'arm64', need 'x86_64')), '/System/Volumes/Preboot/Cryptexes/OS/Users/jemonat/opt/anaconda3/envs/my-rdkit-env/lib/libssl.1.1.dylib' (no such file), '/Users/jemonat/opt/anaconda3/envs/my-rdkit-env/lib/python3.10/lib-dynload/../../libssl.1.1.dylib' (mach-o file, but is an incompatible architecture (have 'arm64', need 'x86_64')), '/Users/jemonat/opt/anaconda3/envs/my-rdkit-env/lib/libssl.1.1.dylib' (mach-o file, but is an incompatible architecture (have 'arm64', need 'x86_64')), '/System/Volumes/Preboot/Cryptexes/OS/Users/jemonat/opt/anaconda3/envs/my-rdkit-env/lib/libssl.1.1.dylib' (no such file), '/Users/jemonat/opt/anaconda3/envs/my-rdkit-env/bin/../lib/libssl.1.1.dylib' (mach-o file, but is an incompatible architecture (have 'arm64', need 'x86_64')), '/Users/jemonat/opt/anaconda3/envs/my-rdkit-env/lib/libssl.1.1.dylib' (mach-o file, but is an incompatible architecture (have 'arm64', need 'x86_64')), '/System/Volumes/Preboot/Cryptexes/OS/Users/jemonat/opt/anaconda3/envs/my-rdkit-env/lib/libssl.1.1.dylib' (no such file), '/Users/jemonat/opt/anaconda3/envs/my-rdkit-env/bin/../lib/libssl.1.1.dylib' (mach-o file, but is an incompatible architecture (have 'arm64', need 'x86_64')), '/usr/local/lib/libssl.1.1.dylib' (no such file), '/usr/lib/libssl.1.1.dylib' (no such file, not in dyld cache). \n",
      "\u001b[1;31mView Jupyter <a href='command:jupyter.viewOutput'>log</a> for further details."
     ]
    }
   ],
   "source": [
    "print(Chem.FindMolChiralCenters(m, force=True, includeUnassigned=True, useLegacyImplementation=False))"
   ]
  },
  {
   "cell_type": "code",
   "execution_count": null,
   "metadata": {},
   "outputs": [
    {
     "ename": "",
     "evalue": "",
     "output_type": "error",
     "traceback": [
      "\u001b[1;31mFailed to start the Kernel. \n",
      "\u001b[1;31mJupyter server crashed. Unable to connect. \n",
      "\u001b[1;31mError code from Jupyter: 1\n",
      "\u001b[1;31mTraceback (most recent call last):\n",
      "\u001b[1;31m  File \"/Users/jemonat/opt/anaconda3/envs/my-rdkit-env/bin/jupyter-notebook\", line 7, in <module>\n",
      "\u001b[1;31m\n",
      "\u001b[1;31m    from notebook.notebookapp import main\n",
      "\u001b[1;31m  File \"/Users/jemonat/opt/anaconda3/envs/my-rdkit-env/lib/python3.10/site-packages/notebook/notebookapp.py\", line 59, in <module>\n",
      "\u001b[1;31m\n",
      "\u001b[1;31m    from tornado import httpserver\n",
      "\u001b[1;31m  File \"/Users/jemonat/opt/anaconda3/envs/my-rdkit-env/lib/python3.10/site-packages/tornado/httpserver.py\", line 29, in <module>\n",
      "\u001b[1;31m\n",
      "\u001b[1;31m    import ssl\n",
      "\u001b[1;31m  File \"/Users/jemonat/opt/anaconda3/envs/my-rdkit-env/lib/python3.10/ssl.py\", line 98, in <module>\n",
      "\u001b[1;31m\n",
      "\u001b[1;31m    import _ssl             # if we can't import it, let the error propagate\n",
      "\u001b[1;31mImportError: dlopen(/Users/jemonat/opt/anaconda3/envs/my-rdkit-env/lib/python3.10/lib-dynload/_ssl.cpython-310-darwin.so, 0x0002): Library not loaded: @rpath/libssl.1.1.dylib\n",
      "\u001b[1;31m  Referenced from: <9EDE67EB-4BB4-3203-9312-EEF3934CF29C> /Users/jemonat/opt/anaconda3/envs/my-rdkit-env/lib/python3.10/lib-dynload/_ssl.cpython-310-darwin.so\n",
      "\u001b[1;31m  Reason: tried: '/Users/jemonat/opt/anaconda3/envs/my-rdkit-env/lib/libssl.1.1.dylib' (mach-o file, but is an incompatible architecture (have 'arm64', need 'x86_64')), '/System/Volumes/Preboot/Cryptexes/OS/Users/jemonat/opt/anaconda3/envs/my-rdkit-env/lib/libssl.1.1.dylib' (no such file), '/Users/jemonat/opt/anaconda3/envs/my-rdkit-env/lib/libssl.1.1.dylib' (mach-o file, but is an incompatible architecture (have 'arm64', need 'x86_64')), '/System/Volumes/Preboot/Cryptexes/OS/Users/jemonat/opt/anaconda3/envs/my-rdkit-env/lib/libssl.1.1.dylib' (no such file), '/Users/jemonat/opt/anaconda3/envs/my-rdkit-env/lib/python3.10/lib-dynload/../../libssl.1.1.dylib' (mach-o file, but is an incompatible architecture (have 'arm64', need 'x86_64')), '/Users/jemonat/opt/anaconda3/envs/my-rdkit-env/lib/libssl.1.1.dylib' (mach-o file, but is an incompatible architecture (have 'arm64', need 'x86_64')), '/System/Volumes/Preboot/Cryptexes/OS/Users/jemonat/opt/anaconda3/envs/my-rdkit-env/lib/libssl.1.1.dylib' (no such file), '/Users/jemonat/opt/anaconda3/envs/my-rdkit-env/lib/libssl.1.1.dylib' (mach-o file, but is an incompatible architecture (have 'arm64', need 'x86_64')), '/System/Volumes/Preboot/Cryptexes/OS/Users/jemonat/opt/anaconda3/envs/my-rdkit-env/lib/libssl.1.1.dylib' (no such file), '/Users/jemonat/opt/anaconda3/envs/my-rdkit-env/lib/python3.10/lib-dynload/../../libssl.1.1.dylib' (mach-o file, but is an incompatible architecture (have 'arm64', need 'x86_64')), '/Users/jemonat/opt/anaconda3/envs/my-rdkit-env/lib/libssl.1.1.dylib' (mach-o file, but is an incompatible architecture (have 'arm64', need 'x86_64')), '/System/Volumes/Preboot/Cryptexes/OS/Users/jemonat/opt/anaconda3/envs/my-rdkit-env/lib/libssl.1.1.dylib' (no such file), '/Users/jemonat/opt/anaconda3/envs/my-rdkit-env/bin/../lib/libssl.1.1.dylib' (mach-o file, but is an incompatible architecture (have 'arm64', need 'x86_64')), '/Users/jemonat/opt/anaconda3/envs/my-rdkit-env/lib/libssl.1.1.dylib' (mach-o file, but is an incompatible architecture (have 'arm64', need 'x86_64')), '/System/Volumes/Preboot/Cryptexes/OS/Users/jemonat/opt/anaconda3/envs/my-rdkit-env/lib/libssl.1.1.dylib' (no such file), '/Users/jemonat/opt/anaconda3/envs/my-rdkit-env/bin/../lib/libssl.1.1.dylib' (mach-o file, but is an incompatible architecture (have 'arm64', need 'x86_64')), '/System/Volumes/Preboot/Cryptexes/OS@rpath/libssl.1.1.dylib' (no such file), '/Users/jemonat/opt/anaconda3/envs/my-rdkit-env/lib/libssl.1.1.dylib' (mach-o file, but is an incompatible architecture (have 'arm64', need 'x86_64')), '/System/Volumes/Preboot/Cryptexes/OS/Users/jemonat/opt/anaconda3/envs/my-rdkit-env/lib/libssl.1.1.dylib' (no such file), '/Users/jemonat/opt/anaconda3/envs/my-rdkit-env/lib/libssl.1.1.dylib' (mach-o file, but is an incompatible architecture (have 'arm64', need 'x86_64')), '/System/Volumes/Preboot/Cryptexes/OS/Users/jemonat/opt/anaconda3/envs/my-rdkit-env/lib/libssl.1.1.dylib' (no such file), '/Users/jemonat/opt/anaconda3/envs/my-rdkit-env/lib/python3.10/lib-dynload/../../libssl.1.1.dylib' (mach-o file, but is an incompatible architecture (have 'arm64', need 'x86_64')), '/Users/jemonat/opt/anaconda3/envs/my-rdkit-env/lib/libssl.1.1.dylib' (mach-o file, but is an incompatible architecture (have 'arm64', need 'x86_64')), '/System/Volumes/Preboot/Cryptexes/OS/Users/jemonat/opt/anaconda3/envs/my-rdkit-env/lib/libssl.1.1.dylib' (no such file), '/Users/jemonat/opt/anaconda3/envs/my-rdkit-env/lib/libssl.1.1.dylib' (mach-o file, but is an incompatible architecture (have 'arm64', need 'x86_64')), '/System/Volumes/Preboot/Cryptexes/OS/Users/jemonat/opt/anaconda3/envs/my-rdkit-env/lib/libssl.1.1.dylib' (no such file), '/Users/jemonat/opt/anaconda3/envs/my-rdkit-env/lib/python3.10/lib-dynload/../../libssl.1.1.dylib' (mach-o file, but is an incompatible architecture (have 'arm64', need 'x86_64')), '/Users/jemonat/opt/anaconda3/envs/my-rdkit-env/lib/libssl.1.1.dylib' (mach-o file, but is an incompatible architecture (have 'arm64', need 'x86_64')), '/System/Volumes/Preboot/Cryptexes/OS/Users/jemonat/opt/anaconda3/envs/my-rdkit-env/lib/libssl.1.1.dylib' (no such file), '/Users/jemonat/opt/anaconda3/envs/my-rdkit-env/bin/../lib/libssl.1.1.dylib' (mach-o file, but is an incompatible architecture (have 'arm64', need 'x86_64')), '/Users/jemonat/opt/anaconda3/envs/my-rdkit-env/lib/libssl.1.1.dylib' (mach-o file, but is an incompatible architecture (have 'arm64', need 'x86_64')), '/System/Volumes/Preboot/Cryptexes/OS/Users/jemonat/opt/anaconda3/envs/my-rdkit-env/lib/libssl.1.1.dylib' (no such file), '/Users/jemonat/opt/anaconda3/envs/my-rdkit-env/bin/../lib/libssl.1.1.dylib' (mach-o file, but is an incompatible architecture (have 'arm64', need 'x86_64')), '/usr/local/lib/libssl.1.1.dylib' (no such file), '/usr/lib/libssl.1.1.dylib' (no such file, not in dyld cache). \n",
      "\u001b[1;31mView Jupyter <a href='command:jupyter.viewOutput'>log</a> for further details."
     ]
    }
   ],
   "source": [
    "si = Chem.FindPotentialStereo(m)\n",
    "for element in si:\n",
    "    print(f'Type: {element.type}, Which: {element.centeredOn}, Specified: {element.specified}, Descriptor: {element.descriptor}, Permutation: {element.permutation}')\n",
    "    controlling_atoms = []\n",
    "    ca = element.controllingAtoms\n",
    "    if not ca is None:\n",
    "        for atom in element.controllingAtoms:\n",
    "            controlling_atoms.append(atom)\n",
    "        if len(controlling_atoms) > 0:\n",
    "            print(f'  Controlling atoms: {controlling_atoms}')"
   ]
  },
  {
   "cell_type": "code",
   "execution_count": null,
   "metadata": {},
   "outputs": [
    {
     "ename": "",
     "evalue": "",
     "output_type": "error",
     "traceback": [
      "\u001b[1;31mFailed to start the Kernel. \n",
      "\u001b[1;31mJupyter server crashed. Unable to connect. \n",
      "\u001b[1;31mError code from Jupyter: 1\n",
      "\u001b[1;31mTraceback (most recent call last):\n",
      "\u001b[1;31m  File \"/Users/jemonat/opt/anaconda3/envs/my-rdkit-env/bin/jupyter-notebook\", line 7, in <module>\n",
      "\u001b[1;31m\n",
      "\u001b[1;31m    from notebook.notebookapp import main\n",
      "\u001b[1;31m  File \"/Users/jemonat/opt/anaconda3/envs/my-rdkit-env/lib/python3.10/site-packages/notebook/notebookapp.py\", line 59, in <module>\n",
      "\u001b[1;31m\n",
      "\u001b[1;31m    from tornado import httpserver\n",
      "\u001b[1;31m  File \"/Users/jemonat/opt/anaconda3/envs/my-rdkit-env/lib/python3.10/site-packages/tornado/httpserver.py\", line 29, in <module>\n",
      "\u001b[1;31m\n",
      "\u001b[1;31m    import ssl\n",
      "\u001b[1;31m  File \"/Users/jemonat/opt/anaconda3/envs/my-rdkit-env/lib/python3.10/ssl.py\", line 98, in <module>\n",
      "\u001b[1;31m\n",
      "\u001b[1;31m    import _ssl             # if we can't import it, let the error propagate\n",
      "\u001b[1;31mImportError: dlopen(/Users/jemonat/opt/anaconda3/envs/my-rdkit-env/lib/python3.10/lib-dynload/_ssl.cpython-310-darwin.so, 0x0002): Library not loaded: @rpath/libssl.1.1.dylib\n",
      "\u001b[1;31m  Referenced from: <9EDE67EB-4BB4-3203-9312-EEF3934CF29C> /Users/jemonat/opt/anaconda3/envs/my-rdkit-env/lib/python3.10/lib-dynload/_ssl.cpython-310-darwin.so\n",
      "\u001b[1;31m  Reason: tried: '/Users/jemonat/opt/anaconda3/envs/my-rdkit-env/lib/libssl.1.1.dylib' (mach-o file, but is an incompatible architecture (have 'arm64', need 'x86_64')), '/System/Volumes/Preboot/Cryptexes/OS/Users/jemonat/opt/anaconda3/envs/my-rdkit-env/lib/libssl.1.1.dylib' (no such file), '/Users/jemonat/opt/anaconda3/envs/my-rdkit-env/lib/libssl.1.1.dylib' (mach-o file, but is an incompatible architecture (have 'arm64', need 'x86_64')), '/System/Volumes/Preboot/Cryptexes/OS/Users/jemonat/opt/anaconda3/envs/my-rdkit-env/lib/libssl.1.1.dylib' (no such file), '/Users/jemonat/opt/anaconda3/envs/my-rdkit-env/lib/python3.10/lib-dynload/../../libssl.1.1.dylib' (mach-o file, but is an incompatible architecture (have 'arm64', need 'x86_64')), '/Users/jemonat/opt/anaconda3/envs/my-rdkit-env/lib/libssl.1.1.dylib' (mach-o file, but is an incompatible architecture (have 'arm64', need 'x86_64')), '/System/Volumes/Preboot/Cryptexes/OS/Users/jemonat/opt/anaconda3/envs/my-rdkit-env/lib/libssl.1.1.dylib' (no such file), '/Users/jemonat/opt/anaconda3/envs/my-rdkit-env/lib/libssl.1.1.dylib' (mach-o file, but is an incompatible architecture (have 'arm64', need 'x86_64')), '/System/Volumes/Preboot/Cryptexes/OS/Users/jemonat/opt/anaconda3/envs/my-rdkit-env/lib/libssl.1.1.dylib' (no such file), '/Users/jemonat/opt/anaconda3/envs/my-rdkit-env/lib/python3.10/lib-dynload/../../libssl.1.1.dylib' (mach-o file, but is an incompatible architecture (have 'arm64', need 'x86_64')), '/Users/jemonat/opt/anaconda3/envs/my-rdkit-env/lib/libssl.1.1.dylib' (mach-o file, but is an incompatible architecture (have 'arm64', need 'x86_64')), '/System/Volumes/Preboot/Cryptexes/OS/Users/jemonat/opt/anaconda3/envs/my-rdkit-env/lib/libssl.1.1.dylib' (no such file), '/Users/jemonat/opt/anaconda3/envs/my-rdkit-env/bin/../lib/libssl.1.1.dylib' (mach-o file, but is an incompatible architecture (have 'arm64', need 'x86_64')), '/Users/jemonat/opt/anaconda3/envs/my-rdkit-env/lib/libssl.1.1.dylib' (mach-o file, but is an incompatible architecture (have 'arm64', need 'x86_64')), '/System/Volumes/Preboot/Cryptexes/OS/Users/jemonat/opt/anaconda3/envs/my-rdkit-env/lib/libssl.1.1.dylib' (no such file), '/Users/jemonat/opt/anaconda3/envs/my-rdkit-env/bin/../lib/libssl.1.1.dylib' (mach-o file, but is an incompatible architecture (have 'arm64', need 'x86_64')), '/System/Volumes/Preboot/Cryptexes/OS@rpath/libssl.1.1.dylib' (no such file), '/Users/jemonat/opt/anaconda3/envs/my-rdkit-env/lib/libssl.1.1.dylib' (mach-o file, but is an incompatible architecture (have 'arm64', need 'x86_64')), '/System/Volumes/Preboot/Cryptexes/OS/Users/jemonat/opt/anaconda3/envs/my-rdkit-env/lib/libssl.1.1.dylib' (no such file), '/Users/jemonat/opt/anaconda3/envs/my-rdkit-env/lib/libssl.1.1.dylib' (mach-o file, but is an incompatible architecture (have 'arm64', need 'x86_64')), '/System/Volumes/Preboot/Cryptexes/OS/Users/jemonat/opt/anaconda3/envs/my-rdkit-env/lib/libssl.1.1.dylib' (no such file), '/Users/jemonat/opt/anaconda3/envs/my-rdkit-env/lib/python3.10/lib-dynload/../../libssl.1.1.dylib' (mach-o file, but is an incompatible architecture (have 'arm64', need 'x86_64')), '/Users/jemonat/opt/anaconda3/envs/my-rdkit-env/lib/libssl.1.1.dylib' (mach-o file, but is an incompatible architecture (have 'arm64', need 'x86_64')), '/System/Volumes/Preboot/Cryptexes/OS/Users/jemonat/opt/anaconda3/envs/my-rdkit-env/lib/libssl.1.1.dylib' (no such file), '/Users/jemonat/opt/anaconda3/envs/my-rdkit-env/lib/libssl.1.1.dylib' (mach-o file, but is an incompatible architecture (have 'arm64', need 'x86_64')), '/System/Volumes/Preboot/Cryptexes/OS/Users/jemonat/opt/anaconda3/envs/my-rdkit-env/lib/libssl.1.1.dylib' (no such file), '/Users/jemonat/opt/anaconda3/envs/my-rdkit-env/lib/python3.10/lib-dynload/../../libssl.1.1.dylib' (mach-o file, but is an incompatible architecture (have 'arm64', need 'x86_64')), '/Users/jemonat/opt/anaconda3/envs/my-rdkit-env/lib/libssl.1.1.dylib' (mach-o file, but is an incompatible architecture (have 'arm64', need 'x86_64')), '/System/Volumes/Preboot/Cryptexes/OS/Users/jemonat/opt/anaconda3/envs/my-rdkit-env/lib/libssl.1.1.dylib' (no such file), '/Users/jemonat/opt/anaconda3/envs/my-rdkit-env/bin/../lib/libssl.1.1.dylib' (mach-o file, but is an incompatible architecture (have 'arm64', need 'x86_64')), '/Users/jemonat/opt/anaconda3/envs/my-rdkit-env/lib/libssl.1.1.dylib' (mach-o file, but is an incompatible architecture (have 'arm64', need 'x86_64')), '/System/Volumes/Preboot/Cryptexes/OS/Users/jemonat/opt/anaconda3/envs/my-rdkit-env/lib/libssl.1.1.dylib' (no such file), '/Users/jemonat/opt/anaconda3/envs/my-rdkit-env/bin/../lib/libssl.1.1.dylib' (mach-o file, but is an incompatible architecture (have 'arm64', need 'x86_64')), '/usr/local/lib/libssl.1.1.dylib' (no such file), '/usr/lib/libssl.1.1.dylib' (no such file, not in dyld cache). \n",
      "\u001b[1;31mView Jupyter <a href='command:jupyter.viewOutput'>log</a> for further details."
     ]
    }
   ],
   "source": [
    "mol_double_bonds = Chem.MolFromSmiles(\"C\\C=C(/F)\\C(=C\\F)\\C=C\")\n",
    "mol_double_bonds"
   ]
  },
  {
   "cell_type": "code",
   "execution_count": null,
   "metadata": {},
   "outputs": [
    {
     "ename": "",
     "evalue": "",
     "output_type": "error",
     "traceback": [
      "\u001b[1;31mFailed to start the Kernel. \n",
      "\u001b[1;31mJupyter server crashed. Unable to connect. \n",
      "\u001b[1;31mError code from Jupyter: 1\n",
      "\u001b[1;31mTraceback (most recent call last):\n",
      "\u001b[1;31m  File \"/Users/jemonat/opt/anaconda3/envs/my-rdkit-env/bin/jupyter-notebook\", line 7, in <module>\n",
      "\u001b[1;31m\n",
      "\u001b[1;31m    from notebook.notebookapp import main\n",
      "\u001b[1;31m  File \"/Users/jemonat/opt/anaconda3/envs/my-rdkit-env/lib/python3.10/site-packages/notebook/notebookapp.py\", line 59, in <module>\n",
      "\u001b[1;31m\n",
      "\u001b[1;31m    from tornado import httpserver\n",
      "\u001b[1;31m  File \"/Users/jemonat/opt/anaconda3/envs/my-rdkit-env/lib/python3.10/site-packages/tornado/httpserver.py\", line 29, in <module>\n",
      "\u001b[1;31m\n",
      "\u001b[1;31m    import ssl\n",
      "\u001b[1;31m  File \"/Users/jemonat/opt/anaconda3/envs/my-rdkit-env/lib/python3.10/ssl.py\", line 98, in <module>\n",
      "\u001b[1;31m\n",
      "\u001b[1;31m    import _ssl             # if we can't import it, let the error propagate\n",
      "\u001b[1;31mImportError: dlopen(/Users/jemonat/opt/anaconda3/envs/my-rdkit-env/lib/python3.10/lib-dynload/_ssl.cpython-310-darwin.so, 0x0002): Library not loaded: @rpath/libssl.1.1.dylib\n",
      "\u001b[1;31m  Referenced from: <9EDE67EB-4BB4-3203-9312-EEF3934CF29C> /Users/jemonat/opt/anaconda3/envs/my-rdkit-env/lib/python3.10/lib-dynload/_ssl.cpython-310-darwin.so\n",
      "\u001b[1;31m  Reason: tried: '/Users/jemonat/opt/anaconda3/envs/my-rdkit-env/lib/libssl.1.1.dylib' (mach-o file, but is an incompatible architecture (have 'arm64', need 'x86_64')), '/System/Volumes/Preboot/Cryptexes/OS/Users/jemonat/opt/anaconda3/envs/my-rdkit-env/lib/libssl.1.1.dylib' (no such file), '/Users/jemonat/opt/anaconda3/envs/my-rdkit-env/lib/libssl.1.1.dylib' (mach-o file, but is an incompatible architecture (have 'arm64', need 'x86_64')), '/System/Volumes/Preboot/Cryptexes/OS/Users/jemonat/opt/anaconda3/envs/my-rdkit-env/lib/libssl.1.1.dylib' (no such file), '/Users/jemonat/opt/anaconda3/envs/my-rdkit-env/lib/python3.10/lib-dynload/../../libssl.1.1.dylib' (mach-o file, but is an incompatible architecture (have 'arm64', need 'x86_64')), '/Users/jemonat/opt/anaconda3/envs/my-rdkit-env/lib/libssl.1.1.dylib' (mach-o file, but is an incompatible architecture (have 'arm64', need 'x86_64')), '/System/Volumes/Preboot/Cryptexes/OS/Users/jemonat/opt/anaconda3/envs/my-rdkit-env/lib/libssl.1.1.dylib' (no such file), '/Users/jemonat/opt/anaconda3/envs/my-rdkit-env/lib/libssl.1.1.dylib' (mach-o file, but is an incompatible architecture (have 'arm64', need 'x86_64')), '/System/Volumes/Preboot/Cryptexes/OS/Users/jemonat/opt/anaconda3/envs/my-rdkit-env/lib/libssl.1.1.dylib' (no such file), '/Users/jemonat/opt/anaconda3/envs/my-rdkit-env/lib/python3.10/lib-dynload/../../libssl.1.1.dylib' (mach-o file, but is an incompatible architecture (have 'arm64', need 'x86_64')), '/Users/jemonat/opt/anaconda3/envs/my-rdkit-env/lib/libssl.1.1.dylib' (mach-o file, but is an incompatible architecture (have 'arm64', need 'x86_64')), '/System/Volumes/Preboot/Cryptexes/OS/Users/jemonat/opt/anaconda3/envs/my-rdkit-env/lib/libssl.1.1.dylib' (no such file), '/Users/jemonat/opt/anaconda3/envs/my-rdkit-env/bin/../lib/libssl.1.1.dylib' (mach-o file, but is an incompatible architecture (have 'arm64', need 'x86_64')), '/Users/jemonat/opt/anaconda3/envs/my-rdkit-env/lib/libssl.1.1.dylib' (mach-o file, but is an incompatible architecture (have 'arm64', need 'x86_64')), '/System/Volumes/Preboot/Cryptexes/OS/Users/jemonat/opt/anaconda3/envs/my-rdkit-env/lib/libssl.1.1.dylib' (no such file), '/Users/jemonat/opt/anaconda3/envs/my-rdkit-env/bin/../lib/libssl.1.1.dylib' (mach-o file, but is an incompatible architecture (have 'arm64', need 'x86_64')), '/System/Volumes/Preboot/Cryptexes/OS@rpath/libssl.1.1.dylib' (no such file), '/Users/jemonat/opt/anaconda3/envs/my-rdkit-env/lib/libssl.1.1.dylib' (mach-o file, but is an incompatible architecture (have 'arm64', need 'x86_64')), '/System/Volumes/Preboot/Cryptexes/OS/Users/jemonat/opt/anaconda3/envs/my-rdkit-env/lib/libssl.1.1.dylib' (no such file), '/Users/jemonat/opt/anaconda3/envs/my-rdkit-env/lib/libssl.1.1.dylib' (mach-o file, but is an incompatible architecture (have 'arm64', need 'x86_64')), '/System/Volumes/Preboot/Cryptexes/OS/Users/jemonat/opt/anaconda3/envs/my-rdkit-env/lib/libssl.1.1.dylib' (no such file), '/Users/jemonat/opt/anaconda3/envs/my-rdkit-env/lib/python3.10/lib-dynload/../../libssl.1.1.dylib' (mach-o file, but is an incompatible architecture (have 'arm64', need 'x86_64')), '/Users/jemonat/opt/anaconda3/envs/my-rdkit-env/lib/libssl.1.1.dylib' (mach-o file, but is an incompatible architecture (have 'arm64', need 'x86_64')), '/System/Volumes/Preboot/Cryptexes/OS/Users/jemonat/opt/anaconda3/envs/my-rdkit-env/lib/libssl.1.1.dylib' (no such file), '/Users/jemonat/opt/anaconda3/envs/my-rdkit-env/lib/libssl.1.1.dylib' (mach-o file, but is an incompatible architecture (have 'arm64', need 'x86_64')), '/System/Volumes/Preboot/Cryptexes/OS/Users/jemonat/opt/anaconda3/envs/my-rdkit-env/lib/libssl.1.1.dylib' (no such file), '/Users/jemonat/opt/anaconda3/envs/my-rdkit-env/lib/python3.10/lib-dynload/../../libssl.1.1.dylib' (mach-o file, but is an incompatible architecture (have 'arm64', need 'x86_64')), '/Users/jemonat/opt/anaconda3/envs/my-rdkit-env/lib/libssl.1.1.dylib' (mach-o file, but is an incompatible architecture (have 'arm64', need 'x86_64')), '/System/Volumes/Preboot/Cryptexes/OS/Users/jemonat/opt/anaconda3/envs/my-rdkit-env/lib/libssl.1.1.dylib' (no such file), '/Users/jemonat/opt/anaconda3/envs/my-rdkit-env/bin/../lib/libssl.1.1.dylib' (mach-o file, but is an incompatible architecture (have 'arm64', need 'x86_64')), '/Users/jemonat/opt/anaconda3/envs/my-rdkit-env/lib/libssl.1.1.dylib' (mach-o file, but is an incompatible architecture (have 'arm64', need 'x86_64')), '/System/Volumes/Preboot/Cryptexes/OS/Users/jemonat/opt/anaconda3/envs/my-rdkit-env/lib/libssl.1.1.dylib' (no such file), '/Users/jemonat/opt/anaconda3/envs/my-rdkit-env/bin/../lib/libssl.1.1.dylib' (mach-o file, but is an incompatible architecture (have 'arm64', need 'x86_64')), '/usr/local/lib/libssl.1.1.dylib' (no such file), '/usr/lib/libssl.1.1.dylib' (no such file, not in dyld cache). \n",
      "\u001b[1;31mView Jupyter <a href='command:jupyter.viewOutput'>log</a> for further details."
     ]
    }
   ],
   "source": [
    "for b in mol.GetBonds():\n",
    "    print(b.GetBeginAtomIdx(),b.GetEndAtomIdx(),\n",
    "          b.GetBondType(),b.GetStereo())"
   ]
  },
  {
   "cell_type": "code",
   "execution_count": null,
   "metadata": {},
   "outputs": [
    {
     "ename": "",
     "evalue": "",
     "output_type": "error",
     "traceback": [
      "\u001b[1;31mFailed to start the Kernel. \n",
      "\u001b[1;31mJupyter server crashed. Unable to connect. \n",
      "\u001b[1;31mError code from Jupyter: 1\n",
      "\u001b[1;31mTraceback (most recent call last):\n",
      "\u001b[1;31m  File \"/Users/jemonat/opt/anaconda3/envs/my-rdkit-env/bin/jupyter-notebook\", line 7, in <module>\n",
      "\u001b[1;31m\n",
      "\u001b[1;31m    from notebook.notebookapp import main\n",
      "\u001b[1;31m  File \"/Users/jemonat/opt/anaconda3/envs/my-rdkit-env/lib/python3.10/site-packages/notebook/notebookapp.py\", line 59, in <module>\n",
      "\u001b[1;31m\n",
      "\u001b[1;31m    from tornado import httpserver\n",
      "\u001b[1;31m  File \"/Users/jemonat/opt/anaconda3/envs/my-rdkit-env/lib/python3.10/site-packages/tornado/httpserver.py\", line 29, in <module>\n",
      "\u001b[1;31m\n",
      "\u001b[1;31m    import ssl\n",
      "\u001b[1;31m  File \"/Users/jemonat/opt/anaconda3/envs/my-rdkit-env/lib/python3.10/ssl.py\", line 98, in <module>\n",
      "\u001b[1;31m\n",
      "\u001b[1;31m    import _ssl             # if we can't import it, let the error propagate\n",
      "\u001b[1;31mImportError: dlopen(/Users/jemonat/opt/anaconda3/envs/my-rdkit-env/lib/python3.10/lib-dynload/_ssl.cpython-310-darwin.so, 0x0002): Library not loaded: @rpath/libssl.1.1.dylib\n",
      "\u001b[1;31m  Referenced from: <9EDE67EB-4BB4-3203-9312-EEF3934CF29C> /Users/jemonat/opt/anaconda3/envs/my-rdkit-env/lib/python3.10/lib-dynload/_ssl.cpython-310-darwin.so\n",
      "\u001b[1;31m  Reason: tried: '/Users/jemonat/opt/anaconda3/envs/my-rdkit-env/lib/libssl.1.1.dylib' (mach-o file, but is an incompatible architecture (have 'arm64', need 'x86_64')), '/System/Volumes/Preboot/Cryptexes/OS/Users/jemonat/opt/anaconda3/envs/my-rdkit-env/lib/libssl.1.1.dylib' (no such file), '/Users/jemonat/opt/anaconda3/envs/my-rdkit-env/lib/libssl.1.1.dylib' (mach-o file, but is an incompatible architecture (have 'arm64', need 'x86_64')), '/System/Volumes/Preboot/Cryptexes/OS/Users/jemonat/opt/anaconda3/envs/my-rdkit-env/lib/libssl.1.1.dylib' (no such file), '/Users/jemonat/opt/anaconda3/envs/my-rdkit-env/lib/python3.10/lib-dynload/../../libssl.1.1.dylib' (mach-o file, but is an incompatible architecture (have 'arm64', need 'x86_64')), '/Users/jemonat/opt/anaconda3/envs/my-rdkit-env/lib/libssl.1.1.dylib' (mach-o file, but is an incompatible architecture (have 'arm64', need 'x86_64')), '/System/Volumes/Preboot/Cryptexes/OS/Users/jemonat/opt/anaconda3/envs/my-rdkit-env/lib/libssl.1.1.dylib' (no such file), '/Users/jemonat/opt/anaconda3/envs/my-rdkit-env/lib/libssl.1.1.dylib' (mach-o file, but is an incompatible architecture (have 'arm64', need 'x86_64')), '/System/Volumes/Preboot/Cryptexes/OS/Users/jemonat/opt/anaconda3/envs/my-rdkit-env/lib/libssl.1.1.dylib' (no such file), '/Users/jemonat/opt/anaconda3/envs/my-rdkit-env/lib/python3.10/lib-dynload/../../libssl.1.1.dylib' (mach-o file, but is an incompatible architecture (have 'arm64', need 'x86_64')), '/Users/jemonat/opt/anaconda3/envs/my-rdkit-env/lib/libssl.1.1.dylib' (mach-o file, but is an incompatible architecture (have 'arm64', need 'x86_64')), '/System/Volumes/Preboot/Cryptexes/OS/Users/jemonat/opt/anaconda3/envs/my-rdkit-env/lib/libssl.1.1.dylib' (no such file), '/Users/jemonat/opt/anaconda3/envs/my-rdkit-env/bin/../lib/libssl.1.1.dylib' (mach-o file, but is an incompatible architecture (have 'arm64', need 'x86_64')), '/Users/jemonat/opt/anaconda3/envs/my-rdkit-env/lib/libssl.1.1.dylib' (mach-o file, but is an incompatible architecture (have 'arm64', need 'x86_64')), '/System/Volumes/Preboot/Cryptexes/OS/Users/jemonat/opt/anaconda3/envs/my-rdkit-env/lib/libssl.1.1.dylib' (no such file), '/Users/jemonat/opt/anaconda3/envs/my-rdkit-env/bin/../lib/libssl.1.1.dylib' (mach-o file, but is an incompatible architecture (have 'arm64', need 'x86_64')), '/System/Volumes/Preboot/Cryptexes/OS@rpath/libssl.1.1.dylib' (no such file), '/Users/jemonat/opt/anaconda3/envs/my-rdkit-env/lib/libssl.1.1.dylib' (mach-o file, but is an incompatible architecture (have 'arm64', need 'x86_64')), '/System/Volumes/Preboot/Cryptexes/OS/Users/jemonat/opt/anaconda3/envs/my-rdkit-env/lib/libssl.1.1.dylib' (no such file), '/Users/jemonat/opt/anaconda3/envs/my-rdkit-env/lib/libssl.1.1.dylib' (mach-o file, but is an incompatible architecture (have 'arm64', need 'x86_64')), '/System/Volumes/Preboot/Cryptexes/OS/Users/jemonat/opt/anaconda3/envs/my-rdkit-env/lib/libssl.1.1.dylib' (no such file), '/Users/jemonat/opt/anaconda3/envs/my-rdkit-env/lib/python3.10/lib-dynload/../../libssl.1.1.dylib' (mach-o file, but is an incompatible architecture (have 'arm64', need 'x86_64')), '/Users/jemonat/opt/anaconda3/envs/my-rdkit-env/lib/libssl.1.1.dylib' (mach-o file, but is an incompatible architecture (have 'arm64', need 'x86_64')), '/System/Volumes/Preboot/Cryptexes/OS/Users/jemonat/opt/anaconda3/envs/my-rdkit-env/lib/libssl.1.1.dylib' (no such file), '/Users/jemonat/opt/anaconda3/envs/my-rdkit-env/lib/libssl.1.1.dylib' (mach-o file, but is an incompatible architecture (have 'arm64', need 'x86_64')), '/System/Volumes/Preboot/Cryptexes/OS/Users/jemonat/opt/anaconda3/envs/my-rdkit-env/lib/libssl.1.1.dylib' (no such file), '/Users/jemonat/opt/anaconda3/envs/my-rdkit-env/lib/python3.10/lib-dynload/../../libssl.1.1.dylib' (mach-o file, but is an incompatible architecture (have 'arm64', need 'x86_64')), '/Users/jemonat/opt/anaconda3/envs/my-rdkit-env/lib/libssl.1.1.dylib' (mach-o file, but is an incompatible architecture (have 'arm64', need 'x86_64')), '/System/Volumes/Preboot/Cryptexes/OS/Users/jemonat/opt/anaconda3/envs/my-rdkit-env/lib/libssl.1.1.dylib' (no such file), '/Users/jemonat/opt/anaconda3/envs/my-rdkit-env/bin/../lib/libssl.1.1.dylib' (mach-o file, but is an incompatible architecture (have 'arm64', need 'x86_64')), '/Users/jemonat/opt/anaconda3/envs/my-rdkit-env/lib/libssl.1.1.dylib' (mach-o file, but is an incompatible architecture (have 'arm64', need 'x86_64')), '/System/Volumes/Preboot/Cryptexes/OS/Users/jemonat/opt/anaconda3/envs/my-rdkit-env/lib/libssl.1.1.dylib' (no such file), '/Users/jemonat/opt/anaconda3/envs/my-rdkit-env/bin/../lib/libssl.1.1.dylib' (mach-o file, but is an incompatible architecture (have 'arm64', need 'x86_64')), '/usr/local/lib/libssl.1.1.dylib' (no such file), '/usr/lib/libssl.1.1.dylib' (no such file, not in dyld cache). \n",
      "\u001b[1;31mView Jupyter <a href='command:jupyter.viewOutput'>log</a> for further details."
     ]
    }
   ],
   "source": [
    "si = Chem.FindPotentialStereo(mol_double_bonds)\n",
    "for element in si:\n",
    "    print(f'  Type: {element.type}, Which: {element.centeredOn}, Specified: {element.specified}, Descriptor: {element.descriptor}')"
   ]
  },
  {
   "attachments": {},
   "cell_type": "markdown",
   "metadata": {},
   "source": [
    "## [Manipulating Molecules](https://www.rdkit.org/docs/Cookbook.html#manipulating-molecules)"
   ]
  },
  {
   "attachments": {},
   "cell_type": "markdown",
   "metadata": {},
   "source": [
    "### [Create Fragments](https://www.rdkit.org/docs/Cookbook.html#create-fragments)"
   ]
  },
  {
   "cell_type": "code",
   "execution_count": null,
   "metadata": {},
   "outputs": [
    {
     "ename": "",
     "evalue": "",
     "output_type": "error",
     "traceback": [
      "\u001b[1;31mFailed to start the Kernel. \n",
      "\u001b[1;31mJupyter server crashed. Unable to connect. \n",
      "\u001b[1;31mError code from Jupyter: 1\n",
      "\u001b[1;31mTraceback (most recent call last):\n",
      "\u001b[1;31m  File \"/Users/jemonat/opt/anaconda3/envs/my-rdkit-env/bin/jupyter-notebook\", line 7, in <module>\n",
      "\u001b[1;31m\n",
      "\u001b[1;31m    from notebook.notebookapp import main\n",
      "\u001b[1;31m  File \"/Users/jemonat/opt/anaconda3/envs/my-rdkit-env/lib/python3.10/site-packages/notebook/notebookapp.py\", line 59, in <module>\n",
      "\u001b[1;31m\n",
      "\u001b[1;31m    from tornado import httpserver\n",
      "\u001b[1;31m  File \"/Users/jemonat/opt/anaconda3/envs/my-rdkit-env/lib/python3.10/site-packages/tornado/httpserver.py\", line 29, in <module>\n",
      "\u001b[1;31m\n",
      "\u001b[1;31m    import ssl\n",
      "\u001b[1;31m  File \"/Users/jemonat/opt/anaconda3/envs/my-rdkit-env/lib/python3.10/ssl.py\", line 98, in <module>\n",
      "\u001b[1;31m\n",
      "\u001b[1;31m    import _ssl             # if we can't import it, let the error propagate\n",
      "\u001b[1;31mImportError: dlopen(/Users/jemonat/opt/anaconda3/envs/my-rdkit-env/lib/python3.10/lib-dynload/_ssl.cpython-310-darwin.so, 0x0002): Library not loaded: @rpath/libssl.1.1.dylib\n",
      "\u001b[1;31m  Referenced from: <9EDE67EB-4BB4-3203-9312-EEF3934CF29C> /Users/jemonat/opt/anaconda3/envs/my-rdkit-env/lib/python3.10/lib-dynload/_ssl.cpython-310-darwin.so\n",
      "\u001b[1;31m  Reason: tried: '/Users/jemonat/opt/anaconda3/envs/my-rdkit-env/lib/libssl.1.1.dylib' (mach-o file, but is an incompatible architecture (have 'arm64', need 'x86_64')), '/System/Volumes/Preboot/Cryptexes/OS/Users/jemonat/opt/anaconda3/envs/my-rdkit-env/lib/libssl.1.1.dylib' (no such file), '/Users/jemonat/opt/anaconda3/envs/my-rdkit-env/lib/libssl.1.1.dylib' (mach-o file, but is an incompatible architecture (have 'arm64', need 'x86_64')), '/System/Volumes/Preboot/Cryptexes/OS/Users/jemonat/opt/anaconda3/envs/my-rdkit-env/lib/libssl.1.1.dylib' (no such file), '/Users/jemonat/opt/anaconda3/envs/my-rdkit-env/lib/python3.10/lib-dynload/../../libssl.1.1.dylib' (mach-o file, but is an incompatible architecture (have 'arm64', need 'x86_64')), '/Users/jemonat/opt/anaconda3/envs/my-rdkit-env/lib/libssl.1.1.dylib' (mach-o file, but is an incompatible architecture (have 'arm64', need 'x86_64')), '/System/Volumes/Preboot/Cryptexes/OS/Users/jemonat/opt/anaconda3/envs/my-rdkit-env/lib/libssl.1.1.dylib' (no such file), '/Users/jemonat/opt/anaconda3/envs/my-rdkit-env/lib/libssl.1.1.dylib' (mach-o file, but is an incompatible architecture (have 'arm64', need 'x86_64')), '/System/Volumes/Preboot/Cryptexes/OS/Users/jemonat/opt/anaconda3/envs/my-rdkit-env/lib/libssl.1.1.dylib' (no such file), '/Users/jemonat/opt/anaconda3/envs/my-rdkit-env/lib/python3.10/lib-dynload/../../libssl.1.1.dylib' (mach-o file, but is an incompatible architecture (have 'arm64', need 'x86_64')), '/Users/jemonat/opt/anaconda3/envs/my-rdkit-env/lib/libssl.1.1.dylib' (mach-o file, but is an incompatible architecture (have 'arm64', need 'x86_64')), '/System/Volumes/Preboot/Cryptexes/OS/Users/jemonat/opt/anaconda3/envs/my-rdkit-env/lib/libssl.1.1.dylib' (no such file), '/Users/jemonat/opt/anaconda3/envs/my-rdkit-env/bin/../lib/libssl.1.1.dylib' (mach-o file, but is an incompatible architecture (have 'arm64', need 'x86_64')), '/Users/jemonat/opt/anaconda3/envs/my-rdkit-env/lib/libssl.1.1.dylib' (mach-o file, but is an incompatible architecture (have 'arm64', need 'x86_64')), '/System/Volumes/Preboot/Cryptexes/OS/Users/jemonat/opt/anaconda3/envs/my-rdkit-env/lib/libssl.1.1.dylib' (no such file), '/Users/jemonat/opt/anaconda3/envs/my-rdkit-env/bin/../lib/libssl.1.1.dylib' (mach-o file, but is an incompatible architecture (have 'arm64', need 'x86_64')), '/System/Volumes/Preboot/Cryptexes/OS@rpath/libssl.1.1.dylib' (no such file), '/Users/jemonat/opt/anaconda3/envs/my-rdkit-env/lib/libssl.1.1.dylib' (mach-o file, but is an incompatible architecture (have 'arm64', need 'x86_64')), '/System/Volumes/Preboot/Cryptexes/OS/Users/jemonat/opt/anaconda3/envs/my-rdkit-env/lib/libssl.1.1.dylib' (no such file), '/Users/jemonat/opt/anaconda3/envs/my-rdkit-env/lib/libssl.1.1.dylib' (mach-o file, but is an incompatible architecture (have 'arm64', need 'x86_64')), '/System/Volumes/Preboot/Cryptexes/OS/Users/jemonat/opt/anaconda3/envs/my-rdkit-env/lib/libssl.1.1.dylib' (no such file), '/Users/jemonat/opt/anaconda3/envs/my-rdkit-env/lib/python3.10/lib-dynload/../../libssl.1.1.dylib' (mach-o file, but is an incompatible architecture (have 'arm64', need 'x86_64')), '/Users/jemonat/opt/anaconda3/envs/my-rdkit-env/lib/libssl.1.1.dylib' (mach-o file, but is an incompatible architecture (have 'arm64', need 'x86_64')), '/System/Volumes/Preboot/Cryptexes/OS/Users/jemonat/opt/anaconda3/envs/my-rdkit-env/lib/libssl.1.1.dylib' (no such file), '/Users/jemonat/opt/anaconda3/envs/my-rdkit-env/lib/libssl.1.1.dylib' (mach-o file, but is an incompatible architecture (have 'arm64', need 'x86_64')), '/System/Volumes/Preboot/Cryptexes/OS/Users/jemonat/opt/anaconda3/envs/my-rdkit-env/lib/libssl.1.1.dylib' (no such file), '/Users/jemonat/opt/anaconda3/envs/my-rdkit-env/lib/python3.10/lib-dynload/../../libssl.1.1.dylib' (mach-o file, but is an incompatible architecture (have 'arm64', need 'x86_64')), '/Users/jemonat/opt/anaconda3/envs/my-rdkit-env/lib/libssl.1.1.dylib' (mach-o file, but is an incompatible architecture (have 'arm64', need 'x86_64')), '/System/Volumes/Preboot/Cryptexes/OS/Users/jemonat/opt/anaconda3/envs/my-rdkit-env/lib/libssl.1.1.dylib' (no such file), '/Users/jemonat/opt/anaconda3/envs/my-rdkit-env/bin/../lib/libssl.1.1.dylib' (mach-o file, but is an incompatible architecture (have 'arm64', need 'x86_64')), '/Users/jemonat/opt/anaconda3/envs/my-rdkit-env/lib/libssl.1.1.dylib' (mach-o file, but is an incompatible architecture (have 'arm64', need 'x86_64')), '/System/Volumes/Preboot/Cryptexes/OS/Users/jemonat/opt/anaconda3/envs/my-rdkit-env/lib/libssl.1.1.dylib' (no such file), '/Users/jemonat/opt/anaconda3/envs/my-rdkit-env/bin/../lib/libssl.1.1.dylib' (mach-o file, but is an incompatible architecture (have 'arm64', need 'x86_64')), '/usr/local/lib/libssl.1.1.dylib' (no such file), '/usr/lib/libssl.1.1.dylib' (no such file, not in dyld cache). \n",
      "\u001b[1;31mView Jupyter <a href='command:jupyter.viewOutput'>log</a> for further details."
     ]
    }
   ],
   "source": [
    "IPythonConsole.drawOptions.addAtomIndices = False\n",
    "\n",
    "mol = Chem.MolFromSmiles(\"O-C-C-C-C-N\")\n",
    "mol1 = Chem.Mol(mol)\n",
    "mol2 = Chem.Mol(mol)\n",
    "\n",
    "for bnd in mol1.GetBonds():\n",
    "    mol1.GetBondWithIdx(bnd.GetIdx()).SetProp('bondNote', str(bnd.GetIdx()))\n",
    "\n",
    "mol1"
   ]
  },
  {
   "cell_type": "code",
   "execution_count": null,
   "metadata": {},
   "outputs": [
    {
     "ename": "",
     "evalue": "",
     "output_type": "error",
     "traceback": [
      "\u001b[1;31mFailed to start the Kernel. \n",
      "\u001b[1;31mJupyter server crashed. Unable to connect. \n",
      "\u001b[1;31mError code from Jupyter: 1\n",
      "\u001b[1;31mTraceback (most recent call last):\n",
      "\u001b[1;31m  File \"/Users/jemonat/opt/anaconda3/envs/my-rdkit-env/bin/jupyter-notebook\", line 7, in <module>\n",
      "\u001b[1;31m\n",
      "\u001b[1;31m    from notebook.notebookapp import main\n",
      "\u001b[1;31m  File \"/Users/jemonat/opt/anaconda3/envs/my-rdkit-env/lib/python3.10/site-packages/notebook/notebookapp.py\", line 59, in <module>\n",
      "\u001b[1;31m\n",
      "\u001b[1;31m    from tornado import httpserver\n",
      "\u001b[1;31m  File \"/Users/jemonat/opt/anaconda3/envs/my-rdkit-env/lib/python3.10/site-packages/tornado/httpserver.py\", line 29, in <module>\n",
      "\u001b[1;31m\n",
      "\u001b[1;31m    import ssl\n",
      "\u001b[1;31m  File \"/Users/jemonat/opt/anaconda3/envs/my-rdkit-env/lib/python3.10/ssl.py\", line 98, in <module>\n",
      "\u001b[1;31m\n",
      "\u001b[1;31m    import _ssl             # if we can't import it, let the error propagate\n",
      "\u001b[1;31mImportError: dlopen(/Users/jemonat/opt/anaconda3/envs/my-rdkit-env/lib/python3.10/lib-dynload/_ssl.cpython-310-darwin.so, 0x0002): Library not loaded: @rpath/libssl.1.1.dylib\n",
      "\u001b[1;31m  Referenced from: <9EDE67EB-4BB4-3203-9312-EEF3934CF29C> /Users/jemonat/opt/anaconda3/envs/my-rdkit-env/lib/python3.10/lib-dynload/_ssl.cpython-310-darwin.so\n",
      "\u001b[1;31m  Reason: tried: '/Users/jemonat/opt/anaconda3/envs/my-rdkit-env/lib/libssl.1.1.dylib' (mach-o file, but is an incompatible architecture (have 'arm64', need 'x86_64')), '/System/Volumes/Preboot/Cryptexes/OS/Users/jemonat/opt/anaconda3/envs/my-rdkit-env/lib/libssl.1.1.dylib' (no such file), '/Users/jemonat/opt/anaconda3/envs/my-rdkit-env/lib/libssl.1.1.dylib' (mach-o file, but is an incompatible architecture (have 'arm64', need 'x86_64')), '/System/Volumes/Preboot/Cryptexes/OS/Users/jemonat/opt/anaconda3/envs/my-rdkit-env/lib/libssl.1.1.dylib' (no such file), '/Users/jemonat/opt/anaconda3/envs/my-rdkit-env/lib/python3.10/lib-dynload/../../libssl.1.1.dylib' (mach-o file, but is an incompatible architecture (have 'arm64', need 'x86_64')), '/Users/jemonat/opt/anaconda3/envs/my-rdkit-env/lib/libssl.1.1.dylib' (mach-o file, but is an incompatible architecture (have 'arm64', need 'x86_64')), '/System/Volumes/Preboot/Cryptexes/OS/Users/jemonat/opt/anaconda3/envs/my-rdkit-env/lib/libssl.1.1.dylib' (no such file), '/Users/jemonat/opt/anaconda3/envs/my-rdkit-env/lib/libssl.1.1.dylib' (mach-o file, but is an incompatible architecture (have 'arm64', need 'x86_64')), '/System/Volumes/Preboot/Cryptexes/OS/Users/jemonat/opt/anaconda3/envs/my-rdkit-env/lib/libssl.1.1.dylib' (no such file), '/Users/jemonat/opt/anaconda3/envs/my-rdkit-env/lib/python3.10/lib-dynload/../../libssl.1.1.dylib' (mach-o file, but is an incompatible architecture (have 'arm64', need 'x86_64')), '/Users/jemonat/opt/anaconda3/envs/my-rdkit-env/lib/libssl.1.1.dylib' (mach-o file, but is an incompatible architecture (have 'arm64', need 'x86_64')), '/System/Volumes/Preboot/Cryptexes/OS/Users/jemonat/opt/anaconda3/envs/my-rdkit-env/lib/libssl.1.1.dylib' (no such file), '/Users/jemonat/opt/anaconda3/envs/my-rdkit-env/bin/../lib/libssl.1.1.dylib' (mach-o file, but is an incompatible architecture (have 'arm64', need 'x86_64')), '/Users/jemonat/opt/anaconda3/envs/my-rdkit-env/lib/libssl.1.1.dylib' (mach-o file, but is an incompatible architecture (have 'arm64', need 'x86_64')), '/System/Volumes/Preboot/Cryptexes/OS/Users/jemonat/opt/anaconda3/envs/my-rdkit-env/lib/libssl.1.1.dylib' (no such file), '/Users/jemonat/opt/anaconda3/envs/my-rdkit-env/bin/../lib/libssl.1.1.dylib' (mach-o file, but is an incompatible architecture (have 'arm64', need 'x86_64')), '/System/Volumes/Preboot/Cryptexes/OS@rpath/libssl.1.1.dylib' (no such file), '/Users/jemonat/opt/anaconda3/envs/my-rdkit-env/lib/libssl.1.1.dylib' (mach-o file, but is an incompatible architecture (have 'arm64', need 'x86_64')), '/System/Volumes/Preboot/Cryptexes/OS/Users/jemonat/opt/anaconda3/envs/my-rdkit-env/lib/libssl.1.1.dylib' (no such file), '/Users/jemonat/opt/anaconda3/envs/my-rdkit-env/lib/libssl.1.1.dylib' (mach-o file, but is an incompatible architecture (have 'arm64', need 'x86_64')), '/System/Volumes/Preboot/Cryptexes/OS/Users/jemonat/opt/anaconda3/envs/my-rdkit-env/lib/libssl.1.1.dylib' (no such file), '/Users/jemonat/opt/anaconda3/envs/my-rdkit-env/lib/python3.10/lib-dynload/../../libssl.1.1.dylib' (mach-o file, but is an incompatible architecture (have 'arm64', need 'x86_64')), '/Users/jemonat/opt/anaconda3/envs/my-rdkit-env/lib/libssl.1.1.dylib' (mach-o file, but is an incompatible architecture (have 'arm64', need 'x86_64')), '/System/Volumes/Preboot/Cryptexes/OS/Users/jemonat/opt/anaconda3/envs/my-rdkit-env/lib/libssl.1.1.dylib' (no such file), '/Users/jemonat/opt/anaconda3/envs/my-rdkit-env/lib/libssl.1.1.dylib' (mach-o file, but is an incompatible architecture (have 'arm64', need 'x86_64')), '/System/Volumes/Preboot/Cryptexes/OS/Users/jemonat/opt/anaconda3/envs/my-rdkit-env/lib/libssl.1.1.dylib' (no such file), '/Users/jemonat/opt/anaconda3/envs/my-rdkit-env/lib/python3.10/lib-dynload/../../libssl.1.1.dylib' (mach-o file, but is an incompatible architecture (have 'arm64', need 'x86_64')), '/Users/jemonat/opt/anaconda3/envs/my-rdkit-env/lib/libssl.1.1.dylib' (mach-o file, but is an incompatible architecture (have 'arm64', need 'x86_64')), '/System/Volumes/Preboot/Cryptexes/OS/Users/jemonat/opt/anaconda3/envs/my-rdkit-env/lib/libssl.1.1.dylib' (no such file), '/Users/jemonat/opt/anaconda3/envs/my-rdkit-env/bin/../lib/libssl.1.1.dylib' (mach-o file, but is an incompatible architecture (have 'arm64', need 'x86_64')), '/Users/jemonat/opt/anaconda3/envs/my-rdkit-env/lib/libssl.1.1.dylib' (mach-o file, but is an incompatible architecture (have 'arm64', need 'x86_64')), '/System/Volumes/Preboot/Cryptexes/OS/Users/jemonat/opt/anaconda3/envs/my-rdkit-env/lib/libssl.1.1.dylib' (no such file), '/Users/jemonat/opt/anaconda3/envs/my-rdkit-env/bin/../lib/libssl.1.1.dylib' (mach-o file, but is an incompatible architecture (have 'arm64', need 'x86_64')), '/usr/local/lib/libssl.1.1.dylib' (no such file), '/usr/lib/libssl.1.1.dylib' (no such file, not in dyld cache). \n",
      "\u001b[1;31mView Jupyter <a href='command:jupyter.viewOutput'>log</a> for further details."
     ]
    }
   ],
   "source": [
    "mol1_f = Chem.FragmentOnBonds(mol1, (0, 2, 4))\n",
    "mol1_f"
   ]
  },
  {
   "cell_type": "code",
   "execution_count": null,
   "metadata": {},
   "outputs": [
    {
     "ename": "",
     "evalue": "",
     "output_type": "error",
     "traceback": [
      "\u001b[1;31mFailed to start the Kernel. \n",
      "\u001b[1;31mJupyter server crashed. Unable to connect. \n",
      "\u001b[1;31mError code from Jupyter: 1\n",
      "\u001b[1;31mTraceback (most recent call last):\n",
      "\u001b[1;31m  File \"/Users/jemonat/opt/anaconda3/envs/my-rdkit-env/bin/jupyter-notebook\", line 7, in <module>\n",
      "\u001b[1;31m\n",
      "\u001b[1;31m    from notebook.notebookapp import main\n",
      "\u001b[1;31m  File \"/Users/jemonat/opt/anaconda3/envs/my-rdkit-env/lib/python3.10/site-packages/notebook/notebookapp.py\", line 59, in <module>\n",
      "\u001b[1;31m\n",
      "\u001b[1;31m    from tornado import httpserver\n",
      "\u001b[1;31m  File \"/Users/jemonat/opt/anaconda3/envs/my-rdkit-env/lib/python3.10/site-packages/tornado/httpserver.py\", line 29, in <module>\n",
      "\u001b[1;31m\n",
      "\u001b[1;31m    import ssl\n",
      "\u001b[1;31m  File \"/Users/jemonat/opt/anaconda3/envs/my-rdkit-env/lib/python3.10/ssl.py\", line 98, in <module>\n",
      "\u001b[1;31m\n",
      "\u001b[1;31m    import _ssl             # if we can't import it, let the error propagate\n",
      "\u001b[1;31mImportError: dlopen(/Users/jemonat/opt/anaconda3/envs/my-rdkit-env/lib/python3.10/lib-dynload/_ssl.cpython-310-darwin.so, 0x0002): Library not loaded: @rpath/libssl.1.1.dylib\n",
      "\u001b[1;31m  Referenced from: <9EDE67EB-4BB4-3203-9312-EEF3934CF29C> /Users/jemonat/opt/anaconda3/envs/my-rdkit-env/lib/python3.10/lib-dynload/_ssl.cpython-310-darwin.so\n",
      "\u001b[1;31m  Reason: tried: '/Users/jemonat/opt/anaconda3/envs/my-rdkit-env/lib/libssl.1.1.dylib' (mach-o file, but is an incompatible architecture (have 'arm64', need 'x86_64')), '/System/Volumes/Preboot/Cryptexes/OS/Users/jemonat/opt/anaconda3/envs/my-rdkit-env/lib/libssl.1.1.dylib' (no such file), '/Users/jemonat/opt/anaconda3/envs/my-rdkit-env/lib/libssl.1.1.dylib' (mach-o file, but is an incompatible architecture (have 'arm64', need 'x86_64')), '/System/Volumes/Preboot/Cryptexes/OS/Users/jemonat/opt/anaconda3/envs/my-rdkit-env/lib/libssl.1.1.dylib' (no such file), '/Users/jemonat/opt/anaconda3/envs/my-rdkit-env/lib/python3.10/lib-dynload/../../libssl.1.1.dylib' (mach-o file, but is an incompatible architecture (have 'arm64', need 'x86_64')), '/Users/jemonat/opt/anaconda3/envs/my-rdkit-env/lib/libssl.1.1.dylib' (mach-o file, but is an incompatible architecture (have 'arm64', need 'x86_64')), '/System/Volumes/Preboot/Cryptexes/OS/Users/jemonat/opt/anaconda3/envs/my-rdkit-env/lib/libssl.1.1.dylib' (no such file), '/Users/jemonat/opt/anaconda3/envs/my-rdkit-env/lib/libssl.1.1.dylib' (mach-o file, but is an incompatible architecture (have 'arm64', need 'x86_64')), '/System/Volumes/Preboot/Cryptexes/OS/Users/jemonat/opt/anaconda3/envs/my-rdkit-env/lib/libssl.1.1.dylib' (no such file), '/Users/jemonat/opt/anaconda3/envs/my-rdkit-env/lib/python3.10/lib-dynload/../../libssl.1.1.dylib' (mach-o file, but is an incompatible architecture (have 'arm64', need 'x86_64')), '/Users/jemonat/opt/anaconda3/envs/my-rdkit-env/lib/libssl.1.1.dylib' (mach-o file, but is an incompatible architecture (have 'arm64', need 'x86_64')), '/System/Volumes/Preboot/Cryptexes/OS/Users/jemonat/opt/anaconda3/envs/my-rdkit-env/lib/libssl.1.1.dylib' (no such file), '/Users/jemonat/opt/anaconda3/envs/my-rdkit-env/bin/../lib/libssl.1.1.dylib' (mach-o file, but is an incompatible architecture (have 'arm64', need 'x86_64')), '/Users/jemonat/opt/anaconda3/envs/my-rdkit-env/lib/libssl.1.1.dylib' (mach-o file, but is an incompatible architecture (have 'arm64', need 'x86_64')), '/System/Volumes/Preboot/Cryptexes/OS/Users/jemonat/opt/anaconda3/envs/my-rdkit-env/lib/libssl.1.1.dylib' (no such file), '/Users/jemonat/opt/anaconda3/envs/my-rdkit-env/bin/../lib/libssl.1.1.dylib' (mach-o file, but is an incompatible architecture (have 'arm64', need 'x86_64')), '/System/Volumes/Preboot/Cryptexes/OS@rpath/libssl.1.1.dylib' (no such file), '/Users/jemonat/opt/anaconda3/envs/my-rdkit-env/lib/libssl.1.1.dylib' (mach-o file, but is an incompatible architecture (have 'arm64', need 'x86_64')), '/System/Volumes/Preboot/Cryptexes/OS/Users/jemonat/opt/anaconda3/envs/my-rdkit-env/lib/libssl.1.1.dylib' (no such file), '/Users/jemonat/opt/anaconda3/envs/my-rdkit-env/lib/libssl.1.1.dylib' (mach-o file, but is an incompatible architecture (have 'arm64', need 'x86_64')), '/System/Volumes/Preboot/Cryptexes/OS/Users/jemonat/opt/anaconda3/envs/my-rdkit-env/lib/libssl.1.1.dylib' (no such file), '/Users/jemonat/opt/anaconda3/envs/my-rdkit-env/lib/python3.10/lib-dynload/../../libssl.1.1.dylib' (mach-o file, but is an incompatible architecture (have 'arm64', need 'x86_64')), '/Users/jemonat/opt/anaconda3/envs/my-rdkit-env/lib/libssl.1.1.dylib' (mach-o file, but is an incompatible architecture (have 'arm64', need 'x86_64')), '/System/Volumes/Preboot/Cryptexes/OS/Users/jemonat/opt/anaconda3/envs/my-rdkit-env/lib/libssl.1.1.dylib' (no such file), '/Users/jemonat/opt/anaconda3/envs/my-rdkit-env/lib/libssl.1.1.dylib' (mach-o file, but is an incompatible architecture (have 'arm64', need 'x86_64')), '/System/Volumes/Preboot/Cryptexes/OS/Users/jemonat/opt/anaconda3/envs/my-rdkit-env/lib/libssl.1.1.dylib' (no such file), '/Users/jemonat/opt/anaconda3/envs/my-rdkit-env/lib/python3.10/lib-dynload/../../libssl.1.1.dylib' (mach-o file, but is an incompatible architecture (have 'arm64', need 'x86_64')), '/Users/jemonat/opt/anaconda3/envs/my-rdkit-env/lib/libssl.1.1.dylib' (mach-o file, but is an incompatible architecture (have 'arm64', need 'x86_64')), '/System/Volumes/Preboot/Cryptexes/OS/Users/jemonat/opt/anaconda3/envs/my-rdkit-env/lib/libssl.1.1.dylib' (no such file), '/Users/jemonat/opt/anaconda3/envs/my-rdkit-env/bin/../lib/libssl.1.1.dylib' (mach-o file, but is an incompatible architecture (have 'arm64', need 'x86_64')), '/Users/jemonat/opt/anaconda3/envs/my-rdkit-env/lib/libssl.1.1.dylib' (mach-o file, but is an incompatible architecture (have 'arm64', need 'x86_64')), '/System/Volumes/Preboot/Cryptexes/OS/Users/jemonat/opt/anaconda3/envs/my-rdkit-env/lib/libssl.1.1.dylib' (no such file), '/Users/jemonat/opt/anaconda3/envs/my-rdkit-env/bin/../lib/libssl.1.1.dylib' (mach-o file, but is an incompatible architecture (have 'arm64', need 'x86_64')), '/usr/local/lib/libssl.1.1.dylib' (no such file), '/usr/lib/libssl.1.1.dylib' (no such file, not in dyld cache). \n",
      "\u001b[1;31mView Jupyter <a href='command:jupyter.viewOutput'>log</a> for further details."
     ]
    }
   ],
   "source": [
    "Draw.MolsToGridImage(Chem.GetMolFrags(mol1_f, asMols=True))"
   ]
  },
  {
   "attachments": {},
   "cell_type": "markdown",
   "metadata": {},
   "source": [
    "### [Sidechain-Core Enumeration](https://www.rdkit.org/docs/Cookbook.html#sidechain-core-enumeration)"
   ]
  },
  {
   "cell_type": "code",
   "execution_count": null,
   "metadata": {},
   "outputs": [
    {
     "ename": "",
     "evalue": "",
     "output_type": "error",
     "traceback": [
      "\u001b[1;31mFailed to start the Kernel. \n",
      "\u001b[1;31mJupyter server crashed. Unable to connect. \n",
      "\u001b[1;31mError code from Jupyter: 1\n",
      "\u001b[1;31mTraceback (most recent call last):\n",
      "\u001b[1;31m  File \"/Users/jemonat/opt/anaconda3/envs/my-rdkit-env/bin/jupyter-notebook\", line 7, in <module>\n",
      "\u001b[1;31m\n",
      "\u001b[1;31m    from notebook.notebookapp import main\n",
      "\u001b[1;31m  File \"/Users/jemonat/opt/anaconda3/envs/my-rdkit-env/lib/python3.10/site-packages/notebook/notebookapp.py\", line 59, in <module>\n",
      "\u001b[1;31m\n",
      "\u001b[1;31m    from tornado import httpserver\n",
      "\u001b[1;31m  File \"/Users/jemonat/opt/anaconda3/envs/my-rdkit-env/lib/python3.10/site-packages/tornado/httpserver.py\", line 29, in <module>\n",
      "\u001b[1;31m\n",
      "\u001b[1;31m    import ssl\n",
      "\u001b[1;31m  File \"/Users/jemonat/opt/anaconda3/envs/my-rdkit-env/lib/python3.10/ssl.py\", line 98, in <module>\n",
      "\u001b[1;31m\n",
      "\u001b[1;31m    import _ssl             # if we can't import it, let the error propagate\n",
      "\u001b[1;31mImportError: dlopen(/Users/jemonat/opt/anaconda3/envs/my-rdkit-env/lib/python3.10/lib-dynload/_ssl.cpython-310-darwin.so, 0x0002): Library not loaded: @rpath/libssl.1.1.dylib\n",
      "\u001b[1;31m  Referenced from: <9EDE67EB-4BB4-3203-9312-EEF3934CF29C> /Users/jemonat/opt/anaconda3/envs/my-rdkit-env/lib/python3.10/lib-dynload/_ssl.cpython-310-darwin.so\n",
      "\u001b[1;31m  Reason: tried: '/Users/jemonat/opt/anaconda3/envs/my-rdkit-env/lib/libssl.1.1.dylib' (mach-o file, but is an incompatible architecture (have 'arm64', need 'x86_64')), '/System/Volumes/Preboot/Cryptexes/OS/Users/jemonat/opt/anaconda3/envs/my-rdkit-env/lib/libssl.1.1.dylib' (no such file), '/Users/jemonat/opt/anaconda3/envs/my-rdkit-env/lib/libssl.1.1.dylib' (mach-o file, but is an incompatible architecture (have 'arm64', need 'x86_64')), '/System/Volumes/Preboot/Cryptexes/OS/Users/jemonat/opt/anaconda3/envs/my-rdkit-env/lib/libssl.1.1.dylib' (no such file), '/Users/jemonat/opt/anaconda3/envs/my-rdkit-env/lib/python3.10/lib-dynload/../../libssl.1.1.dylib' (mach-o file, but is an incompatible architecture (have 'arm64', need 'x86_64')), '/Users/jemonat/opt/anaconda3/envs/my-rdkit-env/lib/libssl.1.1.dylib' (mach-o file, but is an incompatible architecture (have 'arm64', need 'x86_64')), '/System/Volumes/Preboot/Cryptexes/OS/Users/jemonat/opt/anaconda3/envs/my-rdkit-env/lib/libssl.1.1.dylib' (no such file), '/Users/jemonat/opt/anaconda3/envs/my-rdkit-env/lib/libssl.1.1.dylib' (mach-o file, but is an incompatible architecture (have 'arm64', need 'x86_64')), '/System/Volumes/Preboot/Cryptexes/OS/Users/jemonat/opt/anaconda3/envs/my-rdkit-env/lib/libssl.1.1.dylib' (no such file), '/Users/jemonat/opt/anaconda3/envs/my-rdkit-env/lib/python3.10/lib-dynload/../../libssl.1.1.dylib' (mach-o file, but is an incompatible architecture (have 'arm64', need 'x86_64')), '/Users/jemonat/opt/anaconda3/envs/my-rdkit-env/lib/libssl.1.1.dylib' (mach-o file, but is an incompatible architecture (have 'arm64', need 'x86_64')), '/System/Volumes/Preboot/Cryptexes/OS/Users/jemonat/opt/anaconda3/envs/my-rdkit-env/lib/libssl.1.1.dylib' (no such file), '/Users/jemonat/opt/anaconda3/envs/my-rdkit-env/bin/../lib/libssl.1.1.dylib' (mach-o file, but is an incompatible architecture (have 'arm64', need 'x86_64')), '/Users/jemonat/opt/anaconda3/envs/my-rdkit-env/lib/libssl.1.1.dylib' (mach-o file, but is an incompatible architecture (have 'arm64', need 'x86_64')), '/System/Volumes/Preboot/Cryptexes/OS/Users/jemonat/opt/anaconda3/envs/my-rdkit-env/lib/libssl.1.1.dylib' (no such file), '/Users/jemonat/opt/anaconda3/envs/my-rdkit-env/bin/../lib/libssl.1.1.dylib' (mach-o file, but is an incompatible architecture (have 'arm64', need 'x86_64')), '/System/Volumes/Preboot/Cryptexes/OS@rpath/libssl.1.1.dylib' (no such file), '/Users/jemonat/opt/anaconda3/envs/my-rdkit-env/lib/libssl.1.1.dylib' (mach-o file, but is an incompatible architecture (have 'arm64', need 'x86_64')), '/System/Volumes/Preboot/Cryptexes/OS/Users/jemonat/opt/anaconda3/envs/my-rdkit-env/lib/libssl.1.1.dylib' (no such file), '/Users/jemonat/opt/anaconda3/envs/my-rdkit-env/lib/libssl.1.1.dylib' (mach-o file, but is an incompatible architecture (have 'arm64', need 'x86_64')), '/System/Volumes/Preboot/Cryptexes/OS/Users/jemonat/opt/anaconda3/envs/my-rdkit-env/lib/libssl.1.1.dylib' (no such file), '/Users/jemonat/opt/anaconda3/envs/my-rdkit-env/lib/python3.10/lib-dynload/../../libssl.1.1.dylib' (mach-o file, but is an incompatible architecture (have 'arm64', need 'x86_64')), '/Users/jemonat/opt/anaconda3/envs/my-rdkit-env/lib/libssl.1.1.dylib' (mach-o file, but is an incompatible architecture (have 'arm64', need 'x86_64')), '/System/Volumes/Preboot/Cryptexes/OS/Users/jemonat/opt/anaconda3/envs/my-rdkit-env/lib/libssl.1.1.dylib' (no such file), '/Users/jemonat/opt/anaconda3/envs/my-rdkit-env/lib/libssl.1.1.dylib' (mach-o file, but is an incompatible architecture (have 'arm64', need 'x86_64')), '/System/Volumes/Preboot/Cryptexes/OS/Users/jemonat/opt/anaconda3/envs/my-rdkit-env/lib/libssl.1.1.dylib' (no such file), '/Users/jemonat/opt/anaconda3/envs/my-rdkit-env/lib/python3.10/lib-dynload/../../libssl.1.1.dylib' (mach-o file, but is an incompatible architecture (have 'arm64', need 'x86_64')), '/Users/jemonat/opt/anaconda3/envs/my-rdkit-env/lib/libssl.1.1.dylib' (mach-o file, but is an incompatible architecture (have 'arm64', need 'x86_64')), '/System/Volumes/Preboot/Cryptexes/OS/Users/jemonat/opt/anaconda3/envs/my-rdkit-env/lib/libssl.1.1.dylib' (no such file), '/Users/jemonat/opt/anaconda3/envs/my-rdkit-env/bin/../lib/libssl.1.1.dylib' (mach-o file, but is an incompatible architecture (have 'arm64', need 'x86_64')), '/Users/jemonat/opt/anaconda3/envs/my-rdkit-env/lib/libssl.1.1.dylib' (mach-o file, but is an incompatible architecture (have 'arm64', need 'x86_64')), '/System/Volumes/Preboot/Cryptexes/OS/Users/jemonat/opt/anaconda3/envs/my-rdkit-env/lib/libssl.1.1.dylib' (no such file), '/Users/jemonat/opt/anaconda3/envs/my-rdkit-env/bin/../lib/libssl.1.1.dylib' (mach-o file, but is an incompatible architecture (have 'arm64', need 'x86_64')), '/usr/local/lib/libssl.1.1.dylib' (no such file), '/usr/lib/libssl.1.1.dylib' (no such file, not in dyld cache). \n",
      "\u001b[1;31mView Jupyter <a href='command:jupyter.viewOutput'>log</a> for further details."
     ]
    }
   ],
   "source": [
    "IPythonConsole.drawOptions.addAtomIndices = False\n",
    "r = '[c:1][#0].[#0][*:2]'\n",
    "r_mol = Chem.MolFromSmarts(r)\n",
    "\n",
    "p = '[c:1]-[*:2]'\n",
    "p_mol = Chem.MolFromSmarts(p)\n",
    "\n",
    "# rxn = AllChem.ReactionFromSmarts('[c:1][#0].[#0][*:2]>>[c:1]-[*:2]')\n",
    "rxn = AllChem.ReactionFromSmarts(r + '>>' + p)\n",
    "rxn"
   ]
  },
  {
   "cell_type": "code",
   "execution_count": null,
   "metadata": {},
   "outputs": [
    {
     "ename": "",
     "evalue": "",
     "output_type": "error",
     "traceback": [
      "\u001b[1;31mFailed to start the Kernel. \n",
      "\u001b[1;31mJupyter server crashed. Unable to connect. \n",
      "\u001b[1;31mError code from Jupyter: 1\n",
      "\u001b[1;31mTraceback (most recent call last):\n",
      "\u001b[1;31m  File \"/Users/jemonat/opt/anaconda3/envs/my-rdkit-env/bin/jupyter-notebook\", line 7, in <module>\n",
      "\u001b[1;31m\n",
      "\u001b[1;31m    from notebook.notebookapp import main\n",
      "\u001b[1;31m  File \"/Users/jemonat/opt/anaconda3/envs/my-rdkit-env/lib/python3.10/site-packages/notebook/notebookapp.py\", line 59, in <module>\n",
      "\u001b[1;31m\n",
      "\u001b[1;31m    from tornado import httpserver\n",
      "\u001b[1;31m  File \"/Users/jemonat/opt/anaconda3/envs/my-rdkit-env/lib/python3.10/site-packages/tornado/httpserver.py\", line 29, in <module>\n",
      "\u001b[1;31m\n",
      "\u001b[1;31m    import ssl\n",
      "\u001b[1;31m  File \"/Users/jemonat/opt/anaconda3/envs/my-rdkit-env/lib/python3.10/ssl.py\", line 98, in <module>\n",
      "\u001b[1;31m\n",
      "\u001b[1;31m    import _ssl             # if we can't import it, let the error propagate\n",
      "\u001b[1;31mImportError: dlopen(/Users/jemonat/opt/anaconda3/envs/my-rdkit-env/lib/python3.10/lib-dynload/_ssl.cpython-310-darwin.so, 0x0002): Library not loaded: @rpath/libssl.1.1.dylib\n",
      "\u001b[1;31m  Referenced from: <9EDE67EB-4BB4-3203-9312-EEF3934CF29C> /Users/jemonat/opt/anaconda3/envs/my-rdkit-env/lib/python3.10/lib-dynload/_ssl.cpython-310-darwin.so\n",
      "\u001b[1;31m  Reason: tried: '/Users/jemonat/opt/anaconda3/envs/my-rdkit-env/lib/libssl.1.1.dylib' (mach-o file, but is an incompatible architecture (have 'arm64', need 'x86_64')), '/System/Volumes/Preboot/Cryptexes/OS/Users/jemonat/opt/anaconda3/envs/my-rdkit-env/lib/libssl.1.1.dylib' (no such file), '/Users/jemonat/opt/anaconda3/envs/my-rdkit-env/lib/libssl.1.1.dylib' (mach-o file, but is an incompatible architecture (have 'arm64', need 'x86_64')), '/System/Volumes/Preboot/Cryptexes/OS/Users/jemonat/opt/anaconda3/envs/my-rdkit-env/lib/libssl.1.1.dylib' (no such file), '/Users/jemonat/opt/anaconda3/envs/my-rdkit-env/lib/python3.10/lib-dynload/../../libssl.1.1.dylib' (mach-o file, but is an incompatible architecture (have 'arm64', need 'x86_64')), '/Users/jemonat/opt/anaconda3/envs/my-rdkit-env/lib/libssl.1.1.dylib' (mach-o file, but is an incompatible architecture (have 'arm64', need 'x86_64')), '/System/Volumes/Preboot/Cryptexes/OS/Users/jemonat/opt/anaconda3/envs/my-rdkit-env/lib/libssl.1.1.dylib' (no such file), '/Users/jemonat/opt/anaconda3/envs/my-rdkit-env/lib/libssl.1.1.dylib' (mach-o file, but is an incompatible architecture (have 'arm64', need 'x86_64')), '/System/Volumes/Preboot/Cryptexes/OS/Users/jemonat/opt/anaconda3/envs/my-rdkit-env/lib/libssl.1.1.dylib' (no such file), '/Users/jemonat/opt/anaconda3/envs/my-rdkit-env/lib/python3.10/lib-dynload/../../libssl.1.1.dylib' (mach-o file, but is an incompatible architecture (have 'arm64', need 'x86_64')), '/Users/jemonat/opt/anaconda3/envs/my-rdkit-env/lib/libssl.1.1.dylib' (mach-o file, but is an incompatible architecture (have 'arm64', need 'x86_64')), '/System/Volumes/Preboot/Cryptexes/OS/Users/jemonat/opt/anaconda3/envs/my-rdkit-env/lib/libssl.1.1.dylib' (no such file), '/Users/jemonat/opt/anaconda3/envs/my-rdkit-env/bin/../lib/libssl.1.1.dylib' (mach-o file, but is an incompatible architecture (have 'arm64', need 'x86_64')), '/Users/jemonat/opt/anaconda3/envs/my-rdkit-env/lib/libssl.1.1.dylib' (mach-o file, but is an incompatible architecture (have 'arm64', need 'x86_64')), '/System/Volumes/Preboot/Cryptexes/OS/Users/jemonat/opt/anaconda3/envs/my-rdkit-env/lib/libssl.1.1.dylib' (no such file), '/Users/jemonat/opt/anaconda3/envs/my-rdkit-env/bin/../lib/libssl.1.1.dylib' (mach-o file, but is an incompatible architecture (have 'arm64', need 'x86_64')), '/System/Volumes/Preboot/Cryptexes/OS@rpath/libssl.1.1.dylib' (no such file), '/Users/jemonat/opt/anaconda3/envs/my-rdkit-env/lib/libssl.1.1.dylib' (mach-o file, but is an incompatible architecture (have 'arm64', need 'x86_64')), '/System/Volumes/Preboot/Cryptexes/OS/Users/jemonat/opt/anaconda3/envs/my-rdkit-env/lib/libssl.1.1.dylib' (no such file), '/Users/jemonat/opt/anaconda3/envs/my-rdkit-env/lib/libssl.1.1.dylib' (mach-o file, but is an incompatible architecture (have 'arm64', need 'x86_64')), '/System/Volumes/Preboot/Cryptexes/OS/Users/jemonat/opt/anaconda3/envs/my-rdkit-env/lib/libssl.1.1.dylib' (no such file), '/Users/jemonat/opt/anaconda3/envs/my-rdkit-env/lib/python3.10/lib-dynload/../../libssl.1.1.dylib' (mach-o file, but is an incompatible architecture (have 'arm64', need 'x86_64')), '/Users/jemonat/opt/anaconda3/envs/my-rdkit-env/lib/libssl.1.1.dylib' (mach-o file, but is an incompatible architecture (have 'arm64', need 'x86_64')), '/System/Volumes/Preboot/Cryptexes/OS/Users/jemonat/opt/anaconda3/envs/my-rdkit-env/lib/libssl.1.1.dylib' (no such file), '/Users/jemonat/opt/anaconda3/envs/my-rdkit-env/lib/libssl.1.1.dylib' (mach-o file, but is an incompatible architecture (have 'arm64', need 'x86_64')), '/System/Volumes/Preboot/Cryptexes/OS/Users/jemonat/opt/anaconda3/envs/my-rdkit-env/lib/libssl.1.1.dylib' (no such file), '/Users/jemonat/opt/anaconda3/envs/my-rdkit-env/lib/python3.10/lib-dynload/../../libssl.1.1.dylib' (mach-o file, but is an incompatible architecture (have 'arm64', need 'x86_64')), '/Users/jemonat/opt/anaconda3/envs/my-rdkit-env/lib/libssl.1.1.dylib' (mach-o file, but is an incompatible architecture (have 'arm64', need 'x86_64')), '/System/Volumes/Preboot/Cryptexes/OS/Users/jemonat/opt/anaconda3/envs/my-rdkit-env/lib/libssl.1.1.dylib' (no such file), '/Users/jemonat/opt/anaconda3/envs/my-rdkit-env/bin/../lib/libssl.1.1.dylib' (mach-o file, but is an incompatible architecture (have 'arm64', need 'x86_64')), '/Users/jemonat/opt/anaconda3/envs/my-rdkit-env/lib/libssl.1.1.dylib' (mach-o file, but is an incompatible architecture (have 'arm64', need 'x86_64')), '/System/Volumes/Preboot/Cryptexes/OS/Users/jemonat/opt/anaconda3/envs/my-rdkit-env/lib/libssl.1.1.dylib' (no such file), '/Users/jemonat/opt/anaconda3/envs/my-rdkit-env/bin/../lib/libssl.1.1.dylib' (mach-o file, but is an incompatible architecture (have 'arm64', need 'x86_64')), '/usr/local/lib/libssl.1.1.dylib' (no such file), '/usr/lib/libssl.1.1.dylib' (no such file, not in dyld cache). \n",
      "\u001b[1;31mView Jupyter <a href='command:jupyter.viewOutput'>log</a> for further details."
     ]
    }
   ],
   "source": [
    "reacts = Chem.MolFromSmiles('*c1c(C)cccc1(O)'),Chem.MolFromSmiles('CN*')\n",
    "Draw.MolsToGridImage([react for react in reacts])"
   ]
  },
  {
   "cell_type": "code",
   "execution_count": null,
   "metadata": {},
   "outputs": [
    {
     "ename": "",
     "evalue": "",
     "output_type": "error",
     "traceback": [
      "\u001b[1;31mFailed to start the Kernel. \n",
      "\u001b[1;31mJupyter server crashed. Unable to connect. \n",
      "\u001b[1;31mError code from Jupyter: 1\n",
      "\u001b[1;31mTraceback (most recent call last):\n",
      "\u001b[1;31m  File \"/Users/jemonat/opt/anaconda3/envs/my-rdkit-env/bin/jupyter-notebook\", line 7, in <module>\n",
      "\u001b[1;31m\n",
      "\u001b[1;31m    from notebook.notebookapp import main\n",
      "\u001b[1;31m  File \"/Users/jemonat/opt/anaconda3/envs/my-rdkit-env/lib/python3.10/site-packages/notebook/notebookapp.py\", line 59, in <module>\n",
      "\u001b[1;31m\n",
      "\u001b[1;31m    from tornado import httpserver\n",
      "\u001b[1;31m  File \"/Users/jemonat/opt/anaconda3/envs/my-rdkit-env/lib/python3.10/site-packages/tornado/httpserver.py\", line 29, in <module>\n",
      "\u001b[1;31m\n",
      "\u001b[1;31m    import ssl\n",
      "\u001b[1;31m  File \"/Users/jemonat/opt/anaconda3/envs/my-rdkit-env/lib/python3.10/ssl.py\", line 98, in <module>\n",
      "\u001b[1;31m\n",
      "\u001b[1;31m    import _ssl             # if we can't import it, let the error propagate\n",
      "\u001b[1;31mImportError: dlopen(/Users/jemonat/opt/anaconda3/envs/my-rdkit-env/lib/python3.10/lib-dynload/_ssl.cpython-310-darwin.so, 0x0002): Library not loaded: @rpath/libssl.1.1.dylib\n",
      "\u001b[1;31m  Referenced from: <9EDE67EB-4BB4-3203-9312-EEF3934CF29C> /Users/jemonat/opt/anaconda3/envs/my-rdkit-env/lib/python3.10/lib-dynload/_ssl.cpython-310-darwin.so\n",
      "\u001b[1;31m  Reason: tried: '/Users/jemonat/opt/anaconda3/envs/my-rdkit-env/lib/libssl.1.1.dylib' (mach-o file, but is an incompatible architecture (have 'arm64', need 'x86_64')), '/System/Volumes/Preboot/Cryptexes/OS/Users/jemonat/opt/anaconda3/envs/my-rdkit-env/lib/libssl.1.1.dylib' (no such file), '/Users/jemonat/opt/anaconda3/envs/my-rdkit-env/lib/libssl.1.1.dylib' (mach-o file, but is an incompatible architecture (have 'arm64', need 'x86_64')), '/System/Volumes/Preboot/Cryptexes/OS/Users/jemonat/opt/anaconda3/envs/my-rdkit-env/lib/libssl.1.1.dylib' (no such file), '/Users/jemonat/opt/anaconda3/envs/my-rdkit-env/lib/python3.10/lib-dynload/../../libssl.1.1.dylib' (mach-o file, but is an incompatible architecture (have 'arm64', need 'x86_64')), '/Users/jemonat/opt/anaconda3/envs/my-rdkit-env/lib/libssl.1.1.dylib' (mach-o file, but is an incompatible architecture (have 'arm64', need 'x86_64')), '/System/Volumes/Preboot/Cryptexes/OS/Users/jemonat/opt/anaconda3/envs/my-rdkit-env/lib/libssl.1.1.dylib' (no such file), '/Users/jemonat/opt/anaconda3/envs/my-rdkit-env/lib/libssl.1.1.dylib' (mach-o file, but is an incompatible architecture (have 'arm64', need 'x86_64')), '/System/Volumes/Preboot/Cryptexes/OS/Users/jemonat/opt/anaconda3/envs/my-rdkit-env/lib/libssl.1.1.dylib' (no such file), '/Users/jemonat/opt/anaconda3/envs/my-rdkit-env/lib/python3.10/lib-dynload/../../libssl.1.1.dylib' (mach-o file, but is an incompatible architecture (have 'arm64', need 'x86_64')), '/Users/jemonat/opt/anaconda3/envs/my-rdkit-env/lib/libssl.1.1.dylib' (mach-o file, but is an incompatible architecture (have 'arm64', need 'x86_64')), '/System/Volumes/Preboot/Cryptexes/OS/Users/jemonat/opt/anaconda3/envs/my-rdkit-env/lib/libssl.1.1.dylib' (no such file), '/Users/jemonat/opt/anaconda3/envs/my-rdkit-env/bin/../lib/libssl.1.1.dylib' (mach-o file, but is an incompatible architecture (have 'arm64', need 'x86_64')), '/Users/jemonat/opt/anaconda3/envs/my-rdkit-env/lib/libssl.1.1.dylib' (mach-o file, but is an incompatible architecture (have 'arm64', need 'x86_64')), '/System/Volumes/Preboot/Cryptexes/OS/Users/jemonat/opt/anaconda3/envs/my-rdkit-env/lib/libssl.1.1.dylib' (no such file), '/Users/jemonat/opt/anaconda3/envs/my-rdkit-env/bin/../lib/libssl.1.1.dylib' (mach-o file, but is an incompatible architecture (have 'arm64', need 'x86_64')), '/System/Volumes/Preboot/Cryptexes/OS@rpath/libssl.1.1.dylib' (no such file), '/Users/jemonat/opt/anaconda3/envs/my-rdkit-env/lib/libssl.1.1.dylib' (mach-o file, but is an incompatible architecture (have 'arm64', need 'x86_64')), '/System/Volumes/Preboot/Cryptexes/OS/Users/jemonat/opt/anaconda3/envs/my-rdkit-env/lib/libssl.1.1.dylib' (no such file), '/Users/jemonat/opt/anaconda3/envs/my-rdkit-env/lib/libssl.1.1.dylib' (mach-o file, but is an incompatible architecture (have 'arm64', need 'x86_64')), '/System/Volumes/Preboot/Cryptexes/OS/Users/jemonat/opt/anaconda3/envs/my-rdkit-env/lib/libssl.1.1.dylib' (no such file), '/Users/jemonat/opt/anaconda3/envs/my-rdkit-env/lib/python3.10/lib-dynload/../../libssl.1.1.dylib' (mach-o file, but is an incompatible architecture (have 'arm64', need 'x86_64')), '/Users/jemonat/opt/anaconda3/envs/my-rdkit-env/lib/libssl.1.1.dylib' (mach-o file, but is an incompatible architecture (have 'arm64', need 'x86_64')), '/System/Volumes/Preboot/Cryptexes/OS/Users/jemonat/opt/anaconda3/envs/my-rdkit-env/lib/libssl.1.1.dylib' (no such file), '/Users/jemonat/opt/anaconda3/envs/my-rdkit-env/lib/libssl.1.1.dylib' (mach-o file, but is an incompatible architecture (have 'arm64', need 'x86_64')), '/System/Volumes/Preboot/Cryptexes/OS/Users/jemonat/opt/anaconda3/envs/my-rdkit-env/lib/libssl.1.1.dylib' (no such file), '/Users/jemonat/opt/anaconda3/envs/my-rdkit-env/lib/python3.10/lib-dynload/../../libssl.1.1.dylib' (mach-o file, but is an incompatible architecture (have 'arm64', need 'x86_64')), '/Users/jemonat/opt/anaconda3/envs/my-rdkit-env/lib/libssl.1.1.dylib' (mach-o file, but is an incompatible architecture (have 'arm64', need 'x86_64')), '/System/Volumes/Preboot/Cryptexes/OS/Users/jemonat/opt/anaconda3/envs/my-rdkit-env/lib/libssl.1.1.dylib' (no such file), '/Users/jemonat/opt/anaconda3/envs/my-rdkit-env/bin/../lib/libssl.1.1.dylib' (mach-o file, but is an incompatible architecture (have 'arm64', need 'x86_64')), '/Users/jemonat/opt/anaconda3/envs/my-rdkit-env/lib/libssl.1.1.dylib' (mach-o file, but is an incompatible architecture (have 'arm64', need 'x86_64')), '/System/Volumes/Preboot/Cryptexes/OS/Users/jemonat/opt/anaconda3/envs/my-rdkit-env/lib/libssl.1.1.dylib' (no such file), '/Users/jemonat/opt/anaconda3/envs/my-rdkit-env/bin/../lib/libssl.1.1.dylib' (mach-o file, but is an incompatible architecture (have 'arm64', need 'x86_64')), '/usr/local/lib/libssl.1.1.dylib' (no such file), '/usr/lib/libssl.1.1.dylib' (no such file, not in dyld cache). \n",
      "\u001b[1;31mView Jupyter <a href='command:jupyter.viewOutput'>log</a> for further details."
     ]
    }
   ],
   "source": [
    "products = rxn.RunReactants(reacts)\n",
    "products[0][0]"
   ]
  },
  {
   "cell_type": "code",
   "execution_count": null,
   "metadata": {},
   "outputs": [
    {
     "ename": "",
     "evalue": "",
     "output_type": "error",
     "traceback": [
      "\u001b[1;31mFailed to start the Kernel. \n",
      "\u001b[1;31mJupyter server crashed. Unable to connect. \n",
      "\u001b[1;31mError code from Jupyter: 1\n",
      "\u001b[1;31mTraceback (most recent call last):\n",
      "\u001b[1;31m  File \"/Users/jemonat/opt/anaconda3/envs/my-rdkit-env/bin/jupyter-notebook\", line 7, in <module>\n",
      "\u001b[1;31m\n",
      "\u001b[1;31m    from notebook.notebookapp import main\n",
      "\u001b[1;31m  File \"/Users/jemonat/opt/anaconda3/envs/my-rdkit-env/lib/python3.10/site-packages/notebook/notebookapp.py\", line 59, in <module>\n",
      "\u001b[1;31m\n",
      "\u001b[1;31m    from tornado import httpserver\n",
      "\u001b[1;31m  File \"/Users/jemonat/opt/anaconda3/envs/my-rdkit-env/lib/python3.10/site-packages/tornado/httpserver.py\", line 29, in <module>\n",
      "\u001b[1;31m\n",
      "\u001b[1;31m    import ssl\n",
      "\u001b[1;31m  File \"/Users/jemonat/opt/anaconda3/envs/my-rdkit-env/lib/python3.10/ssl.py\", line 98, in <module>\n",
      "\u001b[1;31m\n",
      "\u001b[1;31m    import _ssl             # if we can't import it, let the error propagate\n",
      "\u001b[1;31mImportError: dlopen(/Users/jemonat/opt/anaconda3/envs/my-rdkit-env/lib/python3.10/lib-dynload/_ssl.cpython-310-darwin.so, 0x0002): Library not loaded: @rpath/libssl.1.1.dylib\n",
      "\u001b[1;31m  Referenced from: <9EDE67EB-4BB4-3203-9312-EEF3934CF29C> /Users/jemonat/opt/anaconda3/envs/my-rdkit-env/lib/python3.10/lib-dynload/_ssl.cpython-310-darwin.so\n",
      "\u001b[1;31m  Reason: tried: '/Users/jemonat/opt/anaconda3/envs/my-rdkit-env/lib/libssl.1.1.dylib' (mach-o file, but is an incompatible architecture (have 'arm64', need 'x86_64')), '/System/Volumes/Preboot/Cryptexes/OS/Users/jemonat/opt/anaconda3/envs/my-rdkit-env/lib/libssl.1.1.dylib' (no such file), '/Users/jemonat/opt/anaconda3/envs/my-rdkit-env/lib/libssl.1.1.dylib' (mach-o file, but is an incompatible architecture (have 'arm64', need 'x86_64')), '/System/Volumes/Preboot/Cryptexes/OS/Users/jemonat/opt/anaconda3/envs/my-rdkit-env/lib/libssl.1.1.dylib' (no such file), '/Users/jemonat/opt/anaconda3/envs/my-rdkit-env/lib/python3.10/lib-dynload/../../libssl.1.1.dylib' (mach-o file, but is an incompatible architecture (have 'arm64', need 'x86_64')), '/Users/jemonat/opt/anaconda3/envs/my-rdkit-env/lib/libssl.1.1.dylib' (mach-o file, but is an incompatible architecture (have 'arm64', need 'x86_64')), '/System/Volumes/Preboot/Cryptexes/OS/Users/jemonat/opt/anaconda3/envs/my-rdkit-env/lib/libssl.1.1.dylib' (no such file), '/Users/jemonat/opt/anaconda3/envs/my-rdkit-env/lib/libssl.1.1.dylib' (mach-o file, but is an incompatible architecture (have 'arm64', need 'x86_64')), '/System/Volumes/Preboot/Cryptexes/OS/Users/jemonat/opt/anaconda3/envs/my-rdkit-env/lib/libssl.1.1.dylib' (no such file), '/Users/jemonat/opt/anaconda3/envs/my-rdkit-env/lib/python3.10/lib-dynload/../../libssl.1.1.dylib' (mach-o file, but is an incompatible architecture (have 'arm64', need 'x86_64')), '/Users/jemonat/opt/anaconda3/envs/my-rdkit-env/lib/libssl.1.1.dylib' (mach-o file, but is an incompatible architecture (have 'arm64', need 'x86_64')), '/System/Volumes/Preboot/Cryptexes/OS/Users/jemonat/opt/anaconda3/envs/my-rdkit-env/lib/libssl.1.1.dylib' (no such file), '/Users/jemonat/opt/anaconda3/envs/my-rdkit-env/bin/../lib/libssl.1.1.dylib' (mach-o file, but is an incompatible architecture (have 'arm64', need 'x86_64')), '/Users/jemonat/opt/anaconda3/envs/my-rdkit-env/lib/libssl.1.1.dylib' (mach-o file, but is an incompatible architecture (have 'arm64', need 'x86_64')), '/System/Volumes/Preboot/Cryptexes/OS/Users/jemonat/opt/anaconda3/envs/my-rdkit-env/lib/libssl.1.1.dylib' (no such file), '/Users/jemonat/opt/anaconda3/envs/my-rdkit-env/bin/../lib/libssl.1.1.dylib' (mach-o file, but is an incompatible architecture (have 'arm64', need 'x86_64')), '/System/Volumes/Preboot/Cryptexes/OS@rpath/libssl.1.1.dylib' (no such file), '/Users/jemonat/opt/anaconda3/envs/my-rdkit-env/lib/libssl.1.1.dylib' (mach-o file, but is an incompatible architecture (have 'arm64', need 'x86_64')), '/System/Volumes/Preboot/Cryptexes/OS/Users/jemonat/opt/anaconda3/envs/my-rdkit-env/lib/libssl.1.1.dylib' (no such file), '/Users/jemonat/opt/anaconda3/envs/my-rdkit-env/lib/libssl.1.1.dylib' (mach-o file, but is an incompatible architecture (have 'arm64', need 'x86_64')), '/System/Volumes/Preboot/Cryptexes/OS/Users/jemonat/opt/anaconda3/envs/my-rdkit-env/lib/libssl.1.1.dylib' (no such file), '/Users/jemonat/opt/anaconda3/envs/my-rdkit-env/lib/python3.10/lib-dynload/../../libssl.1.1.dylib' (mach-o file, but is an incompatible architecture (have 'arm64', need 'x86_64')), '/Users/jemonat/opt/anaconda3/envs/my-rdkit-env/lib/libssl.1.1.dylib' (mach-o file, but is an incompatible architecture (have 'arm64', need 'x86_64')), '/System/Volumes/Preboot/Cryptexes/OS/Users/jemonat/opt/anaconda3/envs/my-rdkit-env/lib/libssl.1.1.dylib' (no such file), '/Users/jemonat/opt/anaconda3/envs/my-rdkit-env/lib/libssl.1.1.dylib' (mach-o file, but is an incompatible architecture (have 'arm64', need 'x86_64')), '/System/Volumes/Preboot/Cryptexes/OS/Users/jemonat/opt/anaconda3/envs/my-rdkit-env/lib/libssl.1.1.dylib' (no such file), '/Users/jemonat/opt/anaconda3/envs/my-rdkit-env/lib/python3.10/lib-dynload/../../libssl.1.1.dylib' (mach-o file, but is an incompatible architecture (have 'arm64', need 'x86_64')), '/Users/jemonat/opt/anaconda3/envs/my-rdkit-env/lib/libssl.1.1.dylib' (mach-o file, but is an incompatible architecture (have 'arm64', need 'x86_64')), '/System/Volumes/Preboot/Cryptexes/OS/Users/jemonat/opt/anaconda3/envs/my-rdkit-env/lib/libssl.1.1.dylib' (no such file), '/Users/jemonat/opt/anaconda3/envs/my-rdkit-env/bin/../lib/libssl.1.1.dylib' (mach-o file, but is an incompatible architecture (have 'arm64', need 'x86_64')), '/Users/jemonat/opt/anaconda3/envs/my-rdkit-env/lib/libssl.1.1.dylib' (mach-o file, but is an incompatible architecture (have 'arm64', need 'x86_64')), '/System/Volumes/Preboot/Cryptexes/OS/Users/jemonat/opt/anaconda3/envs/my-rdkit-env/lib/libssl.1.1.dylib' (no such file), '/Users/jemonat/opt/anaconda3/envs/my-rdkit-env/bin/../lib/libssl.1.1.dylib' (mach-o file, but is an incompatible architecture (have 'arm64', need 'x86_64')), '/usr/local/lib/libssl.1.1.dylib' (no such file), '/usr/lib/libssl.1.1.dylib' (no such file, not in dyld cache). \n",
      "\u001b[1;31mView Jupyter <a href='command:jupyter.viewOutput'>log</a> for further details."
     ]
    }
   ],
   "source": [
    "# Here is an example in a loop for an imidazolium core with alkyl chains\n",
    "core = Chem.MolFromSmiles('*[n+]1cc[nH]c1')\n",
    "chains = ['C','CC','CCC','CCCC','CCCCC','CCCCCC']\n",
    "chainMols = [Chem.MolFromSmiles(chain) for chain in chains]\n",
    "\n",
    "product_smi = []\n",
    "for chainMol in chainMols:\n",
    "    product_mol = Chem.ReplaceSubstructs(core,Chem.MolFromSmarts('[#0]'),chainMol)\n",
    "    product_smi.append(Chem.MolToSmiles(product_mol[0]))\n",
    "Draw.MolsToGridImage([Chem.MolFromSmiles(smi) for smi in product_smi])"
   ]
  },
  {
   "attachments": {},
   "cell_type": "markdown",
   "metadata": {},
   "source": [
    "*** Skipping sections for now"
   ]
  },
  {
   "attachments": {},
   "cell_type": "markdown",
   "metadata": {},
   "source": [
    "## [Reactions](https://www.rdkit.org/docs/Cookbook.html#reactions)"
   ]
  },
  {
   "attachments": {},
   "cell_type": "markdown",
   "metadata": {},
   "source": [
    "### [Reversing Reactions](https://www.rdkit.org/docs/Cookbook.html#reversing-reactions)"
   ]
  },
  {
   "cell_type": "code",
   "execution_count": null,
   "metadata": {},
   "outputs": [
    {
     "ename": "",
     "evalue": "",
     "output_type": "error",
     "traceback": [
      "\u001b[1;31mFailed to start the Kernel. \n",
      "\u001b[1;31mJupyter server crashed. Unable to connect. \n",
      "\u001b[1;31mError code from Jupyter: 1\n",
      "\u001b[1;31mTraceback (most recent call last):\n",
      "\u001b[1;31m  File \"/Users/jemonat/opt/anaconda3/envs/my-rdkit-env/bin/jupyter-notebook\", line 7, in <module>\n",
      "\u001b[1;31m\n",
      "\u001b[1;31m    from notebook.notebookapp import main\n",
      "\u001b[1;31m  File \"/Users/jemonat/opt/anaconda3/envs/my-rdkit-env/lib/python3.10/site-packages/notebook/notebookapp.py\", line 59, in <module>\n",
      "\u001b[1;31m\n",
      "\u001b[1;31m    from tornado import httpserver\n",
      "\u001b[1;31m  File \"/Users/jemonat/opt/anaconda3/envs/my-rdkit-env/lib/python3.10/site-packages/tornado/httpserver.py\", line 29, in <module>\n",
      "\u001b[1;31m\n",
      "\u001b[1;31m    import ssl\n",
      "\u001b[1;31m  File \"/Users/jemonat/opt/anaconda3/envs/my-rdkit-env/lib/python3.10/ssl.py\", line 98, in <module>\n",
      "\u001b[1;31m\n",
      "\u001b[1;31m    import _ssl             # if we can't import it, let the error propagate\n",
      "\u001b[1;31mImportError: dlopen(/Users/jemonat/opt/anaconda3/envs/my-rdkit-env/lib/python3.10/lib-dynload/_ssl.cpython-310-darwin.so, 0x0002): Library not loaded: @rpath/libssl.1.1.dylib\n",
      "\u001b[1;31m  Referenced from: <9EDE67EB-4BB4-3203-9312-EEF3934CF29C> /Users/jemonat/opt/anaconda3/envs/my-rdkit-env/lib/python3.10/lib-dynload/_ssl.cpython-310-darwin.so\n",
      "\u001b[1;31m  Reason: tried: '/Users/jemonat/opt/anaconda3/envs/my-rdkit-env/lib/libssl.1.1.dylib' (mach-o file, but is an incompatible architecture (have 'arm64', need 'x86_64')), '/System/Volumes/Preboot/Cryptexes/OS/Users/jemonat/opt/anaconda3/envs/my-rdkit-env/lib/libssl.1.1.dylib' (no such file), '/Users/jemonat/opt/anaconda3/envs/my-rdkit-env/lib/libssl.1.1.dylib' (mach-o file, but is an incompatible architecture (have 'arm64', need 'x86_64')), '/System/Volumes/Preboot/Cryptexes/OS/Users/jemonat/opt/anaconda3/envs/my-rdkit-env/lib/libssl.1.1.dylib' (no such file), '/Users/jemonat/opt/anaconda3/envs/my-rdkit-env/lib/python3.10/lib-dynload/../../libssl.1.1.dylib' (mach-o file, but is an incompatible architecture (have 'arm64', need 'x86_64')), '/Users/jemonat/opt/anaconda3/envs/my-rdkit-env/lib/libssl.1.1.dylib' (mach-o file, but is an incompatible architecture (have 'arm64', need 'x86_64')), '/System/Volumes/Preboot/Cryptexes/OS/Users/jemonat/opt/anaconda3/envs/my-rdkit-env/lib/libssl.1.1.dylib' (no such file), '/Users/jemonat/opt/anaconda3/envs/my-rdkit-env/lib/libssl.1.1.dylib' (mach-o file, but is an incompatible architecture (have 'arm64', need 'x86_64')), '/System/Volumes/Preboot/Cryptexes/OS/Users/jemonat/opt/anaconda3/envs/my-rdkit-env/lib/libssl.1.1.dylib' (no such file), '/Users/jemonat/opt/anaconda3/envs/my-rdkit-env/lib/python3.10/lib-dynload/../../libssl.1.1.dylib' (mach-o file, but is an incompatible architecture (have 'arm64', need 'x86_64')), '/Users/jemonat/opt/anaconda3/envs/my-rdkit-env/lib/libssl.1.1.dylib' (mach-o file, but is an incompatible architecture (have 'arm64', need 'x86_64')), '/System/Volumes/Preboot/Cryptexes/OS/Users/jemonat/opt/anaconda3/envs/my-rdkit-env/lib/libssl.1.1.dylib' (no such file), '/Users/jemonat/opt/anaconda3/envs/my-rdkit-env/bin/../lib/libssl.1.1.dylib' (mach-o file, but is an incompatible architecture (have 'arm64', need 'x86_64')), '/Users/jemonat/opt/anaconda3/envs/my-rdkit-env/lib/libssl.1.1.dylib' (mach-o file, but is an incompatible architecture (have 'arm64', need 'x86_64')), '/System/Volumes/Preboot/Cryptexes/OS/Users/jemonat/opt/anaconda3/envs/my-rdkit-env/lib/libssl.1.1.dylib' (no such file), '/Users/jemonat/opt/anaconda3/envs/my-rdkit-env/bin/../lib/libssl.1.1.dylib' (mach-o file, but is an incompatible architecture (have 'arm64', need 'x86_64')), '/System/Volumes/Preboot/Cryptexes/OS@rpath/libssl.1.1.dylib' (no such file), '/Users/jemonat/opt/anaconda3/envs/my-rdkit-env/lib/libssl.1.1.dylib' (mach-o file, but is an incompatible architecture (have 'arm64', need 'x86_64')), '/System/Volumes/Preboot/Cryptexes/OS/Users/jemonat/opt/anaconda3/envs/my-rdkit-env/lib/libssl.1.1.dylib' (no such file), '/Users/jemonat/opt/anaconda3/envs/my-rdkit-env/lib/libssl.1.1.dylib' (mach-o file, but is an incompatible architecture (have 'arm64', need 'x86_64')), '/System/Volumes/Preboot/Cryptexes/OS/Users/jemonat/opt/anaconda3/envs/my-rdkit-env/lib/libssl.1.1.dylib' (no such file), '/Users/jemonat/opt/anaconda3/envs/my-rdkit-env/lib/python3.10/lib-dynload/../../libssl.1.1.dylib' (mach-o file, but is an incompatible architecture (have 'arm64', need 'x86_64')), '/Users/jemonat/opt/anaconda3/envs/my-rdkit-env/lib/libssl.1.1.dylib' (mach-o file, but is an incompatible architecture (have 'arm64', need 'x86_64')), '/System/Volumes/Preboot/Cryptexes/OS/Users/jemonat/opt/anaconda3/envs/my-rdkit-env/lib/libssl.1.1.dylib' (no such file), '/Users/jemonat/opt/anaconda3/envs/my-rdkit-env/lib/libssl.1.1.dylib' (mach-o file, but is an incompatible architecture (have 'arm64', need 'x86_64')), '/System/Volumes/Preboot/Cryptexes/OS/Users/jemonat/opt/anaconda3/envs/my-rdkit-env/lib/libssl.1.1.dylib' (no such file), '/Users/jemonat/opt/anaconda3/envs/my-rdkit-env/lib/python3.10/lib-dynload/../../libssl.1.1.dylib' (mach-o file, but is an incompatible architecture (have 'arm64', need 'x86_64')), '/Users/jemonat/opt/anaconda3/envs/my-rdkit-env/lib/libssl.1.1.dylib' (mach-o file, but is an incompatible architecture (have 'arm64', need 'x86_64')), '/System/Volumes/Preboot/Cryptexes/OS/Users/jemonat/opt/anaconda3/envs/my-rdkit-env/lib/libssl.1.1.dylib' (no such file), '/Users/jemonat/opt/anaconda3/envs/my-rdkit-env/bin/../lib/libssl.1.1.dylib' (mach-o file, but is an incompatible architecture (have 'arm64', need 'x86_64')), '/Users/jemonat/opt/anaconda3/envs/my-rdkit-env/lib/libssl.1.1.dylib' (mach-o file, but is an incompatible architecture (have 'arm64', need 'x86_64')), '/System/Volumes/Preboot/Cryptexes/OS/Users/jemonat/opt/anaconda3/envs/my-rdkit-env/lib/libssl.1.1.dylib' (no such file), '/Users/jemonat/opt/anaconda3/envs/my-rdkit-env/bin/../lib/libssl.1.1.dylib' (mach-o file, but is an incompatible architecture (have 'arm64', need 'x86_64')), '/usr/local/lib/libssl.1.1.dylib' (no such file), '/usr/lib/libssl.1.1.dylib' (no such file, not in dyld cache). \n",
      "\u001b[1;31mView Jupyter <a href='command:jupyter.viewOutput'>log</a> for further details."
     ]
    }
   ],
   "source": [
    "# Pictet-Spengler rxn\n",
    "rxn_fwd = AllChem.ReactionFromSmarts('[cH1:1]1:[c:2](-[CH2:7]-[CH2:8]-[NH2:9]):[c:3]:[c:4]:[c:5]:[c:6]:1.[#6:11]-[CH1;R0:10]=[OD1]>>[c:1]12:[c:2](-[CH2:7]-[CH2:8]-[NH1:9]-[C:10]-2(-[#6:11])):[c:3]:[c:4]:[c:5]:[c:6]:1')\n",
    "rxn_fwd"
   ]
  },
  {
   "cell_type": "code",
   "execution_count": null,
   "metadata": {},
   "outputs": [
    {
     "ename": "",
     "evalue": "",
     "output_type": "error",
     "traceback": [
      "\u001b[1;31mFailed to start the Kernel. \n",
      "\u001b[1;31mJupyter server crashed. Unable to connect. \n",
      "\u001b[1;31mError code from Jupyter: 1\n",
      "\u001b[1;31mTraceback (most recent call last):\n",
      "\u001b[1;31m  File \"/Users/jemonat/opt/anaconda3/envs/my-rdkit-env/bin/jupyter-notebook\", line 7, in <module>\n",
      "\u001b[1;31m\n",
      "\u001b[1;31m    from notebook.notebookapp import main\n",
      "\u001b[1;31m  File \"/Users/jemonat/opt/anaconda3/envs/my-rdkit-env/lib/python3.10/site-packages/notebook/notebookapp.py\", line 59, in <module>\n",
      "\u001b[1;31m\n",
      "\u001b[1;31m    from tornado import httpserver\n",
      "\u001b[1;31m  File \"/Users/jemonat/opt/anaconda3/envs/my-rdkit-env/lib/python3.10/site-packages/tornado/httpserver.py\", line 29, in <module>\n",
      "\u001b[1;31m\n",
      "\u001b[1;31m    import ssl\n",
      "\u001b[1;31m  File \"/Users/jemonat/opt/anaconda3/envs/my-rdkit-env/lib/python3.10/ssl.py\", line 98, in <module>\n",
      "\u001b[1;31m\n",
      "\u001b[1;31m    import _ssl             # if we can't import it, let the error propagate\n",
      "\u001b[1;31mImportError: dlopen(/Users/jemonat/opt/anaconda3/envs/my-rdkit-env/lib/python3.10/lib-dynload/_ssl.cpython-310-darwin.so, 0x0002): Library not loaded: @rpath/libssl.1.1.dylib\n",
      "\u001b[1;31m  Referenced from: <9EDE67EB-4BB4-3203-9312-EEF3934CF29C> /Users/jemonat/opt/anaconda3/envs/my-rdkit-env/lib/python3.10/lib-dynload/_ssl.cpython-310-darwin.so\n",
      "\u001b[1;31m  Reason: tried: '/Users/jemonat/opt/anaconda3/envs/my-rdkit-env/lib/libssl.1.1.dylib' (mach-o file, but is an incompatible architecture (have 'arm64', need 'x86_64')), '/System/Volumes/Preboot/Cryptexes/OS/Users/jemonat/opt/anaconda3/envs/my-rdkit-env/lib/libssl.1.1.dylib' (no such file), '/Users/jemonat/opt/anaconda3/envs/my-rdkit-env/lib/libssl.1.1.dylib' (mach-o file, but is an incompatible architecture (have 'arm64', need 'x86_64')), '/System/Volumes/Preboot/Cryptexes/OS/Users/jemonat/opt/anaconda3/envs/my-rdkit-env/lib/libssl.1.1.dylib' (no such file), '/Users/jemonat/opt/anaconda3/envs/my-rdkit-env/lib/python3.10/lib-dynload/../../libssl.1.1.dylib' (mach-o file, but is an incompatible architecture (have 'arm64', need 'x86_64')), '/Users/jemonat/opt/anaconda3/envs/my-rdkit-env/lib/libssl.1.1.dylib' (mach-o file, but is an incompatible architecture (have 'arm64', need 'x86_64')), '/System/Volumes/Preboot/Cryptexes/OS/Users/jemonat/opt/anaconda3/envs/my-rdkit-env/lib/libssl.1.1.dylib' (no such file), '/Users/jemonat/opt/anaconda3/envs/my-rdkit-env/lib/libssl.1.1.dylib' (mach-o file, but is an incompatible architecture (have 'arm64', need 'x86_64')), '/System/Volumes/Preboot/Cryptexes/OS/Users/jemonat/opt/anaconda3/envs/my-rdkit-env/lib/libssl.1.1.dylib' (no such file), '/Users/jemonat/opt/anaconda3/envs/my-rdkit-env/lib/python3.10/lib-dynload/../../libssl.1.1.dylib' (mach-o file, but is an incompatible architecture (have 'arm64', need 'x86_64')), '/Users/jemonat/opt/anaconda3/envs/my-rdkit-env/lib/libssl.1.1.dylib' (mach-o file, but is an incompatible architecture (have 'arm64', need 'x86_64')), '/System/Volumes/Preboot/Cryptexes/OS/Users/jemonat/opt/anaconda3/envs/my-rdkit-env/lib/libssl.1.1.dylib' (no such file), '/Users/jemonat/opt/anaconda3/envs/my-rdkit-env/bin/../lib/libssl.1.1.dylib' (mach-o file, but is an incompatible architecture (have 'arm64', need 'x86_64')), '/Users/jemonat/opt/anaconda3/envs/my-rdkit-env/lib/libssl.1.1.dylib' (mach-o file, but is an incompatible architecture (have 'arm64', need 'x86_64')), '/System/Volumes/Preboot/Cryptexes/OS/Users/jemonat/opt/anaconda3/envs/my-rdkit-env/lib/libssl.1.1.dylib' (no such file), '/Users/jemonat/opt/anaconda3/envs/my-rdkit-env/bin/../lib/libssl.1.1.dylib' (mach-o file, but is an incompatible architecture (have 'arm64', need 'x86_64')), '/System/Volumes/Preboot/Cryptexes/OS@rpath/libssl.1.1.dylib' (no such file), '/Users/jemonat/opt/anaconda3/envs/my-rdkit-env/lib/libssl.1.1.dylib' (mach-o file, but is an incompatible architecture (have 'arm64', need 'x86_64')), '/System/Volumes/Preboot/Cryptexes/OS/Users/jemonat/opt/anaconda3/envs/my-rdkit-env/lib/libssl.1.1.dylib' (no such file), '/Users/jemonat/opt/anaconda3/envs/my-rdkit-env/lib/libssl.1.1.dylib' (mach-o file, but is an incompatible architecture (have 'arm64', need 'x86_64')), '/System/Volumes/Preboot/Cryptexes/OS/Users/jemonat/opt/anaconda3/envs/my-rdkit-env/lib/libssl.1.1.dylib' (no such file), '/Users/jemonat/opt/anaconda3/envs/my-rdkit-env/lib/python3.10/lib-dynload/../../libssl.1.1.dylib' (mach-o file, but is an incompatible architecture (have 'arm64', need 'x86_64')), '/Users/jemonat/opt/anaconda3/envs/my-rdkit-env/lib/libssl.1.1.dylib' (mach-o file, but is an incompatible architecture (have 'arm64', need 'x86_64')), '/System/Volumes/Preboot/Cryptexes/OS/Users/jemonat/opt/anaconda3/envs/my-rdkit-env/lib/libssl.1.1.dylib' (no such file), '/Users/jemonat/opt/anaconda3/envs/my-rdkit-env/lib/libssl.1.1.dylib' (mach-o file, but is an incompatible architecture (have 'arm64', need 'x86_64')), '/System/Volumes/Preboot/Cryptexes/OS/Users/jemonat/opt/anaconda3/envs/my-rdkit-env/lib/libssl.1.1.dylib' (no such file), '/Users/jemonat/opt/anaconda3/envs/my-rdkit-env/lib/python3.10/lib-dynload/../../libssl.1.1.dylib' (mach-o file, but is an incompatible architecture (have 'arm64', need 'x86_64')), '/Users/jemonat/opt/anaconda3/envs/my-rdkit-env/lib/libssl.1.1.dylib' (mach-o file, but is an incompatible architecture (have 'arm64', need 'x86_64')), '/System/Volumes/Preboot/Cryptexes/OS/Users/jemonat/opt/anaconda3/envs/my-rdkit-env/lib/libssl.1.1.dylib' (no such file), '/Users/jemonat/opt/anaconda3/envs/my-rdkit-env/bin/../lib/libssl.1.1.dylib' (mach-o file, but is an incompatible architecture (have 'arm64', need 'x86_64')), '/Users/jemonat/opt/anaconda3/envs/my-rdkit-env/lib/libssl.1.1.dylib' (mach-o file, but is an incompatible architecture (have 'arm64', need 'x86_64')), '/System/Volumes/Preboot/Cryptexes/OS/Users/jemonat/opt/anaconda3/envs/my-rdkit-env/lib/libssl.1.1.dylib' (no such file), '/Users/jemonat/opt/anaconda3/envs/my-rdkit-env/bin/../lib/libssl.1.1.dylib' (mach-o file, but is an incompatible architecture (have 'arm64', need 'x86_64')), '/usr/local/lib/libssl.1.1.dylib' (no such file), '/usr/lib/libssl.1.1.dylib' (no such file, not in dyld cache). \n",
      "\u001b[1;31mView Jupyter <a href='command:jupyter.viewOutput'>log</a> for further details."
     ]
    }
   ],
   "source": [
    "# Show the reactant templates for the forward reaction\n",
    "rxn_fwd_reactant_templates = []\n",
    "for reactant_index in range(rxn_fwd.GetNumReactantTemplates()):\n",
    "    rxn_fwd_reactant_templates.append(rxn_fwd.GetReactantTemplate(reactant_index))\n",
    "Draw.MolsToGridImage(rxn_fwd_reactant_templates)"
   ]
  },
  {
   "cell_type": "code",
   "execution_count": null,
   "metadata": {},
   "outputs": [
    {
     "ename": "",
     "evalue": "",
     "output_type": "error",
     "traceback": [
      "\u001b[1;31mFailed to start the Kernel. \n",
      "\u001b[1;31mJupyter server crashed. Unable to connect. \n",
      "\u001b[1;31mError code from Jupyter: 1\n",
      "\u001b[1;31mTraceback (most recent call last):\n",
      "\u001b[1;31m  File \"/Users/jemonat/opt/anaconda3/envs/my-rdkit-env/bin/jupyter-notebook\", line 7, in <module>\n",
      "\u001b[1;31m\n",
      "\u001b[1;31m    from notebook.notebookapp import main\n",
      "\u001b[1;31m  File \"/Users/jemonat/opt/anaconda3/envs/my-rdkit-env/lib/python3.10/site-packages/notebook/notebookapp.py\", line 59, in <module>\n",
      "\u001b[1;31m\n",
      "\u001b[1;31m    from tornado import httpserver\n",
      "\u001b[1;31m  File \"/Users/jemonat/opt/anaconda3/envs/my-rdkit-env/lib/python3.10/site-packages/tornado/httpserver.py\", line 29, in <module>\n",
      "\u001b[1;31m\n",
      "\u001b[1;31m    import ssl\n",
      "\u001b[1;31m  File \"/Users/jemonat/opt/anaconda3/envs/my-rdkit-env/lib/python3.10/ssl.py\", line 98, in <module>\n",
      "\u001b[1;31m\n",
      "\u001b[1;31m    import _ssl             # if we can't import it, let the error propagate\n",
      "\u001b[1;31mImportError: dlopen(/Users/jemonat/opt/anaconda3/envs/my-rdkit-env/lib/python3.10/lib-dynload/_ssl.cpython-310-darwin.so, 0x0002): Library not loaded: @rpath/libssl.1.1.dylib\n",
      "\u001b[1;31m  Referenced from: <9EDE67EB-4BB4-3203-9312-EEF3934CF29C> /Users/jemonat/opt/anaconda3/envs/my-rdkit-env/lib/python3.10/lib-dynload/_ssl.cpython-310-darwin.so\n",
      "\u001b[1;31m  Reason: tried: '/Users/jemonat/opt/anaconda3/envs/my-rdkit-env/lib/libssl.1.1.dylib' (mach-o file, but is an incompatible architecture (have 'arm64', need 'x86_64')), '/System/Volumes/Preboot/Cryptexes/OS/Users/jemonat/opt/anaconda3/envs/my-rdkit-env/lib/libssl.1.1.dylib' (no such file), '/Users/jemonat/opt/anaconda3/envs/my-rdkit-env/lib/libssl.1.1.dylib' (mach-o file, but is an incompatible architecture (have 'arm64', need 'x86_64')), '/System/Volumes/Preboot/Cryptexes/OS/Users/jemonat/opt/anaconda3/envs/my-rdkit-env/lib/libssl.1.1.dylib' (no such file), '/Users/jemonat/opt/anaconda3/envs/my-rdkit-env/lib/python3.10/lib-dynload/../../libssl.1.1.dylib' (mach-o file, but is an incompatible architecture (have 'arm64', need 'x86_64')), '/Users/jemonat/opt/anaconda3/envs/my-rdkit-env/lib/libssl.1.1.dylib' (mach-o file, but is an incompatible architecture (have 'arm64', need 'x86_64')), '/System/Volumes/Preboot/Cryptexes/OS/Users/jemonat/opt/anaconda3/envs/my-rdkit-env/lib/libssl.1.1.dylib' (no such file), '/Users/jemonat/opt/anaconda3/envs/my-rdkit-env/lib/libssl.1.1.dylib' (mach-o file, but is an incompatible architecture (have 'arm64', need 'x86_64')), '/System/Volumes/Preboot/Cryptexes/OS/Users/jemonat/opt/anaconda3/envs/my-rdkit-env/lib/libssl.1.1.dylib' (no such file), '/Users/jemonat/opt/anaconda3/envs/my-rdkit-env/lib/python3.10/lib-dynload/../../libssl.1.1.dylib' (mach-o file, but is an incompatible architecture (have 'arm64', need 'x86_64')), '/Users/jemonat/opt/anaconda3/envs/my-rdkit-env/lib/libssl.1.1.dylib' (mach-o file, but is an incompatible architecture (have 'arm64', need 'x86_64')), '/System/Volumes/Preboot/Cryptexes/OS/Users/jemonat/opt/anaconda3/envs/my-rdkit-env/lib/libssl.1.1.dylib' (no such file), '/Users/jemonat/opt/anaconda3/envs/my-rdkit-env/bin/../lib/libssl.1.1.dylib' (mach-o file, but is an incompatible architecture (have 'arm64', need 'x86_64')), '/Users/jemonat/opt/anaconda3/envs/my-rdkit-env/lib/libssl.1.1.dylib' (mach-o file, but is an incompatible architecture (have 'arm64', need 'x86_64')), '/System/Volumes/Preboot/Cryptexes/OS/Users/jemonat/opt/anaconda3/envs/my-rdkit-env/lib/libssl.1.1.dylib' (no such file), '/Users/jemonat/opt/anaconda3/envs/my-rdkit-env/bin/../lib/libssl.1.1.dylib' (mach-o file, but is an incompatible architecture (have 'arm64', need 'x86_64')), '/System/Volumes/Preboot/Cryptexes/OS@rpath/libssl.1.1.dylib' (no such file), '/Users/jemonat/opt/anaconda3/envs/my-rdkit-env/lib/libssl.1.1.dylib' (mach-o file, but is an incompatible architecture (have 'arm64', need 'x86_64')), '/System/Volumes/Preboot/Cryptexes/OS/Users/jemonat/opt/anaconda3/envs/my-rdkit-env/lib/libssl.1.1.dylib' (no such file), '/Users/jemonat/opt/anaconda3/envs/my-rdkit-env/lib/libssl.1.1.dylib' (mach-o file, but is an incompatible architecture (have 'arm64', need 'x86_64')), '/System/Volumes/Preboot/Cryptexes/OS/Users/jemonat/opt/anaconda3/envs/my-rdkit-env/lib/libssl.1.1.dylib' (no such file), '/Users/jemonat/opt/anaconda3/envs/my-rdkit-env/lib/python3.10/lib-dynload/../../libssl.1.1.dylib' (mach-o file, but is an incompatible architecture (have 'arm64', need 'x86_64')), '/Users/jemonat/opt/anaconda3/envs/my-rdkit-env/lib/libssl.1.1.dylib' (mach-o file, but is an incompatible architecture (have 'arm64', need 'x86_64')), '/System/Volumes/Preboot/Cryptexes/OS/Users/jemonat/opt/anaconda3/envs/my-rdkit-env/lib/libssl.1.1.dylib' (no such file), '/Users/jemonat/opt/anaconda3/envs/my-rdkit-env/lib/libssl.1.1.dylib' (mach-o file, but is an incompatible architecture (have 'arm64', need 'x86_64')), '/System/Volumes/Preboot/Cryptexes/OS/Users/jemonat/opt/anaconda3/envs/my-rdkit-env/lib/libssl.1.1.dylib' (no such file), '/Users/jemonat/opt/anaconda3/envs/my-rdkit-env/lib/python3.10/lib-dynload/../../libssl.1.1.dylib' (mach-o file, but is an incompatible architecture (have 'arm64', need 'x86_64')), '/Users/jemonat/opt/anaconda3/envs/my-rdkit-env/lib/libssl.1.1.dylib' (mach-o file, but is an incompatible architecture (have 'arm64', need 'x86_64')), '/System/Volumes/Preboot/Cryptexes/OS/Users/jemonat/opt/anaconda3/envs/my-rdkit-env/lib/libssl.1.1.dylib' (no such file), '/Users/jemonat/opt/anaconda3/envs/my-rdkit-env/bin/../lib/libssl.1.1.dylib' (mach-o file, but is an incompatible architecture (have 'arm64', need 'x86_64')), '/Users/jemonat/opt/anaconda3/envs/my-rdkit-env/lib/libssl.1.1.dylib' (mach-o file, but is an incompatible architecture (have 'arm64', need 'x86_64')), '/System/Volumes/Preboot/Cryptexes/OS/Users/jemonat/opt/anaconda3/envs/my-rdkit-env/lib/libssl.1.1.dylib' (no such file), '/Users/jemonat/opt/anaconda3/envs/my-rdkit-env/bin/../lib/libssl.1.1.dylib' (mach-o file, but is an incompatible architecture (have 'arm64', need 'x86_64')), '/usr/local/lib/libssl.1.1.dylib' (no such file), '/usr/lib/libssl.1.1.dylib' (no such file, not in dyld cache). \n",
      "\u001b[1;31mView Jupyter <a href='command:jupyter.viewOutput'>log</a> for further details."
     ]
    }
   ],
   "source": [
    "rxn_rev = AllChem.ChemicalReaction()\n",
    "for i in range(rxn_fwd.GetNumReactantTemplates()):\n",
    "    rxn_rev.AddProductTemplate(rxn_fwd.GetReactantTemplate(i))\n",
    "for i in range(rxn_fwd.GetNumProductTemplates()):\n",
    "    rxn_rev.AddReactantTemplate(rxn_fwd.GetProductTemplate(i))\n",
    "rxn_rev.Initialize()\n",
    "rxn_rev"
   ]
  },
  {
   "cell_type": "code",
   "execution_count": null,
   "metadata": {},
   "outputs": [
    {
     "ename": "",
     "evalue": "",
     "output_type": "error",
     "traceback": [
      "\u001b[1;31mFailed to start the Kernel. \n",
      "\u001b[1;31mJupyter server crashed. Unable to connect. \n",
      "\u001b[1;31mError code from Jupyter: 1\n",
      "\u001b[1;31mTraceback (most recent call last):\n",
      "\u001b[1;31m  File \"/Users/jemonat/opt/anaconda3/envs/my-rdkit-env/bin/jupyter-notebook\", line 7, in <module>\n",
      "\u001b[1;31m\n",
      "\u001b[1;31m    from notebook.notebookapp import main\n",
      "\u001b[1;31m  File \"/Users/jemonat/opt/anaconda3/envs/my-rdkit-env/lib/python3.10/site-packages/notebook/notebookapp.py\", line 59, in <module>\n",
      "\u001b[1;31m\n",
      "\u001b[1;31m    from tornado import httpserver\n",
      "\u001b[1;31m  File \"/Users/jemonat/opt/anaconda3/envs/my-rdkit-env/lib/python3.10/site-packages/tornado/httpserver.py\", line 29, in <module>\n",
      "\u001b[1;31m\n",
      "\u001b[1;31m    import ssl\n",
      "\u001b[1;31m  File \"/Users/jemonat/opt/anaconda3/envs/my-rdkit-env/lib/python3.10/ssl.py\", line 98, in <module>\n",
      "\u001b[1;31m\n",
      "\u001b[1;31m    import _ssl             # if we can't import it, let the error propagate\n",
      "\u001b[1;31mImportError: dlopen(/Users/jemonat/opt/anaconda3/envs/my-rdkit-env/lib/python3.10/lib-dynload/_ssl.cpython-310-darwin.so, 0x0002): Library not loaded: @rpath/libssl.1.1.dylib\n",
      "\u001b[1;31m  Referenced from: <9EDE67EB-4BB4-3203-9312-EEF3934CF29C> /Users/jemonat/opt/anaconda3/envs/my-rdkit-env/lib/python3.10/lib-dynload/_ssl.cpython-310-darwin.so\n",
      "\u001b[1;31m  Reason: tried: '/Users/jemonat/opt/anaconda3/envs/my-rdkit-env/lib/libssl.1.1.dylib' (mach-o file, but is an incompatible architecture (have 'arm64', need 'x86_64')), '/System/Volumes/Preboot/Cryptexes/OS/Users/jemonat/opt/anaconda3/envs/my-rdkit-env/lib/libssl.1.1.dylib' (no such file), '/Users/jemonat/opt/anaconda3/envs/my-rdkit-env/lib/libssl.1.1.dylib' (mach-o file, but is an incompatible architecture (have 'arm64', need 'x86_64')), '/System/Volumes/Preboot/Cryptexes/OS/Users/jemonat/opt/anaconda3/envs/my-rdkit-env/lib/libssl.1.1.dylib' (no such file), '/Users/jemonat/opt/anaconda3/envs/my-rdkit-env/lib/python3.10/lib-dynload/../../libssl.1.1.dylib' (mach-o file, but is an incompatible architecture (have 'arm64', need 'x86_64')), '/Users/jemonat/opt/anaconda3/envs/my-rdkit-env/lib/libssl.1.1.dylib' (mach-o file, but is an incompatible architecture (have 'arm64', need 'x86_64')), '/System/Volumes/Preboot/Cryptexes/OS/Users/jemonat/opt/anaconda3/envs/my-rdkit-env/lib/libssl.1.1.dylib' (no such file), '/Users/jemonat/opt/anaconda3/envs/my-rdkit-env/lib/libssl.1.1.dylib' (mach-o file, but is an incompatible architecture (have 'arm64', need 'x86_64')), '/System/Volumes/Preboot/Cryptexes/OS/Users/jemonat/opt/anaconda3/envs/my-rdkit-env/lib/libssl.1.1.dylib' (no such file), '/Users/jemonat/opt/anaconda3/envs/my-rdkit-env/lib/python3.10/lib-dynload/../../libssl.1.1.dylib' (mach-o file, but is an incompatible architecture (have 'arm64', need 'x86_64')), '/Users/jemonat/opt/anaconda3/envs/my-rdkit-env/lib/libssl.1.1.dylib' (mach-o file, but is an incompatible architecture (have 'arm64', need 'x86_64')), '/System/Volumes/Preboot/Cryptexes/OS/Users/jemonat/opt/anaconda3/envs/my-rdkit-env/lib/libssl.1.1.dylib' (no such file), '/Users/jemonat/opt/anaconda3/envs/my-rdkit-env/bin/../lib/libssl.1.1.dylib' (mach-o file, but is an incompatible architecture (have 'arm64', need 'x86_64')), '/Users/jemonat/opt/anaconda3/envs/my-rdkit-env/lib/libssl.1.1.dylib' (mach-o file, but is an incompatible architecture (have 'arm64', need 'x86_64')), '/System/Volumes/Preboot/Cryptexes/OS/Users/jemonat/opt/anaconda3/envs/my-rdkit-env/lib/libssl.1.1.dylib' (no such file), '/Users/jemonat/opt/anaconda3/envs/my-rdkit-env/bin/../lib/libssl.1.1.dylib' (mach-o file, but is an incompatible architecture (have 'arm64', need 'x86_64')), '/System/Volumes/Preboot/Cryptexes/OS@rpath/libssl.1.1.dylib' (no such file), '/Users/jemonat/opt/anaconda3/envs/my-rdkit-env/lib/libssl.1.1.dylib' (mach-o file, but is an incompatible architecture (have 'arm64', need 'x86_64')), '/System/Volumes/Preboot/Cryptexes/OS/Users/jemonat/opt/anaconda3/envs/my-rdkit-env/lib/libssl.1.1.dylib' (no such file), '/Users/jemonat/opt/anaconda3/envs/my-rdkit-env/lib/libssl.1.1.dylib' (mach-o file, but is an incompatible architecture (have 'arm64', need 'x86_64')), '/System/Volumes/Preboot/Cryptexes/OS/Users/jemonat/opt/anaconda3/envs/my-rdkit-env/lib/libssl.1.1.dylib' (no such file), '/Users/jemonat/opt/anaconda3/envs/my-rdkit-env/lib/python3.10/lib-dynload/../../libssl.1.1.dylib' (mach-o file, but is an incompatible architecture (have 'arm64', need 'x86_64')), '/Users/jemonat/opt/anaconda3/envs/my-rdkit-env/lib/libssl.1.1.dylib' (mach-o file, but is an incompatible architecture (have 'arm64', need 'x86_64')), '/System/Volumes/Preboot/Cryptexes/OS/Users/jemonat/opt/anaconda3/envs/my-rdkit-env/lib/libssl.1.1.dylib' (no such file), '/Users/jemonat/opt/anaconda3/envs/my-rdkit-env/lib/libssl.1.1.dylib' (mach-o file, but is an incompatible architecture (have 'arm64', need 'x86_64')), '/System/Volumes/Preboot/Cryptexes/OS/Users/jemonat/opt/anaconda3/envs/my-rdkit-env/lib/libssl.1.1.dylib' (no such file), '/Users/jemonat/opt/anaconda3/envs/my-rdkit-env/lib/python3.10/lib-dynload/../../libssl.1.1.dylib' (mach-o file, but is an incompatible architecture (have 'arm64', need 'x86_64')), '/Users/jemonat/opt/anaconda3/envs/my-rdkit-env/lib/libssl.1.1.dylib' (mach-o file, but is an incompatible architecture (have 'arm64', need 'x86_64')), '/System/Volumes/Preboot/Cryptexes/OS/Users/jemonat/opt/anaconda3/envs/my-rdkit-env/lib/libssl.1.1.dylib' (no such file), '/Users/jemonat/opt/anaconda3/envs/my-rdkit-env/bin/../lib/libssl.1.1.dylib' (mach-o file, but is an incompatible architecture (have 'arm64', need 'x86_64')), '/Users/jemonat/opt/anaconda3/envs/my-rdkit-env/lib/libssl.1.1.dylib' (mach-o file, but is an incompatible architecture (have 'arm64', need 'x86_64')), '/System/Volumes/Preboot/Cryptexes/OS/Users/jemonat/opt/anaconda3/envs/my-rdkit-env/lib/libssl.1.1.dylib' (no such file), '/Users/jemonat/opt/anaconda3/envs/my-rdkit-env/bin/../lib/libssl.1.1.dylib' (mach-o file, but is an incompatible architecture (have 'arm64', need 'x86_64')), '/usr/local/lib/libssl.1.1.dylib' (no such file), '/usr/lib/libssl.1.1.dylib' (no such file, not in dyld cache). \n",
      "\u001b[1;31mView Jupyter <a href='command:jupyter.viewOutput'>log</a> for further details."
     ]
    }
   ],
   "source": [
    "rxn_fwd"
   ]
  },
  {
   "cell_type": "code",
   "execution_count": null,
   "metadata": {},
   "outputs": [
    {
     "ename": "",
     "evalue": "",
     "output_type": "error",
     "traceback": [
      "\u001b[1;31mFailed to start the Kernel. \n",
      "\u001b[1;31mJupyter server crashed. Unable to connect. \n",
      "\u001b[1;31mError code from Jupyter: 1\n",
      "\u001b[1;31mTraceback (most recent call last):\n",
      "\u001b[1;31m  File \"/Users/jemonat/opt/anaconda3/envs/my-rdkit-env/bin/jupyter-notebook\", line 7, in <module>\n",
      "\u001b[1;31m\n",
      "\u001b[1;31m    from notebook.notebookapp import main\n",
      "\u001b[1;31m  File \"/Users/jemonat/opt/anaconda3/envs/my-rdkit-env/lib/python3.10/site-packages/notebook/notebookapp.py\", line 59, in <module>\n",
      "\u001b[1;31m\n",
      "\u001b[1;31m    from tornado import httpserver\n",
      "\u001b[1;31m  File \"/Users/jemonat/opt/anaconda3/envs/my-rdkit-env/lib/python3.10/site-packages/tornado/httpserver.py\", line 29, in <module>\n",
      "\u001b[1;31m\n",
      "\u001b[1;31m    import ssl\n",
      "\u001b[1;31m  File \"/Users/jemonat/opt/anaconda3/envs/my-rdkit-env/lib/python3.10/ssl.py\", line 98, in <module>\n",
      "\u001b[1;31m\n",
      "\u001b[1;31m    import _ssl             # if we can't import it, let the error propagate\n",
      "\u001b[1;31mImportError: dlopen(/Users/jemonat/opt/anaconda3/envs/my-rdkit-env/lib/python3.10/lib-dynload/_ssl.cpython-310-darwin.so, 0x0002): Library not loaded: @rpath/libssl.1.1.dylib\n",
      "\u001b[1;31m  Referenced from: <9EDE67EB-4BB4-3203-9312-EEF3934CF29C> /Users/jemonat/opt/anaconda3/envs/my-rdkit-env/lib/python3.10/lib-dynload/_ssl.cpython-310-darwin.so\n",
      "\u001b[1;31m  Reason: tried: '/Users/jemonat/opt/anaconda3/envs/my-rdkit-env/lib/libssl.1.1.dylib' (mach-o file, but is an incompatible architecture (have 'arm64', need 'x86_64')), '/System/Volumes/Preboot/Cryptexes/OS/Users/jemonat/opt/anaconda3/envs/my-rdkit-env/lib/libssl.1.1.dylib' (no such file), '/Users/jemonat/opt/anaconda3/envs/my-rdkit-env/lib/libssl.1.1.dylib' (mach-o file, but is an incompatible architecture (have 'arm64', need 'x86_64')), '/System/Volumes/Preboot/Cryptexes/OS/Users/jemonat/opt/anaconda3/envs/my-rdkit-env/lib/libssl.1.1.dylib' (no such file), '/Users/jemonat/opt/anaconda3/envs/my-rdkit-env/lib/python3.10/lib-dynload/../../libssl.1.1.dylib' (mach-o file, but is an incompatible architecture (have 'arm64', need 'x86_64')), '/Users/jemonat/opt/anaconda3/envs/my-rdkit-env/lib/libssl.1.1.dylib' (mach-o file, but is an incompatible architecture (have 'arm64', need 'x86_64')), '/System/Volumes/Preboot/Cryptexes/OS/Users/jemonat/opt/anaconda3/envs/my-rdkit-env/lib/libssl.1.1.dylib' (no such file), '/Users/jemonat/opt/anaconda3/envs/my-rdkit-env/lib/libssl.1.1.dylib' (mach-o file, but is an incompatible architecture (have 'arm64', need 'x86_64')), '/System/Volumes/Preboot/Cryptexes/OS/Users/jemonat/opt/anaconda3/envs/my-rdkit-env/lib/libssl.1.1.dylib' (no such file), '/Users/jemonat/opt/anaconda3/envs/my-rdkit-env/lib/python3.10/lib-dynload/../../libssl.1.1.dylib' (mach-o file, but is an incompatible architecture (have 'arm64', need 'x86_64')), '/Users/jemonat/opt/anaconda3/envs/my-rdkit-env/lib/libssl.1.1.dylib' (mach-o file, but is an incompatible architecture (have 'arm64', need 'x86_64')), '/System/Volumes/Preboot/Cryptexes/OS/Users/jemonat/opt/anaconda3/envs/my-rdkit-env/lib/libssl.1.1.dylib' (no such file), '/Users/jemonat/opt/anaconda3/envs/my-rdkit-env/bin/../lib/libssl.1.1.dylib' (mach-o file, but is an incompatible architecture (have 'arm64', need 'x86_64')), '/Users/jemonat/opt/anaconda3/envs/my-rdkit-env/lib/libssl.1.1.dylib' (mach-o file, but is an incompatible architecture (have 'arm64', need 'x86_64')), '/System/Volumes/Preboot/Cryptexes/OS/Users/jemonat/opt/anaconda3/envs/my-rdkit-env/lib/libssl.1.1.dylib' (no such file), '/Users/jemonat/opt/anaconda3/envs/my-rdkit-env/bin/../lib/libssl.1.1.dylib' (mach-o file, but is an incompatible architecture (have 'arm64', need 'x86_64')), '/System/Volumes/Preboot/Cryptexes/OS@rpath/libssl.1.1.dylib' (no such file), '/Users/jemonat/opt/anaconda3/envs/my-rdkit-env/lib/libssl.1.1.dylib' (mach-o file, but is an incompatible architecture (have 'arm64', need 'x86_64')), '/System/Volumes/Preboot/Cryptexes/OS/Users/jemonat/opt/anaconda3/envs/my-rdkit-env/lib/libssl.1.1.dylib' (no such file), '/Users/jemonat/opt/anaconda3/envs/my-rdkit-env/lib/libssl.1.1.dylib' (mach-o file, but is an incompatible architecture (have 'arm64', need 'x86_64')), '/System/Volumes/Preboot/Cryptexes/OS/Users/jemonat/opt/anaconda3/envs/my-rdkit-env/lib/libssl.1.1.dylib' (no such file), '/Users/jemonat/opt/anaconda3/envs/my-rdkit-env/lib/python3.10/lib-dynload/../../libssl.1.1.dylib' (mach-o file, but is an incompatible architecture (have 'arm64', need 'x86_64')), '/Users/jemonat/opt/anaconda3/envs/my-rdkit-env/lib/libssl.1.1.dylib' (mach-o file, but is an incompatible architecture (have 'arm64', need 'x86_64')), '/System/Volumes/Preboot/Cryptexes/OS/Users/jemonat/opt/anaconda3/envs/my-rdkit-env/lib/libssl.1.1.dylib' (no such file), '/Users/jemonat/opt/anaconda3/envs/my-rdkit-env/lib/libssl.1.1.dylib' (mach-o file, but is an incompatible architecture (have 'arm64', need 'x86_64')), '/System/Volumes/Preboot/Cryptexes/OS/Users/jemonat/opt/anaconda3/envs/my-rdkit-env/lib/libssl.1.1.dylib' (no such file), '/Users/jemonat/opt/anaconda3/envs/my-rdkit-env/lib/python3.10/lib-dynload/../../libssl.1.1.dylib' (mach-o file, but is an incompatible architecture (have 'arm64', need 'x86_64')), '/Users/jemonat/opt/anaconda3/envs/my-rdkit-env/lib/libssl.1.1.dylib' (mach-o file, but is an incompatible architecture (have 'arm64', need 'x86_64')), '/System/Volumes/Preboot/Cryptexes/OS/Users/jemonat/opt/anaconda3/envs/my-rdkit-env/lib/libssl.1.1.dylib' (no such file), '/Users/jemonat/opt/anaconda3/envs/my-rdkit-env/bin/../lib/libssl.1.1.dylib' (mach-o file, but is an incompatible architecture (have 'arm64', need 'x86_64')), '/Users/jemonat/opt/anaconda3/envs/my-rdkit-env/lib/libssl.1.1.dylib' (mach-o file, but is an incompatible architecture (have 'arm64', need 'x86_64')), '/System/Volumes/Preboot/Cryptexes/OS/Users/jemonat/opt/anaconda3/envs/my-rdkit-env/lib/libssl.1.1.dylib' (no such file), '/Users/jemonat/opt/anaconda3/envs/my-rdkit-env/bin/../lib/libssl.1.1.dylib' (mach-o file, but is an incompatible architecture (have 'arm64', need 'x86_64')), '/usr/local/lib/libssl.1.1.dylib' (no such file), '/usr/lib/libssl.1.1.dylib' (no such file, not in dyld cache). \n",
      "\u001b[1;31mView Jupyter <a href='command:jupyter.viewOutput'>log</a> for further details."
     ]
    }
   ],
   "source": [
    "reacts = [Chem.MolFromSmiles(m) for m in ('NCCc1ccccc1','C1CC1C(=O)')]\n",
    "ps = rxn_fwd.RunReactants(reacts)\n",
    "ps0 = ps[0]\n",
    "for p in ps0:\n",
    "    Chem.SanitizeMol(p)\n",
    "Draw.MolsToGridImage(ps0)"
   ]
  },
  {
   "cell_type": "code",
   "execution_count": null,
   "metadata": {},
   "outputs": [
    {
     "ename": "",
     "evalue": "",
     "output_type": "error",
     "traceback": [
      "\u001b[1;31mFailed to start the Kernel. \n",
      "\u001b[1;31mJupyter server crashed. Unable to connect. \n",
      "\u001b[1;31mError code from Jupyter: 1\n",
      "\u001b[1;31mTraceback (most recent call last):\n",
      "\u001b[1;31m  File \"/Users/jemonat/opt/anaconda3/envs/my-rdkit-env/bin/jupyter-notebook\", line 7, in <module>\n",
      "\u001b[1;31m\n",
      "\u001b[1;31m    from notebook.notebookapp import main\n",
      "\u001b[1;31m  File \"/Users/jemonat/opt/anaconda3/envs/my-rdkit-env/lib/python3.10/site-packages/notebook/notebookapp.py\", line 59, in <module>\n",
      "\u001b[1;31m\n",
      "\u001b[1;31m    from tornado import httpserver\n",
      "\u001b[1;31m  File \"/Users/jemonat/opt/anaconda3/envs/my-rdkit-env/lib/python3.10/site-packages/tornado/httpserver.py\", line 29, in <module>\n",
      "\u001b[1;31m\n",
      "\u001b[1;31m    import ssl\n",
      "\u001b[1;31m  File \"/Users/jemonat/opt/anaconda3/envs/my-rdkit-env/lib/python3.10/ssl.py\", line 98, in <module>\n",
      "\u001b[1;31m\n",
      "\u001b[1;31m    import _ssl             # if we can't import it, let the error propagate\n",
      "\u001b[1;31mImportError: dlopen(/Users/jemonat/opt/anaconda3/envs/my-rdkit-env/lib/python3.10/lib-dynload/_ssl.cpython-310-darwin.so, 0x0002): Library not loaded: @rpath/libssl.1.1.dylib\n",
      "\u001b[1;31m  Referenced from: <9EDE67EB-4BB4-3203-9312-EEF3934CF29C> /Users/jemonat/opt/anaconda3/envs/my-rdkit-env/lib/python3.10/lib-dynload/_ssl.cpython-310-darwin.so\n",
      "\u001b[1;31m  Reason: tried: '/Users/jemonat/opt/anaconda3/envs/my-rdkit-env/lib/libssl.1.1.dylib' (mach-o file, but is an incompatible architecture (have 'arm64', need 'x86_64')), '/System/Volumes/Preboot/Cryptexes/OS/Users/jemonat/opt/anaconda3/envs/my-rdkit-env/lib/libssl.1.1.dylib' (no such file), '/Users/jemonat/opt/anaconda3/envs/my-rdkit-env/lib/libssl.1.1.dylib' (mach-o file, but is an incompatible architecture (have 'arm64', need 'x86_64')), '/System/Volumes/Preboot/Cryptexes/OS/Users/jemonat/opt/anaconda3/envs/my-rdkit-env/lib/libssl.1.1.dylib' (no such file), '/Users/jemonat/opt/anaconda3/envs/my-rdkit-env/lib/python3.10/lib-dynload/../../libssl.1.1.dylib' (mach-o file, but is an incompatible architecture (have 'arm64', need 'x86_64')), '/Users/jemonat/opt/anaconda3/envs/my-rdkit-env/lib/libssl.1.1.dylib' (mach-o file, but is an incompatible architecture (have 'arm64', need 'x86_64')), '/System/Volumes/Preboot/Cryptexes/OS/Users/jemonat/opt/anaconda3/envs/my-rdkit-env/lib/libssl.1.1.dylib' (no such file), '/Users/jemonat/opt/anaconda3/envs/my-rdkit-env/lib/libssl.1.1.dylib' (mach-o file, but is an incompatible architecture (have 'arm64', need 'x86_64')), '/System/Volumes/Preboot/Cryptexes/OS/Users/jemonat/opt/anaconda3/envs/my-rdkit-env/lib/libssl.1.1.dylib' (no such file), '/Users/jemonat/opt/anaconda3/envs/my-rdkit-env/lib/python3.10/lib-dynload/../../libssl.1.1.dylib' (mach-o file, but is an incompatible architecture (have 'arm64', need 'x86_64')), '/Users/jemonat/opt/anaconda3/envs/my-rdkit-env/lib/libssl.1.1.dylib' (mach-o file, but is an incompatible architecture (have 'arm64', need 'x86_64')), '/System/Volumes/Preboot/Cryptexes/OS/Users/jemonat/opt/anaconda3/envs/my-rdkit-env/lib/libssl.1.1.dylib' (no such file), '/Users/jemonat/opt/anaconda3/envs/my-rdkit-env/bin/../lib/libssl.1.1.dylib' (mach-o file, but is an incompatible architecture (have 'arm64', need 'x86_64')), '/Users/jemonat/opt/anaconda3/envs/my-rdkit-env/lib/libssl.1.1.dylib' (mach-o file, but is an incompatible architecture (have 'arm64', need 'x86_64')), '/System/Volumes/Preboot/Cryptexes/OS/Users/jemonat/opt/anaconda3/envs/my-rdkit-env/lib/libssl.1.1.dylib' (no such file), '/Users/jemonat/opt/anaconda3/envs/my-rdkit-env/bin/../lib/libssl.1.1.dylib' (mach-o file, but is an incompatible architecture (have 'arm64', need 'x86_64')), '/System/Volumes/Preboot/Cryptexes/OS@rpath/libssl.1.1.dylib' (no such file), '/Users/jemonat/opt/anaconda3/envs/my-rdkit-env/lib/libssl.1.1.dylib' (mach-o file, but is an incompatible architecture (have 'arm64', need 'x86_64')), '/System/Volumes/Preboot/Cryptexes/OS/Users/jemonat/opt/anaconda3/envs/my-rdkit-env/lib/libssl.1.1.dylib' (no such file), '/Users/jemonat/opt/anaconda3/envs/my-rdkit-env/lib/libssl.1.1.dylib' (mach-o file, but is an incompatible architecture (have 'arm64', need 'x86_64')), '/System/Volumes/Preboot/Cryptexes/OS/Users/jemonat/opt/anaconda3/envs/my-rdkit-env/lib/libssl.1.1.dylib' (no such file), '/Users/jemonat/opt/anaconda3/envs/my-rdkit-env/lib/python3.10/lib-dynload/../../libssl.1.1.dylib' (mach-o file, but is an incompatible architecture (have 'arm64', need 'x86_64')), '/Users/jemonat/opt/anaconda3/envs/my-rdkit-env/lib/libssl.1.1.dylib' (mach-o file, but is an incompatible architecture (have 'arm64', need 'x86_64')), '/System/Volumes/Preboot/Cryptexes/OS/Users/jemonat/opt/anaconda3/envs/my-rdkit-env/lib/libssl.1.1.dylib' (no such file), '/Users/jemonat/opt/anaconda3/envs/my-rdkit-env/lib/libssl.1.1.dylib' (mach-o file, but is an incompatible architecture (have 'arm64', need 'x86_64')), '/System/Volumes/Preboot/Cryptexes/OS/Users/jemonat/opt/anaconda3/envs/my-rdkit-env/lib/libssl.1.1.dylib' (no such file), '/Users/jemonat/opt/anaconda3/envs/my-rdkit-env/lib/python3.10/lib-dynload/../../libssl.1.1.dylib' (mach-o file, but is an incompatible architecture (have 'arm64', need 'x86_64')), '/Users/jemonat/opt/anaconda3/envs/my-rdkit-env/lib/libssl.1.1.dylib' (mach-o file, but is an incompatible architecture (have 'arm64', need 'x86_64')), '/System/Volumes/Preboot/Cryptexes/OS/Users/jemonat/opt/anaconda3/envs/my-rdkit-env/lib/libssl.1.1.dylib' (no such file), '/Users/jemonat/opt/anaconda3/envs/my-rdkit-env/bin/../lib/libssl.1.1.dylib' (mach-o file, but is an incompatible architecture (have 'arm64', need 'x86_64')), '/Users/jemonat/opt/anaconda3/envs/my-rdkit-env/lib/libssl.1.1.dylib' (mach-o file, but is an incompatible architecture (have 'arm64', need 'x86_64')), '/System/Volumes/Preboot/Cryptexes/OS/Users/jemonat/opt/anaconda3/envs/my-rdkit-env/lib/libssl.1.1.dylib' (no such file), '/Users/jemonat/opt/anaconda3/envs/my-rdkit-env/bin/../lib/libssl.1.1.dylib' (mach-o file, but is an incompatible architecture (have 'arm64', need 'x86_64')), '/usr/local/lib/libssl.1.1.dylib' (no such file), '/usr/lib/libssl.1.1.dylib' (no such file, not in dyld cache). \n",
      "\u001b[1;31mView Jupyter <a href='command:jupyter.viewOutput'>log</a> for further details."
     ]
    }
   ],
   "source": [
    "reacts = ps0\n",
    "rps = rxn_rev.RunReactants(reacts)\n",
    "rps0 = rps[0]\n",
    "for rp in rps0:\n",
    "    Chem.SanitizeMol(rp)\n",
    "Draw.MolsToGridImage(rps0)"
   ]
  },
  {
   "attachments": {},
   "cell_type": "markdown",
   "metadata": {},
   "source": [
    "### Reaction Fingerprints and Similarity"
   ]
  },
  {
   "cell_type": "code",
   "execution_count": null,
   "metadata": {},
   "outputs": [
    {
     "ename": "",
     "evalue": "",
     "output_type": "error",
     "traceback": [
      "\u001b[1;31mFailed to start the Kernel. \n",
      "\u001b[1;31mJupyter server crashed. Unable to connect. \n",
      "\u001b[1;31mError code from Jupyter: 1\n",
      "\u001b[1;31mTraceback (most recent call last):\n",
      "\u001b[1;31m  File \"/Users/jemonat/opt/anaconda3/envs/my-rdkit-env/bin/jupyter-notebook\", line 7, in <module>\n",
      "\u001b[1;31m\n",
      "\u001b[1;31m    from notebook.notebookapp import main\n",
      "\u001b[1;31m  File \"/Users/jemonat/opt/anaconda3/envs/my-rdkit-env/lib/python3.10/site-packages/notebook/notebookapp.py\", line 59, in <module>\n",
      "\u001b[1;31m\n",
      "\u001b[1;31m    from tornado import httpserver\n",
      "\u001b[1;31m  File \"/Users/jemonat/opt/anaconda3/envs/my-rdkit-env/lib/python3.10/site-packages/tornado/httpserver.py\", line 29, in <module>\n",
      "\u001b[1;31m\n",
      "\u001b[1;31m    import ssl\n",
      "\u001b[1;31m  File \"/Users/jemonat/opt/anaconda3/envs/my-rdkit-env/lib/python3.10/ssl.py\", line 98, in <module>\n",
      "\u001b[1;31m\n",
      "\u001b[1;31m    import _ssl             # if we can't import it, let the error propagate\n",
      "\u001b[1;31mImportError: dlopen(/Users/jemonat/opt/anaconda3/envs/my-rdkit-env/lib/python3.10/lib-dynload/_ssl.cpython-310-darwin.so, 0x0002): Library not loaded: @rpath/libssl.1.1.dylib\n",
      "\u001b[1;31m  Referenced from: <9EDE67EB-4BB4-3203-9312-EEF3934CF29C> /Users/jemonat/opt/anaconda3/envs/my-rdkit-env/lib/python3.10/lib-dynload/_ssl.cpython-310-darwin.so\n",
      "\u001b[1;31m  Reason: tried: '/Users/jemonat/opt/anaconda3/envs/my-rdkit-env/lib/libssl.1.1.dylib' (mach-o file, but is an incompatible architecture (have 'arm64', need 'x86_64')), '/System/Volumes/Preboot/Cryptexes/OS/Users/jemonat/opt/anaconda3/envs/my-rdkit-env/lib/libssl.1.1.dylib' (no such file), '/Users/jemonat/opt/anaconda3/envs/my-rdkit-env/lib/libssl.1.1.dylib' (mach-o file, but is an incompatible architecture (have 'arm64', need 'x86_64')), '/System/Volumes/Preboot/Cryptexes/OS/Users/jemonat/opt/anaconda3/envs/my-rdkit-env/lib/libssl.1.1.dylib' (no such file), '/Users/jemonat/opt/anaconda3/envs/my-rdkit-env/lib/python3.10/lib-dynload/../../libssl.1.1.dylib' (mach-o file, but is an incompatible architecture (have 'arm64', need 'x86_64')), '/Users/jemonat/opt/anaconda3/envs/my-rdkit-env/lib/libssl.1.1.dylib' (mach-o file, but is an incompatible architecture (have 'arm64', need 'x86_64')), '/System/Volumes/Preboot/Cryptexes/OS/Users/jemonat/opt/anaconda3/envs/my-rdkit-env/lib/libssl.1.1.dylib' (no such file), '/Users/jemonat/opt/anaconda3/envs/my-rdkit-env/lib/libssl.1.1.dylib' (mach-o file, but is an incompatible architecture (have 'arm64', need 'x86_64')), '/System/Volumes/Preboot/Cryptexes/OS/Users/jemonat/opt/anaconda3/envs/my-rdkit-env/lib/libssl.1.1.dylib' (no such file), '/Users/jemonat/opt/anaconda3/envs/my-rdkit-env/lib/python3.10/lib-dynload/../../libssl.1.1.dylib' (mach-o file, but is an incompatible architecture (have 'arm64', need 'x86_64')), '/Users/jemonat/opt/anaconda3/envs/my-rdkit-env/lib/libssl.1.1.dylib' (mach-o file, but is an incompatible architecture (have 'arm64', need 'x86_64')), '/System/Volumes/Preboot/Cryptexes/OS/Users/jemonat/opt/anaconda3/envs/my-rdkit-env/lib/libssl.1.1.dylib' (no such file), '/Users/jemonat/opt/anaconda3/envs/my-rdkit-env/bin/../lib/libssl.1.1.dylib' (mach-o file, but is an incompatible architecture (have 'arm64', need 'x86_64')), '/Users/jemonat/opt/anaconda3/envs/my-rdkit-env/lib/libssl.1.1.dylib' (mach-o file, but is an incompatible architecture (have 'arm64', need 'x86_64')), '/System/Volumes/Preboot/Cryptexes/OS/Users/jemonat/opt/anaconda3/envs/my-rdkit-env/lib/libssl.1.1.dylib' (no such file), '/Users/jemonat/opt/anaconda3/envs/my-rdkit-env/bin/../lib/libssl.1.1.dylib' (mach-o file, but is an incompatible architecture (have 'arm64', need 'x86_64')), '/System/Volumes/Preboot/Cryptexes/OS@rpath/libssl.1.1.dylib' (no such file), '/Users/jemonat/opt/anaconda3/envs/my-rdkit-env/lib/libssl.1.1.dylib' (mach-o file, but is an incompatible architecture (have 'arm64', need 'x86_64')), '/System/Volumes/Preboot/Cryptexes/OS/Users/jemonat/opt/anaconda3/envs/my-rdkit-env/lib/libssl.1.1.dylib' (no such file), '/Users/jemonat/opt/anaconda3/envs/my-rdkit-env/lib/libssl.1.1.dylib' (mach-o file, but is an incompatible architecture (have 'arm64', need 'x86_64')), '/System/Volumes/Preboot/Cryptexes/OS/Users/jemonat/opt/anaconda3/envs/my-rdkit-env/lib/libssl.1.1.dylib' (no such file), '/Users/jemonat/opt/anaconda3/envs/my-rdkit-env/lib/python3.10/lib-dynload/../../libssl.1.1.dylib' (mach-o file, but is an incompatible architecture (have 'arm64', need 'x86_64')), '/Users/jemonat/opt/anaconda3/envs/my-rdkit-env/lib/libssl.1.1.dylib' (mach-o file, but is an incompatible architecture (have 'arm64', need 'x86_64')), '/System/Volumes/Preboot/Cryptexes/OS/Users/jemonat/opt/anaconda3/envs/my-rdkit-env/lib/libssl.1.1.dylib' (no such file), '/Users/jemonat/opt/anaconda3/envs/my-rdkit-env/lib/libssl.1.1.dylib' (mach-o file, but is an incompatible architecture (have 'arm64', need 'x86_64')), '/System/Volumes/Preboot/Cryptexes/OS/Users/jemonat/opt/anaconda3/envs/my-rdkit-env/lib/libssl.1.1.dylib' (no such file), '/Users/jemonat/opt/anaconda3/envs/my-rdkit-env/lib/python3.10/lib-dynload/../../libssl.1.1.dylib' (mach-o file, but is an incompatible architecture (have 'arm64', need 'x86_64')), '/Users/jemonat/opt/anaconda3/envs/my-rdkit-env/lib/libssl.1.1.dylib' (mach-o file, but is an incompatible architecture (have 'arm64', need 'x86_64')), '/System/Volumes/Preboot/Cryptexes/OS/Users/jemonat/opt/anaconda3/envs/my-rdkit-env/lib/libssl.1.1.dylib' (no such file), '/Users/jemonat/opt/anaconda3/envs/my-rdkit-env/bin/../lib/libssl.1.1.dylib' (mach-o file, but is an incompatible architecture (have 'arm64', need 'x86_64')), '/Users/jemonat/opt/anaconda3/envs/my-rdkit-env/lib/libssl.1.1.dylib' (mach-o file, but is an incompatible architecture (have 'arm64', need 'x86_64')), '/System/Volumes/Preboot/Cryptexes/OS/Users/jemonat/opt/anaconda3/envs/my-rdkit-env/lib/libssl.1.1.dylib' (no such file), '/Users/jemonat/opt/anaconda3/envs/my-rdkit-env/bin/../lib/libssl.1.1.dylib' (mach-o file, but is an incompatible architecture (have 'arm64', need 'x86_64')), '/usr/local/lib/libssl.1.1.dylib' (no such file), '/usr/lib/libssl.1.1.dylib' (no such file, not in dyld cache). \n",
      "\u001b[1;31mView Jupyter <a href='command:jupyter.viewOutput'>log</a> for further details."
     ]
    }
   ],
   "source": [
    "from rdkit import Chem\n",
    "from rdkit.Chem import rdChemReactions\n",
    "from rdkit.Chem import DataStructs"
   ]
  },
  {
   "cell_type": "code",
   "execution_count": null,
   "metadata": {},
   "outputs": [
    {
     "ename": "",
     "evalue": "",
     "output_type": "error",
     "traceback": [
      "\u001b[1;31mFailed to start the Kernel. \n",
      "\u001b[1;31mJupyter server crashed. Unable to connect. \n",
      "\u001b[1;31mError code from Jupyter: 1\n",
      "\u001b[1;31mTraceback (most recent call last):\n",
      "\u001b[1;31m  File \"/Users/jemonat/opt/anaconda3/envs/my-rdkit-env/bin/jupyter-notebook\", line 7, in <module>\n",
      "\u001b[1;31m\n",
      "\u001b[1;31m    from notebook.notebookapp import main\n",
      "\u001b[1;31m  File \"/Users/jemonat/opt/anaconda3/envs/my-rdkit-env/lib/python3.10/site-packages/notebook/notebookapp.py\", line 59, in <module>\n",
      "\u001b[1;31m\n",
      "\u001b[1;31m    from tornado import httpserver\n",
      "\u001b[1;31m  File \"/Users/jemonat/opt/anaconda3/envs/my-rdkit-env/lib/python3.10/site-packages/tornado/httpserver.py\", line 29, in <module>\n",
      "\u001b[1;31m\n",
      "\u001b[1;31m    import ssl\n",
      "\u001b[1;31m  File \"/Users/jemonat/opt/anaconda3/envs/my-rdkit-env/lib/python3.10/ssl.py\", line 98, in <module>\n",
      "\u001b[1;31m\n",
      "\u001b[1;31m    import _ssl             # if we can't import it, let the error propagate\n",
      "\u001b[1;31mImportError: dlopen(/Users/jemonat/opt/anaconda3/envs/my-rdkit-env/lib/python3.10/lib-dynload/_ssl.cpython-310-darwin.so, 0x0002): Library not loaded: @rpath/libssl.1.1.dylib\n",
      "\u001b[1;31m  Referenced from: <9EDE67EB-4BB4-3203-9312-EEF3934CF29C> /Users/jemonat/opt/anaconda3/envs/my-rdkit-env/lib/python3.10/lib-dynload/_ssl.cpython-310-darwin.so\n",
      "\u001b[1;31m  Reason: tried: '/Users/jemonat/opt/anaconda3/envs/my-rdkit-env/lib/libssl.1.1.dylib' (mach-o file, but is an incompatible architecture (have 'arm64', need 'x86_64')), '/System/Volumes/Preboot/Cryptexes/OS/Users/jemonat/opt/anaconda3/envs/my-rdkit-env/lib/libssl.1.1.dylib' (no such file), '/Users/jemonat/opt/anaconda3/envs/my-rdkit-env/lib/libssl.1.1.dylib' (mach-o file, but is an incompatible architecture (have 'arm64', need 'x86_64')), '/System/Volumes/Preboot/Cryptexes/OS/Users/jemonat/opt/anaconda3/envs/my-rdkit-env/lib/libssl.1.1.dylib' (no such file), '/Users/jemonat/opt/anaconda3/envs/my-rdkit-env/lib/python3.10/lib-dynload/../../libssl.1.1.dylib' (mach-o file, but is an incompatible architecture (have 'arm64', need 'x86_64')), '/Users/jemonat/opt/anaconda3/envs/my-rdkit-env/lib/libssl.1.1.dylib' (mach-o file, but is an incompatible architecture (have 'arm64', need 'x86_64')), '/System/Volumes/Preboot/Cryptexes/OS/Users/jemonat/opt/anaconda3/envs/my-rdkit-env/lib/libssl.1.1.dylib' (no such file), '/Users/jemonat/opt/anaconda3/envs/my-rdkit-env/lib/libssl.1.1.dylib' (mach-o file, but is an incompatible architecture (have 'arm64', need 'x86_64')), '/System/Volumes/Preboot/Cryptexes/OS/Users/jemonat/opt/anaconda3/envs/my-rdkit-env/lib/libssl.1.1.dylib' (no such file), '/Users/jemonat/opt/anaconda3/envs/my-rdkit-env/lib/python3.10/lib-dynload/../../libssl.1.1.dylib' (mach-o file, but is an incompatible architecture (have 'arm64', need 'x86_64')), '/Users/jemonat/opt/anaconda3/envs/my-rdkit-env/lib/libssl.1.1.dylib' (mach-o file, but is an incompatible architecture (have 'arm64', need 'x86_64')), '/System/Volumes/Preboot/Cryptexes/OS/Users/jemonat/opt/anaconda3/envs/my-rdkit-env/lib/libssl.1.1.dylib' (no such file), '/Users/jemonat/opt/anaconda3/envs/my-rdkit-env/bin/../lib/libssl.1.1.dylib' (mach-o file, but is an incompatible architecture (have 'arm64', need 'x86_64')), '/Users/jemonat/opt/anaconda3/envs/my-rdkit-env/lib/libssl.1.1.dylib' (mach-o file, but is an incompatible architecture (have 'arm64', need 'x86_64')), '/System/Volumes/Preboot/Cryptexes/OS/Users/jemonat/opt/anaconda3/envs/my-rdkit-env/lib/libssl.1.1.dylib' (no such file), '/Users/jemonat/opt/anaconda3/envs/my-rdkit-env/bin/../lib/libssl.1.1.dylib' (mach-o file, but is an incompatible architecture (have 'arm64', need 'x86_64')), '/System/Volumes/Preboot/Cryptexes/OS@rpath/libssl.1.1.dylib' (no such file), '/Users/jemonat/opt/anaconda3/envs/my-rdkit-env/lib/libssl.1.1.dylib' (mach-o file, but is an incompatible architecture (have 'arm64', need 'x86_64')), '/System/Volumes/Preboot/Cryptexes/OS/Users/jemonat/opt/anaconda3/envs/my-rdkit-env/lib/libssl.1.1.dylib' (no such file), '/Users/jemonat/opt/anaconda3/envs/my-rdkit-env/lib/libssl.1.1.dylib' (mach-o file, but is an incompatible architecture (have 'arm64', need 'x86_64')), '/System/Volumes/Preboot/Cryptexes/OS/Users/jemonat/opt/anaconda3/envs/my-rdkit-env/lib/libssl.1.1.dylib' (no such file), '/Users/jemonat/opt/anaconda3/envs/my-rdkit-env/lib/python3.10/lib-dynload/../../libssl.1.1.dylib' (mach-o file, but is an incompatible architecture (have 'arm64', need 'x86_64')), '/Users/jemonat/opt/anaconda3/envs/my-rdkit-env/lib/libssl.1.1.dylib' (mach-o file, but is an incompatible architecture (have 'arm64', need 'x86_64')), '/System/Volumes/Preboot/Cryptexes/OS/Users/jemonat/opt/anaconda3/envs/my-rdkit-env/lib/libssl.1.1.dylib' (no such file), '/Users/jemonat/opt/anaconda3/envs/my-rdkit-env/lib/libssl.1.1.dylib' (mach-o file, but is an incompatible architecture (have 'arm64', need 'x86_64')), '/System/Volumes/Preboot/Cryptexes/OS/Users/jemonat/opt/anaconda3/envs/my-rdkit-env/lib/libssl.1.1.dylib' (no such file), '/Users/jemonat/opt/anaconda3/envs/my-rdkit-env/lib/python3.10/lib-dynload/../../libssl.1.1.dylib' (mach-o file, but is an incompatible architecture (have 'arm64', need 'x86_64')), '/Users/jemonat/opt/anaconda3/envs/my-rdkit-env/lib/libssl.1.1.dylib' (mach-o file, but is an incompatible architecture (have 'arm64', need 'x86_64')), '/System/Volumes/Preboot/Cryptexes/OS/Users/jemonat/opt/anaconda3/envs/my-rdkit-env/lib/libssl.1.1.dylib' (no such file), '/Users/jemonat/opt/anaconda3/envs/my-rdkit-env/bin/../lib/libssl.1.1.dylib' (mach-o file, but is an incompatible architecture (have 'arm64', need 'x86_64')), '/Users/jemonat/opt/anaconda3/envs/my-rdkit-env/lib/libssl.1.1.dylib' (mach-o file, but is an incompatible architecture (have 'arm64', need 'x86_64')), '/System/Volumes/Preboot/Cryptexes/OS/Users/jemonat/opt/anaconda3/envs/my-rdkit-env/lib/libssl.1.1.dylib' (no such file), '/Users/jemonat/opt/anaconda3/envs/my-rdkit-env/bin/../lib/libssl.1.1.dylib' (mach-o file, but is an incompatible architecture (have 'arm64', need 'x86_64')), '/usr/local/lib/libssl.1.1.dylib' (no such file), '/usr/lib/libssl.1.1.dylib' (no such file, not in dyld cache). \n",
      "\u001b[1;31mView Jupyter <a href='command:jupyter.viewOutput'>log</a> for further details."
     ]
    }
   ],
   "source": []
  },
  {
   "cell_type": "code",
   "execution_count": null,
   "metadata": {},
   "outputs": [
    {
     "ename": "",
     "evalue": "",
     "output_type": "error",
     "traceback": [
      "\u001b[1;31mFailed to start the Kernel. \n",
      "\u001b[1;31mJupyter server crashed. Unable to connect. \n",
      "\u001b[1;31mError code from Jupyter: 1\n",
      "\u001b[1;31mTraceback (most recent call last):\n",
      "\u001b[1;31m  File \"/Users/jemonat/opt/anaconda3/envs/my-rdkit-env/bin/jupyter-notebook\", line 7, in <module>\n",
      "\u001b[1;31m\n",
      "\u001b[1;31m    from notebook.notebookapp import main\n",
      "\u001b[1;31m  File \"/Users/jemonat/opt/anaconda3/envs/my-rdkit-env/lib/python3.10/site-packages/notebook/notebookapp.py\", line 59, in <module>\n",
      "\u001b[1;31m\n",
      "\u001b[1;31m    from tornado import httpserver\n",
      "\u001b[1;31m  File \"/Users/jemonat/opt/anaconda3/envs/my-rdkit-env/lib/python3.10/site-packages/tornado/httpserver.py\", line 29, in <module>\n",
      "\u001b[1;31m\n",
      "\u001b[1;31m    import ssl\n",
      "\u001b[1;31m  File \"/Users/jemonat/opt/anaconda3/envs/my-rdkit-env/lib/python3.10/ssl.py\", line 98, in <module>\n",
      "\u001b[1;31m\n",
      "\u001b[1;31m    import _ssl             # if we can't import it, let the error propagate\n",
      "\u001b[1;31mImportError: dlopen(/Users/jemonat/opt/anaconda3/envs/my-rdkit-env/lib/python3.10/lib-dynload/_ssl.cpython-310-darwin.so, 0x0002): Library not loaded: @rpath/libssl.1.1.dylib\n",
      "\u001b[1;31m  Referenced from: <9EDE67EB-4BB4-3203-9312-EEF3934CF29C> /Users/jemonat/opt/anaconda3/envs/my-rdkit-env/lib/python3.10/lib-dynload/_ssl.cpython-310-darwin.so\n",
      "\u001b[1;31m  Reason: tried: '/Users/jemonat/opt/anaconda3/envs/my-rdkit-env/lib/libssl.1.1.dylib' (mach-o file, but is an incompatible architecture (have 'arm64', need 'x86_64')), '/System/Volumes/Preboot/Cryptexes/OS/Users/jemonat/opt/anaconda3/envs/my-rdkit-env/lib/libssl.1.1.dylib' (no such file), '/Users/jemonat/opt/anaconda3/envs/my-rdkit-env/lib/libssl.1.1.dylib' (mach-o file, but is an incompatible architecture (have 'arm64', need 'x86_64')), '/System/Volumes/Preboot/Cryptexes/OS/Users/jemonat/opt/anaconda3/envs/my-rdkit-env/lib/libssl.1.1.dylib' (no such file), '/Users/jemonat/opt/anaconda3/envs/my-rdkit-env/lib/python3.10/lib-dynload/../../libssl.1.1.dylib' (mach-o file, but is an incompatible architecture (have 'arm64', need 'x86_64')), '/Users/jemonat/opt/anaconda3/envs/my-rdkit-env/lib/libssl.1.1.dylib' (mach-o file, but is an incompatible architecture (have 'arm64', need 'x86_64')), '/System/Volumes/Preboot/Cryptexes/OS/Users/jemonat/opt/anaconda3/envs/my-rdkit-env/lib/libssl.1.1.dylib' (no such file), '/Users/jemonat/opt/anaconda3/envs/my-rdkit-env/lib/libssl.1.1.dylib' (mach-o file, but is an incompatible architecture (have 'arm64', need 'x86_64')), '/System/Volumes/Preboot/Cryptexes/OS/Users/jemonat/opt/anaconda3/envs/my-rdkit-env/lib/libssl.1.1.dylib' (no such file), '/Users/jemonat/opt/anaconda3/envs/my-rdkit-env/lib/python3.10/lib-dynload/../../libssl.1.1.dylib' (mach-o file, but is an incompatible architecture (have 'arm64', need 'x86_64')), '/Users/jemonat/opt/anaconda3/envs/my-rdkit-env/lib/libssl.1.1.dylib' (mach-o file, but is an incompatible architecture (have 'arm64', need 'x86_64')), '/System/Volumes/Preboot/Cryptexes/OS/Users/jemonat/opt/anaconda3/envs/my-rdkit-env/lib/libssl.1.1.dylib' (no such file), '/Users/jemonat/opt/anaconda3/envs/my-rdkit-env/bin/../lib/libssl.1.1.dylib' (mach-o file, but is an incompatible architecture (have 'arm64', need 'x86_64')), '/Users/jemonat/opt/anaconda3/envs/my-rdkit-env/lib/libssl.1.1.dylib' (mach-o file, but is an incompatible architecture (have 'arm64', need 'x86_64')), '/System/Volumes/Preboot/Cryptexes/OS/Users/jemonat/opt/anaconda3/envs/my-rdkit-env/lib/libssl.1.1.dylib' (no such file), '/Users/jemonat/opt/anaconda3/envs/my-rdkit-env/bin/../lib/libssl.1.1.dylib' (mach-o file, but is an incompatible architecture (have 'arm64', need 'x86_64')), '/System/Volumes/Preboot/Cryptexes/OS@rpath/libssl.1.1.dylib' (no such file), '/Users/jemonat/opt/anaconda3/envs/my-rdkit-env/lib/libssl.1.1.dylib' (mach-o file, but is an incompatible architecture (have 'arm64', need 'x86_64')), '/System/Volumes/Preboot/Cryptexes/OS/Users/jemonat/opt/anaconda3/envs/my-rdkit-env/lib/libssl.1.1.dylib' (no such file), '/Users/jemonat/opt/anaconda3/envs/my-rdkit-env/lib/libssl.1.1.dylib' (mach-o file, but is an incompatible architecture (have 'arm64', need 'x86_64')), '/System/Volumes/Preboot/Cryptexes/OS/Users/jemonat/opt/anaconda3/envs/my-rdkit-env/lib/libssl.1.1.dylib' (no such file), '/Users/jemonat/opt/anaconda3/envs/my-rdkit-env/lib/python3.10/lib-dynload/../../libssl.1.1.dylib' (mach-o file, but is an incompatible architecture (have 'arm64', need 'x86_64')), '/Users/jemonat/opt/anaconda3/envs/my-rdkit-env/lib/libssl.1.1.dylib' (mach-o file, but is an incompatible architecture (have 'arm64', need 'x86_64')), '/System/Volumes/Preboot/Cryptexes/OS/Users/jemonat/opt/anaconda3/envs/my-rdkit-env/lib/libssl.1.1.dylib' (no such file), '/Users/jemonat/opt/anaconda3/envs/my-rdkit-env/lib/libssl.1.1.dylib' (mach-o file, but is an incompatible architecture (have 'arm64', need 'x86_64')), '/System/Volumes/Preboot/Cryptexes/OS/Users/jemonat/opt/anaconda3/envs/my-rdkit-env/lib/libssl.1.1.dylib' (no such file), '/Users/jemonat/opt/anaconda3/envs/my-rdkit-env/lib/python3.10/lib-dynload/../../libssl.1.1.dylib' (mach-o file, but is an incompatible architecture (have 'arm64', need 'x86_64')), '/Users/jemonat/opt/anaconda3/envs/my-rdkit-env/lib/libssl.1.1.dylib' (mach-o file, but is an incompatible architecture (have 'arm64', need 'x86_64')), '/System/Volumes/Preboot/Cryptexes/OS/Users/jemonat/opt/anaconda3/envs/my-rdkit-env/lib/libssl.1.1.dylib' (no such file), '/Users/jemonat/opt/anaconda3/envs/my-rdkit-env/bin/../lib/libssl.1.1.dylib' (mach-o file, but is an incompatible architecture (have 'arm64', need 'x86_64')), '/Users/jemonat/opt/anaconda3/envs/my-rdkit-env/lib/libssl.1.1.dylib' (mach-o file, but is an incompatible architecture (have 'arm64', need 'x86_64')), '/System/Volumes/Preboot/Cryptexes/OS/Users/jemonat/opt/anaconda3/envs/my-rdkit-env/lib/libssl.1.1.dylib' (no such file), '/Users/jemonat/opt/anaconda3/envs/my-rdkit-env/bin/../lib/libssl.1.1.dylib' (mach-o file, but is an incompatible architecture (have 'arm64', need 'x86_64')), '/usr/local/lib/libssl.1.1.dylib' (no such file), '/usr/lib/libssl.1.1.dylib' (no such file, not in dyld cache). \n",
      "\u001b[1;31mView Jupyter <a href='command:jupyter.viewOutput'>log</a> for further details."
     ]
    }
   ],
   "source": [
    "# construct the chemical reactions\n",
    "rxn1 = rdChemReactions.ReactionFromSmarts('CCCO>>CCC=O')\n",
    "rxn2 = rdChemReactions.ReactionFromSmarts('CC(O)C>>CC(=O)C')\n",
    "rxn3 = rdChemReactions.ReactionFromSmarts('NCCO>>NCC=O')\n",
    "\n",
    "# construct difference fingerprint (subtracts reactant fingerprint from product)\n",
    "fp1 = rdChemReactions.CreateDifferenceFingerprintForReaction(rxn1)\n",
    "fp2 = rdChemReactions.CreateDifferenceFingerprintForReaction(rxn2)\n",
    "fp3 = rdChemReactions.CreateDifferenceFingerprintForReaction(rxn3)"
   ]
  },
  {
   "cell_type": "code",
   "execution_count": null,
   "metadata": {},
   "outputs": [
    {
     "ename": "",
     "evalue": "",
     "output_type": "error",
     "traceback": [
      "\u001b[1;31mFailed to start the Kernel. \n",
      "\u001b[1;31mJupyter server crashed. Unable to connect. \n",
      "\u001b[1;31mError code from Jupyter: 1\n",
      "\u001b[1;31mTraceback (most recent call last):\n",
      "\u001b[1;31m  File \"/Users/jemonat/opt/anaconda3/envs/my-rdkit-env/bin/jupyter-notebook\", line 7, in <module>\n",
      "\u001b[1;31m\n",
      "\u001b[1;31m    from notebook.notebookapp import main\n",
      "\u001b[1;31m  File \"/Users/jemonat/opt/anaconda3/envs/my-rdkit-env/lib/python3.10/site-packages/notebook/notebookapp.py\", line 59, in <module>\n",
      "\u001b[1;31m\n",
      "\u001b[1;31m    from tornado import httpserver\n",
      "\u001b[1;31m  File \"/Users/jemonat/opt/anaconda3/envs/my-rdkit-env/lib/python3.10/site-packages/tornado/httpserver.py\", line 29, in <module>\n",
      "\u001b[1;31m\n",
      "\u001b[1;31m    import ssl\n",
      "\u001b[1;31m  File \"/Users/jemonat/opt/anaconda3/envs/my-rdkit-env/lib/python3.10/ssl.py\", line 98, in <module>\n",
      "\u001b[1;31m\n",
      "\u001b[1;31m    import _ssl             # if we can't import it, let the error propagate\n",
      "\u001b[1;31mImportError: dlopen(/Users/jemonat/opt/anaconda3/envs/my-rdkit-env/lib/python3.10/lib-dynload/_ssl.cpython-310-darwin.so, 0x0002): Library not loaded: @rpath/libssl.1.1.dylib\n",
      "\u001b[1;31m  Referenced from: <9EDE67EB-4BB4-3203-9312-EEF3934CF29C> /Users/jemonat/opt/anaconda3/envs/my-rdkit-env/lib/python3.10/lib-dynload/_ssl.cpython-310-darwin.so\n",
      "\u001b[1;31m  Reason: tried: '/Users/jemonat/opt/anaconda3/envs/my-rdkit-env/lib/libssl.1.1.dylib' (mach-o file, but is an incompatible architecture (have 'arm64', need 'x86_64')), '/System/Volumes/Preboot/Cryptexes/OS/Users/jemonat/opt/anaconda3/envs/my-rdkit-env/lib/libssl.1.1.dylib' (no such file), '/Users/jemonat/opt/anaconda3/envs/my-rdkit-env/lib/libssl.1.1.dylib' (mach-o file, but is an incompatible architecture (have 'arm64', need 'x86_64')), '/System/Volumes/Preboot/Cryptexes/OS/Users/jemonat/opt/anaconda3/envs/my-rdkit-env/lib/libssl.1.1.dylib' (no such file), '/Users/jemonat/opt/anaconda3/envs/my-rdkit-env/lib/python3.10/lib-dynload/../../libssl.1.1.dylib' (mach-o file, but is an incompatible architecture (have 'arm64', need 'x86_64')), '/Users/jemonat/opt/anaconda3/envs/my-rdkit-env/lib/libssl.1.1.dylib' (mach-o file, but is an incompatible architecture (have 'arm64', need 'x86_64')), '/System/Volumes/Preboot/Cryptexes/OS/Users/jemonat/opt/anaconda3/envs/my-rdkit-env/lib/libssl.1.1.dylib' (no such file), '/Users/jemonat/opt/anaconda3/envs/my-rdkit-env/lib/libssl.1.1.dylib' (mach-o file, but is an incompatible architecture (have 'arm64', need 'x86_64')), '/System/Volumes/Preboot/Cryptexes/OS/Users/jemonat/opt/anaconda3/envs/my-rdkit-env/lib/libssl.1.1.dylib' (no such file), '/Users/jemonat/opt/anaconda3/envs/my-rdkit-env/lib/python3.10/lib-dynload/../../libssl.1.1.dylib' (mach-o file, but is an incompatible architecture (have 'arm64', need 'x86_64')), '/Users/jemonat/opt/anaconda3/envs/my-rdkit-env/lib/libssl.1.1.dylib' (mach-o file, but is an incompatible architecture (have 'arm64', need 'x86_64')), '/System/Volumes/Preboot/Cryptexes/OS/Users/jemonat/opt/anaconda3/envs/my-rdkit-env/lib/libssl.1.1.dylib' (no such file), '/Users/jemonat/opt/anaconda3/envs/my-rdkit-env/bin/../lib/libssl.1.1.dylib' (mach-o file, but is an incompatible architecture (have 'arm64', need 'x86_64')), '/Users/jemonat/opt/anaconda3/envs/my-rdkit-env/lib/libssl.1.1.dylib' (mach-o file, but is an incompatible architecture (have 'arm64', need 'x86_64')), '/System/Volumes/Preboot/Cryptexes/OS/Users/jemonat/opt/anaconda3/envs/my-rdkit-env/lib/libssl.1.1.dylib' (no such file), '/Users/jemonat/opt/anaconda3/envs/my-rdkit-env/bin/../lib/libssl.1.1.dylib' (mach-o file, but is an incompatible architecture (have 'arm64', need 'x86_64')), '/System/Volumes/Preboot/Cryptexes/OS@rpath/libssl.1.1.dylib' (no such file), '/Users/jemonat/opt/anaconda3/envs/my-rdkit-env/lib/libssl.1.1.dylib' (mach-o file, but is an incompatible architecture (have 'arm64', need 'x86_64')), '/System/Volumes/Preboot/Cryptexes/OS/Users/jemonat/opt/anaconda3/envs/my-rdkit-env/lib/libssl.1.1.dylib' (no such file), '/Users/jemonat/opt/anaconda3/envs/my-rdkit-env/lib/libssl.1.1.dylib' (mach-o file, but is an incompatible architecture (have 'arm64', need 'x86_64')), '/System/Volumes/Preboot/Cryptexes/OS/Users/jemonat/opt/anaconda3/envs/my-rdkit-env/lib/libssl.1.1.dylib' (no such file), '/Users/jemonat/opt/anaconda3/envs/my-rdkit-env/lib/python3.10/lib-dynload/../../libssl.1.1.dylib' (mach-o file, but is an incompatible architecture (have 'arm64', need 'x86_64')), '/Users/jemonat/opt/anaconda3/envs/my-rdkit-env/lib/libssl.1.1.dylib' (mach-o file, but is an incompatible architecture (have 'arm64', need 'x86_64')), '/System/Volumes/Preboot/Cryptexes/OS/Users/jemonat/opt/anaconda3/envs/my-rdkit-env/lib/libssl.1.1.dylib' (no such file), '/Users/jemonat/opt/anaconda3/envs/my-rdkit-env/lib/libssl.1.1.dylib' (mach-o file, but is an incompatible architecture (have 'arm64', need 'x86_64')), '/System/Volumes/Preboot/Cryptexes/OS/Users/jemonat/opt/anaconda3/envs/my-rdkit-env/lib/libssl.1.1.dylib' (no such file), '/Users/jemonat/opt/anaconda3/envs/my-rdkit-env/lib/python3.10/lib-dynload/../../libssl.1.1.dylib' (mach-o file, but is an incompatible architecture (have 'arm64', need 'x86_64')), '/Users/jemonat/opt/anaconda3/envs/my-rdkit-env/lib/libssl.1.1.dylib' (mach-o file, but is an incompatible architecture (have 'arm64', need 'x86_64')), '/System/Volumes/Preboot/Cryptexes/OS/Users/jemonat/opt/anaconda3/envs/my-rdkit-env/lib/libssl.1.1.dylib' (no such file), '/Users/jemonat/opt/anaconda3/envs/my-rdkit-env/bin/../lib/libssl.1.1.dylib' (mach-o file, but is an incompatible architecture (have 'arm64', need 'x86_64')), '/Users/jemonat/opt/anaconda3/envs/my-rdkit-env/lib/libssl.1.1.dylib' (mach-o file, but is an incompatible architecture (have 'arm64', need 'x86_64')), '/System/Volumes/Preboot/Cryptexes/OS/Users/jemonat/opt/anaconda3/envs/my-rdkit-env/lib/libssl.1.1.dylib' (no such file), '/Users/jemonat/opt/anaconda3/envs/my-rdkit-env/bin/../lib/libssl.1.1.dylib' (mach-o file, but is an incompatible architecture (have 'arm64', need 'x86_64')), '/usr/local/lib/libssl.1.1.dylib' (no such file), '/usr/lib/libssl.1.1.dylib' (no such file, not in dyld cache). \n",
      "\u001b[1;31mView Jupyter <a href='command:jupyter.viewOutput'>log</a> for further details."
     ]
    }
   ],
   "source": [
    "rxn1"
   ]
  },
  {
   "cell_type": "code",
   "execution_count": null,
   "metadata": {},
   "outputs": [
    {
     "ename": "",
     "evalue": "",
     "output_type": "error",
     "traceback": [
      "\u001b[1;31mFailed to start the Kernel. \n",
      "\u001b[1;31mJupyter server crashed. Unable to connect. \n",
      "\u001b[1;31mError code from Jupyter: 1\n",
      "\u001b[1;31mTraceback (most recent call last):\n",
      "\u001b[1;31m  File \"/Users/jemonat/opt/anaconda3/envs/my-rdkit-env/bin/jupyter-notebook\", line 7, in <module>\n",
      "\u001b[1;31m\n",
      "\u001b[1;31m    from notebook.notebookapp import main\n",
      "\u001b[1;31m  File \"/Users/jemonat/opt/anaconda3/envs/my-rdkit-env/lib/python3.10/site-packages/notebook/notebookapp.py\", line 59, in <module>\n",
      "\u001b[1;31m\n",
      "\u001b[1;31m    from tornado import httpserver\n",
      "\u001b[1;31m  File \"/Users/jemonat/opt/anaconda3/envs/my-rdkit-env/lib/python3.10/site-packages/tornado/httpserver.py\", line 29, in <module>\n",
      "\u001b[1;31m\n",
      "\u001b[1;31m    import ssl\n",
      "\u001b[1;31m  File \"/Users/jemonat/opt/anaconda3/envs/my-rdkit-env/lib/python3.10/ssl.py\", line 98, in <module>\n",
      "\u001b[1;31m\n",
      "\u001b[1;31m    import _ssl             # if we can't import it, let the error propagate\n",
      "\u001b[1;31mImportError: dlopen(/Users/jemonat/opt/anaconda3/envs/my-rdkit-env/lib/python3.10/lib-dynload/_ssl.cpython-310-darwin.so, 0x0002): Library not loaded: @rpath/libssl.1.1.dylib\n",
      "\u001b[1;31m  Referenced from: <9EDE67EB-4BB4-3203-9312-EEF3934CF29C> /Users/jemonat/opt/anaconda3/envs/my-rdkit-env/lib/python3.10/lib-dynload/_ssl.cpython-310-darwin.so\n",
      "\u001b[1;31m  Reason: tried: '/Users/jemonat/opt/anaconda3/envs/my-rdkit-env/lib/libssl.1.1.dylib' (mach-o file, but is an incompatible architecture (have 'arm64', need 'x86_64')), '/System/Volumes/Preboot/Cryptexes/OS/Users/jemonat/opt/anaconda3/envs/my-rdkit-env/lib/libssl.1.1.dylib' (no such file), '/Users/jemonat/opt/anaconda3/envs/my-rdkit-env/lib/libssl.1.1.dylib' (mach-o file, but is an incompatible architecture (have 'arm64', need 'x86_64')), '/System/Volumes/Preboot/Cryptexes/OS/Users/jemonat/opt/anaconda3/envs/my-rdkit-env/lib/libssl.1.1.dylib' (no such file), '/Users/jemonat/opt/anaconda3/envs/my-rdkit-env/lib/python3.10/lib-dynload/../../libssl.1.1.dylib' (mach-o file, but is an incompatible architecture (have 'arm64', need 'x86_64')), '/Users/jemonat/opt/anaconda3/envs/my-rdkit-env/lib/libssl.1.1.dylib' (mach-o file, but is an incompatible architecture (have 'arm64', need 'x86_64')), '/System/Volumes/Preboot/Cryptexes/OS/Users/jemonat/opt/anaconda3/envs/my-rdkit-env/lib/libssl.1.1.dylib' (no such file), '/Users/jemonat/opt/anaconda3/envs/my-rdkit-env/lib/libssl.1.1.dylib' (mach-o file, but is an incompatible architecture (have 'arm64', need 'x86_64')), '/System/Volumes/Preboot/Cryptexes/OS/Users/jemonat/opt/anaconda3/envs/my-rdkit-env/lib/libssl.1.1.dylib' (no such file), '/Users/jemonat/opt/anaconda3/envs/my-rdkit-env/lib/python3.10/lib-dynload/../../libssl.1.1.dylib' (mach-o file, but is an incompatible architecture (have 'arm64', need 'x86_64')), '/Users/jemonat/opt/anaconda3/envs/my-rdkit-env/lib/libssl.1.1.dylib' (mach-o file, but is an incompatible architecture (have 'arm64', need 'x86_64')), '/System/Volumes/Preboot/Cryptexes/OS/Users/jemonat/opt/anaconda3/envs/my-rdkit-env/lib/libssl.1.1.dylib' (no such file), '/Users/jemonat/opt/anaconda3/envs/my-rdkit-env/bin/../lib/libssl.1.1.dylib' (mach-o file, but is an incompatible architecture (have 'arm64', need 'x86_64')), '/Users/jemonat/opt/anaconda3/envs/my-rdkit-env/lib/libssl.1.1.dylib' (mach-o file, but is an incompatible architecture (have 'arm64', need 'x86_64')), '/System/Volumes/Preboot/Cryptexes/OS/Users/jemonat/opt/anaconda3/envs/my-rdkit-env/lib/libssl.1.1.dylib' (no such file), '/Users/jemonat/opt/anaconda3/envs/my-rdkit-env/bin/../lib/libssl.1.1.dylib' (mach-o file, but is an incompatible architecture (have 'arm64', need 'x86_64')), '/System/Volumes/Preboot/Cryptexes/OS@rpath/libssl.1.1.dylib' (no such file), '/Users/jemonat/opt/anaconda3/envs/my-rdkit-env/lib/libssl.1.1.dylib' (mach-o file, but is an incompatible architecture (have 'arm64', need 'x86_64')), '/System/Volumes/Preboot/Cryptexes/OS/Users/jemonat/opt/anaconda3/envs/my-rdkit-env/lib/libssl.1.1.dylib' (no such file), '/Users/jemonat/opt/anaconda3/envs/my-rdkit-env/lib/libssl.1.1.dylib' (mach-o file, but is an incompatible architecture (have 'arm64', need 'x86_64')), '/System/Volumes/Preboot/Cryptexes/OS/Users/jemonat/opt/anaconda3/envs/my-rdkit-env/lib/libssl.1.1.dylib' (no such file), '/Users/jemonat/opt/anaconda3/envs/my-rdkit-env/lib/python3.10/lib-dynload/../../libssl.1.1.dylib' (mach-o file, but is an incompatible architecture (have 'arm64', need 'x86_64')), '/Users/jemonat/opt/anaconda3/envs/my-rdkit-env/lib/libssl.1.1.dylib' (mach-o file, but is an incompatible architecture (have 'arm64', need 'x86_64')), '/System/Volumes/Preboot/Cryptexes/OS/Users/jemonat/opt/anaconda3/envs/my-rdkit-env/lib/libssl.1.1.dylib' (no such file), '/Users/jemonat/opt/anaconda3/envs/my-rdkit-env/lib/libssl.1.1.dylib' (mach-o file, but is an incompatible architecture (have 'arm64', need 'x86_64')), '/System/Volumes/Preboot/Cryptexes/OS/Users/jemonat/opt/anaconda3/envs/my-rdkit-env/lib/libssl.1.1.dylib' (no such file), '/Users/jemonat/opt/anaconda3/envs/my-rdkit-env/lib/python3.10/lib-dynload/../../libssl.1.1.dylib' (mach-o file, but is an incompatible architecture (have 'arm64', need 'x86_64')), '/Users/jemonat/opt/anaconda3/envs/my-rdkit-env/lib/libssl.1.1.dylib' (mach-o file, but is an incompatible architecture (have 'arm64', need 'x86_64')), '/System/Volumes/Preboot/Cryptexes/OS/Users/jemonat/opt/anaconda3/envs/my-rdkit-env/lib/libssl.1.1.dylib' (no such file), '/Users/jemonat/opt/anaconda3/envs/my-rdkit-env/bin/../lib/libssl.1.1.dylib' (mach-o file, but is an incompatible architecture (have 'arm64', need 'x86_64')), '/Users/jemonat/opt/anaconda3/envs/my-rdkit-env/lib/libssl.1.1.dylib' (mach-o file, but is an incompatible architecture (have 'arm64', need 'x86_64')), '/System/Volumes/Preboot/Cryptexes/OS/Users/jemonat/opt/anaconda3/envs/my-rdkit-env/lib/libssl.1.1.dylib' (no such file), '/Users/jemonat/opt/anaconda3/envs/my-rdkit-env/bin/../lib/libssl.1.1.dylib' (mach-o file, but is an incompatible architecture (have 'arm64', need 'x86_64')), '/usr/local/lib/libssl.1.1.dylib' (no such file), '/usr/lib/libssl.1.1.dylib' (no such file, not in dyld cache). \n",
      "\u001b[1;31mView Jupyter <a href='command:jupyter.viewOutput'>log</a> for further details."
     ]
    }
   ],
   "source": [
    "rxn2"
   ]
  },
  {
   "cell_type": "code",
   "execution_count": null,
   "metadata": {},
   "outputs": [
    {
     "ename": "",
     "evalue": "",
     "output_type": "error",
     "traceback": [
      "\u001b[1;31mFailed to start the Kernel. \n",
      "\u001b[1;31mJupyter server crashed. Unable to connect. \n",
      "\u001b[1;31mError code from Jupyter: 1\n",
      "\u001b[1;31mTraceback (most recent call last):\n",
      "\u001b[1;31m  File \"/Users/jemonat/opt/anaconda3/envs/my-rdkit-env/bin/jupyter-notebook\", line 7, in <module>\n",
      "\u001b[1;31m\n",
      "\u001b[1;31m    from notebook.notebookapp import main\n",
      "\u001b[1;31m  File \"/Users/jemonat/opt/anaconda3/envs/my-rdkit-env/lib/python3.10/site-packages/notebook/notebookapp.py\", line 59, in <module>\n",
      "\u001b[1;31m\n",
      "\u001b[1;31m    from tornado import httpserver\n",
      "\u001b[1;31m  File \"/Users/jemonat/opt/anaconda3/envs/my-rdkit-env/lib/python3.10/site-packages/tornado/httpserver.py\", line 29, in <module>\n",
      "\u001b[1;31m\n",
      "\u001b[1;31m    import ssl\n",
      "\u001b[1;31m  File \"/Users/jemonat/opt/anaconda3/envs/my-rdkit-env/lib/python3.10/ssl.py\", line 98, in <module>\n",
      "\u001b[1;31m\n",
      "\u001b[1;31m    import _ssl             # if we can't import it, let the error propagate\n",
      "\u001b[1;31mImportError: dlopen(/Users/jemonat/opt/anaconda3/envs/my-rdkit-env/lib/python3.10/lib-dynload/_ssl.cpython-310-darwin.so, 0x0002): Library not loaded: @rpath/libssl.1.1.dylib\n",
      "\u001b[1;31m  Referenced from: <9EDE67EB-4BB4-3203-9312-EEF3934CF29C> /Users/jemonat/opt/anaconda3/envs/my-rdkit-env/lib/python3.10/lib-dynload/_ssl.cpython-310-darwin.so\n",
      "\u001b[1;31m  Reason: tried: '/Users/jemonat/opt/anaconda3/envs/my-rdkit-env/lib/libssl.1.1.dylib' (mach-o file, but is an incompatible architecture (have 'arm64', need 'x86_64')), '/System/Volumes/Preboot/Cryptexes/OS/Users/jemonat/opt/anaconda3/envs/my-rdkit-env/lib/libssl.1.1.dylib' (no such file), '/Users/jemonat/opt/anaconda3/envs/my-rdkit-env/lib/libssl.1.1.dylib' (mach-o file, but is an incompatible architecture (have 'arm64', need 'x86_64')), '/System/Volumes/Preboot/Cryptexes/OS/Users/jemonat/opt/anaconda3/envs/my-rdkit-env/lib/libssl.1.1.dylib' (no such file), '/Users/jemonat/opt/anaconda3/envs/my-rdkit-env/lib/python3.10/lib-dynload/../../libssl.1.1.dylib' (mach-o file, but is an incompatible architecture (have 'arm64', need 'x86_64')), '/Users/jemonat/opt/anaconda3/envs/my-rdkit-env/lib/libssl.1.1.dylib' (mach-o file, but is an incompatible architecture (have 'arm64', need 'x86_64')), '/System/Volumes/Preboot/Cryptexes/OS/Users/jemonat/opt/anaconda3/envs/my-rdkit-env/lib/libssl.1.1.dylib' (no such file), '/Users/jemonat/opt/anaconda3/envs/my-rdkit-env/lib/libssl.1.1.dylib' (mach-o file, but is an incompatible architecture (have 'arm64', need 'x86_64')), '/System/Volumes/Preboot/Cryptexes/OS/Users/jemonat/opt/anaconda3/envs/my-rdkit-env/lib/libssl.1.1.dylib' (no such file), '/Users/jemonat/opt/anaconda3/envs/my-rdkit-env/lib/python3.10/lib-dynload/../../libssl.1.1.dylib' (mach-o file, but is an incompatible architecture (have 'arm64', need 'x86_64')), '/Users/jemonat/opt/anaconda3/envs/my-rdkit-env/lib/libssl.1.1.dylib' (mach-o file, but is an incompatible architecture (have 'arm64', need 'x86_64')), '/System/Volumes/Preboot/Cryptexes/OS/Users/jemonat/opt/anaconda3/envs/my-rdkit-env/lib/libssl.1.1.dylib' (no such file), '/Users/jemonat/opt/anaconda3/envs/my-rdkit-env/bin/../lib/libssl.1.1.dylib' (mach-o file, but is an incompatible architecture (have 'arm64', need 'x86_64')), '/Users/jemonat/opt/anaconda3/envs/my-rdkit-env/lib/libssl.1.1.dylib' (mach-o file, but is an incompatible architecture (have 'arm64', need 'x86_64')), '/System/Volumes/Preboot/Cryptexes/OS/Users/jemonat/opt/anaconda3/envs/my-rdkit-env/lib/libssl.1.1.dylib' (no such file), '/Users/jemonat/opt/anaconda3/envs/my-rdkit-env/bin/../lib/libssl.1.1.dylib' (mach-o file, but is an incompatible architecture (have 'arm64', need 'x86_64')), '/System/Volumes/Preboot/Cryptexes/OS@rpath/libssl.1.1.dylib' (no such file), '/Users/jemonat/opt/anaconda3/envs/my-rdkit-env/lib/libssl.1.1.dylib' (mach-o file, but is an incompatible architecture (have 'arm64', need 'x86_64')), '/System/Volumes/Preboot/Cryptexes/OS/Users/jemonat/opt/anaconda3/envs/my-rdkit-env/lib/libssl.1.1.dylib' (no such file), '/Users/jemonat/opt/anaconda3/envs/my-rdkit-env/lib/libssl.1.1.dylib' (mach-o file, but is an incompatible architecture (have 'arm64', need 'x86_64')), '/System/Volumes/Preboot/Cryptexes/OS/Users/jemonat/opt/anaconda3/envs/my-rdkit-env/lib/libssl.1.1.dylib' (no such file), '/Users/jemonat/opt/anaconda3/envs/my-rdkit-env/lib/python3.10/lib-dynload/../../libssl.1.1.dylib' (mach-o file, but is an incompatible architecture (have 'arm64', need 'x86_64')), '/Users/jemonat/opt/anaconda3/envs/my-rdkit-env/lib/libssl.1.1.dylib' (mach-o file, but is an incompatible architecture (have 'arm64', need 'x86_64')), '/System/Volumes/Preboot/Cryptexes/OS/Users/jemonat/opt/anaconda3/envs/my-rdkit-env/lib/libssl.1.1.dylib' (no such file), '/Users/jemonat/opt/anaconda3/envs/my-rdkit-env/lib/libssl.1.1.dylib' (mach-o file, but is an incompatible architecture (have 'arm64', need 'x86_64')), '/System/Volumes/Preboot/Cryptexes/OS/Users/jemonat/opt/anaconda3/envs/my-rdkit-env/lib/libssl.1.1.dylib' (no such file), '/Users/jemonat/opt/anaconda3/envs/my-rdkit-env/lib/python3.10/lib-dynload/../../libssl.1.1.dylib' (mach-o file, but is an incompatible architecture (have 'arm64', need 'x86_64')), '/Users/jemonat/opt/anaconda3/envs/my-rdkit-env/lib/libssl.1.1.dylib' (mach-o file, but is an incompatible architecture (have 'arm64', need 'x86_64')), '/System/Volumes/Preboot/Cryptexes/OS/Users/jemonat/opt/anaconda3/envs/my-rdkit-env/lib/libssl.1.1.dylib' (no such file), '/Users/jemonat/opt/anaconda3/envs/my-rdkit-env/bin/../lib/libssl.1.1.dylib' (mach-o file, but is an incompatible architecture (have 'arm64', need 'x86_64')), '/Users/jemonat/opt/anaconda3/envs/my-rdkit-env/lib/libssl.1.1.dylib' (mach-o file, but is an incompatible architecture (have 'arm64', need 'x86_64')), '/System/Volumes/Preboot/Cryptexes/OS/Users/jemonat/opt/anaconda3/envs/my-rdkit-env/lib/libssl.1.1.dylib' (no such file), '/Users/jemonat/opt/anaconda3/envs/my-rdkit-env/bin/../lib/libssl.1.1.dylib' (mach-o file, but is an incompatible architecture (have 'arm64', need 'x86_64')), '/usr/local/lib/libssl.1.1.dylib' (no such file), '/usr/lib/libssl.1.1.dylib' (no such file, not in dyld cache). \n",
      "\u001b[1;31mView Jupyter <a href='command:jupyter.viewOutput'>log</a> for further details."
     ]
    }
   ],
   "source": [
    "fp1"
   ]
  },
  {
   "cell_type": "code",
   "execution_count": null,
   "metadata": {},
   "outputs": [
    {
     "ename": "",
     "evalue": "",
     "output_type": "error",
     "traceback": [
      "\u001b[1;31mFailed to start the Kernel. \n",
      "\u001b[1;31mJupyter server crashed. Unable to connect. \n",
      "\u001b[1;31mError code from Jupyter: 1\n",
      "\u001b[1;31mTraceback (most recent call last):\n",
      "\u001b[1;31m  File \"/Users/jemonat/opt/anaconda3/envs/my-rdkit-env/bin/jupyter-notebook\", line 7, in <module>\n",
      "\u001b[1;31m\n",
      "\u001b[1;31m    from notebook.notebookapp import main\n",
      "\u001b[1;31m  File \"/Users/jemonat/opt/anaconda3/envs/my-rdkit-env/lib/python3.10/site-packages/notebook/notebookapp.py\", line 59, in <module>\n",
      "\u001b[1;31m\n",
      "\u001b[1;31m    from tornado import httpserver\n",
      "\u001b[1;31m  File \"/Users/jemonat/opt/anaconda3/envs/my-rdkit-env/lib/python3.10/site-packages/tornado/httpserver.py\", line 29, in <module>\n",
      "\u001b[1;31m\n",
      "\u001b[1;31m    import ssl\n",
      "\u001b[1;31m  File \"/Users/jemonat/opt/anaconda3/envs/my-rdkit-env/lib/python3.10/ssl.py\", line 98, in <module>\n",
      "\u001b[1;31m\n",
      "\u001b[1;31m    import _ssl             # if we can't import it, let the error propagate\n",
      "\u001b[1;31mImportError: dlopen(/Users/jemonat/opt/anaconda3/envs/my-rdkit-env/lib/python3.10/lib-dynload/_ssl.cpython-310-darwin.so, 0x0002): Library not loaded: @rpath/libssl.1.1.dylib\n",
      "\u001b[1;31m  Referenced from: <9EDE67EB-4BB4-3203-9312-EEF3934CF29C> /Users/jemonat/opt/anaconda3/envs/my-rdkit-env/lib/python3.10/lib-dynload/_ssl.cpython-310-darwin.so\n",
      "\u001b[1;31m  Reason: tried: '/Users/jemonat/opt/anaconda3/envs/my-rdkit-env/lib/libssl.1.1.dylib' (mach-o file, but is an incompatible architecture (have 'arm64', need 'x86_64')), '/System/Volumes/Preboot/Cryptexes/OS/Users/jemonat/opt/anaconda3/envs/my-rdkit-env/lib/libssl.1.1.dylib' (no such file), '/Users/jemonat/opt/anaconda3/envs/my-rdkit-env/lib/libssl.1.1.dylib' (mach-o file, but is an incompatible architecture (have 'arm64', need 'x86_64')), '/System/Volumes/Preboot/Cryptexes/OS/Users/jemonat/opt/anaconda3/envs/my-rdkit-env/lib/libssl.1.1.dylib' (no such file), '/Users/jemonat/opt/anaconda3/envs/my-rdkit-env/lib/python3.10/lib-dynload/../../libssl.1.1.dylib' (mach-o file, but is an incompatible architecture (have 'arm64', need 'x86_64')), '/Users/jemonat/opt/anaconda3/envs/my-rdkit-env/lib/libssl.1.1.dylib' (mach-o file, but is an incompatible architecture (have 'arm64', need 'x86_64')), '/System/Volumes/Preboot/Cryptexes/OS/Users/jemonat/opt/anaconda3/envs/my-rdkit-env/lib/libssl.1.1.dylib' (no such file), '/Users/jemonat/opt/anaconda3/envs/my-rdkit-env/lib/libssl.1.1.dylib' (mach-o file, but is an incompatible architecture (have 'arm64', need 'x86_64')), '/System/Volumes/Preboot/Cryptexes/OS/Users/jemonat/opt/anaconda3/envs/my-rdkit-env/lib/libssl.1.1.dylib' (no such file), '/Users/jemonat/opt/anaconda3/envs/my-rdkit-env/lib/python3.10/lib-dynload/../../libssl.1.1.dylib' (mach-o file, but is an incompatible architecture (have 'arm64', need 'x86_64')), '/Users/jemonat/opt/anaconda3/envs/my-rdkit-env/lib/libssl.1.1.dylib' (mach-o file, but is an incompatible architecture (have 'arm64', need 'x86_64')), '/System/Volumes/Preboot/Cryptexes/OS/Users/jemonat/opt/anaconda3/envs/my-rdkit-env/lib/libssl.1.1.dylib' (no such file), '/Users/jemonat/opt/anaconda3/envs/my-rdkit-env/bin/../lib/libssl.1.1.dylib' (mach-o file, but is an incompatible architecture (have 'arm64', need 'x86_64')), '/Users/jemonat/opt/anaconda3/envs/my-rdkit-env/lib/libssl.1.1.dylib' (mach-o file, but is an incompatible architecture (have 'arm64', need 'x86_64')), '/System/Volumes/Preboot/Cryptexes/OS/Users/jemonat/opt/anaconda3/envs/my-rdkit-env/lib/libssl.1.1.dylib' (no such file), '/Users/jemonat/opt/anaconda3/envs/my-rdkit-env/bin/../lib/libssl.1.1.dylib' (mach-o file, but is an incompatible architecture (have 'arm64', need 'x86_64')), '/System/Volumes/Preboot/Cryptexes/OS@rpath/libssl.1.1.dylib' (no such file), '/Users/jemonat/opt/anaconda3/envs/my-rdkit-env/lib/libssl.1.1.dylib' (mach-o file, but is an incompatible architecture (have 'arm64', need 'x86_64')), '/System/Volumes/Preboot/Cryptexes/OS/Users/jemonat/opt/anaconda3/envs/my-rdkit-env/lib/libssl.1.1.dylib' (no such file), '/Users/jemonat/opt/anaconda3/envs/my-rdkit-env/lib/libssl.1.1.dylib' (mach-o file, but is an incompatible architecture (have 'arm64', need 'x86_64')), '/System/Volumes/Preboot/Cryptexes/OS/Users/jemonat/opt/anaconda3/envs/my-rdkit-env/lib/libssl.1.1.dylib' (no such file), '/Users/jemonat/opt/anaconda3/envs/my-rdkit-env/lib/python3.10/lib-dynload/../../libssl.1.1.dylib' (mach-o file, but is an incompatible architecture (have 'arm64', need 'x86_64')), '/Users/jemonat/opt/anaconda3/envs/my-rdkit-env/lib/libssl.1.1.dylib' (mach-o file, but is an incompatible architecture (have 'arm64', need 'x86_64')), '/System/Volumes/Preboot/Cryptexes/OS/Users/jemonat/opt/anaconda3/envs/my-rdkit-env/lib/libssl.1.1.dylib' (no such file), '/Users/jemonat/opt/anaconda3/envs/my-rdkit-env/lib/libssl.1.1.dylib' (mach-o file, but is an incompatible architecture (have 'arm64', need 'x86_64')), '/System/Volumes/Preboot/Cryptexes/OS/Users/jemonat/opt/anaconda3/envs/my-rdkit-env/lib/libssl.1.1.dylib' (no such file), '/Users/jemonat/opt/anaconda3/envs/my-rdkit-env/lib/python3.10/lib-dynload/../../libssl.1.1.dylib' (mach-o file, but is an incompatible architecture (have 'arm64', need 'x86_64')), '/Users/jemonat/opt/anaconda3/envs/my-rdkit-env/lib/libssl.1.1.dylib' (mach-o file, but is an incompatible architecture (have 'arm64', need 'x86_64')), '/System/Volumes/Preboot/Cryptexes/OS/Users/jemonat/opt/anaconda3/envs/my-rdkit-env/lib/libssl.1.1.dylib' (no such file), '/Users/jemonat/opt/anaconda3/envs/my-rdkit-env/bin/../lib/libssl.1.1.dylib' (mach-o file, but is an incompatible architecture (have 'arm64', need 'x86_64')), '/Users/jemonat/opt/anaconda3/envs/my-rdkit-env/lib/libssl.1.1.dylib' (mach-o file, but is an incompatible architecture (have 'arm64', need 'x86_64')), '/System/Volumes/Preboot/Cryptexes/OS/Users/jemonat/opt/anaconda3/envs/my-rdkit-env/lib/libssl.1.1.dylib' (no such file), '/Users/jemonat/opt/anaconda3/envs/my-rdkit-env/bin/../lib/libssl.1.1.dylib' (mach-o file, but is an incompatible architecture (have 'arm64', need 'x86_64')), '/usr/local/lib/libssl.1.1.dylib' (no such file), '/usr/lib/libssl.1.1.dylib' (no such file, not in dyld cache). \n",
      "\u001b[1;31mView Jupyter <a href='command:jupyter.viewOutput'>log</a> for further details."
     ]
    }
   ],
   "source": [
    "print(DataStructs.TanimotoSimilarity(fp1,fp2))"
   ]
  },
  {
   "cell_type": "code",
   "execution_count": null,
   "metadata": {},
   "outputs": [
    {
     "ename": "",
     "evalue": "",
     "output_type": "error",
     "traceback": [
      "\u001b[1;31mFailed to start the Kernel. \n",
      "\u001b[1;31mJupyter server crashed. Unable to connect. \n",
      "\u001b[1;31mError code from Jupyter: 1\n",
      "\u001b[1;31mTraceback (most recent call last):\n",
      "\u001b[1;31m  File \"/Users/jemonat/opt/anaconda3/envs/my-rdkit-env/bin/jupyter-notebook\", line 7, in <module>\n",
      "\u001b[1;31m\n",
      "\u001b[1;31m    from notebook.notebookapp import main\n",
      "\u001b[1;31m  File \"/Users/jemonat/opt/anaconda3/envs/my-rdkit-env/lib/python3.10/site-packages/notebook/notebookapp.py\", line 59, in <module>\n",
      "\u001b[1;31m\n",
      "\u001b[1;31m    from tornado import httpserver\n",
      "\u001b[1;31m  File \"/Users/jemonat/opt/anaconda3/envs/my-rdkit-env/lib/python3.10/site-packages/tornado/httpserver.py\", line 29, in <module>\n",
      "\u001b[1;31m\n",
      "\u001b[1;31m    import ssl\n",
      "\u001b[1;31m  File \"/Users/jemonat/opt/anaconda3/envs/my-rdkit-env/lib/python3.10/ssl.py\", line 98, in <module>\n",
      "\u001b[1;31m\n",
      "\u001b[1;31m    import _ssl             # if we can't import it, let the error propagate\n",
      "\u001b[1;31mImportError: dlopen(/Users/jemonat/opt/anaconda3/envs/my-rdkit-env/lib/python3.10/lib-dynload/_ssl.cpython-310-darwin.so, 0x0002): Library not loaded: @rpath/libssl.1.1.dylib\n",
      "\u001b[1;31m  Referenced from: <9EDE67EB-4BB4-3203-9312-EEF3934CF29C> /Users/jemonat/opt/anaconda3/envs/my-rdkit-env/lib/python3.10/lib-dynload/_ssl.cpython-310-darwin.so\n",
      "\u001b[1;31m  Reason: tried: '/Users/jemonat/opt/anaconda3/envs/my-rdkit-env/lib/libssl.1.1.dylib' (mach-o file, but is an incompatible architecture (have 'arm64', need 'x86_64')), '/System/Volumes/Preboot/Cryptexes/OS/Users/jemonat/opt/anaconda3/envs/my-rdkit-env/lib/libssl.1.1.dylib' (no such file), '/Users/jemonat/opt/anaconda3/envs/my-rdkit-env/lib/libssl.1.1.dylib' (mach-o file, but is an incompatible architecture (have 'arm64', need 'x86_64')), '/System/Volumes/Preboot/Cryptexes/OS/Users/jemonat/opt/anaconda3/envs/my-rdkit-env/lib/libssl.1.1.dylib' (no such file), '/Users/jemonat/opt/anaconda3/envs/my-rdkit-env/lib/python3.10/lib-dynload/../../libssl.1.1.dylib' (mach-o file, but is an incompatible architecture (have 'arm64', need 'x86_64')), '/Users/jemonat/opt/anaconda3/envs/my-rdkit-env/lib/libssl.1.1.dylib' (mach-o file, but is an incompatible architecture (have 'arm64', need 'x86_64')), '/System/Volumes/Preboot/Cryptexes/OS/Users/jemonat/opt/anaconda3/envs/my-rdkit-env/lib/libssl.1.1.dylib' (no such file), '/Users/jemonat/opt/anaconda3/envs/my-rdkit-env/lib/libssl.1.1.dylib' (mach-o file, but is an incompatible architecture (have 'arm64', need 'x86_64')), '/System/Volumes/Preboot/Cryptexes/OS/Users/jemonat/opt/anaconda3/envs/my-rdkit-env/lib/libssl.1.1.dylib' (no such file), '/Users/jemonat/opt/anaconda3/envs/my-rdkit-env/lib/python3.10/lib-dynload/../../libssl.1.1.dylib' (mach-o file, but is an incompatible architecture (have 'arm64', need 'x86_64')), '/Users/jemonat/opt/anaconda3/envs/my-rdkit-env/lib/libssl.1.1.dylib' (mach-o file, but is an incompatible architecture (have 'arm64', need 'x86_64')), '/System/Volumes/Preboot/Cryptexes/OS/Users/jemonat/opt/anaconda3/envs/my-rdkit-env/lib/libssl.1.1.dylib' (no such file), '/Users/jemonat/opt/anaconda3/envs/my-rdkit-env/bin/../lib/libssl.1.1.dylib' (mach-o file, but is an incompatible architecture (have 'arm64', need 'x86_64')), '/Users/jemonat/opt/anaconda3/envs/my-rdkit-env/lib/libssl.1.1.dylib' (mach-o file, but is an incompatible architecture (have 'arm64', need 'x86_64')), '/System/Volumes/Preboot/Cryptexes/OS/Users/jemonat/opt/anaconda3/envs/my-rdkit-env/lib/libssl.1.1.dylib' (no such file), '/Users/jemonat/opt/anaconda3/envs/my-rdkit-env/bin/../lib/libssl.1.1.dylib' (mach-o file, but is an incompatible architecture (have 'arm64', need 'x86_64')), '/System/Volumes/Preboot/Cryptexes/OS@rpath/libssl.1.1.dylib' (no such file), '/Users/jemonat/opt/anaconda3/envs/my-rdkit-env/lib/libssl.1.1.dylib' (mach-o file, but is an incompatible architecture (have 'arm64', need 'x86_64')), '/System/Volumes/Preboot/Cryptexes/OS/Users/jemonat/opt/anaconda3/envs/my-rdkit-env/lib/libssl.1.1.dylib' (no such file), '/Users/jemonat/opt/anaconda3/envs/my-rdkit-env/lib/libssl.1.1.dylib' (mach-o file, but is an incompatible architecture (have 'arm64', need 'x86_64')), '/System/Volumes/Preboot/Cryptexes/OS/Users/jemonat/opt/anaconda3/envs/my-rdkit-env/lib/libssl.1.1.dylib' (no such file), '/Users/jemonat/opt/anaconda3/envs/my-rdkit-env/lib/python3.10/lib-dynload/../../libssl.1.1.dylib' (mach-o file, but is an incompatible architecture (have 'arm64', need 'x86_64')), '/Users/jemonat/opt/anaconda3/envs/my-rdkit-env/lib/libssl.1.1.dylib' (mach-o file, but is an incompatible architecture (have 'arm64', need 'x86_64')), '/System/Volumes/Preboot/Cryptexes/OS/Users/jemonat/opt/anaconda3/envs/my-rdkit-env/lib/libssl.1.1.dylib' (no such file), '/Users/jemonat/opt/anaconda3/envs/my-rdkit-env/lib/libssl.1.1.dylib' (mach-o file, but is an incompatible architecture (have 'arm64', need 'x86_64')), '/System/Volumes/Preboot/Cryptexes/OS/Users/jemonat/opt/anaconda3/envs/my-rdkit-env/lib/libssl.1.1.dylib' (no such file), '/Users/jemonat/opt/anaconda3/envs/my-rdkit-env/lib/python3.10/lib-dynload/../../libssl.1.1.dylib' (mach-o file, but is an incompatible architecture (have 'arm64', need 'x86_64')), '/Users/jemonat/opt/anaconda3/envs/my-rdkit-env/lib/libssl.1.1.dylib' (mach-o file, but is an incompatible architecture (have 'arm64', need 'x86_64')), '/System/Volumes/Preboot/Cryptexes/OS/Users/jemonat/opt/anaconda3/envs/my-rdkit-env/lib/libssl.1.1.dylib' (no such file), '/Users/jemonat/opt/anaconda3/envs/my-rdkit-env/bin/../lib/libssl.1.1.dylib' (mach-o file, but is an incompatible architecture (have 'arm64', need 'x86_64')), '/Users/jemonat/opt/anaconda3/envs/my-rdkit-env/lib/libssl.1.1.dylib' (mach-o file, but is an incompatible architecture (have 'arm64', need 'x86_64')), '/System/Volumes/Preboot/Cryptexes/OS/Users/jemonat/opt/anaconda3/envs/my-rdkit-env/lib/libssl.1.1.dylib' (no such file), '/Users/jemonat/opt/anaconda3/envs/my-rdkit-env/bin/../lib/libssl.1.1.dylib' (mach-o file, but is an incompatible architecture (have 'arm64', need 'x86_64')), '/usr/local/lib/libssl.1.1.dylib' (no such file), '/usr/lib/libssl.1.1.dylib' (no such file, not in dyld cache). \n",
      "\u001b[1;31mView Jupyter <a href='command:jupyter.viewOutput'>log</a> for further details."
     ]
    }
   ],
   "source": [
    "import itertools\n",
    "fps = (fp1, fp2, fp3)\n",
    "for subset in itertools.combinations(fps, 2):\n",
    "    s = DataStructs.TanimotoSimilarity(subset[0], subset[1])\n",
    "    print(s)"
   ]
  },
  {
   "cell_type": "code",
   "execution_count": null,
   "metadata": {},
   "outputs": [
    {
     "ename": "",
     "evalue": "",
     "output_type": "error",
     "traceback": [
      "\u001b[1;31mFailed to start the Kernel. \n",
      "\u001b[1;31mJupyter server crashed. Unable to connect. \n",
      "\u001b[1;31mError code from Jupyter: 1\n",
      "\u001b[1;31mTraceback (most recent call last):\n",
      "\u001b[1;31m  File \"/Users/jemonat/opt/anaconda3/envs/my-rdkit-env/bin/jupyter-notebook\", line 7, in <module>\n",
      "\u001b[1;31m\n",
      "\u001b[1;31m    from notebook.notebookapp import main\n",
      "\u001b[1;31m  File \"/Users/jemonat/opt/anaconda3/envs/my-rdkit-env/lib/python3.10/site-packages/notebook/notebookapp.py\", line 59, in <module>\n",
      "\u001b[1;31m\n",
      "\u001b[1;31m    from tornado import httpserver\n",
      "\u001b[1;31m  File \"/Users/jemonat/opt/anaconda3/envs/my-rdkit-env/lib/python3.10/site-packages/tornado/httpserver.py\", line 29, in <module>\n",
      "\u001b[1;31m\n",
      "\u001b[1;31m    import ssl\n",
      "\u001b[1;31m  File \"/Users/jemonat/opt/anaconda3/envs/my-rdkit-env/lib/python3.10/ssl.py\", line 98, in <module>\n",
      "\u001b[1;31m\n",
      "\u001b[1;31m    import _ssl             # if we can't import it, let the error propagate\n",
      "\u001b[1;31mImportError: dlopen(/Users/jemonat/opt/anaconda3/envs/my-rdkit-env/lib/python3.10/lib-dynload/_ssl.cpython-310-darwin.so, 0x0002): Library not loaded: @rpath/libssl.1.1.dylib\n",
      "\u001b[1;31m  Referenced from: <9EDE67EB-4BB4-3203-9312-EEF3934CF29C> /Users/jemonat/opt/anaconda3/envs/my-rdkit-env/lib/python3.10/lib-dynload/_ssl.cpython-310-darwin.so\n",
      "\u001b[1;31m  Reason: tried: '/Users/jemonat/opt/anaconda3/envs/my-rdkit-env/lib/libssl.1.1.dylib' (mach-o file, but is an incompatible architecture (have 'arm64', need 'x86_64')), '/System/Volumes/Preboot/Cryptexes/OS/Users/jemonat/opt/anaconda3/envs/my-rdkit-env/lib/libssl.1.1.dylib' (no such file), '/Users/jemonat/opt/anaconda3/envs/my-rdkit-env/lib/libssl.1.1.dylib' (mach-o file, but is an incompatible architecture (have 'arm64', need 'x86_64')), '/System/Volumes/Preboot/Cryptexes/OS/Users/jemonat/opt/anaconda3/envs/my-rdkit-env/lib/libssl.1.1.dylib' (no such file), '/Users/jemonat/opt/anaconda3/envs/my-rdkit-env/lib/python3.10/lib-dynload/../../libssl.1.1.dylib' (mach-o file, but is an incompatible architecture (have 'arm64', need 'x86_64')), '/Users/jemonat/opt/anaconda3/envs/my-rdkit-env/lib/libssl.1.1.dylib' (mach-o file, but is an incompatible architecture (have 'arm64', need 'x86_64')), '/System/Volumes/Preboot/Cryptexes/OS/Users/jemonat/opt/anaconda3/envs/my-rdkit-env/lib/libssl.1.1.dylib' (no such file), '/Users/jemonat/opt/anaconda3/envs/my-rdkit-env/lib/libssl.1.1.dylib' (mach-o file, but is an incompatible architecture (have 'arm64', need 'x86_64')), '/System/Volumes/Preboot/Cryptexes/OS/Users/jemonat/opt/anaconda3/envs/my-rdkit-env/lib/libssl.1.1.dylib' (no such file), '/Users/jemonat/opt/anaconda3/envs/my-rdkit-env/lib/python3.10/lib-dynload/../../libssl.1.1.dylib' (mach-o file, but is an incompatible architecture (have 'arm64', need 'x86_64')), '/Users/jemonat/opt/anaconda3/envs/my-rdkit-env/lib/libssl.1.1.dylib' (mach-o file, but is an incompatible architecture (have 'arm64', need 'x86_64')), '/System/Volumes/Preboot/Cryptexes/OS/Users/jemonat/opt/anaconda3/envs/my-rdkit-env/lib/libssl.1.1.dylib' (no such file), '/Users/jemonat/opt/anaconda3/envs/my-rdkit-env/bin/../lib/libssl.1.1.dylib' (mach-o file, but is an incompatible architecture (have 'arm64', need 'x86_64')), '/Users/jemonat/opt/anaconda3/envs/my-rdkit-env/lib/libssl.1.1.dylib' (mach-o file, but is an incompatible architecture (have 'arm64', need 'x86_64')), '/System/Volumes/Preboot/Cryptexes/OS/Users/jemonat/opt/anaconda3/envs/my-rdkit-env/lib/libssl.1.1.dylib' (no such file), '/Users/jemonat/opt/anaconda3/envs/my-rdkit-env/bin/../lib/libssl.1.1.dylib' (mach-o file, but is an incompatible architecture (have 'arm64', need 'x86_64')), '/System/Volumes/Preboot/Cryptexes/OS@rpath/libssl.1.1.dylib' (no such file), '/Users/jemonat/opt/anaconda3/envs/my-rdkit-env/lib/libssl.1.1.dylib' (mach-o file, but is an incompatible architecture (have 'arm64', need 'x86_64')), '/System/Volumes/Preboot/Cryptexes/OS/Users/jemonat/opt/anaconda3/envs/my-rdkit-env/lib/libssl.1.1.dylib' (no such file), '/Users/jemonat/opt/anaconda3/envs/my-rdkit-env/lib/libssl.1.1.dylib' (mach-o file, but is an incompatible architecture (have 'arm64', need 'x86_64')), '/System/Volumes/Preboot/Cryptexes/OS/Users/jemonat/opt/anaconda3/envs/my-rdkit-env/lib/libssl.1.1.dylib' (no such file), '/Users/jemonat/opt/anaconda3/envs/my-rdkit-env/lib/python3.10/lib-dynload/../../libssl.1.1.dylib' (mach-o file, but is an incompatible architecture (have 'arm64', need 'x86_64')), '/Users/jemonat/opt/anaconda3/envs/my-rdkit-env/lib/libssl.1.1.dylib' (mach-o file, but is an incompatible architecture (have 'arm64', need 'x86_64')), '/System/Volumes/Preboot/Cryptexes/OS/Users/jemonat/opt/anaconda3/envs/my-rdkit-env/lib/libssl.1.1.dylib' (no such file), '/Users/jemonat/opt/anaconda3/envs/my-rdkit-env/lib/libssl.1.1.dylib' (mach-o file, but is an incompatible architecture (have 'arm64', need 'x86_64')), '/System/Volumes/Preboot/Cryptexes/OS/Users/jemonat/opt/anaconda3/envs/my-rdkit-env/lib/libssl.1.1.dylib' (no such file), '/Users/jemonat/opt/anaconda3/envs/my-rdkit-env/lib/python3.10/lib-dynload/../../libssl.1.1.dylib' (mach-o file, but is an incompatible architecture (have 'arm64', need 'x86_64')), '/Users/jemonat/opt/anaconda3/envs/my-rdkit-env/lib/libssl.1.1.dylib' (mach-o file, but is an incompatible architecture (have 'arm64', need 'x86_64')), '/System/Volumes/Preboot/Cryptexes/OS/Users/jemonat/opt/anaconda3/envs/my-rdkit-env/lib/libssl.1.1.dylib' (no such file), '/Users/jemonat/opt/anaconda3/envs/my-rdkit-env/bin/../lib/libssl.1.1.dylib' (mach-o file, but is an incompatible architecture (have 'arm64', need 'x86_64')), '/Users/jemonat/opt/anaconda3/envs/my-rdkit-env/lib/libssl.1.1.dylib' (mach-o file, but is an incompatible architecture (have 'arm64', need 'x86_64')), '/System/Volumes/Preboot/Cryptexes/OS/Users/jemonat/opt/anaconda3/envs/my-rdkit-env/lib/libssl.1.1.dylib' (no such file), '/Users/jemonat/opt/anaconda3/envs/my-rdkit-env/bin/../lib/libssl.1.1.dylib' (mach-o file, but is an incompatible architecture (have 'arm64', need 'x86_64')), '/usr/local/lib/libssl.1.1.dylib' (no such file), '/usr/lib/libssl.1.1.dylib' (no such file, not in dyld cache). \n",
      "\u001b[1;31mView Jupyter <a href='command:jupyter.viewOutput'>log</a> for further details."
     ]
    }
   ],
   "source": [
    "fps_dict = {rxn1: fp1, rxn2: fp2, rxn3: fp3}\n",
    "for subset in itertools.combinations(fps_dict.items(), 2):\n",
    "    # print(subset)\n",
    "    s = DataStructs.TanimotoSimilarity(subset[0][1], subset[1][1])\n",
    "    print(f\"{subset[0][0]} {subset[1][0]} = {s}\")\n",
    "    # print(subset[0][0])\n",
    "    Draw.ReactionToImage(subset[0][0])"
   ]
  },
  {
   "cell_type": "code",
   "execution_count": null,
   "metadata": {},
   "outputs": [
    {
     "ename": "",
     "evalue": "",
     "output_type": "error",
     "traceback": [
      "\u001b[1;31mFailed to start the Kernel. \n",
      "\u001b[1;31mJupyter server crashed. Unable to connect. \n",
      "\u001b[1;31mError code from Jupyter: 1\n",
      "\u001b[1;31mTraceback (most recent call last):\n",
      "\u001b[1;31m  File \"/Users/jemonat/opt/anaconda3/envs/my-rdkit-env/bin/jupyter-notebook\", line 7, in <module>\n",
      "\u001b[1;31m\n",
      "\u001b[1;31m    from notebook.notebookapp import main\n",
      "\u001b[1;31m  File \"/Users/jemonat/opt/anaconda3/envs/my-rdkit-env/lib/python3.10/site-packages/notebook/notebookapp.py\", line 59, in <module>\n",
      "\u001b[1;31m\n",
      "\u001b[1;31m    from tornado import httpserver\n",
      "\u001b[1;31m  File \"/Users/jemonat/opt/anaconda3/envs/my-rdkit-env/lib/python3.10/site-packages/tornado/httpserver.py\", line 29, in <module>\n",
      "\u001b[1;31m\n",
      "\u001b[1;31m    import ssl\n",
      "\u001b[1;31m  File \"/Users/jemonat/opt/anaconda3/envs/my-rdkit-env/lib/python3.10/ssl.py\", line 98, in <module>\n",
      "\u001b[1;31m\n",
      "\u001b[1;31m    import _ssl             # if we can't import it, let the error propagate\n",
      "\u001b[1;31mImportError: dlopen(/Users/jemonat/opt/anaconda3/envs/my-rdkit-env/lib/python3.10/lib-dynload/_ssl.cpython-310-darwin.so, 0x0002): Library not loaded: @rpath/libssl.1.1.dylib\n",
      "\u001b[1;31m  Referenced from: <9EDE67EB-4BB4-3203-9312-EEF3934CF29C> /Users/jemonat/opt/anaconda3/envs/my-rdkit-env/lib/python3.10/lib-dynload/_ssl.cpython-310-darwin.so\n",
      "\u001b[1;31m  Reason: tried: '/Users/jemonat/opt/anaconda3/envs/my-rdkit-env/lib/libssl.1.1.dylib' (mach-o file, but is an incompatible architecture (have 'arm64', need 'x86_64')), '/System/Volumes/Preboot/Cryptexes/OS/Users/jemonat/opt/anaconda3/envs/my-rdkit-env/lib/libssl.1.1.dylib' (no such file), '/Users/jemonat/opt/anaconda3/envs/my-rdkit-env/lib/libssl.1.1.dylib' (mach-o file, but is an incompatible architecture (have 'arm64', need 'x86_64')), '/System/Volumes/Preboot/Cryptexes/OS/Users/jemonat/opt/anaconda3/envs/my-rdkit-env/lib/libssl.1.1.dylib' (no such file), '/Users/jemonat/opt/anaconda3/envs/my-rdkit-env/lib/python3.10/lib-dynload/../../libssl.1.1.dylib' (mach-o file, but is an incompatible architecture (have 'arm64', need 'x86_64')), '/Users/jemonat/opt/anaconda3/envs/my-rdkit-env/lib/libssl.1.1.dylib' (mach-o file, but is an incompatible architecture (have 'arm64', need 'x86_64')), '/System/Volumes/Preboot/Cryptexes/OS/Users/jemonat/opt/anaconda3/envs/my-rdkit-env/lib/libssl.1.1.dylib' (no such file), '/Users/jemonat/opt/anaconda3/envs/my-rdkit-env/lib/libssl.1.1.dylib' (mach-o file, but is an incompatible architecture (have 'arm64', need 'x86_64')), '/System/Volumes/Preboot/Cryptexes/OS/Users/jemonat/opt/anaconda3/envs/my-rdkit-env/lib/libssl.1.1.dylib' (no such file), '/Users/jemonat/opt/anaconda3/envs/my-rdkit-env/lib/python3.10/lib-dynload/../../libssl.1.1.dylib' (mach-o file, but is an incompatible architecture (have 'arm64', need 'x86_64')), '/Users/jemonat/opt/anaconda3/envs/my-rdkit-env/lib/libssl.1.1.dylib' (mach-o file, but is an incompatible architecture (have 'arm64', need 'x86_64')), '/System/Volumes/Preboot/Cryptexes/OS/Users/jemonat/opt/anaconda3/envs/my-rdkit-env/lib/libssl.1.1.dylib' (no such file), '/Users/jemonat/opt/anaconda3/envs/my-rdkit-env/bin/../lib/libssl.1.1.dylib' (mach-o file, but is an incompatible architecture (have 'arm64', need 'x86_64')), '/Users/jemonat/opt/anaconda3/envs/my-rdkit-env/lib/libssl.1.1.dylib' (mach-o file, but is an incompatible architecture (have 'arm64', need 'x86_64')), '/System/Volumes/Preboot/Cryptexes/OS/Users/jemonat/opt/anaconda3/envs/my-rdkit-env/lib/libssl.1.1.dylib' (no such file), '/Users/jemonat/opt/anaconda3/envs/my-rdkit-env/bin/../lib/libssl.1.1.dylib' (mach-o file, but is an incompatible architecture (have 'arm64', need 'x86_64')), '/System/Volumes/Preboot/Cryptexes/OS@rpath/libssl.1.1.dylib' (no such file), '/Users/jemonat/opt/anaconda3/envs/my-rdkit-env/lib/libssl.1.1.dylib' (mach-o file, but is an incompatible architecture (have 'arm64', need 'x86_64')), '/System/Volumes/Preboot/Cryptexes/OS/Users/jemonat/opt/anaconda3/envs/my-rdkit-env/lib/libssl.1.1.dylib' (no such file), '/Users/jemonat/opt/anaconda3/envs/my-rdkit-env/lib/libssl.1.1.dylib' (mach-o file, but is an incompatible architecture (have 'arm64', need 'x86_64')), '/System/Volumes/Preboot/Cryptexes/OS/Users/jemonat/opt/anaconda3/envs/my-rdkit-env/lib/libssl.1.1.dylib' (no such file), '/Users/jemonat/opt/anaconda3/envs/my-rdkit-env/lib/python3.10/lib-dynload/../../libssl.1.1.dylib' (mach-o file, but is an incompatible architecture (have 'arm64', need 'x86_64')), '/Users/jemonat/opt/anaconda3/envs/my-rdkit-env/lib/libssl.1.1.dylib' (mach-o file, but is an incompatible architecture (have 'arm64', need 'x86_64')), '/System/Volumes/Preboot/Cryptexes/OS/Users/jemonat/opt/anaconda3/envs/my-rdkit-env/lib/libssl.1.1.dylib' (no such file), '/Users/jemonat/opt/anaconda3/envs/my-rdkit-env/lib/libssl.1.1.dylib' (mach-o file, but is an incompatible architecture (have 'arm64', need 'x86_64')), '/System/Volumes/Preboot/Cryptexes/OS/Users/jemonat/opt/anaconda3/envs/my-rdkit-env/lib/libssl.1.1.dylib' (no such file), '/Users/jemonat/opt/anaconda3/envs/my-rdkit-env/lib/python3.10/lib-dynload/../../libssl.1.1.dylib' (mach-o file, but is an incompatible architecture (have 'arm64', need 'x86_64')), '/Users/jemonat/opt/anaconda3/envs/my-rdkit-env/lib/libssl.1.1.dylib' (mach-o file, but is an incompatible architecture (have 'arm64', need 'x86_64')), '/System/Volumes/Preboot/Cryptexes/OS/Users/jemonat/opt/anaconda3/envs/my-rdkit-env/lib/libssl.1.1.dylib' (no such file), '/Users/jemonat/opt/anaconda3/envs/my-rdkit-env/bin/../lib/libssl.1.1.dylib' (mach-o file, but is an incompatible architecture (have 'arm64', need 'x86_64')), '/Users/jemonat/opt/anaconda3/envs/my-rdkit-env/lib/libssl.1.1.dylib' (mach-o file, but is an incompatible architecture (have 'arm64', need 'x86_64')), '/System/Volumes/Preboot/Cryptexes/OS/Users/jemonat/opt/anaconda3/envs/my-rdkit-env/lib/libssl.1.1.dylib' (no such file), '/Users/jemonat/opt/anaconda3/envs/my-rdkit-env/bin/../lib/libssl.1.1.dylib' (mach-o file, but is an incompatible architecture (have 'arm64', need 'x86_64')), '/usr/local/lib/libssl.1.1.dylib' (no such file), '/usr/lib/libssl.1.1.dylib' (no such file, not in dyld cache). \n",
      "\u001b[1;31mView Jupyter <a href='command:jupyter.viewOutput'>log</a> for further details."
     ]
    }
   ],
   "source": [
    "Draw.ReactionToImage(rxn1)"
   ]
  }
 ],
 "metadata": {
  "kernelspec": {
   "display_name": "Python 3.10.4",
   "language": "python",
   "name": "python3"
  },
  "language_info": {
   "codemirror_mode": {
    "name": "ipython",
    "version": 3
   },
   "file_extension": ".py",
   "mimetype": "text/x-python",
   "name": "python",
   "nbconvert_exporter": "python",
   "pygments_lexer": "ipython3",
   "version": "3.10.4"
  },
  "orig_nbformat": 4,
  "vscode": {
   "interpreter": {
    "hash": "f8b9e48fa26c0cee807577a4309d1f208b4f08c0094fff1e9a87a3043a77ce60"
   }
  }
 },
 "nbformat": 4,
 "nbformat_minor": 2
}
